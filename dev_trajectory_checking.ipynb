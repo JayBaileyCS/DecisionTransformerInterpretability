{
 "cells": [
  {
   "cell_type": "code",
   "execution_count": 1,
   "metadata": {},
   "outputs": [
    {
     "name": "stdout",
     "output_type": "stream",
     "text": [
      "pygame 2.3.0 (SDL 2.24.2, Python 3.9.15)\n",
      "Hello from the pygame community. https://www.pygame.org/contribute.html\n"
     ]
    },
    {
     "data": {
      "application/vnd.plotly.v1+json": {
       "config": {
        "plotlyServerURL": "https://plot.ly"
       },
       "data": [
        {
         "hovertemplate": "x: %{x}<br>y: %{y}<br>color: [%{z[0]}, %{z[1]}, %{z[2]}]<extra></extra>",
         "name": "0",
         "source": "data:image/png;base64,iVBORw0KGgoAAAANSUhEUgAAAOAAAADgCAIAAACVT/22AAAFeUlEQVR4Xu3dQU4bSRxG8S+juUF8B1hxgWHNDtFXiMZHQApHSCSOwEg5QqPsWDN3gDuYO8yiBWkX2HiMXfWcfr+V8ye2WDxVu9pQfJrP59Hv6+TkpBwdlD/KgURioEIzUKEZqNAMVGgGKjQDFZqBCs1AhWagQjNQoRmo0AxUaAYqNAMVmoEKzUCFZqBCM1ChGajQDFRoBio0AxWagQrNQIVmoEIzUKEZqNAMVGgGKjQDFdqf5WDXDv18SrW190DV3N3dXTnanbOzs3K0U17iheYKqmefky7pnv+5SO6TPnl6+R8NGKiSJH8l82Q2msySLjlNLls26iVeyedXdb6YJdflrCYDVdKtqHMwSy7KWTUGqtH7ziR9cp6cJ/ej4enocV0GqmX/PD+4GQ2PR4/rMlChGaiWfU3yvG168TB6XJe3mZT0o7ehp2+94xy/H63LFVRJnyzK2S+L5LacVWOgSp6SyxWNLpLLclaTgSrJc6P98vAm+dLyY6QYqH55Gt1jGrS7sr8wUKEZqNAMVGjeB1XysxxwuIIKzRVUyfnoMWw1dQUVmoEKzUCFZqBCc5Mk3MZozBVUaK6gWr7NBOMKKjQDFZqBCs33oL+/fZ+QuFc1At33+ZSH/vrlaNcO+vv3Ei+0GivoppDnU6otTKDU8ynVFuMSDz6fUm0xAu1W1DmYtTyfUm1hAn3Rs86nVFuMQMdg51OqLV6g0ggvUNj5lGqLcZup555PqbYYK2i/4uy/QdPzKdUWI1Dw+ZRqixFouOdTqi1MoIGeT6m2SIFKrxio0AxUaIz7oOCDA9SWK6jQGCso+HxKteUKKjQDFZqBCs1AhcbYJLkx0gquoEJjrKDg8ynVliuo0AxUaAYqtE/z+fi3J3fv5OSkHEkbq7FJ2vf5lL7+GhVevxztlJd4oRmo0AxUaAYqtKqBfk2Oypm0To1d/Ivh2KWH5N5feddmqq6gg+NknvxM/nZB1XuqrqCFLumSh6RP/i2+JiVpG+jgOLnyb85ohQaX+DfNki754UZKy9qvoIVhI7VI+uTeBXXyKCtoYZbMkx9upCYPt4IWuueNlHempoke6OA4OU46N1LTA73ES4PDWEG9xE8WPdA+uU8ey7GmAhqot5k0wAU6bINcMjWgBOpHnXpT+0D9YRGt0TLQ3g2Q3tMgUO8ZaXNVA3UDpP+raqDfy4H0Dj/qFJqBCs1AhWagQjNQoXk+qNBq3Gba9/mUh/765WjXDvr79xIvNAMVmoEKzUCFZqBCM1ChGajQDFRoBio0AxWagQrNQIVmoEIzUKEZqNAMVGgGKjQDFZqBCs1AhWagQjNQoRmo0AxUaAYqNAMVmoEKzUCFZqBCM1CheT6o0GqcD6q2PB9U2hcDFZqBCs1AheYmSclR0iWz5DhJ8pAsKH/310Cn7Si5SmbLwyHT02SRfGucqZf4CbtIrl/VOTZLrpOLclyTgU7VRbLhRzTzlo0a6CQdbVznYJ4clbM6DHSSrsrB+7Z4yi4Y6PQcrX3fucqszSJqoNPTlYNNdeWgAgOdni2Wz8HWT/wAA52e4TbnFrZ+4gcYqNAMdHoeysGmtn7iBxjo9CzKwaa2fuIHGOj09OVgU305qMBAp+dxq7Vw0eanRgx0kr6Vg/dt8ZRdMNBJekxuytk6N22WzxjodN1u3OhNclvOqjHQCbtNLte+H10kly3rjD9RP3WPyRd/5UNwj8n3cgbhJV5oBio0AxWagQrNQIW29/NB1dahn8/qCio0AxWagQrNQIVmoEIzUKEZqNAMVGgGKjQDFZqBCs1AhWagQjNQoRmo0AxUaAYqNAMVmoEKzUCFZqBCM1ChGajQDFRoBio0AxWagQrNQIVmoEIzUKEZqND+A6vc0hecZKp+AAAAAElFTkSuQmCC",
         "type": "image",
         "xaxis": "x",
         "yaxis": "y"
        }
       ],
       "layout": {
        "margin": {
         "t": 60
        },
        "template": {
         "data": {
          "bar": [
           {
            "error_x": {
             "color": "#2a3f5f"
            },
            "error_y": {
             "color": "#2a3f5f"
            },
            "marker": {
             "line": {
              "color": "#E5ECF6",
              "width": 0.5
             },
             "pattern": {
              "fillmode": "overlay",
              "size": 10,
              "solidity": 0.2
             }
            },
            "type": "bar"
           }
          ],
          "barpolar": [
           {
            "marker": {
             "line": {
              "color": "#E5ECF6",
              "width": 0.5
             },
             "pattern": {
              "fillmode": "overlay",
              "size": 10,
              "solidity": 0.2
             }
            },
            "type": "barpolar"
           }
          ],
          "carpet": [
           {
            "aaxis": {
             "endlinecolor": "#2a3f5f",
             "gridcolor": "white",
             "linecolor": "white",
             "minorgridcolor": "white",
             "startlinecolor": "#2a3f5f"
            },
            "baxis": {
             "endlinecolor": "#2a3f5f",
             "gridcolor": "white",
             "linecolor": "white",
             "minorgridcolor": "white",
             "startlinecolor": "#2a3f5f"
            },
            "type": "carpet"
           }
          ],
          "choropleth": [
           {
            "colorbar": {
             "outlinewidth": 0,
             "ticks": ""
            },
            "type": "choropleth"
           }
          ],
          "contour": [
           {
            "colorbar": {
             "outlinewidth": 0,
             "ticks": ""
            },
            "colorscale": [
             [
              0,
              "#0d0887"
             ],
             [
              0.1111111111111111,
              "#46039f"
             ],
             [
              0.2222222222222222,
              "#7201a8"
             ],
             [
              0.3333333333333333,
              "#9c179e"
             ],
             [
              0.4444444444444444,
              "#bd3786"
             ],
             [
              0.5555555555555556,
              "#d8576b"
             ],
             [
              0.6666666666666666,
              "#ed7953"
             ],
             [
              0.7777777777777778,
              "#fb9f3a"
             ],
             [
              0.8888888888888888,
              "#fdca26"
             ],
             [
              1,
              "#f0f921"
             ]
            ],
            "type": "contour"
           }
          ],
          "contourcarpet": [
           {
            "colorbar": {
             "outlinewidth": 0,
             "ticks": ""
            },
            "type": "contourcarpet"
           }
          ],
          "heatmap": [
           {
            "colorbar": {
             "outlinewidth": 0,
             "ticks": ""
            },
            "colorscale": [
             [
              0,
              "#0d0887"
             ],
             [
              0.1111111111111111,
              "#46039f"
             ],
             [
              0.2222222222222222,
              "#7201a8"
             ],
             [
              0.3333333333333333,
              "#9c179e"
             ],
             [
              0.4444444444444444,
              "#bd3786"
             ],
             [
              0.5555555555555556,
              "#d8576b"
             ],
             [
              0.6666666666666666,
              "#ed7953"
             ],
             [
              0.7777777777777778,
              "#fb9f3a"
             ],
             [
              0.8888888888888888,
              "#fdca26"
             ],
             [
              1,
              "#f0f921"
             ]
            ],
            "type": "heatmap"
           }
          ],
          "heatmapgl": [
           {
            "colorbar": {
             "outlinewidth": 0,
             "ticks": ""
            },
            "colorscale": [
             [
              0,
              "#0d0887"
             ],
             [
              0.1111111111111111,
              "#46039f"
             ],
             [
              0.2222222222222222,
              "#7201a8"
             ],
             [
              0.3333333333333333,
              "#9c179e"
             ],
             [
              0.4444444444444444,
              "#bd3786"
             ],
             [
              0.5555555555555556,
              "#d8576b"
             ],
             [
              0.6666666666666666,
              "#ed7953"
             ],
             [
              0.7777777777777778,
              "#fb9f3a"
             ],
             [
              0.8888888888888888,
              "#fdca26"
             ],
             [
              1,
              "#f0f921"
             ]
            ],
            "type": "heatmapgl"
           }
          ],
          "histogram": [
           {
            "marker": {
             "pattern": {
              "fillmode": "overlay",
              "size": 10,
              "solidity": 0.2
             }
            },
            "type": "histogram"
           }
          ],
          "histogram2d": [
           {
            "colorbar": {
             "outlinewidth": 0,
             "ticks": ""
            },
            "colorscale": [
             [
              0,
              "#0d0887"
             ],
             [
              0.1111111111111111,
              "#46039f"
             ],
             [
              0.2222222222222222,
              "#7201a8"
             ],
             [
              0.3333333333333333,
              "#9c179e"
             ],
             [
              0.4444444444444444,
              "#bd3786"
             ],
             [
              0.5555555555555556,
              "#d8576b"
             ],
             [
              0.6666666666666666,
              "#ed7953"
             ],
             [
              0.7777777777777778,
              "#fb9f3a"
             ],
             [
              0.8888888888888888,
              "#fdca26"
             ],
             [
              1,
              "#f0f921"
             ]
            ],
            "type": "histogram2d"
           }
          ],
          "histogram2dcontour": [
           {
            "colorbar": {
             "outlinewidth": 0,
             "ticks": ""
            },
            "colorscale": [
             [
              0,
              "#0d0887"
             ],
             [
              0.1111111111111111,
              "#46039f"
             ],
             [
              0.2222222222222222,
              "#7201a8"
             ],
             [
              0.3333333333333333,
              "#9c179e"
             ],
             [
              0.4444444444444444,
              "#bd3786"
             ],
             [
              0.5555555555555556,
              "#d8576b"
             ],
             [
              0.6666666666666666,
              "#ed7953"
             ],
             [
              0.7777777777777778,
              "#fb9f3a"
             ],
             [
              0.8888888888888888,
              "#fdca26"
             ],
             [
              1,
              "#f0f921"
             ]
            ],
            "type": "histogram2dcontour"
           }
          ],
          "mesh3d": [
           {
            "colorbar": {
             "outlinewidth": 0,
             "ticks": ""
            },
            "type": "mesh3d"
           }
          ],
          "parcoords": [
           {
            "line": {
             "colorbar": {
              "outlinewidth": 0,
              "ticks": ""
             }
            },
            "type": "parcoords"
           }
          ],
          "pie": [
           {
            "automargin": true,
            "type": "pie"
           }
          ],
          "scatter": [
           {
            "fillpattern": {
             "fillmode": "overlay",
             "size": 10,
             "solidity": 0.2
            },
            "type": "scatter"
           }
          ],
          "scatter3d": [
           {
            "line": {
             "colorbar": {
              "outlinewidth": 0,
              "ticks": ""
             }
            },
            "marker": {
             "colorbar": {
              "outlinewidth": 0,
              "ticks": ""
             }
            },
            "type": "scatter3d"
           }
          ],
          "scattercarpet": [
           {
            "marker": {
             "colorbar": {
              "outlinewidth": 0,
              "ticks": ""
             }
            },
            "type": "scattercarpet"
           }
          ],
          "scattergeo": [
           {
            "marker": {
             "colorbar": {
              "outlinewidth": 0,
              "ticks": ""
             }
            },
            "type": "scattergeo"
           }
          ],
          "scattergl": [
           {
            "marker": {
             "colorbar": {
              "outlinewidth": 0,
              "ticks": ""
             }
            },
            "type": "scattergl"
           }
          ],
          "scattermapbox": [
           {
            "marker": {
             "colorbar": {
              "outlinewidth": 0,
              "ticks": ""
             }
            },
            "type": "scattermapbox"
           }
          ],
          "scatterpolar": [
           {
            "marker": {
             "colorbar": {
              "outlinewidth": 0,
              "ticks": ""
             }
            },
            "type": "scatterpolar"
           }
          ],
          "scatterpolargl": [
           {
            "marker": {
             "colorbar": {
              "outlinewidth": 0,
              "ticks": ""
             }
            },
            "type": "scatterpolargl"
           }
          ],
          "scatterternary": [
           {
            "marker": {
             "colorbar": {
              "outlinewidth": 0,
              "ticks": ""
             }
            },
            "type": "scatterternary"
           }
          ],
          "surface": [
           {
            "colorbar": {
             "outlinewidth": 0,
             "ticks": ""
            },
            "colorscale": [
             [
              0,
              "#0d0887"
             ],
             [
              0.1111111111111111,
              "#46039f"
             ],
             [
              0.2222222222222222,
              "#7201a8"
             ],
             [
              0.3333333333333333,
              "#9c179e"
             ],
             [
              0.4444444444444444,
              "#bd3786"
             ],
             [
              0.5555555555555556,
              "#d8576b"
             ],
             [
              0.6666666666666666,
              "#ed7953"
             ],
             [
              0.7777777777777778,
              "#fb9f3a"
             ],
             [
              0.8888888888888888,
              "#fdca26"
             ],
             [
              1,
              "#f0f921"
             ]
            ],
            "type": "surface"
           }
          ],
          "table": [
           {
            "cells": {
             "fill": {
              "color": "#EBF0F8"
             },
             "line": {
              "color": "white"
             }
            },
            "header": {
             "fill": {
              "color": "#C8D4E3"
             },
             "line": {
              "color": "white"
             }
            },
            "type": "table"
           }
          ]
         },
         "layout": {
          "annotationdefaults": {
           "arrowcolor": "#2a3f5f",
           "arrowhead": 0,
           "arrowwidth": 1
          },
          "autotypenumbers": "strict",
          "coloraxis": {
           "colorbar": {
            "outlinewidth": 0,
            "ticks": ""
           }
          },
          "colorscale": {
           "diverging": [
            [
             0,
             "#8e0152"
            ],
            [
             0.1,
             "#c51b7d"
            ],
            [
             0.2,
             "#de77ae"
            ],
            [
             0.3,
             "#f1b6da"
            ],
            [
             0.4,
             "#fde0ef"
            ],
            [
             0.5,
             "#f7f7f7"
            ],
            [
             0.6,
             "#e6f5d0"
            ],
            [
             0.7,
             "#b8e186"
            ],
            [
             0.8,
             "#7fbc41"
            ],
            [
             0.9,
             "#4d9221"
            ],
            [
             1,
             "#276419"
            ]
           ],
           "sequential": [
            [
             0,
             "#0d0887"
            ],
            [
             0.1111111111111111,
             "#46039f"
            ],
            [
             0.2222222222222222,
             "#7201a8"
            ],
            [
             0.3333333333333333,
             "#9c179e"
            ],
            [
             0.4444444444444444,
             "#bd3786"
            ],
            [
             0.5555555555555556,
             "#d8576b"
            ],
            [
             0.6666666666666666,
             "#ed7953"
            ],
            [
             0.7777777777777778,
             "#fb9f3a"
            ],
            [
             0.8888888888888888,
             "#fdca26"
            ],
            [
             1,
             "#f0f921"
            ]
           ],
           "sequentialminus": [
            [
             0,
             "#0d0887"
            ],
            [
             0.1111111111111111,
             "#46039f"
            ],
            [
             0.2222222222222222,
             "#7201a8"
            ],
            [
             0.3333333333333333,
             "#9c179e"
            ],
            [
             0.4444444444444444,
             "#bd3786"
            ],
            [
             0.5555555555555556,
             "#d8576b"
            ],
            [
             0.6666666666666666,
             "#ed7953"
            ],
            [
             0.7777777777777778,
             "#fb9f3a"
            ],
            [
             0.8888888888888888,
             "#fdca26"
            ],
            [
             1,
             "#f0f921"
            ]
           ]
          },
          "colorway": [
           "#636efa",
           "#EF553B",
           "#00cc96",
           "#ab63fa",
           "#FFA15A",
           "#19d3f3",
           "#FF6692",
           "#B6E880",
           "#FF97FF",
           "#FECB52"
          ],
          "font": {
           "color": "#2a3f5f"
          },
          "geo": {
           "bgcolor": "white",
           "lakecolor": "white",
           "landcolor": "#E5ECF6",
           "showlakes": true,
           "showland": true,
           "subunitcolor": "white"
          },
          "hoverlabel": {
           "align": "left"
          },
          "hovermode": "closest",
          "mapbox": {
           "style": "light"
          },
          "paper_bgcolor": "white",
          "plot_bgcolor": "#E5ECF6",
          "polar": {
           "angularaxis": {
            "gridcolor": "white",
            "linecolor": "white",
            "ticks": ""
           },
           "bgcolor": "#E5ECF6",
           "radialaxis": {
            "gridcolor": "white",
            "linecolor": "white",
            "ticks": ""
           }
          },
          "scene": {
           "xaxis": {
            "backgroundcolor": "#E5ECF6",
            "gridcolor": "white",
            "gridwidth": 2,
            "linecolor": "white",
            "showbackground": true,
            "ticks": "",
            "zerolinecolor": "white"
           },
           "yaxis": {
            "backgroundcolor": "#E5ECF6",
            "gridcolor": "white",
            "gridwidth": 2,
            "linecolor": "white",
            "showbackground": true,
            "ticks": "",
            "zerolinecolor": "white"
           },
           "zaxis": {
            "backgroundcolor": "#E5ECF6",
            "gridcolor": "white",
            "gridwidth": 2,
            "linecolor": "white",
            "showbackground": true,
            "ticks": "",
            "zerolinecolor": "white"
           }
          },
          "shapedefaults": {
           "line": {
            "color": "#2a3f5f"
           }
          },
          "ternary": {
           "aaxis": {
            "gridcolor": "white",
            "linecolor": "white",
            "ticks": ""
           },
           "baxis": {
            "gridcolor": "white",
            "linecolor": "white",
            "ticks": ""
           },
           "bgcolor": "#E5ECF6",
           "caxis": {
            "gridcolor": "white",
            "linecolor": "white",
            "ticks": ""
           }
          },
          "title": {
           "x": 0.05
          },
          "xaxis": {
           "automargin": true,
           "gridcolor": "white",
           "linecolor": "white",
           "ticks": "",
           "title": {
            "standoff": 15
           },
           "zerolinecolor": "white",
           "zerolinewidth": 2
          },
          "yaxis": {
           "automargin": true,
           "gridcolor": "white",
           "linecolor": "white",
           "ticks": "",
           "title": {
            "standoff": 15
           },
           "zerolinecolor": "white",
           "zerolinewidth": 2
          }
         }
        },
        "xaxis": {
         "anchor": "y",
         "domain": [
          0,
          1
         ]
        },
        "yaxis": {
         "anchor": "x",
         "domain": [
          0,
          1
         ]
        }
       }
      }
     },
     "metadata": {},
     "output_type": "display_data"
    }
   ],
   "source": [
    "import sys\n",
    "\n",
    "import copy\n",
    "import numpy as np \n",
    "import os\n",
    "import pickle\n",
    "\n",
    "import pytest\n",
    "import torch\n",
    "from torch.utils.data import DataLoader, random_split\n",
    "from torch.utils.data.sampler import WeightedRandomSampler\n",
    "\n",
    "from src.config import EnvironmentConfig, OnlineTrainConfig, RunConfig, TransformerModelConfig\n",
    "from src.decision_transformer.offline_dataset import TrajectoryDataset\n",
    "from src.decision_transformer.train import test\n",
    "from src.decision_transformer.eval import evaluate_dt_agent\n",
    "from src.environments.environments import make_env\n",
    "from src.environments.memory import MemoryEnv\n",
    "from src.models.trajectory_transformer import (\n",
    "    CloneTransformer,\n",
    "    DecisionTransformer,\n",
    ")\n",
    "from src.utils.trajectory_sampling import get_filtered_trajectories\n",
    "from src.utils.trajectory_writer import TrajectoryWriter\n",
    "\n",
    "from minigrid.wrappers import ViewSizeWrapper\n",
    "import plotly.express as px \n",
    "\n",
    "env = MemoryEnv(size = 7, random_length=False, random_start_pos=False, max_steps=200, render_mode='rgb_array')\n",
    "env.reset()\n",
    "px.imshow(env.render()).show()"
   ]
  },
  {
   "cell_type": "code",
   "execution_count": 2,
   "metadata": {},
   "outputs": [],
   "source": [
    "environment_config = EnvironmentConfig(\n",
    "    env_id=\"MiniGrid-MemoryS7-v0\",\n",
    "    one_hot_obs=False,\n",
    "    view_size=7,\n",
    "    fully_observed=False,\n",
    "    capture_video=False,\n",
    "    render_mode=\"rgb_array\",\n",
    "    max_steps=1000,\n",
    ")\n",
    "\n",
    "run_config = RunConfig(\n",
    "    exp_name=\"test\",\n",
    "    seed=1,\n",
    "    track=False,\n",
    "    wandb_project_name=\"test\",\n",
    "    wandb_entity=\"test\",\n",
    ")\n",
    "\n",
    "transformer_model_config = TransformerModelConfig(\n",
    "    d_model=128,\n",
    "    n_heads=4,\n",
    "    d_mlp=256,\n",
    "    n_layers=2,\n",
    "    state_embedding_type=\"grid\",  # hard-coded for now to minigrid.\n",
    "    n_ctx=26,  # one timestep of context\n",
    "    device=\"cuda\" if torch.cuda.is_available() else \"cpu\",\n",
    ")\n",
    "\n",
    "online_config = OnlineTrainConfig(\n",
    "    use_trajectory_model=False,\n",
    "    hidden_size=64,\n",
    "    total_timesteps=180000,\n",
    "    learning_rate=0.00025,\n",
    "    decay_lr=False,\n",
    "    num_envs=4,\n",
    "    num_steps=128,\n",
    "    gamma=0.99,\n",
    "    gae_lambda=0.95,\n",
    "    num_minibatches=4,\n",
    "    update_epochs=4,\n",
    "    clip_coef=0.4,\n",
    "    ent_coef=0.2,\n",
    "    vf_coef=0.5,\n",
    "    max_grad_norm=2,\n",
    "    trajectory_path=None,\n",
    "    fully_observed=False,\n",
    "    device=torch.device(\"cpu\"),\n",
    ")\n",
    "\n",
    "dt = DecisionTransformer(\n",
    "        environment_config=environment_config,\n",
    "        transformer_config=copy.deepcopy(transformer_model_config),\n",
    "    )\n",
    "dt.transformer_config.n_ctx = 26"
   ]
  },
  {
   "cell_type": "code",
   "execution_count": 3,
   "metadata": {},
   "outputs": [
    {
     "name": "stderr",
     "output_type": "stream",
     "text": [
      "Evaluating DT: Finished running 8 episodes.Current episodes are at timestep [10, 10, 10, 10, 10, 10, 10, 10] for reward [0. 0. 0. 0. 0. 0. 0. 0.]:   0%|          | 0/50 [00:00<?, ?it/s]c:\\Users\\Jay\\VSProjects\\DTIDockerfile\\DecisionTransformerInterpretability\\src\\decision_transformer\\eval.py:217: UserWarning:\n",
      "\n",
      "Creating a tensor from a list of numpy.ndarrays is extremely slow. Please consider converting the list to a single numpy.ndarray with numpy.array() before converting to a tensor. (Triggered internally at C:\\actions-runner\\_work\\pytorch\\pytorch\\builder\\windows\\pytorch\\torch\\csrc\\utils\\tensor_new.cpp:233.)\n",
      "\n",
      "Evaluating DT: Finished running 24 episodes.Current episodes are at timestep [10, 10, 10, 10, 10, 10, 10, 10] for reward [0. 0. 0. 0. 0. 0. 0. 0.]:   2%|▏         | 1/50 [00:00<00:04,  9.90it/s]"
     ]
    },
    {
     "name": "stdout",
     "output_type": "stream",
     "text": [
      "1 2\n",
      "6 7\n",
      "0 9\n",
      "2 11\n",
      "6 15\n"
     ]
    },
    {
     "name": "stderr",
     "output_type": "stream",
     "text": [
      "Evaluating DT: Finished running 32 episodes.Current episodes are at timestep [8, 8, 8, 8, 8, 8, 8, 8] for reward [0. 0. 0. 0. 0. 0. 0. 0.]:  48%|████▊     | 24/50 [00:00<00:00, 64.88it/s]        "
     ]
    },
    {
     "name": "stdout",
     "output_type": "stream",
     "text": [
      "2 19\n",
      "1 26\n",
      "7 32\n"
     ]
    },
    {
     "name": "stderr",
     "output_type": "stream",
     "text": [
      "Evaluating DT: Finished running 48 episodes.Current episodes are at timestep [6, 6, 6, 6, 6, 6, 6, 6] for reward [0. 0. 0. 0. 0. 0. 0. 0.]:  80%|████████  | 40/50 [00:00<00:00, 69.65it/s]        "
     ]
    },
    {
     "name": "stdout",
     "output_type": "stream",
     "text": [
      "1 34\n",
      "6 39\n",
      "1 42\n",
      "6 47\n"
     ]
    },
    {
     "name": "stderr",
     "output_type": "stream",
     "text": [
      "Evaluating DT: Finished running 56 episodes.Current episodes are at timestep [10, 10, 10, 10, 10, 10, 10, 10] for reward [0. 0. 0. 0. 0. 0. 0. 0.]: 100%|██████████| 50/50 [00:00<00:00, 67.65it/s]"
     ]
    },
    {
     "name": "stdout",
     "output_type": "stream",
     "text": [
      "6 55\n",
      "Writing to tests/tmp/test_trajectories.pkl\n",
      "Trajectory written to tests/tmp/test_trajectories.pkl\n",
      "0 784.0\n",
      "1 682.0\n",
      "2 784.0\n",
      "3 784.0\n",
      "4 1000.0\n",
      "5 1000.0\n",
      "6 682.0\n",
      "7 784.0\n",
      "8 675.0\n",
      "9 784.0\n",
      "10 680.0\n",
      "11 1312.0\n",
      "12 1000.0\n",
      "13 776.0\n",
      "14 677.0\n",
      "15 784.0\n",
      "16 1312.0\n",
      "17 792.0\n",
      "18 675.0\n",
      "19 792.0\n",
      "20 784.0\n",
      "21 1000.0\n",
      "22 1000.0\n",
      "23 784.0\n",
      "24 784.0\n",
      "25 677.0\n",
      "26 1000.0\n",
      "27 1312.0\n",
      "28 1000.0\n",
      "29 1312.0\n",
      "30 776.0\n",
      "31 680.0\n",
      "32 1000.0\n",
      "33 677.0\n",
      "34 776.0\n",
      "35 1000.0\n",
      "36 1000.0\n",
      "37 1000.0\n",
      "38 682.0\n",
      "39 784.0\n",
      "40 1000.0\n",
      "41 682.0\n",
      "42 1320.0\n",
      "43 1320.0\n",
      "44 1320.0\n",
      "45 1312.0\n",
      "46 682.0\n",
      "47 776.0\n",
      "48 1000.0\n",
      "49 1312.0\n",
      "50 1320.0\n",
      "51 1312.0\n",
      "52 1320.0\n",
      "53 1320.0\n",
      "54 680.0\n",
      "55 1312.0\n"
     ]
    },
    {
     "name": "stderr",
     "output_type": "stream",
     "text": [
      "\n"
     ]
    }
   ],
   "source": [
    "trajectory_path = \"tests/tmp/test_trajectories.pkl\"\n",
    "num_trajectories = 50\n",
    "trajectory_shape = num_trajectories if num_trajectories % 8 == 0 else (num_trajectories // 8 + 1) * 8\n",
    "\n",
    "environment_config.max_steps = 10  # speed up test\n",
    "batch = 0\n",
    "eval_env_func = make_env(\n",
    "    environment_config,\n",
    "    seed=batch,\n",
    "    idx=0,\n",
    "    run_name=f\"dt_eval_videos_{batch}\",\n",
    ")\n",
    "\n",
    "trajectory_writer = TrajectoryWriter(\n",
    "    path=trajectory_path,\n",
    "    run_config=run_config,\n",
    "    environment_config=environment_config,\n",
    "    online_config=online_config,\n",
    "    model_config=None,\n",
    ")\n",
    "\n",
    "statistics = evaluate_dt_agent(\n",
    "    env_id=environment_config.env_id,\n",
    "    model=dt,\n",
    "    env_func=eval_env_func,\n",
    "    track=False,\n",
    "    initial_rtg=1,\n",
    "    trajectories=num_trajectories,\n",
    "    device=\"cuda\" if torch.cuda.is_available() else \"cpu\",\n",
    "    trajectory_writer=trajectory_writer\n",
    ")"
   ]
  },
  {
   "cell_type": "code",
   "execution_count": 5,
   "metadata": {},
   "outputs": [
    {
     "name": "stdout",
     "output_type": "stream",
     "text": [
      "(56, 8, 1)\n"
     ]
    },
    {
     "ename": "IndexError",
     "evalue": "index -1 is out of bounds for dimension 0 with size 0",
     "output_type": "error",
     "traceback": [
      "\u001b[1;31m---------------------------------------------------------------------------\u001b[0m",
      "\u001b[1;31mIndexError\u001b[0m                                Traceback (most recent call last)",
      "Cell \u001b[1;32mIn[5], line 11\u001b[0m\n\u001b[0;32m      8\u001b[0m \u001b[39mfrom\u001b[39;00m \u001b[39msrc\u001b[39;00m\u001b[39m.\u001b[39;00m\u001b[39mvisualization\u001b[39;00m \u001b[39mimport\u001b[39;00m render_minigrid_observations\n\u001b[0;32m     10\u001b[0m \u001b[39mfor\u001b[39;00m i \u001b[39min\u001b[39;00m \u001b[39mrange\u001b[39m(\u001b[39mlen\u001b[39m(dataset)):\n\u001b[1;32m---> 11\u001b[0m     s, a, r, d, rtg, ti, m \u001b[39m=\u001b[39m dataset[i]\n\u001b[0;32m     12\u001b[0m     \u001b[39mif\u001b[39;00m torch\u001b[39m.\u001b[39msum(s[:\u001b[39m-\u001b[39m\u001b[39m1\u001b[39m]) \u001b[39m!=\u001b[39m \u001b[39m0\u001b[39m: \u001b[39m# If all observations other than the final ones are zeros.\u001b[39;00m\n\u001b[0;32m     13\u001b[0m         \u001b[39mprint\u001b[39m(i)\n",
      "File \u001b[1;32mc:\\Users\\Jay\\VSProjects\\DTIDockerfile\\DecisionTransformerInterpretability\\src\\decision_transformer\\offline_dataset.py:347\u001b[0m, in \u001b[0;36mTrajectoryDataset.__getitem__\u001b[1;34m(self, idx)\u001b[0m\n\u001b[0;32m    345\u001b[0m \u001b[39mdef\u001b[39;00m \u001b[39m__getitem__\u001b[39m(\u001b[39mself\u001b[39m, idx):\n\u001b[0;32m    346\u001b[0m     traj_index \u001b[39m=\u001b[39m \u001b[39mself\u001b[39m\u001b[39m.\u001b[39mindices[idx]\n\u001b[1;32m--> 347\u001b[0m     s, a, r, d, rtg, ti, m \u001b[39m=\u001b[39m \u001b[39mself\u001b[39;49m\u001b[39m.\u001b[39;49mget_traj(\n\u001b[0;32m    348\u001b[0m         traj_index,\n\u001b[0;32m    349\u001b[0m         max_len\u001b[39m=\u001b[39;49m\u001b[39mself\u001b[39;49m\u001b[39m.\u001b[39;49mmax_len,\n\u001b[0;32m    350\u001b[0m         prob_go_from_end\u001b[39m=\u001b[39;49m\u001b[39mself\u001b[39;49m\u001b[39m.\u001b[39;49mprob_go_from_end,\n\u001b[0;32m    351\u001b[0m     )\n\u001b[0;32m    352\u001b[0m     \u001b[39mif\u001b[39;00m \u001b[39mself\u001b[39m\u001b[39m.\u001b[39mpreprocess_observations \u001b[39mis\u001b[39;00m \u001b[39mnot\u001b[39;00m \u001b[39mNone\u001b[39;00m:\n\u001b[0;32m    353\u001b[0m         s \u001b[39m=\u001b[39m \u001b[39mself\u001b[39m\u001b[39m.\u001b[39mpreprocess_observations(s)\n",
      "File \u001b[1;32mc:\\Users\\Jay\\VSProjects\\DTIDockerfile\\DecisionTransformerInterpretability\\src\\decision_transformer\\offline_dataset.py:245\u001b[0m, in \u001b[0;36mTrajectoryDataset.get_traj\u001b[1;34m(self, traj_index, max_len, prob_go_from_end)\u001b[0m\n\u001b[0;32m    241\u001b[0m traj_dones \u001b[39m=\u001b[39m \u001b[39mself\u001b[39m\u001b[39m.\u001b[39mdones[traj_index]\n\u001b[0;32m    243\u001b[0m \u001b[39m# TODO: configure this so non-sparse tasks are dealt with correctly!\u001b[39;00m\n\u001b[0;32m    244\u001b[0m \u001b[39m# This line is very slow if we use the \"correct method\"\u001b[39;00m\n\u001b[1;32m--> 245\u001b[0m traj_rtg \u001b[39m=\u001b[39m np\u001b[39m.\u001b[39mones(traj_rewards\u001b[39m.\u001b[39mshape) \u001b[39m*\u001b[39m traj_rewards[\u001b[39m-\u001b[39;49m\u001b[39m1\u001b[39;49m]\u001b[39m.\u001b[39mitem()\n\u001b[0;32m    247\u001b[0m \u001b[39m# \"Correct method\"\u001b[39;00m\n\u001b[0;32m    248\u001b[0m \u001b[39m# traj_rtg = self.discount_cumsum(traj_rewards, gamma=1.0)\u001b[39;00m\n\u001b[0;32m    249\u001b[0m \n\u001b[0;32m    250\u001b[0m \u001b[39m# start index\u001b[39;00m\n\u001b[0;32m    251\u001b[0m si \u001b[39m=\u001b[39m random\u001b[39m.\u001b[39mrandint(\u001b[39m0\u001b[39m, traj_rewards\u001b[39m.\u001b[39mshape[\u001b[39m0\u001b[39m] \u001b[39m-\u001b[39m \u001b[39m1\u001b[39m)\n",
      "\u001b[1;31mIndexError\u001b[0m: index -1 is out of bounds for dimension 0 with size 0"
     ]
    }
   ],
   "source": [
    "import sys \n",
    "sys.path.append('..')\n",
    "from src.decision_transformer.offline_dataset import TrajectoryDataset\n",
    "\n",
    "print(np.array(trajectory_writer.actions).shape)\n",
    "dataset = TrajectoryDataset(trajectory_path, max_len = 10, prob_go_from_end=1, pct_traj=100)\n",
    "\n",
    "from src.visualization import render_minigrid_observations\n",
    "\n",
    "for i in range(len(dataset)):\n",
    "    s, a, r, d, rtg, ti, m = dataset[i]\n",
    "    if torch.sum(s[:-1]) != 0: # If all observations other than the final ones are zeros.\n",
    "        print(i)\n",
    "        px.imshow(render_minigrid_observations(env, s), animation_frame=0).show()"
   ]
  },
  {
   "cell_type": "code",
   "execution_count": null,
   "metadata": {},
   "outputs": [],
   "source": []
  },
  {
   "cell_type": "code",
   "execution_count": null,
   "metadata": {},
   "outputs": [],
   "source": []
  }
 ],
 "metadata": {
  "kernelspec": {
   "display_name": "Python 3",
   "language": "python",
   "name": "python3"
  },
  "language_info": {
   "codemirror_mode": {
    "name": "ipython",
    "version": 3
   },
   "file_extension": ".py",
   "mimetype": "text/x-python",
   "name": "python",
   "nbconvert_exporter": "python",
   "pygments_lexer": "ipython3",
   "version": "3.9.15"
  },
  "orig_nbformat": 4
 },
 "nbformat": 4,
 "nbformat_minor": 2
}
