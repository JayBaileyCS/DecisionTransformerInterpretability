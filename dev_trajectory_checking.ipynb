{
 "cells": [
  {
   "cell_type": "code",
   "execution_count": 1,
   "metadata": {},
   "outputs": [
    {
     "name": "stdout",
     "output_type": "stream",
     "text": [
      "pygame 2.3.0 (SDL 2.24.2, Python 3.9.15)\n",
      "Hello from the pygame community. https://www.pygame.org/contribute.html\n"
     ]
    },
    {
     "data": {
      "application/vnd.plotly.v1+json": {
       "config": {
        "plotlyServerURL": "https://plot.ly"
       },
       "data": [
        {
         "hovertemplate": "x: %{x}<br>y: %{y}<br>color: [%{z[0]}, %{z[1]}, %{z[2]}]<extra></extra>",
         "name": "0",
         "source": "data:image/png;base64,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",
         "type": "image",
         "xaxis": "x",
         "yaxis": "y"
        }
       ],
       "layout": {
        "margin": {
         "t": 60
        },
        "template": {
         "data": {
          "bar": [
           {
            "error_x": {
             "color": "#2a3f5f"
            },
            "error_y": {
             "color": "#2a3f5f"
            },
            "marker": {
             "line": {
              "color": "#E5ECF6",
              "width": 0.5
             },
             "pattern": {
              "fillmode": "overlay",
              "size": 10,
              "solidity": 0.2
             }
            },
            "type": "bar"
           }
          ],
          "barpolar": [
           {
            "marker": {
             "line": {
              "color": "#E5ECF6",
              "width": 0.5
             },
             "pattern": {
              "fillmode": "overlay",
              "size": 10,
              "solidity": 0.2
             }
            },
            "type": "barpolar"
           }
          ],
          "carpet": [
           {
            "aaxis": {
             "endlinecolor": "#2a3f5f",
             "gridcolor": "white",
             "linecolor": "white",
             "minorgridcolor": "white",
             "startlinecolor": "#2a3f5f"
            },
            "baxis": {
             "endlinecolor": "#2a3f5f",
             "gridcolor": "white",
             "linecolor": "white",
             "minorgridcolor": "white",
             "startlinecolor": "#2a3f5f"
            },
            "type": "carpet"
           }
          ],
          "choropleth": [
           {
            "colorbar": {
             "outlinewidth": 0,
             "ticks": ""
            },
            "type": "choropleth"
           }
          ],
          "contour": [
           {
            "colorbar": {
             "outlinewidth": 0,
             "ticks": ""
            },
            "colorscale": [
             [
              0,
              "#0d0887"
             ],
             [
              0.1111111111111111,
              "#46039f"
             ],
             [
              0.2222222222222222,
              "#7201a8"
             ],
             [
              0.3333333333333333,
              "#9c179e"
             ],
             [
              0.4444444444444444,
              "#bd3786"
             ],
             [
              0.5555555555555556,
              "#d8576b"
             ],
             [
              0.6666666666666666,
              "#ed7953"
             ],
             [
              0.7777777777777778,
              "#fb9f3a"
             ],
             [
              0.8888888888888888,
              "#fdca26"
             ],
             [
              1,
              "#f0f921"
             ]
            ],
            "type": "contour"
           }
          ],
          "contourcarpet": [
           {
            "colorbar": {
             "outlinewidth": 0,
             "ticks": ""
            },
            "type": "contourcarpet"
           }
          ],
          "heatmap": [
           {
            "colorbar": {
             "outlinewidth": 0,
             "ticks": ""
            },
            "colorscale": [
             [
              0,
              "#0d0887"
             ],
             [
              0.1111111111111111,
              "#46039f"
             ],
             [
              0.2222222222222222,
              "#7201a8"
             ],
             [
              0.3333333333333333,
              "#9c179e"
             ],
             [
              0.4444444444444444,
              "#bd3786"
             ],
             [
              0.5555555555555556,
              "#d8576b"
             ],
             [
              0.6666666666666666,
              "#ed7953"
             ],
             [
              0.7777777777777778,
              "#fb9f3a"
             ],
             [
              0.8888888888888888,
              "#fdca26"
             ],
             [
              1,
              "#f0f921"
             ]
            ],
            "type": "heatmap"
           }
          ],
          "heatmapgl": [
           {
            "colorbar": {
             "outlinewidth": 0,
             "ticks": ""
            },
            "colorscale": [
             [
              0,
              "#0d0887"
             ],
             [
              0.1111111111111111,
              "#46039f"
             ],
             [
              0.2222222222222222,
              "#7201a8"
             ],
             [
              0.3333333333333333,
              "#9c179e"
             ],
             [
              0.4444444444444444,
              "#bd3786"
             ],
             [
              0.5555555555555556,
              "#d8576b"
             ],
             [
              0.6666666666666666,
              "#ed7953"
             ],
             [
              0.7777777777777778,
              "#fb9f3a"
             ],
             [
              0.8888888888888888,
              "#fdca26"
             ],
             [
              1,
              "#f0f921"
             ]
            ],
            "type": "heatmapgl"
           }
          ],
          "histogram": [
           {
            "marker": {
             "pattern": {
              "fillmode": "overlay",
              "size": 10,
              "solidity": 0.2
             }
            },
            "type": "histogram"
           }
          ],
          "histogram2d": [
           {
            "colorbar": {
             "outlinewidth": 0,
             "ticks": ""
            },
            "colorscale": [
             [
              0,
              "#0d0887"
             ],
             [
              0.1111111111111111,
              "#46039f"
             ],
             [
              0.2222222222222222,
              "#7201a8"
             ],
             [
              0.3333333333333333,
              "#9c179e"
             ],
             [
              0.4444444444444444,
              "#bd3786"
             ],
             [
              0.5555555555555556,
              "#d8576b"
             ],
             [
              0.6666666666666666,
              "#ed7953"
             ],
             [
              0.7777777777777778,
              "#fb9f3a"
             ],
             [
              0.8888888888888888,
              "#fdca26"
             ],
             [
              1,
              "#f0f921"
             ]
            ],
            "type": "histogram2d"
           }
          ],
          "histogram2dcontour": [
           {
            "colorbar": {
             "outlinewidth": 0,
             "ticks": ""
            },
            "colorscale": [
             [
              0,
              "#0d0887"
             ],
             [
              0.1111111111111111,
              "#46039f"
             ],
             [
              0.2222222222222222,
              "#7201a8"
             ],
             [
              0.3333333333333333,
              "#9c179e"
             ],
             [
              0.4444444444444444,
              "#bd3786"
             ],
             [
              0.5555555555555556,
              "#d8576b"
             ],
             [
              0.6666666666666666,
              "#ed7953"
             ],
             [
              0.7777777777777778,
              "#fb9f3a"
             ],
             [
              0.8888888888888888,
              "#fdca26"
             ],
             [
              1,
              "#f0f921"
             ]
            ],
            "type": "histogram2dcontour"
           }
          ],
          "mesh3d": [
           {
            "colorbar": {
             "outlinewidth": 0,
             "ticks": ""
            },
            "type": "mesh3d"
           }
          ],
          "parcoords": [
           {
            "line": {
             "colorbar": {
              "outlinewidth": 0,
              "ticks": ""
             }
            },
            "type": "parcoords"
           }
          ],
          "pie": [
           {
            "automargin": true,
            "type": "pie"
           }
          ],
          "scatter": [
           {
            "fillpattern": {
             "fillmode": "overlay",
             "size": 10,
             "solidity": 0.2
            },
            "type": "scatter"
           }
          ],
          "scatter3d": [
           {
            "line": {
             "colorbar": {
              "outlinewidth": 0,
              "ticks": ""
             }
            },
            "marker": {
             "colorbar": {
              "outlinewidth": 0,
              "ticks": ""
             }
            },
            "type": "scatter3d"
           }
          ],
          "scattercarpet": [
           {
            "marker": {
             "colorbar": {
              "outlinewidth": 0,
              "ticks": ""
             }
            },
            "type": "scattercarpet"
           }
          ],
          "scattergeo": [
           {
            "marker": {
             "colorbar": {
              "outlinewidth": 0,
              "ticks": ""
             }
            },
            "type": "scattergeo"
           }
          ],
          "scattergl": [
           {
            "marker": {
             "colorbar": {
              "outlinewidth": 0,
              "ticks": ""
             }
            },
            "type": "scattergl"
           }
          ],
          "scattermapbox": [
           {
            "marker": {
             "colorbar": {
              "outlinewidth": 0,
              "ticks": ""
             }
            },
            "type": "scattermapbox"
           }
          ],
          "scatterpolar": [
           {
            "marker": {
             "colorbar": {
              "outlinewidth": 0,
              "ticks": ""
             }
            },
            "type": "scatterpolar"
           }
          ],
          "scatterpolargl": [
           {
            "marker": {
             "colorbar": {
              "outlinewidth": 0,
              "ticks": ""
             }
            },
            "type": "scatterpolargl"
           }
          ],
          "scatterternary": [
           {
            "marker": {
             "colorbar": {
              "outlinewidth": 0,
              "ticks": ""
             }
            },
            "type": "scatterternary"
           }
          ],
          "surface": [
           {
            "colorbar": {
             "outlinewidth": 0,
             "ticks": ""
            },
            "colorscale": [
             [
              0,
              "#0d0887"
             ],
             [
              0.1111111111111111,
              "#46039f"
             ],
             [
              0.2222222222222222,
              "#7201a8"
             ],
             [
              0.3333333333333333,
              "#9c179e"
             ],
             [
              0.4444444444444444,
              "#bd3786"
             ],
             [
              0.5555555555555556,
              "#d8576b"
             ],
             [
              0.6666666666666666,
              "#ed7953"
             ],
             [
              0.7777777777777778,
              "#fb9f3a"
             ],
             [
              0.8888888888888888,
              "#fdca26"
             ],
             [
              1,
              "#f0f921"
             ]
            ],
            "type": "surface"
           }
          ],
          "table": [
           {
            "cells": {
             "fill": {
              "color": "#EBF0F8"
             },
             "line": {
              "color": "white"
             }
            },
            "header": {
             "fill": {
              "color": "#C8D4E3"
             },
             "line": {
              "color": "white"
             }
            },
            "type": "table"
           }
          ]
         },
         "layout": {
          "annotationdefaults": {
           "arrowcolor": "#2a3f5f",
           "arrowhead": 0,
           "arrowwidth": 1
          },
          "autotypenumbers": "strict",
          "coloraxis": {
           "colorbar": {
            "outlinewidth": 0,
            "ticks": ""
           }
          },
          "colorscale": {
           "diverging": [
            [
             0,
             "#8e0152"
            ],
            [
             0.1,
             "#c51b7d"
            ],
            [
             0.2,
             "#de77ae"
            ],
            [
             0.3,
             "#f1b6da"
            ],
            [
             0.4,
             "#fde0ef"
            ],
            [
             0.5,
             "#f7f7f7"
            ],
            [
             0.6,
             "#e6f5d0"
            ],
            [
             0.7,
             "#b8e186"
            ],
            [
             0.8,
             "#7fbc41"
            ],
            [
             0.9,
             "#4d9221"
            ],
            [
             1,
             "#276419"
            ]
           ],
           "sequential": [
            [
             0,
             "#0d0887"
            ],
            [
             0.1111111111111111,
             "#46039f"
            ],
            [
             0.2222222222222222,
             "#7201a8"
            ],
            [
             0.3333333333333333,
             "#9c179e"
            ],
            [
             0.4444444444444444,
             "#bd3786"
            ],
            [
             0.5555555555555556,
             "#d8576b"
            ],
            [
             0.6666666666666666,
             "#ed7953"
            ],
            [
             0.7777777777777778,
             "#fb9f3a"
            ],
            [
             0.8888888888888888,
             "#fdca26"
            ],
            [
             1,
             "#f0f921"
            ]
           ],
           "sequentialminus": [
            [
             0,
             "#0d0887"
            ],
            [
             0.1111111111111111,
             "#46039f"
            ],
            [
             0.2222222222222222,
             "#7201a8"
            ],
            [
             0.3333333333333333,
             "#9c179e"
            ],
            [
             0.4444444444444444,
             "#bd3786"
            ],
            [
             0.5555555555555556,
             "#d8576b"
            ],
            [
             0.6666666666666666,
             "#ed7953"
            ],
            [
             0.7777777777777778,
             "#fb9f3a"
            ],
            [
             0.8888888888888888,
             "#fdca26"
            ],
            [
             1,
             "#f0f921"
            ]
           ]
          },
          "colorway": [
           "#636efa",
           "#EF553B",
           "#00cc96",
           "#ab63fa",
           "#FFA15A",
           "#19d3f3",
           "#FF6692",
           "#B6E880",
           "#FF97FF",
           "#FECB52"
          ],
          "font": {
           "color": "#2a3f5f"
          },
          "geo": {
           "bgcolor": "white",
           "lakecolor": "white",
           "landcolor": "#E5ECF6",
           "showlakes": true,
           "showland": true,
           "subunitcolor": "white"
          },
          "hoverlabel": {
           "align": "left"
          },
          "hovermode": "closest",
          "mapbox": {
           "style": "light"
          },
          "paper_bgcolor": "white",
          "plot_bgcolor": "#E5ECF6",
          "polar": {
           "angularaxis": {
            "gridcolor": "white",
            "linecolor": "white",
            "ticks": ""
           },
           "bgcolor": "#E5ECF6",
           "radialaxis": {
            "gridcolor": "white",
            "linecolor": "white",
            "ticks": ""
           }
          },
          "scene": {
           "xaxis": {
            "backgroundcolor": "#E5ECF6",
            "gridcolor": "white",
            "gridwidth": 2,
            "linecolor": "white",
            "showbackground": true,
            "ticks": "",
            "zerolinecolor": "white"
           },
           "yaxis": {
            "backgroundcolor": "#E5ECF6",
            "gridcolor": "white",
            "gridwidth": 2,
            "linecolor": "white",
            "showbackground": true,
            "ticks": "",
            "zerolinecolor": "white"
           },
           "zaxis": {
            "backgroundcolor": "#E5ECF6",
            "gridcolor": "white",
            "gridwidth": 2,
            "linecolor": "white",
            "showbackground": true,
            "ticks": "",
            "zerolinecolor": "white"
           }
          },
          "shapedefaults": {
           "line": {
            "color": "#2a3f5f"
           }
          },
          "ternary": {
           "aaxis": {
            "gridcolor": "white",
            "linecolor": "white",
            "ticks": ""
           },
           "baxis": {
            "gridcolor": "white",
            "linecolor": "white",
            "ticks": ""
           },
           "bgcolor": "#E5ECF6",
           "caxis": {
            "gridcolor": "white",
            "linecolor": "white",
            "ticks": ""
           }
          },
          "title": {
           "x": 0.05
          },
          "xaxis": {
           "automargin": true,
           "gridcolor": "white",
           "linecolor": "white",
           "ticks": "",
           "title": {
            "standoff": 15
           },
           "zerolinecolor": "white",
           "zerolinewidth": 2
          },
          "yaxis": {
           "automargin": true,
           "gridcolor": "white",
           "linecolor": "white",
           "ticks": "",
           "title": {
            "standoff": 15
           },
           "zerolinecolor": "white",
           "zerolinewidth": 2
          }
         }
        },
        "xaxis": {
         "anchor": "y",
         "domain": [
          0,
          1
         ]
        },
        "yaxis": {
         "anchor": "x",
         "domain": [
          0,
          1
         ]
        }
       }
      }
     },
     "metadata": {},
     "output_type": "display_data"
    }
   ],
   "source": [
    "import sys\n",
    "\n",
    "import copy\n",
    "import numpy as np \n",
    "import os\n",
    "import pickle\n",
    "\n",
    "import pytest\n",
    "import torch\n",
    "from torch.utils.data import DataLoader, random_split\n",
    "from torch.utils.data.sampler import WeightedRandomSampler\n",
    "\n",
    "from src.config import EnvironmentConfig, OnlineTrainConfig, RunConfig, TransformerModelConfig\n",
    "from src.decision_transformer.offline_dataset import TrajectoryDataset\n",
    "from src.decision_transformer.train import test\n",
    "from src.decision_transformer.eval import evaluate_dt_agent\n",
    "from src.environments.environments import make_env\n",
    "from src.environments.memory import MemoryEnv\n",
    "from src.models.trajectory_transformer import (\n",
    "    CloneTransformer,\n",
    "    DecisionTransformer,\n",
    ")\n",
    "from src.utils.trajectory_sampling import get_filtered_trajectories\n",
    "from src.utils.trajectory_writer import TrajectoryWriter\n",
    "\n",
    "from minigrid.wrappers import ViewSizeWrapper\n",
    "import plotly.express as px \n",
    "\n",
    "env = MemoryEnv(size = 7, random_length=False, random_start_pos=False, max_steps=200, render_mode='rgb_array')\n",
    "env.reset()\n",
    "px.imshow(env.render()).show()"
   ]
  },
  {
   "cell_type": "code",
   "execution_count": 2,
   "metadata": {},
   "outputs": [],
   "source": [
    "environment_config = EnvironmentConfig(\n",
    "    env_id=\"MiniGrid-MemoryS7-v0\",\n",
    "    one_hot_obs=False,\n",
    "    view_size=7,\n",
    "    fully_observed=False,\n",
    "    capture_video=False,\n",
    "    render_mode=\"rgb_array\",\n",
    "    max_steps=1000,\n",
    ")\n",
    "\n",
    "run_config = RunConfig(\n",
    "    exp_name=\"test\",\n",
    "    seed=1,\n",
    "    track=False,\n",
    "    wandb_project_name=\"test\",\n",
    "    wandb_entity=\"test\",\n",
    ")\n",
    "\n",
    "transformer_model_config = TransformerModelConfig(\n",
    "    d_model=128,\n",
    "    n_heads=4,\n",
    "    d_mlp=256,\n",
    "    n_layers=2,\n",
    "    state_embedding_type=\"grid\",  # hard-coded for now to minigrid.\n",
    "    n_ctx=26,  # one timestep of context\n",
    "    device=\"cuda\" if torch.cuda.is_available() else \"cpu\",\n",
    ")\n",
    "\n",
    "online_config = OnlineTrainConfig(\n",
    "    use_trajectory_model=False,\n",
    "    hidden_size=64,\n",
    "    total_timesteps=180000,\n",
    "    learning_rate=0.00025,\n",
    "    decay_lr=False,\n",
    "    num_envs=4,\n",
    "    num_steps=128,\n",
    "    gamma=0.99,\n",
    "    gae_lambda=0.95,\n",
    "    num_minibatches=4,\n",
    "    update_epochs=4,\n",
    "    clip_coef=0.4,\n",
    "    ent_coef=0.2,\n",
    "    vf_coef=0.5,\n",
    "    max_grad_norm=2,\n",
    "    trajectory_path=None,\n",
    "    fully_observed=False,\n",
    "    device=torch.device(\"cpu\"),\n",
    ")\n",
    "\n",
    "dt = DecisionTransformer(\n",
    "        environment_config=environment_config,\n",
    "        transformer_config=copy.deepcopy(transformer_model_config),\n",
    "    )\n",
    "dt.transformer_config.n_ctx = 26"
   ]
  },
  {
   "cell_type": "code",
   "execution_count": 3,
   "metadata": {},
   "outputs": [
    {
     "name": "stderr",
     "output_type": "stream",
     "text": [
      "Evaluating DT:   0%|          | 0/50 [00:00<?, ?it/s]"
     ]
    },
    {
     "name": "stderr",
     "output_type": "stream",
     "text": [
      "Evaluating DT: Finished running 8 episodes.Current episodes are at timestep [10, 10, 10, 10, 10, 10, 10, 10] for reward [0. 0. 0. 0. 0. 0. 0. 0.]:   0%|          | 0/50 [00:00<?, ?it/s]c:\\Users\\Jay\\VSProjects\\DTIDockerfile\\DecisionTransformerInterpretability\\src\\decision_transformer\\eval.py:222: UserWarning:\n",
      "\n",
      "Creating a tensor from a list of numpy.ndarrays is extremely slow. Please consider converting the list to a single numpy.ndarray with numpy.array() before converting to a tensor. (Triggered internally at C:\\actions-runner\\_work\\pytorch\\pytorch\\builder\\windows\\pytorch\\torch\\csrc\\utils\\tensor_new.cpp:233.)\n",
      "\n",
      "Evaluating DT: Finished running 56 episodes.Current episodes are at timestep [10, 10, 10, 10, 10, 10, 10, 10] for reward [0. 0. 0. 0. 0. 0. 0. 0.]: 100%|██████████| 50/50 [00:00<00:00, 72.84it/s]"
     ]
    },
    {
     "name": "stdout",
     "output_type": "stream",
     "text": [
      "Writing to tests/tmp/test_trajectories.pkl\n",
      "Trajectory written to tests/tmp/test_trajectories.pkl\n",
      "0 784.0\n",
      "1 682.0\n",
      "2 784.0\n",
      "3 784.0\n",
      "4 1000.0\n",
      "5 1000.0\n",
      "6 682.0\n",
      "7 784.0\n",
      "8 675.0\n",
      "9 784.0\n",
      "10 680.0\n",
      "11 1312.0\n",
      "12 1000.0\n",
      "13 776.0\n",
      "14 677.0\n",
      "15 784.0\n",
      "16 1312.0\n",
      "17 792.0\n",
      "18 675.0\n",
      "19 792.0\n",
      "20 784.0\n",
      "21 1000.0\n",
      "22 1000.0\n",
      "23 784.0\n",
      "24 784.0\n",
      "25 677.0\n",
      "26 1000.0\n",
      "27 1312.0\n",
      "28 1000.0\n",
      "29 1312.0\n",
      "30 776.0\n",
      "31 680.0\n",
      "32 1000.0\n",
      "33 677.0\n",
      "34 776.0\n",
      "35 1000.0\n",
      "36 1000.0\n",
      "37 1000.0\n",
      "38 682.0\n",
      "39 784.0\n",
      "40 1000.0\n",
      "41 682.0\n",
      "42 1320.0\n",
      "43 1320.0\n",
      "44 1320.0\n",
      "45 1312.0\n",
      "46 682.0\n",
      "47 776.0\n",
      "48 1000.0\n",
      "49 1312.0\n",
      "50 1320.0\n",
      "51 1312.0\n",
      "52 1320.0\n",
      "53 1320.0\n",
      "54 680.0\n",
      "55 1312.0\n"
     ]
    },
    {
     "name": "stderr",
     "output_type": "stream",
     "text": [
      "\n"
     ]
    }
   ],
   "source": [
    "trajectory_path = \"tests/tmp/test_trajectories.pkl\"\n",
    "num_trajectories = 50\n",
    "trajectory_shape = num_trajectories if num_trajectories % 8 == 0 else (num_trajectories // 8 + 1) * 8\n",
    "\n",
    "environment_config.max_steps = 10  # speed up test\n",
    "batch = 0\n",
    "eval_env_func = make_env(\n",
    "    environment_config,\n",
    "    seed=batch,\n",
    "    idx=0,\n",
    "    run_name=f\"dt_eval_videos_{batch}\",\n",
    ")\n",
    "\n",
    "trajectory_writer = TrajectoryWriter(\n",
    "    path=trajectory_path,\n",
    "    run_config=run_config,\n",
    "    environment_config=environment_config,\n",
    "    online_config=online_config,\n",
    "    model_config=None,\n",
    ")\n",
    "\n",
    "statistics = evaluate_dt_agent(\n",
    "    env_id=environment_config.env_id,\n",
    "    model=dt,\n",
    "    env_func=eval_env_func,\n",
    "    track=False,\n",
    "    initial_rtg=1,\n",
    "    trajectories=num_trajectories,\n",
    "    device=\"cuda\" if torch.cuda.is_available() else \"cpu\",\n",
    "    trajectory_writer=trajectory_writer\n",
    ")"
   ]
  },
  {
   "cell_type": "code",
   "execution_count": 17,
   "metadata": {},
   "outputs": [
    {
     "data": {
      "application/vnd.plotly.v1+json": {
       "config": {
        "plotlyServerURL": "https://plot.ly"
       },
       "data": [
        {
         "hovertemplate": "x: %{x}<br>y: %{y}<br>color: %{z}<extra></extra>",
         "name": "0",
         "source": "data:image/png;base64,iVBORw0KGgoAAAANSUhEUgAAAOAAAADgCAIAAACVT/22AAAClUlEQVR4Xu3coQ0DQRAEQduxfv4xmBsMsVZqUAUPDGpp2b2f53lB1nWg9jf72+f3AUoESppASRMoaQIlTaCkCZQ0gZImUNIESppASRMoaQIlTaCkCZQ0gZImUNIESppASRMoaQIlTaCkCZQ0gZImUNIESppASRMoaQIlTaCkva+/z4O/XAdqf7O/OfGkCZQ0gZImUNIESppASRMoaQIlTaCkCZQ0gZImUNIESppASRMoaQIlTaCkCZQ0gZImUNIESppASRMoaQIlTaCkCZQ0gZImUNIESppASfM/KG3Xgdrf7G9OPGkCJU2gpAmUNIGSJlDSBEqaQEkTKGkCJU2gpAmUNIGSJlDSBEqaQEkTKGkCJU2gpAmUNIGSJlDSBEqaQEkTKGkCJU2gpAmUNIGSJlDS/A9K23Wg9jf7mxNPmkBJEyhpAiVNoKQJlDSBkiZQ0gRKmkBJEyhpAiVNoKQJlDSBkiZQ0gRKmkBJEyhpAiVNoKQJlDSBkiZQ0gRKmkBJEyhpAiVNoKQJlDT/g9J2Haj9zf7mxJMmUNIESppASRMoaQIlTaCkCZQ0gZImUNIESppASRMoaQIlTaCkCZQ0gZImUNIESppASRMoaQIlTaCkCZQ0gZImUNIESppASRMoaQIlzf+gtF0Han+zvznxpAmUNIGSJlDSBEqaQEkTKGkCJU2gpAmUNIGSJlDSBEqaQEkTKGkCJU2gpAmUNIGSJlDSBEqaQEkTKGkCJU2gpAmUNIGSJlDSBEqaQEnzPyht14Ha3+xvTjxpAiVNoKQJlDSBkiZQ0gRKmkBJEyhpAiVNoKQJlDSBkiZQ0gRKmkBJEyhpAiVNoKQJlDSBkiZQ0gRKmkBJEyhpAiVNoKQJlDSBkiZQ0r5ExkNM/yP71wAAAABJRU5ErkJggg==",
         "type": "image",
         "xaxis": "x",
         "yaxis": "y"
        }
       ],
       "frames": [
        {
         "data": [
          {
           "name": "0",
           "source": "data:image/png;base64,iVBORw0KGgoAAAANSUhEUgAAAOAAAADgCAIAAACVT/22AAAClUlEQVR4Xu3coQ0DQRAEQduxfv4xmBsMsVZqUAUPDGpp2b2f53lB1nWg9jf72+f3AUoESppASRMoaQIlTaCkCZQ0gZImUNIESppASRMoaQIlTaCkCZQ0gZImUNIESppASRMoaQIlTaCkCZQ0gZImUNIESppASRMoaQIlTaCkva+/z4O/XAdqf7O/OfGkCZQ0gZImUNIESppASRMoaQIlTaCkCZQ0gZImUNIESppASRMoaQIlTaCkCZQ0gZImUNIESppASRMoaQIlTaCkCZQ0gZImUNIESppASfM/KG3Xgdrf7G9OPGkCJU2gpAmUNIGSJlDSBEqaQEkTKGkCJU2gpAmUNIGSJlDSBEqaQEkTKGkCJU2gpAmUNIGSJlDSBEqaQEkTKGkCJU2gpAmUNIGSJlDS/A9K23Wg9jf7mxNPmkBJEyhpAiVNoKQJlDSBkiZQ0gRKmkBJEyhpAiVNoKQJlDSBkiZQ0gRKmkBJEyhpAiVNoKQJlDSBkiZQ0gRKmkBJEyhpAiVNoKQJlDT/g9J2Haj9zf7mxJMmUNIESppASRMoaQIlTaCkCZQ0gZImUNIESppASRMoaQIlTaCkCZQ0gZImUNIESppASRMoaQIlTaCkCZQ0gZImUNIESppASRMoaQIlzf+gtF0Han+zvznxpAmUNIGSJlDSBEqaQEkTKGkCJU2gpAmUNIGSJlDSBEqaQEkTKGkCJU2gpAmUNIGSJlDSBEqaQEkTKGkCJU2gpAmUNIGSJlDSBEqaQEnzPyht14Ha3+xvTjxpAiVNoKQJlDSBkiZQ0gRKmkBJEyhpAiVNoKQJlDSBkiZQ0gRKmkBJEyhpAiVNoKQJlDSBkiZQ0gRKmkBJEyhpAiVNoKQJlDSBkiZQ0r5ExkNM/yP71wAAAABJRU5ErkJggg==",
           "type": "image"
          }
         ],
         "layout": {
          "margin": {
           "t": 60
          }
         },
         "name": "0"
        },
        {
         "data": [
          {
           "name": "1",
           "source": "data:image/png;base64,iVBORw0KGgoAAAANSUhEUgAAAOAAAADgCAIAAACVT/22AAAEjUlEQVR4Xu3d0VHbWACF4cNOygipA9IHW4EbgK0j0EAqSPoA6linj+yDJ7tCsQzxWuFIfN/woLkgjSfzz722IFdnm80mUGvuQF3/MNc/7I/xADQRKNUESjWBUk2gVBMo1QRKNYFSTaBUEyjVBEo1gVJNoFQTKNUESjWBUk2gVBMo1QRKNYFSTaBUEyjVBEo1gVJNoFQTKNUESjWBUk2gVBMo1c7m3j4P/pe5A3X9w1z/MEs81QRKNYFSTaBUEyjVBEo1gVJNoFQTKNUESjWBUk2gVBMo1QRKNYFSTaBUEyjVBEo1gVJNoFQTKNUESjWBUk2gVBMo1QRKNYFSTaBUEyjVBEo1+4PSbe5AXf8w1z/MEk81gVJNoFQTKNUESjWBUk2gVBMo1QRKNYFSTaBUEyjVBEo1gVJNoFQTKNUESjWBUk2gVBMo1QRKNYFSTaBUEyjVBEo1gVJNoFQTKNUESjWBUs3+oFR7l+Tz58/j4dPZbDZLv/54iKdm/fe3xFNNoFQTKNUESjWBUk2gVBMo1QRKNYFSTaBUEyjVBEo1gVJNoFQTKNUESjWBUk2gVBMo1QRKNYFSTaBUEyjVBEo1gVJNoFQTKNUESjWBUk2gVLM/KNXejQf47WbdX/M3TECzvn5LPNUEuhzvk0/J9x9ffyefkvfjn1oZgS7EVXKf3AxGzpOb5H7ljQp0CXZz5/l4OEnOk/vx2JoIdAmuJ+rcOU+ux2OrIdAlGK7st8lZcpZ8HQxeDY7XRaBL89ePg2G1l4PjdREo1QS6NF+SJO+T28Hgw+B4XQS6BMMWr5Lvyfbp+87h+9F1EegS3CXb8dh/tsndeGw1BLoE35KPE41uk4/jsTUR6ELsGh2u9Ulukg/Jt6eD6yLQ5fg2uMe0s96V/V8CpZpAqSZQqvmL+iX4Ph54O8ygVDODLsHZ4PiNzaZmUKoJlGoCpZpAqeZD0hK8sQ9GQ2ZQqplBl2B4m+mNMYNSTaBUEyjV7A9KtXeZeX/HzWaz9OuPh07N6z/AEk81gVJNoFQTKNVeFuhF8iW5/7H59H3yJbkY/xSc3HO/6tylOdo9dbfZ31WyTf5MHp9+F07n4Ax6nTz8VOfQefKw5u19eXXTgV7/tNHKlFuNMpeJQC9eXOfOrbekzGIi0N0uqb/kiFPgOfsCvTj4vnPKuUmU09sX6M144KWOPhEm7Av06CeXHX0iTNgX6NHPNDn6RJiwL1CosS/Qo59pcvSJMGFfoEfveX70iTBhX6C/dIt+6OgTYcK+QB8nnnhy2NZfjXB6+wJN8ud44HlHnALPmQj08Rfvut+YPpnFRKBJ7l7c6M2beGAPr2I60CR3yeXB96Pb5FKdzOhgoEkekw/JZfJ1cJvzIfmaXCYfrOzM67n/8rHz6DMQr+O5GRRelUCpJlCqCZRqAqWa/UGpZn/QZ6zg+uOhU5v19VviqSZQqgmUagKlmkCpJlCqCZRqAqWaQKkmUKoJlGoCpZpAqSZQqgmUagKlmkCpJlCqCZRqAqWaQKkmUKoJlGoCpZpAqSZQqgmUagKlmkCpJlCq/QN9gZv/74f3bQAAAABJRU5ErkJggg==",
           "type": "image"
          }
         ],
         "layout": {
          "margin": {
           "t": 60
          }
         },
         "name": "1"
        },
        {
         "data": [
          {
           "name": "2",
           "source": "data:image/png;base64,iVBORw0KGgoAAAANSUhEUgAAAOAAAADgCAIAAACVT/22AAAEjUlEQVR4Xu3d0VHbWACF4cNOygipA9IHW4EbgK0j0EAqSPoA6linj+yDJ7tCsQzxWuFIfN/woLkgjSfzz722IFdnm80mUGvuQF3/MNc/7I/xADQRKNUESjWBUk2gVBMo1QRKNYFSTaBUEyjVBEo1gVJNoFQTKNUESjWBUk2gVBMo1QRKNYFSTaBUEyjVBEo1gVJNoFQTKNUESjWBUk2gVBMo1c7m3j4P/pe5A3X9w1z/MEs81QRKNYFSTaBUEyjVBEo1gVJNoFQTKNUESjWBUk2gVBMo1QRKNYFSTaBUEyjVBEo1gVJNoFQTKNUESjWBUk2gVBMo1QRKNYFSTaBUEyjVBEo1+4PSbe5AXf8w1z/MEk81gVJNoFQTKNUESjWBUk2gVBMo1QRKNYFSTaBUEyjVBEo1gVJNoFQTKNUESjWBUk2gVBMo1QRKNYFSTaBUEyjVBEo1gVJNoFQTKNUESjWBUs3+oFR7l+Tz58/j4dPZbDZLv/54iKdm/fe3xFNNoFQTKNUESjWBUk2gVBMo1QRKNYFSTaBUEyjVBEo1gVJNoFQTKNUESjWBUk2gVBMo1QRKNYFSTaBUEyjVBEo1gVJNoFQTKNUESjWBUk2gVLM/KNXejQf47WbdX/M3TECzvn5LPNUEuhzvk0/J9x9ffyefkvfjn1oZgS7EVXKf3AxGzpOb5H7ljQp0CXZz5/l4OEnOk/vx2JoIdAmuJ+rcOU+ux2OrIdAlGK7st8lZcpZ8HQxeDY7XRaBL89ePg2G1l4PjdREo1QS6NF+SJO+T28Hgw+B4XQS6BMMWr5Lvyfbp+87h+9F1EegS3CXb8dh/tsndeGw1BLoE35KPE41uk4/jsTUR6ELsGh2u9Ulukg/Jt6eD6yLQ5fg2uMe0s96V/V8CpZpAqSZQqvmL+iX4Ph54O8ygVDODLsHZ4PiNzaZmUKoJlGoCpZpAqeZD0hK8sQ9GQ2ZQqplBl2B4m+mNMYNSTaBUEyjV7A9KtXeZeX/HzWaz9OuPh07N6z/AEk81gVJNoFQTKNVeFuhF8iW5/7H59H3yJbkY/xSc3HO/6tylOdo9dbfZ31WyTf5MHp9+F07n4Ax6nTz8VOfQefKw5u19eXXTgV7/tNHKlFuNMpeJQC9eXOfOrbekzGIi0N0uqb/kiFPgOfsCvTj4vnPKuUmU09sX6M144KWOPhEm7Av06CeXHX0iTNgX6NHPNDn6RJiwL1CosS/Qo59pcvSJMGFfoEfveX70iTBhX6C/dIt+6OgTYcK+QB8nnnhy2NZfjXB6+wJN8ud44HlHnALPmQj08Rfvut+YPpnFRKBJ7l7c6M2beGAPr2I60CR3yeXB96Pb5FKdzOhgoEkekw/JZfJ1cJvzIfmaXCYfrOzM67n/8rHz6DMQr+O5GRRelUCpJlCqCZRqAqWa/UGpZn/QZ6zg+uOhU5v19VviqSZQqgmUagKlmkCpJlCqCZRqAqWaQKkmUKoJlGoCpZpAqSZQqgmUagKlmkCpJlCqCZRqAqWaQKkmUKoJlGoCpZpAqSZQqgmUagKlmkCpJlCq/QN9gZv/74f3bQAAAABJRU5ErkJggg==",
           "type": "image"
          }
         ],
         "layout": {
          "margin": {
           "t": 60
          }
         },
         "name": "2"
        },
        {
         "data": [
          {
           "name": "3",
           "source": "data:image/png;base64,iVBORw0KGgoAAAANSUhEUgAAAOAAAADgCAIAAACVT/22AAAEjUlEQVR4Xu3d0VHbWACF4cNOygipA9IHW4EbgK0j0EAqSPoA6linj+yDJ7tCsQzxWuFIfN/woLkgjSfzz722IFdnm80mUGvuQF3/MNc/7I/xADQRKNUESjWBUk2gVBMo1QRKNYFSTaBUEyjVBEo1gVJNoFQTKNUESjWBUk2gVBMo1QRKNYFSTaBUEyjVBEo1gVJNoFQTKNUESjWBUk2gVBMo1c7m3j4P/pe5A3X9w1z/MEs81QRKNYFSTaBUEyjVBEo1gVJNoFQTKNUESjWBUk2gVBMo1QRKNYFSTaBUEyjVBEo1gVJNoFQTKNUESjWBUk2gVBMo1QRKNYFSTaBUEyjVBEo1+4PSbe5AXf8w1z/MEk81gVJNoFQTKNUESjWBUk2gVBMo1QRKNYFSTaBUEyjVBEo1gVJNoFQTKNUESjWBUk2gVBMo1QRKNYFSTaBUEyjVBEo1gVJNoFQTKNUESjWBUs3+oFR7l+Tz58/j4dPZbDZLv/54iKdm/fe3xFNNoFQTKNUESjWBUk2gVBMo1QRKNYFSTaBUEyjVBEo1gVJNoFQTKNUESjWBUk2gVBMo1QRKNYFSTaBUEyjVBEo1gVJNoFQTKNUESjWBUk2gVLM/KNXejQf47WbdX/M3TECzvn5LPNUEuhzvk0/J9x9ffyefkvfjn1oZgS7EVXKf3AxGzpOb5H7ljQp0CXZz5/l4OEnOk/vx2JoIdAmuJ+rcOU+ux2OrIdAlGK7st8lZcpZ8HQxeDY7XRaBL89ePg2G1l4PjdREo1QS6NF+SJO+T28Hgw+B4XQS6BMMWr5Lvyfbp+87h+9F1EegS3CXb8dh/tsndeGw1BLoE35KPE41uk4/jsTUR6ELsGh2u9Ulukg/Jt6eD6yLQ5fg2uMe0s96V/V8CpZpAqSZQqvmL+iX4Ph54O8ygVDODLsHZ4PiNzaZmUKoJlGoCpZpAqeZD0hK8sQ9GQ2ZQqplBl2B4m+mNMYNSTaBUEyjV7A9KtXeZeX/HzWaz9OuPh07N6z/AEk81gVJNoFQTKNVeFuhF8iW5/7H59H3yJbkY/xSc3HO/6tylOdo9dbfZ31WyTf5MHp9+F07n4Ax6nTz8VOfQefKw5u19eXXTgV7/tNHKlFuNMpeJQC9eXOfOrbekzGIi0N0uqb/kiFPgOfsCvTj4vnPKuUmU09sX6M144KWOPhEm7Av06CeXHX0iTNgX6NHPNDn6RJiwL1CosS/Qo59pcvSJMGFfoEfveX70iTBhX6C/dIt+6OgTYcK+QB8nnnhy2NZfjXB6+wJN8ud44HlHnALPmQj08Rfvut+YPpnFRKBJ7l7c6M2beGAPr2I60CR3yeXB96Pb5FKdzOhgoEkekw/JZfJ1cJvzIfmaXCYfrOzM67n/8rHz6DMQr+O5GRRelUCpJlCqCZRqAqWa/UGpZn/QZ6zg+uOhU5v19VviqSZQqgmUagKlmkCpJlCqCZRqAqWaQKkmUKoJlGoCpZpAqSZQqgmUagKlmkCpJlCqCZRqAqWaQKkmUKoJlGoCpZpAqSZQqgmUagKlmkCpJlCq/QN9gZv/74f3bQAAAABJRU5ErkJggg==",
           "type": "image"
          }
         ],
         "layout": {
          "margin": {
           "t": 60
          }
         },
         "name": "3"
        },
        {
         "data": [
          {
           "name": "4",
           "source": "data:image/png;base64,iVBORw0KGgoAAAANSUhEUgAAAOAAAADgCAIAAACVT/22AAAEjUlEQVR4Xu3d0VHbWACF4cNOygipA9IHW4EbgK0j0EAqSPoA6linj+yDJ7tCsQzxWuFIfN/woLkgjSfzz722IFdnm80mUGvuQF3/MNc/7I/xADQRKNUESjWBUk2gVBMo1QRKNYFSTaBUEyjVBEo1gVJNoFQTKNUESjWBUk2gVBMo1QRKNYFSTaBUEyjVBEo1gVJNoFQTKNUESjWBUk2gVBMo1c7m3j4P/pe5A3X9w1z/MEs81QRKNYFSTaBUEyjVBEo1gVJNoFQTKNUESjWBUk2gVBMo1QRKNYFSTaBUEyjVBEo1gVJNoFQTKNUESjWBUk2gVBMo1QRKNYFSTaBUEyjVBEo1+4PSbe5AXf8w1z/MEk81gVJNoFQTKNUESjWBUk2gVBMo1QRKNYFSTaBUEyjVBEo1gVJNoFQTKNUESjWBUk2gVBMo1QRKNYFSTaBUEyjVBEo1gVJNoFQTKNUESjWBUs3+oFR7l+Tz58/j4dPZbDZLv/54iKdm/fe3xFNNoFQTKNUESjWBUk2gVBMo1QRKNYFSTaBUEyjVBEo1gVJNoFQTKNUESjWBUk2gVBMo1QRKNYFSTaBUEyjVBEo1gVJNoFQTKNUESjWBUk2gVLM/KNXejQf47WbdX/M3TECzvn5LPNUEuhzvk0/J9x9ffyefkvfjn1oZgS7EVXKf3AxGzpOb5H7ljQp0CXZz5/l4OEnOk/vx2JoIdAmuJ+rcOU+ux2OrIdAlGK7st8lZcpZ8HQxeDY7XRaBL89ePg2G1l4PjdREo1QS6NF+SJO+T28Hgw+B4XQS6BMMWr5Lvyfbp+87h+9F1EegS3CXb8dh/tsndeGw1BLoE35KPE41uk4/jsTUR6ELsGh2u9Ulukg/Jt6eD6yLQ5fg2uMe0s96V/V8CpZpAqSZQqvmL+iX4Ph54O8ygVDODLsHZ4PiNzaZmUKoJlGoCpZpAqeZD0hK8sQ9GQ2ZQqplBl2B4m+mNMYNSTaBUEyjV7A9KtXeZeX/HzWaz9OuPh07N6z/AEk81gVJNoFQTKNVeFuhF8iW5/7H59H3yJbkY/xSc3HO/6tylOdo9dbfZ31WyTf5MHp9+F07n4Ax6nTz8VOfQefKw5u19eXXTgV7/tNHKlFuNMpeJQC9eXOfOrbekzGIi0N0uqb/kiFPgOfsCvTj4vnPKuUmU09sX6M144KWOPhEm7Av06CeXHX0iTNgX6NHPNDn6RJiwL1CosS/Qo59pcvSJMGFfoEfveX70iTBhX6C/dIt+6OgTYcK+QB8nnnhy2NZfjXB6+wJN8ud44HlHnALPmQj08Rfvut+YPpnFRKBJ7l7c6M2beGAPr2I60CR3yeXB96Pb5FKdzOhgoEkekw/JZfJ1cJvzIfmaXCYfrOzM67n/8rHz6DMQr+O5GRRelUCpJlCqCZRqAqWa/UGpZn/QZ6zg+uOhU5v19VviqSZQqgmUagKlmkCpJlCqCZRqAqWaQKkmUKoJlGoCpZpAqSZQqgmUagKlmkCpJlCqCZRqAqWaQKkmUKoJlGoCpZpAqSZQqgmUagKlmkCpJlCq/QN9gZv/74f3bQAAAABJRU5ErkJggg==",
           "type": "image"
          }
         ],
         "layout": {
          "margin": {
           "t": 60
          }
         },
         "name": "4"
        },
        {
         "data": [
          {
           "name": "5",
           "source": "data:image/png;base64,iVBORw0KGgoAAAANSUhEUgAAAOAAAADgCAIAAACVT/22AAAEjUlEQVR4Xu3d0VHbWACF4cNOygipA9IHW4EbgK0j0EAqSPoA6linj+yDJ7tCsQzxWuFIfN/woLkgjSfzz722IFdnm80mUGvuQF3/MNc/7I/xADQRKNUESjWBUk2gVBMo1QRKNYFSTaBUEyjVBEo1gVJNoFQTKNUESjWBUk2gVBMo1QRKNYFSTaBUEyjVBEo1gVJNoFQTKNUESjWBUk2gVBMo1c7m3j4P/pe5A3X9w1z/MEs81QRKNYFSTaBUEyjVBEo1gVJNoFQTKNUESjWBUk2gVBMo1QRKNYFSTaBUEyjVBEo1gVJNoFQTKNUESjWBUk2gVBMo1QRKNYFSTaBUEyjVBEo1+4PSbe5AXf8w1z/MEk81gVJNoFQTKNUESjWBUk2gVBMo1QRKNYFSTaBUEyjVBEo1gVJNoFQTKNUESjWBUk2gVBMo1QRKNYFSTaBUEyjVBEo1gVJNoFQTKNUESjWBUs3+oFR7l+Tz58/j4dPZbDZLv/54iKdm/fe3xFNNoFQTKNUESjWBUk2gVBMo1QRKNYFSTaBUEyjVBEo1gVJNoFQTKNUESjWBUk2gVBMo1QRKNYFSTaBUEyjVBEo1gVJNoFQTKNUESjWBUk2gVLM/KNXejQf47WbdX/M3TECzvn5LPNUEuhzvk0/J9x9ffyefkvfjn1oZgS7EVXKf3AxGzpOb5H7ljQp0CXZz5/l4OEnOk/vx2JoIdAmuJ+rcOU+ux2OrIdAlGK7st8lZcpZ8HQxeDY7XRaBL89ePg2G1l4PjdREo1QS6NF+SJO+T28Hgw+B4XQS6BMMWr5Lvyfbp+87h+9F1EegS3CXb8dh/tsndeGw1BLoE35KPE41uk4/jsTUR6ELsGh2u9Ulukg/Jt6eD6yLQ5fg2uMe0s96V/V8CpZpAqSZQqvmL+iX4Ph54O8ygVDODLsHZ4PiNzaZmUKoJlGoCpZpAqeZD0hK8sQ9GQ2ZQqplBl2B4m+mNMYNSTaBUEyjV7A9KtXeZeX/HzWaz9OuPh07N6z/AEk81gVJNoFQTKNVeFuhF8iW5/7H59H3yJbkY/xSc3HO/6tylOdo9dbfZ31WyTf5MHp9+F07n4Ax6nTz8VOfQefKw5u19eXXTgV7/tNHKlFuNMpeJQC9eXOfOrbekzGIi0N0uqb/kiFPgOfsCvTj4vnPKuUmU09sX6M144KWOPhEm7Av06CeXHX0iTNgX6NHPNDn6RJiwL1CosS/Qo59pcvSJMGFfoEfveX70iTBhX6C/dIt+6OgTYcK+QB8nnnhy2NZfjXB6+wJN8ud44HlHnALPmQj08Rfvut+YPpnFRKBJ7l7c6M2beGAPr2I60CR3yeXB96Pb5FKdzOhgoEkekw/JZfJ1cJvzIfmaXCYfrOzM67n/8rHz6DMQr+O5GRRelUCpJlCqCZRqAqWa/UGpZn/QZ6zg+uOhU5v19VviqSZQqgmUagKlmkCpJlCqCZRqAqWaQKkmUKoJlGoCpZpAqSZQqgmUagKlmkCpJlCqCZRqAqWaQKkmUKoJlGoCpZpAqSZQqgmUagKlmkCpJlCq/QN9gZv/74f3bQAAAABJRU5ErkJggg==",
           "type": "image"
          }
         ],
         "layout": {
          "margin": {
           "t": 60
          }
         },
         "name": "5"
        },
        {
         "data": [
          {
           "name": "6",
           "source": "data:image/png;base64,iVBORw0KGgoAAAANSUhEUgAAAOAAAADgCAIAAACVT/22AAAEjUlEQVR4Xu3d0VHbWACF4cNOygipA9IHW4EbgK0j0EAqSPoA6linj+yDJ7tCsQzxWuFIfN/woLkgjSfzz722IFdnm80mUGvuQF3/MNc/7I/xADQRKNUESjWBUk2gVBMo1QRKNYFSTaBUEyjVBEo1gVJNoFQTKNUESjWBUk2gVBMo1QRKNYFSTaBUEyjVBEo1gVJNoFQTKNUESjWBUk2gVBMo1c7m3j4P/pe5A3X9w1z/MEs81QRKNYFSTaBUEyjVBEo1gVJNoFQTKNUESjWBUk2gVBMo1QRKNYFSTaBUEyjVBEo1gVJNoFQTKNUESjWBUk2gVBMo1QRKNYFSTaBUEyjVBEo1+4PSbe5AXf8w1z/MEk81gVJNoFQTKNUESjWBUk2gVBMo1QRKNYFSTaBUEyjVBEo1gVJNoFQTKNUESjWBUk2gVBMo1QRKNYFSTaBUEyjVBEo1gVJNoFQTKNUESjWBUs3+oFR7l+Tz58/j4dPZbDZLv/54iKdm/fe3xFNNoFQTKNUESjWBUk2gVBMo1QRKNYFSTaBUEyjVBEo1gVJNoFQTKNUESjWBUk2gVBMo1QRKNYFSTaBUEyjVBEo1gVJNoFQTKNUESjWBUk2gVLM/KNXejQf47WbdX/M3TECzvn5LPNUEuhzvk0/J9x9ffyefkvfjn1oZgS7EVXKf3AxGzpOb5H7ljQp0CXZz5/l4OEnOk/vx2JoIdAmuJ+rcOU+ux2OrIdAlGK7st8lZcpZ8HQxeDY7XRaBL89ePg2G1l4PjdREo1QS6NF+SJO+T28Hgw+B4XQS6BMMWr5Lvyfbp+87h+9F1EegS3CXb8dh/tsndeGw1BLoE35KPE41uk4/jsTUR6ELsGh2u9Ulukg/Jt6eD6yLQ5fg2uMe0s96V/V8CpZpAqSZQqvmL+iX4Ph54O8ygVDODLsHZ4PiNzaZmUKoJlGoCpZpAqeZD0hK8sQ9GQ2ZQqplBl2B4m+mNMYNSTaBUEyjV7A9KtXeZeX/HzWaz9OuPh07N6z/AEk81gVJNoFQTKNVeFuhF8iW5/7H59H3yJbkY/xSc3HO/6tylOdo9dbfZ31WyTf5MHp9+F07n4Ax6nTz8VOfQefKw5u19eXXTgV7/tNHKlFuNMpeJQC9eXOfOrbekzGIi0N0uqb/kiFPgOfsCvTj4vnPKuUmU09sX6M144KWOPhEm7Av06CeXHX0iTNgX6NHPNDn6RJiwL1CosS/Qo59pcvSJMGFfoEfveX70iTBhX6C/dIt+6OgTYcK+QB8nnnhy2NZfjXB6+wJN8ud44HlHnALPmQj08Rfvut+YPpnFRKBJ7l7c6M2beGAPr2I60CR3yeXB96Pb5FKdzOhgoEkekw/JZfJ1cJvzIfmaXCYfrOzM67n/8rHz6DMQr+O5GRRelUCpJlCqCZRqAqWa/UGpZn/QZ6zg+uOhU5v19VviqSZQqgmUagKlmkCpJlCqCZRqAqWaQKkmUKoJlGoCpZpAqSZQqgmUagKlmkCpJlCqCZRqAqWaQKkmUKoJlGoCpZpAqSZQqgmUagKlmkCpJlCq/QN9gZv/74f3bQAAAABJRU5ErkJggg==",
           "type": "image"
          }
         ],
         "layout": {
          "margin": {
           "t": 60
          }
         },
         "name": "6"
        },
        {
         "data": [
          {
           "name": "7",
           "source": "data:image/png;base64,iVBORw0KGgoAAAANSUhEUgAAAOAAAADgCAIAAACVT/22AAAEjUlEQVR4Xu3d0VHbWACF4cNOygipA9IHW4EbgK0j0EAqSPoA6linj+yDJ7tCsQzxWuFIfN/woLkgjSfzz722IFdnm80mUGvuQF3/MNc/7I/xADQRKNUESjWBUk2gVBMo1QRKNYFSTaBUEyjVBEo1gVJNoFQTKNUESjWBUk2gVBMo1QRKNYFSTaBUEyjVBEo1gVJNoFQTKNUESjWBUk2gVBMo1c7m3j4P/pe5A3X9w1z/MEs81QRKNYFSTaBUEyjVBEo1gVJNoFQTKNUESjWBUk2gVBMo1QRKNYFSTaBUEyjVBEo1gVJNoFQTKNUESjWBUk2gVBMo1QRKNYFSTaBUEyjVBEo1+4PSbe5AXf8w1z/MEk81gVJNoFQTKNUESjWBUk2gVBMo1QRKNYFSTaBUEyjVBEo1gVJNoFQTKNUESjWBUk2gVBMo1QRKNYFSTaBUEyjVBEo1gVJNoFQTKNUESjWBUs3+oFR7l+Tz58/j4dPZbDZLv/54iKdm/fe3xFNNoFQTKNUESjWBUk2gVBMo1QRKNYFSTaBUEyjVBEo1gVJNoFQTKNUESjWBUk2gVBMo1QRKNYFSTaBUEyjVBEo1gVJNoFQTKNUESjWBUk2gVLM/KNXejQf47WbdX/M3TECzvn5LPNUEuhzvk0/J9x9ffyefkvfjn1oZgS7EVXKf3AxGzpOb5H7ljQp0CXZz5/l4OEnOk/vx2JoIdAmuJ+rcOU+ux2OrIdAlGK7st8lZcpZ8HQxeDY7XRaBL89ePg2G1l4PjdREo1QS6NF+SJO+T28Hgw+B4XQS6BMMWr5Lvyfbp+87h+9F1EegS3CXb8dh/tsndeGw1BLoE35KPE41uk4/jsTUR6ELsGh2u9Ulukg/Jt6eD6yLQ5fg2uMe0s96V/V8CpZpAqSZQqvmL+iX4Ph54O8ygVDODLsHZ4PiNzaZmUKoJlGoCpZpAqeZD0hK8sQ9GQ2ZQqplBl2B4m+mNMYNSTaBUEyjV7A9KtXeZeX/HzWaz9OuPh07N6z/AEk81gVJNoFQTKNVeFuhF8iW5/7H59H3yJbkY/xSc3HO/6tylOdo9dbfZ31WyTf5MHp9+F07n4Ax6nTz8VOfQefKw5u19eXXTgV7/tNHKlFuNMpeJQC9eXOfOrbekzGIi0N0uqb/kiFPgOfsCvTj4vnPKuUmU09sX6M144KWOPhEm7Av06CeXHX0iTNgX6NHPNDn6RJiwL1CosS/Qo59pcvSJMGFfoEfveX70iTBhX6C/dIt+6OgTYcK+QB8nnnhy2NZfjXB6+wJN8ud44HlHnALPmQj08Rfvut+YPpnFRKBJ7l7c6M2beGAPr2I60CR3yeXB96Pb5FKdzOhgoEkekw/JZfJ1cJvzIfmaXCYfrOzM67n/8rHz6DMQr+O5GRRelUCpJlCqCZRqAqWa/UGpZn/QZ6zg+uOhU5v19VviqSZQqgmUagKlmkCpJlCqCZRqAqWaQKkmUKoJlGoCpZpAqSZQqgmUagKlmkCpJlCqCZRqAqWaQKkmUKoJlGoCpZpAqSZQqgmUagKlmkCpJlCq/QN9gZv/74f3bQAAAABJRU5ErkJggg==",
           "type": "image"
          }
         ],
         "layout": {
          "margin": {
           "t": 60
          }
         },
         "name": "7"
        },
        {
         "data": [
          {
           "name": "8",
           "source": "data:image/png;base64,iVBORw0KGgoAAAANSUhEUgAAAOAAAADgCAIAAACVT/22AAAEjUlEQVR4Xu3d0VHbWACF4cNOygipA9IHW4EbgK0j0EAqSPoA6linj+yDJ7tCsQzxWuFIfN/woLkgjSfzz722IFdnm80mUGvuQF3/MNc/7I/xADQRKNUESjWBUk2gVBMo1QRKNYFSTaBUEyjVBEo1gVJNoFQTKNUESjWBUk2gVBMo1QRKNYFSTaBUEyjVBEo1gVJNoFQTKNUESjWBUk2gVBMo1c7m3j4P/pe5A3X9w1z/MEs81QRKNYFSTaBUEyjVBEo1gVJNoFQTKNUESjWBUk2gVBMo1QRKNYFSTaBUEyjVBEo1gVJNoFQTKNUESjWBUk2gVBMo1QRKNYFSTaBUEyjVBEo1+4PSbe5AXf8w1z/MEk81gVJNoFQTKNUESjWBUk2gVBMo1QRKNYFSTaBUEyjVBEo1gVJNoFQTKNUESjWBUk2gVBMo1QRKNYFSTaBUEyjVBEo1gVJNoFQTKNUESjWBUs3+oFR7l+Tz58/j4dPZbDZLv/54iKdm/fe3xFNNoFQTKNUESjWBUk2gVBMo1QRKNYFSTaBUEyjVBEo1gVJNoFQTKNUESjWBUk2gVBMo1QRKNYFSTaBUEyjVBEo1gVJNoFQTKNUESjWBUk2gVLM/KNXejQf47WbdX/M3TECzvn5LPNUEuhzvk0/J9x9ffyefkvfjn1oZgS7EVXKf3AxGzpOb5H7ljQp0CXZz5/l4OEnOk/vx2JoIdAmuJ+rcOU+ux2OrIdAlGK7st8lZcpZ8HQxeDY7XRaBL89ePg2G1l4PjdREo1QS6NF+SJO+T28Hgw+B4XQS6BMMWr5Lvyfbp+87h+9F1EegS3CXb8dh/tsndeGw1BLoE35KPE41uk4/jsTUR6ELsGh2u9Ulukg/Jt6eD6yLQ5fg2uMe0s96V/V8CpZpAqSZQqvmL+iX4Ph54O8ygVDODLsHZ4PiNzaZmUKoJlGoCpZpAqeZD0hK8sQ9GQ2ZQqplBl2B4m+mNMYNSTaBUEyjV7A9KtXeZeX/HzWaz9OuPh07N6z/AEk81gVJNoFQTKNVeFuhF8iW5/7H59H3yJbkY/xSc3HO/6tylOdo9dbfZ31WyTf5MHp9+F07n4Ax6nTz8VOfQefKw5u19eXXTgV7/tNHKlFuNMpeJQC9eXOfOrbekzGIi0N0uqb/kiFPgOfsCvTj4vnPKuUmU09sX6M144KWOPhEm7Av06CeXHX0iTNgX6NHPNDn6RJiwL1CosS/Qo59pcvSJMGFfoEfveX70iTBhX6C/dIt+6OgTYcK+QB8nnnhy2NZfjXB6+wJN8ud44HlHnALPmQj08Rfvut+YPpnFRKBJ7l7c6M2beGAPr2I60CR3yeXB96Pb5FKdzOhgoEkekw/JZfJ1cJvzIfmaXCYfrOzM67n/8rHz6DMQr+O5GRRelUCpJlCqCZRqAqWa/UGpZn/QZ6zg+uOhU5v19VviqSZQqgmUagKlmkCpJlCqCZRqAqWaQKkmUKoJlGoCpZpAqSZQqgmUagKlmkCpJlCqCZRqAqWaQKkmUKoJlGoCpZpAqSZQqgmUagKlmkCpJlCq/QN9gZv/74f3bQAAAABJRU5ErkJggg==",
           "type": "image"
          }
         ],
         "layout": {
          "margin": {
           "t": 60
          }
         },
         "name": "8"
        },
        {
         "data": [
          {
           "name": "9",
           "source": "data:image/png;base64,iVBORw0KGgoAAAANSUhEUgAAAOAAAADgCAIAAACVT/22AAAEjUlEQVR4Xu3d0VHbWACF4cNOygipA9IHW4EbgK0j0EAqSPoA6linj+yDJ7tCsQzxWuFIfN/woLkgjSfzz722IFdnm80mUGvuQF3/MNc/7I/xADQRKNUESjWBUk2gVBMo1QRKNYFSTaBUEyjVBEo1gVJNoFQTKNUESjWBUk2gVBMo1QRKNYFSTaBUEyjVBEo1gVJNoFQTKNUESjWBUk2gVBMo1c7m3j4P/pe5A3X9w1z/MEs81QRKNYFSTaBUEyjVBEo1gVJNoFQTKNUESjWBUk2gVBMo1QRKNYFSTaBUEyjVBEo1gVJNoFQTKNUESjWBUk2gVBMo1QRKNYFSTaBUEyjVBEo1+4PSbe5AXf8w1z/MEk81gVJNoFQTKNUESjWBUk2gVBMo1QRKNYFSTaBUEyjVBEo1gVJNoFQTKNUESjWBUk2gVBMo1QRKNYFSTaBUEyjVBEo1gVJNoFQTKNUESjWBUs3+oFR7l+Tz58/j4dPZbDZLv/54iKdm/fe3xFNNoFQTKNUESjWBUk2gVBMo1QRKNYFSTaBUEyjVBEo1gVJNoFQTKNUESjWBUk2gVBMo1QRKNYFSTaBUEyjVBEo1gVJNoFQTKNUESjWBUk2gVLM/KNXejQf47WbdX/M3TECzvn5LPNUEuhzvk0/J9x9ffyefkvfjn1oZgS7EVXKf3AxGzpOb5H7ljQp0CXZz5/l4OEnOk/vx2JoIdAmuJ+rcOU+ux2OrIdAlGK7st8lZcpZ8HQxeDY7XRaBL89ePg2G1l4PjdREo1QS6NF+SJO+T28Hgw+B4XQS6BMMWr5Lvyfbp+87h+9F1EegS3CXb8dh/tsndeGw1BLoE35KPE41uk4/jsTUR6ELsGh2u9Ulukg/Jt6eD6yLQ5fg2uMe0s96V/V8CpZpAqSZQqvmL+iX4Ph54O8ygVDODLsHZ4PiNzaZmUKoJlGoCpZpAqeZD0hK8sQ9GQ2ZQqplBl2B4m+mNMYNSTaBUEyjV7A9KtXeZeX/HzWaz9OuPh07N6z/AEk81gVJNoFQTKNVeFuhF8iW5/7H59H3yJbkY/xSc3HO/6tylOdo9dbfZ31WyTf5MHp9+F07n4Ax6nTz8VOfQefKw5u19eXXTgV7/tNHKlFuNMpeJQC9eXOfOrbekzGIi0N0uqb/kiFPgOfsCvTj4vnPKuUmU09sX6M144KWOPhEm7Av06CeXHX0iTNgX6NHPNDn6RJiwL1CosS/Qo59pcvSJMGFfoEfveX70iTBhX6C/dIt+6OgTYcK+QB8nnnhy2NZfjXB6+wJN8ud44HlHnALPmQj08Rfvut+YPpnFRKBJ7l7c6M2beGAPr2I60CR3yeXB96Pb5FKdzOhgoEkekw/JZfJ1cJvzIfmaXCYfrOzM67n/8rHz6DMQr+O5GRRelUCpJlCqCZRqAqWa/UGpZn/QZ6zg+uOhU5v19VviqSZQqgmUagKlmkCpJlCqCZRqAqWaQKkmUKoJlGoCpZpAqSZQqgmUagKlmkCpJlCqCZRqAqWaQKkmUKoJlGoCpZpAqSZQqgmUagKlmkCpJlCq/QN9gZv/74f3bQAAAABJRU5ErkJggg==",
           "type": "image"
          }
         ],
         "layout": {
          "margin": {
           "t": 60
          }
         },
         "name": "9"
        }
       ],
       "layout": {
        "margin": {
         "t": 60
        },
        "sliders": [
         {
          "active": 0,
          "currentvalue": {
           "prefix": "animation_frame="
          },
          "len": 0.9,
          "pad": {
           "b": 10,
           "t": 60
          },
          "steps": [
           {
            "args": [
             [
              "0"
             ],
             {
              "frame": {
               "duration": 0,
               "redraw": true
              },
              "fromcurrent": true,
              "mode": "immediate",
              "transition": {
               "duration": 0,
               "easing": "linear"
              }
             }
            ],
            "label": "0",
            "method": "animate"
           },
           {
            "args": [
             [
              "1"
             ],
             {
              "frame": {
               "duration": 0,
               "redraw": true
              },
              "fromcurrent": true,
              "mode": "immediate",
              "transition": {
               "duration": 0,
               "easing": "linear"
              }
             }
            ],
            "label": "1",
            "method": "animate"
           },
           {
            "args": [
             [
              "2"
             ],
             {
              "frame": {
               "duration": 0,
               "redraw": true
              },
              "fromcurrent": true,
              "mode": "immediate",
              "transition": {
               "duration": 0,
               "easing": "linear"
              }
             }
            ],
            "label": "2",
            "method": "animate"
           },
           {
            "args": [
             [
              "3"
             ],
             {
              "frame": {
               "duration": 0,
               "redraw": true
              },
              "fromcurrent": true,
              "mode": "immediate",
              "transition": {
               "duration": 0,
               "easing": "linear"
              }
             }
            ],
            "label": "3",
            "method": "animate"
           },
           {
            "args": [
             [
              "4"
             ],
             {
              "frame": {
               "duration": 0,
               "redraw": true
              },
              "fromcurrent": true,
              "mode": "immediate",
              "transition": {
               "duration": 0,
               "easing": "linear"
              }
             }
            ],
            "label": "4",
            "method": "animate"
           },
           {
            "args": [
             [
              "5"
             ],
             {
              "frame": {
               "duration": 0,
               "redraw": true
              },
              "fromcurrent": true,
              "mode": "immediate",
              "transition": {
               "duration": 0,
               "easing": "linear"
              }
             }
            ],
            "label": "5",
            "method": "animate"
           },
           {
            "args": [
             [
              "6"
             ],
             {
              "frame": {
               "duration": 0,
               "redraw": true
              },
              "fromcurrent": true,
              "mode": "immediate",
              "transition": {
               "duration": 0,
               "easing": "linear"
              }
             }
            ],
            "label": "6",
            "method": "animate"
           },
           {
            "args": [
             [
              "7"
             ],
             {
              "frame": {
               "duration": 0,
               "redraw": true
              },
              "fromcurrent": true,
              "mode": "immediate",
              "transition": {
               "duration": 0,
               "easing": "linear"
              }
             }
            ],
            "label": "7",
            "method": "animate"
           },
           {
            "args": [
             [
              "8"
             ],
             {
              "frame": {
               "duration": 0,
               "redraw": true
              },
              "fromcurrent": true,
              "mode": "immediate",
              "transition": {
               "duration": 0,
               "easing": "linear"
              }
             }
            ],
            "label": "8",
            "method": "animate"
           },
           {
            "args": [
             [
              "9"
             ],
             {
              "frame": {
               "duration": 0,
               "redraw": true
              },
              "fromcurrent": true,
              "mode": "immediate",
              "transition": {
               "duration": 0,
               "easing": "linear"
              }
             }
            ],
            "label": "9",
            "method": "animate"
           }
          ],
          "x": 0.1,
          "xanchor": "left",
          "y": 0,
          "yanchor": "top"
         }
        ],
        "template": {
         "data": {
          "bar": [
           {
            "error_x": {
             "color": "#2a3f5f"
            },
            "error_y": {
             "color": "#2a3f5f"
            },
            "marker": {
             "line": {
              "color": "#E5ECF6",
              "width": 0.5
             },
             "pattern": {
              "fillmode": "overlay",
              "size": 10,
              "solidity": 0.2
             }
            },
            "type": "bar"
           }
          ],
          "barpolar": [
           {
            "marker": {
             "line": {
              "color": "#E5ECF6",
              "width": 0.5
             },
             "pattern": {
              "fillmode": "overlay",
              "size": 10,
              "solidity": 0.2
             }
            },
            "type": "barpolar"
           }
          ],
          "carpet": [
           {
            "aaxis": {
             "endlinecolor": "#2a3f5f",
             "gridcolor": "white",
             "linecolor": "white",
             "minorgridcolor": "white",
             "startlinecolor": "#2a3f5f"
            },
            "baxis": {
             "endlinecolor": "#2a3f5f",
             "gridcolor": "white",
             "linecolor": "white",
             "minorgridcolor": "white",
             "startlinecolor": "#2a3f5f"
            },
            "type": "carpet"
           }
          ],
          "choropleth": [
           {
            "colorbar": {
             "outlinewidth": 0,
             "ticks": ""
            },
            "type": "choropleth"
           }
          ],
          "contour": [
           {
            "colorbar": {
             "outlinewidth": 0,
             "ticks": ""
            },
            "colorscale": [
             [
              0,
              "#0d0887"
             ],
             [
              0.1111111111111111,
              "#46039f"
             ],
             [
              0.2222222222222222,
              "#7201a8"
             ],
             [
              0.3333333333333333,
              "#9c179e"
             ],
             [
              0.4444444444444444,
              "#bd3786"
             ],
             [
              0.5555555555555556,
              "#d8576b"
             ],
             [
              0.6666666666666666,
              "#ed7953"
             ],
             [
              0.7777777777777778,
              "#fb9f3a"
             ],
             [
              0.8888888888888888,
              "#fdca26"
             ],
             [
              1,
              "#f0f921"
             ]
            ],
            "type": "contour"
           }
          ],
          "contourcarpet": [
           {
            "colorbar": {
             "outlinewidth": 0,
             "ticks": ""
            },
            "type": "contourcarpet"
           }
          ],
          "heatmap": [
           {
            "colorbar": {
             "outlinewidth": 0,
             "ticks": ""
            },
            "colorscale": [
             [
              0,
              "#0d0887"
             ],
             [
              0.1111111111111111,
              "#46039f"
             ],
             [
              0.2222222222222222,
              "#7201a8"
             ],
             [
              0.3333333333333333,
              "#9c179e"
             ],
             [
              0.4444444444444444,
              "#bd3786"
             ],
             [
              0.5555555555555556,
              "#d8576b"
             ],
             [
              0.6666666666666666,
              "#ed7953"
             ],
             [
              0.7777777777777778,
              "#fb9f3a"
             ],
             [
              0.8888888888888888,
              "#fdca26"
             ],
             [
              1,
              "#f0f921"
             ]
            ],
            "type": "heatmap"
           }
          ],
          "heatmapgl": [
           {
            "colorbar": {
             "outlinewidth": 0,
             "ticks": ""
            },
            "colorscale": [
             [
              0,
              "#0d0887"
             ],
             [
              0.1111111111111111,
              "#46039f"
             ],
             [
              0.2222222222222222,
              "#7201a8"
             ],
             [
              0.3333333333333333,
              "#9c179e"
             ],
             [
              0.4444444444444444,
              "#bd3786"
             ],
             [
              0.5555555555555556,
              "#d8576b"
             ],
             [
              0.6666666666666666,
              "#ed7953"
             ],
             [
              0.7777777777777778,
              "#fb9f3a"
             ],
             [
              0.8888888888888888,
              "#fdca26"
             ],
             [
              1,
              "#f0f921"
             ]
            ],
            "type": "heatmapgl"
           }
          ],
          "histogram": [
           {
            "marker": {
             "pattern": {
              "fillmode": "overlay",
              "size": 10,
              "solidity": 0.2
             }
            },
            "type": "histogram"
           }
          ],
          "histogram2d": [
           {
            "colorbar": {
             "outlinewidth": 0,
             "ticks": ""
            },
            "colorscale": [
             [
              0,
              "#0d0887"
             ],
             [
              0.1111111111111111,
              "#46039f"
             ],
             [
              0.2222222222222222,
              "#7201a8"
             ],
             [
              0.3333333333333333,
              "#9c179e"
             ],
             [
              0.4444444444444444,
              "#bd3786"
             ],
             [
              0.5555555555555556,
              "#d8576b"
             ],
             [
              0.6666666666666666,
              "#ed7953"
             ],
             [
              0.7777777777777778,
              "#fb9f3a"
             ],
             [
              0.8888888888888888,
              "#fdca26"
             ],
             [
              1,
              "#f0f921"
             ]
            ],
            "type": "histogram2d"
           }
          ],
          "histogram2dcontour": [
           {
            "colorbar": {
             "outlinewidth": 0,
             "ticks": ""
            },
            "colorscale": [
             [
              0,
              "#0d0887"
             ],
             [
              0.1111111111111111,
              "#46039f"
             ],
             [
              0.2222222222222222,
              "#7201a8"
             ],
             [
              0.3333333333333333,
              "#9c179e"
             ],
             [
              0.4444444444444444,
              "#bd3786"
             ],
             [
              0.5555555555555556,
              "#d8576b"
             ],
             [
              0.6666666666666666,
              "#ed7953"
             ],
             [
              0.7777777777777778,
              "#fb9f3a"
             ],
             [
              0.8888888888888888,
              "#fdca26"
             ],
             [
              1,
              "#f0f921"
             ]
            ],
            "type": "histogram2dcontour"
           }
          ],
          "mesh3d": [
           {
            "colorbar": {
             "outlinewidth": 0,
             "ticks": ""
            },
            "type": "mesh3d"
           }
          ],
          "parcoords": [
           {
            "line": {
             "colorbar": {
              "outlinewidth": 0,
              "ticks": ""
             }
            },
            "type": "parcoords"
           }
          ],
          "pie": [
           {
            "automargin": true,
            "type": "pie"
           }
          ],
          "scatter": [
           {
            "fillpattern": {
             "fillmode": "overlay",
             "size": 10,
             "solidity": 0.2
            },
            "type": "scatter"
           }
          ],
          "scatter3d": [
           {
            "line": {
             "colorbar": {
              "outlinewidth": 0,
              "ticks": ""
             }
            },
            "marker": {
             "colorbar": {
              "outlinewidth": 0,
              "ticks": ""
             }
            },
            "type": "scatter3d"
           }
          ],
          "scattercarpet": [
           {
            "marker": {
             "colorbar": {
              "outlinewidth": 0,
              "ticks": ""
             }
            },
            "type": "scattercarpet"
           }
          ],
          "scattergeo": [
           {
            "marker": {
             "colorbar": {
              "outlinewidth": 0,
              "ticks": ""
             }
            },
            "type": "scattergeo"
           }
          ],
          "scattergl": [
           {
            "marker": {
             "colorbar": {
              "outlinewidth": 0,
              "ticks": ""
             }
            },
            "type": "scattergl"
           }
          ],
          "scattermapbox": [
           {
            "marker": {
             "colorbar": {
              "outlinewidth": 0,
              "ticks": ""
             }
            },
            "type": "scattermapbox"
           }
          ],
          "scatterpolar": [
           {
            "marker": {
             "colorbar": {
              "outlinewidth": 0,
              "ticks": ""
             }
            },
            "type": "scatterpolar"
           }
          ],
          "scatterpolargl": [
           {
            "marker": {
             "colorbar": {
              "outlinewidth": 0,
              "ticks": ""
             }
            },
            "type": "scatterpolargl"
           }
          ],
          "scatterternary": [
           {
            "marker": {
             "colorbar": {
              "outlinewidth": 0,
              "ticks": ""
             }
            },
            "type": "scatterternary"
           }
          ],
          "surface": [
           {
            "colorbar": {
             "outlinewidth": 0,
             "ticks": ""
            },
            "colorscale": [
             [
              0,
              "#0d0887"
             ],
             [
              0.1111111111111111,
              "#46039f"
             ],
             [
              0.2222222222222222,
              "#7201a8"
             ],
             [
              0.3333333333333333,
              "#9c179e"
             ],
             [
              0.4444444444444444,
              "#bd3786"
             ],
             [
              0.5555555555555556,
              "#d8576b"
             ],
             [
              0.6666666666666666,
              "#ed7953"
             ],
             [
              0.7777777777777778,
              "#fb9f3a"
             ],
             [
              0.8888888888888888,
              "#fdca26"
             ],
             [
              1,
              "#f0f921"
             ]
            ],
            "type": "surface"
           }
          ],
          "table": [
           {
            "cells": {
             "fill": {
              "color": "#EBF0F8"
             },
             "line": {
              "color": "white"
             }
            },
            "header": {
             "fill": {
              "color": "#C8D4E3"
             },
             "line": {
              "color": "white"
             }
            },
            "type": "table"
           }
          ]
         },
         "layout": {
          "annotationdefaults": {
           "arrowcolor": "#2a3f5f",
           "arrowhead": 0,
           "arrowwidth": 1
          },
          "autotypenumbers": "strict",
          "coloraxis": {
           "colorbar": {
            "outlinewidth": 0,
            "ticks": ""
           }
          },
          "colorscale": {
           "diverging": [
            [
             0,
             "#8e0152"
            ],
            [
             0.1,
             "#c51b7d"
            ],
            [
             0.2,
             "#de77ae"
            ],
            [
             0.3,
             "#f1b6da"
            ],
            [
             0.4,
             "#fde0ef"
            ],
            [
             0.5,
             "#f7f7f7"
            ],
            [
             0.6,
             "#e6f5d0"
            ],
            [
             0.7,
             "#b8e186"
            ],
            [
             0.8,
             "#7fbc41"
            ],
            [
             0.9,
             "#4d9221"
            ],
            [
             1,
             "#276419"
            ]
           ],
           "sequential": [
            [
             0,
             "#0d0887"
            ],
            [
             0.1111111111111111,
             "#46039f"
            ],
            [
             0.2222222222222222,
             "#7201a8"
            ],
            [
             0.3333333333333333,
             "#9c179e"
            ],
            [
             0.4444444444444444,
             "#bd3786"
            ],
            [
             0.5555555555555556,
             "#d8576b"
            ],
            [
             0.6666666666666666,
             "#ed7953"
            ],
            [
             0.7777777777777778,
             "#fb9f3a"
            ],
            [
             0.8888888888888888,
             "#fdca26"
            ],
            [
             1,
             "#f0f921"
            ]
           ],
           "sequentialminus": [
            [
             0,
             "#0d0887"
            ],
            [
             0.1111111111111111,
             "#46039f"
            ],
            [
             0.2222222222222222,
             "#7201a8"
            ],
            [
             0.3333333333333333,
             "#9c179e"
            ],
            [
             0.4444444444444444,
             "#bd3786"
            ],
            [
             0.5555555555555556,
             "#d8576b"
            ],
            [
             0.6666666666666666,
             "#ed7953"
            ],
            [
             0.7777777777777778,
             "#fb9f3a"
            ],
            [
             0.8888888888888888,
             "#fdca26"
            ],
            [
             1,
             "#f0f921"
            ]
           ]
          },
          "colorway": [
           "#636efa",
           "#EF553B",
           "#00cc96",
           "#ab63fa",
           "#FFA15A",
           "#19d3f3",
           "#FF6692",
           "#B6E880",
           "#FF97FF",
           "#FECB52"
          ],
          "font": {
           "color": "#2a3f5f"
          },
          "geo": {
           "bgcolor": "white",
           "lakecolor": "white",
           "landcolor": "#E5ECF6",
           "showlakes": true,
           "showland": true,
           "subunitcolor": "white"
          },
          "hoverlabel": {
           "align": "left"
          },
          "hovermode": "closest",
          "mapbox": {
           "style": "light"
          },
          "paper_bgcolor": "white",
          "plot_bgcolor": "#E5ECF6",
          "polar": {
           "angularaxis": {
            "gridcolor": "white",
            "linecolor": "white",
            "ticks": ""
           },
           "bgcolor": "#E5ECF6",
           "radialaxis": {
            "gridcolor": "white",
            "linecolor": "white",
            "ticks": ""
           }
          },
          "scene": {
           "xaxis": {
            "backgroundcolor": "#E5ECF6",
            "gridcolor": "white",
            "gridwidth": 2,
            "linecolor": "white",
            "showbackground": true,
            "ticks": "",
            "zerolinecolor": "white"
           },
           "yaxis": {
            "backgroundcolor": "#E5ECF6",
            "gridcolor": "white",
            "gridwidth": 2,
            "linecolor": "white",
            "showbackground": true,
            "ticks": "",
            "zerolinecolor": "white"
           },
           "zaxis": {
            "backgroundcolor": "#E5ECF6",
            "gridcolor": "white",
            "gridwidth": 2,
            "linecolor": "white",
            "showbackground": true,
            "ticks": "",
            "zerolinecolor": "white"
           }
          },
          "shapedefaults": {
           "line": {
            "color": "#2a3f5f"
           }
          },
          "ternary": {
           "aaxis": {
            "gridcolor": "white",
            "linecolor": "white",
            "ticks": ""
           },
           "baxis": {
            "gridcolor": "white",
            "linecolor": "white",
            "ticks": ""
           },
           "bgcolor": "#E5ECF6",
           "caxis": {
            "gridcolor": "white",
            "linecolor": "white",
            "ticks": ""
           }
          },
          "title": {
           "x": 0.05
          },
          "xaxis": {
           "automargin": true,
           "gridcolor": "white",
           "linecolor": "white",
           "ticks": "",
           "title": {
            "standoff": 15
           },
           "zerolinecolor": "white",
           "zerolinewidth": 2
          },
          "yaxis": {
           "automargin": true,
           "gridcolor": "white",
           "linecolor": "white",
           "ticks": "",
           "title": {
            "standoff": 15
           },
           "zerolinecolor": "white",
           "zerolinewidth": 2
          }
         }
        },
        "updatemenus": [
         {
          "buttons": [
           {
            "args": [
             null,
             {
              "frame": {
               "duration": 500,
               "redraw": true
              },
              "fromcurrent": true,
              "mode": "immediate",
              "transition": {
               "duration": 500,
               "easing": "linear"
              }
             }
            ],
            "label": "&#9654;",
            "method": "animate"
           },
           {
            "args": [
             [
              null
             ],
             {
              "frame": {
               "duration": 0,
               "redraw": true
              },
              "fromcurrent": true,
              "mode": "immediate",
              "transition": {
               "duration": 0,
               "easing": "linear"
              }
             }
            ],
            "label": "&#9724;",
            "method": "animate"
           }
          ],
          "direction": "left",
          "pad": {
           "r": 10,
           "t": 70
          },
          "showactive": false,
          "type": "buttons",
          "x": 0.1,
          "xanchor": "right",
          "y": 0,
          "yanchor": "top"
         }
        ],
        "xaxis": {
         "anchor": "y",
         "domain": [
          0,
          1
         ]
        },
        "yaxis": {
         "anchor": "x",
         "domain": [
          0,
          1
         ]
        }
       }
      }
     },
     "metadata": {},
     "output_type": "display_data"
    },
    {
     "data": {
      "application/vnd.plotly.v1+json": {
       "config": {
        "plotlyServerURL": "https://plot.ly"
       },
       "data": [
        {
         "hovertemplate": "x: %{x}<br>y: %{y}<br>color: %{z}<extra></extra>",
         "name": "0",
         "source": "data:image/png;base64,iVBORw0KGgoAAAANSUhEUgAAAOAAAADgCAIAAACVT/22AAAClUlEQVR4Xu3coQ0DQRAEQduxfv4xmBsMsVZqUAUPDGpp2b2f53lB1nWg9jf72+f3AUoESppASRMoaQIlTaCkCZQ0gZImUNIESppASRMoaQIlTaCkCZQ0gZImUNIESppASRMoaQIlTaCkCZQ0gZImUNIESppASRMoaQIlTaCkva+/z4O/XAdqf7O/OfGkCZQ0gZImUNIESppASRMoaQIlTaCkCZQ0gZImUNIESppASRMoaQIlTaCkCZQ0gZImUNIESppASRMoaQIlTaCkCZQ0gZImUNIESppASfM/KG3Xgdrf7G9OPGkCJU2gpAmUNIGSJlDSBEqaQEkTKGkCJU2gpAmUNIGSJlDSBEqaQEkTKGkCJU2gpAmUNIGSJlDSBEqaQEkTKGkCJU2gpAmUNIGSJlDS/A9K23Wg9jf7mxNPmkBJEyhpAiVNoKQJlDSBkiZQ0gRKmkBJEyhpAiVNoKQJlDSBkiZQ0gRKmkBJEyhpAiVNoKQJlDSBkiZQ0gRKmkBJEyhpAiVNoKQJlDT/g9J2Haj9zf7mxJMmUNIESppASRMoaQIlTaCkCZQ0gZImUNIESppASRMoaQIlTaCkCZQ0gZImUNIESppASRMoaQIlTaCkCZQ0gZImUNIESppASRMoaQIlzf+gtF0Han+zvznxpAmUNIGSJlDSBEqaQEkTKGkCJU2gpAmUNIGSJlDSBEqaQEkTKGkCJU2gpAmUNIGSJlDSBEqaQEkTKGkCJU2gpAmUNIGSJlDSBEqaQEnzPyht14Ha3+xvTjxpAiVNoKQJlDSBkiZQ0gRKmkBJEyhpAiVNoKQJlDSBkiZQ0gRKmkBJEyhpAiVNoKQJlDSBkiZQ0gRKmkBJEyhpAiVNoKQJlDSBkiZQ0r5ExkNM/yP71wAAAABJRU5ErkJggg==",
         "type": "image",
         "xaxis": "x",
         "yaxis": "y"
        }
       ],
       "frames": [
        {
         "data": [
          {
           "name": "0",
           "source": "data:image/png;base64,iVBORw0KGgoAAAANSUhEUgAAAOAAAADgCAIAAACVT/22AAAClUlEQVR4Xu3coQ0DQRAEQduxfv4xmBsMsVZqUAUPDGpp2b2f53lB1nWg9jf72+f3AUoESppASRMoaQIlTaCkCZQ0gZImUNIESppASRMoaQIlTaCkCZQ0gZImUNIESppASRMoaQIlTaCkCZQ0gZImUNIESppASRMoaQIlTaCkva+/z4O/XAdqf7O/OfGkCZQ0gZImUNIESppASRMoaQIlTaCkCZQ0gZImUNIESppASRMoaQIlTaCkCZQ0gZImUNIESppASRMoaQIlTaCkCZQ0gZImUNIESppASfM/KG3Xgdrf7G9OPGkCJU2gpAmUNIGSJlDSBEqaQEkTKGkCJU2gpAmUNIGSJlDSBEqaQEkTKGkCJU2gpAmUNIGSJlDSBEqaQEkTKGkCJU2gpAmUNIGSJlDS/A9K23Wg9jf7mxNPmkBJEyhpAiVNoKQJlDSBkiZQ0gRKmkBJEyhpAiVNoKQJlDSBkiZQ0gRKmkBJEyhpAiVNoKQJlDSBkiZQ0gRKmkBJEyhpAiVNoKQJlDT/g9J2Haj9zf7mxJMmUNIESppASRMoaQIlTaCkCZQ0gZImUNIESppASRMoaQIlTaCkCZQ0gZImUNIESppASRMoaQIlTaCkCZQ0gZImUNIESppASRMoaQIlzf+gtF0Han+zvznxpAmUNIGSJlDSBEqaQEkTKGkCJU2gpAmUNIGSJlDSBEqaQEkTKGkCJU2gpAmUNIGSJlDSBEqaQEkTKGkCJU2gpAmUNIGSJlDSBEqaQEnzPyht14Ha3+xvTjxpAiVNoKQJlDSBkiZQ0gRKmkBJEyhpAiVNoKQJlDSBkiZQ0gRKmkBJEyhpAiVNoKQJlDSBkiZQ0gRKmkBJEyhpAiVNoKQJlDSBkiZQ0r5ExkNM/yP71wAAAABJRU5ErkJggg==",
           "type": "image"
          }
         ],
         "layout": {
          "margin": {
           "t": 60
          }
         },
         "name": "0"
        },
        {
         "data": [
          {
           "name": "1",
           "source": "data:image/png;base64,iVBORw0KGgoAAAANSUhEUgAAAOAAAADgCAIAAACVT/22AAAEBElEQVR4Xu3c4W0UVxhA0c8RZeD0AX3QwTYAqQNogAqSPkgfMX2QHxbJsBKbscJ67uycI/8YPVlPK+vqvV3L/u5Op9NA1rUDtf9l9r/sl/MFKBEoaQIlTaCkCZQ0gZImUNIESppASRMoaQIlTaCkCZQ0gZImUNIESppASRMoaQIlTaCkCZQ0gZImUNIESppASRMoaQIlTaCkCZQ0gZJ2d+3xefC/XDtQ+19m/8tc8aQJlDSBkiZQ0gRKmkBJEyhpAiVNoKQJlDSBkiZQ0gRKmkBJEyhpAiVNoKQJlDSBkiZQ0gRKmkBJEyhpAiVNoKQJlDSBkiZQ0gRKmkBJMx+UtmsHav/L7H+ZK540gZImUNIESppASRMoaQIlTaCkCZQ0gZImUNIESppASRMoaQIlTaCkCZQ0gZImUNIESppASRMoaQIlTaCkCZQ0gZImUNIESppASRMoaeaDkvZiZj59+nS+/POcTqe973++xPeu+vN3xZMmUNIESppASRMoaQIlTaCkCZQ0gZImUNIESppASRMoaQIlTaCkCZQ0gZImUNIESppASRMoaQIlTaCkCZQ0gZImUNIESppASRMoaQIlzXxQ0l6cL/Dsrjpf8xkOoKu+flc8aQLdj5cz72e+fvv6a+b9zMvz77oxAt2JNzOfZ94tVu5n3s18vvFGBboHj2fn/fnyzMz9zOfztVsi0D14+4M6H93PvD1fuxkC3YPlzf5h5m7mbuaPxeKbxfNtEeje/PbtYVntq8XzbREoaQLdm99nZublzIfF4p+L59si0D1Ytvhm5uvMw/fvO5fvR2+LQPfg48zD+dq/HmY+nq/dDIHuwZeZ1z9o9GHm9fnaLRHoTjw2urzrZ+bdzK8zX75fvC0C3Y8vi98xPbrdm/0fAiVNoKQJlDR/Ub8HX88XjsMJSpoTdA/uFs8HO02doKQJlDSBkiZQ0nxI2oODfTBacoKS5gTdg+WvmQ7GCUqaQEkTKGnmg5L2Yq483/F0Ou19//Oln83rv8AVT9pTAj3kfEq2tTrQo86nZFvrAj3wfEq2tS7QA8+nZFvrAl3e7AebT8m21gW6dLD5lGzr6YHCM3p6oAebT8m21gV64PmUbGtdoAeeT8m21gV64PmUbGtdoHPc+ZRsa3Wgc9D5lGzrKYHCsxMoaQIlbd2/HR94cADbcoKStu4EPfB8SrblBCVNoKQJlDSBkrbuQ5IPRmzECUrauhP0wPMp2ZYTlDSBkiZQ0swHJc180P9wA/ufL/1sV339rnjSBEqaQEkTKGkCJU2gpAmUNIGSJlDSBEqaQEkTKGkCJU2gpAmUNIGSJlDSBEqaQEkTKGkCJU2gpAmUNIGSJlDSBEqaQEkTKGkCJU2gpP0NIDSU4hJXyWgAAAAASUVORK5CYII=",
           "type": "image"
          }
         ],
         "layout": {
          "margin": {
           "t": 60
          }
         },
         "name": "1"
        },
        {
         "data": [
          {
           "name": "2",
           "source": "data:image/png;base64,iVBORw0KGgoAAAANSUhEUgAAAOAAAADgCAIAAACVT/22AAAEBElEQVR4Xu3c4W0UVxhA0c8RZeD0AX3QwTYAqQNogAqSPkgfMX2QHxbJsBKbscJ67uycI/8YPVlPK+vqvV3L/u5Op9NA1rUDtf9l9r/sl/MFKBEoaQIlTaCkCZQ0gZImUNIESppASRMoaQIlTaCkCZQ0gZImUNIESppASRMoaQIlTaCkCZQ0gZImUNIESppASRMoaQIlTaCkCZQ0gZJ2d+3xefC/XDtQ+19m/8tc8aQJlDSBkiZQ0gRKmkBJEyhpAiVNoKQJlDSBkiZQ0gRKmkBJEyhpAiVNoKQJlDSBkiZQ0gRKmkBJEyhpAiVNoKQJlDSBkiZQ0gRKmkBJMx+UtmsHav/L7H+ZK540gZImUNIESppASRMoaQIlTaCkCZQ0gZImUNIESppASRMoaQIlTaCkCZQ0gZImUNIESppASRMoaQIlTaCkCZQ0gZImUNIESppASRMoaeaDkvZiZj59+nS+/POcTqe973++xPeu+vN3xZMmUNIESppASRMoaQIlTaCkCZQ0gZImUNIESppASRMoaQIlTaCkCZQ0gZImUNIESppASRMoaQIlTaCkCZQ0gZImUNIESppASRMoaQIlzXxQ0l6cL/Dsrjpf8xkOoKu+flc8aQLdj5cz72e+fvv6a+b9zMvz77oxAt2JNzOfZ94tVu5n3s18vvFGBboHj2fn/fnyzMz9zOfztVsi0D14+4M6H93PvD1fuxkC3YPlzf5h5m7mbuaPxeKbxfNtEeje/PbtYVntq8XzbREoaQLdm99nZublzIfF4p+L59si0D1Ytvhm5uvMw/fvO5fvR2+LQPfg48zD+dq/HmY+nq/dDIHuwZeZ1z9o9GHm9fnaLRHoTjw2urzrZ+bdzK8zX75fvC0C3Y8vi98xPbrdm/0fAiVNoKQJlDR/Ub8HX88XjsMJSpoTdA/uFs8HO02doKQJlDSBkiZQ0nxI2oODfTBacoKS5gTdg+WvmQ7GCUqaQEkTKGnmg5L2Yq483/F0Ou19//Oln83rv8AVT9pTAj3kfEq2tTrQo86nZFvrAj3wfEq2tS7QA8+nZFvrAl3e7AebT8m21gW6dLD5lGzr6YHCM3p6oAebT8m21gV64PmUbGtdoAeeT8m21gV64PmUbGtdoHPc+ZRsa3Wgc9D5lGzrKYHCsxMoaQIlbd2/HR94cADbcoKStu4EPfB8SrblBCVNoKQJlDSBkrbuQ5IPRmzECUrauhP0wPMp2ZYTlDSBkiZQ0swHJc180P9wA/ufL/1sV339rnjSBEqaQEkTKGkCJU2gpAmUNIGSJlDSBEqaQEkTKGkCJU2gpAmUNIGSJlDSBEqaQEkTKGkCJU2gpAmUNIGSJlDSBEqaQEkTKGkCJU2gpP0NIDSU4hJXyWgAAAAASUVORK5CYII=",
           "type": "image"
          }
         ],
         "layout": {
          "margin": {
           "t": 60
          }
         },
         "name": "2"
        },
        {
         "data": [
          {
           "name": "3",
           "source": "data:image/png;base64,iVBORw0KGgoAAAANSUhEUgAAAOAAAADgCAIAAACVT/22AAAEBElEQVR4Xu3c4W0UVxhA0c8RZeD0AX3QwTYAqQNogAqSPkgfMX2QHxbJsBKbscJ67uycI/8YPVlPK+vqvV3L/u5Op9NA1rUDtf9l9r/sl/MFKBEoaQIlTaCkCZQ0gZImUNIESppASRMoaQIlTaCkCZQ0gZImUNIESppASRMoaQIlTaCkCZQ0gZImUNIESppASRMoaQIlTaCkCZQ0gZJ2d+3xefC/XDtQ+19m/8tc8aQJlDSBkiZQ0gRKmkBJEyhpAiVNoKQJlDSBkiZQ0gRKmkBJEyhpAiVNoKQJlDSBkiZQ0gRKmkBJEyhpAiVNoKQJlDSBkiZQ0gRKmkBJMx+UtmsHav/L7H+ZK540gZImUNIESppASRMoaQIlTaCkCZQ0gZImUNIESppASRMoaQIlTaCkCZQ0gZImUNIESppASRMoaQIlTaCkCZQ0gZImUNIESppASRMoaeaDkvZiZj59+nS+/POcTqe973++xPeu+vN3xZMmUNIESppASRMoaQIlTaCkCZQ0gZImUNIESppASRMoaQIlTaCkCZQ0gZImUNIESppASRMoaQIlTaCkCZQ0gZImUNIESppASRMoaQIlzXxQ0l6cL/Dsrjpf8xkOoKu+flc8aQLdj5cz72e+fvv6a+b9zMvz77oxAt2JNzOfZ94tVu5n3s18vvFGBboHj2fn/fnyzMz9zOfztVsi0D14+4M6H93PvD1fuxkC3YPlzf5h5m7mbuaPxeKbxfNtEeje/PbtYVntq8XzbREoaQLdm99nZublzIfF4p+L59si0D1Ytvhm5uvMw/fvO5fvR2+LQPfg48zD+dq/HmY+nq/dDIHuwZeZ1z9o9GHm9fnaLRHoTjw2urzrZ+bdzK8zX75fvC0C3Y8vi98xPbrdm/0fAiVNoKQJlDR/Ub8HX88XjsMJSpoTdA/uFs8HO02doKQJlDSBkiZQ0nxI2oODfTBacoKS5gTdg+WvmQ7GCUqaQEkTKGnmg5L2Yq483/F0Ou19//Oln83rv8AVT9pTAj3kfEq2tTrQo86nZFvrAj3wfEq2tS7QA8+nZFvrAl3e7AebT8m21gW6dLD5lGzr6YHCM3p6oAebT8m21gV64PmUbGtdoAeeT8m21gV64PmUbGtdoHPc+ZRsa3Wgc9D5lGzrKYHCsxMoaQIlbd2/HR94cADbcoKStu4EPfB8SrblBCVNoKQJlDSBkrbuQ5IPRmzECUrauhP0wPMp2ZYTlDSBkiZQ0swHJc180P9wA/ufL/1sV339rnjSBEqaQEkTKGkCJU2gpAmUNIGSJlDSBEqaQEkTKGkCJU2gpAmUNIGSJlDSBEqaQEkTKGkCJU2gpAmUNIGSJlDSBEqaQEkTKGkCJU2gpP0NIDSU4hJXyWgAAAAASUVORK5CYII=",
           "type": "image"
          }
         ],
         "layout": {
          "margin": {
           "t": 60
          }
         },
         "name": "3"
        },
        {
         "data": [
          {
           "name": "4",
           "source": "data:image/png;base64,iVBORw0KGgoAAAANSUhEUgAAAOAAAADgCAIAAACVT/22AAAEBElEQVR4Xu3c4W0UVxhA0c8RZeD0AX3QwTYAqQNogAqSPkgfMX2QHxbJsBKbscJ67uycI/8YPVlPK+vqvV3L/u5Op9NA1rUDtf9l9r/sl/MFKBEoaQIlTaCkCZQ0gZImUNIESppASRMoaQIlTaCkCZQ0gZImUNIESppASRMoaQIlTaCkCZQ0gZImUNIESppASRMoaQIlTaCkCZQ0gZJ2d+3xefC/XDtQ+19m/8tc8aQJlDSBkiZQ0gRKmkBJEyhpAiVNoKQJlDSBkiZQ0gRKmkBJEyhpAiVNoKQJlDSBkiZQ0gRKmkBJEyhpAiVNoKQJlDSBkiZQ0gRKmkBJMx+UtmsHav/L7H+ZK540gZImUNIESppASRMoaQIlTaCkCZQ0gZImUNIESppASRMoaQIlTaCkCZQ0gZImUNIESppASRMoaQIlTaCkCZQ0gZImUNIESppASRMoaeaDkvZiZj59+nS+/POcTqe973++xPeu+vN3xZMmUNIESppASRMoaQIlTaCkCZQ0gZImUNIESppASRMoaQIlTaCkCZQ0gZImUNIESppASRMoaQIlTaCkCZQ0gZImUNIESppASRMoaQIlzXxQ0l6cL/Dsrjpf8xkOoKu+flc8aQLdj5cz72e+fvv6a+b9zMvz77oxAt2JNzOfZ94tVu5n3s18vvFGBboHj2fn/fnyzMz9zOfztVsi0D14+4M6H93PvD1fuxkC3YPlzf5h5m7mbuaPxeKbxfNtEeje/PbtYVntq8XzbREoaQLdm99nZublzIfF4p+L59si0D1Ytvhm5uvMw/fvO5fvR2+LQPfg48zD+dq/HmY+nq/dDIHuwZeZ1z9o9GHm9fnaLRHoTjw2urzrZ+bdzK8zX75fvC0C3Y8vi98xPbrdm/0fAiVNoKQJlDR/Ub8HX88XjsMJSpoTdA/uFs8HO02doKQJlDSBkiZQ0nxI2oODfTBacoKS5gTdg+WvmQ7GCUqaQEkTKGnmg5L2Yq483/F0Ou19//Oln83rv8AVT9pTAj3kfEq2tTrQo86nZFvrAj3wfEq2tS7QA8+nZFvrAl3e7AebT8m21gW6dLD5lGzr6YHCM3p6oAebT8m21gV64PmUbGtdoAeeT8m21gV64PmUbGtdoHPc+ZRsa3Wgc9D5lGzrKYHCsxMoaQIlbd2/HR94cADbcoKStu4EPfB8SrblBCVNoKQJlDSBkrbuQ5IPRmzECUrauhP0wPMp2ZYTlDSBkiZQ0swHJc180P9wA/ufL/1sV339rnjSBEqaQEkTKGkCJU2gpAmUNIGSJlDSBEqaQEkTKGkCJU2gpAmUNIGSJlDSBEqaQEkTKGkCJU2gpAmUNIGSJlDSBEqaQEkTKGkCJU2gpP0NIDSU4hJXyWgAAAAASUVORK5CYII=",
           "type": "image"
          }
         ],
         "layout": {
          "margin": {
           "t": 60
          }
         },
         "name": "4"
        },
        {
         "data": [
          {
           "name": "5",
           "source": "data:image/png;base64,iVBORw0KGgoAAAANSUhEUgAAAOAAAADgCAIAAACVT/22AAAEBElEQVR4Xu3c4W0UVxhA0c8RZeD0AX3QwTYAqQNogAqSPkgfMX2QHxbJsBKbscJ67uycI/8YPVlPK+vqvV3L/u5Op9NA1rUDtf9l9r/sl/MFKBEoaQIlTaCkCZQ0gZImUNIESppASRMoaQIlTaCkCZQ0gZImUNIESppASRMoaQIlTaCkCZQ0gZImUNIESppASRMoaQIlTaCkCZQ0gZJ2d+3xefC/XDtQ+19m/8tc8aQJlDSBkiZQ0gRKmkBJEyhpAiVNoKQJlDSBkiZQ0gRKmkBJEyhpAiVNoKQJlDSBkiZQ0gRKmkBJEyhpAiVNoKQJlDSBkiZQ0gRKmkBJMx+UtmsHav/L7H+ZK540gZImUNIESppASRMoaQIlTaCkCZQ0gZImUNIESppASRMoaQIlTaCkCZQ0gZImUNIESppASRMoaQIlTaCkCZQ0gZImUNIESppASRMoaeaDkvZiZj59+nS+/POcTqe973++xPeu+vN3xZMmUNIESppASRMoaQIlTaCkCZQ0gZImUNIESppASRMoaQIlTaCkCZQ0gZImUNIESppASRMoaQIlTaCkCZQ0gZImUNIESppASRMoaQIlzXxQ0l6cL/Dsrjpf8xkOoKu+flc8aQLdj5cz72e+fvv6a+b9zMvz77oxAt2JNzOfZ94tVu5n3s18vvFGBboHj2fn/fnyzMz9zOfztVsi0D14+4M6H93PvD1fuxkC3YPlzf5h5m7mbuaPxeKbxfNtEeje/PbtYVntq8XzbREoaQLdm99nZublzIfF4p+L59si0D1Ytvhm5uvMw/fvO5fvR2+LQPfg48zD+dq/HmY+nq/dDIHuwZeZ1z9o9GHm9fnaLRHoTjw2urzrZ+bdzK8zX75fvC0C3Y8vi98xPbrdm/0fAiVNoKQJlDR/Ub8HX88XjsMJSpoTdA/uFs8HO02doKQJlDSBkiZQ0nxI2oODfTBacoKS5gTdg+WvmQ7GCUqaQEkTKGnmg5L2Yq483/F0Ou19//Oln83rv8AVT9pTAj3kfEq2tTrQo86nZFvrAj3wfEq2tS7QA8+nZFvrAl3e7AebT8m21gW6dLD5lGzr6YHCM3p6oAebT8m21gV64PmUbGtdoAeeT8m21gV64PmUbGtdoHPc+ZRsa3Wgc9D5lGzrKYHCsxMoaQIlbd2/HR94cADbcoKStu4EPfB8SrblBCVNoKQJlDSBkrbuQ5IPRmzECUrauhP0wPMp2ZYTlDSBkiZQ0swHJc180P9wA/ufL/1sV339rnjSBEqaQEkTKGkCJU2gpAmUNIGSJlDSBEqaQEkTKGkCJU2gpAmUNIGSJlDSBEqaQEkTKGkCJU2gpAmUNIGSJlDSBEqaQEkTKGkCJU2gpP0NIDSU4hJXyWgAAAAASUVORK5CYII=",
           "type": "image"
          }
         ],
         "layout": {
          "margin": {
           "t": 60
          }
         },
         "name": "5"
        },
        {
         "data": [
          {
           "name": "6",
           "source": "data:image/png;base64,iVBORw0KGgoAAAANSUhEUgAAAOAAAADgCAIAAACVT/22AAAEBElEQVR4Xu3c4W0UVxhA0c8RZeD0AX3QwTYAqQNogAqSPkgfMX2QHxbJsBKbscJ67uycI/8YPVlPK+vqvV3L/u5Op9NA1rUDtf9l9r/sl/MFKBEoaQIlTaCkCZQ0gZImUNIESppASRMoaQIlTaCkCZQ0gZImUNIESppASRMoaQIlTaCkCZQ0gZImUNIESppASRMoaQIlTaCkCZQ0gZJ2d+3xefC/XDtQ+19m/8tc8aQJlDSBkiZQ0gRKmkBJEyhpAiVNoKQJlDSBkiZQ0gRKmkBJEyhpAiVNoKQJlDSBkiZQ0gRKmkBJEyhpAiVNoKQJlDSBkiZQ0gRKmkBJMx+UtmsHav/L7H+ZK540gZImUNIESppASRMoaQIlTaCkCZQ0gZImUNIESppASRMoaQIlTaCkCZQ0gZImUNIESppASRMoaQIlTaCkCZQ0gZImUNIESppASRMoaeaDkvZiZj59+nS+/POcTqe973++xPeu+vN3xZMmUNIESppASRMoaQIlTaCkCZQ0gZImUNIESppASRMoaQIlTaCkCZQ0gZImUNIESppASRMoaQIlTaCkCZQ0gZImUNIESppASRMoaQIlzXxQ0l6cL/Dsrjpf8xkOoKu+flc8aQLdj5cz72e+fvv6a+b9zMvz77oxAt2JNzOfZ94tVu5n3s18vvFGBboHj2fn/fnyzMz9zOfztVsi0D14+4M6H93PvD1fuxkC3YPlzf5h5m7mbuaPxeKbxfNtEeje/PbtYVntq8XzbREoaQLdm99nZublzIfF4p+L59si0D1Ytvhm5uvMw/fvO5fvR2+LQPfg48zD+dq/HmY+nq/dDIHuwZeZ1z9o9GHm9fnaLRHoTjw2urzrZ+bdzK8zX75fvC0C3Y8vi98xPbrdm/0fAiVNoKQJlDR/Ub8HX88XjsMJSpoTdA/uFs8HO02doKQJlDSBkiZQ0nxI2oODfTBacoKS5gTdg+WvmQ7GCUqaQEkTKGnmg5L2Yq483/F0Ou19//Oln83rv8AVT9pTAj3kfEq2tTrQo86nZFvrAj3wfEq2tS7QA8+nZFvrAl3e7AebT8m21gW6dLD5lGzr6YHCM3p6oAebT8m21gV64PmUbGtdoAeeT8m21gV64PmUbGtdoHPc+ZRsa3Wgc9D5lGzrKYHCsxMoaQIlbd2/HR94cADbcoKStu4EPfB8SrblBCVNoKQJlDSBkrbuQ5IPRmzECUrauhP0wPMp2ZYTlDSBkiZQ0swHJc180P9wA/ufL/1sV339rnjSBEqaQEkTKGkCJU2gpAmUNIGSJlDSBEqaQEkTKGkCJU2gpAmUNIGSJlDSBEqaQEkTKGkCJU2gpAmUNIGSJlDSBEqaQEkTKGkCJU2gpP0NIDSU4hJXyWgAAAAASUVORK5CYII=",
           "type": "image"
          }
         ],
         "layout": {
          "margin": {
           "t": 60
          }
         },
         "name": "6"
        },
        {
         "data": [
          {
           "name": "7",
           "source": "data:image/png;base64,iVBORw0KGgoAAAANSUhEUgAAAOAAAADgCAIAAACVT/22AAAEBElEQVR4Xu3c4W0UVxhA0c8RZeD0AX3QwTYAqQNogAqSPkgfMX2QHxbJsBKbscJ67uycI/8YPVlPK+vqvV3L/u5Op9NA1rUDtf9l9r/sl/MFKBEoaQIlTaCkCZQ0gZImUNIESppASRMoaQIlTaCkCZQ0gZImUNIESppASRMoaQIlTaCkCZQ0gZImUNIESppASRMoaQIlTaCkCZQ0gZJ2d+3xefC/XDtQ+19m/8tc8aQJlDSBkiZQ0gRKmkBJEyhpAiVNoKQJlDSBkiZQ0gRKmkBJEyhpAiVNoKQJlDSBkiZQ0gRKmkBJEyhpAiVNoKQJlDSBkiZQ0gRKmkBJMx+UtmsHav/L7H+ZK540gZImUNIESppASRMoaQIlTaCkCZQ0gZImUNIESppASRMoaQIlTaCkCZQ0gZImUNIESppASRMoaQIlTaCkCZQ0gZImUNIESppASRMoaeaDkvZiZj59+nS+/POcTqe973++xPeu+vN3xZMmUNIESppASRMoaQIlTaCkCZQ0gZImUNIESppASRMoaQIlTaCkCZQ0gZImUNIESppASRMoaQIlTaCkCZQ0gZImUNIESppASRMoaQIlzXxQ0l6cL/Dsrjpf8xkOoKu+flc8aQLdj5cz72e+fvv6a+b9zMvz77oxAt2JNzOfZ94tVu5n3s18vvFGBboHj2fn/fnyzMz9zOfztVsi0D14+4M6H93PvD1fuxkC3YPlzf5h5m7mbuaPxeKbxfNtEeje/PbtYVntq8XzbREoaQLdm99nZublzIfF4p+L59si0D1Ytvhm5uvMw/fvO5fvR2+LQPfg48zD+dq/HmY+nq/dDIHuwZeZ1z9o9GHm9fnaLRHoTjw2urzrZ+bdzK8zX75fvC0C3Y8vi98xPbrdm/0fAiVNoKQJlDR/Ub8HX88XjsMJSpoTdA/uFs8HO02doKQJlDSBkiZQ0nxI2oODfTBacoKS5gTdg+WvmQ7GCUqaQEkTKGnmg5L2Yq483/F0Ou19//Oln83rv8AVT9pTAj3kfEq2tTrQo86nZFvrAj3wfEq2tS7QA8+nZFvrAl3e7AebT8m21gW6dLD5lGzr6YHCM3p6oAebT8m21gV64PmUbGtdoAeeT8m21gV64PmUbGtdoHPc+ZRsa3Wgc9D5lGzrKYHCsxMoaQIlbd2/HR94cADbcoKStu4EPfB8SrblBCVNoKQJlDSBkrbuQ5IPRmzECUrauhP0wPMp2ZYTlDSBkiZQ0swHJc180P9wA/ufL/1sV339rnjSBEqaQEkTKGkCJU2gpAmUNIGSJlDSBEqaQEkTKGkCJU2gpAmUNIGSJlDSBEqaQEkTKGkCJU2gpAmUNIGSJlDSBEqaQEkTKGkCJU2gpP0NIDSU4hJXyWgAAAAASUVORK5CYII=",
           "type": "image"
          }
         ],
         "layout": {
          "margin": {
           "t": 60
          }
         },
         "name": "7"
        },
        {
         "data": [
          {
           "name": "8",
           "source": "data:image/png;base64,iVBORw0KGgoAAAANSUhEUgAAAOAAAADgCAIAAACVT/22AAAEBElEQVR4Xu3c4W0UVxhA0c8RZeD0AX3QwTYAqQNogAqSPkgfMX2QHxbJsBKbscJ67uycI/8YPVlPK+vqvV3L/u5Op9NA1rUDtf9l9r/sl/MFKBEoaQIlTaCkCZQ0gZImUNIESppASRMoaQIlTaCkCZQ0gZImUNIESppASRMoaQIlTaCkCZQ0gZImUNIESppASRMoaQIlTaCkCZQ0gZJ2d+3xefC/XDtQ+19m/8tc8aQJlDSBkiZQ0gRKmkBJEyhpAiVNoKQJlDSBkiZQ0gRKmkBJEyhpAiVNoKQJlDSBkiZQ0gRKmkBJEyhpAiVNoKQJlDSBkiZQ0gRKmkBJMx+UtmsHav/L7H+ZK540gZImUNIESppASRMoaQIlTaCkCZQ0gZImUNIESppASRMoaQIlTaCkCZQ0gZImUNIESppASRMoaQIlTaCkCZQ0gZImUNIESppASRMoaeaDkvZiZj59+nS+/POcTqe973++xPeu+vN3xZMmUNIESppASRMoaQIlTaCkCZQ0gZImUNIESppASRMoaQIlTaCkCZQ0gZImUNIESppASRMoaQIlTaCkCZQ0gZImUNIESppASRMoaQIlzXxQ0l6cL/Dsrjpf8xkOoKu+flc8aQLdj5cz72e+fvv6a+b9zMvz77oxAt2JNzOfZ94tVu5n3s18vvFGBboHj2fn/fnyzMz9zOfztVsi0D14+4M6H93PvD1fuxkC3YPlzf5h5m7mbuaPxeKbxfNtEeje/PbtYVntq8XzbREoaQLdm99nZublzIfF4p+L59si0D1Ytvhm5uvMw/fvO5fvR2+LQPfg48zD+dq/HmY+nq/dDIHuwZeZ1z9o9GHm9fnaLRHoTjw2urzrZ+bdzK8zX75fvC0C3Y8vi98xPbrdm/0fAiVNoKQJlDR/Ub8HX88XjsMJSpoTdA/uFs8HO02doKQJlDSBkiZQ0nxI2oODfTBacoKS5gTdg+WvmQ7GCUqaQEkTKGnmg5L2Yq483/F0Ou19//Oln83rv8AVT9pTAj3kfEq2tTrQo86nZFvrAj3wfEq2tS7QA8+nZFvrAl3e7AebT8m21gW6dLD5lGzr6YHCM3p6oAebT8m21gV64PmUbGtdoAeeT8m21gV64PmUbGtdoHPc+ZRsa3Wgc9D5lGzrKYHCsxMoaQIlbd2/HR94cADbcoKStu4EPfB8SrblBCVNoKQJlDSBkrbuQ5IPRmzECUrauhP0wPMp2ZYTlDSBkiZQ0swHJc180P9wA/ufL/1sV339rnjSBEqaQEkTKGkCJU2gpAmUNIGSJlDSBEqaQEkTKGkCJU2gpAmUNIGSJlDSBEqaQEkTKGkCJU2gpAmUNIGSJlDSBEqaQEkTKGkCJU2gpP0NIDSU4hJXyWgAAAAASUVORK5CYII=",
           "type": "image"
          }
         ],
         "layout": {
          "margin": {
           "t": 60
          }
         },
         "name": "8"
        },
        {
         "data": [
          {
           "name": "9",
           "source": "data:image/png;base64,iVBORw0KGgoAAAANSUhEUgAAAOAAAADgCAIAAACVT/22AAAEBElEQVR4Xu3c4W0UVxhA0c8RZeD0AX3QwTYAqQNogAqSPkgfMX2QHxbJsBKbscJ67uycI/8YPVlPK+vqvV3L/u5Op9NA1rUDtf9l9r/sl/MFKBEoaQIlTaCkCZQ0gZImUNIESppASRMoaQIlTaCkCZQ0gZImUNIESppASRMoaQIlTaCkCZQ0gZImUNIESppASRMoaQIlTaCkCZQ0gZJ2d+3xefC/XDtQ+19m/8tc8aQJlDSBkiZQ0gRKmkBJEyhpAiVNoKQJlDSBkiZQ0gRKmkBJEyhpAiVNoKQJlDSBkiZQ0gRKmkBJEyhpAiVNoKQJlDSBkiZQ0gRKmkBJMx+UtmsHav/L7H+ZK540gZImUNIESppASRMoaQIlTaCkCZQ0gZImUNIESppASRMoaQIlTaCkCZQ0gZImUNIESppASRMoaQIlTaCkCZQ0gZImUNIESppASRMoaeaDkvZiZj59+nS+/POcTqe973++xPeu+vN3xZMmUNIESppASRMoaQIlTaCkCZQ0gZImUNIESppASRMoaQIlTaCkCZQ0gZImUNIESppASRMoaQIlTaCkCZQ0gZImUNIESppASRMoaQIlzXxQ0l6cL/Dsrjpf8xkOoKu+flc8aQLdj5cz72e+fvv6a+b9zMvz77oxAt2JNzOfZ94tVu5n3s18vvFGBboHj2fn/fnyzMz9zOfztVsi0D14+4M6H93PvD1fuxkC3YPlzf5h5m7mbuaPxeKbxfNtEeje/PbtYVntq8XzbREoaQLdm99nZublzIfF4p+L59si0D1Ytvhm5uvMw/fvO5fvR2+LQPfg48zD+dq/HmY+nq/dDIHuwZeZ1z9o9GHm9fnaLRHoTjw2urzrZ+bdzK8zX75fvC0C3Y8vi98xPbrdm/0fAiVNoKQJlDR/Ub8HX88XjsMJSpoTdA/uFs8HO02doKQJlDSBkiZQ0nxI2oODfTBacoKS5gTdg+WvmQ7GCUqaQEkTKGnmg5L2Yq483/F0Ou19//Oln83rv8AVT9pTAj3kfEq2tTrQo86nZFvrAj3wfEq2tS7QA8+nZFvrAl3e7AebT8m21gW6dLD5lGzr6YHCM3p6oAebT8m21gV64PmUbGtdoAeeT8m21gV64PmUbGtdoHPc+ZRsa3Wgc9D5lGzrKYHCsxMoaQIlbd2/HR94cADbcoKStu4EPfB8SrblBCVNoKQJlDSBkrbuQ5IPRmzECUrauhP0wPMp2ZYTlDSBkiZQ0swHJc180P9wA/ufL/1sV339rnjSBEqaQEkTKGkCJU2gpAmUNIGSJlDSBEqaQEkTKGkCJU2gpAmUNIGSJlDSBEqaQEkTKGkCJU2gpAmUNIGSJlDSBEqaQEkTKGkCJU2gpP0NIDSU4hJXyWgAAAAASUVORK5CYII=",
           "type": "image"
          }
         ],
         "layout": {
          "margin": {
           "t": 60
          }
         },
         "name": "9"
        }
       ],
       "layout": {
        "margin": {
         "t": 60
        },
        "sliders": [
         {
          "active": 0,
          "currentvalue": {
           "prefix": "animation_frame="
          },
          "len": 0.9,
          "pad": {
           "b": 10,
           "t": 60
          },
          "steps": [
           {
            "args": [
             [
              "0"
             ],
             {
              "frame": {
               "duration": 0,
               "redraw": true
              },
              "fromcurrent": true,
              "mode": "immediate",
              "transition": {
               "duration": 0,
               "easing": "linear"
              }
             }
            ],
            "label": "0",
            "method": "animate"
           },
           {
            "args": [
             [
              "1"
             ],
             {
              "frame": {
               "duration": 0,
               "redraw": true
              },
              "fromcurrent": true,
              "mode": "immediate",
              "transition": {
               "duration": 0,
               "easing": "linear"
              }
             }
            ],
            "label": "1",
            "method": "animate"
           },
           {
            "args": [
             [
              "2"
             ],
             {
              "frame": {
               "duration": 0,
               "redraw": true
              },
              "fromcurrent": true,
              "mode": "immediate",
              "transition": {
               "duration": 0,
               "easing": "linear"
              }
             }
            ],
            "label": "2",
            "method": "animate"
           },
           {
            "args": [
             [
              "3"
             ],
             {
              "frame": {
               "duration": 0,
               "redraw": true
              },
              "fromcurrent": true,
              "mode": "immediate",
              "transition": {
               "duration": 0,
               "easing": "linear"
              }
             }
            ],
            "label": "3",
            "method": "animate"
           },
           {
            "args": [
             [
              "4"
             ],
             {
              "frame": {
               "duration": 0,
               "redraw": true
              },
              "fromcurrent": true,
              "mode": "immediate",
              "transition": {
               "duration": 0,
               "easing": "linear"
              }
             }
            ],
            "label": "4",
            "method": "animate"
           },
           {
            "args": [
             [
              "5"
             ],
             {
              "frame": {
               "duration": 0,
               "redraw": true
              },
              "fromcurrent": true,
              "mode": "immediate",
              "transition": {
               "duration": 0,
               "easing": "linear"
              }
             }
            ],
            "label": "5",
            "method": "animate"
           },
           {
            "args": [
             [
              "6"
             ],
             {
              "frame": {
               "duration": 0,
               "redraw": true
              },
              "fromcurrent": true,
              "mode": "immediate",
              "transition": {
               "duration": 0,
               "easing": "linear"
              }
             }
            ],
            "label": "6",
            "method": "animate"
           },
           {
            "args": [
             [
              "7"
             ],
             {
              "frame": {
               "duration": 0,
               "redraw": true
              },
              "fromcurrent": true,
              "mode": "immediate",
              "transition": {
               "duration": 0,
               "easing": "linear"
              }
             }
            ],
            "label": "7",
            "method": "animate"
           },
           {
            "args": [
             [
              "8"
             ],
             {
              "frame": {
               "duration": 0,
               "redraw": true
              },
              "fromcurrent": true,
              "mode": "immediate",
              "transition": {
               "duration": 0,
               "easing": "linear"
              }
             }
            ],
            "label": "8",
            "method": "animate"
           },
           {
            "args": [
             [
              "9"
             ],
             {
              "frame": {
               "duration": 0,
               "redraw": true
              },
              "fromcurrent": true,
              "mode": "immediate",
              "transition": {
               "duration": 0,
               "easing": "linear"
              }
             }
            ],
            "label": "9",
            "method": "animate"
           }
          ],
          "x": 0.1,
          "xanchor": "left",
          "y": 0,
          "yanchor": "top"
         }
        ],
        "template": {
         "data": {
          "bar": [
           {
            "error_x": {
             "color": "#2a3f5f"
            },
            "error_y": {
             "color": "#2a3f5f"
            },
            "marker": {
             "line": {
              "color": "#E5ECF6",
              "width": 0.5
             },
             "pattern": {
              "fillmode": "overlay",
              "size": 10,
              "solidity": 0.2
             }
            },
            "type": "bar"
           }
          ],
          "barpolar": [
           {
            "marker": {
             "line": {
              "color": "#E5ECF6",
              "width": 0.5
             },
             "pattern": {
              "fillmode": "overlay",
              "size": 10,
              "solidity": 0.2
             }
            },
            "type": "barpolar"
           }
          ],
          "carpet": [
           {
            "aaxis": {
             "endlinecolor": "#2a3f5f",
             "gridcolor": "white",
             "linecolor": "white",
             "minorgridcolor": "white",
             "startlinecolor": "#2a3f5f"
            },
            "baxis": {
             "endlinecolor": "#2a3f5f",
             "gridcolor": "white",
             "linecolor": "white",
             "minorgridcolor": "white",
             "startlinecolor": "#2a3f5f"
            },
            "type": "carpet"
           }
          ],
          "choropleth": [
           {
            "colorbar": {
             "outlinewidth": 0,
             "ticks": ""
            },
            "type": "choropleth"
           }
          ],
          "contour": [
           {
            "colorbar": {
             "outlinewidth": 0,
             "ticks": ""
            },
            "colorscale": [
             [
              0,
              "#0d0887"
             ],
             [
              0.1111111111111111,
              "#46039f"
             ],
             [
              0.2222222222222222,
              "#7201a8"
             ],
             [
              0.3333333333333333,
              "#9c179e"
             ],
             [
              0.4444444444444444,
              "#bd3786"
             ],
             [
              0.5555555555555556,
              "#d8576b"
             ],
             [
              0.6666666666666666,
              "#ed7953"
             ],
             [
              0.7777777777777778,
              "#fb9f3a"
             ],
             [
              0.8888888888888888,
              "#fdca26"
             ],
             [
              1,
              "#f0f921"
             ]
            ],
            "type": "contour"
           }
          ],
          "contourcarpet": [
           {
            "colorbar": {
             "outlinewidth": 0,
             "ticks": ""
            },
            "type": "contourcarpet"
           }
          ],
          "heatmap": [
           {
            "colorbar": {
             "outlinewidth": 0,
             "ticks": ""
            },
            "colorscale": [
             [
              0,
              "#0d0887"
             ],
             [
              0.1111111111111111,
              "#46039f"
             ],
             [
              0.2222222222222222,
              "#7201a8"
             ],
             [
              0.3333333333333333,
              "#9c179e"
             ],
             [
              0.4444444444444444,
              "#bd3786"
             ],
             [
              0.5555555555555556,
              "#d8576b"
             ],
             [
              0.6666666666666666,
              "#ed7953"
             ],
             [
              0.7777777777777778,
              "#fb9f3a"
             ],
             [
              0.8888888888888888,
              "#fdca26"
             ],
             [
              1,
              "#f0f921"
             ]
            ],
            "type": "heatmap"
           }
          ],
          "heatmapgl": [
           {
            "colorbar": {
             "outlinewidth": 0,
             "ticks": ""
            },
            "colorscale": [
             [
              0,
              "#0d0887"
             ],
             [
              0.1111111111111111,
              "#46039f"
             ],
             [
              0.2222222222222222,
              "#7201a8"
             ],
             [
              0.3333333333333333,
              "#9c179e"
             ],
             [
              0.4444444444444444,
              "#bd3786"
             ],
             [
              0.5555555555555556,
              "#d8576b"
             ],
             [
              0.6666666666666666,
              "#ed7953"
             ],
             [
              0.7777777777777778,
              "#fb9f3a"
             ],
             [
              0.8888888888888888,
              "#fdca26"
             ],
             [
              1,
              "#f0f921"
             ]
            ],
            "type": "heatmapgl"
           }
          ],
          "histogram": [
           {
            "marker": {
             "pattern": {
              "fillmode": "overlay",
              "size": 10,
              "solidity": 0.2
             }
            },
            "type": "histogram"
           }
          ],
          "histogram2d": [
           {
            "colorbar": {
             "outlinewidth": 0,
             "ticks": ""
            },
            "colorscale": [
             [
              0,
              "#0d0887"
             ],
             [
              0.1111111111111111,
              "#46039f"
             ],
             [
              0.2222222222222222,
              "#7201a8"
             ],
             [
              0.3333333333333333,
              "#9c179e"
             ],
             [
              0.4444444444444444,
              "#bd3786"
             ],
             [
              0.5555555555555556,
              "#d8576b"
             ],
             [
              0.6666666666666666,
              "#ed7953"
             ],
             [
              0.7777777777777778,
              "#fb9f3a"
             ],
             [
              0.8888888888888888,
              "#fdca26"
             ],
             [
              1,
              "#f0f921"
             ]
            ],
            "type": "histogram2d"
           }
          ],
          "histogram2dcontour": [
           {
            "colorbar": {
             "outlinewidth": 0,
             "ticks": ""
            },
            "colorscale": [
             [
              0,
              "#0d0887"
             ],
             [
              0.1111111111111111,
              "#46039f"
             ],
             [
              0.2222222222222222,
              "#7201a8"
             ],
             [
              0.3333333333333333,
              "#9c179e"
             ],
             [
              0.4444444444444444,
              "#bd3786"
             ],
             [
              0.5555555555555556,
              "#d8576b"
             ],
             [
              0.6666666666666666,
              "#ed7953"
             ],
             [
              0.7777777777777778,
              "#fb9f3a"
             ],
             [
              0.8888888888888888,
              "#fdca26"
             ],
             [
              1,
              "#f0f921"
             ]
            ],
            "type": "histogram2dcontour"
           }
          ],
          "mesh3d": [
           {
            "colorbar": {
             "outlinewidth": 0,
             "ticks": ""
            },
            "type": "mesh3d"
           }
          ],
          "parcoords": [
           {
            "line": {
             "colorbar": {
              "outlinewidth": 0,
              "ticks": ""
             }
            },
            "type": "parcoords"
           }
          ],
          "pie": [
           {
            "automargin": true,
            "type": "pie"
           }
          ],
          "scatter": [
           {
            "fillpattern": {
             "fillmode": "overlay",
             "size": 10,
             "solidity": 0.2
            },
            "type": "scatter"
           }
          ],
          "scatter3d": [
           {
            "line": {
             "colorbar": {
              "outlinewidth": 0,
              "ticks": ""
             }
            },
            "marker": {
             "colorbar": {
              "outlinewidth": 0,
              "ticks": ""
             }
            },
            "type": "scatter3d"
           }
          ],
          "scattercarpet": [
           {
            "marker": {
             "colorbar": {
              "outlinewidth": 0,
              "ticks": ""
             }
            },
            "type": "scattercarpet"
           }
          ],
          "scattergeo": [
           {
            "marker": {
             "colorbar": {
              "outlinewidth": 0,
              "ticks": ""
             }
            },
            "type": "scattergeo"
           }
          ],
          "scattergl": [
           {
            "marker": {
             "colorbar": {
              "outlinewidth": 0,
              "ticks": ""
             }
            },
            "type": "scattergl"
           }
          ],
          "scattermapbox": [
           {
            "marker": {
             "colorbar": {
              "outlinewidth": 0,
              "ticks": ""
             }
            },
            "type": "scattermapbox"
           }
          ],
          "scatterpolar": [
           {
            "marker": {
             "colorbar": {
              "outlinewidth": 0,
              "ticks": ""
             }
            },
            "type": "scatterpolar"
           }
          ],
          "scatterpolargl": [
           {
            "marker": {
             "colorbar": {
              "outlinewidth": 0,
              "ticks": ""
             }
            },
            "type": "scatterpolargl"
           }
          ],
          "scatterternary": [
           {
            "marker": {
             "colorbar": {
              "outlinewidth": 0,
              "ticks": ""
             }
            },
            "type": "scatterternary"
           }
          ],
          "surface": [
           {
            "colorbar": {
             "outlinewidth": 0,
             "ticks": ""
            },
            "colorscale": [
             [
              0,
              "#0d0887"
             ],
             [
              0.1111111111111111,
              "#46039f"
             ],
             [
              0.2222222222222222,
              "#7201a8"
             ],
             [
              0.3333333333333333,
              "#9c179e"
             ],
             [
              0.4444444444444444,
              "#bd3786"
             ],
             [
              0.5555555555555556,
              "#d8576b"
             ],
             [
              0.6666666666666666,
              "#ed7953"
             ],
             [
              0.7777777777777778,
              "#fb9f3a"
             ],
             [
              0.8888888888888888,
              "#fdca26"
             ],
             [
              1,
              "#f0f921"
             ]
            ],
            "type": "surface"
           }
          ],
          "table": [
           {
            "cells": {
             "fill": {
              "color": "#EBF0F8"
             },
             "line": {
              "color": "white"
             }
            },
            "header": {
             "fill": {
              "color": "#C8D4E3"
             },
             "line": {
              "color": "white"
             }
            },
            "type": "table"
           }
          ]
         },
         "layout": {
          "annotationdefaults": {
           "arrowcolor": "#2a3f5f",
           "arrowhead": 0,
           "arrowwidth": 1
          },
          "autotypenumbers": "strict",
          "coloraxis": {
           "colorbar": {
            "outlinewidth": 0,
            "ticks": ""
           }
          },
          "colorscale": {
           "diverging": [
            [
             0,
             "#8e0152"
            ],
            [
             0.1,
             "#c51b7d"
            ],
            [
             0.2,
             "#de77ae"
            ],
            [
             0.3,
             "#f1b6da"
            ],
            [
             0.4,
             "#fde0ef"
            ],
            [
             0.5,
             "#f7f7f7"
            ],
            [
             0.6,
             "#e6f5d0"
            ],
            [
             0.7,
             "#b8e186"
            ],
            [
             0.8,
             "#7fbc41"
            ],
            [
             0.9,
             "#4d9221"
            ],
            [
             1,
             "#276419"
            ]
           ],
           "sequential": [
            [
             0,
             "#0d0887"
            ],
            [
             0.1111111111111111,
             "#46039f"
            ],
            [
             0.2222222222222222,
             "#7201a8"
            ],
            [
             0.3333333333333333,
             "#9c179e"
            ],
            [
             0.4444444444444444,
             "#bd3786"
            ],
            [
             0.5555555555555556,
             "#d8576b"
            ],
            [
             0.6666666666666666,
             "#ed7953"
            ],
            [
             0.7777777777777778,
             "#fb9f3a"
            ],
            [
             0.8888888888888888,
             "#fdca26"
            ],
            [
             1,
             "#f0f921"
            ]
           ],
           "sequentialminus": [
            [
             0,
             "#0d0887"
            ],
            [
             0.1111111111111111,
             "#46039f"
            ],
            [
             0.2222222222222222,
             "#7201a8"
            ],
            [
             0.3333333333333333,
             "#9c179e"
            ],
            [
             0.4444444444444444,
             "#bd3786"
            ],
            [
             0.5555555555555556,
             "#d8576b"
            ],
            [
             0.6666666666666666,
             "#ed7953"
            ],
            [
             0.7777777777777778,
             "#fb9f3a"
            ],
            [
             0.8888888888888888,
             "#fdca26"
            ],
            [
             1,
             "#f0f921"
            ]
           ]
          },
          "colorway": [
           "#636efa",
           "#EF553B",
           "#00cc96",
           "#ab63fa",
           "#FFA15A",
           "#19d3f3",
           "#FF6692",
           "#B6E880",
           "#FF97FF",
           "#FECB52"
          ],
          "font": {
           "color": "#2a3f5f"
          },
          "geo": {
           "bgcolor": "white",
           "lakecolor": "white",
           "landcolor": "#E5ECF6",
           "showlakes": true,
           "showland": true,
           "subunitcolor": "white"
          },
          "hoverlabel": {
           "align": "left"
          },
          "hovermode": "closest",
          "mapbox": {
           "style": "light"
          },
          "paper_bgcolor": "white",
          "plot_bgcolor": "#E5ECF6",
          "polar": {
           "angularaxis": {
            "gridcolor": "white",
            "linecolor": "white",
            "ticks": ""
           },
           "bgcolor": "#E5ECF6",
           "radialaxis": {
            "gridcolor": "white",
            "linecolor": "white",
            "ticks": ""
           }
          },
          "scene": {
           "xaxis": {
            "backgroundcolor": "#E5ECF6",
            "gridcolor": "white",
            "gridwidth": 2,
            "linecolor": "white",
            "showbackground": true,
            "ticks": "",
            "zerolinecolor": "white"
           },
           "yaxis": {
            "backgroundcolor": "#E5ECF6",
            "gridcolor": "white",
            "gridwidth": 2,
            "linecolor": "white",
            "showbackground": true,
            "ticks": "",
            "zerolinecolor": "white"
           },
           "zaxis": {
            "backgroundcolor": "#E5ECF6",
            "gridcolor": "white",
            "gridwidth": 2,
            "linecolor": "white",
            "showbackground": true,
            "ticks": "",
            "zerolinecolor": "white"
           }
          },
          "shapedefaults": {
           "line": {
            "color": "#2a3f5f"
           }
          },
          "ternary": {
           "aaxis": {
            "gridcolor": "white",
            "linecolor": "white",
            "ticks": ""
           },
           "baxis": {
            "gridcolor": "white",
            "linecolor": "white",
            "ticks": ""
           },
           "bgcolor": "#E5ECF6",
           "caxis": {
            "gridcolor": "white",
            "linecolor": "white",
            "ticks": ""
           }
          },
          "title": {
           "x": 0.05
          },
          "xaxis": {
           "automargin": true,
           "gridcolor": "white",
           "linecolor": "white",
           "ticks": "",
           "title": {
            "standoff": 15
           },
           "zerolinecolor": "white",
           "zerolinewidth": 2
          },
          "yaxis": {
           "automargin": true,
           "gridcolor": "white",
           "linecolor": "white",
           "ticks": "",
           "title": {
            "standoff": 15
           },
           "zerolinecolor": "white",
           "zerolinewidth": 2
          }
         }
        },
        "updatemenus": [
         {
          "buttons": [
           {
            "args": [
             null,
             {
              "frame": {
               "duration": 500,
               "redraw": true
              },
              "fromcurrent": true,
              "mode": "immediate",
              "transition": {
               "duration": 500,
               "easing": "linear"
              }
             }
            ],
            "label": "&#9654;",
            "method": "animate"
           },
           {
            "args": [
             [
              null
             ],
             {
              "frame": {
               "duration": 0,
               "redraw": true
              },
              "fromcurrent": true,
              "mode": "immediate",
              "transition": {
               "duration": 0,
               "easing": "linear"
              }
             }
            ],
            "label": "&#9724;",
            "method": "animate"
           }
          ],
          "direction": "left",
          "pad": {
           "r": 10,
           "t": 70
          },
          "showactive": false,
          "type": "buttons",
          "x": 0.1,
          "xanchor": "right",
          "y": 0,
          "yanchor": "top"
         }
        ],
        "xaxis": {
         "anchor": "y",
         "domain": [
          0,
          1
         ]
        },
        "yaxis": {
         "anchor": "x",
         "domain": [
          0,
          1
         ]
        }
       }
      }
     },
     "metadata": {},
     "output_type": "display_data"
    },
    {
     "data": {
      "application/vnd.plotly.v1+json": {
       "config": {
        "plotlyServerURL": "https://plot.ly"
       },
       "data": [
        {
         "hovertemplate": "x: %{x}<br>y: %{y}<br>color: %{z}<extra></extra>",
         "name": "0",
         "source": "data:image/png;base64,iVBORw0KGgoAAAANSUhEUgAAAOAAAADgCAIAAACVT/22AAAClUlEQVR4Xu3coQ0DQRAEQduxfv4xmBsMsVZqUAUPDGpp2b2f53lB1nWg9jf72+f3AUoESppASRMoaQIlTaCkCZQ0gZImUNIESppASRMoaQIlTaCkCZQ0gZImUNIESppASRMoaQIlTaCkCZQ0gZImUNIESppASRMoaQIlTaCkva+/z4O/XAdqf7O/OfGkCZQ0gZImUNIESppASRMoaQIlTaCkCZQ0gZImUNIESppASRMoaQIlTaCkCZQ0gZImUNIESppASRMoaQIlTaCkCZQ0gZImUNIESppASfM/KG3Xgdrf7G9OPGkCJU2gpAmUNIGSJlDSBEqaQEkTKGkCJU2gpAmUNIGSJlDSBEqaQEkTKGkCJU2gpAmUNIGSJlDSBEqaQEkTKGkCJU2gpAmUNIGSJlDS/A9K23Wg9jf7mxNPmkBJEyhpAiVNoKQJlDSBkiZQ0gRKmkBJEyhpAiVNoKQJlDSBkiZQ0gRKmkBJEyhpAiVNoKQJlDSBkiZQ0gRKmkBJEyhpAiVNoKQJlDT/g9J2Haj9zf7mxJMmUNIESppASRMoaQIlTaCkCZQ0gZImUNIESppASRMoaQIlTaCkCZQ0gZImUNIESppASRMoaQIlTaCkCZQ0gZImUNIESppASRMoaQIlzf+gtF0Han+zvznxpAmUNIGSJlDSBEqaQEkTKGkCJU2gpAmUNIGSJlDSBEqaQEkTKGkCJU2gpAmUNIGSJlDSBEqaQEkTKGkCJU2gpAmUNIGSJlDSBEqaQEnzPyht14Ha3+xvTjxpAiVNoKQJlDSBkiZQ0gRKmkBJEyhpAiVNoKQJlDSBkiZQ0gRKmkBJEyhpAiVNoKQJlDSBkiZQ0gRKmkBJEyhpAiVNoKQJlDSBkiZQ0r5ExkNM/yP71wAAAABJRU5ErkJggg==",
         "type": "image",
         "xaxis": "x",
         "yaxis": "y"
        }
       ],
       "frames": [
        {
         "data": [
          {
           "name": "0",
           "source": "data:image/png;base64,iVBORw0KGgoAAAANSUhEUgAAAOAAAADgCAIAAACVT/22AAAClUlEQVR4Xu3coQ0DQRAEQduxfv4xmBsMsVZqUAUPDGpp2b2f53lB1nWg9jf72+f3AUoESppASRMoaQIlTaCkCZQ0gZImUNIESppASRMoaQIlTaCkCZQ0gZImUNIESppASRMoaQIlTaCkCZQ0gZImUNIESppASRMoaQIlTaCkva+/z4O/XAdqf7O/OfGkCZQ0gZImUNIESppASRMoaQIlTaCkCZQ0gZImUNIESppASRMoaQIlTaCkCZQ0gZImUNIESppASRMoaQIlTaCkCZQ0gZImUNIESppASfM/KG3Xgdrf7G9OPGkCJU2gpAmUNIGSJlDSBEqaQEkTKGkCJU2gpAmUNIGSJlDSBEqaQEkTKGkCJU2gpAmUNIGSJlDSBEqaQEkTKGkCJU2gpAmUNIGSJlDS/A9K23Wg9jf7mxNPmkBJEyhpAiVNoKQJlDSBkiZQ0gRKmkBJEyhpAiVNoKQJlDSBkiZQ0gRKmkBJEyhpAiVNoKQJlDSBkiZQ0gRKmkBJEyhpAiVNoKQJlDT/g9J2Haj9zf7mxJMmUNIESppASRMoaQIlTaCkCZQ0gZImUNIESppASRMoaQIlTaCkCZQ0gZImUNIESppASRMoaQIlTaCkCZQ0gZImUNIESppASRMoaQIlzf+gtF0Han+zvznxpAmUNIGSJlDSBEqaQEkTKGkCJU2gpAmUNIGSJlDSBEqaQEkTKGkCJU2gpAmUNIGSJlDSBEqaQEkTKGkCJU2gpAmUNIGSJlDSBEqaQEnzPyht14Ha3+xvTjxpAiVNoKQJlDSBkiZQ0gRKmkBJEyhpAiVNoKQJlDSBkiZQ0gRKmkBJEyhpAiVNoKQJlDSBkiZQ0gRKmkBJEyhpAiVNoKQJlDSBkiZQ0r5ExkNM/yP71wAAAABJRU5ErkJggg==",
           "type": "image"
          }
         ],
         "layout": {
          "margin": {
           "t": 60
          }
         },
         "name": "0"
        },
        {
         "data": [
          {
           "name": "1",
           "source": "data:image/png;base64,iVBORw0KGgoAAAANSUhEUgAAAOAAAADgCAIAAACVT/22AAAD+UlEQVR4Xu3c0W0UVxSA4eOIMnD6CH3QgRuA1BFogAqSPkgfMX2QBwsyOxJL7GV2fjPfJz+MrqwrP/y6d2cln5u7u7uBrK0Dtf959j/vl/UClAiUNIGSJlDSBEqaQEkTKGkCJU2gpAmUNIGSJlDSBEqaQEkTKGkCJU2gpAmUNIGSJlDSBEqaQEkTKGkCJU2gpAmUNIGSJlDSBEqaQEm72Xp8Hlxk60Dtf579z3PFkyZQ0gRKmkBJEyhpAiVNoKQJlDSBkiZQ0gRKmkBJEyhpAiVNoKQJlDSBkiZQ0gRKmkBJEyhpAiVNoKQJlDSBkiZQ0gRKmkBJEyhpAiXNfFDatg7U/ufZ/zxXPGkCJU2gpAmUNIGSJlDSBEqaQEkTKGkCJU2gpAmUNIGSJlDSBEqaQEkTKGkCJU2gpAmUNIGSJlDSBEqaQEkTKGkCJU2gpAmUNIGSJlDSzAcl7cXMfPjwYb3849zd3dn/jCvsv156VlzxpAmUNIGSJlDSBEqaQEkTKGkCJU2gpAmUNIGSJlDSBEqaQEkTKGkCJU2gpAmUNIGSJlDSBEqaQEkTKGkCJU2gpAmUNIGSJlDSBEqaQEkzH5S0a8wHXS/xc9m0H1c8aQLlWl7O/DHz+cvPPzN/zLxc/9aKQLmK1zMfZ94uVm5n3s58/E6jAmV7D2fn7Xp5ZuZ25uN6bUmgbO/NN+p8cDvzZr32lUDZ3vJmfzdzM3Mz89di8fXi+ZRAua7fvzwsq/1t8XxKoKQJlOv6c2ZmXs68Wyz+vXg+JVC2t2zx9cznmfvTz53Lz6OnBMr23s/cr9f+cz/zfr32lUDZ3qeZV99o9H7m1XptSaBcxUOjy7t+Zt7O/Drz6XTxlEC5lk+L75gefPtm/0qgpAmUNIGS9mK9AD/c5/XC/+cEJc0JyvZuFs+PPE2doKQJlDSBkiZQ0rwksb1HvhgtOUFJc4KyveXXTI/kBCVNoKQJlDTzQUn7GeaDbv33P/f910s/2qZ/vyuetCMF+qT5lOzrMIE+dT4l+zpGoBfMp2Rfxwj0gvmU7OsYgS5v9kfOp2Rfxwh06ZHzKdnX8QLlWTleoI+cT8m+jhHoBfMp2dcxAr1gPiX7OkagF8ynZF/HCHSePp+SfR0m0HnifEr2daRAeYYESppASTvGvx1fMDiAfTlBSTvGCXrBfEr25QQlTaCkCZQ0gZJ2jJckL0bPlhOUtGOcoBfMp2RfTlDSBEqaQEkzH5Q080G/4wrzO+1/hiueNIGSJlDSBEqaQEkTKGkCJU2gpAmUNIGSJlDSBEqaQEkTKGkCJU2gpAmUNIGSJlDSBEqaQEkTKGkCJU2gpAmUNIGSJlDSBEqaQEkTKGn/AmJtmQ4Ri+QXAAAAAElFTkSuQmCC",
           "type": "image"
          }
         ],
         "layout": {
          "margin": {
           "t": 60
          }
         },
         "name": "1"
        },
        {
         "data": [
          {
           "name": "2",
           "source": "data:image/png;base64,iVBORw0KGgoAAAANSUhEUgAAAOAAAADgCAIAAACVT/22AAADk0lEQVR4Xu3cwW0USxRA0TeIMGzy+OThDJwAJg4gAUcAeZg8sPMwCwtoWmL+Aje63T5HXrSerNIs7lTNzKJO19fXA1lbB2r986x/3qv1AEoESppASRMoaQIlTaCkCZQ0gZImUNIESppASRMoaQIlTaCkCZQ0gZImUNIESppASRMoaQIlTaCkCZQ0gZImUNIESppASRMoaQIlTaCknba+Pg/+ytaBWv8865/niCdNoKQJlDSBkiZQ0gRKmkBJEyhpAiVNoKQJlDSBkiZQ0gRKmkBJEyhpAiVNoKQJlDSBkiZQ0gRKmkBJEyhpAiVNoKQJlDSBkiZQ0gRKmvtBads6UOufZ/3zHPGkCZQ0gZImUNIESppASRMoaQIlTaCkCZQ0gZImUNIESppASRMoaQIlTaCkCZQ0gZImUNIESppASRMoaQIlTaCkCZQ0gZImUNIESppASXM/KG1bB2r986x/niOeNIGSJlDSBEqaQEkTKGkCJU2gpAmUNIGSJlDSBEqaQEkTKGkCJU2gpAmUNIGSJlDSBEqaQEkTKGkCJU2gpAmUNIGSJlDSBEqaQEkTKGnuByXt9czc3t6ux8/HG+DwNu3HEU+aQEkTKGkCJU2gpAmUNIGSJlDSBEqaQEkTKGkCJU2gpAmUNIGSJlDSBEqaQEkTKGkCJU2gpAmUNIGSJlDSBEqaQEkTKGkCJU2gpAmUNPeDknaE+0G3fv17X389em6bvn5HPGkC3Y+LmQ8zjz/+vs18mLlY/9fBCHQnrmbuZm4Wk8uZm5m7gzcq0D142jsv1+OZmcuZu/XsSAS6B+/+UOeTy5l369lhCHQPlif7x5nTzGnmy2J4tXg+FoHuzfsfD8tq/1s8H4tASRPo3nyemZmLmY+L4dfF87EIdA+WLV7NPM7c//65c/l59FgEugefZu7Xs1/uZz6tZ4ch0D14mHn7h0bvZ96uZ0ci0J14anR51s/MzcybmYffh8ci0P14WPzG9OS4J/tPAiVNoKQJlLTX6wFBj+vBy2EHJc0OugenxfML203toKQJlDSBkiZQ0nxJ2oMX9sVoyQ5Kmh10D5Y/M70wdlDSBEqaQElzPyhp7gf9H//g/s6t11+Pntumr98RT5pASRMoaQIlTaCkCZQ0gZImUNIESppASRMoaQIlTaCkCZQ0gZImUNIESppASRMoaQIlTaCkCZQ0gZImUNIESppASRMoaQIlTaCkCZS070V4bTsL9qNrAAAAAElFTkSuQmCC",
           "type": "image"
          }
         ],
         "layout": {
          "margin": {
           "t": 60
          }
         },
         "name": "2"
        },
        {
         "data": [
          {
           "name": "3",
           "source": "data:image/png;base64,iVBORw0KGgoAAAANSUhEUgAAAOAAAADgCAIAAACVT/22AAADxklEQVR4Xu3dwVEbWRRA0ecphzE4DghkHIESgEBMAkSA8zDkweThWbDBPWpJltX2teuc5YP/S4tb3U0XfN7tdruBrK0Dtf9h9j/sr+UASgRKmkBJEyhpAiVNoKQJlDSBkiZQ0gRKmkBJEyhpAiVNoKQJlDSBkiZQ0gRKmkBJEyhpAiVNoKQJlDSBkiZQ0gRKmkBJEyhpAiVNoKS92/r4PPghWwdq/8Psf5hbPGkCJU2gpAmUNIGSJlDSBEqaQEkTKGkCJU2gpAmUNIGSJlDSBEqaQEkTKGkCJU2gpAmUNIGSJlDSBEqaQEkTKGkCJU2gpAmUNIGSJlDSnA9K29aB2v8w+x/mFk+aQEkTKGkCJU2gpAmUNIGSJlDSBEqaQEkTKGkCJU2gpAmUNIGSJlDSBEqaQEkTKGkCJU2gpAmUNIGSJlDSBEqaQEkTKGkCJU2gpAmUNOeDkvZ+OfgNPTw8LEeXs9vt7H/A1vu7xZMmUNIESppASRMoaQIlTaCkCZQ0gZImUNIESppASRMoaQIlTaCkCZQ0gZImUNIESppASRMoaQIlTaCkCZQ0gZImUNIESppASRMoaQIlzfmgpL2f7c/XXI74s2zaj1s8aQIlTaCkCZS00wK9nnmc+TLzdebrzJeZx5nr5XfBxR37Lx+vaV59O7yZmZl/Zl5mPs48f/tVuJyDV9Dbmaf/1fnW1czTzO1yDJeyHujtzKflbL9PGmUrK4Fen1znq08eSdnESqCPy8FxZyyBY/YFen3wuXPNlYsol7cv0Lvl4FRnL4QV+wL9ezk41dkLYcW+QF9fc57h7IWwYl+gkLEv0Kfl4FRnL4QV+wL9dzk41dkLYcW+QL/rFf1bZy+EFfsCfZ55Wc6Oe/FbI1zevkBn5uNycNwZS+CYlUCfv/Ot+53LJ5tYCXRm7k9u9G7mfjmDi1gPdGbuZ24OPo++zNyokw0dDHRmnmc+zNzMfH7zmvNp5vPMzcwHd3a2dexPPl49+xmIX+PYFRR+KYGSJlDSBEqaQElzPihpf8L5oFt//t99/+Xo0jb9/G7xpAmUNIGSJlDSBEqaQEkTKGkCJU2gpAmUNIGSJlDSBEqaQEkTKGkCJU2gpAmUNIGSJlDSBEqaQEkTKGkCJU2gpAmUNIGSJlDSBEqaQElzPihpP+N8UPsf8BP2X44ubdPP7xZPmkBJEyhpAiVNoKQJlDSBkiZQ0gRKmkBJEyhpAiVNoKQJlDSBkiZQ0gRKmkBJEyhpAiVNoKQJlDSBkiZQ0gRKmkBJEyhpAiVNoKQJlLT/AByffPy5aDcMAAAAAElFTkSuQmCC",
           "type": "image"
          }
         ],
         "layout": {
          "margin": {
           "t": 60
          }
         },
         "name": "3"
        },
        {
         "data": [
          {
           "name": "4",
           "source": "data:image/png;base64,iVBORw0KGgoAAAANSUhEUgAAAOAAAADgCAIAAACVT/22AAADxklEQVR4Xu3dwVEbWRRA0ecphzE4DghkHIESgEBMAkSA8zDkweThWbDBPWpJltX2teuc5YP/S4tb3U0XfN7tdruBrK0Dtf9h9j/sr+UASgRKmkBJEyhpAiVNoKQJlDSBkiZQ0gRKmkBJEyhpAiVNoKQJlDSBkiZQ0gRKmkBJEyhpAiVNoKQJlDSBkiZQ0gRKmkBJEyhpAiVNoKS92/r4PPghWwdq/8Psf5hbPGkCJU2gpAmUNIGSJlDSBEqaQEkTKGkCJU2gpAmUNIGSJlDSBEqaQEkTKGkCJU2gpAmUNIGSJlDSBEqaQEkTKGkCJU2gpAmUNIGSJlDSnA9K29aB2v8w+x/mFk+aQEkTKGkCJU2gpAmUNIGSJlDSBEqaQEkTKGkCJU2gpAmUNIGSJlDSBEqaQEkTKGkCJU2gpAmUNIGSJlDSBEqaQEkTKGkCJU2gpAmUNOeDkvZ+OfgNPTw8LEeXs9vt7H/A1vu7xZMmUNIESppASRMoaQIlTaCkCZQ0gZImUNIESppASRMoaQIlTaCkCZQ0gZImUNIESppASRMoaQIlTaCkCZQ0gZImUNIESppASRMoaQIlzfmgpL2f7c/XXI74s2zaj1s8aQIlTaCkCZS00wK9nnmc+TLzdebrzJeZx5nr5XfBxR37Lx+vaV59O7yZmZl/Zl5mPs48f/tVuJyDV9Dbmaf/1fnW1czTzO1yDJeyHujtzKflbL9PGmUrK4Fen1znq08eSdnESqCPy8FxZyyBY/YFen3wuXPNlYsol7cv0Lvl4FRnL4QV+wL9ezk41dkLYcW+QF9fc57h7IWwYl+gkLEv0Kfl4FRnL4QV+wL9dzk41dkLYcW+QL/rFf1bZy+EFfsCfZ55Wc6Oe/FbI1zevkBn5uNycNwZS+CYlUCfv/Ot+53LJ5tYCXRm7k9u9G7mfjmDi1gPdGbuZ24OPo++zNyokw0dDHRmnmc+zNzMfH7zmvNp5vPMzcwHd3a2dexPPl49+xmIX+PYFRR+KYGSJlDSBEqaQElzPihpf8L5oFt//t99/+Xo0jb9/G7xpAmUNIGSJlDSBEqaQEkTKGkCJU2gpAmUNIGSJlDSBEqaQEkTKGkCJU2gpAmUNIGSJlDSBEqaQEkTKGkCJU2gpAmUNIGSJlDSBEqaQElzPihpP+N8UPsf8BP2X44ubdPP7xZPmkBJEyhpAiVNoKQJlDSBkiZQ0gRKmkBJEyhpAiVNoKQJlDSBkiZQ0gRKmkBJEyhpAiVNoKQJlDSBkiZQ0gRKmkBJEyhpAiVNoKQJlLT/AByffPy5aDcMAAAAAElFTkSuQmCC",
           "type": "image"
          }
         ],
         "layout": {
          "margin": {
           "t": 60
          }
         },
         "name": "4"
        },
        {
         "data": [
          {
           "name": "5",
           "source": "data:image/png;base64,iVBORw0KGgoAAAANSUhEUgAAAOAAAADgCAIAAACVT/22AAADxklEQVR4Xu3dwVEbWRRA0ecphzE4DghkHIESgEBMAkSA8zDkweThWbDBPWpJltX2teuc5YP/S4tb3U0XfN7tdruBrK0Dtf9h9j/sr+UASgRKmkBJEyhpAiVNoKQJlDSBkiZQ0gRKmkBJEyhpAiVNoKQJlDSBkiZQ0gRKmkBJEyhpAiVNoKQJlDSBkiZQ0gRKmkBJEyhpAiVNoKS92/r4PPghWwdq/8Psf5hbPGkCJU2gpAmUNIGSJlDSBEqaQEkTKGkCJU2gpAmUNIGSJlDSBEqaQEkTKGkCJU2gpAmUNIGSJlDSBEqaQEkTKGkCJU2gpAmUNIGSJlDSnA9K29aB2v8w+x/mFk+aQEkTKGkCJU2gpAmUNIGSJlDSBEqaQEkTKGkCJU2gpAmUNIGSJlDSBEqaQEkTKGkCJU2gpAmUNIGSJlDSBEqaQEkTKGkCJU2gpAmUNOeDkvZ+OfgNPTw8LEeXs9vt7H/A1vu7xZMmUNIESppASRMoaQIlTaCkCZQ0gZImUNIESppASRMoaQIlTaCkCZQ0gZImUNIESppASRMoaQIlTaCkCZQ0gZImUNIESppASRMoaQIlzfmgpL2f7c/XXI74s2zaj1s8aQIlTaCkCZS00wK9nnmc+TLzdebrzJeZx5nr5XfBxR37Lx+vaV59O7yZmZl/Zl5mPs48f/tVuJyDV9Dbmaf/1fnW1czTzO1yDJeyHujtzKflbL9PGmUrK4Fen1znq08eSdnESqCPy8FxZyyBY/YFen3wuXPNlYsol7cv0Lvl4FRnL4QV+wL9ezk41dkLYcW+QF9fc57h7IWwYl+gkLEv0Kfl4FRnL4QV+wL9dzk41dkLYcW+QL/rFf1bZy+EFfsCfZ55Wc6Oe/FbI1zevkBn5uNycNwZS+CYlUCfv/Ot+53LJ5tYCXRm7k9u9G7mfjmDi1gPdGbuZ24OPo++zNyokw0dDHRmnmc+zNzMfH7zmvNp5vPMzcwHd3a2dexPPl49+xmIX+PYFRR+KYGSJlDSBEqaQElzPihpf8L5oFt//t99/+Xo0jb9/G7xpAmUNIGSJlDSBEqaQEkTKGkCJU2gpAmUNIGSJlDSBEqaQEkTKGkCJU2gpAmUNIGSJlDSBEqaQEkTKGkCJU2gpAmUNIGSJlDSBEqaQElzPihpP+N8UPsf8BP2X44ubdPP7xZPmkBJEyhpAiVNoKQJlDSBkiZQ0gRKmkBJEyhpAiVNoKQJlDSBkiZQ0gRKmkBJEyhpAiVNoKQJlDSBkiZQ0gRKmkBJEyhpAiVNoKQJlLT/AByffPy5aDcMAAAAAElFTkSuQmCC",
           "type": "image"
          }
         ],
         "layout": {
          "margin": {
           "t": 60
          }
         },
         "name": "5"
        },
        {
         "data": [
          {
           "name": "6",
           "source": "data:image/png;base64,iVBORw0KGgoAAAANSUhEUgAAAOAAAADgCAIAAACVT/22AAADxklEQVR4Xu3dwVEbWRRA0ecphzE4DghkHIESgEBMAkSA8zDkweThWbDBPWpJltX2teuc5YP/S4tb3U0XfN7tdruBrK0Dtf9h9j/sr+UASgRKmkBJEyhpAiVNoKQJlDSBkiZQ0gRKmkBJEyhpAiVNoKQJlDSBkiZQ0gRKmkBJEyhpAiVNoKQJlDSBkiZQ0gRKmkBJEyhpAiVNoKS92/r4PPghWwdq/8Psf5hbPGkCJU2gpAmUNIGSJlDSBEqaQEkTKGkCJU2gpAmUNIGSJlDSBEqaQEkTKGkCJU2gpAmUNIGSJlDSBEqaQEkTKGkCJU2gpAmUNIGSJlDSnA9K29aB2v8w+x/mFk+aQEkTKGkCJU2gpAmUNIGSJlDSBEqaQEkTKGkCJU2gpAmUNIGSJlDSBEqaQEkTKGkCJU2gpAmUNIGSJlDSBEqaQEkTKGkCJU2gpAmUNOeDkvZ+OfgNPTw8LEeXs9vt7H/A1vu7xZMmUNIESppASRMoaQIlTaCkCZQ0gZImUNIESppASRMoaQIlTaCkCZQ0gZImUNIESppASRMoaQIlTaCkCZQ0gZImUNIESppASRMoaQIlzfmgpL2f7c/XXI74s2zaj1s8aQIlTaCkCZS00wK9nnmc+TLzdebrzJeZx5nr5XfBxR37Lx+vaV59O7yZmZl/Zl5mPs48f/tVuJyDV9Dbmaf/1fnW1czTzO1yDJeyHujtzKflbL9PGmUrK4Fen1znq08eSdnESqCPy8FxZyyBY/YFen3wuXPNlYsol7cv0Lvl4FRnL4QV+wL9ezk41dkLYcW+QF9fc57h7IWwYl+gkLEv0Kfl4FRnL4QV+wL9dzk41dkLYcW+QL/rFf1bZy+EFfsCfZ55Wc6Oe/FbI1zevkBn5uNycNwZS+CYlUCfv/Ot+53LJ5tYCXRm7k9u9G7mfjmDi1gPdGbuZ24OPo++zNyokw0dDHRmnmc+zNzMfH7zmvNp5vPMzcwHd3a2dexPPl49+xmIX+PYFRR+KYGSJlDSBEqaQElzPihpf8L5oFt//t99/+Xo0jb9/G7xpAmUNIGSJlDSBEqaQEkTKGkCJU2gpAmUNIGSJlDSBEqaQEkTKGkCJU2gpAmUNIGSJlDSBEqaQEkTKGkCJU2gpAmUNIGSJlDSBEqaQElzPihpP+N8UPsf8BP2X44ubdPP7xZPmkBJEyhpAiVNoKQJlDSBkiZQ0gRKmkBJEyhpAiVNoKQJlDSBkiZQ0gRKmkBJEyhpAiVNoKQJlDSBkiZQ0gRKmkBJEyhpAiVNoKQJlLT/AByffPy5aDcMAAAAAElFTkSuQmCC",
           "type": "image"
          }
         ],
         "layout": {
          "margin": {
           "t": 60
          }
         },
         "name": "6"
        },
        {
         "data": [
          {
           "name": "7",
           "source": "data:image/png;base64,iVBORw0KGgoAAAANSUhEUgAAAOAAAADgCAIAAACVT/22AAADxklEQVR4Xu3dwVEbWRRA0ecphzE4DghkHIESgEBMAkSA8zDkweThWbDBPWpJltX2teuc5YP/S4tb3U0XfN7tdruBrK0Dtf9h9j/sr+UASgRKmkBJEyhpAiVNoKQJlDSBkiZQ0gRKmkBJEyhpAiVNoKQJlDSBkiZQ0gRKmkBJEyhpAiVNoKQJlDSBkiZQ0gRKmkBJEyhpAiVNoKS92/r4PPghWwdq/8Psf5hbPGkCJU2gpAmUNIGSJlDSBEqaQEkTKGkCJU2gpAmUNIGSJlDSBEqaQEkTKGkCJU2gpAmUNIGSJlDSBEqaQEkTKGkCJU2gpAmUNIGSJlDSnA9K29aB2v8w+x/mFk+aQEkTKGkCJU2gpAmUNIGSJlDSBEqaQEkTKGkCJU2gpAmUNIGSJlDSBEqaQEkTKGkCJU2gpAmUNIGSJlDSBEqaQEkTKGkCJU2gpAmUNOeDkvZ+OfgNPTw8LEeXs9vt7H/A1vu7xZMmUNIESppASRMoaQIlTaCkCZQ0gZImUNIESppASRMoaQIlTaCkCZQ0gZImUNIESppASRMoaQIlTaCkCZQ0gZImUNIESppASRMoaQIlzfmgpL2f7c/XXI74s2zaj1s8aQIlTaCkCZS00wK9nnmc+TLzdebrzJeZx5nr5XfBxR37Lx+vaV59O7yZmZl/Zl5mPs48f/tVuJyDV9Dbmaf/1fnW1czTzO1yDJeyHujtzKflbL9PGmUrK4Fen1znq08eSdnESqCPy8FxZyyBY/YFen3wuXPNlYsol7cv0Lvl4FRnL4QV+wL9ezk41dkLYcW+QF9fc57h7IWwYl+gkLEv0Kfl4FRnL4QV+wL9dzk41dkLYcW+QL/rFf1bZy+EFfsCfZ55Wc6Oe/FbI1zevkBn5uNycNwZS+CYlUCfv/Ot+53LJ5tYCXRm7k9u9G7mfjmDi1gPdGbuZ24OPo++zNyokw0dDHRmnmc+zNzMfH7zmvNp5vPMzcwHd3a2dexPPl49+xmIX+PYFRR+KYGSJlDSBEqaQElzPihpf8L5oFt//t99/+Xo0jb9/G7xpAmUNIGSJlDSBEqaQEkTKGkCJU2gpAmUNIGSJlDSBEqaQEkTKGkCJU2gpAmUNIGSJlDSBEqaQEkTKGkCJU2gpAmUNIGSJlDSBEqaQElzPihpP+N8UPsf8BP2X44ubdPP7xZPmkBJEyhpAiVNoKQJlDSBkiZQ0gRKmkBJEyhpAiVNoKQJlDSBkiZQ0gRKmkBJEyhpAiVNoKQJlDSBkiZQ0gRKmkBJEyhpAiVNoKQJlLT/AByffPy5aDcMAAAAAElFTkSuQmCC",
           "type": "image"
          }
         ],
         "layout": {
          "margin": {
           "t": 60
          }
         },
         "name": "7"
        },
        {
         "data": [
          {
           "name": "8",
           "source": "data:image/png;base64,iVBORw0KGgoAAAANSUhEUgAAAOAAAADgCAIAAACVT/22AAADxklEQVR4Xu3dwVEbWRRA0ecphzE4DghkHIESgEBMAkSA8zDkweThWbDBPWpJltX2teuc5YP/S4tb3U0XfN7tdruBrK0Dtf9h9j/sr+UASgRKmkBJEyhpAiVNoKQJlDSBkiZQ0gRKmkBJEyhpAiVNoKQJlDSBkiZQ0gRKmkBJEyhpAiVNoKQJlDSBkiZQ0gRKmkBJEyhpAiVNoKS92/r4PPghWwdq/8Psf5hbPGkCJU2gpAmUNIGSJlDSBEqaQEkTKGkCJU2gpAmUNIGSJlDSBEqaQEkTKGkCJU2gpAmUNIGSJlDSBEqaQEkTKGkCJU2gpAmUNIGSJlDSnA9K29aB2v8w+x/mFk+aQEkTKGkCJU2gpAmUNIGSJlDSBEqaQEkTKGkCJU2gpAmUNIGSJlDSBEqaQEkTKGkCJU2gpAmUNIGSJlDSBEqaQEkTKGkCJU2gpAmUNOeDkvZ+OfgNPTw8LEeXs9vt7H/A1vu7xZMmUNIESppASRMoaQIlTaCkCZQ0gZImUNIESppASRMoaQIlTaCkCZQ0gZImUNIESppASRMoaQIlTaCkCZQ0gZImUNIESppASRMoaQIlzfmgpL2f7c/XXI74s2zaj1s8aQIlTaCkCZS00wK9nnmc+TLzdebrzJeZx5nr5XfBxR37Lx+vaV59O7yZmZl/Zl5mPs48f/tVuJyDV9Dbmaf/1fnW1czTzO1yDJeyHujtzKflbL9PGmUrK4Fen1znq08eSdnESqCPy8FxZyyBY/YFen3wuXPNlYsol7cv0Lvl4FRnL4QV+wL9ezk41dkLYcW+QF9fc57h7IWwYl+gkLEv0Kfl4FRnL4QV+wL9dzk41dkLYcW+QL/rFf1bZy+EFfsCfZ55Wc6Oe/FbI1zevkBn5uNycNwZS+CYlUCfv/Ot+53LJ5tYCXRm7k9u9G7mfjmDi1gPdGbuZ24OPo++zNyokw0dDHRmnmc+zNzMfH7zmvNp5vPMzcwHd3a2dexPPl49+xmIX+PYFRR+KYGSJlDSBEqaQElzPihpf8L5oFt//t99/+Xo0jb9/G7xpAmUNIGSJlDSBEqaQEkTKGkCJU2gpAmUNIGSJlDSBEqaQEkTKGkCJU2gpAmUNIGSJlDSBEqaQEkTKGkCJU2gpAmUNIGSJlDSBEqaQElzPihpP+N8UPsf8BP2X44ubdPP7xZPmkBJEyhpAiVNoKQJlDSBkiZQ0gRKmkBJEyhpAiVNoKQJlDSBkiZQ0gRKmkBJEyhpAiVNoKQJlDSBkiZQ0gRKmkBJEyhpAiVNoKQJlLT/AByffPy5aDcMAAAAAElFTkSuQmCC",
           "type": "image"
          }
         ],
         "layout": {
          "margin": {
           "t": 60
          }
         },
         "name": "8"
        },
        {
         "data": [
          {
           "name": "9",
           "source": "data:image/png;base64,iVBORw0KGgoAAAANSUhEUgAAAOAAAADgCAIAAACVT/22AAADxklEQVR4Xu3dwVEbWRRA0ecphzE4DghkHIESgEBMAkSA8zDkweThWbDBPWpJltX2teuc5YP/S4tb3U0XfN7tdruBrK0Dtf9h9j/sr+UASgRKmkBJEyhpAiVNoKQJlDSBkiZQ0gRKmkBJEyhpAiVNoKQJlDSBkiZQ0gRKmkBJEyhpAiVNoKQJlDSBkiZQ0gRKmkBJEyhpAiVNoKS92/r4PPghWwdq/8Psf5hbPGkCJU2gpAmUNIGSJlDSBEqaQEkTKGkCJU2gpAmUNIGSJlDSBEqaQEkTKGkCJU2gpAmUNIGSJlDSBEqaQEkTKGkCJU2gpAmUNIGSJlDSnA9K29aB2v8w+x/mFk+aQEkTKGkCJU2gpAmUNIGSJlDSBEqaQEkTKGkCJU2gpAmUNIGSJlDSBEqaQEkTKGkCJU2gpAmUNIGSJlDSBEqaQEkTKGkCJU2gpAmUNOeDkvZ+OfgNPTw8LEeXs9vt7H/A1vu7xZMmUNIESppASRMoaQIlTaCkCZQ0gZImUNIESppASRMoaQIlTaCkCZQ0gZImUNIESppASRMoaQIlTaCkCZQ0gZImUNIESppASRMoaQIlzfmgpL2f7c/XXI74s2zaj1s8aQIlTaCkCZS00wK9nnmc+TLzdebrzJeZx5nr5XfBxR37Lx+vaV59O7yZmZl/Zl5mPs48f/tVuJyDV9Dbmaf/1fnW1czTzO1yDJeyHujtzKflbL9PGmUrK4Fen1znq08eSdnESqCPy8FxZyyBY/YFen3wuXPNlYsol7cv0Lvl4FRnL4QV+wL9ezk41dkLYcW+QF9fc57h7IWwYl+gkLEv0Kfl4FRnL4QV+wL9dzk41dkLYcW+QL/rFf1bZy+EFfsCfZ55Wc6Oe/FbI1zevkBn5uNycNwZS+CYlUCfv/Ot+53LJ5tYCXRm7k9u9G7mfjmDi1gPdGbuZ24OPo++zNyokw0dDHRmnmc+zNzMfH7zmvNp5vPMzcwHd3a2dexPPl49+xmIX+PYFRR+KYGSJlDSBEqaQElzPihpf8L5oFt//t99/+Xo0jb9/G7xpAmUNIGSJlDSBEqaQEkTKGkCJU2gpAmUNIGSJlDSBEqaQEkTKGkCJU2gpAmUNIGSJlDSBEqaQEkTKGkCJU2gpAmUNIGSJlDSBEqaQElzPihpP+N8UPsf8BP2X44ubdPP7xZPmkBJEyhpAiVNoKQJlDSBkiZQ0gRKmkBJEyhpAiVNoKQJlDSBkiZQ0gRKmkBJEyhpAiVNoKQJlDSBkiZQ0gRKmkBJEyhpAiVNoKQJlLT/AByffPy5aDcMAAAAAElFTkSuQmCC",
           "type": "image"
          }
         ],
         "layout": {
          "margin": {
           "t": 60
          }
         },
         "name": "9"
        }
       ],
       "layout": {
        "margin": {
         "t": 60
        },
        "sliders": [
         {
          "active": 0,
          "currentvalue": {
           "prefix": "animation_frame="
          },
          "len": 0.9,
          "pad": {
           "b": 10,
           "t": 60
          },
          "steps": [
           {
            "args": [
             [
              "0"
             ],
             {
              "frame": {
               "duration": 0,
               "redraw": true
              },
              "fromcurrent": true,
              "mode": "immediate",
              "transition": {
               "duration": 0,
               "easing": "linear"
              }
             }
            ],
            "label": "0",
            "method": "animate"
           },
           {
            "args": [
             [
              "1"
             ],
             {
              "frame": {
               "duration": 0,
               "redraw": true
              },
              "fromcurrent": true,
              "mode": "immediate",
              "transition": {
               "duration": 0,
               "easing": "linear"
              }
             }
            ],
            "label": "1",
            "method": "animate"
           },
           {
            "args": [
             [
              "2"
             ],
             {
              "frame": {
               "duration": 0,
               "redraw": true
              },
              "fromcurrent": true,
              "mode": "immediate",
              "transition": {
               "duration": 0,
               "easing": "linear"
              }
             }
            ],
            "label": "2",
            "method": "animate"
           },
           {
            "args": [
             [
              "3"
             ],
             {
              "frame": {
               "duration": 0,
               "redraw": true
              },
              "fromcurrent": true,
              "mode": "immediate",
              "transition": {
               "duration": 0,
               "easing": "linear"
              }
             }
            ],
            "label": "3",
            "method": "animate"
           },
           {
            "args": [
             [
              "4"
             ],
             {
              "frame": {
               "duration": 0,
               "redraw": true
              },
              "fromcurrent": true,
              "mode": "immediate",
              "transition": {
               "duration": 0,
               "easing": "linear"
              }
             }
            ],
            "label": "4",
            "method": "animate"
           },
           {
            "args": [
             [
              "5"
             ],
             {
              "frame": {
               "duration": 0,
               "redraw": true
              },
              "fromcurrent": true,
              "mode": "immediate",
              "transition": {
               "duration": 0,
               "easing": "linear"
              }
             }
            ],
            "label": "5",
            "method": "animate"
           },
           {
            "args": [
             [
              "6"
             ],
             {
              "frame": {
               "duration": 0,
               "redraw": true
              },
              "fromcurrent": true,
              "mode": "immediate",
              "transition": {
               "duration": 0,
               "easing": "linear"
              }
             }
            ],
            "label": "6",
            "method": "animate"
           },
           {
            "args": [
             [
              "7"
             ],
             {
              "frame": {
               "duration": 0,
               "redraw": true
              },
              "fromcurrent": true,
              "mode": "immediate",
              "transition": {
               "duration": 0,
               "easing": "linear"
              }
             }
            ],
            "label": "7",
            "method": "animate"
           },
           {
            "args": [
             [
              "8"
             ],
             {
              "frame": {
               "duration": 0,
               "redraw": true
              },
              "fromcurrent": true,
              "mode": "immediate",
              "transition": {
               "duration": 0,
               "easing": "linear"
              }
             }
            ],
            "label": "8",
            "method": "animate"
           },
           {
            "args": [
             [
              "9"
             ],
             {
              "frame": {
               "duration": 0,
               "redraw": true
              },
              "fromcurrent": true,
              "mode": "immediate",
              "transition": {
               "duration": 0,
               "easing": "linear"
              }
             }
            ],
            "label": "9",
            "method": "animate"
           }
          ],
          "x": 0.1,
          "xanchor": "left",
          "y": 0,
          "yanchor": "top"
         }
        ],
        "template": {
         "data": {
          "bar": [
           {
            "error_x": {
             "color": "#2a3f5f"
            },
            "error_y": {
             "color": "#2a3f5f"
            },
            "marker": {
             "line": {
              "color": "#E5ECF6",
              "width": 0.5
             },
             "pattern": {
              "fillmode": "overlay",
              "size": 10,
              "solidity": 0.2
             }
            },
            "type": "bar"
           }
          ],
          "barpolar": [
           {
            "marker": {
             "line": {
              "color": "#E5ECF6",
              "width": 0.5
             },
             "pattern": {
              "fillmode": "overlay",
              "size": 10,
              "solidity": 0.2
             }
            },
            "type": "barpolar"
           }
          ],
          "carpet": [
           {
            "aaxis": {
             "endlinecolor": "#2a3f5f",
             "gridcolor": "white",
             "linecolor": "white",
             "minorgridcolor": "white",
             "startlinecolor": "#2a3f5f"
            },
            "baxis": {
             "endlinecolor": "#2a3f5f",
             "gridcolor": "white",
             "linecolor": "white",
             "minorgridcolor": "white",
             "startlinecolor": "#2a3f5f"
            },
            "type": "carpet"
           }
          ],
          "choropleth": [
           {
            "colorbar": {
             "outlinewidth": 0,
             "ticks": ""
            },
            "type": "choropleth"
           }
          ],
          "contour": [
           {
            "colorbar": {
             "outlinewidth": 0,
             "ticks": ""
            },
            "colorscale": [
             [
              0,
              "#0d0887"
             ],
             [
              0.1111111111111111,
              "#46039f"
             ],
             [
              0.2222222222222222,
              "#7201a8"
             ],
             [
              0.3333333333333333,
              "#9c179e"
             ],
             [
              0.4444444444444444,
              "#bd3786"
             ],
             [
              0.5555555555555556,
              "#d8576b"
             ],
             [
              0.6666666666666666,
              "#ed7953"
             ],
             [
              0.7777777777777778,
              "#fb9f3a"
             ],
             [
              0.8888888888888888,
              "#fdca26"
             ],
             [
              1,
              "#f0f921"
             ]
            ],
            "type": "contour"
           }
          ],
          "contourcarpet": [
           {
            "colorbar": {
             "outlinewidth": 0,
             "ticks": ""
            },
            "type": "contourcarpet"
           }
          ],
          "heatmap": [
           {
            "colorbar": {
             "outlinewidth": 0,
             "ticks": ""
            },
            "colorscale": [
             [
              0,
              "#0d0887"
             ],
             [
              0.1111111111111111,
              "#46039f"
             ],
             [
              0.2222222222222222,
              "#7201a8"
             ],
             [
              0.3333333333333333,
              "#9c179e"
             ],
             [
              0.4444444444444444,
              "#bd3786"
             ],
             [
              0.5555555555555556,
              "#d8576b"
             ],
             [
              0.6666666666666666,
              "#ed7953"
             ],
             [
              0.7777777777777778,
              "#fb9f3a"
             ],
             [
              0.8888888888888888,
              "#fdca26"
             ],
             [
              1,
              "#f0f921"
             ]
            ],
            "type": "heatmap"
           }
          ],
          "heatmapgl": [
           {
            "colorbar": {
             "outlinewidth": 0,
             "ticks": ""
            },
            "colorscale": [
             [
              0,
              "#0d0887"
             ],
             [
              0.1111111111111111,
              "#46039f"
             ],
             [
              0.2222222222222222,
              "#7201a8"
             ],
             [
              0.3333333333333333,
              "#9c179e"
             ],
             [
              0.4444444444444444,
              "#bd3786"
             ],
             [
              0.5555555555555556,
              "#d8576b"
             ],
             [
              0.6666666666666666,
              "#ed7953"
             ],
             [
              0.7777777777777778,
              "#fb9f3a"
             ],
             [
              0.8888888888888888,
              "#fdca26"
             ],
             [
              1,
              "#f0f921"
             ]
            ],
            "type": "heatmapgl"
           }
          ],
          "histogram": [
           {
            "marker": {
             "pattern": {
              "fillmode": "overlay",
              "size": 10,
              "solidity": 0.2
             }
            },
            "type": "histogram"
           }
          ],
          "histogram2d": [
           {
            "colorbar": {
             "outlinewidth": 0,
             "ticks": ""
            },
            "colorscale": [
             [
              0,
              "#0d0887"
             ],
             [
              0.1111111111111111,
              "#46039f"
             ],
             [
              0.2222222222222222,
              "#7201a8"
             ],
             [
              0.3333333333333333,
              "#9c179e"
             ],
             [
              0.4444444444444444,
              "#bd3786"
             ],
             [
              0.5555555555555556,
              "#d8576b"
             ],
             [
              0.6666666666666666,
              "#ed7953"
             ],
             [
              0.7777777777777778,
              "#fb9f3a"
             ],
             [
              0.8888888888888888,
              "#fdca26"
             ],
             [
              1,
              "#f0f921"
             ]
            ],
            "type": "histogram2d"
           }
          ],
          "histogram2dcontour": [
           {
            "colorbar": {
             "outlinewidth": 0,
             "ticks": ""
            },
            "colorscale": [
             [
              0,
              "#0d0887"
             ],
             [
              0.1111111111111111,
              "#46039f"
             ],
             [
              0.2222222222222222,
              "#7201a8"
             ],
             [
              0.3333333333333333,
              "#9c179e"
             ],
             [
              0.4444444444444444,
              "#bd3786"
             ],
             [
              0.5555555555555556,
              "#d8576b"
             ],
             [
              0.6666666666666666,
              "#ed7953"
             ],
             [
              0.7777777777777778,
              "#fb9f3a"
             ],
             [
              0.8888888888888888,
              "#fdca26"
             ],
             [
              1,
              "#f0f921"
             ]
            ],
            "type": "histogram2dcontour"
           }
          ],
          "mesh3d": [
           {
            "colorbar": {
             "outlinewidth": 0,
             "ticks": ""
            },
            "type": "mesh3d"
           }
          ],
          "parcoords": [
           {
            "line": {
             "colorbar": {
              "outlinewidth": 0,
              "ticks": ""
             }
            },
            "type": "parcoords"
           }
          ],
          "pie": [
           {
            "automargin": true,
            "type": "pie"
           }
          ],
          "scatter": [
           {
            "fillpattern": {
             "fillmode": "overlay",
             "size": 10,
             "solidity": 0.2
            },
            "type": "scatter"
           }
          ],
          "scatter3d": [
           {
            "line": {
             "colorbar": {
              "outlinewidth": 0,
              "ticks": ""
             }
            },
            "marker": {
             "colorbar": {
              "outlinewidth": 0,
              "ticks": ""
             }
            },
            "type": "scatter3d"
           }
          ],
          "scattercarpet": [
           {
            "marker": {
             "colorbar": {
              "outlinewidth": 0,
              "ticks": ""
             }
            },
            "type": "scattercarpet"
           }
          ],
          "scattergeo": [
           {
            "marker": {
             "colorbar": {
              "outlinewidth": 0,
              "ticks": ""
             }
            },
            "type": "scattergeo"
           }
          ],
          "scattergl": [
           {
            "marker": {
             "colorbar": {
              "outlinewidth": 0,
              "ticks": ""
             }
            },
            "type": "scattergl"
           }
          ],
          "scattermapbox": [
           {
            "marker": {
             "colorbar": {
              "outlinewidth": 0,
              "ticks": ""
             }
            },
            "type": "scattermapbox"
           }
          ],
          "scatterpolar": [
           {
            "marker": {
             "colorbar": {
              "outlinewidth": 0,
              "ticks": ""
             }
            },
            "type": "scatterpolar"
           }
          ],
          "scatterpolargl": [
           {
            "marker": {
             "colorbar": {
              "outlinewidth": 0,
              "ticks": ""
             }
            },
            "type": "scatterpolargl"
           }
          ],
          "scatterternary": [
           {
            "marker": {
             "colorbar": {
              "outlinewidth": 0,
              "ticks": ""
             }
            },
            "type": "scatterternary"
           }
          ],
          "surface": [
           {
            "colorbar": {
             "outlinewidth": 0,
             "ticks": ""
            },
            "colorscale": [
             [
              0,
              "#0d0887"
             ],
             [
              0.1111111111111111,
              "#46039f"
             ],
             [
              0.2222222222222222,
              "#7201a8"
             ],
             [
              0.3333333333333333,
              "#9c179e"
             ],
             [
              0.4444444444444444,
              "#bd3786"
             ],
             [
              0.5555555555555556,
              "#d8576b"
             ],
             [
              0.6666666666666666,
              "#ed7953"
             ],
             [
              0.7777777777777778,
              "#fb9f3a"
             ],
             [
              0.8888888888888888,
              "#fdca26"
             ],
             [
              1,
              "#f0f921"
             ]
            ],
            "type": "surface"
           }
          ],
          "table": [
           {
            "cells": {
             "fill": {
              "color": "#EBF0F8"
             },
             "line": {
              "color": "white"
             }
            },
            "header": {
             "fill": {
              "color": "#C8D4E3"
             },
             "line": {
              "color": "white"
             }
            },
            "type": "table"
           }
          ]
         },
         "layout": {
          "annotationdefaults": {
           "arrowcolor": "#2a3f5f",
           "arrowhead": 0,
           "arrowwidth": 1
          },
          "autotypenumbers": "strict",
          "coloraxis": {
           "colorbar": {
            "outlinewidth": 0,
            "ticks": ""
           }
          },
          "colorscale": {
           "diverging": [
            [
             0,
             "#8e0152"
            ],
            [
             0.1,
             "#c51b7d"
            ],
            [
             0.2,
             "#de77ae"
            ],
            [
             0.3,
             "#f1b6da"
            ],
            [
             0.4,
             "#fde0ef"
            ],
            [
             0.5,
             "#f7f7f7"
            ],
            [
             0.6,
             "#e6f5d0"
            ],
            [
             0.7,
             "#b8e186"
            ],
            [
             0.8,
             "#7fbc41"
            ],
            [
             0.9,
             "#4d9221"
            ],
            [
             1,
             "#276419"
            ]
           ],
           "sequential": [
            [
             0,
             "#0d0887"
            ],
            [
             0.1111111111111111,
             "#46039f"
            ],
            [
             0.2222222222222222,
             "#7201a8"
            ],
            [
             0.3333333333333333,
             "#9c179e"
            ],
            [
             0.4444444444444444,
             "#bd3786"
            ],
            [
             0.5555555555555556,
             "#d8576b"
            ],
            [
             0.6666666666666666,
             "#ed7953"
            ],
            [
             0.7777777777777778,
             "#fb9f3a"
            ],
            [
             0.8888888888888888,
             "#fdca26"
            ],
            [
             1,
             "#f0f921"
            ]
           ],
           "sequentialminus": [
            [
             0,
             "#0d0887"
            ],
            [
             0.1111111111111111,
             "#46039f"
            ],
            [
             0.2222222222222222,
             "#7201a8"
            ],
            [
             0.3333333333333333,
             "#9c179e"
            ],
            [
             0.4444444444444444,
             "#bd3786"
            ],
            [
             0.5555555555555556,
             "#d8576b"
            ],
            [
             0.6666666666666666,
             "#ed7953"
            ],
            [
             0.7777777777777778,
             "#fb9f3a"
            ],
            [
             0.8888888888888888,
             "#fdca26"
            ],
            [
             1,
             "#f0f921"
            ]
           ]
          },
          "colorway": [
           "#636efa",
           "#EF553B",
           "#00cc96",
           "#ab63fa",
           "#FFA15A",
           "#19d3f3",
           "#FF6692",
           "#B6E880",
           "#FF97FF",
           "#FECB52"
          ],
          "font": {
           "color": "#2a3f5f"
          },
          "geo": {
           "bgcolor": "white",
           "lakecolor": "white",
           "landcolor": "#E5ECF6",
           "showlakes": true,
           "showland": true,
           "subunitcolor": "white"
          },
          "hoverlabel": {
           "align": "left"
          },
          "hovermode": "closest",
          "mapbox": {
           "style": "light"
          },
          "paper_bgcolor": "white",
          "plot_bgcolor": "#E5ECF6",
          "polar": {
           "angularaxis": {
            "gridcolor": "white",
            "linecolor": "white",
            "ticks": ""
           },
           "bgcolor": "#E5ECF6",
           "radialaxis": {
            "gridcolor": "white",
            "linecolor": "white",
            "ticks": ""
           }
          },
          "scene": {
           "xaxis": {
            "backgroundcolor": "#E5ECF6",
            "gridcolor": "white",
            "gridwidth": 2,
            "linecolor": "white",
            "showbackground": true,
            "ticks": "",
            "zerolinecolor": "white"
           },
           "yaxis": {
            "backgroundcolor": "#E5ECF6",
            "gridcolor": "white",
            "gridwidth": 2,
            "linecolor": "white",
            "showbackground": true,
            "ticks": "",
            "zerolinecolor": "white"
           },
           "zaxis": {
            "backgroundcolor": "#E5ECF6",
            "gridcolor": "white",
            "gridwidth": 2,
            "linecolor": "white",
            "showbackground": true,
            "ticks": "",
            "zerolinecolor": "white"
           }
          },
          "shapedefaults": {
           "line": {
            "color": "#2a3f5f"
           }
          },
          "ternary": {
           "aaxis": {
            "gridcolor": "white",
            "linecolor": "white",
            "ticks": ""
           },
           "baxis": {
            "gridcolor": "white",
            "linecolor": "white",
            "ticks": ""
           },
           "bgcolor": "#E5ECF6",
           "caxis": {
            "gridcolor": "white",
            "linecolor": "white",
            "ticks": ""
           }
          },
          "title": {
           "x": 0.05
          },
          "xaxis": {
           "automargin": true,
           "gridcolor": "white",
           "linecolor": "white",
           "ticks": "",
           "title": {
            "standoff": 15
           },
           "zerolinecolor": "white",
           "zerolinewidth": 2
          },
          "yaxis": {
           "automargin": true,
           "gridcolor": "white",
           "linecolor": "white",
           "ticks": "",
           "title": {
            "standoff": 15
           },
           "zerolinecolor": "white",
           "zerolinewidth": 2
          }
         }
        },
        "updatemenus": [
         {
          "buttons": [
           {
            "args": [
             null,
             {
              "frame": {
               "duration": 500,
               "redraw": true
              },
              "fromcurrent": true,
              "mode": "immediate",
              "transition": {
               "duration": 500,
               "easing": "linear"
              }
             }
            ],
            "label": "&#9654;",
            "method": "animate"
           },
           {
            "args": [
             [
              null
             ],
             {
              "frame": {
               "duration": 0,
               "redraw": true
              },
              "fromcurrent": true,
              "mode": "immediate",
              "transition": {
               "duration": 0,
               "easing": "linear"
              }
             }
            ],
            "label": "&#9724;",
            "method": "animate"
           }
          ],
          "direction": "left",
          "pad": {
           "r": 10,
           "t": 70
          },
          "showactive": false,
          "type": "buttons",
          "x": 0.1,
          "xanchor": "right",
          "y": 0,
          "yanchor": "top"
         }
        ],
        "xaxis": {
         "anchor": "y",
         "domain": [
          0,
          1
         ]
        },
        "yaxis": {
         "anchor": "x",
         "domain": [
          0,
          1
         ]
        }
       }
      }
     },
     "metadata": {},
     "output_type": "display_data"
    }
   ],
   "source": [
    "import sys \n",
    "sys.path.append('..')\n",
    "from src.decision_transformer.offline_dataset import TrajectoryDataset\n",
    "\n",
    "dataset = TrajectoryDataset(trajectory_path, max_len = 10, prob_go_from_end=1, pct_traj=100)\n",
    "\n",
    "from src.visualization import render_minigrid_observations\n",
    "\n",
    "for i in range(len(dataset)):\n",
    "    s, a, r, d, rtg, ti, m = dataset[i]\n",
    "    if i < 3: # 0 and 1 repeat, 2 does not.\n",
    "        px.imshow(render_minigrid_observations(env, s), animation_frame=0).show()"
   ]
  },
  {
   "cell_type": "code",
   "execution_count": null,
   "metadata": {},
   "outputs": [],
   "source": []
  },
  {
   "cell_type": "code",
   "execution_count": null,
   "metadata": {},
   "outputs": [],
   "source": []
  }
 ],
 "metadata": {
  "kernelspec": {
   "display_name": "Python 3",
   "language": "python",
   "name": "python3"
  },
  "language_info": {
   "codemirror_mode": {
    "name": "ipython",
    "version": 3
   },
   "file_extension": ".py",
   "mimetype": "text/x-python",
   "name": "python",
   "nbconvert_exporter": "python",
   "pygments_lexer": "ipython3",
   "version": "3.9.15"
  },
  "orig_nbformat": 4
 },
 "nbformat": 4,
 "nbformat_minor": 2
}
