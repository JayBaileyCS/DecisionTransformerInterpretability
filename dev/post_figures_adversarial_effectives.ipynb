{
 "cells": [
  {
   "cell_type": "markdown",
   "metadata": {},
   "source": [
    "# Task Relevant Concepts, the Instruction feature and Adversarial Prompts for MemoryDT"
   ]
  },
  {
   "cell_type": "markdown",
   "metadata": {},
   "source": [
    "## Set Up "
   ]
  },
  {
   "cell_type": "code",
   "execution_count": 1,
   "metadata": {},
   "outputs": [
    {
     "name": "stdout",
     "output_type": "stream",
     "text": [
      "pygame 2.5.2 (SDL 2.28.3, Python 3.9.15)\n",
      "Hello from the pygame community. https://www.pygame.org/contribute.html\n",
      "Registering DynamicObstaclesMultiEnv-v0\n",
      "Registering CrossingMultiEnv-v0\n",
      "Registering Probe Envs\n"
     ]
    }
   ],
   "source": [
    "import sys \n",
    "import torch\n",
    "import numpy as np\n",
    "import plotly.express as px\n",
    "\n",
    "sys.path.append(\"..\")\n",
    "\n",
    "from src.streamlit_app.environment import get_env_and_dt\n",
    "from src.environments.registration import register_envs\n",
    "from src.environments.memory import MemoryEnv\n",
    "from src.decision_transformer.offline_dataset import one_hot_encode_observation\n",
    "from src.streamlit_app.causal_analysis_components import get_updated_obs\n",
    "\n",
    "register_envs()\n",
    "\n",
    "def get_all_memory_env_scenarios(env, rtg=0.8920):\n",
    "\n",
    "    env.reset()\n",
    "\n",
    "    all_observations = []\n",
    "    all_actions = []\n",
    "\n",
    "    for target_obj in [\"key\", \"ball\"]:\n",
    "        for target_pos in [\"top\", \"bottom\"]:\n",
    "            scenario = f\"{target_obj}_{target_pos}\"\n",
    "            observations = [] \n",
    "            actions= []\n",
    "\n",
    "            # generate the new environment \n",
    "            env._gen_grid(7,7,target_obj=target_obj, target_pos=target_pos)\n",
    "            obs = env.gen_obs()['image']\n",
    "            observations.append(obs)\n",
    "            for i in range(6):\n",
    "                if i == 4: # Turn left or right\n",
    "                    action = 0 if target_pos == \"top\" else 1\n",
    "                else: # Move forward\n",
    "                    action = 2\n",
    "                next_obs, reward, next_done, next_truncated, info  = env.step(action)\n",
    "                observations.append(next_obs['image'])\n",
    "                actions.append(action)\n",
    "            action = 0 if target_pos == \"top\" else 1\n",
    "\n",
    "            all_observations.append(observations)\n",
    "            all_actions.append(actions)\n",
    "\n",
    "            \n",
    "\n",
    "    all_observations = torch.from_numpy(np.stack(all_observations))\n",
    "    all_actions = torch.from_numpy(np.stack(all_actions))\n",
    "\n",
    "    one_hot_s = torch.stack([one_hot_encode_observation(all_observations[i]) for i in range(all_observations.shape[0])])\n",
    "\n",
    "    # pad the first dimension to be 9 with all 0's \n",
    "    obs = torch.cat([\n",
    "        torch.zeros(one_hot_s.shape[0], 9 - one_hot_s.shape[1], *one_hot_s.shape[2:]), \n",
    "        one_hot_s\n",
    "        ], dim=1)\n",
    "    obs.shape\n",
    "\n",
    "    actions = torch.stack([all_actions[i] for i in range(all_actions.shape[0])])\n",
    "    # pad it with 7's so that the length is 9 \n",
    "    actions = torch.cat([\n",
    "        torch.ones(actions.shape[0], 8 - actions.shape[1]) * 7, \n",
    "        actions\n",
    "        ], dim=1).to(int).unsqueeze(-1)\n",
    "    actions.shape\n",
    "\n",
    "    time = torch.cat([\n",
    "        torch.tensor([0]*5),\n",
    "        torch.arange(1,5),\n",
    "        ], dim=0)\n",
    "    # repeat it for each trajectory\n",
    "    time = torch.stack([time] * actions.shape[0]).unsqueeze(-1)\n",
    "\n",
    "    # just set to max for now \n",
    "    rtg = torch.ones(actions.shape[0], time.shape[1]).unsqueeze(-1) * rtg\n",
    "\n",
    "    scenario_labels = [\n",
    "        'Key, Key-Ball',\n",
    "        'Key, Ball-Key',\n",
    "        'Ball, Ball-Key',\n",
    "        'Ball, Key-Ball'\n",
    "    ]\n",
    "\n",
    "    return obs, actions, rtg, time, scenario_labels\n",
    "\n",
    "from src.visualization import render_minigrid_observations, render_minigrid_observation\n",
    "from src.environments.utils import reverse_one_hot\n",
    "import PIL\n",
    "import io\n",
    "from IPython.display import Image\n",
    "\n",
    "def get_images_batched(env, obs):\n",
    "    all_images = []\n",
    "    for scenario in range(obs.shape[0]):\n",
    "        original_obs = np.stack([reverse_one_hot(obs[scenario][i]) for i in range(obs.shape[1])])\n",
    "        images = render_minigrid_observations(env, original_obs)\n",
    "        all_images.append(images)\n",
    "\n",
    "    all_images = torch.from_numpy(np.stack(all_images))\n",
    "    return all_images\n",
    "\n",
    "def get_trajectory_plotly_animation(all_images, \n",
    "    scenario_labels = [\n",
    "        ['Key, Key-Ball',\n",
    "         'Key, Ball-Key',\n",
    "         'Ball, Ball-Key',\n",
    "         'Ball, Key-Ball',]\n",
    "    ]):\n",
    "    # show all trajectories with animation frame. \n",
    "    fig = px.imshow(all_images[:,2:], animation_frame=1, facet_col=0)\n",
    "    # add 0 - 6 as xticks mdoe linear\n",
    "    labels = [str(i) for i in list(range(0,7))]\n",
    "\n",
    " \n",
    "    # compute tick positions assuming the width of the plot is normalized to 1\n",
    "    tick_positions =  np.linspace(0,224,8)[1:] - 16\n",
    "\n",
    "    # add xticks\n",
    "    fig.update_xaxes(\n",
    "        tickmode = 'array',\n",
    "        tickvals = tick_positions,\n",
    "        ticktext = labels\n",
    "    )\n",
    "\n",
    "        # add xticks\n",
    "    fig.update_yaxes(\n",
    "        tickmode = 'array',\n",
    "        tickvals = tick_positions,\n",
    "        ticktext = labels\n",
    "    )\n",
    "\n",
    "    # update facet col names with scenario labels\n",
    "    fig.for_each_annotation(lambda a: a.update(text=scenario_labels[0][int(a.text.split(\"=\")[-1])]))\n",
    "    # increase font size\n",
    "    fig.update_layout(font=dict(size=24))\n",
    "    # make it much larger\n",
    "    fig.update_layout(width=1200)\n",
    "    return fig \n",
    "\n",
    "def create_animation(fig, file_name=\"test.gif\", \n",
    "                     additional_frames_start=0,\n",
    "                     additional_frames_end=5, \n",
    "                     duration=500, loop=0):\n",
    "    \"\"\"\n",
    "    Creates an animated GIF from a Plotly figure with frames.\n",
    "\n",
    "    Parameters:\n",
    "    - fig: The Plotly figure object containing the frames for the animation.\n",
    "    - file_name (str): The name of the output GIF file.\n",
    "    - additional_frames_start (int): The number of additional frames to add at the start of the GIF.\n",
    "    - additional_frames_end (int): The number of additional frames to add at the end of the GIF.\n",
    "    - duration (int): The duration of each frame in the GIF in milliseconds.\n",
    "    - loop (int): The number of times to loop the GIF. 0 for infinite looping.\n",
    "\n",
    "    Returns:\n",
    "    None\n",
    "    \"\"\"\n",
    "    frames = []\n",
    "\n",
    "\n",
    "\n",
    "    for s, fr in enumerate(fig.frames):\n",
    "        # set main traces to appropriate traces within plotly frame\n",
    "        fig.update(data=fr.data)\n",
    "        # move slider to correct place\n",
    "        fig.layout.sliders[0].update(active=s)\n",
    "        # hide controls\n",
    "        fig.layout.updatemenus[0].buttons[0].args[1][\"frame\"][\"duration\"] = 0\n",
    "        # hide play button\n",
    "        fig.layout.updatemenus[0].buttons[1].args[1][\"frame\"][\"duration\"] = 0\n",
    "        # generate image of current state\n",
    "        frames.append(PIL.Image.open(io.BytesIO(fig.to_image(format=\"png\"))))\n",
    "\n",
    "    # append duplicated first image more times, to keep animation stop at first status\n",
    "    for i in range(additional_frames_start):\n",
    "        frames.insert(0, frames[0])\n",
    "\n",
    "    # append duplicated last image more times, to keep animation stop at last status\n",
    "    for i in range(additional_frames_end):\n",
    "        frames.append(frames[-1])\n",
    "\n",
    "    # create animated GIF\n",
    "    frames[0].save(\n",
    "        file_name,\n",
    "        save_all=True,\n",
    "        append_images=frames[1:],\n",
    "        optimize=False,\n",
    "        duration=duration,\n",
    "        loop=loop,\n",
    "    )\n",
    "\n",
    "def update_observations(obs, frame_to_update, positions, channels):\n",
    "    # create a copy of obs to avoid editing it \n",
    "    obs = obs.clone()\n",
    "    for scenario in range(obs.shape[0]):\n",
    "        channel = channels[scenario]\n",
    "\n",
    "        for position in positions:\n",
    "            obs[scenario][frame_to_update] = get_updated_obs(\n",
    "                obs[scenario], frame_to_update, position[0], position[1], channel\n",
    "            )\n",
    "\n",
    "    return obs"
   ]
  },
  {
   "cell_type": "code",
   "execution_count": 2,
   "metadata": {},
   "outputs": [
    {
     "name": "stderr",
     "output_type": "stream",
     "text": [
      "2023-10-04 11:31:49.488 \n",
      "  \u001b[33m\u001b[1mWarning:\u001b[0m to view this Streamlit app on a browser, run it with the following\n",
      "  command:\n",
      "\n",
      "    streamlit run c:\\Users\\Jay\\anaconda3\\envs\\decision_transformer_interpretability\\lib\\site-packages\\ipykernel_launcher.py [ARGUMENTS]\n"
     ]
    },
    {
     "name": "stdout",
     "output_type": "stream",
     "text": [
      "WARNING: no unembed.b_U in state_dict, deleting ln_final.b\n",
      "WARNING: no unembed.b_U in state_dict, deleting ln_final.w. You should be folding these weight into subsequent layers before calling this func.\n",
      "Ignore T-Lens warnings about folding layer norm into unembed, we just did it manually\n",
      "WARNING: no unembed.b_U in state_dict, deleting ln_final.b\n",
      "WARNING: no unembed.b_U in state_dict, deleting ln_final.w. You should be folding these weight into subsequent layers before calling this func.\n",
      "Ignore T-Lens warnings about folding layer norm into unembed, we just did it manually\n"
     ]
    }
   ],
   "source": [
    "# GET MODEL AND ENVIRONMENT\n",
    "model_index = {\n",
    "    # The original post, reproduced with 1/10th of the total training epochs\n",
    "    \"models/MiniGrid-MemoryS7FixedStart-v0/WorkingModel.pt\": \"MemoryDT\",\n",
    "    \"models/MiniGrid-MemoryS7FixedStart-v0/MemoryGatedMLP.pt\": \"MemoryDTGatedMLP\",\n",
    "    \"models/MiniGrid-Dynamic-Obstacles-8x8-v0/ReproduceOriginalPostShort.pt\": \"DynamicObstaclesDT_reproduction\",\n",
    "}\n",
    "\n",
    "env, dt = get_env_and_dt(\"../models/MiniGrid-MemoryS7FixedStart-v0/WorkingModel.pt\")\n",
    "_, dt_gated_mlp = get_env_and_dt(\"../models/MiniGrid-MemoryS7FixedStart-v0/MemoryGatedMLP.pt\")\n",
    "\n",
    "# Convert these synthetic trajectories into what we need for the model\n",
    "env = MemoryEnv(\n",
    "    size=7, \n",
    "    random_direction=False, \n",
    "    random_start_pos=False, \n",
    "    random_length=False, \n",
    "    render_mode=\"rgb_array\")\n",
    "\n",
    "# get all scenarios\n",
    "obs, actions, rtg, time, scenario_labels = get_all_memory_env_scenarios(env, rtg=0.0)\n",
    "\n",
    "# convert to tokens \n",
    "tokens = dt.to_tokens(obs, actions, rtg, time)\n",
    "\n",
    "# run transfomer\n",
    "x, cache = dt.transformer.run_with_cache(tokens, remove_batch_dim=False)\n",
    "\n",
    "# get preds\n",
    "state_preds, action_preds, reward_preds = dt.get_logits(\n",
    "    x, batch_size=4, seq_length=9, no_actions=False,  # we always pad now.\n",
    ") # internal method that sometimes gets different args so we need to know them .\n"
   ]
  },
  {
   "cell_type": "code",
   "execution_count": 3,
   "metadata": {},
   "outputs": [
    {
     "name": "stdout",
     "output_type": "stream",
     "text": [
      "torch.Size([4, 9, 224, 224, 3])\n"
     ]
    },
    {
     "data": {
      "application/vnd.plotly.v1+json": {
       "config": {
        "plotlyServerURL": "https://plot.ly"
       },
       "data": [
        {
         "hovertemplate": "x: %{x}<br>y: %{y}<br>color: %{z}<extra></extra>",
         "name": "0",
         "source": "data:image/png;base64,iVBORw0KGgoAAAANSUhEUgAAAOAAAADgCAIAAACVT/22AAAFMUlEQVR4Xu3c4W3iWBhG4ZdVyoDUEdIHWwENhKkj0MBUkPQBqSPQR/YHInNzZ4GJwXCYex7xw/oGWwgdXRtP5MF0Oo2E1XegHv8wj3/YP/VAIjFQoRmo0AxUaAYqNAMVmoEKzUCFZqBCM1ChGajQDFRoBio0AxWagQrNQIVmoEIzUKEZqNAMVGgGKjQDFZqBCs1AhWagQjNQoRmo0AxUaAYqNAMV2qDvx+dJp3AFFZqBCs1AhWagQjNQoRmo0AxUaAYqNAMVmoEKzUCFZqBCM1ChGajQDFRoBio0AxWagQrNQIVmoEIzUKEZqNAMVGgGKjQDFZqBCs1AhWagQjNQoRmo0AxUaAYqtLt60IOfP3/Wo/OZTqce/4ALHL8enZUrqNBIgQ6T5+Rj93pPnpNh/S41BRPoJFkms2IySmbJ0kabxgh0u3aO6nGSjJJlPVM7GIE+7alza5Q81TOd00Pykix3F1fL5CV5qN91FYxAyzP7PBkkg+S1GE6KbZ3RQ/KerJJJMt4Nx8kkWSXv18+UEWjpx26jrPbzu9MZPSWrY+eu1ZVPX7xAdRlPybye/b/5NRvlBfqSJBl+/fpWxbZO9/DHdW7Nr3auZwRaflmT5CNZf73uLK9HdbrtKvAtHXY5B0agi2Rdz35ZJ4t6pu4eDl537jO6ziLKCHSTPO5pdJ081jOdpPz1+S2ddzwBI9DsGq0ujGbJfbL5OtSJOv/PXOcdT4AJNMmmuMe05Zm9D53v2XXe8QSkQKXfGGh7Ot+z67zjCQy0PZ2v6TvveAJGoJ9/A/pR/4vO71u36EuddzwBI1Bd0tueO3qHrZO3enYBjEC3f760fekC/q0Hx3XY5RwYgerC3r551312neUzBtquxR83OrvmDWkDbdgiGR+8Hl0n42vWGQNt3Vtyn4yT1+I25yp5TcbJ/dXO7J8u8eCG47y7dF1vV/sNdJQrqNAYK6h3l7SHK6jQDFRoBiq0Qd+Pz5NOcZf+n99Zj26N389hvX4/nuKFZqBCM1ChGajQDFRoBio0AxWagQrNQIVmoEIzUKEZqNAMVGgGKjQDFZqBCs1AhWagQjNQoRmo0AxUaAYqNAMVmoEKzUCFZqBCM1ChGajQDFRoBio0nw8qtL/h+aB9f/5bP349OrdeP7+neKEZqNAMVGgGKjQDFZqBCs1AhWagQjNQoRmo0AxUaAYqNAMVmoEKzUCFZqBCM1ChGajQDFRoBio0AxWagQrNQIVmoEIzUKEZqNAMVGgGKjQDFZqBCs3ngwrN54MecYHnd/Z9/Hp0br1+fk/xQjNQoRmo0AxUaAYqNAMVmoEKzUCFZqBCM1ChGajQDFRoBio0AxWagQrNQIVmoEIzUKEZqNAMVGgGKjQDFZqBCs1AhWagQjNQoRmo0AxUaAYqNAMVms8HFZrPBz3iAs/v7Pv49ejcev38nuKF1lKgw+Q5+di93pPnZFi/SyjNBDpJlsmsmIySWbK0UbQ2At2unaN6nCSjZFnPxNFGoE976twaJU/1TBBtBFqe2efJIBkkr8VwUmyLpI1ASz92G2W142JbJO0FqpvSXqAvSZJhMi+Gq2JbJG0EWrY4ST6S9dfrzvJ6VCRtBLpI1vXsl3WyqGeCaCPQTfK4p9F18ljPxNFGoNk1Wp7rk8yS+2TzdSiSZgJNsinuMW15ZsdrKVDdIAMVmoEK7a4e/JU+6oFuhSuo0NpYQQfFtqvpTXEFFZqBCs1AhWagQmvjR5I/jG6WK6jQ2lhBy9tMuimuoEIzUKEZqND+Axb7wb5luWP8AAAAAElFTkSuQmCC",
         "type": "image",
         "xaxis": "x",
         "yaxis": "y"
        },
        {
         "hovertemplate": "x: %{x}<br>y: %{y}<br>color: %{z}<extra></extra>",
         "name": "1",
         "source": "data:image/png;base64,iVBORw0KGgoAAAANSUhEUgAAAOAAAADgCAIAAACVT/22AAAFOUlEQVR4Xu3c71HiWhyH8S93LAOsQ+yDWwENyNYhNGAF2gdYh9iH9wWDezxz+SNrch42z2d8kfmtyTDs40mITkbz+TwSVteBevzjPP5x/9QDicRAhWagQjNQoRmo0AxUaAYqNAMVmoEKzUCFZqBCM1ChGajQDFRoBio0AxWagQrNQIVmoEIzUKEZqNAMVGgGKjQDFZqBCs1AhWagQjNQoRmo0AxUaKOuH58n/QlXUKEZqNAMVGgGKjQDFZqBCs1AhWagQjNQoRmo0AxUaAYqNAMVmoEKzUCFZqBCM1ChGajQDFRoBio0AxWagQrNQIVmoEIzUKEZqNAMVGgGKjQDFZqBCs1AhWagQrupBx14enqqRz9nPp97/CN6OH49+lGuoEIzUO2Nk8fkY//1ljwm4/q7emagSpLMknWyKCaTZJGsGzdqoNqvnZN6nCSTZF3P+sQI9C55Ttb7k8s6eU7u6u9SVx4O1LkzSR7qWW9aB3qXvCWbZJZM98NpMks2yZuZ9qI8sy+TUTJKXorhrNjuV9NAH5LNqZ/dTcsf3yH6td8oq/1cO3rXLtCHZFnP/t/SRoerUaB3Z9e5s/Rc35fnJMn463/QptjuV6NAd+/Ct1ywi85UtjhLPpLt1+vO8nq0Xy0CvTt63XnIxEW0M6tkW89+2yaretabFoGWV9/fcvGOOu49uT/Q6Da5r2d9ahHoxb+ZuHhHnbRrtPpgsEhuk/evw361CPTiexYX76hzvBf3mHbandk/tQhUOluLQC++Z3HxjrpaLQK9+Jrm4h11tVoE+q1b9KWLd9Rxn38D+lH/S3MtAn09cEfjuG3yWs/012sRaJJ/68FpF+yiM+3+fGn3BdMo0Ndv3nVfuHwOVKNAk6zObnSBuCGnJtoFmmSVTI9ej26TqXUOWtNAk7wmt8k0eSluc26Sl2Sa3HpmH7o+Htxw2qufgZri3V361HoFlY5irKBqi3d36ZMrqNAMVGgGKrRR14/Pk/7ETbp/fmc9uja+P8d1+v54iheagQrNQIVmoEIzUKEZqNAMVGgGKjQDFZqBCs1AhWagQjNQoRmo0AxUaAYqNAMVmoEKzUCFZqBCM1ChGajQDFRoBio0AxWagQrNQIVmoEIzUKEZqNB8PqjQ/obng3b9+q/9+PXop3X6+j3FC81AhWagQjNQoRmo0AxUaAYqNAMVmoEKzUCFZqBCM1ChGajQDFRoBio0AxWagQrNQIVmoEIzUKEZqNAMVGgGKjQDFZqBCs1AhWagQjNQoRmo0AxUaD4fVGg+H/SEHp7f2fXx69FP6/T1e4oXmoEKzUCFZqBCM1ChGajQDFRoBio0AxWagQrNQIVmoEIzUKEZqNAMVGgGKjQDFZqBCs1AhWagQjNQoRmo0AxUaAYqNAMVmoEKzUCFZqBCM1ChGajQfD6o0Hw+6Ak9PL+z6+PXo5/W6ev3FC+0IQU6Th6Tj/3XW/KYjOvvEspgAp0l62RRTCbJIlnbKNowAt2tnZN6nCSTZF3PxDGMQB8O1LkzSR7qmSCGEWh5Zl8mo2SUvBTDWbEtkmEEWvq13yirnRbbIhleoLoqwwv0OUkyTpbFcFNsi2QYgZYtzpKPZPv1urO8HhXJMAJdJdt69ts2WdUzQQwj0Pfk/kCj2+S+noljGIFm32h5rk+ySG6T969DkQwm0CTvxT2mHc/seEMKVFfIQIVmoEK7qQd/pY96oGvhCiq0Yaygo2Lb1fSquIIKzUCFZqBCM1ChDeNDkh+MrpYrqNCGsYKWt5l0VVxBhWagQjNQof0Hv4LBvuJ54cIAAAAASUVORK5CYII=",
         "type": "image",
         "xaxis": "x2",
         "yaxis": "y2"
        },
        {
         "hovertemplate": "x: %{x}<br>y: %{y}<br>color: %{z}<extra></extra>",
         "name": "2",
         "source": "data:image/png;base64,iVBORw0KGgoAAAANSUhEUgAAAOAAAADgCAIAAACVT/22AAAFYElEQVR4Xu3c71HiWhyH8a93LEOsA7YPrIAGYOtYaMAKsA+gjsU+vC8YvPHclT9Zk/MQn8/4wvnpyTDuYxKPbu5ms1kkrK4D9finefzT/ikHEomBCs1AhWagQjNQoRmo0AxUaAYqNAMVmoEKzUCFZqBCM1ChGajQDFRoBio0AxWagQrNQIVmoEIzUKEZqNAMVGgGKjQDFZqBCs1AhWagQjNQoRmo0O66fnye9Dc8gwrNQIVmoEIzUKEZqNAMVGgGKjQDFZqBCs1AhWagQjNQoRmo0AxUaAYqNAMVmoEKzUCFZqBCM1ChGajQDFRoBio0AxWagQrNQIVmoEIzUKEZqNAMVGgGKjQDFdp9OejA8/NzOfo6s9nM45/Qw/HL0ZfyDCo0A9XRQ/IreTu+/U5+JQ/lZ/XMQJUkmSabZNGYjJJFsqncqIHqeO4cleMkGSWbctYnRqDjZJ1sjheXTbJOxuVnqSvzT+o8GCXzctab2oGOk9/JNpkmk+NwkkyTbfLbTHvRvLIvk7vkLnlpDKeN9/tVNdB5sj33vbut+e37Hf08vtOs9v3c0bt6gc6TZTn7s6WNfl+VAh1fXOfB0mt9X9ZJkoeP/0Dbxvv9qhTo4atwlRZLdKFmi9PkLdl/vO9s3o/2q0ag45P3nZ8ZeRLtzCrZl7P/7JNVOetNjUCbd99Xab1Qp70mPz5pdJ/8KGd9qhFo699MtF6osw6NFj8YLJLH5PXjsF81Am29Z9F6oS7x2thjOqh3ZX9XI1DpYjUCbb1n0XqhblaNQFvf07ReqJtVI9CrtuibWi/Uae9/A/pWfqS6GoHuPtnROG2f7MqZBq9GoEmeysF5LZboQoc/Xzq8wVQKdHflrvvC0+c3VSnQJKuLG10gNuRURb1Ak6ySycn70X0ysc5vrWqgSXbJYzJJXhrbnNvkJZkkj17Zv7s+Htxw3s6fgari7S69q30GlU5inEFVF2936Z1nUKEZqNAMVGh3XT8+T/ob9+n++Z3l6Nb49Tmt06+Pl3ihGajQDFRoBio0AxWagQrNQIVmoEIzUKEZqNAMVGgGKjQDFZqBCs1AhWagQjNQoRmo0AxUaAYqNAMVmoEKzUCFZqBCM1ChGajQDFRoBio0AxWagQrN54MKbQjPB+369d/68cvRV+v09XuJF5qBCs1AhWagQjNQoRmo0AxUaAYqNAMVmoEKzUCFZqBCM1ChGajQDFRoBio0AxWagQrNQIVmoEIzUKEZqNAMVGgGKjQDFZqBCs1AhWagQjNQoRmo0Hw+qNB8PugZPTy/s+vjl6Ov1unr9xIvNAMVmoEKzUCFZqBCM1ChGajQDFRoBio0AxWagQrNQIVmoEIzUKEZqNAMVGgGKjQDFZqBCs1AhWagQjNQoRmo0AxUaAYqNAMVmoEKzUCFZqBCM1Ch+XxQofl80DN6eH5n18cvR1+t09fvJV5oBio0AxWagQrtewQ6TtbJJnlL3pJNsk7G5WcJ6L4cDMwhzdHH4SRJMk32yVOy+/hRkQz6DDpPtv+rs2mUbJN5ORbHcAOdJ8ty9mdLG+UaaKDji+s8WHpLCjXQQNfl4LwWS9S9IQY6Pnnf+ZmRJ1GiIQa6KAeXar1QnRlioA/l4FKtF6ozQwz0sM3ZQuuF6swQA9WADDHQbTm4VOuF6swQA30tB5dqvVCdGWKgV23RN7VeqM4MMdBdsi9n5+39qxGiIQaa5KkcnNdiibo30EB3V+66Lzx9Qg000CSrixtdJKtyJojhBppklUxO3o/uk4l1og060CS75DGZJC+Nbc5t8pJMkkev7HRD/y8fBzt/BrpVQz+D6sYZqNAMVGgGKjQDFdq/ORrI24OGp80AAAAASUVORK5CYII=",
         "type": "image",
         "xaxis": "x3",
         "yaxis": "y3"
        },
        {
         "hovertemplate": "x: %{x}<br>y: %{y}<br>color: %{z}<extra></extra>",
         "name": "3",
         "source": "data:image/png;base64,iVBORw0KGgoAAAANSUhEUgAAAOAAAADgCAIAAACVT/22AAAFWUlEQVR4Xu3c71HiahxH8a93LEOsA7YPrIAG4Nax0IAVYB9AHWIf3hcM3vjs8i8h5BjOZ3zh/PTJMMyZJD7L5mEymUTCajtQj3+cxz/un3IgkRio0AxUaAYqNAMVmoEKzUCFZqBCM1ChGajQDFRoBio0AxWagQrNQIVmoEIzUKEZqNAMVGgGKjQDFZqBCs1AhWagQjNQoRmo0AxUaAYqNAMVmoEK7aHtx+dJTXgGFZqBCs1AhWagQjNQoRmo0AxUaAYqNAMVmoEKzUCFZqBCM1ChGajQDFRoBio0AxWagQrNQIVmoEIzUKEZqNAMVGgGKjQDFZqBCs1AhWagQjNQoRmo0AxUaAYqtMdy0ILX19dydD2TycTjH3GD45ejq/IMKjRSoE/J7+Rz//We/E6eyt/SXcEEOk5WyawyGSSzZGWjd40R6O7cOSjHSTJIVuVM94MR6PRAnTuDZFrOdE3DZJms9jdXq2SZDMvf6gQj0OqVfZ48JA/JW2U4rnyvKxom78k6GSej/XCUjJN18t59poxAq/7df1Ot9uu90xVNk/Wpa9e648sXL1DdxjSZl7O/m3fZKC/QZZLk6fvbt658r+aGZ9e5M+/sWs8ItPpmjZPPZPv9vrN6P6rmdmeBi9RYcg2MQBfJtpz9b5ssypnqGx697zxk0M1JlBHoR/LrQKPb5Fc5UyPVvz4vUnthA4xAs2+0uDGaJc/Jx/ehGqr9L3O1FzaACTTJR2WPaccrextq79nVXtgAKVDpDwZ6f2rv2dVe2ICB3p/a9/S1FzbACPTrM6Cf5U90fRdt0VfVXtgAI1Dd0ubAjt5x22RTzm6AEeju40u7L93ASzk4rcaSa2AEqhvbXLjrPuvm9BkDvV+LsxuddbkhbaB3bJGMjt6PbpNRl3XGQO/dJnlORslbZZtznbwlo+S5syv7l1s8uOE0d5e6tensb6CTPIMKjXEGdXdJB3gGFZqBCs1AhfbQ9uPzpCYe0/7zO8vRT+P7c1yr74+XeKEZqNAMVGgGKjQDFZqBCs1AhWagQjNQoRmo0AxUaAYqNAMVmoEKzUCFZqBCM1ChGajQDFRoBio0AxWagQrNQIVmoEIzUKEZqNAMVGgGKjQDFZqBCs3ngwqtD88Hbfv1//Tjl6Nra/X1e4kXmoEKzUCFZqBCM1ChGajQDFRoBio0AxWagQrNQIVmoEIzUKEZqNAMVGgGKjQDFZqBCs1AhWagQjNQoRmo0AxUaAYqNAMVmoEKzUCFZqBCM1ChGajQfD6o0Hw+6Ak3eH5n28cvR9fW6uv3Ei80AxWagQrNQIVmoEIzUKEZqNAMVGgGKjQDFZqBCs1AhWagQjNQoRmo0AxUaAYqNAMVmoEKzUCFZqBCM1ChGajQDFRoBio0AxWagQrNQIVmoEIzUKH5fFCh+XzQE27w/M62j1+Orq3V1+8lXmgGKjQDFZqBCu0+Ah0my2SVfCafySpZJsPytwT0WA56Zpfm4PtwlCQZJ9vkJdl8/6lIen0GnSbrP+qsGiTrZFqOxdHfQKfJvJz93dxGuXoa6PDsOnfm3pJC9TTQZTk4rcYSta+PgQ6P3nceMvAkStTHQGfl4Fy1F6o1fQz0qRycq/ZCtaaPge62OWuovVCt6WOg6pE+BrouB+eqvVCt6WOgH+XgXLUXqjV9DPSiLfqq2gvVmj4Gukm25ey0rZ8aIepjoEleysFpNZaofT0NdHPhrvvM0ydUTwNNsji70VmyKGeC6G+gSRbJ6Oj96DYZWSdarwNNskmek1HyVtnmXCdvySh59spO1/f/8rGz8W+gn6rvZ1D9cAYqNAMVmoEKzUCF9h+QhMjbNytVWQAAAABJRU5ErkJggg==",
         "type": "image",
         "xaxis": "x4",
         "yaxis": "y4"
        }
       ],
       "frames": [
        {
         "data": [
          {
           "name": "0",
           "source": "data:image/png;base64,iVBORw0KGgoAAAANSUhEUgAAAOAAAADgCAIAAACVT/22AAAFMUlEQVR4Xu3c4W3iWBhG4ZdVyoDUEdIHWwENhKkj0MBUkPQBqSPQR/YHInNzZ4GJwXCYex7xw/oGWwgdXRtP5MF0Oo2E1XegHv8wj3/YP/VAIjFQoRmo0AxUaAYqNAMVmoEKzUCFZqBCM1ChGajQDFRoBio0AxWagQrNQIVmoEIzUKEZqNAMVGgGKjQDFZqBCs1AhWagQjNQoRmo0AxUaAYqNAMV2qDvx+dJp3AFFZqBCs1AhWagQjNQoRmo0AxUaAYqNAMVmoEKzUCFZqBCM1ChGajQDFRoBio0AxWagQrNQIVmoEIzUKEZqNAMVGgGKjQDFZqBCs1AhWagQjNQoRmo0AxUaAYqtLt60IOfP3/Wo/OZTqce/4ALHL8enZUrqNBIgQ6T5+Rj93pPnpNh/S41BRPoJFkms2IySmbJ0kabxgh0u3aO6nGSjJJlPVM7GIE+7alza5Q81TOd00Pykix3F1fL5CV5qN91FYxAyzP7PBkkg+S1GE6KbZ3RQ/KerJJJMt4Nx8kkWSXv18+UEWjpx26jrPbzu9MZPSWrY+eu1ZVPX7xAdRlPybye/b/5NRvlBfqSJBl+/fpWxbZO9/DHdW7Nr3auZwRaflmT5CNZf73uLK9HdbrtKvAtHXY5B0agi2Rdz35ZJ4t6pu4eDl537jO6ziLKCHSTPO5pdJ081jOdpPz1+S2ddzwBI9DsGq0ujGbJfbL5OtSJOv/PXOcdT4AJNMmmuMe05Zm9D53v2XXe8QSkQKXfGGh7Ot+z67zjCQy0PZ2v6TvveAJGoJ9/A/pR/4vO71u36EuddzwBI1Bd0tueO3qHrZO3enYBjEC3f760fekC/q0Hx3XY5RwYgerC3r551312neUzBtquxR83OrvmDWkDbdgiGR+8Hl0n42vWGQNt3Vtyn4yT1+I25yp5TcbJ/dXO7J8u8eCG47y7dF1vV/sNdJQrqNAYK6h3l7SHK6jQDFRoBiq0Qd+Pz5NOcZf+n99Zj26N389hvX4/nuKFZqBCM1ChGajQDFRoBio0AxWagQrNQIVmoEIzUKEZqNAMVGgGKjQDFZqBCs1AhWagQjNQoRmo0AxUaAYqNAMVmoEKzUCFZqBCM1ChGajQDFRoBio0nw8qtL/h+aB9f/5bP349OrdeP7+neKEZqNAMVGgGKjQDFZqBCs1AhWagQjNQoRmo0AxUaAYqNAMVmoEKzUCFZqBCM1ChGajQDFRoBio0AxWagQrNQIVmoEIzUKEZqNAMVGgGKjQDFZqBCs3ngwrN54MecYHnd/Z9/Hp0br1+fk/xQjNQoRmo0AxUaAYqNAMVmoEKzUCFZqBCM1ChGajQDFRoBio0AxWagQrNQIVmoEIzUKEZqNAMVGgGKjQDFZqBCs1AhWagQjNQoRmo0AxUaAYqNAMVms8HFZrPBz3iAs/v7Pv49ejcev38nuKF1lKgw+Q5+di93pPnZFi/SyjNBDpJlsmsmIySWbK0UbQ2At2unaN6nCSjZFnPxNFGoE976twaJU/1TBBtBFqe2efJIBkkr8VwUmyLpI1ASz92G2W142JbJO0FqpvSXqAvSZJhMi+Gq2JbJG0EWrY4ST6S9dfrzvJ6VCRtBLpI1vXsl3WyqGeCaCPQTfK4p9F18ljPxNFGoNk1Wp7rk8yS+2TzdSiSZgJNsinuMW15ZsdrKVDdIAMVmoEK7a4e/JU+6oFuhSuo0NpYQQfFtqvpTXEFFZqBCs1AhWagQmvjR5I/jG6WK6jQ2lhBy9tMuimuoEIzUKEZqND+Axb7wb5luWP8AAAAAElFTkSuQmCC",
           "type": "image"
          },
          {
           "name": "1",
           "source": "data:image/png;base64,iVBORw0KGgoAAAANSUhEUgAAAOAAAADgCAIAAACVT/22AAAFOUlEQVR4Xu3c71HiWhyH8S93LAOsQ+yDWwENyNYhNGAF2gdYh9iH9wWDezxz+SNrch42z2d8kfmtyTDs40mITkbz+TwSVteBevzjPP5x/9QDicRAhWagQjNQoRmo0AxUaAYqNAMVmoEKzUCFZqBCM1ChGajQDFRoBio0AxWagQrNQIVmoEIzUKEZqNAMVGgGKjQDFZqBCs1AhWagQjNQoRmo0AxUaKOuH58n/QlXUKEZqNAMVGgGKjQDFZqBCs1AhWagQjNQoRmo0AxUaAYqNAMVmoEKzUCFZqBCM1ChGajQDFRoBio0AxWagQrNQIVmoEIzUKEZqNAMVGgGKjQDFZqBCs1AhWagQrupBx14enqqRz9nPp97/CN6OH49+lGuoEIzUO2Nk8fkY//1ljwm4/q7emagSpLMknWyKCaTZJGsGzdqoNqvnZN6nCSTZF3P+sQI9C55Ttb7k8s6eU7u6u9SVx4O1LkzSR7qWW9aB3qXvCWbZJZM98NpMks2yZuZ9qI8sy+TUTJKXorhrNjuV9NAH5LNqZ/dTcsf3yH6td8oq/1cO3rXLtCHZFnP/t/SRoerUaB3Z9e5s/Rc35fnJMn463/QptjuV6NAd+/Ct1ywi85UtjhLPpLt1+vO8nq0Xy0CvTt63XnIxEW0M6tkW89+2yaretabFoGWV9/fcvGOOu49uT/Q6Da5r2d9ahHoxb+ZuHhHnbRrtPpgsEhuk/evw361CPTiexYX76hzvBf3mHbandk/tQhUOluLQC++Z3HxjrpaLQK9+Jrm4h11tVoE+q1b9KWLd9Rxn38D+lH/S3MtAn09cEfjuG3yWs/012sRaJJ/68FpF+yiM+3+fGn3BdMo0Ndv3nVfuHwOVKNAk6zObnSBuCGnJtoFmmSVTI9ej26TqXUOWtNAk7wmt8k0eSluc26Sl2Sa3HpmH7o+Htxw2qufgZri3V361HoFlY5irKBqi3d36ZMrqNAMVGgGKrRR14/Pk/7ETbp/fmc9uja+P8d1+v54iheagQrNQIVmoEIzUKEZqNAMVGgGKjQDFZqBCs1AhWagQjNQoRmo0AxUaAYqNAMVmoEKzUCFZqBCM1ChGajQDFRoBio0AxWagQrNQIVmoEIzUKEZqNB8PqjQ/obng3b9+q/9+PXop3X6+j3FC81AhWagQjNQoRmo0AxUaAYqNAMVmoEKzUCFZqBCM1ChGajQDFRoBio0AxWagQrNQIVmoEIzUKEZqNAMVGgGKjQDFZqBCs1AhWagQjNQoRmo0AxUaD4fVGg+H/SEHp7f2fXx69FP6/T1e4oXmoEKzUCFZqBCM1ChGajQDFRoBio0AxWagQrNQIVmoEIzUKEZqNAMVGgGKjQDFZqBCs1AhWagQjNQoRmo0AxUaAYqNAMVmoEKzUCFZqBCM1ChGajQfD6o0Hw+6Ak9PL+z6+PXo5/W6ev3FC+0IQU6Th6Tj/3XW/KYjOvvEspgAp0l62RRTCbJIlnbKNowAt2tnZN6nCSTZF3PxDGMQB8O1LkzSR7qmSCGEWh5Zl8mo2SUvBTDWbEtkmEEWvq13yirnRbbIhleoLoqwwv0OUkyTpbFcFNsi2QYgZYtzpKPZPv1urO8HhXJMAJdJdt69ts2WdUzQQwj0Pfk/kCj2+S+noljGIFm32h5rk+ySG6T969DkQwm0CTvxT2mHc/seEMKVFfIQIVmoEK7qQd/pY96oGvhCiq0Yaygo2Lb1fSquIIKzUCFZqBCM1ChDeNDkh+MrpYrqNCGsYKWt5l0VVxBhWagQjNQof0Hv4LBvuJ54cIAAAAASUVORK5CYII=",
           "type": "image"
          },
          {
           "name": "2",
           "source": "data:image/png;base64,iVBORw0KGgoAAAANSUhEUgAAAOAAAADgCAIAAACVT/22AAAFYElEQVR4Xu3c71HiWhyH8a93LEOsA7YPrIAGYOtYaMAKsA+gjsU+vC8YvPHclT9Zk/MQn8/4wvnpyTDuYxKPbu5ms1kkrK4D9finefzT/ikHEomBCs1AhWagQjNQoRmo0AxUaAYqNAMVmoEKzUCFZqBCM1ChGajQDFRoBio0AxWagQrNQIVmoEIzUKEZqNAMVGgGKjQDFZqBCs1AhWagQjNQoRmo0O66fnye9Dc8gwrNQIVmoEIzUKEZqNAMVGgGKjQDFZqBCs1AhWagQjNQoRmo0AxUaAYqNAMVmoEKzUCFZqBCM1ChGajQDFRoBio0AxWagQrNQIVmoEIzUKEZqNAMVGgGKjQDFdp9OejA8/NzOfo6s9nM45/Qw/HL0ZfyDCo0A9XRQ/IreTu+/U5+JQ/lZ/XMQJUkmSabZNGYjJJFsqncqIHqeO4cleMkGSWbctYnRqDjZJ1sjheXTbJOxuVnqSvzT+o8GCXzctab2oGOk9/JNpkmk+NwkkyTbfLbTHvRvLIvk7vkLnlpDKeN9/tVNdB5sj33vbut+e37Hf08vtOs9v3c0bt6gc6TZTn7s6WNfl+VAh1fXOfB0mt9X9ZJkoeP/0Dbxvv9qhTo4atwlRZLdKFmi9PkLdl/vO9s3o/2q0ag45P3nZ8ZeRLtzCrZl7P/7JNVOetNjUCbd99Xab1Qp70mPz5pdJ/8KGd9qhFo699MtF6osw6NFj8YLJLH5PXjsF81Am29Z9F6oS7x2thjOqh3ZX9XI1DpYjUCbb1n0XqhblaNQFvf07ReqJtVI9CrtuibWi/Uae9/A/pWfqS6GoHuPtnROG2f7MqZBq9GoEmeysF5LZboQoc/Xzq8wVQKdHflrvvC0+c3VSnQJKuLG10gNuRURb1Ak6ySycn70X0ysc5vrWqgSXbJYzJJXhrbnNvkJZkkj17Zv7s+Htxw3s6fgari7S69q30GlU5inEFVF2936Z1nUKEZqNAMVGh3XT8+T/ob9+n++Z3l6Nb49Tmt06+Pl3ihGajQDFRoBio0AxWagQrNQIVmoEIzUKEZqNAMVGgGKjQDFZqBCs1AhWagQjNQoRmo0AxUaAYqNAMVmoEKzUCFZqBCM1ChGajQDFRoBio0AxWagQrN54MKbQjPB+369d/68cvRV+v09XuJF5qBCs1AhWagQjNQoRmo0AxUaAYqNAMVmoEKzUCFZqBCM1ChGajQDFRoBio0AxWagQrNQIVmoEIzUKEZqNAMVGgGKjQDFZqBCs1AhWagQjNQoRmo0Hw+qNB8PugZPTy/s+vjl6Ov1unr9xIvNAMVmoEKzUCFZqBCM1ChGajQDFRoBio0AxWagQrNQIVmoEIzUKEZqNAMVGgGKjQDFZqBCs1AhWagQjNQoRmo0AxUaAYqNAMVmoEKzUCFZqBCM1Ch+XxQofl80DN6eH5n18cvR1+t09fvJV5oBio0AxWagQrtewQ6TtbJJnlL3pJNsk7G5WcJ6L4cDMwhzdHH4SRJMk32yVOy+/hRkQz6DDpPtv+rs2mUbJN5ORbHcAOdJ8ty9mdLG+UaaKDji+s8WHpLCjXQQNfl4LwWS9S9IQY6Pnnf+ZmRJ1GiIQa6KAeXar1QnRlioA/l4FKtF6ozQwz0sM3ZQuuF6swQA9WADDHQbTm4VOuF6swQA30tB5dqvVCdGWKgV23RN7VeqM4MMdBdsi9n5+39qxGiIQaa5KkcnNdiibo30EB3V+66Lzx9Qg000CSrixtdJKtyJojhBppklUxO3o/uk4l1og060CS75DGZJC+Nbc5t8pJMkkev7HRD/y8fBzt/BrpVQz+D6sYZqNAMVGgGKjQDFdq/ORrI24OGp80AAAAASUVORK5CYII=",
           "type": "image"
          },
          {
           "name": "3",
           "source": "data:image/png;base64,iVBORw0KGgoAAAANSUhEUgAAAOAAAADgCAIAAACVT/22AAAFWUlEQVR4Xu3c71HiahxH8a93LEOsA7YPrIAG4Nax0IAVYB9AHWIf3hcM3vjs8i8h5BjOZ3zh/PTJMMyZJD7L5mEymUTCajtQj3+cxz/un3IgkRio0AxUaAYqNAMVmoEKzUCFZqBCM1ChGajQDFRoBio0AxWagQrNQIVmoEIzUKEZqNAMVGgGKjQDFZqBCs1AhWagQjNQoRmo0AxUaAYqNAMVmoEK7aHtx+dJTXgGFZqBCs1AhWagQjNQoRmo0AxUaAYqNAMVmoEKzUCFZqBCM1ChGajQDFRoBio0AxWagQrNQIVmoEIzUKEZqNAMVGgGKjQDFZqBCs1AhWagQjNQoRmo0AxUaAYqtMdy0ILX19dydD2TycTjH3GD45ejq/IMKjRSoE/J7+Rz//We/E6eyt/SXcEEOk5WyawyGSSzZGWjd40R6O7cOSjHSTJIVuVM94MR6PRAnTuDZFrOdE3DZJms9jdXq2SZDMvf6gQj0OqVfZ48JA/JW2U4rnyvKxom78k6GSej/XCUjJN18t59poxAq/7df1Ot9uu90xVNk/Wpa9e648sXL1DdxjSZl7O/m3fZKC/QZZLk6fvbt658r+aGZ9e5M+/sWs8ItPpmjZPPZPv9vrN6P6rmdmeBi9RYcg2MQBfJtpz9b5ssypnqGx697zxk0M1JlBHoR/LrQKPb5Fc5UyPVvz4vUnthA4xAs2+0uDGaJc/Jx/ehGqr9L3O1FzaACTTJR2WPaccrextq79nVXtgAKVDpDwZ6f2rv2dVe2ICB3p/a9/S1FzbACPTrM6Cf5U90fRdt0VfVXtgAI1Dd0ubAjt5x22RTzm6AEeju40u7L93ASzk4rcaSa2AEqhvbXLjrPuvm9BkDvV+LsxuddbkhbaB3bJGMjt6PbpNRl3XGQO/dJnlORslbZZtznbwlo+S5syv7l1s8uOE0d5e6tensb6CTPIMKjXEGdXdJB3gGFZqBCs1AhfbQ9uPzpCYe0/7zO8vRT+P7c1yr74+XeKEZqNAMVGgGKjQDFZqBCs1AhWagQjNQoRmo0AxUaAYqNAMVmoEKzUCFZqBCM1ChGajQDFRoBio0AxWagQrNQIVmoEIzUKEZqNAMVGgGKjQDFZqBCs3ngwqtD88Hbfv1//Tjl6Nra/X1e4kXmoEKzUCFZqBCM1ChGajQDFRoBio0AxWagQrNQIVmoEIzUKEZqNAMVGgGKjQDFZqBCs1AhWagQjNQoRmo0AxUaAYqNAMVmoEKzUCFZqBCM1ChGajQfD6o0Hw+6Ak3eH5n28cvR9fW6uv3Ei80AxWagQrNQIVmoEIzUKEZqNAMVGgGKjQDFZqBCs1AhWagQjNQoRmo0AxUaAYqNAMVmoEKzUCFZqBCM1ChGajQDFRoBio0AxWagQrNQIVmoEIzUKH5fFCh+XzQE27w/M62j1+Orq3V1+8lXmgGKjQDFZqBCu0+Ah0my2SVfCafySpZJsPytwT0WA56Zpfm4PtwlCQZJ9vkJdl8/6lIen0GnSbrP+qsGiTrZFqOxdHfQKfJvJz93dxGuXoa6PDsOnfm3pJC9TTQZTk4rcYSta+PgQ6P3nceMvAkStTHQGfl4Fy1F6o1fQz0qRycq/ZCtaaPge62OWuovVCt6WOg6pE+BrouB+eqvVCt6WOgH+XgXLUXqjV9DPSiLfqq2gvVmj4Gukm25ey0rZ8aIepjoEleysFpNZaofT0NdHPhrvvM0ydUTwNNsji70VmyKGeC6G+gSRbJ6Oj96DYZWSdarwNNskmek1HyVtnmXCdvySh59spO1/f/8rGz8W+gn6rvZ1D9cAYqNAMVmoEKzUCF9h+QhMjbNytVWQAAAABJRU5ErkJggg==",
           "type": "image"
          }
         ],
         "layout": {
          "margin": {
           "t": 60
          }
         },
         "name": "0"
        },
        {
         "data": [
          {
           "name": "4",
           "source": "data:image/png;base64,iVBORw0KGgoAAAANSUhEUgAAAOAAAADgCAIAAACVT/22AAAEeUlEQVR4Xu3c3U0cZxiA0ZfIZRjXAe6DVEADJnUYGnAFdh9AHcZ9OBcIZz0Ji9kf9nE4R1ysXpjRavVoZvhA39H5+flA1r4Ddf71nH+9P5YDKBEoaQIlTaCkCZQ0gZImUNIESppASRMoaQIlTaCkCZQ0gZImUNIESppASRMoaQIlTaCkCZQ0gZImUNIESppASRMoaQIlTaCkCZQ0gZJ2tO/t82Ar+w7U+ddz/vXc4kkTKGkCJU2gpAmUNIGSJlDSBEqaQEkTKGkCJU2gpAmUNIGSJlDSBEqaQEkTKGkCJU2gpAmUNIGSJlDSBEqaQEkTKGkCJU2gpAmUNIGSZn9Q0lxBSRMoaQIlTaCkCZQ0gZImUNIESppASRMoaQIlTaCkCZQ0gZImUNIESppASRMoaQIlTaCkCZQ0gZImUNIESppASRMoaQIlTaCkCZQ0gZImUNIEStqb5WAPPn36tBztzvn5ufOv8QLnX452yhWUtFKgb2c+znx/+Po683Hm7fKneFUygZ7NXM9crEyOZy5mrjX6qjUCvb92Hi/HMzPHM9fLGa9HI9APj9R573jmw3LGLp3MfJ65fni4up75PHOy/KmDaAS6eme/nDmaOZr5sjI8W3nNDp3MfJ25mTmbOX0Yns6czdzMfD18po1AV/318GK12h+fHTv0YebmqXvXzYFvX71AeRkfZi6Xs/92echGe4F+npmZtz9/fDcrr9neyS/Xee/yYPf6RqCrH9bZzPeZu5+fO1efR9ne/VXgWTY4ZBcagV7N3C1n/7ibuVrO2NzJ2ufOxxwf5iLaCPTbzPtHGr2beb+csZXV3z6fZeMDt9AIdB4aXTwYXcy8m/n285AtbfyXuY0P3EIm0Jn5trLGdM+dfR82XrPb+MAtlAKFfxHo67Pxmt3GB25BoK/Pxs/0Gx+4hUagP/4H9PvyO+zes5boV2184BYagfKSbh9Z0VvvbuZ2OXsBjUDv/33p/osX8Ody8LQNDtmFRqC8sNtnrrpfHObyOQJ9va5+udGLQy5IC/QVu5o5Xfs8ejdzesg6R6Cv3e3Mu5nTmS8ry5w3M19mTmfeHezO/sNLbNzwNKtLh3V7sN+BnuQKSlrjCmp1iUe4gpImUNIEStrRvrfPg228mf3v37kc/W58Puvt9fNxiydNoKQJlDSBkiZQ0gRKmkBJEyhpAiVNoKQJlDSBkiZQ0gRKmkBJEyhpAiVNoKQJlDSBkiZQ0gRKmkBJEyhpAiVNoKQJlDSBkiZQ0gRKmv1BSfs/7A+67/f/u59/Odq1vb5/t3jSBEqaQEkTKGkCJU2gpAmUNIGSJlDSBEqaQEkTKGkCJU2gpAmUNIGSJlDSBEqaQEkTKGkCJU2gpAmUNIGSJlDSBEqaQEkTKGkCJU2gpNkflDT7gz7hBfbv3Pf5l6Nd2+v7d4snTaCkCZQ0gZImUNIESppASRMoaQIlTaCkCZQ0gZImUNIESppASRMoaQIlTaCkCZQ0gZImUNIESppASRMoaQIlTaCkCZQ0gZImUNIEStrfVZOaF1ZBIAYAAAAASUVORK5CYII=",
           "type": "image"
          },
          {
           "name": "5",
           "source": "data:image/png;base64,iVBORw0KGgoAAAANSUhEUgAAAOAAAADgCAIAAACVT/22AAAEfUlEQVR4Xu3c4TEkWxzG4detDQNxsHm4EUiAG8eSgAjIA3EgD/fDFHd0XYNZ3ee1nqd8mPqv7pqyP93tUGfn+Pg4UGvuQJ1/M+ff7K/pAJoIlGoCpZpAqSZQqgmUagKlmkCpJlCqCZRqAqWaQKkmUKoJlGoCpZpAqSZQqgmUagKlmkCpJlCqCZRqAqWaQKkmUKoJlGoCpZpAqSZQqgmUajtzb58Hv2XuQJ1/M+ffzC2eagKlmkCpJlCqCZRqAqWaQKkmUKoJlGoCpZpAqSZQqgmUagKlmkCpJlCqCZRqAqWaQKkmUKoJlGoCpZpAqSZQqgmUagKlmkCpJlCqCZRqAqWa/UGp5gpKNYFSTaBUEyjVBEo1gVJNoFQTKNUESjWBUk2gVBMo1QRKNYFSTaBUEyjVBEo1gVJNoFQTKNUESjWBUk2gVBMo1QRKNYFSTaBUEyjVBEo1gVJNoFQTKNV+TAczuLi4mI4+z/HxsfNvsMD5p6NP5QpKNYHyZDf5lTw+fdwlv5Ld6WctTKAkSY6S6+R0bbKXnCbXgxsVKE/Xzr3pOEn2kuvpbEkdgR4kl8n1083lOrlMDqafxVxOXqlzZS85mc4WMzrQg+QuuUmOksOn4WFylNwkdzJdxPqd/SzZSXaSq7Xh0drrZQ0N9CS5eet792bkt+939M/Ti/Vqn68dixsX6ElyNp39vzONfl+DAj14d50rZ+71S7lMkuy+/A+6WXu9rEGBrr4KH7LFIbzTeotHyWNy//K5c/15dFkjAj3Y+Nz5mj0X0dmcJ/fT2X/uk/PpbDEjAl1/+v6QrQ9ks4fk5yuN3ic/p7MljQh0699MbH0gb1o1OvnB4DTZTx5eDpc1ItCt1yy2PpD3eFhbY1oZd2d/NiJQeLcRgW69ZrH1gXxZIwLd+plm6wP5skYE+qEl+nVbH8hmz38D+jj9l+FGBHr7yorGZvfJ7XTGH29EoEn+ng7etsUhvNPqz5dWH2UGBXr7wVX3U5fPb2pQoEnO393oacWCHEOMCzTJeXK48Xn0PjlU57c2NNAkt8l+cphcrS1z3iRXyWGy787+3S2xccPbbv0MNFTf6tKz0VdQ2KjjCspYfatLz1xBqSZQqgmUajtzb58Hv+NH5t+/czr6anx9Npv16+MWTzWBUk2gVBMo1QRKNYFSTaBUEyjVBEo1gVJNoFQTKNUESjWBUk2gVBMo1QRKNYFSTaBUEyjVBEo1gVJNoFQTKNUESjWBUk2gVBMo1QRKNYFSzf6gVPsT9ged+/1/9fNPR59t1vfvFk81gVJNoFQTKNUESjWBUk2gVBMo1QRKNYFSTaBUEyjVBEo1gVJNoFQTKNUESjWBUk2gVBMo1QRKNYFSTaBUEyjVBEo1gVJNoFQTKNUESjWBUs3+oFSzP+gbFti/c+7zT0efbdb37xZPNYFSTaBUEyjVBEo1gVJNoFQTKNUESjWBUk2gVBMo1QRKNYFSTaBUEyjVBEo1gVJNoFQTKNUESjWBUk2gVBMo1QRKNYFSTaBUEyjVBEo1gVLtX/4amhfJiDMyAAAAAElFTkSuQmCC",
           "type": "image"
          },
          {
           "name": "6",
           "source": "data:image/png;base64,iVBORw0KGgoAAAANSUhEUgAAAOAAAADgCAIAAACVT/22AAAEfUlEQVR4Xu3c4TEkWxzG4detDQNxsHm4EUiAG8eSgAjIA3EgD/fDFHd0XYNZ3ee1nqd8mPqv7pqyP93tUGfn+Pg4UGvuQJ1/M+ff7K/pAJoIlGoCpZpAqSZQqgmUagKlmkCpJlCqCZRqAqWaQKkmUKoJlGoCpZpAqSZQqgmUagKlmkCpJlCqCZRqAqWaQKkmUKoJlGoCpZpAqSZQqgmUajtzb58Hv2XuQJ1/M+ffzC2eagKlmkCpJlCqCZRqAqWaQKkmUKoJlGoCpZpAqSZQqgmUagKlmkCpJlCqCZRqAqWaQKkmUKoJlGoCpZpAqSZQqgmUagKlmkCpJlCqCZRqAqWa/UGp5gpKNYFSTaBUEyjVBEo1gVJNoFQTKNUESjWBUk2gVBMo1QRKNYFSTaBUEyjVBEo1gVJNoFQTKNUESjWBUk2gVBMo1QRKNYFSTaBUEyjVBEo1gVJNoFQTKNV+TAczuLi4mI4+z/HxsfNvsMD5p6NP5QpKNYHyZDf5lTw+fdwlv5Ld6WctTKAkSY6S6+R0bbKXnCbXgxsVKE/Xzr3pOEn2kuvpbEkdgR4kl8n1083lOrlMDqafxVxOXqlzZS85mc4WMzrQg+QuuUmOksOn4WFylNwkdzJdxPqd/SzZSXaSq7Xh0drrZQ0N9CS5eet792bkt+939M/Ti/Vqn68dixsX6ElyNp39vzONfl+DAj14d50rZ+71S7lMkuy+/A+6WXu9rEGBrr4KH7LFIbzTeotHyWNy//K5c/15dFkjAj3Y+Nz5mj0X0dmcJ/fT2X/uk/PpbDEjAl1/+v6QrQ9ks4fk5yuN3ic/p7MljQh0699MbH0gb1o1OvnB4DTZTx5eDpc1ItCt1yy2PpD3eFhbY1oZd2d/NiJQeLcRgW69ZrH1gXxZIwLd+plm6wP5skYE+qEl+nVbH8hmz38D+jj9l+FGBHr7yorGZvfJ7XTGH29EoEn+ng7etsUhvNPqz5dWH2UGBXr7wVX3U5fPb2pQoEnO393oacWCHEOMCzTJeXK48Xn0PjlU57c2NNAkt8l+cphcrS1z3iRXyWGy787+3S2xccPbbv0MNFTf6tKz0VdQ2KjjCspYfatLz1xBqSZQqgmUajtzb58Hv+NH5t+/czr6anx9Npv16+MWTzWBUk2gVBMo1QRKNYFSTaBUEyjVBEo1gVJNoFQTKNUESjWBUk2gVBMo1QRKNYFSTaBUEyjVBEo1gVJNoFQTKNUESjWBUk2gVBMo1QRKNYFSzf6gVPsT9ged+/1/9fNPR59t1vfvFk81gVJNoFQTKNUESjWBUk2gVBMo1QRKNYFSTaBUEyjVBEo1gVJNoFQTKNUESjWBUk2gVBMo1QRKNYFSTaBUEyjVBEo1gVJNoFQTKNUESjWBUs3+oFSzP+gbFti/c+7zT0efbdb37xZPNYFSTaBUEyjVBEo1gVJNoFQTKNUESjWBUk2gVBMo1QRKNYFSTaBUEyjVBEo1gVJNoFQTKNUESjWBUk2gVBMo1QRKNYFSTaBUEyjVBEo1gVLtX/4amhfJiDMyAAAAAElFTkSuQmCC",
           "type": "image"
          },
          {
           "name": "7",
           "source": "data:image/png;base64,iVBORw0KGgoAAAANSUhEUgAAAOAAAADgCAIAAACVT/22AAAEeUlEQVR4Xu3c3U0cZxiA0ZfIZRjXAe6DVEADJnUYGnAFdh9AHcZ9OBcIZz0Ji9kf9nE4R1ysXpjRavVoZvhA39H5+flA1r4Ddf71nH+9P5YDKBEoaQIlTaCkCZQ0gZImUNIESppASRMoaQIlTaCkCZQ0gZImUNIESppASRMoaQIlTaCkCZQ0gZImUNIESppASRMoaQIlTaCkCZQ0gZJ2tO/t82Ar+w7U+ddz/vXc4kkTKGkCJU2gpAmUNIGSJlDSBEqaQEkTKGkCJU2gpAmUNIGSJlDSBEqaQEkTKGkCJU2gpAmUNIGSJlDSBEqaQEkTKGkCJU2gpAmUNIGSZn9Q0lxBSRMoaQIlTaCkCZQ0gZImUNIESppASRMoaQIlTaCkCZQ0gZImUNIESppASRMoaQIlTaCkCZQ0gZImUNIESppASRMoaQIlTaCkCZQ0gZImUNIEStqb5WAPPn36tBztzvn5ufOv8QLnX452yhWUtFKgb2c+znx/+Po683Hm7fKneFUygZ7NXM9crEyOZy5mrjX6qjUCvb92Hi/HMzPHM9fLGa9HI9APj9R573jmw3LGLp3MfJ65fni4up75PHOy/KmDaAS6eme/nDmaOZr5sjI8W3nNDp3MfJ25mTmbOX0Yns6czdzMfD18po1AV/318GK12h+fHTv0YebmqXvXzYFvX71AeRkfZi6Xs/92echGe4F+npmZtz9/fDcrr9neyS/Xee/yYPf6RqCrH9bZzPeZu5+fO1efR9ne/VXgWTY4ZBcagV7N3C1n/7ibuVrO2NzJ2ufOxxwf5iLaCPTbzPtHGr2beb+csZXV3z6fZeMDt9AIdB4aXTwYXcy8m/n285AtbfyXuY0P3EIm0Jn5trLGdM+dfR82XrPb+MAtlAKFfxHo67Pxmt3GB25BoK/Pxs/0Gx+4hUagP/4H9PvyO+zes5boV2184BYagfKSbh9Z0VvvbuZ2OXsBjUDv/33p/osX8Ody8LQNDtmFRqC8sNtnrrpfHObyOQJ9va5+udGLQy5IC/QVu5o5Xfs8ejdzesg6R6Cv3e3Mu5nTmS8ry5w3M19mTmfeHezO/sNLbNzwNKtLh3V7sN+BnuQKSlrjCmp1iUe4gpImUNIEStrRvrfPg228mf3v37kc/W58Puvt9fNxiydNoKQJlDSBkiZQ0gRKmkBJEyhpAiVNoKQJlDSBkiZQ0gRKmkBJEyhpAiVNoKQJlDSBkiZQ0gRKmkBJEyhpAiVNoKQJlDSBkiZQ0gRKmv1BSfs/7A+67/f/u59/Odq1vb5/t3jSBEqaQEkTKGkCJU2gpAmUNIGSJlDSBEqaQEkTKGkCJU2gpAmUNIGSJlDSBEqaQEkTKGkCJU2gpAmUNIGSJlDSBEqaQEkTKGkCJU2gpNkflDT7gz7hBfbv3Pf5l6Nd2+v7d4snTaCkCZQ0gZImUNIESppASRMoaQIlTaCkCZQ0gZImUNIESppASRMoaQIlTaCkCZQ0gZImUNIESppASRMoaQIlTaCkCZQ0gZImUNIEStrfVZOaF1ZBIAYAAAAASUVORK5CYII=",
           "type": "image"
          }
         ],
         "layout": {
          "margin": {
           "t": 60
          }
         },
         "name": "1"
        },
        {
         "data": [
          {
           "name": "8",
           "source": "data:image/png;base64,iVBORw0KGgoAAAANSUhEUgAAAOAAAADgCAIAAACVT/22AAAEcUlEQVR4Xu3c3VEUaRiA0ZctwxDjAPNgIyAB2TiEBIxA8wDiEPNwLyjcsXcZZH6Yx+Wc4mLqle6iup7qr/mk+uj8/Hwga9+BOv96zr/eH8sBlAiUNIGSJlDSBEqaQEkTKGkCJU2gpAmUNIGSJlDSBEqaQEkTKGkCJU2gpAmUNIGSJlDSBEqaQEkTKGkCJU2gpAmUNIGSJlDSBEqaQEk72vfr82Ar+w7U+ddz/vUs8aQJlDSBkiZQ0gRKmkBJEyhpAiVNoKQJlDSBkiZQ0gRKmkBJEyhpAiVNoKQJlDSBkiZQ0gRKmkBJEyhpAiVNoKQJlDSBkiZQ0gRKmkBJ835Q2vYdqPOv5/zrWeJJEyhpAiVNoKQJlDSBkiZQ0gRKmkBJEyhpAiVNoKQJlDSBkiZQ0gRKmkBJEyhpAiVNoKQJlDSBkiZQ0gRKmkBJEyhpAiVNoKQJlDSBkub9oKS5g5ImUNIESppASRMoaQIlTaCkCZQ0gZImUNIESppASRMoaQIlTaCkCZQ0gZImUNIESppASRMoaQIlTaCkCZQ0gZImUNIESppASRMoaQIlTaCkCZS0N8vBHnz69Gk52p3z83PnX+MFzr8c7ZQ7KGmlQN/OfJz5/vD1debjzNvld/GqZAI9m7meuViZHM9czFxr9FVrBHp/7zxejmdmjmeulzNej0agHx6p897xzIfljF06mfk8c/3wcHU983nmZPldB9EIdHVlv5w5mjma+bIyPFv5zA6dzHyduZk5mzl9GJ7OnM3czHw9fKaNQFf99fBhtdof144d+jBz89TadXPg5asXKC/jw8zlcvbfLg/ZaC/QzzMz8/bny3ez8pntnfxynfcuD7bWNwJdvVhnM99n7n5+7lx9HmV793eBZ9ngkF1oBHo1c7ec/eNu5mo5Y3Mna587H3N8mJtoI9BvM+8fafRu5v1yxlZWf/t8lo0P3EIj0HlodPFgdDHzbubbz0O2tPH/zG184BYygc7Mt5U9pntW9n3YeM9u4wO3UAoU/kWgr8/Ge3YbH7gFgb4+Gz/Tb3zgFhqB/vgb0O/Lf2H3nrVFv2rjA7fQCJSXdPvIjt56dzO3y9kLaAR6/+dL91+8gD+Xg6dtcMguNALlhd0+c9f94jC3zxHo63X1y41eHHJDWqCv2NXM6drn0buZ00PWOQJ97W5n3s2cznxZ2ea8mfkyczrz7mAr+w8v8eKGp9ldOqzbg/0O9CR3UNIad1C7SzzCHZQ0gZImUNKO9v36PNjGm9n/+zuXo9+N67PeXq+PJZ40gZImUNIESppASRMoaQIlTaCkCZQ0gZImUNIESppASRMoaQIlTaCkCZQ0gZImUNIESppASRMoaQIlTaCkCZQ0gZImUNIESppASRMoad4PStr/4f2g+/75f/fzL0e7ttef3xJPmkBJEyhpAiVNoKQJlDSBkiZQ0gRKmkBJEyhpAiVNoKQJlDSBkiZQ0gRKmkBJEyhpAiVNoKQJlDSBkiZQ0gRKmkBJEyhpAiVNoKQJlLS/AfTVlHOKn+cSAAAAAElFTkSuQmCC",
           "type": "image"
          },
          {
           "name": "9",
           "source": "data:image/png;base64,iVBORw0KGgoAAAANSUhEUgAAAOAAAADgCAIAAACVT/22AAAEdUlEQVR4Xu3c4TEkWxzG4detDQNxsHm4EUiAG8eSgAjIA3EgD/fDFHd0XY1Z0+e1nqd8mPqv7lKzP33aoXrn+Pg4UGvbgTr/POef99d0AE0ESjWBUk2gVBMo1QRKNYFSTaBUEyjVBEo1gVJNoFQTKNUESjWBUk2gVBMo1QRKNYFSTaBUEyjVBEo1gVJNoFQTKNUESjWBUk2gVBMo1QRKtZ1tPz4Pfsu2A3X+ec4/zxJPNYFSTaBUEyjVBEo1gVJNoFQTKNUESjWBUk2gVBMo1QRKNYFSTaBUEyjVBEo1gVJNoFQTKNUESjWBUk2gVBMo1QRKNYFSTaBUEyjVBEo1gVLN80Hptu1AnX+e88+zxFNNoFQTKNUESjWBUk2gVBMo1QRKNYFSTaBUEyjVBEo1gVJNoFQTKNUESjWBUk2gVBMo1QRKNYFSTaBUEyjVBEo1gVJNoFQTKNUESjWBUk2gVPN8UKq5glJNoFQTKNUESjWBUk2gVBMo1QRKNYFSTaBUEyjVBEo1gVJNoFQTKNUESjWBUk2gVBMo1QRKNYFSTaBUEyjVBEo1gVJNoFQTKNUESjWBUk2gVBMo1QRKtR/TwRZcXFxMR5/n+PjY+WcscP7p6FO5glJNoDzZTX4lj08fd8mvZHf6WQsTKEmSo+Q6OV2b7CWnyfXgRgXK07VzbzpOkr3kejpbUkegB8llcv20uFwnl8nB9LPYlpNX6lzZS06ms8WMDvQguUtukqPk8Gl4mBwlN8mdTBexvrKfJTvJTnK1Njxae72soYGeJDdvfe/ejPz2/Y7+eXqxXu3ztWNx4wI9Sc6ms/93ptHva1CgB++uc+XMWr+UyyTJ7sv/oJu118saFOjqXfiQDQ7hndZbPEoek/uX953r96PLGhHowex952v2XES35jy5n87+c5+cT2eLGRHo+t33h2x8IPMekp+vNHqf/JzOljQi0I1/M7Hxgbxp1ejkB4PTZD95eDlc1ohAN96z2PhA3uNhbY9pZdzK/mxEoPBuIwLdeM9i4wP5skYEuvE9zcYH8mWNCPRDW/TrNj6Qec9/A/o4/ZfhRgR6+8qOxrz75HY64483ItAkf08Hb9vgEN5p9edLq48ygwK9/eCu+6nL5zc1KNAk5+9u9LRiQ44hxgWa5Dw5nL0fvU8O1fmtDQ00yW2ynxwmV2vbnDfJVXKY7FvZv7slHtzwtls/Aw3Vt7v0bPQVFGZ1XEEZq2936ZkrKNUESjWBUm1n24/Pg9/xI9t/fud09NV4f+Zt9f2xxFNNoFQTKNUESjWBUk2gVBMo1QRKNYFSTaBUEyjVBEo1gVJNoFQTKNUESjWBUk2gVBMo1QRKNYFSTaBUEyjVBEo1gVJNoFQTKNUESjWBUk2gVPN8UKr9Cc8H3fbX/9XPPx19tq1+/ZZ4qgmUagKlmkCpJlCqCZRqAqWaQKkmUKoJlGoCpZpAqSZQqgmUagKlmkCpJlCqCZRqAqWaQKkmUKoJlGoCpZpAqSZQqgmUagKlmkCpJlCqCZRq/wKda5Rzp/62cgAAAABJRU5ErkJggg==",
           "type": "image"
          },
          {
           "name": "10",
           "source": "data:image/png;base64,iVBORw0KGgoAAAANSUhEUgAAAOAAAADgCAIAAACVT/22AAAEdUlEQVR4Xu3c4TEkWxzG4detDQNxsHm4EUiAG8eSgAjIA3EgD/fDFHd0XY1Z0+e1nqd8mPqv7lKzP33aoXrn+Pg4UGvbgTr/POef99d0AE0ESjWBUk2gVBMo1QRKNYFSTaBUEyjVBEo1gVJNoFQTKNUESjWBUk2gVBMo1QRKNYFSTaBUEyjVBEo1gVJNoFQTKNUESjWBUk2gVBMo1QRKtZ1tPz4Pfsu2A3X+ec4/zxJPNYFSTaBUEyjVBEo1gVJNoFQTKNUESjWBUk2gVBMo1QRKNYFSTaBUEyjVBEo1gVJNoFQTKNUESjWBUk2gVBMo1QRKNYFSTaBUEyjVBEo1gVLN80Hptu1AnX+e88+zxFNNoFQTKNUESjWBUk2gVBMo1QRKNYFSTaBUEyjVBEo1gVJNoFQTKNUESjWBUk2gVBMo1QRKNYFSTaBUEyjVBEo1gVJNoFQTKNUESjWBUk2gVPN8UKq5glJNoFQTKNUESjWBUk2gVBMo1QRKNYFSTaBUEyjVBEo1gVJNoFQTKNUESjWBUk2gVBMo1QRKNYFSTaBUEyjVBEo1gVJNoFQTKNUESjWBUk2gVBMo1QRKtR/TwRZcXFxMR5/n+PjY+WcscP7p6FO5glJNoDzZTX4lj08fd8mvZHf6WQsTKEmSo+Q6OV2b7CWnyfXgRgXK07VzbzpOkr3kejpbUkegB8llcv20uFwnl8nB9LPYlpNX6lzZS06ms8WMDvQguUtukqPk8Gl4mBwlN8mdTBexvrKfJTvJTnK1Njxae72soYGeJDdvfe/ejPz2/Y7+eXqxXu3ztWNx4wI9Sc6ms/93ptHva1CgB++uc+XMWr+UyyTJ7sv/oJu118saFOjqXfiQDQ7hndZbPEoek/uX953r96PLGhHowex952v2XES35jy5n87+c5+cT2eLGRHo+t33h2x8IPMekp+vNHqf/JzOljQi0I1/M7Hxgbxp1ejkB4PTZD95eDlc1ohAN96z2PhA3uNhbY9pZdzK/mxEoPBuIwLdeM9i4wP5skYEuvE9zcYH8mWNCPRDW/TrNj6Qec9/A/o4/ZfhRgR6+8qOxrz75HY64483ItAkf08Hb9vgEN5p9edLq48ygwK9/eCu+6nL5zc1KNAk5+9u9LRiQ44hxgWa5Dw5nL0fvU8O1fmtDQ00yW2ynxwmV2vbnDfJVXKY7FvZv7slHtzwtls/Aw3Vt7v0bPQVFGZ1XEEZq2936ZkrKNUESjWBUm1n24/Pg9/xI9t/fud09NV4f+Zt9f2xxFNNoFQTKNUESjWBUk2gVBMo1QRKNYFSTaBUEyjVBEo1gVJNoFQTKNUESjWBUk2gVBMo1QRKNYFSTaBUEyjVBEo1gVJNoFQTKNUESjWBUk2gVPN8UKr9Cc8H3fbX/9XPPx19tq1+/ZZ4qgmUagKlmkCpJlCqCZRqAqWaQKkmUKoJlGoCpZpAqSZQqgmUagKlmkCpJlCqCZRqAqWaQKkmUKoJlGoCpZpAqSZQqgmUagKlmkCpJlCqCZRq/wKda5Rzp/62cgAAAABJRU5ErkJggg==",
           "type": "image"
          },
          {
           "name": "11",
           "source": "data:image/png;base64,iVBORw0KGgoAAAANSUhEUgAAAOAAAADgCAIAAACVT/22AAAEcUlEQVR4Xu3c3VEUaRiA0ZctwxDjAPNgIyAB2TiEBIxA8wDiEPNwLyjcsXcZZH6Yx+Wc4mLqle6iup7qr/mk+uj8/Hwga9+BOv96zr/eH8sBlAiUNIGSJlDSBEqaQEkTKGkCJU2gpAmUNIGSJlDSBEqaQEkTKGkCJU2gpAmUNIGSJlDSBEqaQEkTKGkCJU2gpAmUNIGSJlDSBEqaQEk72vfr82Ar+w7U+ddz/vUs8aQJlDSBkiZQ0gRKmkBJEyhpAiVNoKQJlDSBkiZQ0gRKmkBJEyhpAiVNoKQJlDSBkiZQ0gRKmkBJEyhpAiVNoKQJlDSBkiZQ0gRKmkBJ835Q2vYdqPOv5/zrWeJJEyhpAiVNoKQJlDSBkiZQ0gRKmkBJEyhpAiVNoKQJlDSBkiZQ0gRKmkBJEyhpAiVNoKQJlDSBkiZQ0gRKmkBJEyhpAiVNoKQJlDSBkub9oKS5g5ImUNIESppASRMoaQIlTaCkCZQ0gZImUNIESppASRMoaQIlTaCkCZQ0gZImUNIESppASRMoaQIlTaCkCZQ0gZImUNIESppASRMoaQIlTaCkCZS0N8vBHnz69Gk52p3z83PnX+MFzr8c7ZQ7KGmlQN/OfJz5/vD1debjzNvld/GqZAI9m7meuViZHM9czFxr9FVrBHp/7zxejmdmjmeulzNej0agHx6p897xzIfljF06mfk8c/3wcHU983nmZPldB9EIdHVlv5w5mjma+bIyPFv5zA6dzHyduZk5mzl9GJ7OnM3czHw9fKaNQFf99fBhtdof144d+jBz89TadXPg5asXKC/jw8zlcvbfLg/ZaC/QzzMz8/bny3ez8pntnfxynfcuD7bWNwJdvVhnM99n7n5+7lx9HmV793eBZ9ngkF1oBHo1c7ec/eNu5mo5Y3Mna587H3N8mJtoI9BvM+8fafRu5v1yxlZWf/t8lo0P3EIj0HlodPFgdDHzbubbz0O2tPH/zG184BYygc7Mt5U9pntW9n3YeM9u4wO3UAoU/kWgr8/Ge3YbH7gFgb4+Gz/Tb3zgFhqB/vgb0O/Lf2H3nrVFv2rjA7fQCJSXdPvIjt56dzO3y9kLaAR6/+dL91+8gD+Xg6dtcMguNALlhd0+c9f94jC3zxHo63X1y41eHHJDWqCv2NXM6drn0buZ00PWOQJ97W5n3s2cznxZ2ea8mfkyczrz7mAr+w8v8eKGp9ldOqzbg/0O9CR3UNIad1C7SzzCHZQ0gZImUNKO9v36PNjGm9n/+zuXo9+N67PeXq+PJZ40gZImUNIESppASRMoaQIlTaCkCZQ0gZImUNIESppASRMoaQIlTaCkCZQ0gZImUNIESppASRMoaQIlTaCkCZQ0gZImUNIESppASRMoad4PStr/4f2g+/75f/fzL0e7ttef3xJPmkBJEyhpAiVNoKQJlDSBkiZQ0gRKmkBJEyhpAiVNoKQJlDSBkiZQ0gRKmkBJEyhpAiVNoKQJlDSBkiZQ0gRKmkBJEyhpAiVNoKQJlLS/AfTVlHOKn+cSAAAAAElFTkSuQmCC",
           "type": "image"
          }
         ],
         "layout": {
          "margin": {
           "t": 60
          }
         },
         "name": "2"
        },
        {
         "data": [
          {
           "name": "12",
           "source": "data:image/png;base64,iVBORw0KGgoAAAANSUhEUgAAAOAAAADgCAIAAACVT/22AAAEZ0lEQVR4Xu3c3U0cSRhA0Y+VwzCOA5wHGwEJwMZhSMAR2HkAcRjn4X1AeMe9y2Dmh7krzhEPo4IuoeGqqilQH52fnw9k7TtQ869n/vX+WA5AiUBJEyhpAiVNoKQJlDSBkiZQ0gRKmkBJEyhpAiVNoKQJlDSBkiZQ0gRKmkBJEyhpAiVNoKQJlDSBkiZQ0gRKmkBJEyhpAiVNoKQJlLSjfT8+D7ay70DNv57517PFkyZQ0gRKmkBJEyhpAiVNoKQJlDSBkiZQ0gRKmkBJEyhpAiVNoKQJlDSBkiZQ0gRKmkBJEyhpAiVNoKQJlDSBkiZQ0gRKmkBJEyhpAiXN80Fp23eg5l/P/OvZ4kkTKGkCJU2gpAmUNIGSJlDSBEqaQEkTKGkCJU2gpAmUNIGSJlDSBEqaQEkTKGkCJU2gpAmUNIGSJlDSBEqaQEkTKGkCJU2gpAmUNIGS5vmgtO07UPOvZ/71bPGkCZQ0gZImUNIESppASRMoaQIlTaCkCZQ0gZImUNIESppASRMoaQIlTaCkCZQ0gZImUNIESppASRMoaQIlTaCkCZQ0gZImUNIESppASfN8UNKsoKQJlDSBkiZQ0gRKmkBJEyhpAiVNoKQJlDSBkiZQ0gRKmkBJEyhpAiVNoKQJlDSBkiZQ0gRKmkBJEyhpAiVNoKQJlDSBkiZQ0gRKmkBJEyhpAiXt3XJgDz5//rwc2p3z83Pzr/EK8y+HdsoKSlop0Pczn2Z+PH58m/k08375VbwpmUDPZm5mLldGjmcuZ240+qY1An1YO4+XwzMzxzM3yzHejkagF0/U+eB45mI5xi6dzHyZuXm8ubqZ+TJzsvyqg2gEurqzX80czRzNfF0ZPFt5zQ6dzHybuZ05mzl9HDydOZu5nfl2+Ewbga766/HFarU/3zt26GLm9rm96/bA21cvUF7HxczVcuy/XR2y0V6gX2Zm5v2vb9/tymu2d/LbdT64Othe3wh09c06m/kxc//rfefq/Sjbe1gFXmSDS3ahEej1zP1y7B/3M9fLMTZ3sva+8ynHh1lEG4F+n/n4RKP3Mx+XY2xl9bfPF9n4wi00Ap3HRhc3RpczH2a+/zrIljb+y9zGF24hE+jMfF85Y3pgZ9+Hjc/sNr5wC6VA4V8E+vZsfGa38YVbEOjbs/E9/cYXbqER6M//Af2x/Ay796Ij+lUbX7iFRqC8prsnTvTWu5+5W469gkagD/++9PDBK/hzOfC8DS7ZhUagvLK7F566Xx5m+RyBvl3Xv93o5SEPpAX6hl3PnK69H72fOT1knSPQt+5u5sPM6czXlWPO25mvM6czHw62s//0Gg9ueJ7TpcO6O9jvQM+ygpLWWEGdLvEEKyhpAiVNoKQd7fvxebCNd/P/f37ncmjXfP9r7Pvna4snTaCkCZQ0gZImUNIESppASRMoaQIlTaCkCZQ0gZImUNIESppASRMoaQIlTaCkCZQ0gZImUNIESppASRMoaQIlTaCkCZQ0gZImUNIEStrfkrKUz3Ns5eAAAAAASUVORK5CYII=",
           "type": "image"
          },
          {
           "name": "13",
           "source": "data:image/png;base64,iVBORw0KGgoAAAANSUhEUgAAAOAAAADgCAIAAACVT/22AAAEaklEQVR4Xu3c4TEtSQCG4c/WDQNxcPOwEUiAG8clARGQB+JAHvbHKfaYWoNznenPep7y41QzXYpX92hqdo6PjwO1th2o+eeZf95f0wFoIlCqCZRqAqWaQKkmUKoJlGoCpZpAqSZQqgmUagKlmkCpJlCqCZRqAqWaQKkmUKoJlGoCpZpAqSZQqgmUagKlmkCpJlCqCZRqAqWaQKkmUKrtbPvxefBHth2o+eeZf54tnmoCpZpAqSZQqgmUagKlmkCpJlCqCZRqAqWaQKkmUKoJlGoCpZpAqSZQqgmUagKlmkCpJlCqCZRqAqWaQKkmUKoJlGoCpZpAqSZQqgmUagKlmueD0m3bgZp/nvnn2eKpJlCqCZRqAqWaQKkmUKoJlGoCpZpAqSZQqgmUagKlmkCpJlCqCZRqAqWaQKkmUKoJlGoCpZpAqSZQqgmUagKlmkCpJlCqCZRqAqWaQKkmUKp5Pijdth2o+eeZf54tnmoCpZpAqSZQqgmUagKlmkCpJlCqCZRqAqWaQKkmUKoJlGoCpZpAqSZQqgmUagKlmkCpJlCqCZRqAqWaQKkmUKoJlGoCpZpAqSZQqgmUagKlmueDUs0KSjWBUk2gVBMo1QRKNYFSTaBUEyjVBEo1gVJNoFQTKNUESjWBUk2gVBMo1QRKNYFSTaBUEyjVBEo1gVJNoFQTKNUESjWBUk2gVBMo1QRKNYFSTaBUEyjVfkwHtuDi4mI69HmOj4/NP2OB+adDn8oKSjWB8mQ3+Z08Pr3dJb+T3elHLUygJEmOkuvkdG1kLzlNrgc3KlCe1s696XCS7CXX07EldQR6kFwm10+by3VymRxMP4ptOXmlzpW95GQ6tpjRgR4kd8lNcpQcPg0eJkfJTXIn00Ws7+xnyU6yk1ytDR6tvV7W0EBPkpu3fnZvRv74fke/nl6sV/u8dixuXKAnydl07L+dafT7GhTowbvrXDmz1y/lMkmy+/IbdLP2elmDAl19FT5kg0t4p/UWj5LH5P7lfef6/eiyRgR6MHvf+Zo9i+jWnCf307F/3Sfn07HFjAh0/e77Qza+kHkPyc9XGr1Pfk7HljQi0I3/MrHxhbxp1ejkF4PTZD95eDm4rBGBbnxmsfGFvMfD2hnTyrid/dmIQOHdRgS68ZnFxhfyZY0IdON7mo0v5MsaEeiHjujXbXwh857/B/Rx+p7hRgR6+8qJxrz75HY6xv/eiECT/D0deNsGl/BOq39fWr2VGRTo7QdP3U8tn9/UoECTnL+70dOKAzmGGBdokvPkcPZ+9D45VOe3NjTQJLfJfnKYXK0dc94kV8lhsm9n/+6WeHDD2279DjRU3+nSs9ErKMzqWEEZq+906ZkVlGoCpZpAqbaz7cfnwZ/4ka///M7p0Gfz+c/Y9vfXFk81gVJNoFQTKNUESjWBUk2gVBMo1QRKNYFSTaBUEyjVBEo1gVJNoFQTKNUESjWBUk2gVBMo1QRKNYFSTaBUEyjVBEo1gVJNoFQTKNUESjWBUu0fO0iUz44D2QoAAAAASUVORK5CYII=",
           "type": "image"
          },
          {
           "name": "14",
           "source": "data:image/png;base64,iVBORw0KGgoAAAANSUhEUgAAAOAAAADgCAIAAACVT/22AAAEaklEQVR4Xu3c4TEtSQCG4c/WDQNxcPOwEUiAG8clARGQB+JAHvbHKfaYWoNznenPep7y41QzXYpX92hqdo6PjwO1th2o+eeZf95f0wFoIlCqCZRqAqWaQKkmUKoJlGoCpZpAqSZQqgmUagKlmkCpJlCqCZRqAqWaQKkmUKoJlGoCpZpAqSZQqgmUagKlmkCpJlCqCZRqAqWaQKkmUKrtbPvxefBHth2o+eeZf54tnmoCpZpAqSZQqgmUagKlmkCpJlCqCZRqAqWaQKkmUKoJlGoCpZpAqSZQqgmUagKlmkCpJlCqCZRqAqWaQKkmUKoJlGoCpZpAqSZQqgmUagKlmueD0m3bgZp/nvnn2eKpJlCqCZRqAqWaQKkmUKoJlGoCpZpAqSZQqgmUagKlmkCpJlCqCZRqAqWaQKkmUKoJlGoCpZpAqSZQqgmUagKlmkCpJlCqCZRqAqWaQKkmUKp5Pijdth2o+eeZf54tnmoCpZpAqSZQqgmUagKlmkCpJlCqCZRqAqWaQKkmUKoJlGoCpZpAqSZQqgmUagKlmkCpJlCqCZRqAqWaQKkmUKoJlGoCpZpAqSZQqgmUagKlmueDUs0KSjWBUk2gVBMo1QRKNYFSTaBUEyjVBEo1gVJNoFQTKNUESjWBUk2gVBMo1QRKNYFSTaBUEyjVBEo1gVJNoFQTKNUESjWBUk2gVBMo1QRKNYFSTaBUEyjVfkwHtuDi4mI69HmOj4/NP2OB+adDn8oKSjWB8mQ3+Z08Pr3dJb+T3elHLUygJEmOkuvkdG1kLzlNrgc3KlCe1s696XCS7CXX07EldQR6kFwm10+by3VymRxMP4ptOXmlzpW95GQ6tpjRgR4kd8lNcpQcPg0eJkfJTXIn00Ws7+xnyU6yk1ytDR6tvV7W0EBPkpu3fnZvRv74fke/nl6sV/u8dixuXKAnydl07L+dafT7GhTowbvrXDmz1y/lMkmy+/IbdLP2elmDAl19FT5kg0t4p/UWj5LH5P7lfef6/eiyRgR6MHvf+Zo9i+jWnCf307F/3Sfn07HFjAh0/e77Qza+kHkPyc9XGr1Pfk7HljQi0I3/MrHxhbxp1ejkF4PTZD95eDm4rBGBbnxmsfGFvMfD2hnTyrid/dmIQOHdRgS68ZnFxhfyZY0IdON7mo0v5MsaEeiHjujXbXwh857/B/Rx+p7hRgR6+8qJxrz75HY6xv/eiECT/D0deNsGl/BOq39fWr2VGRTo7QdP3U8tn9/UoECTnL+70dOKAzmGGBdokvPkcPZ+9D45VOe3NjTQJLfJfnKYXK0dc94kV8lhsm9n/+6WeHDD2279DjRU3+nSs9ErKMzqWEEZq+906ZkVlGoCpZpAqbaz7cfnwZ/4ka///M7p0Gfz+c/Y9vfXFk81gVJNoFQTKNUESjWBUk2gVBMo1QRKNYFSTaBUEyjVBEo1gVJNoFQTKNUESjWBUk2gVBMo1QRKNYFSTaBUEyjVBEo1gVJNoFQTKNUESjWBUu0fO0iUz44D2QoAAAAASUVORK5CYII=",
           "type": "image"
          },
          {
           "name": "15",
           "source": "data:image/png;base64,iVBORw0KGgoAAAANSUhEUgAAAOAAAADgCAIAAACVT/22AAAEZ0lEQVR4Xu3c3U0cSRhA0Y+VwzCOA5wHGwEJwMZhSMAR2HkAcRjn4X1AeMe9y2Dmh7krzhEPo4IuoeGqqilQH52fnw9k7TtQ869n/vX+WA5AiUBJEyhpAiVNoKQJlDSBkiZQ0gRKmkBJEyhpAiVNoKQJlDSBkiZQ0gRKmkBJEyhpAiVNoKQJlDSBkiZQ0gRKmkBJEyhpAiVNoKQJlLSjfT8+D7ay70DNv57517PFkyZQ0gRKmkBJEyhpAiVNoKQJlDSBkiZQ0gRKmkBJEyhpAiVNoKQJlDSBkiZQ0gRKmkBJEyhpAiVNoKQJlDSBkiZQ0gRKmkBJEyhpAiXN80Fp23eg5l/P/OvZ4kkTKGkCJU2gpAmUNIGSJlDSBEqaQEkTKGkCJU2gpAmUNIGSJlDSBEqaQEkTKGkCJU2gpAmUNIGSJlDSBEqaQEkTKGkCJU2gpAmUNIGS5vmgtO07UPOvZ/71bPGkCZQ0gZImUNIESppASRMoaQIlTaCkCZQ0gZImUNIESppASRMoaQIlTaCkCZQ0gZImUNIESppASRMoaQIlTaCkCZQ0gZImUNIESppASfN8UNKsoKQJlDSBkiZQ0gRKmkBJEyhpAiVNoKQJlDSBkiZQ0gRKmkBJEyhpAiVNoKQJlDSBkiZQ0gRKmkBJEyhpAiVNoKQJlDSBkiZQ0gRKmkBJEyhpAiXt3XJgDz5//rwc2p3z83Pzr/EK8y+HdsoKSlop0Pczn2Z+PH58m/k08375VbwpmUDPZm5mLldGjmcuZ240+qY1An1YO4+XwzMzxzM3yzHejkagF0/U+eB45mI5xi6dzHyZuXm8ubqZ+TJzsvyqg2gEurqzX80czRzNfF0ZPFt5zQ6dzHybuZ05mzl9HDydOZu5nfl2+Ewbga766/HFarU/3zt26GLm9rm96/bA21cvUF7HxczVcuy/XR2y0V6gX2Zm5v2vb9/tymu2d/LbdT64Othe3wh09c06m/kxc//rfefq/Sjbe1gFXmSDS3ahEej1zP1y7B/3M9fLMTZ3sva+8ynHh1lEG4F+n/n4RKP3Mx+XY2xl9bfPF9n4wi00Ap3HRhc3RpczH2a+/zrIljb+y9zGF24hE+jMfF85Y3pgZ9+Hjc/sNr5wC6VA4V8E+vZsfGa38YVbEOjbs/E9/cYXbqER6M//Af2x/Ay796Ij+lUbX7iFRqC8prsnTvTWu5+5W469gkagD/++9PDBK/hzOfC8DS7ZhUagvLK7F566Xx5m+RyBvl3Xv93o5SEPpAX6hl3PnK69H72fOT1knSPQt+5u5sPM6czXlWPO25mvM6czHw62s//0Gg9ueJ7TpcO6O9jvQM+ygpLWWEGdLvEEKyhpAiVNoKQd7fvxebCNd/P/f37ncmjXfP9r7Pvna4snTaCkCZQ0gZImUNIESppASRMoaQIlTaCkCZQ0gZImUNIESppASRMoaQIlTaCkCZQ0gZImUNIESppASRMoaQIlTaCkCZQ0gZImUNIEStrfkrKUz3Ns5eAAAAAASUVORK5CYII=",
           "type": "image"
          }
         ],
         "layout": {
          "margin": {
           "t": 60
          }
         },
         "name": "3"
        },
        {
         "data": [
          {
           "name": "16",
           "source": "data:image/png;base64,iVBORw0KGgoAAAANSUhEUgAAAOAAAADgCAIAAACVT/22AAAEXUlEQVR4Xu3c3U1bSRiA4Y/VlhFSB6QPtgIaCFtHoIFUkPQB1BHSR/YCkXXOLib4B7+Sn0dcWIPPXFivZo4HdE4uLy8HsvYdqPnXM/96fywHoESgpAmUNIGSJlDSBEqaQEkTKGkCJU2gpAmUNIGSJlDSBEqaQEkTKGkCJU2gpAmUNIGSJlDSBEqaQEkTKGkCJU2gpAmUNIGSJlDSBErayb4fnwdb2Xeg5l/P/OvZ4kkTKGkCJU2gpAmUNIGSJlDSBEqaQEkTKGkCJU2gpAmUNIGSJlDSBEqaQEkTKGkCJU2gpAmUNIGSJlDSBEqaQEkTKGkCJU2gpAmUNIGS5vmgtO07UPOvZ/71bPGkCZQ0gZImUNIESppASRMoaQIlTaCkCZQ0gZImUNIESppASRMoaQIlTaCkCZQ0gZImUNIESppASRMoaQIlTaCkCZQ0gZImUNIESppASfN8UNr2Haj51zP/erZ40gRKmkBJEyhpAiVNoKQJlDSBkiZQ0gRKmkBJEyhpAiVNoKQJlDSBkiZQ0gRKmkBJEyhpAiVNoKQJlDSBkiZQ0gRKmkBJEyhpAiVNoKR5Piht+w7U/OuZfz1bPGkCJU2gpAmUNIGSJlDSBEqaQEkTKGkCJU2gpAmUNIGSJlDSBEqaQEkTKGkCJU2gpAmUNIGSJlDSBEqaQEkTKGkCJU2gpAmUNIGSJlDSPB+UNCsoaQIlTaCkCZQ0gZImUNIESppASRMoaQIlTaCkCZQ0gZImUNIESppASRMoaQIlTaCkCZQ0gZImUNIESppASRMoaQIlTaCkCZQ0gZImUNIESppASftzObAHnz9/Xg7tzuXlpfnXeIP5l0M7ZQUlrRTou5lPMz+efr7NfJp5t3wXRyUT6MXM7czVysjpzNXMrUaPWiPQx7XzdDk8M3M6c7sc43g0Av34TJ2PTmc+LsfYpbOZLzO3TzdXtzNfZs6W7zqIRqCrO/v1zMnMyczXlcGLldfs0NnMt5m7mYuZ86fB85mLmbuZb4fPtBHoqr+fXqxW+/OzY4c+zty9tHfdHXj76gXK2/g4c70c+3/Xh2y0F+iXmZl59+vHd7fymu2d/Xadj64Pttc3Al39sC5mfsw8/HrfuXo/yvYeV4FX2eCSXWgEejPzsBz718PMzXKMzZ2tve98zulhFtFGoN9nPjzT6MPMh+UYW1n99vkqG1+4hUag89To4sboaub9zPdfB9nSxn+Z2/jCLWQCnZnvK2dMj+zs+7Dxmd3GF26hFCj8h0CPz8ZndhtfuAWBHp+N7+k3vnALjUB//g/oj+Vv2L1XHdGv2vjCLTQC5S3dP3Oit97DzP1y7A00An3896XHH97AX8uBl21wyS40AuWN3b/y1P3qMMvnCPR43fx2o1eHPJAW6BG7mTlfez/6MHN+yDpHoMfufub9zPnM15VjzruZrzPnM+8PtrP/9BYPbniZ06XDuj/Yd6AXWUFJa6ygTpd4hhWUNIGSJlDS/gGVB48rdMwvRQAAAABJRU5ErkJggg==",
           "type": "image"
          },
          {
           "name": "17",
           "source": "data:image/png;base64,iVBORw0KGgoAAAANSUhEUgAAAOAAAADgCAIAAACVT/22AAAEYUlEQVR4Xu3c0VEjRwBF0YfLYcDGAZsHjoAEYONYSIAIIA9EHIg88IcKLKbMAPJq+q05p/hQNUx/wKV71FBzcHZ2Fqi170DNP8/88/6YDkATgVJNoFQTKNUESjWBUk2gVBMo1QRKNYFSTaBUEyjVBEo1gVJNoFQTKNUESjWBUk2gVBMo1QRKNYFSTaBUEyjVBEo1gVJNoFQTKNUESjWBUu1g34/Pg/9k34Gaf57559niqSZQqgmUagKlmkCpJlCqCZRqAqWaQKkmUKoJlGoCpZpAqSZQqgmUagKlmkCpJlCqCZRqAqWaQKkmUKoJlGoCpZpAqSZQqgmUagKlmkCpJlCqeT4o3fYdqPnnmX+eLZ5qAqWaQKkmUKoJlGoCpZpAqSZQqgmUagKlmkCpJlCqCZRqAqWaQKkmUKoJlGoCpZpAqSZQqgmUagKlmkCpJlCqCZRqAqWaQKkmUKoJlGoCpZrng9Jt34Gaf57559niqSZQqgmUagKlmkCpJlCqCZRqAqWaQKkmUKoJlGoCpZpAqSZQqgmUagKlmkCpJlCqCZRqAqWaQKkmUKoJlGoCpZpAqSZQqgmUagKlmkCpJlCqeT4o3fYdqPnnmX+eLZ5qAqWaQKkmUKoJlGoCpZpAqSZQqgmUagKlmkCpJlCqCZRqAqWaQKkmUKoJlGoCpZpAqSZQqgmUagKlmkCpJlCqCZRqAqWaQKkmUKoJlGoCpZrng1LNCko1gVJNoFQTKNUESjWBUk2gVBMo1QRKNYFSTaBUEyjVBEo1gVJNoFQTKNUESjWBUk2gVBMo1QRKNYFSTaBUEyjVBEo1gVJNoFQTKNUESjWBUk2gVBMo1f6cDuzB9fX1dOjXOTs7M/+MBeafDv1SVlCqCZRnh8nP5On54yH5mRxOv2phAiVJcprcJRdbI0fJRXI3uFGB8rx2Hk2Hk+QouZuOLakj0OPkJrl73lzukpvkePpV7Mv5G3VuHCXn07HFjA70OHlIVslpcvI8eJKcJqvkQaaL2N7ZL5OD5CC53Ro83Xq9rKGBnier9353VyN/fb+iH88vtqt9WTsWNy7Q8+RyOvbvLjX6dQ0K9PjDdW5c2uuXcpMkOXz9A1ptvV7WoEA334VP2eESPmi7xdPkKVm/vu/cvh9d1ohAj2fvO99yZBHdm6tkPR37xzq5mo4tZkSg23ffn7Lzhcx7TL6/0eg6+T4dW9KIQHf+y8TOF/KuTaOTNwYXybfk8fXgskYEuvOZxc4X8hGPW2dMG+N29hcjAoUPGxHozmcWO1/Ib2tEoDvf0+x8Ib+tEYF+6oh+284XMu/lf0Cfpp8ZbkSg92+caMxbJ/fTMf73RgSa5K/pwPt2uIQP2vz70uajzKBA7z956n5h+fyiBgWa5OrDjV5UHMgxxLhAk1wlJ7P3o+vkRJ1f2tBAk9wn35KT5HbrmHOV3CYnyTc7+1e3xIMb3nfvPdBQfadLL0avoDCrYwVlrL7TpRdWUKoJlGoCpdrfPZ2PKz3yg+4AAAAASUVORK5CYII=",
           "type": "image"
          },
          {
           "name": "18",
           "source": "data:image/png;base64,iVBORw0KGgoAAAANSUhEUgAAAOAAAADgCAIAAACVT/22AAAEYUlEQVR4Xu3c0VEjRwBF0YfLYcDGAZsHjoAEYONYSIAIIA9EHIg88IcKLKbMAPJq+q05p/hQNUx/wKV71FBzcHZ2Fqi170DNP8/88/6YDkATgVJNoFQTKNUESjWBUk2gVBMo1QRKNYFSTaBUEyjVBEo1gVJNoFQTKNUESjWBUk2gVBMo1QRKNYFSTaBUEyjVBEo1gVJNoFQTKNUESjWBUu1g34/Pg/9k34Gaf57559niqSZQqgmUagKlmkCpJlCqCZRqAqWaQKkmUKoJlGoCpZpAqSZQqgmUagKlmkCpJlCqCZRqAqWaQKkmUKoJlGoCpZpAqSZQqgmUagKlmkCpJlCqeT4o3fYdqPnnmX+eLZ5qAqWaQKkmUKoJlGoCpZpAqSZQqgmUagKlmkCpJlCqCZRqAqWaQKkmUKoJlGoCpZpAqSZQqgmUagKlmkCpJlCqCZRqAqWaQKkmUKoJlGoCpZrng9Jt34Gaf57559niqSZQqgmUagKlmkCpJlCqCZRqAqWaQKkmUKoJlGoCpZpAqSZQqgmUagKlmkCpJlCqCZRqAqWaQKkmUKoJlGoCpZpAqSZQqgmUagKlmkCpJlCqeT4o3fYdqPnnmX+eLZ5qAqWaQKkmUKoJlGoCpZpAqSZQqgmUagKlmkCpJlCqCZRqAqWaQKkmUKoJlGoCpZpAqSZQqgmUagKlmkCpJlCqCZRqAqWaQKkmUKoJlGoCpZrng1LNCko1gVJNoFQTKNUESjWBUk2gVBMo1QRKNYFSTaBUEyjVBEo1gVJNoFQTKNUESjWBUk2gVBMo1QRKNYFSTaBUEyjVBEo1gVJNoFQTKNUESjWBUk2gVBMo1f6cDuzB9fX1dOjXOTs7M/+MBeafDv1SVlCqCZRnh8nP5On54yH5mRxOv2phAiVJcprcJRdbI0fJRXI3uFGB8rx2Hk2Hk+QouZuOLakj0OPkJrl73lzukpvkePpV7Mv5G3VuHCXn07HFjA70OHlIVslpcvI8eJKcJqvkQaaL2N7ZL5OD5CC53Ro83Xq9rKGBnier9353VyN/fb+iH88vtqt9WTsWNy7Q8+RyOvbvLjX6dQ0K9PjDdW5c2uuXcpMkOXz9A1ptvV7WoEA334VP2eESPmi7xdPkKVm/vu/cvh9d1ohAj2fvO99yZBHdm6tkPR37xzq5mo4tZkSg23ffn7Lzhcx7TL6/0eg6+T4dW9KIQHf+y8TOF/KuTaOTNwYXybfk8fXgskYEuvOZxc4X8hGPW2dMG+N29hcjAoUPGxHozmcWO1/Ib2tEoDvf0+x8Ib+tEYF+6oh+284XMu/lf0Cfpp8ZbkSg92+caMxbJ/fTMf73RgSa5K/pwPt2uIQP2vz70uajzKBA7z956n5h+fyiBgWa5OrDjV5UHMgxxLhAk1wlJ7P3o+vkRJ1f2tBAk9wn35KT5HbrmHOV3CYnyTc7+1e3xIMb3nfvPdBQfadLL0avoDCrYwVlrL7TpRdWUKoJlGoCpdrfPZ2PKz3yg+4AAAAASUVORK5CYII=",
           "type": "image"
          },
          {
           "name": "19",
           "source": "data:image/png;base64,iVBORw0KGgoAAAANSUhEUgAAAOAAAADgCAIAAACVT/22AAAEXUlEQVR4Xu3c3U1bSRiA4Y/VlhFSB6QPtgIaCFtHoIFUkPQB1BHSR/YCkXXOLib4B7+Sn0dcWIPPXFivZo4HdE4uLy8HsvYdqPnXM/96fywHoESgpAmUNIGSJlDSBEqaQEkTKGkCJU2gpAmUNIGSJlDSBEqaQEkTKGkCJU2gpAmUNIGSJlDSBEqaQEkTKGkCJU2gpAmUNIGSJlDSBErayb4fnwdb2Xeg5l/P/OvZ4kkTKGkCJU2gpAmUNIGSJlDSBEqaQEkTKGkCJU2gpAmUNIGSJlDSBEqaQEkTKGkCJU2gpAmUNIGSJlDSBEqaQEkTKGkCJU2gpAmUNIGS5vmgtO07UPOvZ/71bPGkCZQ0gZImUNIESppASRMoaQIlTaCkCZQ0gZImUNIESppASRMoaQIlTaCkCZQ0gZImUNIESppASRMoaQIlTaCkCZQ0gZImUNIESppASfN8UNr2Haj51zP/erZ40gRKmkBJEyhpAiVNoKQJlDSBkiZQ0gRKmkBJEyhpAiVNoKQJlDSBkiZQ0gRKmkBJEyhpAiVNoKQJlDSBkiZQ0gRKmkBJEyhpAiVNoKR5Piht+w7U/OuZfz1bPGkCJU2gpAmUNIGSJlDSBEqaQEkTKGkCJU2gpAmUNIGSJlDSBEqaQEkTKGkCJU2gpAmUNIGSJlDSBEqaQEkTKGkCJU2gpAmUNIGSJlDSPB+UNCsoaQIlTaCkCZQ0gZImUNIESppASRMoaQIlTaCkCZQ0gZImUNIESppASRMoaQIlTaCkCZQ0gZImUNIESppASRMoaQIlTaCkCZQ0gZImUNIESppASftzObAHnz9/Xg7tzuXlpfnXeIP5l0M7ZQUlrRTou5lPMz+efr7NfJp5t3wXRyUT6MXM7czVysjpzNXMrUaPWiPQx7XzdDk8M3M6c7sc43g0Av34TJ2PTmc+LsfYpbOZLzO3TzdXtzNfZs6W7zqIRqCrO/v1zMnMyczXlcGLldfs0NnMt5m7mYuZ86fB85mLmbuZb4fPtBHoqr+fXqxW+/OzY4c+zty9tHfdHXj76gXK2/g4c70c+3/Xh2y0F+iXmZl59+vHd7fymu2d/Xadj64Pttc3Al39sC5mfsw8/HrfuXo/yvYeV4FX2eCSXWgEejPzsBz718PMzXKMzZ2tve98zulhFtFGoN9nPjzT6MPMh+UYW1n99vkqG1+4hUag89To4sboaub9zPdfB9nSxn+Z2/jCLWQCnZnvK2dMj+zs+7Dxmd3GF26hFCj8h0CPz8ZndhtfuAWBHp+N7+k3vnALjUB//g/oj+Vv2L1XHdGv2vjCLTQC5S3dP3Oit97DzP1y7A00An3896XHH97AX8uBl21wyS40AuWN3b/y1P3qMMvnCPR43fx2o1eHPJAW6BG7mTlfez/6MHN+yDpHoMfufub9zPnM15VjzruZrzPnM+8PtrP/9BYPbniZ06XDuj/Yd6AXWUFJa6ygTpd4hhWUNIGSJlDS/gGVB48rdMwvRQAAAABJRU5ErkJggg==",
           "type": "image"
          }
         ],
         "layout": {
          "margin": {
           "t": 60
          }
         },
         "name": "4"
        },
        {
         "data": [
          {
           "name": "20",
           "source": "data:image/png;base64,iVBORw0KGgoAAAANSUhEUgAAAOAAAADgCAIAAACVT/22AAADoUlEQVR4Xu3c4U1cRxhA0Y+IMiB9xH3QwTZgpw7bDVBB0gfpI9AH+YGsPF7kFSvmWdfROeLH0yc0WsFlBlZork6n00DW0YFa/zzrn/fLfgAlAiVNoKQJlDSBkiZQ0gRKmkBJEyhpAiVNoKQJlDSBkiZQ0gRKmkBJEyhpAiVNoKQJlDSBkiZQ0gRKmkBJEyhpAiVNoKQJlDSBkiZQ0q6Ovj4P3uXoQK1/nvXPc8STJlDSBEqaQEkTKGkCJU2gpAmUNIGSJlDSBEqaQEkTKGkCJU2gpAmUNIGSJlDSBEqaQEkTKGkCJU2gpAmUNIGSJlDSBEqaQEkTKGkCJc39oLQdHaj1z7P+eY540gRKmkBJEyhpAiVNoKQJlDSBkiZQ0gRKmkBJEyhpAiVNoKQJlDSBkiZQ0gRKmkBJEyhpAiVNoKQJlDSBkiZQ0gRKmkBJEyhpAiVNoKS5H5S065m5v7/fj9c5nU5Hr78f8drRX/9D13fEkyZQ0gRKmkBJEyhpAiVNoKQJlDSBkiZQ0gRKmkBJEyhpAiVNoKQJlDSBkiZQ0gRKmkBJEyhpAiVNoKQJlDSBkiZQ0gRKmkBJEyhpAiXN/aCkXe8H/Meh91/+gA3i6Nd/6PqOeNIEus7NzOeZ528ff898nrnZfxYXEegidzMPM582k9uZTzMPGn0Xga7wsnfe7sczM7czD/sZbyfQFT5+p84XtzMf9zPeSKArbE/2LzNXM1czf26Gd5tnLiHQ1X7/9rCt9rfNM5cQKGkCXe2PmZm5mfmyGf61eeYSAl1h2+LdzPPM4+vfO7e/j3IJga7wdeZxP/vX48zX/Yw3EugKTzMfvtPo48yH/Yy3E+giL41uz/qZ+TTz68zT6yGXEOg6T5v3mF442d9NoKQJlDSBkuY/6ld43g9YxQ5Kmh10havNs910KTsoaQIlTaCkCZQ0fySt4A+jw9hBSbODrrB9m4ml7KCkCZQ0gZLmflDSrucnvz/yB/yAef1nHP39dcSTJlDSBEqaQEkTKGkCJU2gpAmUNIGSJlDSBEqaQEkTKGkCJU2gpAmUNIGSJlDSBEqaQEkTKGkCJU2gpAmUNIGSJlDSBEqaQEkTKGkCJc39oKT9H+4H/dnX349WO/r1H7q+I540gZImUNIESppASRMoaQIlTaCkCZQ0gZImUNIESppASRMoaQIlTaCkCZQ0gZImUNIESppASRMoaQIlTaCkCZQ0gZImUNIESppASRMoaf8AaR113/M28sgAAAAASUVORK5CYII=",
           "type": "image"
          },
          {
           "name": "21",
           "source": "data:image/png;base64,iVBORw0KGgoAAAANSUhEUgAAAOAAAADgCAIAAACVT/22AAADjklEQVR4Xu3c0U1bSRSA4eNVyoDtI+mDDtxA2DqSNEAFmz5IHwt9sA8o2suVYvAylv5I3ycero7QyIJfM7Yf5nA8HgeyLh2o9U+z/ml/7AdQIlDSBEqaQEkTKGkCJU2gpAmUNIGSJlDSBEqaQEkTKGkCJU2gpAmUNIGSJlDSBEqaQEkTKGkCJU2gpAmUNIGSJlDSBEqaQEkTKGkCJe1w6evz4F0uHaj1T7P+aY540gRKmkBJEyhpAiVNoKQJlDSBkiZQ0gRKmkBJEyhpAiVNoKQJlDSBkiZQ0gRKmkBJEyhpAiVNoKQJlDSBkiZQ0gRKmkBJEyhpAiVNoKS5H5S2Swdq/dOsf5ojnjSBkiZQ0gRKmkBJEyhpAiVNoKQJlDSBkiZQ0gRKmkBJEyhpAiVNoKQJlDSBkiZQ0gRKmkBJEyhpAiVNoKQJlDSBkiZQ0gRKmkBJEyhp7gcl7cPM3N3d7cfrHI/HS6+/H/HSpf/+F13fEU+aQEkTKGkCJU2gpAmUNIGSJlDSBEqaQEkTKGkCJU2gpAmUNIGSJlDSBEqaQEkTKGkCJU2gpAmUNIGSJlDSBEqaQEkTKGkCJU2gpAmUNPeDkuZ+0Nf97q//t+aIJ02g61zNfJl5+vnzz8yXmav9b3EWgS5yM3M/c7uZXM/cztxr9F0EusLz3nm9H8/MXM/c72e8nUBX+PyLOp9dz3zez3gjga6wPdm/zhxmDjPfN8ObzTPnEOhqf/182Fb7cfPMOQRKmkBX+3tmZq5mvm6GPzbPnEOgK2xbvJl5mnl4+b5z+36Ucwh0hW8zD/vZfx5mvu1nvJFAV3ic+fSLRh9mPu1nvJ1AF3ludHvWz8ztzJ8zjy+HnEOg6zxuvmN65mR/N4GSJlDSBErah/2A/+FpP2AVOyhpdtAVDptnu+lSdlDSBEqaQEkTKGk+JK3gg9HF2EFJs4OusP2aiaXsoKQJlDSBkuZ+UNLcD/o6r/+ES/9/HfGkCZQ0gZImUNIESppASRMoaQIlTaCkCZQ0gZImUNIESppASRMoaQIlTaCkCZQ0gZImUNIESppASRMoaQIlTaCkCZQ0gZImUNIESppASXM/KGnuB33dpV+/9U9wxJMmUNIESppASRMoaQIlTaCkCZQ0gZImUNIESppASRMoaQIlTaCkCZQ0gZImUNIESppASRMoaQIlTaCkCZQ0gZImUNIESppASRMoaQIl7V8QnncLcM5/VwAAAABJRU5ErkJggg==",
           "type": "image"
          },
          {
           "name": "22",
           "source": "data:image/png;base64,iVBORw0KGgoAAAANSUhEUgAAAOAAAADgCAIAAACVT/22AAADwklEQVR4Xu3c0VEbVxSA4eMMZQTXAYXEFagBKMQ0QAW4D0MfpA/ngRdYJ0JasZ7f0fc9Hrh3NPCzK3bgftrtdgNZWwdq//3sv98fywGUCJQ0gZImUNIESppASRMoaQIlTaCkCZQ0gZImUNIESppASRMoaQIlTaCkCZQ0gZImUNIESppASRMoaQIlTaCkCZQ0gZImUNIESppASfu09fF5cJKtA7X/fvbfzy2eNIGSJlDSBEqaQEkTKGkCJU2gpAmUNIGSJlDSBEqaQEkTKGkCJU2gpAmUNIGSJlDSBEqaQEkTKGkCJU2gpAmUNIGSJlDSBEqaQEkTKGnOB6Vt60Dtv5/993OLJ02gpAmUNIGSJlDSBEqaQEkTKGkCJU2gpAmUNIGSJlDSBEqaQEkTKGkCJU2gpAmUNIGSJlDSBEqaQEkTKGkCJU2gpAmUNIGSJlDSBEqa80FJu5iZ+/v75fjj7Ha7rfdfjnhr66//pvu7xZMmUNIESppASRMoaQIlTaCkCZQ0gZImUNIESppASRMoaQIlTaCkCZQ0gZImUNIESppASRMoaQIlTaCkCZQ0gZImUNIESppASRMoaQIlzfmgpF0sB/xk0/Mvf8EFYuvXv+n+bvGkCZQ0gZImUNIE+hGuZh5mvs/8mPkx833mYeZq+Vms4Lf407ykefl2eD0zM3/NPM98mXl6+1GO4Qp6gpuZx5/qfO1y5nHmZjnmcAJd62bm63L2775qdD2BrnJ1cJ0vvnpLupJAV3lYDt63YgkCXeNq7/vO/3LpIrqGQI93uxwcavXCMybQ4/25HBxq9cIzJtDjvTzmXGH1wjMmUNIEerzH5eBQqxeeMYEe7+/l4FCrF54xgR7vqEf0r61eeMYEerynmefl7H3P/mpkDYGu8mU5eN+KJQh0pacjn7rfunyuJNC17g5u9HbmbjnjQAI9wd3M9d73o88z1+o8iUBP8zTzeeZ65turx5yPM99mrmc+u7Ofyr98fIQnvwNtxRWUNIGSJlDSBEqaQElzPihpF/Obnx/5C37AvP49tv7+usWTJlDSBEqaQEkTKGkCJU2gpAmUNIGSJlDSBEqaQEkTKGkCJU2gpAmUNIGSJlDSBEqaQEkTKGkCJU2gpAmUNIGSJlDSBEqaQEkTKGkCJc35oKT9H84H/d33X44+2tavf9P93eJJEyhpAiVNoKQJlDSBkiZQ0gRKmkBJEyhpAiVNoKQJlDSBkiZQ0gRKmkBJEyhpAiVNoKQJlDSBkiZQ0gRKmkBJEyhpAiVNoKQJlDSBkvYPS4t8/G0ER2wAAAAASUVORK5CYII=",
           "type": "image"
          },
          {
           "name": "23",
           "source": "data:image/png;base64,iVBORw0KGgoAAAANSUhEUgAAAOAAAADgCAIAAACVT/22AAADr0lEQVR4Xu3c0VEbVxSA4eOMywiuAwqJK1ADUAg0QAW4D0MfpA/ngRfYJJJ2hWZ+j77v8cC9o4F/dsWOuF92u91A1rkDtf9+9t/vj+UASgRKmkBJEyhpAiVNoKQJlDSBkiZQ0gRKmkBJEyhpAiVNoKQJlDSBkiZQ0gRKmkBJEyhpAiVNoKQJlDSBkiZQ0gRKmkBJEyhpAiVNoKR9OffxeXCScwdq//3sv59bPGkCJU2gpAmUNIGSJlDSBEqaQEkTKGkCJU2gpAmUNIGSJlDSBEqaQEkTKGkCJU2gpAmUNIGSJlDSBEqaQEkTKGkCJU2gpAmUNIGSJlDSnA9K27kDtf9+9t/PLZ40gZImUNIESppASRMoaQIlTaCkCZQ0gZImUNIESppASRMoaQIlTaCkCZQ0gZImUNIESppASRMoaQIlTaCkCZQ0gZImUNIESppASRMoac4HJe3rzDw+Pi7Hn2e32517/+WIj8798z/r/m7xpAmUNIGSJlDSBEqaQEkTKGkCJU2gpAmUNIGSJlDSBEqaQEkTKGkCJU2gpAmUNIGSJlDSBEqaQEkTKGkCJU2gpAmUNIGSJlDSBEqaQElzPihpzgc97Hd//b81t3jSBEqaQEkTKGkC/QzXM08zP2d+zfya+TnzNHO9/C42+LocsMpbmlcfhzczM/PXzOvM95mXj19lDVfQE9zOPP+rzveuZp5nbpdjjifQrW5n7pez/3av0e0Eusn10XW+ufeWdCOBbvK0HBy2YQkC3eJ67/vO/3PlIrqFQNe7Ww6OtXnhBRPoen8uB8favPCCCXS9t8ecG2xeeMEESppA13teDo61eeEFE+h6fy8Hx9q88IIJdL1Vj+jf27zwggl0vZeZ1+XssFefGtlCoJt8Xw4O27AEgW70svKp+53L50YC3erh6EbvZh6WM44k0BM8zNzsfT/6OnOjzpMI9DQvM99mbmZ+vHvM+TzzY+Zm5ps7+6n8y8dnePE30Lm4gpImUNIESppASRMoac4HJc35oId5/Xuc+/frFk+aQEkTKGkCJU2gpAmUNIGSJlDSBEqaQEkTKGkCJU2gpAmUNIGSJlDSBEqaQEkTKGkCJU2gpAmUNIGSJlDSBEqaQEkTKGkCJU2gpAmUNOeDkuZ80MPO/frtv4dbPGkCJU2gpAmUNIGSJlDSBEqaQEkTKGkCJU2gpAmUNIGSJlDSBEqaQEkTKGkCJU2gpAmUNIGSJlDSBEqaQEkTKGkCJU2gpAmUNIGSJlDS/gHy/X4o0tc9mgAAAABJRU5ErkJggg==",
           "type": "image"
          }
         ],
         "layout": {
          "margin": {
           "t": 60
          }
         },
         "name": "5"
        },
        {
         "data": [
          {
           "name": "24",
           "source": "data:image/png;base64,iVBORw0KGgoAAAANSUhEUgAAAOAAAADgCAIAAACVT/22AAADjUlEQVR4Xu3cwU0cWRRA0dcjhwGTh50HGXQCZuKwnQAR2HngPAx54AWypijJZdpUSXdxjliUntAXoq/+7+7FP53P54GsowO1/jbrb/tnPYASgZImUNIESppASRMoaQIlTaCkCZQ0gZImUNIESppASRMoaQIlTaCkCZQ0gZImUNIESppASRMoaQIlTaCkCZQ0gZImUNIESppASRMoaaejr8+DNzk6UOtvs/42RzxpAiVNoKQJlDSBkiZQ0gRKmkBJEyhpAiVNoKQJlDSBkiZQ0gRKmkBJEyhpAiVNoKQJlDSBkiZQ0gRKmkBJEyhpAiVNoKQJlDSBkiZQ0twPStvRgVp/m/W3OeJJEyhpAiVNoKQJlDSBkiZQ0gRKmkBJEyhpAiVNoKQJlDSBkiZQ0gRKmkBJEyhpAiVNoKQJlDSBkiZQ0gRKmkBJEyhpAiVNoKQJlDSBkuZ+UNqODtT626y/zRFPmkBJEyhpAiVNoKQJlDSBkiZQ0gRKmkBJEyhpAiVNoKQJlDSBkiZQ0gRKmkBJEyhpAiVNoKQJlDSBkiZQ0gRKmkBJEyhpAiVNoKQJlDT3g5L2bmbu7u7W4/2cz+ej11+PeOno//+h6zviSRMoaQIlTaCkCZQ0gZImUNIESppASRMoaQIlTaCkCZQ0gZImUNIESppASRMoaQIlTaCkCZQ0gZImUNIESppASRMoaQIlTaCkCZQ0gZLmflDS3A/6Z/7+DUe/vo540gS6n6uZTzNPv35+zHyauVr/FhcR6E5uZu5nbheT65nbmXuNvolA9/C8d16vxzMz1zP36xmvJ9A9fPxNnc+uZz6uZ7ySQPewPNk/z5xmTjPfFsObxTOXEOje/vv1sKz2/eKZSwiUNIHu7evMzFzNfF4Mvy+euYRA97Bs8Wbmaebh5fvO5ftRLiHQPXyZeVjP/vcw82U945UEuofHmQ+/afRh5sN6xusJdCfPjS7P+pm5nfl35vHlkEsIdD+Pi++YnjnZ30ygpAmUNIGS9m494C88rQfsxQ5Kmh10D6fFs910V3ZQ0gRKmkBJEyhpPiTtwQejw9hBSbOD7mH5NRO7soOSJlDSBEqa+0FJcz/on/n7Nxz9+jriSRMoaQIlTaCkCZQ0gZImUNIESppASRMoaQIlTaCkCZQ0gZImUNIESppASRMoaQIlTaCkCZQ0gZImUNIESppASRMoaQIlTaCkCZQ0gZL2Ex3AczuVRfR4AAAAAElFTkSuQmCC",
           "type": "image"
          },
          {
           "name": "25",
           "source": "data:image/png;base64,iVBORw0KGgoAAAANSUhEUgAAAOAAAADgCAIAAACVT/22AAADjUlEQVR4Xu3cwU0cWRRA0dcjhwGTh50HGXQCZuKwnQAR2HngPAx54AWypijJZdpUSXdxjliUntAXoq/+7+7FP53P54GsowO1/jbrb/tnPYASgZImUNIESppASRMoaQIlTaCkCZQ0gZImUNIESppASRMoaQIlTaCkCZQ0gZImUNIESppASRMoaQIlTaCkCZQ0gZImUNIESppASRMoaaejr8+DNzk6UOtvs/42RzxpAiVNoKQJlDSBkiZQ0gRKmkBJEyhpAiVNoKQJlDSBkiZQ0gRKmkBJEyhpAiVNoKQJlDSBkiZQ0gRKmkBJEyhpAiVNoKQJlDSBkiZQ0twPStvRgVp/m/W3OeJJEyhpAiVNoKQJlDSBkiZQ0gRKmkBJEyhpAiVNoKQJlDSBkiZQ0gRKmkBJEyhpAiVNoKQJlDSBkiZQ0gRKmkBJEyhpAiVNoKQJlDSBkuZ+UNqODtT626y/zRFPmkBJEyhpAiVNoKQJlDSBkiZQ0gRKmkBJEyhpAiVNoKQJlDSBkiZQ0gRKmkBJEyhpAiVNoKQJlDSBkiZQ0gRKmkBJEyhpAiVNoKQJlDT3g5L2bmbu7u7W4/2cz+ej11+PeOno//+h6zviSRMoaQIlTaCkCZQ0gZImUNIESppASRMoaQIlTaCkCZQ0gZImUNIESppASRMoaQIlTaCkCZQ0gZImUNIESppASRMoaQIlTaCkCZQ0gZLmflDS3A/6Z/7+DUe/vo540gS6n6uZTzNPv35+zHyauVr/FhcR6E5uZu5nbheT65nbmXuNvolA9/C8d16vxzMz1zP36xmvJ9A9fPxNnc+uZz6uZ7ySQPewPNk/z5xmTjPfFsObxTOXEOje/vv1sKz2/eKZSwiUNIHu7evMzFzNfF4Mvy+euYRA97Bs8Wbmaebh5fvO5ftRLiHQPXyZeVjP/vcw82U945UEuofHmQ+/afRh5sN6xusJdCfPjS7P+pm5nfl35vHlkEsIdD+Pi++YnjnZ30ygpAmUNIGS9m494C88rQfsxQ5Kmh10D6fFs910V3ZQ0gRKmkBJEyhpPiTtwQejw9hBSbOD7mH5NRO7soOSJlDSBEqa+0FJcz/on/n7Nxz9+jriSRMoaQIlTaCkCZQ0gZImUNIESppASRMoaQIlTaCkCZQ0gZImUNIESppASRMoaQIlTaCkCZQ0gZImUNIESppASRMoaQIlTaCkCZQ0gZL2Ex3AczuVRfR4AAAAAElFTkSuQmCC",
           "type": "image"
          },
          {
           "name": "26",
           "source": "data:image/png;base64,iVBORw0KGgoAAAANSUhEUgAAAOAAAADgCAIAAACVT/22AAADrklEQVR4Xu3c0U0cVxSA4ePIZQTXAYXEFWwDUIhpgApwH4Y+SB/OAy8wSYadWVb6pf2+xwP3asX+mllGcL8cDoeBrHMHav919l/3x3IAJQIlTaCkCZQ0gZImUNIESppASRMoaQIlTaCkCZQ0gZImUNIESppASRMoaQIlTaCkCZQ0gZImUNIESppASRMoaQIlTaCkCZQ0gZImUNK+nPv4PDjJuQO1/zr7r3OLJ02gpAmUNIGSJlDSBEqaQEkTKGkCJU2gpAmUNIGSJlDSBEqaQEkTKGkCJU2gpAmUNIGSJlDSBEqaQEkTKGkCJU2gpAmUNIGSJlDSBEqa80FpO3eg9l9n/3Vu8aQJlDSBkiZQ0gRKmkBJEyhpAiVNoKQJlDSBkiZQ0gRKmkBJEyhpAiVNoKQJlDSBkiZQ0gRKmkBJEyhpAiVNoKQJlDSBkiZQ0gRKmkBJcz4obecO1P7r7L/OLZ40gZImUNIESppASRMoaQIlTaCkCZQ0gZImUNIESppASRMoaQIlTaCkCZQ0gZImUNIESppASRMoaQIlTaCkCZQ0gZImUNIESppASRMoac4HJe3rzDw8PCzHn+dwOJx7/+WI98798z/r/m7xpAmUNIGSJlDSBEqaQEkTKGkCJU2gpAmUNIGSJlDSBEqaQEkTKGkCJU2gpAmUNIGSJlDSBEqaQEkTKGkCJU2gpAmUNIGSJlDSBEqaQElzPihpzgf9mNe/4tzvr1s8aQIlTaCkCZQ0gX6G65nHmV8zv2d+z/yaeZy5Xn4XO3xdDtjkNc2r98ObmZn5a+Zl5vvM8/uvsoUr6AluZ57+VedbVzNPM7fLMccT6F63Mz+Ws//2Q6P7CXSX66PrfPXDR9KdBLrL43LwsR1LEOge16ufO//PlYvoHgLd7m45ONbuhRdMoNv9uRwca/fCCybQ7V4fc+6we+EFEyhpAt3uaTk41u6FF0yg2/29HBxr98ILJtDtNj2if2v3wgsm0O2eZ16Ws4+9+KuRPQS6y/fl4GM7liDQnZ43PnW/c/ncSaB73R/d6N3M/XLGkQR6gvuZm9XPoy8zN+o8iUBP8zzzbeZm5uebx5xPMz9nbma+ubOfyr98fIZnvwOdiysoaQIlTaCkCZQ0gZLmfFDSnA/6Ma9/xbnfX7d40gRKmkBJEyhpAiVNoKQJlDSBkiZQ0gRKmkBJEyhpAiVNoKQJlDSBkiZQ0gRKmkBJEyhpAiVNoKQJlDSBkiZQ0gRKmkBJEyhpAiVNoKT9A3V1eliqPDQMAAAAAElFTkSuQmCC",
           "type": "image"
          },
          {
           "name": "27",
           "source": "data:image/png;base64,iVBORw0KGgoAAAANSUhEUgAAAOAAAADgCAIAAACVT/22AAADrklEQVR4Xu3c0U0cVxSA4ePIZQTXAYXEFWwDUIhpgApwH4Y+SB/OAy8wSYadWVb6pf2+xwP3asX+mllGcL8cDoeBrHMHav919l/3x3IAJQIlTaCkCZQ0gZImUNIESppASRMoaQIlTaCkCZQ0gZImUNIESppASRMoaQIlTaCkCZQ0gZImUNIESppASRMoaQIlTaCkCZQ0gZImUNK+nPv4PDjJuQO1/zr7r3OLJ02gpAmUNIGSJlDSBEqaQEkTKGkCJU2gpAmUNIGSJlDSBEqaQEkTKGkCJU2gpAmUNIGSJlDSBEqaQEkTKGkCJU2gpAmUNIGSJlDSBEqa80FpO3eg9l9n/3Vu8aQJlDSBkiZQ0gRKmkBJEyhpAiVNoKQJlDSBkiZQ0gRKmkBJEyhpAiVNoKQJlDSBkiZQ0gRKmkBJEyhpAiVNoKQJlDSBkiZQ0gRKmkBJcz4obecO1P7r7L/OLZ40gZImUNIESppASRMoaQIlTaCkCZQ0gZImUNIESppASRMoaQIlTaCkCZQ0gZImUNIESppASRMoaQIlTaCkCZQ0gZImUNIESppASRMoac4HJe3rzDw8PCzHn+dwOJx7/+WI98798z/r/m7xpAmUNIGSJlDSBEqaQEkTKGkCJU2gpAmUNIGSJlDSBEqaQEkTKGkCJU2gpAmUNIGSJlDSBEqaQEkTKGkCJU2gpAmUNIGSJlDSBEqaQElzPihpzgf9mNe/4tzvr1s8aQIlTaCkCZQ0gX6G65nHmV8zv2d+z/yaeZy5Xn4XO3xdDtjkNc2r98ObmZn5a+Zl5vvM8/uvsoUr6AluZ57+VedbVzNPM7fLMccT6F63Mz+Ws//2Q6P7CXSX66PrfPXDR9KdBLrL43LwsR1LEOge16ufO//PlYvoHgLd7m45ONbuhRdMoNv9uRwca/fCCybQ7V4fc+6we+EFEyhpAt3uaTk41u6FF0yg2/29HBxr98ILJtDtNj2if2v3wgsm0O2eZ16Ws4+9+KuRPQS6y/fl4GM7liDQnZ43PnW/c/ncSaB73R/d6N3M/XLGkQR6gvuZm9XPoy8zN+o8iUBP8zzzbeZm5uebx5xPMz9nbma+ubOfyr98fIZnvwOdiysoaQIlTaCkCZQ0gZLmfFDSnA/6Ma9/xbnfX7d40gRKmkBJEyhpAiVNoKQJlDSBkiZQ0gRKmkBJEyhpAiVNoKQJlDSBkiZQ0gRKmkBJEyhpAiVNoKQJlDSBkiZQ0gRKmkBJEyhpAiVNoKT9A3V1eliqPDQMAAAAAElFTkSuQmCC",
           "type": "image"
          }
         ],
         "layout": {
          "margin": {
           "t": 60
          }
         },
         "name": "6"
        }
       ],
       "layout": {
        "annotations": [
         {
          "font": {},
          "showarrow": false,
          "text": "Key, Key-Ball",
          "x": 0.1175,
          "xanchor": "center",
          "xref": "paper",
          "y": 1,
          "yanchor": "bottom",
          "yref": "paper"
         },
         {
          "font": {},
          "showarrow": false,
          "text": "Key, Ball-Key",
          "x": 0.3725,
          "xanchor": "center",
          "xref": "paper",
          "y": 1,
          "yanchor": "bottom",
          "yref": "paper"
         },
         {
          "font": {},
          "showarrow": false,
          "text": "Ball, Ball-Key",
          "x": 0.6275,
          "xanchor": "center",
          "xref": "paper",
          "y": 1,
          "yanchor": "bottom",
          "yref": "paper"
         },
         {
          "font": {},
          "showarrow": false,
          "text": "Ball, Key-Ball",
          "x": 0.8824999999999998,
          "xanchor": "center",
          "xref": "paper",
          "y": 1,
          "yanchor": "bottom",
          "yref": "paper"
         }
        ],
        "font": {
         "size": 24
        },
        "margin": {
         "t": 60
        },
        "sliders": [
         {
          "active": 0,
          "currentvalue": {
           "prefix": "animation_frame="
          },
          "len": 0.9,
          "pad": {
           "b": 10,
           "t": 60
          },
          "steps": [
           {
            "args": [
             [
              "0"
             ],
             {
              "frame": {
               "duration": 0,
               "redraw": true
              },
              "fromcurrent": true,
              "mode": "immediate",
              "transition": {
               "duration": 0,
               "easing": "linear"
              }
             }
            ],
            "label": "0",
            "method": "animate"
           },
           {
            "args": [
             [
              "1"
             ],
             {
              "frame": {
               "duration": 0,
               "redraw": true
              },
              "fromcurrent": true,
              "mode": "immediate",
              "transition": {
               "duration": 0,
               "easing": "linear"
              }
             }
            ],
            "label": "1",
            "method": "animate"
           },
           {
            "args": [
             [
              "2"
             ],
             {
              "frame": {
               "duration": 0,
               "redraw": true
              },
              "fromcurrent": true,
              "mode": "immediate",
              "transition": {
               "duration": 0,
               "easing": "linear"
              }
             }
            ],
            "label": "2",
            "method": "animate"
           },
           {
            "args": [
             [
              "3"
             ],
             {
              "frame": {
               "duration": 0,
               "redraw": true
              },
              "fromcurrent": true,
              "mode": "immediate",
              "transition": {
               "duration": 0,
               "easing": "linear"
              }
             }
            ],
            "label": "3",
            "method": "animate"
           },
           {
            "args": [
             [
              "4"
             ],
             {
              "frame": {
               "duration": 0,
               "redraw": true
              },
              "fromcurrent": true,
              "mode": "immediate",
              "transition": {
               "duration": 0,
               "easing": "linear"
              }
             }
            ],
            "label": "4",
            "method": "animate"
           },
           {
            "args": [
             [
              "5"
             ],
             {
              "frame": {
               "duration": 0,
               "redraw": true
              },
              "fromcurrent": true,
              "mode": "immediate",
              "transition": {
               "duration": 0,
               "easing": "linear"
              }
             }
            ],
            "label": "5",
            "method": "animate"
           },
           {
            "args": [
             [
              "6"
             ],
             {
              "frame": {
               "duration": 0,
               "redraw": true
              },
              "fromcurrent": true,
              "mode": "immediate",
              "transition": {
               "duration": 0,
               "easing": "linear"
              }
             }
            ],
            "label": "6",
            "method": "animate"
           }
          ],
          "x": 0.1,
          "xanchor": "left",
          "y": 0,
          "yanchor": "top"
         }
        ],
        "template": {
         "data": {
          "candlestick": [
           {
            "decreasing": {
             "line": {
              "color": "#000033"
             }
            },
            "increasing": {
             "line": {
              "color": "#000032"
             }
            },
            "type": "candlestick"
           }
          ],
          "contour": [
           {
            "colorscale": [
             [
              0,
              "#000011"
             ],
             [
              0.1111111111111111,
              "#000012"
             ],
             [
              0.2222222222222222,
              "#000013"
             ],
             [
              0.3333333333333333,
              "#000014"
             ],
             [
              0.4444444444444444,
              "#000015"
             ],
             [
              0.5555555555555556,
              "#000016"
             ],
             [
              0.6666666666666666,
              "#000017"
             ],
             [
              0.7777777777777778,
              "#000018"
             ],
             [
              0.8888888888888888,
              "#000019"
             ],
             [
              1,
              "#000020"
             ]
            ],
            "type": "contour"
           }
          ],
          "contourcarpet": [
           {
            "colorscale": [
             [
              0,
              "#000011"
             ],
             [
              0.1111111111111111,
              "#000012"
             ],
             [
              0.2222222222222222,
              "#000013"
             ],
             [
              0.3333333333333333,
              "#000014"
             ],
             [
              0.4444444444444444,
              "#000015"
             ],
             [
              0.5555555555555556,
              "#000016"
             ],
             [
              0.6666666666666666,
              "#000017"
             ],
             [
              0.7777777777777778,
              "#000018"
             ],
             [
              0.8888888888888888,
              "#000019"
             ],
             [
              1,
              "#000020"
             ]
            ],
            "type": "contourcarpet"
           }
          ],
          "heatmap": [
           {
            "colorscale": [
             [
              0,
              "#000011"
             ],
             [
              0.1111111111111111,
              "#000012"
             ],
             [
              0.2222222222222222,
              "#000013"
             ],
             [
              0.3333333333333333,
              "#000014"
             ],
             [
              0.4444444444444444,
              "#000015"
             ],
             [
              0.5555555555555556,
              "#000016"
             ],
             [
              0.6666666666666666,
              "#000017"
             ],
             [
              0.7777777777777778,
              "#000018"
             ],
             [
              0.8888888888888888,
              "#000019"
             ],
             [
              1,
              "#000020"
             ]
            ],
            "type": "heatmap"
           }
          ],
          "histogram2d": [
           {
            "colorscale": [
             [
              0,
              "#000011"
             ],
             [
              0.1111111111111111,
              "#000012"
             ],
             [
              0.2222222222222222,
              "#000013"
             ],
             [
              0.3333333333333333,
              "#000014"
             ],
             [
              0.4444444444444444,
              "#000015"
             ],
             [
              0.5555555555555556,
              "#000016"
             ],
             [
              0.6666666666666666,
              "#000017"
             ],
             [
              0.7777777777777778,
              "#000018"
             ],
             [
              0.8888888888888888,
              "#000019"
             ],
             [
              1,
              "#000020"
             ]
            ],
            "type": "histogram2d"
           }
          ],
          "icicle": [
           {
            "textfont": {
             "color": "white"
            },
            "type": "icicle"
           }
          ],
          "sankey": [
           {
            "textfont": {
             "color": "#000036"
            },
            "type": "sankey"
           }
          ],
          "scatter": [
           {
            "marker": {
             "line": {
              "width": 0
             }
            },
            "type": "scatter"
           }
          ],
          "table": [
           {
            "cells": {
             "fill": {
              "color": "#000038"
             },
             "font": {
              "color": "#000037"
             },
             "line": {
              "color": "#000039"
             }
            },
            "header": {
             "fill": {
              "color": "#000040"
             },
             "font": {
              "color": "#000036"
             },
             "line": {
              "color": "#000039"
             }
            },
            "type": "table"
           }
          ],
          "waterfall": [
           {
            "connector": {
             "line": {
              "color": "#000036",
              "width": 2
             }
            },
            "decreasing": {
             "marker": {
              "color": "#000033"
             }
            },
            "increasing": {
             "marker": {
              "color": "#000032"
             }
            },
            "totals": {
             "marker": {
              "color": "#000034"
             }
            },
            "type": "waterfall"
           }
          ]
         },
         "layout": {
          "coloraxis": {
           "colorscale": [
            [
             0,
             "#000011"
            ],
            [
             0.1111111111111111,
             "#000012"
            ],
            [
             0.2222222222222222,
             "#000013"
            ],
            [
             0.3333333333333333,
             "#000014"
            ],
            [
             0.4444444444444444,
             "#000015"
            ],
            [
             0.5555555555555556,
             "#000016"
            ],
            [
             0.6666666666666666,
             "#000017"
            ],
            [
             0.7777777777777778,
             "#000018"
            ],
            [
             0.8888888888888888,
             "#000019"
            ],
            [
             1,
             "#000020"
            ]
           ]
          },
          "colorscale": {
           "diverging": [
            [
             0,
             "#000021"
            ],
            [
             0.1,
             "#000022"
            ],
            [
             0.2,
             "#000023"
            ],
            [
             0.3,
             "#000024"
            ],
            [
             0.4,
             "#000025"
            ],
            [
             0.5,
             "#000026"
            ],
            [
             0.6,
             "#000027"
            ],
            [
             0.7,
             "#000028"
            ],
            [
             0.8,
             "#000029"
            ],
            [
             0.9,
             "#000030"
            ],
            [
             1,
             "#000031"
            ]
           ],
           "sequential": [
            [
             0,
             "#000011"
            ],
            [
             0.1111111111111111,
             "#000012"
            ],
            [
             0.2222222222222222,
             "#000013"
            ],
            [
             0.3333333333333333,
             "#000014"
            ],
            [
             0.4444444444444444,
             "#000015"
            ],
            [
             0.5555555555555556,
             "#000016"
            ],
            [
             0.6666666666666666,
             "#000017"
            ],
            [
             0.7777777777777778,
             "#000018"
            ],
            [
             0.8888888888888888,
             "#000019"
            ],
            [
             1,
             "#000020"
            ]
           ],
           "sequentialminus": [
            [
             0,
             "#000011"
            ],
            [
             0.1111111111111111,
             "#000012"
            ],
            [
             0.2222222222222222,
             "#000013"
            ],
            [
             0.3333333333333333,
             "#000014"
            ],
            [
             0.4444444444444444,
             "#000015"
            ],
            [
             0.5555555555555556,
             "#000016"
            ],
            [
             0.6666666666666666,
             "#000017"
            ],
            [
             0.7777777777777778,
             "#000018"
            ],
            [
             0.8888888888888888,
             "#000019"
            ],
            [
             1,
             "#000020"
            ]
           ]
          },
          "colorway": [
           "#000001",
           "#000002",
           "#000003",
           "#000004",
           "#000005",
           "#000006",
           "#000007",
           "#000008",
           "#000009",
           "#000010"
          ]
         }
        },
        "updatemenus": [
         {
          "buttons": [
           {
            "args": [
             null,
             {
              "frame": {
               "duration": 500,
               "redraw": true
              },
              "fromcurrent": true,
              "mode": "immediate",
              "transition": {
               "duration": 500,
               "easing": "linear"
              }
             }
            ],
            "label": "&#9654;",
            "method": "animate"
           },
           {
            "args": [
             [
              null
             ],
             {
              "frame": {
               "duration": 0,
               "redraw": true
              },
              "fromcurrent": true,
              "mode": "immediate",
              "transition": {
               "duration": 0,
               "easing": "linear"
              }
             }
            ],
            "label": "&#9724;",
            "method": "animate"
           }
          ],
          "direction": "left",
          "pad": {
           "r": 10,
           "t": 70
          },
          "showactive": false,
          "type": "buttons",
          "x": 0.1,
          "xanchor": "right",
          "y": 0,
          "yanchor": "top"
         }
        ],
        "width": 1200,
        "xaxis": {
         "anchor": "y",
         "domain": [
          0,
          0.235
         ],
         "tickmode": "array",
         "ticktext": [
          "0",
          "1",
          "2",
          "3",
          "4",
          "5",
          "6"
         ],
         "tickvals": [
          16,
          48,
          80,
          112,
          144,
          176,
          208
         ]
        },
        "xaxis2": {
         "anchor": "y2",
         "domain": [
          0.255,
          0.49
         ],
         "matches": "x",
         "tickmode": "array",
         "ticktext": [
          "0",
          "1",
          "2",
          "3",
          "4",
          "5",
          "6"
         ],
         "tickvals": [
          16,
          48,
          80,
          112,
          144,
          176,
          208
         ]
        },
        "xaxis3": {
         "anchor": "y3",
         "domain": [
          0.51,
          0.745
         ],
         "matches": "x",
         "tickmode": "array",
         "ticktext": [
          "0",
          "1",
          "2",
          "3",
          "4",
          "5",
          "6"
         ],
         "tickvals": [
          16,
          48,
          80,
          112,
          144,
          176,
          208
         ]
        },
        "xaxis4": {
         "anchor": "y4",
         "domain": [
          0.7649999999999999,
          0.9999999999999999
         ],
         "matches": "x",
         "tickmode": "array",
         "ticktext": [
          "0",
          "1",
          "2",
          "3",
          "4",
          "5",
          "6"
         ],
         "tickvals": [
          16,
          48,
          80,
          112,
          144,
          176,
          208
         ]
        },
        "yaxis": {
         "anchor": "x",
         "domain": [
          0,
          1
         ],
         "tickmode": "array",
         "ticktext": [
          "0",
          "1",
          "2",
          "3",
          "4",
          "5",
          "6"
         ],
         "tickvals": [
          16,
          48,
          80,
          112,
          144,
          176,
          208
         ]
        },
        "yaxis2": {
         "anchor": "x2",
         "domain": [
          0,
          1
         ],
         "matches": "y",
         "showticklabels": false,
         "tickmode": "array",
         "ticktext": [
          "0",
          "1",
          "2",
          "3",
          "4",
          "5",
          "6"
         ],
         "tickvals": [
          16,
          48,
          80,
          112,
          144,
          176,
          208
         ]
        },
        "yaxis3": {
         "anchor": "x3",
         "domain": [
          0,
          1
         ],
         "matches": "y",
         "showticklabels": false,
         "tickmode": "array",
         "ticktext": [
          "0",
          "1",
          "2",
          "3",
          "4",
          "5",
          "6"
         ],
         "tickvals": [
          16,
          48,
          80,
          112,
          144,
          176,
          208
         ]
        },
        "yaxis4": {
         "anchor": "x4",
         "domain": [
          0,
          1
         ],
         "matches": "y",
         "showticklabels": false,
         "tickmode": "array",
         "ticktext": [
          "0",
          "1",
          "2",
          "3",
          "4",
          "5",
          "6"
         ],
         "tickvals": [
          16,
          48,
          80,
          112,
          144,
          176,
          208
         ]
        }
       }
      }
     },
     "metadata": {},
     "output_type": "display_data"
    }
   ],
   "source": [
    "all_images = get_images_batched(env, obs)\n",
    "fig = get_trajectory_plotly_animation(all_images)\n",
    "\n",
    "fig.show()\n",
    "# make animation\n",
    "create_animation(fig, file_name=\"scenario_1_test.gif\", additional_frames_start=1, duration=300, loop=0)\n",
    "Image(filename=\"scenario_1_test.gif\") # render in notebook"
   ]
  },
  {
   "cell_type": "markdown",
   "metadata": {},
   "source": [
    "## Creating Eval Trajectories \n",
    "\n",
    "In order to understand the models behavior better, we can prompt it with scenarios where it's observations are slightly different. This is not limited to the set of possible scenarios according to the game rules. \n",
    "\n",
    "There are two major categories of the kinds of observations we are generating:\n",
    "1. Flipping objects. Here we change things like what the instruction was at the start of the trajectory or the top target item. \n",
    "2. Adding objects. Here we add objects that wouldn't be present in a normal run of the model. "
   ]
  },
  {
   "cell_type": "code",
   "execution_count": null,
   "metadata": {},
   "outputs": [
    {
     "data": {
      "application/vnd.plotly.v1+json": {
       "config": {
        "plotlyServerURL": "https://plotly.com"
       },
       "data": [
        {
         "hovertemplate": "x: %{x}<br>y: %{y}<br>color: %{z}<extra></extra>",
         "name": "0",
         "source": "data:image/png;base64,iVBORw0KGgoAAAANSUhEUgAAAOAAAADgCAIAAACVT/22AAAClUlEQVR4Xu3coQ0DQRAEQduxfv4xmBsMsVZqUAUPDGpp2b2f53lB1nWg9jf72+f3AUoESppASRMoaQIlTaCkCZQ0gZImUNIESppASRMoaQIlTaCkCZQ0gZImUNIESppASRMoaQIlTaCkCZQ0gZImUNIESppASRMoaQIlTaCkva+/z4O/XAdqf7O/OfGkCZQ0gZImUNIESppASRMoaQIlTaCkCZQ0gZImUNIESppASRMoaQIlTaCkCZQ0gZImUNIESppASRMoaQIlTaCkCZQ0gZImUNIESppASfM/KG3Xgdrf7G9OPGkCJU2gpAmUNIGSJlDSBEqaQEkTKGkCJU2gpAmUNIGSJlDSBEqaQEkTKGkCJU2gpAmUNIGSJlDSBEqaQEkTKGkCJU2gpAmUNIGSJlDS/A9K23Wg9jf7mxNPmkBJEyhpAiVNoKQJlDSBkiZQ0gRKmkBJEyhpAiVNoKQJlDSBkiZQ0gRKmkBJEyhpAiVNoKQJlDSBkiZQ0gRKmkBJEyhpAiVNoKQJlDT/g9J2Haj9zf7mxJMmUNIESppASRMoaQIlTaCkCZQ0gZImUNIESppASRMoaQIlTaCkCZQ0gZImUNIESppASRMoaQIlTaCkCZQ0gZImUNIESppASRMoaQIlzf+gtF0Han+zvznxpAmUNIGSJlDSBEqaQEkTKGkCJU2gpAmUNIGSJlDSBEqaQEkTKGkCJU2gpAmUNIGSJlDSBEqaQEkTKGkCJU2gpAmUNIGSJlDSBEqaQEnzPyht14Ha3+xvTjxpAiVNoKQJlDSBkiZQ0gRKmkBJEyhpAiVNoKQJlDSBkiZQ0gRKmkBJEyhpAiVNoKQJlDSBkiZQ0gRKmkBJEyhpAiVNoKQJlDSBkiZQ0r5ExkNM/yP71wAAAABJRU5ErkJggg==",
         "type": "image",
         "xaxis": "x",
         "yaxis": "y"
        },
        {
         "hovertemplate": "x: %{x}<br>y: %{y}<br>color: %{z}<extra></extra>",
         "name": "1",
         "source": "data:image/png;base64,iVBORw0KGgoAAAANSUhEUgAAAOAAAADgCAIAAACVT/22AAAClUlEQVR4Xu3coQ0DQRAEQduxfv4xmBsMsVZqUAUPDGpp2b2f53lB1nWg9jf72+f3AUoESppASRMoaQIlTaCkCZQ0gZImUNIESppASRMoaQIlTaCkCZQ0gZImUNIESppASRMoaQIlTaCkCZQ0gZImUNIESppASRMoaQIlTaCkva+/z4O/XAdqf7O/OfGkCZQ0gZImUNIESppASRMoaQIlTaCkCZQ0gZImUNIESppASRMoaQIlTaCkCZQ0gZImUNIESppASRMoaQIlTaCkCZQ0gZImUNIESppASfM/KG3Xgdrf7G9OPGkCJU2gpAmUNIGSJlDSBEqaQEkTKGkCJU2gpAmUNIGSJlDSBEqaQEkTKGkCJU2gpAmUNIGSJlDSBEqaQEkTKGkCJU2gpAmUNIGSJlDS/A9K23Wg9jf7mxNPmkBJEyhpAiVNoKQJlDSBkiZQ0gRKmkBJEyhpAiVNoKQJlDSBkiZQ0gRKmkBJEyhpAiVNoKQJlDSBkiZQ0gRKmkBJEyhpAiVNoKQJlDT/g9J2Haj9zf7mxJMmUNIESppASRMoaQIlTaCkCZQ0gZImUNIESppASRMoaQIlTaCkCZQ0gZImUNIESppASRMoaQIlTaCkCZQ0gZImUNIESppASRMoaQIlzf+gtF0Han+zvznxpAmUNIGSJlDSBEqaQEkTKGkCJU2gpAmUNIGSJlDSBEqaQEkTKGkCJU2gpAmUNIGSJlDSBEqaQEkTKGkCJU2gpAmUNIGSJlDSBEqaQEnzPyht14Ha3+xvTjxpAiVNoKQJlDSBkiZQ0gRKmkBJEyhpAiVNoKQJlDSBkiZQ0gRKmkBJEyhpAiVNoKQJlDSBkiZQ0gRKmkBJEyhpAiVNoKQJlDSBkiZQ0r5ExkNM/yP71wAAAABJRU5ErkJggg==",
         "type": "image",
         "xaxis": "x2",
         "yaxis": "y2"
        },
        {
         "hovertemplate": "x: %{x}<br>y: %{y}<br>color: %{z}<extra></extra>",
         "name": "2",
         "source": "data:image/png;base64,iVBORw0KGgoAAAANSUhEUgAAAOAAAADgCAIAAACVT/22AAAClUlEQVR4Xu3coQ0DQRAEQduxfv4xmBsMsVZqUAUPDGpp2b2f53lB1nWg9jf72+f3AUoESppASRMoaQIlTaCkCZQ0gZImUNIESppASRMoaQIlTaCkCZQ0gZImUNIESppASRMoaQIlTaCkCZQ0gZImUNIESppASRMoaQIlTaCkva+/z4O/XAdqf7O/OfGkCZQ0gZImUNIESppASRMoaQIlTaCkCZQ0gZImUNIESppASRMoaQIlTaCkCZQ0gZImUNIESppASRMoaQIlTaCkCZQ0gZImUNIESppASfM/KG3Xgdrf7G9OPGkCJU2gpAmUNIGSJlDSBEqaQEkTKGkCJU2gpAmUNIGSJlDSBEqaQEkTKGkCJU2gpAmUNIGSJlDSBEqaQEkTKGkCJU2gpAmUNIGSJlDS/A9K23Wg9jf7mxNPmkBJEyhpAiVNoKQJlDSBkiZQ0gRKmkBJEyhpAiVNoKQJlDSBkiZQ0gRKmkBJEyhpAiVNoKQJlDSBkiZQ0gRKmkBJEyhpAiVNoKQJlDT/g9J2Haj9zf7mxJMmUNIESppASRMoaQIlTaCkCZQ0gZImUNIESppASRMoaQIlTaCkCZQ0gZImUNIESppASRMoaQIlTaCkCZQ0gZImUNIESppASRMoaQIlzf+gtF0Han+zvznxpAmUNIGSJlDSBEqaQEkTKGkCJU2gpAmUNIGSJlDSBEqaQEkTKGkCJU2gpAmUNIGSJlDSBEqaQEkTKGkCJU2gpAmUNIGSJlDSBEqaQEnzPyht14Ha3+xvTjxpAiVNoKQJlDSBkiZQ0gRKmkBJEyhpAiVNoKQJlDSBkiZQ0gRKmkBJEyhpAiVNoKQJlDSBkiZQ0gRKmkBJEyhpAiVNoKQJlDSBkiZQ0r5ExkNM/yP71wAAAABJRU5ErkJggg==",
         "type": "image",
         "xaxis": "x3",
         "yaxis": "y3"
        },
        {
         "hovertemplate": "x: %{x}<br>y: %{y}<br>color: %{z}<extra></extra>",
         "name": "3",
         "source": "data:image/png;base64,iVBORw0KGgoAAAANSUhEUgAAAOAAAADgCAIAAACVT/22AAAClUlEQVR4Xu3coQ0DQRAEQduxfv4xmBsMsVZqUAUPDGpp2b2f53lB1nWg9jf72+f3AUoESppASRMoaQIlTaCkCZQ0gZImUNIESppASRMoaQIlTaCkCZQ0gZImUNIESppASRMoaQIlTaCkCZQ0gZImUNIESppASRMoaQIlTaCkva+/z4O/XAdqf7O/OfGkCZQ0gZImUNIESppASRMoaQIlTaCkCZQ0gZImUNIESppASRMoaQIlTaCkCZQ0gZImUNIESppASRMoaQIlTaCkCZQ0gZImUNIESppASfM/KG3Xgdrf7G9OPGkCJU2gpAmUNIGSJlDSBEqaQEkTKGkCJU2gpAmUNIGSJlDSBEqaQEkTKGkCJU2gpAmUNIGSJlDSBEqaQEkTKGkCJU2gpAmUNIGSJlDS/A9K23Wg9jf7mxNPmkBJEyhpAiVNoKQJlDSBkiZQ0gRKmkBJEyhpAiVNoKQJlDSBkiZQ0gRKmkBJEyhpAiVNoKQJlDSBkiZQ0gRKmkBJEyhpAiVNoKQJlDT/g9J2Haj9zf7mxJMmUNIESppASRMoaQIlTaCkCZQ0gZImUNIESppASRMoaQIlTaCkCZQ0gZImUNIESppASRMoaQIlTaCkCZQ0gZImUNIESppASRMoaQIlzf+gtF0Han+zvznxpAmUNIGSJlDSBEqaQEkTKGkCJU2gpAmUNIGSJlDSBEqaQEkTKGkCJU2gpAmUNIGSJlDSBEqaQEkTKGkCJU2gpAmUNIGSJlDSBEqaQEnzPyht14Ha3+xvTjxpAiVNoKQJlDSBkiZQ0gRKmkBJEyhpAiVNoKQJlDSBkiZQ0gRKmkBJEyhpAiVNoKQJlDSBkiZQ0gRKmkBJEyhpAiVNoKQJlDSBkiZQ0r5ExkNM/yP71wAAAABJRU5ErkJggg==",
         "type": "image",
         "xaxis": "x4",
         "yaxis": "y4"
        }
       ],
       "frames": [
        {
         "data": [
          {
           "name": "0",
           "source": "data:image/png;base64,iVBORw0KGgoAAAANSUhEUgAAAOAAAADgCAIAAACVT/22AAAClUlEQVR4Xu3coQ0DQRAEQduxfv4xmBsMsVZqUAUPDGpp2b2f53lB1nWg9jf72+f3AUoESppASRMoaQIlTaCkCZQ0gZImUNIESppASRMoaQIlTaCkCZQ0gZImUNIESppASRMoaQIlTaCkCZQ0gZImUNIESppASRMoaQIlTaCkva+/z4O/XAdqf7O/OfGkCZQ0gZImUNIESppASRMoaQIlTaCkCZQ0gZImUNIESppASRMoaQIlTaCkCZQ0gZImUNIESppASRMoaQIlTaCkCZQ0gZImUNIESppASfM/KG3Xgdrf7G9OPGkCJU2gpAmUNIGSJlDSBEqaQEkTKGkCJU2gpAmUNIGSJlDSBEqaQEkTKGkCJU2gpAmUNIGSJlDSBEqaQEkTKGkCJU2gpAmUNIGSJlDS/A9K23Wg9jf7mxNPmkBJEyhpAiVNoKQJlDSBkiZQ0gRKmkBJEyhpAiVNoKQJlDSBkiZQ0gRKmkBJEyhpAiVNoKQJlDSBkiZQ0gRKmkBJEyhpAiVNoKQJlDT/g9J2Haj9zf7mxJMmUNIESppASRMoaQIlTaCkCZQ0gZImUNIESppASRMoaQIlTaCkCZQ0gZImUNIESppASRMoaQIlTaCkCZQ0gZImUNIESppASRMoaQIlzf+gtF0Han+zvznxpAmUNIGSJlDSBEqaQEkTKGkCJU2gpAmUNIGSJlDSBEqaQEkTKGkCJU2gpAmUNIGSJlDSBEqaQEkTKGkCJU2gpAmUNIGSJlDSBEqaQEnzPyht14Ha3+xvTjxpAiVNoKQJlDSBkiZQ0gRKmkBJEyhpAiVNoKQJlDSBkiZQ0gRKmkBJEyhpAiVNoKQJlDSBkiZQ0gRKmkBJEyhpAiVNoKQJlDSBkiZQ0r5ExkNM/yP71wAAAABJRU5ErkJggg==",
           "type": "image"
          },
          {
           "name": "1",
           "source": "data:image/png;base64,iVBORw0KGgoAAAANSUhEUgAAAOAAAADgCAIAAACVT/22AAAClUlEQVR4Xu3coQ0DQRAEQduxfv4xmBsMsVZqUAUPDGpp2b2f53lB1nWg9jf72+f3AUoESppASRMoaQIlTaCkCZQ0gZImUNIESppASRMoaQIlTaCkCZQ0gZImUNIESppASRMoaQIlTaCkCZQ0gZImUNIESppASRMoaQIlTaCkva+/z4O/XAdqf7O/OfGkCZQ0gZImUNIESppASRMoaQIlTaCkCZQ0gZImUNIESppASRMoaQIlTaCkCZQ0gZImUNIESppASRMoaQIlTaCkCZQ0gZImUNIESppASfM/KG3Xgdrf7G9OPGkCJU2gpAmUNIGSJlDSBEqaQEkTKGkCJU2gpAmUNIGSJlDSBEqaQEkTKGkCJU2gpAmUNIGSJlDSBEqaQEkTKGkCJU2gpAmUNIGSJlDS/A9K23Wg9jf7mxNPmkBJEyhpAiVNoKQJlDSBkiZQ0gRKmkBJEyhpAiVNoKQJlDSBkiZQ0gRKmkBJEyhpAiVNoKQJlDSBkiZQ0gRKmkBJEyhpAiVNoKQJlDT/g9J2Haj9zf7mxJMmUNIESppASRMoaQIlTaCkCZQ0gZImUNIESppASRMoaQIlTaCkCZQ0gZImUNIESppASRMoaQIlTaCkCZQ0gZImUNIESppASRMoaQIlzf+gtF0Han+zvznxpAmUNIGSJlDSBEqaQEkTKGkCJU2gpAmUNIGSJlDSBEqaQEkTKGkCJU2gpAmUNIGSJlDSBEqaQEkTKGkCJU2gpAmUNIGSJlDSBEqaQEnzPyht14Ha3+xvTjxpAiVNoKQJlDSBkiZQ0gRKmkBJEyhpAiVNoKQJlDSBkiZQ0gRKmkBJEyhpAiVNoKQJlDSBkiZQ0gRKmkBJEyhpAiVNoKQJlDSBkiZQ0r5ExkNM/yP71wAAAABJRU5ErkJggg==",
           "type": "image"
          },
          {
           "name": "2",
           "source": "data:image/png;base64,iVBORw0KGgoAAAANSUhEUgAAAOAAAADgCAIAAACVT/22AAAClUlEQVR4Xu3coQ0DQRAEQduxfv4xmBsMsVZqUAUPDGpp2b2f53lB1nWg9jf72+f3AUoESppASRMoaQIlTaCkCZQ0gZImUNIESppASRMoaQIlTaCkCZQ0gZImUNIESppASRMoaQIlTaCkCZQ0gZImUNIESppASRMoaQIlTaCkva+/z4O/XAdqf7O/OfGkCZQ0gZImUNIESppASRMoaQIlTaCkCZQ0gZImUNIESppASRMoaQIlTaCkCZQ0gZImUNIESppASRMoaQIlTaCkCZQ0gZImUNIESppASfM/KG3Xgdrf7G9OPGkCJU2gpAmUNIGSJlDSBEqaQEkTKGkCJU2gpAmUNIGSJlDSBEqaQEkTKGkCJU2gpAmUNIGSJlDSBEqaQEkTKGkCJU2gpAmUNIGSJlDS/A9K23Wg9jf7mxNPmkBJEyhpAiVNoKQJlDSBkiZQ0gRKmkBJEyhpAiVNoKQJlDSBkiZQ0gRKmkBJEyhpAiVNoKQJlDSBkiZQ0gRKmkBJEyhpAiVNoKQJlDT/g9J2Haj9zf7mxJMmUNIESppASRMoaQIlTaCkCZQ0gZImUNIESppASRMoaQIlTaCkCZQ0gZImUNIESppASRMoaQIlTaCkCZQ0gZImUNIESppASRMoaQIlzf+gtF0Han+zvznxpAmUNIGSJlDSBEqaQEkTKGkCJU2gpAmUNIGSJlDSBEqaQEkTKGkCJU2gpAmUNIGSJlDSBEqaQEkTKGkCJU2gpAmUNIGSJlDSBEqaQEnzPyht14Ha3+xvTjxpAiVNoKQJlDSBkiZQ0gRKmkBJEyhpAiVNoKQJlDSBkiZQ0gRKmkBJEyhpAiVNoKQJlDSBkiZQ0gRKmkBJEyhpAiVNoKQJlDSBkiZQ0r5ExkNM/yP71wAAAABJRU5ErkJggg==",
           "type": "image"
          },
          {
           "name": "3",
           "source": "data:image/png;base64,iVBORw0KGgoAAAANSUhEUgAAAOAAAADgCAIAAACVT/22AAAClUlEQVR4Xu3coQ0DQRAEQduxfv4xmBsMsVZqUAUPDGpp2b2f53lB1nWg9jf72+f3AUoESppASRMoaQIlTaCkCZQ0gZImUNIESppASRMoaQIlTaCkCZQ0gZImUNIESppASRMoaQIlTaCkCZQ0gZImUNIESppASRMoaQIlTaCkva+/z4O/XAdqf7O/OfGkCZQ0gZImUNIESppASRMoaQIlTaCkCZQ0gZImUNIESppASRMoaQIlTaCkCZQ0gZImUNIESppASRMoaQIlTaCkCZQ0gZImUNIESppASfM/KG3Xgdrf7G9OPGkCJU2gpAmUNIGSJlDSBEqaQEkTKGkCJU2gpAmUNIGSJlDSBEqaQEkTKGkCJU2gpAmUNIGSJlDSBEqaQEkTKGkCJU2gpAmUNIGSJlDS/A9K23Wg9jf7mxNPmkBJEyhpAiVNoKQJlDSBkiZQ0gRKmkBJEyhpAiVNoKQJlDSBkiZQ0gRKmkBJEyhpAiVNoKQJlDSBkiZQ0gRKmkBJEyhpAiVNoKQJlDT/g9J2Haj9zf7mxJMmUNIESppASRMoaQIlTaCkCZQ0gZImUNIESppASRMoaQIlTaCkCZQ0gZImUNIESppASRMoaQIlTaCkCZQ0gZImUNIESppASRMoaQIlzf+gtF0Han+zvznxpAmUNIGSJlDSBEqaQEkTKGkCJU2gpAmUNIGSJlDSBEqaQEkTKGkCJU2gpAmUNIGSJlDSBEqaQEkTKGkCJU2gpAmUNIGSJlDSBEqaQEnzPyht14Ha3+xvTjxpAiVNoKQJlDSBkiZQ0gRKmkBJEyhpAiVNoKQJlDSBkiZQ0gRKmkBJEyhpAiVNoKQJlDSBkiZQ0gRKmkBJEyhpAiVNoKQJlDSBkiZQ0r5ExkNM/yP71wAAAABJRU5ErkJggg==",
           "type": "image"
          }
         ],
         "layout": {
          "margin": {
           "t": 60
          }
         },
         "name": "0"
        },
        {
         "data": [
          {
           "name": "4",
           "source": "data:image/png;base64,iVBORw0KGgoAAAANSUhEUgAAAOAAAADgCAIAAACVT/22AAAClUlEQVR4Xu3coQ0DQRAEQduxfv4xmBsMsVZqUAUPDGpp2b2f53lB1nWg9jf72+f3AUoESppASRMoaQIlTaCkCZQ0gZImUNIESppASRMoaQIlTaCkCZQ0gZImUNIESppASRMoaQIlTaCkCZQ0gZImUNIESppASRMoaQIlTaCkva+/z4O/XAdqf7O/OfGkCZQ0gZImUNIESppASRMoaQIlTaCkCZQ0gZImUNIESppASRMoaQIlTaCkCZQ0gZImUNIESppASRMoaQIlTaCkCZQ0gZImUNIESppASfM/KG3Xgdrf7G9OPGkCJU2gpAmUNIGSJlDSBEqaQEkTKGkCJU2gpAmUNIGSJlDSBEqaQEkTKGkCJU2gpAmUNIGSJlDSBEqaQEkTKGkCJU2gpAmUNIGSJlDS/A9K23Wg9jf7mxNPmkBJEyhpAiVNoKQJlDSBkiZQ0gRKmkBJEyhpAiVNoKQJlDSBkiZQ0gRKmkBJEyhpAiVNoKQJlDSBkiZQ0gRKmkBJEyhpAiVNoKQJlDT/g9J2Haj9zf7mxJMmUNIESppASRMoaQIlTaCkCZQ0gZImUNIESppASRMoaQIlTaCkCZQ0gZImUNIESppASRMoaQIlTaCkCZQ0gZImUNIESppASRMoaQIlzf+gtF0Han+zvznxpAmUNIGSJlDSBEqaQEkTKGkCJU2gpAmUNIGSJlDSBEqaQEkTKGkCJU2gpAmUNIGSJlDSBEqaQEkTKGkCJU2gpAmUNIGSJlDSBEqaQEnzPyht14Ha3+xvTjxpAiVNoKQJlDSBkiZQ0gRKmkBJEyhpAiVNoKQJlDSBkiZQ0gRKmkBJEyhpAiVNoKQJlDSBkiZQ0gRKmkBJEyhpAiVNoKQJlDSBkiZQ0r5ExkNM/yP71wAAAABJRU5ErkJggg==",
           "type": "image"
          },
          {
           "name": "5",
           "source": "data:image/png;base64,iVBORw0KGgoAAAANSUhEUgAAAOAAAADgCAIAAACVT/22AAAClUlEQVR4Xu3coQ0DQRAEQduxfv4xmBsMsVZqUAUPDGpp2b2f53lB1nWg9jf72+f3AUoESppASRMoaQIlTaCkCZQ0gZImUNIESppASRMoaQIlTaCkCZQ0gZImUNIESppASRMoaQIlTaCkCZQ0gZImUNIESppASRMoaQIlTaCkva+/z4O/XAdqf7O/OfGkCZQ0gZImUNIESppASRMoaQIlTaCkCZQ0gZImUNIESppASRMoaQIlTaCkCZQ0gZImUNIESppASRMoaQIlTaCkCZQ0gZImUNIESppASfM/KG3Xgdrf7G9OPGkCJU2gpAmUNIGSJlDSBEqaQEkTKGkCJU2gpAmUNIGSJlDSBEqaQEkTKGkCJU2gpAmUNIGSJlDSBEqaQEkTKGkCJU2gpAmUNIGSJlDS/A9K23Wg9jf7mxNPmkBJEyhpAiVNoKQJlDSBkiZQ0gRKmkBJEyhpAiVNoKQJlDSBkiZQ0gRKmkBJEyhpAiVNoKQJlDSBkiZQ0gRKmkBJEyhpAiVNoKQJlDT/g9J2Haj9zf7mxJMmUNIESppASRMoaQIlTaCkCZQ0gZImUNIESppASRMoaQIlTaCkCZQ0gZImUNIESppASRMoaQIlTaCkCZQ0gZImUNIESppASRMoaQIlzf+gtF0Han+zvznxpAmUNIGSJlDSBEqaQEkTKGkCJU2gpAmUNIGSJlDSBEqaQEkTKGkCJU2gpAmUNIGSJlDSBEqaQEkTKGkCJU2gpAmUNIGSJlDSBEqaQEnzPyht14Ha3+xvTjxpAiVNoKQJlDSBkiZQ0gRKmkBJEyhpAiVNoKQJlDSBkiZQ0gRKmkBJEyhpAiVNoKQJlDSBkiZQ0gRKmkBJEyhpAiVNoKQJlDSBkiZQ0r5ExkNM/yP71wAAAABJRU5ErkJggg==",
           "type": "image"
          },
          {
           "name": "6",
           "source": "data:image/png;base64,iVBORw0KGgoAAAANSUhEUgAAAOAAAADgCAIAAACVT/22AAAClUlEQVR4Xu3coQ0DQRAEQduxfv4xmBsMsVZqUAUPDGpp2b2f53lB1nWg9jf72+f3AUoESppASRMoaQIlTaCkCZQ0gZImUNIESppASRMoaQIlTaCkCZQ0gZImUNIESppASRMoaQIlTaCkCZQ0gZImUNIESppASRMoaQIlTaCkva+/z4O/XAdqf7O/OfGkCZQ0gZImUNIESppASRMoaQIlTaCkCZQ0gZImUNIESppASRMoaQIlTaCkCZQ0gZImUNIESppASRMoaQIlTaCkCZQ0gZImUNIESppASfM/KG3Xgdrf7G9OPGkCJU2gpAmUNIGSJlDSBEqaQEkTKGkCJU2gpAmUNIGSJlDSBEqaQEkTKGkCJU2gpAmUNIGSJlDSBEqaQEkTKGkCJU2gpAmUNIGSJlDS/A9K23Wg9jf7mxNPmkBJEyhpAiVNoKQJlDSBkiZQ0gRKmkBJEyhpAiVNoKQJlDSBkiZQ0gRKmkBJEyhpAiVNoKQJlDSBkiZQ0gRKmkBJEyhpAiVNoKQJlDT/g9J2Haj9zf7mxJMmUNIESppASRMoaQIlTaCkCZQ0gZImUNIESppASRMoaQIlTaCkCZQ0gZImUNIESppASRMoaQIlTaCkCZQ0gZImUNIESppASRMoaQIlzf+gtF0Han+zvznxpAmUNIGSJlDSBEqaQEkTKGkCJU2gpAmUNIGSJlDSBEqaQEkTKGkCJU2gpAmUNIGSJlDSBEqaQEkTKGkCJU2gpAmUNIGSJlDSBEqaQEnzPyht14Ha3+xvTjxpAiVNoKQJlDSBkiZQ0gRKmkBJEyhpAiVNoKQJlDSBkiZQ0gRKmkBJEyhpAiVNoKQJlDSBkiZQ0gRKmkBJEyhpAiVNoKQJlDSBkiZQ0r5ExkNM/yP71wAAAABJRU5ErkJggg==",
           "type": "image"
          },
          {
           "name": "7",
           "source": "data:image/png;base64,iVBORw0KGgoAAAANSUhEUgAAAOAAAADgCAIAAACVT/22AAAClUlEQVR4Xu3coQ0DQRAEQduxfv4xmBsMsVZqUAUPDGpp2b2f53lB1nWg9jf72+f3AUoESppASRMoaQIlTaCkCZQ0gZImUNIESppASRMoaQIlTaCkCZQ0gZImUNIESppASRMoaQIlTaCkCZQ0gZImUNIESppASRMoaQIlTaCkva+/z4O/XAdqf7O/OfGkCZQ0gZImUNIESppASRMoaQIlTaCkCZQ0gZImUNIESppASRMoaQIlTaCkCZQ0gZImUNIESppASRMoaQIlTaCkCZQ0gZImUNIESppASfM/KG3Xgdrf7G9OPGkCJU2gpAmUNIGSJlDSBEqaQEkTKGkCJU2gpAmUNIGSJlDSBEqaQEkTKGkCJU2gpAmUNIGSJlDSBEqaQEkTKGkCJU2gpAmUNIGSJlDS/A9K23Wg9jf7mxNPmkBJEyhpAiVNoKQJlDSBkiZQ0gRKmkBJEyhpAiVNoKQJlDSBkiZQ0gRKmkBJEyhpAiVNoKQJlDSBkiZQ0gRKmkBJEyhpAiVNoKQJlDT/g9J2Haj9zf7mxJMmUNIESppASRMoaQIlTaCkCZQ0gZImUNIESppASRMoaQIlTaCkCZQ0gZImUNIESppASRMoaQIlTaCkCZQ0gZImUNIESppASRMoaQIlzf+gtF0Han+zvznxpAmUNIGSJlDSBEqaQEkTKGkCJU2gpAmUNIGSJlDSBEqaQEkTKGkCJU2gpAmUNIGSJlDSBEqaQEkTKGkCJU2gpAmUNIGSJlDSBEqaQEnzPyht14Ha3+xvTjxpAiVNoKQJlDSBkiZQ0gRKmkBJEyhpAiVNoKQJlDSBkiZQ0gRKmkBJEyhpAiVNoKQJlDSBkiZQ0gRKmkBJEyhpAiVNoKQJlDSBkiZQ0r5ExkNM/yP71wAAAABJRU5ErkJggg==",
           "type": "image"
          }
         ],
         "layout": {
          "margin": {
           "t": 60
          }
         },
         "name": "1"
        },
        {
         "data": [
          {
           "name": "8",
           "source": "data:image/png;base64,iVBORw0KGgoAAAANSUhEUgAAAOAAAADgCAIAAACVT/22AAAClUlEQVR4Xu3coQ0DQRAEQduxfv4xmBsMsVZqUAUPDGpp2b2f53lB1nWg9jf72+f3AUoESppASRMoaQIlTaCkCZQ0gZImUNIESppASRMoaQIlTaCkCZQ0gZImUNIESppASRMoaQIlTaCkCZQ0gZImUNIESppASRMoaQIlTaCkva+/z4O/XAdqf7O/OfGkCZQ0gZImUNIESppASRMoaQIlTaCkCZQ0gZImUNIESppASRMoaQIlTaCkCZQ0gZImUNIESppASRMoaQIlTaCkCZQ0gZImUNIESppASfM/KG3Xgdrf7G9OPGkCJU2gpAmUNIGSJlDSBEqaQEkTKGkCJU2gpAmUNIGSJlDSBEqaQEkTKGkCJU2gpAmUNIGSJlDSBEqaQEkTKGkCJU2gpAmUNIGSJlDS/A9K23Wg9jf7mxNPmkBJEyhpAiVNoKQJlDSBkiZQ0gRKmkBJEyhpAiVNoKQJlDSBkiZQ0gRKmkBJEyhpAiVNoKQJlDSBkiZQ0gRKmkBJEyhpAiVNoKQJlDT/g9J2Haj9zf7mxJMmUNIESppASRMoaQIlTaCkCZQ0gZImUNIESppASRMoaQIlTaCkCZQ0gZImUNIESppASRMoaQIlTaCkCZQ0gZImUNIESppASRMoaQIlzf+gtF0Han+zvznxpAmUNIGSJlDSBEqaQEkTKGkCJU2gpAmUNIGSJlDSBEqaQEkTKGkCJU2gpAmUNIGSJlDSBEqaQEkTKGkCJU2gpAmUNIGSJlDSBEqaQEnzPyht14Ha3+xvTjxpAiVNoKQJlDSBkiZQ0gRKmkBJEyhpAiVNoKQJlDSBkiZQ0gRKmkBJEyhpAiVNoKQJlDSBkiZQ0gRKmkBJEyhpAiVNoKQJlDSBkiZQ0r5ExkNM/yP71wAAAABJRU5ErkJggg==",
           "type": "image"
          },
          {
           "name": "9",
           "source": "data:image/png;base64,iVBORw0KGgoAAAANSUhEUgAAAOAAAADgCAIAAACVT/22AAAClUlEQVR4Xu3coQ0DQRAEQduxfv4xmBsMsVZqUAUPDGpp2b2f53lB1nWg9jf72+f3AUoESppASRMoaQIlTaCkCZQ0gZImUNIESppASRMoaQIlTaCkCZQ0gZImUNIESppASRMoaQIlTaCkCZQ0gZImUNIESppASRMoaQIlTaCkva+/z4O/XAdqf7O/OfGkCZQ0gZImUNIESppASRMoaQIlTaCkCZQ0gZImUNIESppASRMoaQIlTaCkCZQ0gZImUNIESppASRMoaQIlTaCkCZQ0gZImUNIESppASfM/KG3Xgdrf7G9OPGkCJU2gpAmUNIGSJlDSBEqaQEkTKGkCJU2gpAmUNIGSJlDSBEqaQEkTKGkCJU2gpAmUNIGSJlDSBEqaQEkTKGkCJU2gpAmUNIGSJlDS/A9K23Wg9jf7mxNPmkBJEyhpAiVNoKQJlDSBkiZQ0gRKmkBJEyhpAiVNoKQJlDSBkiZQ0gRKmkBJEyhpAiVNoKQJlDSBkiZQ0gRKmkBJEyhpAiVNoKQJlDT/g9J2Haj9zf7mxJMmUNIESppASRMoaQIlTaCkCZQ0gZImUNIESppASRMoaQIlTaCkCZQ0gZImUNIESppASRMoaQIlTaCkCZQ0gZImUNIESppASRMoaQIlzf+gtF0Han+zvznxpAmUNIGSJlDSBEqaQEkTKGkCJU2gpAmUNIGSJlDSBEqaQEkTKGkCJU2gpAmUNIGSJlDSBEqaQEkTKGkCJU2gpAmUNIGSJlDSBEqaQEnzPyht14Ha3+xvTjxpAiVNoKQJlDSBkiZQ0gRKmkBJEyhpAiVNoKQJlDSBkiZQ0gRKmkBJEyhpAiVNoKQJlDSBkiZQ0gRKmkBJEyhpAiVNoKQJlDSBkiZQ0r5ExkNM/yP71wAAAABJRU5ErkJggg==",
           "type": "image"
          },
          {
           "name": "10",
           "source": "data:image/png;base64,iVBORw0KGgoAAAANSUhEUgAAAOAAAADgCAIAAACVT/22AAAClUlEQVR4Xu3coQ0DQRAEQduxfv4xmBsMsVZqUAUPDGpp2b2f53lB1nWg9jf72+f3AUoESppASRMoaQIlTaCkCZQ0gZImUNIESppASRMoaQIlTaCkCZQ0gZImUNIESppASRMoaQIlTaCkCZQ0gZImUNIESppASRMoaQIlTaCkva+/z4O/XAdqf7O/OfGkCZQ0gZImUNIESppASRMoaQIlTaCkCZQ0gZImUNIESppASRMoaQIlTaCkCZQ0gZImUNIESppASRMoaQIlTaCkCZQ0gZImUNIESppASfM/KG3Xgdrf7G9OPGkCJU2gpAmUNIGSJlDSBEqaQEkTKGkCJU2gpAmUNIGSJlDSBEqaQEkTKGkCJU2gpAmUNIGSJlDSBEqaQEkTKGkCJU2gpAmUNIGSJlDS/A9K23Wg9jf7mxNPmkBJEyhpAiVNoKQJlDSBkiZQ0gRKmkBJEyhpAiVNoKQJlDSBkiZQ0gRKmkBJEyhpAiVNoKQJlDSBkiZQ0gRKmkBJEyhpAiVNoKQJlDT/g9J2Haj9zf7mxJMmUNIESppASRMoaQIlTaCkCZQ0gZImUNIESppASRMoaQIlTaCkCZQ0gZImUNIESppASRMoaQIlTaCkCZQ0gZImUNIESppASRMoaQIlzf+gtF0Han+zvznxpAmUNIGSJlDSBEqaQEkTKGkCJU2gpAmUNIGSJlDSBEqaQEkTKGkCJU2gpAmUNIGSJlDSBEqaQEkTKGkCJU2gpAmUNIGSJlDSBEqaQEnzPyht14Ha3+xvTjxpAiVNoKQJlDSBkiZQ0gRKmkBJEyhpAiVNoKQJlDSBkiZQ0gRKmkBJEyhpAiVNoKQJlDSBkiZQ0gRKmkBJEyhpAiVNoKQJlDSBkiZQ0r5ExkNM/yP71wAAAABJRU5ErkJggg==",
           "type": "image"
          },
          {
           "name": "11",
           "source": "data:image/png;base64,iVBORw0KGgoAAAANSUhEUgAAAOAAAADgCAIAAACVT/22AAAClUlEQVR4Xu3coQ0DQRAEQduxfv4xmBsMsVZqUAUPDGpp2b2f53lB1nWg9jf72+f3AUoESppASRMoaQIlTaCkCZQ0gZImUNIESppASRMoaQIlTaCkCZQ0gZImUNIESppASRMoaQIlTaCkCZQ0gZImUNIESppASRMoaQIlTaCkva+/z4O/XAdqf7O/OfGkCZQ0gZImUNIESppASRMoaQIlTaCkCZQ0gZImUNIESppASRMoaQIlTaCkCZQ0gZImUNIESppASRMoaQIlTaCkCZQ0gZImUNIESppASfM/KG3Xgdrf7G9OPGkCJU2gpAmUNIGSJlDSBEqaQEkTKGkCJU2gpAmUNIGSJlDSBEqaQEkTKGkCJU2gpAmUNIGSJlDSBEqaQEkTKGkCJU2gpAmUNIGSJlDS/A9K23Wg9jf7mxNPmkBJEyhpAiVNoKQJlDSBkiZQ0gRKmkBJEyhpAiVNoKQJlDSBkiZQ0gRKmkBJEyhpAiVNoKQJlDSBkiZQ0gRKmkBJEyhpAiVNoKQJlDT/g9J2Haj9zf7mxJMmUNIESppASRMoaQIlTaCkCZQ0gZImUNIESppASRMoaQIlTaCkCZQ0gZImUNIESppASRMoaQIlTaCkCZQ0gZImUNIESppASRMoaQIlzf+gtF0Han+zvznxpAmUNIGSJlDSBEqaQEkTKGkCJU2gpAmUNIGSJlDSBEqaQEkTKGkCJU2gpAmUNIGSJlDSBEqaQEkTKGkCJU2gpAmUNIGSJlDSBEqaQEnzPyht14Ha3+xvTjxpAiVNoKQJlDSBkiZQ0gRKmkBJEyhpAiVNoKQJlDSBkiZQ0gRKmkBJEyhpAiVNoKQJlDSBkiZQ0gRKmkBJEyhpAiVNoKQJlDSBkiZQ0r5ExkNM/yP71wAAAABJRU5ErkJggg==",
           "type": "image"
          }
         ],
         "layout": {
          "margin": {
           "t": 60
          }
         },
         "name": "2"
        },
        {
         "data": [
          {
           "name": "12",
           "source": "data:image/png;base64,iVBORw0KGgoAAAANSUhEUgAAAOAAAADgCAIAAACVT/22AAAClUlEQVR4Xu3coQ0DQRAEQduxfv4xmBsMsVZqUAUPDGpp2b2f53lB1nWg9jf72+f3AUoESppASRMoaQIlTaCkCZQ0gZImUNIESppASRMoaQIlTaCkCZQ0gZImUNIESppASRMoaQIlTaCkCZQ0gZImUNIESppASRMoaQIlTaCkva+/z4O/XAdqf7O/OfGkCZQ0gZImUNIESppASRMoaQIlTaCkCZQ0gZImUNIESppASRMoaQIlTaCkCZQ0gZImUNIESppASRMoaQIlTaCkCZQ0gZImUNIESppASfM/KG3Xgdrf7G9OPGkCJU2gpAmUNIGSJlDSBEqaQEkTKGkCJU2gpAmUNIGSJlDSBEqaQEkTKGkCJU2gpAmUNIGSJlDSBEqaQEkTKGkCJU2gpAmUNIGSJlDS/A9K23Wg9jf7mxNPmkBJEyhpAiVNoKQJlDSBkiZQ0gRKmkBJEyhpAiVNoKQJlDSBkiZQ0gRKmkBJEyhpAiVNoKQJlDSBkiZQ0gRKmkBJEyhpAiVNoKQJlDT/g9J2Haj9zf7mxJMmUNIESppASRMoaQIlTaCkCZQ0gZImUNIESppASRMoaQIlTaCkCZQ0gZImUNIESppASRMoaQIlTaCkCZQ0gZImUNIESppASRMoaQIlzf+gtF0Han+zvznxpAmUNIGSJlDSBEqaQEkTKGkCJU2gpAmUNIGSJlDSBEqaQEkTKGkCJU2gpAmUNIGSJlDSBEqaQEkTKGkCJU2gpAmUNIGSJlDSBEqaQEnzPyht14Ha3+xvTjxpAiVNoKQJlDSBkiZQ0gRKmkBJEyhpAiVNoKQJlDSBkiZQ0gRKmkBJEyhpAiVNoKQJlDSBkiZQ0gRKmkBJEyhpAiVNoKQJlDSBkiZQ0r5ExkNM/yP71wAAAABJRU5ErkJggg==",
           "type": "image"
          },
          {
           "name": "13",
           "source": "data:image/png;base64,iVBORw0KGgoAAAANSUhEUgAAAOAAAADgCAIAAACVT/22AAAClUlEQVR4Xu3coQ0DQRAEQduxfv4xmBsMsVZqUAUPDGpp2b2f53lB1nWg9jf72+f3AUoESppASRMoaQIlTaCkCZQ0gZImUNIESppASRMoaQIlTaCkCZQ0gZImUNIESppASRMoaQIlTaCkCZQ0gZImUNIESppASRMoaQIlTaCkva+/z4O/XAdqf7O/OfGkCZQ0gZImUNIESppASRMoaQIlTaCkCZQ0gZImUNIESppASRMoaQIlTaCkCZQ0gZImUNIESppASRMoaQIlTaCkCZQ0gZImUNIESppASfM/KG3Xgdrf7G9OPGkCJU2gpAmUNIGSJlDSBEqaQEkTKGkCJU2gpAmUNIGSJlDSBEqaQEkTKGkCJU2gpAmUNIGSJlDSBEqaQEkTKGkCJU2gpAmUNIGSJlDS/A9K23Wg9jf7mxNPmkBJEyhpAiVNoKQJlDSBkiZQ0gRKmkBJEyhpAiVNoKQJlDSBkiZQ0gRKmkBJEyhpAiVNoKQJlDSBkiZQ0gRKmkBJEyhpAiVNoKQJlDT/g9J2Haj9zf7mxJMmUNIESppASRMoaQIlTaCkCZQ0gZImUNIESppASRMoaQIlTaCkCZQ0gZImUNIESppASRMoaQIlTaCkCZQ0gZImUNIESppASRMoaQIlzf+gtF0Han+zvznxpAmUNIGSJlDSBEqaQEkTKGkCJU2gpAmUNIGSJlDSBEqaQEkTKGkCJU2gpAmUNIGSJlDSBEqaQEkTKGkCJU2gpAmUNIGSJlDSBEqaQEnzPyht14Ha3+xvTjxpAiVNoKQJlDSBkiZQ0gRKmkBJEyhpAiVNoKQJlDSBkiZQ0gRKmkBJEyhpAiVNoKQJlDSBkiZQ0gRKmkBJEyhpAiVNoKQJlDSBkiZQ0r5ExkNM/yP71wAAAABJRU5ErkJggg==",
           "type": "image"
          },
          {
           "name": "14",
           "source": "data:image/png;base64,iVBORw0KGgoAAAANSUhEUgAAAOAAAADgCAIAAACVT/22AAAClUlEQVR4Xu3coQ0DQRAEQduxfv4xmBsMsVZqUAUPDGpp2b2f53lB1nWg9jf72+f3AUoESppASRMoaQIlTaCkCZQ0gZImUNIESppASRMoaQIlTaCkCZQ0gZImUNIESppASRMoaQIlTaCkCZQ0gZImUNIESppASRMoaQIlTaCkva+/z4O/XAdqf7O/OfGkCZQ0gZImUNIESppASRMoaQIlTaCkCZQ0gZImUNIESppASRMoaQIlTaCkCZQ0gZImUNIESppASRMoaQIlTaCkCZQ0gZImUNIESppASfM/KG3Xgdrf7G9OPGkCJU2gpAmUNIGSJlDSBEqaQEkTKGkCJU2gpAmUNIGSJlDSBEqaQEkTKGkCJU2gpAmUNIGSJlDSBEqaQEkTKGkCJU2gpAmUNIGSJlDS/A9K23Wg9jf7mxNPmkBJEyhpAiVNoKQJlDSBkiZQ0gRKmkBJEyhpAiVNoKQJlDSBkiZQ0gRKmkBJEyhpAiVNoKQJlDSBkiZQ0gRKmkBJEyhpAiVNoKQJlDT/g9J2Haj9zf7mxJMmUNIESppASRMoaQIlTaCkCZQ0gZImUNIESppASRMoaQIlTaCkCZQ0gZImUNIESppASRMoaQIlTaCkCZQ0gZImUNIESppASRMoaQIlzf+gtF0Han+zvznxpAmUNIGSJlDSBEqaQEkTKGkCJU2gpAmUNIGSJlDSBEqaQEkTKGkCJU2gpAmUNIGSJlDSBEqaQEkTKGkCJU2gpAmUNIGSJlDSBEqaQEnzPyht14Ha3+xvTjxpAiVNoKQJlDSBkiZQ0gRKmkBJEyhpAiVNoKQJlDSBkiZQ0gRKmkBJEyhpAiVNoKQJlDSBkiZQ0gRKmkBJEyhpAiVNoKQJlDSBkiZQ0r5ExkNM/yP71wAAAABJRU5ErkJggg==",
           "type": "image"
          },
          {
           "name": "15",
           "source": "data:image/png;base64,iVBORw0KGgoAAAANSUhEUgAAAOAAAADgCAIAAACVT/22AAAClUlEQVR4Xu3coQ0DQRAEQduxfv4xmBsMsVZqUAUPDGpp2b2f53lB1nWg9jf72+f3AUoESppASRMoaQIlTaCkCZQ0gZImUNIESppASRMoaQIlTaCkCZQ0gZImUNIESppASRMoaQIlTaCkCZQ0gZImUNIESppASRMoaQIlTaCkva+/z4O/XAdqf7O/OfGkCZQ0gZImUNIESppASRMoaQIlTaCkCZQ0gZImUNIESppASRMoaQIlTaCkCZQ0gZImUNIESppASRMoaQIlTaCkCZQ0gZImUNIESppASfM/KG3Xgdrf7G9OPGkCJU2gpAmUNIGSJlDSBEqaQEkTKGkCJU2gpAmUNIGSJlDSBEqaQEkTKGkCJU2gpAmUNIGSJlDSBEqaQEkTKGkCJU2gpAmUNIGSJlDS/A9K23Wg9jf7mxNPmkBJEyhpAiVNoKQJlDSBkiZQ0gRKmkBJEyhpAiVNoKQJlDSBkiZQ0gRKmkBJEyhpAiVNoKQJlDSBkiZQ0gRKmkBJEyhpAiVNoKQJlDT/g9J2Haj9zf7mxJMmUNIESppASRMoaQIlTaCkCZQ0gZImUNIESppASRMoaQIlTaCkCZQ0gZImUNIESppASRMoaQIlTaCkCZQ0gZImUNIESppASRMoaQIlzf+gtF0Han+zvznxpAmUNIGSJlDSBEqaQEkTKGkCJU2gpAmUNIGSJlDSBEqaQEkTKGkCJU2gpAmUNIGSJlDSBEqaQEkTKGkCJU2gpAmUNIGSJlDSBEqaQEnzPyht14Ha3+xvTjxpAiVNoKQJlDSBkiZQ0gRKmkBJEyhpAiVNoKQJlDSBkiZQ0gRKmkBJEyhpAiVNoKQJlDSBkiZQ0gRKmkBJEyhpAiVNoKQJlDSBkiZQ0r5ExkNM/yP71wAAAABJRU5ErkJggg==",
           "type": "image"
          }
         ],
         "layout": {
          "margin": {
           "t": 60
          }
         },
         "name": "3"
        },
        {
         "data": [
          {
           "name": "16",
           "source": "data:image/png;base64,iVBORw0KGgoAAAANSUhEUgAAAOAAAADgCAIAAACVT/22AAAFi0lEQVR4Xu3c3VEiWxhG4ZdTE4YYh5gHJwITkIlDTWAi0DzQOMQ8PBcUznZzwKZ/rIV7PeUF9U03bVFrdjc9Uz27ubmJhDV1oL7/cb7/cf/UA4nEQIVmoEIzUKEZqNAMVGgGKjQDFZqBCs1AhWagQjNQoRmo0AxUaAYqNAMVmoEKzUCFZqBCM1ChGajQDFRoBio0AxWagQrNQIVmoEIzUKEZqNAMVGizqR+fJw3hCio0AxWagQrNQIVmoEIzUKEZqNAMVGgGKjQDFZqBCs1AhWagQjNQoRmo0AxUaAYqNAMVmoEKzUCFZqBCM1ChGajQDFRoBio0AxWagQrNQIVmoEIzUKEZqNAMVGi/6sEE/vz5U4/Gc3Nz4/sf8Q3vX49G5QoqNFKgF8ld8r77eU3ukot6KzUFE+gyWSerYjJPVsnaRpvGCHS7ds7rcZLMk3U9UzsYgd4eqHNrntzWs6ZcJY/Jenfts04ek6t6qwEmP0B/jEDLM/t9MktmyVMxXBavW3KVvCbPyTJZ7IaLZJk8J6/DK5r8AEMxAi393r0oq/347Fpymzx/dWp5HnJ2mfwAI+AFqiTJbXJfz/7ffb+EJj/AOHiBPiZJLj5/fM/F6wZcdY5n6/7UU/HkBxgNI9Dyw1om78nm83VneT3agO1f0pOctstpWyfptcsYGIE+JJt69tcmeahnP9jV0cvCQ+bd17jJDzAmRqBvyfWBRjfJdT372covhyfpumPX7fb03nEARqDZNVpdGK2Sy+Tt8/Cn6/0PZ1137Lrdnt47DoAJNMlbcY9pq6Uz+4fet9S67th1uz29dxyAFKi0x0Bxet9S67pj1+329N5xAAPF6X3J3XXHrtvt6b3jAIxAP/4P6Hv9Jw066Q56qeuOXbfb03vHARiBqvBy4IbbcZvkpZ4dMPkBxsQIdPvfl7Y/Sv6tB187bZfTtk7Sa5cxMALVZy8n3hRfnbq6TX6A0Rgo1EPnhFb97hdPfoBxGCjXQ7I4erm4SRZD4pn8ACMwULSX5DJZJE/FXcjn5ClZJJfDT7yTH2Co73hww9e8u3TUy9RfUSY/QH+uoEJjrKDeXdIBrqBCM1ChGajQZlM/Pk8a4lemf35nPTo3fj7HTfr5eIoXmoEKzUCFZqBCM1ChGajQDFRoBio0AxWagQrNQIVmoEIzUKEZqNAMVGgGKjQDFZqBCs1AhWagQjNQoRmo0AxUaAYqNAMVmoEKzUCFZqBCM1ChGajQfD6o0H7C80Gn/v3P/f3r0dgm/f09xQvNQIVmoEIzUKEZqNAMVGgGKjQDFZqBCs1AhWagQjNQoRmo0AxUaAYqNAMVmoEKzUCFZqBCM1ChGajQDFRoBio0AxWagQrNQIVmoEIzUKEZqNAMVGg+H1RoPh/0C9/w/M6p378ejW3S399TvNAMVGgGKjQDFZqBCs1AhWagQjNQoRmo0AxUaAYqNAMVmoEKzUCFZqBCM1ChGajQDFRoBio0AxWagQrNQIVmoEIzUKEZqNAMVGgGKjQDFZqBCs1AhebzQYXm80G/8A3P75z6/evR2Cb9/T3FC62lQC+Su+R99/Oa3CUX9VZCaSbQZbJOVsVknqyStY2itRHodu2c1+MkmSfreiaONgK9PVDn1jy5rWeCaCPQ8sx+n8ySWfJUDJfFa5G0EWjp9+5FWe2ieC2S9gLVWWkv0MckyUVyXwyfi9ciaSPQssVl8p5sPl93ltejImkj0IdkU8/+2iQP9UwQbQT6llwfaHSTXNczcbQRaHaNluf6JKvkMnn7PBRJM4EmeSvuMW15ZsdrKVCdIQMVmoEK7Vc9+JHe64HOhSuo0NpYQWfFa1fTs+IKKjQDFZqBCs1AhdbGlyS/GJ0tV1ChtbGClreZdFZcQYVmoEIzUKH9B2Os7Cp6Ucy8AAAAAElFTkSuQmCC",
           "type": "image"
          },
          {
           "name": "17",
           "source": "data:image/png;base64,iVBORw0KGgoAAAANSUhEUgAAAOAAAADgCAIAAACVT/22AAAFlElEQVR4Xu3c0VHjSBhF4eutCQMTByYPbwQkgDcOIIGJAPKwiQOTB/vgNTRdawMaS31kna94cP2DXFZzkDSaKc1ubm4iYfUdqO9/nO9/3F/1QCIxUKEZqNAMVGgGKjQDFZqBCs1AhWagQjNQoRmo0AxUaAYqNAMVmoEKzUCFZqBCM1ChGajQDFRoBio0AxWagQrNQIVmoEIzUKEZqNAMVGgGKjQDFdqs78fnSX/CI6jQDFRoBio0AxWagQrNQIVmoEIzUKEZqNAMVGgGKjQDFZqBCs1AhWagQjNQoRmo0AxUaAYqNAMVmoEKzUCFZqBCM1ChGajQDFRoBio0AxWagQrNQIVmoEIzUKH9qgc9+P37dz06nZubG9//iAHevx6dlEdQoRmo9i6Su+Rt//WS3CUX9XcNzECVJFkm62RVTObJKlk3btRAtT92zutxksyTdT0bEiPQq+QxWe9PLuvkMbmqv2uyel+e2wN17syT23o2mNaBXiUvySZZJov9cJEsk03yctqfw/gMtDzlmf0+mSWz5KkYLovXw2oa6G2y+ep3d9Py17etNsvzz/5FWe37L8fg2gV6m9zXs/93f/Ifwgi4PDuNAr369vLv3J/qZDYOLZfnMUly8fkTbIrXw2oU6G4VfqTDJqPVYV87bPKhbHGZvCXbz9ed5fXosFoEenX0wuqQ+QmPEmgNluch2dazD9vkoZ4NpkWg5dX3j3TecFQ672XnDfOaXB9odJtc17MhtQi0879MdN5wVDrvZecNk32j1ZXvKrlMXj8Ph9Ui0M73LDpvOCqd97Lzhv95Le4x7bQ7s79rEaj0bS0C7XzPovOGo9J5LztvSNYi0M7XNJ03HJXOe9l5Q7IWgf7oHnSp84aj0nkvO2/48X9A3+o/aa5FoM8H7mgct02e69lZcnlKLQJN8nc9+FqHTUarw7522OTD7r8v7b5gGgX6/MPbyqszPT4c4PK8axRokodv/xBWiBtyA3N5dtoFmuQhWRy94Nomi7Ne/qNcnjQONMlzcpkskqfiPt4meUoWyeX5nrq+x+UZ4sENX3v+w4v8M9f78vDuLr1rfQSVjmIcQdUW7+7SO4+gQjNQoRmo0GZ9Pz5P+hO/0v/zO+vR2Lg+x/W6Pp7ihWagQjNQoRmo0AxUaAYqNAMVmoEKzUCFZqBCM1ChGajQDFRoBio0AxWagQrNQIVmoEIzUKEZqNAMVGgGKjQDFZqBCs1AhWagQjNQoRmo0AxUaAYqNJ8PKrRzeD5o359/7O9fj06t18/vKV5oBio0AxWagQrNQIVmoEIzUKEZqNAMVGgGKjQDFZqBCs1AhWagQjNQoRmo0AxUaAYqNAMVmoEKzUCFZqBCM1ChGajQDFRoBio0AxWagQrNQIVmoELz+aBC8/mgXxjg+Z19v389OrVeP7+neKEZqNAMVGgGKjQDFZqBCs1AhWagQjNQoRmo0AxUaAYqNAMVmoEKzUCFZqBCM1ChGajQDFRoBio0AxWagQrNQIVmoEIzUKEZqNAMVGgGKjQDFZqBCs3ngwrN54N+YYDnd/b9/vXo1Hr9/J7ihTalQC+Su+Rt//WS3CUX9XcJZTKBLpN1siom82SVrG0UbRqB7o6d83qcJPNkXc/EMY1Abw/UuTNPbuuZIKYRaHlmv09mySx5KobL4rVIphFo6Z/9i7LaRfFaJNMLVKMyvUAfkyQXyX0x3BSvRTKNQMsWl8lbsv183Vlej4pkGoE+JNt69mGbPNQzQUwj0Nfk+kCj2+S6noljGoFm32h5rk+ySi6T189DkUwm0CSvxT2mHc/seFMKVCNkoEIzUKH9qgdn6a0eaCw8ggptGkfQWfHao+moeAQVmoEKzUCFZqBCm8ZfkvyL0Wh5BBXaNI6g5W0mjYpHUKEZqNAMVGj/AgxC7CrzwpNOAAAAAElFTkSuQmCC",
           "type": "image"
          },
          {
           "name": "18",
           "source": "data:image/png;base64,iVBORw0KGgoAAAANSUhEUgAAAOAAAADgCAIAAACVT/22AAAFmUlEQVR4Xu3c3VEbSRhG4ZctwkDEITkPHAEJSBuHpQQcAeQhKQ6LPNgLLV7Ra/TTqJmj1nmKC+qDVlPUYWYY47l5fHyMhNU6UF9/P19/v7/KgURioEIzUKEZqNAMVGgGKjQDFZqBCs1AhWagQjNQoRmo0AxUaAYqNAMVmoEKzUCFZqBCM1ChGajQDFRoBio0AxWagQrNQIVmoEIzUKEZqNAMVGgGKrSb1o/Pkz7DI6jQDFRoBio0AxWagQrNQIVmoEIzUKEZqNAMVGgGKjQDFZqBCs1AhWagQjNQoRmo0AxUaAYqNAMVmoEKzUCFZqBCM1ChGajQDFRoBio0AxWagQrNQIVmoEIzUKHdloMGfv78WY7O5/Hx0dff4wtevxydlUdQoRnoxbhLfiSvb2+/kh/JXflZn9B8gxoGehkekmUy25mMklmyPFdCzTeoZKAXYHtoG5XjJBkly3J2uuYb1GMEOk6ekuXbyWWZPCXj8rOu1vSDeLZGybScnaj5BvWGDnSc/EpWyUMyeRtOkodklfwy0+T9iXee3CQ3yfPO8GHn/RrNN6g3aKDTZHXoZ3c15I8v0N9v7+xG9ftH+wyab3Ca4QKdJvNy9mdzG71eAwU6PrrOrbnn+n89JUnu3n//Vjvvf1bzDU4zUKDb78JJKpb0YjeVh+Q12by/LNy9XKzRfIN6QwQ63nvd+ZHR9R5EF8mmnP1nkyzK2Ymab1BviEB3r75PUr3wwr0k3z5IaJN8K2ena75BvSECrf6XieqFl2+bUHHdPkvuk5f3w0rNN6g0RKDV9yyqF3bhZecW0NaZT7zNN6gxRKDS0YYItPqeRfVCXawhAq2+pqleqIs1RKAn3aLfVb3wwv3+E83X8iNn0nyDekMEuv7gjsZ+m2RdztS9IQJN8r0cHFaxpBfbvy7avjXRfIN6AwW6PvGu+8zD55UaKNAki6MbnSFuyGkQwwWaZJFM9l6PbpKJdV61QQNNsk7uk0nyvHObc5U8J5Pk3jP7tfuKBzcctr7q34EOan7zp/kG9YY+gkp7MY6g2qv5zZ/mG9TzCCo0AxWagQrtpvXj86TPuE3753eWo0vj92e/pt8fT/FCM1ChGajQDFRoBio0AxWagQrNQIVmoEIzUKEZqNAMVGgGKjQDFZqBCs1AhWagQjNQoRmo0AxUaAYqNAMVmoEKzUCFZqBCM1ChGajQDFRoBio0AxWazwcVWg/PB2399V/665ejc2v69XuKF5qBCs1AhWagQjNQoRmo0AxUaAYqNAMVmoEKzUCFZqBCM1ChGajQDFRoBio0AxWagQrNQIVmoEIzUKEZqNAMVGgGKjQDFZqBCs1AhWagQjNQoRmo0Hw+qNB8PugBX/D8ztavX47OrenX7yleaAYqNAMVmoEKzUCFZqBCM1ChGajQDFRoBio0AxWagQrNQIVmoEIzUKEZqNAMVGgGKjQDFZqBCs1AhWagQjNQoRmo0AxUaAYqNAMVmoEKzUCFZqBC8/mgQvP5oAd8wfM7W79+OTq3pl+/p3ihGajQDFRoBiq06wh0nDwly+Q1eU2WyVMyLj9LQLfloDPbNEfvh5MkyUOySb4n6/cfFUnXR9BpsvpfnbtGySqZlmNx9BvoNJmXsz+b2yhXp4GOj65za+4lKVSngT6Vg8Mqlqi9HgMd773u/MjIgyhRj4HOysGxqheqmR4DvSsHx6peqGZ6DHR7m7NC9UI102Og6kiPga7KwbGqF6qZHgN9KQfHql6oZnoM9KRb9LuqF6qZHgNdJ5tydtjGvxoh6jHQJN/LwWEVS9Rep4GuT7zrPvPwCdVpoEkWRzc6SxblTBD9BppkkUz2Xo9ukol1onUdaJJ1cp9Mkued25yr5DmZJPee2el6/y8fW2t/B7pUvR9BdeEMVGgGKjQDFZqBCu0fyh7s1zqBjjwAAAAASUVORK5CYII=",
           "type": "image"
          },
          {
           "name": "19",
           "source": "data:image/png;base64,iVBORw0KGgoAAAANSUhEUgAAAOAAAADgCAIAAACVT/22AAAFj0lEQVR4Xu3c71HiWhyH8a93LEOsA7YPrcAG4Nax0IAVaB9AHYt9eF8weONx5U9I4PHk+YwvnJ8ehjk+k8Ssm5unp6dIWH0H6uvv5+vv9085kEgMVGgGKjQDFZqBCs1AhWagQjNQoRmo0AxUaAYqNAMVmoEKzUCFZqBCM1ChGajQDFRoBio0AxWagQrNQIVmoEIzUKEZqNAMVGgGKjQDFZqBCs1AhXbT9+PzpHN4BBWagQrNQIVmoEIzUKEZqNAMVGgGKjQDFZqBCs1AhWagQjNQoRmo0AxUaAYqNAMVmoEKzUCFZqBCM1ChGajQDFRoBio0AxWagQrNQIVmoEIzUKEZqNAMVGgGKrTbctCD5+fnctSdp6cnX3+PC7x+OeqUR1ChkQK9S34n77uPP8nv5K78rsEa5vZgAn1IlsmsMRkls2Q5gB/CEQa7PYxAtweHUTlOklGyLGdDM+TtYQQ6/Wb7t0bJtJwNSu/bM05ekuXu6mGZvCTj8ruughFo89Q1T26Sm+S1MXxofD48PW7POPmTrJKHZLIbTpKHZJX8uX6mjECb/t190vyxfOzd4HW5PdNkdejgvDr/+HwWXqC6jGkyL2d/N79mo7xAX5Ikd5+3b9X4fNi62Z7x0XVuza92rmcE2tysh+Q92Xy+sGpecA1P99uzzfwkLZZ0gRHoItmUs/9tkkU5G5SOt2e897rzO6PrHEQZgb4lv775IWySX+VsaDrenuavVydpvfAMjECz+yEUF0az5D55+zwcpC63p/U/PbVeeAZMoEneGjdRtk47dVWus+1peVPqjIVnIAUqfWGgw3PyTamd1gvPYKDDc/JF607rhWdgBPrxR47v5VeUzrfnpFv0Ta0XnoERqC5p/c0tq/02ybqcXQAj0O3f52w/9EX32/NYDg5rsaQLjEB1YesT77rPrnP4jIEO1+LoRmet77h2wEAHbJFM9l6PbpLJNeuMgQ7dOrlPJslr4zbnKnlNJsn91c7sHy7x4IbDurl9Uq3et2d9td+BDvIIKjTGEbSz2yd1GvL2eAQVmoEKzUCFdtP34/Okc9ym/+d3lqOfxv3Zr9f98RQvNAMVmoEKzUCFZqBCM1ChGajQDFRoBio0AxWagQrNQIVmoEIzUKEZqNAMVGgGKjQDFZqBCs1AhWagQjNQoRmo0AxUaAYqNAMVmoEKzUCFZqBCM1Ch+XxQodXwfNC+3/9Pf/1y1LVe37+neKEZqNAMVGgGKjQDFZqBCs1AhWagQjNQoRmo0AxUaAYqNAMVmoEKzUCFZqBCM1ChGajQDFRoBio0AxWagQrNQIVmoEIzUKEZqNAMVGgGKjQDFZqBCs3ngwrN54MecIHnd/b9+uWoa72+f0/xQjNQoRmo0AxUaAYqNAMVmoEKzUCFZqBCM1ChGajQDFRoBio0AxWagQrNQIVmoEIzUKEZqNAMVGgGKjQDFZqBCs1AhWagQjNQoRmo0AxUaAYqNAMVms8HFZrPBz3gAs/v7Pv1y1HXen3/nuKFZqBCM1ChGajQhhHoOHlJlsl78p4sk5dkXH6XgG7LQWW2aY4+DydJkodkkzwm689fFUnVR9BpsvpSZ9MoWSXTciyOegOdJvNy9ndzG+WqNNDx0XVuzb0khao00JdycFiLJepfjYGO9153fmfkQZSoxkBn5eBYrReqNzUGelcOjtV6oXpTY6Db25wttF6o3tQYqCpSY6CrcnCs1gvVmxoDfSsHx2q9UL2pMdCTbtE3tV6o3tQY6DrZlLPDNv7VCFGNgSZ5LAeHtVii/lUa6PrEu+4zD59QlQaaZHF0o7NkUc4EUW+gSRbJZO/16CaZWCda1YEmWSf3ySR5bdzmXCWvySS598xOV/t/+dha+zvQT1X7EVQ/nIEKzUCFZqBCM1Ch/Qchl+zX/ByD1AAAAABJRU5ErkJggg==",
           "type": "image"
          }
         ],
         "layout": {
          "margin": {
           "t": 60
          }
         },
         "name": "4"
        },
        {
         "data": [
          {
           "name": "20",
           "source": "data:image/png;base64,iVBORw0KGgoAAAANSUhEUgAAAOAAAADgCAIAAACVT/22AAAEeUlEQVR4Xu3c3U0cZxiA0ZfIZRjXAe6DVEADJnUYGnAFdh9AHcZ9OBcIZz0Ji9kf9nE4R1ysXpjRavVoZvhA39H5+flA1r4Ddf71nH+9P5YDKBEoaQIlTaCkCZQ0gZImUNIESppASRMoaQIlTaCkCZQ0gZImUNIESppASRMoaQIlTaCkCZQ0gZImUNIESppASRMoaQIlTaCkCZQ0gZJ2tO/t82Ar+w7U+ddz/vXc4kkTKGkCJU2gpAmUNIGSJlDSBEqaQEkTKGkCJU2gpAmUNIGSJlDSBEqaQEkTKGkCJU2gpAmUNIGSJlDSBEqaQEkTKGkCJU2gpAmUNIGSZn9Q0lxBSRMoaQIlTaCkCZQ0gZImUNIESppASRMoaQIlTaCkCZQ0gZImUNIESppASRMoaQIlTaCkCZQ0gZImUNIESppASRMoaQIlTaCkCZQ0gZImUNIEStqb5WAPPn36tBztzvn5ufOv8QLnX452yhWUtFKgb2c+znx/+Po683Hm7fKneFUygZ7NXM9crEyOZy5mrjX6qjUCvb92Hi/HMzPHM9fLGa9HI9APj9R573jmw3LGLp3MfJ65fni4up75PHOy/KmDaAS6eme/nDmaOZr5sjI8W3nNDp3MfJ25mTmbOX0Yns6czdzMfD18po1AV/318GK12h+fHTv0YebmqXvXzYFvX71AeRkfZi6Xs/92echGe4F+npmZtz9/fDcrr9neyS/Xee/yYPf6RqCrH9bZzPeZu5+fO1efR9ne/VXgWTY4ZBcagV7N3C1n/7ibuVrO2NzJ2ufOxxwf5iLaCPTbzPtHGr2beb+csZXV3z6fZeMDt9AIdB4aXTwYXcy8m/n285AtbfyXuY0P3EIm0Jn5trLGdM+dfR82XrPb+MAtlAKFfxHo67Pxmt3GB25BoK/Pxs/0Gx+4hUagP/4H9PvyO+zes5boV2184BYagfKSbh9Z0VvvbuZ2OXsBjUDv/33p/osX8Ody8LQNDtmFRqC8sNtnrrpfHObyOQJ9va5+udGLQy5IC/QVu5o5Xfs8ejdzesg6R6Cv3e3Mu5nTmS8ry5w3M19mTmfeHezO/sNLbNzwNKtLh3V7sN+BnuQKSlrjCmp1iUe4gpImUNIEStrRvrfPg228mf3v37kc/W58Puvt9fNxiydNoKQJlDSBkiZQ0gRKmkBJEyhpAiVNoKQJlDSBkiZQ0gRKmkBJEyhpAiVNoKQJlDSBkiZQ0gRKmkBJEyhpAiVNoKQJlDSBkiZQ0gRKmv1BSfs/7A+67/f/u59/Odq1vb5/t3jSBEqaQEkTKGkCJU2gpAmUNIGSJlDSBEqaQEkTKGkCJU2gpAmUNIGSJlDSBEqaQEkTKGkCJU2gpAmUNIGSJlDSBEqaQEkTKGkCJU2gpNkflDT7gz7hBfbv3Pf5l6Nd2+v7d4snTaCkCZQ0gZImUNIESppASRMoaQIlTaCkCZQ0gZImUNIESppASRMoaQIlTaCkCZQ0gZImUNIESppASRMoaQIlTaCkCZQ0gZImUNIEStrfVZOaF1ZBIAYAAAAASUVORK5CYII=",
           "type": "image"
          },
          {
           "name": "21",
           "source": "data:image/png;base64,iVBORw0KGgoAAAANSUhEUgAAAOAAAADgCAIAAACVT/22AAAEfUlEQVR4Xu3c4TEkWxzG4detDQNxsHm4EUiAG8eSgAjIA3EgD/fDFHd0XYNZ3ee1nqd8mPqv7pqyP93tUGfn+Pg4UGvuQJ1/M+ff7K/pAJoIlGoCpZpAqSZQqgmUagKlmkCpJlCqCZRqAqWaQKkmUKoJlGoCpZpAqSZQqgmUagKlmkCpJlCqCZRqAqWaQKkmUKoJlGoCpZpAqSZQqgmUajtzb58Hv2XuQJ1/M+ffzC2eagKlmkCpJlCqCZRqAqWaQKkmUKoJlGoCpZpAqSZQqgmUagKlmkCpJlCqCZRqAqWaQKkmUKoJlGoCpZpAqSZQqgmUagKlmkCpJlCqCZRqAqWa/UGp5gpKNYFSTaBUEyjVBEo1gVJNoFQTKNUESjWBUk2gVBMo1QRKNYFSTaBUEyjVBEo1gVJNoFQTKNUESjWBUk2gVBMo1QRKNYFSTaBUEyjVBEo1gVJNoFQTKNV+TAczuLi4mI4+z/HxsfNvsMD5p6NP5QpKNYHyZDf5lTw+fdwlv5Ld6WctTKAkSY6S6+R0bbKXnCbXgxsVKE/Xzr3pOEn2kuvpbEkdgR4kl8n1083lOrlMDqafxVxOXqlzZS85mc4WMzrQg+QuuUmOksOn4WFylNwkdzJdxPqd/SzZSXaSq7Xh0drrZQ0N9CS5eet792bkt+939M/Ti/Vqn68dixsX6ElyNp39vzONfl+DAj14d50rZ+71S7lMkuy+/A+6WXu9rEGBrr4KH7LFIbzTeotHyWNy//K5c/15dFkjAj3Y+Nz5mj0X0dmcJ/fT2X/uk/PpbDEjAl1/+v6QrQ9ks4fk5yuN3ic/p7MljQh0699MbH0gb1o1OvnB4DTZTx5eDpc1ItCt1yy2PpD3eFhbY1oZd2d/NiJQeLcRgW69ZrH1gXxZIwLd+plm6wP5skYE+qEl+nVbH8hmz38D+jj9l+FGBHr7yorGZvfJ7XTGH29EoEn+ng7etsUhvNPqz5dWH2UGBXr7wVX3U5fPb2pQoEnO393oacWCHEOMCzTJeXK48Xn0PjlU57c2NNAkt8l+cphcrS1z3iRXyWGy787+3S2xccPbbv0MNFTf6tKz0VdQ2KjjCspYfatLz1xBqSZQqgmUajtzb58Hv+NH5t+/czr6anx9Npv16+MWTzWBUk2gVBMo1QRKNYFSTaBUEyjVBEo1gVJNoFQTKNUESjWBUk2gVBMo1QRKNYFSTaBUEyjVBEo1gVJNoFQTKNUESjWBUk2gVBMo1QRKNYFSzf6gVPsT9ged+/1/9fNPR59t1vfvFk81gVJNoFQTKNUESjWBUk2gVBMo1QRKNYFSTaBUEyjVBEo1gVJNoFQTKNUESjWBUk2gVBMo1QRKNYFSTaBUEyjVBEo1gVJNoFQTKNUESjWBUs3+oFSzP+gbFti/c+7zT0efbdb37xZPNYFSTaBUEyjVBEo1gVJNoFQTKNUESjWBUk2gVBMo1QRKNYFSTaBUEyjVBEo1gVJNoFQTKNUESjWBUk2gVBMo1QRKNYFSTaBUEyjVBEo1gVLtX/4amhfJiDMyAAAAAElFTkSuQmCC",
           "type": "image"
          },
          {
           "name": "22",
           "source": "data:image/png;base64,iVBORw0KGgoAAAANSUhEUgAAAOAAAADgCAIAAACVT/22AAAEfUlEQVR4Xu3c4TEkWxzG4detDQNxsHm4EUiAG8eSgAjIA3EgD/fDFHd0XYNZ3ee1nqd8mPqv7pqyP93tUGfn+Pg4UGvuQJ1/M+ff7K/pAJoIlGoCpZpAqSZQqgmUagKlmkCpJlCqCZRqAqWaQKkmUKoJlGoCpZpAqSZQqgmUagKlmkCpJlCqCZRqAqWaQKkmUKoJlGoCpZpAqSZQqgmUajtzb58Hv2XuQJ1/M+ffzC2eagKlmkCpJlCqCZRqAqWaQKkmUKoJlGoCpZpAqSZQqgmUagKlmkCpJlCqCZRqAqWaQKkmUKoJlGoCpZpAqSZQqgmUagKlmkCpJlCqCZRqAqWa/UGp5gpKNYFSTaBUEyjVBEo1gVJNoFQTKNUESjWBUk2gVBMo1QRKNYFSTaBUEyjVBEo1gVJNoFQTKNUESjWBUk2gVBMo1QRKNYFSTaBUEyjVBEo1gVJNoFQTKNV+TAczuLi4mI4+z/HxsfNvsMD5p6NP5QpKNYHyZDf5lTw+fdwlv5Ld6WctTKAkSY6S6+R0bbKXnCbXgxsVKE/Xzr3pOEn2kuvpbEkdgR4kl8n1083lOrlMDqafxVxOXqlzZS85mc4WMzrQg+QuuUmOksOn4WFylNwkdzJdxPqd/SzZSXaSq7Xh0drrZQ0N9CS5eet792bkt+939M/Ti/Vqn68dixsX6ElyNp39vzONfl+DAj14d50rZ+71S7lMkuy+/A+6WXu9rEGBrr4KH7LFIbzTeotHyWNy//K5c/15dFkjAj3Y+Nz5mj0X0dmcJ/fT2X/uk/PpbDEjAl1/+v6QrQ9ks4fk5yuN3ic/p7MljQh0699MbH0gb1o1OvnB4DTZTx5eDpc1ItCt1yy2PpD3eFhbY1oZd2d/NiJQeLcRgW69ZrH1gXxZIwLd+plm6wP5skYE+qEl+nVbH8hmz38D+jj9l+FGBHr7yorGZvfJ7XTGH29EoEn+ng7etsUhvNPqz5dWH2UGBXr7wVX3U5fPb2pQoEnO393oacWCHEOMCzTJeXK48Xn0PjlU57c2NNAkt8l+cphcrS1z3iRXyWGy787+3S2xccPbbv0MNFTf6tKz0VdQ2KjjCspYfatLz1xBqSZQqgmUajtzb58Hv+NH5t+/czr6anx9Npv16+MWTzWBUk2gVBMo1QRKNYFSTaBUEyjVBEo1gVJNoFQTKNUESjWBUk2gVBMo1QRKNYFSTaBUEyjVBEo1gVJNoFQTKNUESjWBUk2gVBMo1QRKNYFSzf6gVPsT9ged+/1/9fNPR59t1vfvFk81gVJNoFQTKNUESjWBUk2gVBMo1QRKNYFSTaBUEyjVBEo1gVJNoFQTKNUESjWBUk2gVBMo1QRKNYFSTaBUEyjVBEo1gVJNoFQTKNUESjWBUs3+oFSzP+gbFti/c+7zT0efbdb37xZPNYFSTaBUEyjVBEo1gVJNoFQTKNUESjWBUk2gVBMo1QRKNYFSTaBUEyjVBEo1gVJNoFQTKNUESjWBUk2gVBMo1QRKNYFSTaBUEyjVBEo1gVLtX/4amhfJiDMyAAAAAElFTkSuQmCC",
           "type": "image"
          },
          {
           "name": "23",
           "source": "data:image/png;base64,iVBORw0KGgoAAAANSUhEUgAAAOAAAADgCAIAAACVT/22AAAEeUlEQVR4Xu3c3U0cZxiA0ZfIZRjXAe6DVEADJnUYGnAFdh9AHcZ9OBcIZz0Ji9kf9nE4R1ysXpjRavVoZvhA39H5+flA1r4Ddf71nH+9P5YDKBEoaQIlTaCkCZQ0gZImUNIESppASRMoaQIlTaCkCZQ0gZImUNIESppASRMoaQIlTaCkCZQ0gZImUNIESppASRMoaQIlTaCkCZQ0gZJ2tO/t82Ar+w7U+ddz/vXc4kkTKGkCJU2gpAmUNIGSJlDSBEqaQEkTKGkCJU2gpAmUNIGSJlDSBEqaQEkTKGkCJU2gpAmUNIGSJlDSBEqaQEkTKGkCJU2gpAmUNIGSZn9Q0lxBSRMoaQIlTaCkCZQ0gZImUNIESppASRMoaQIlTaCkCZQ0gZImUNIESppASRMoaQIlTaCkCZQ0gZImUNIESppASRMoaQIlTaCkCZQ0gZImUNIEStqb5WAPPn36tBztzvn5ufOv8QLnX452yhWUtFKgb2c+znx/+Po683Hm7fKneFUygZ7NXM9crEyOZy5mrjX6qjUCvb92Hi/HMzPHM9fLGa9HI9APj9R573jmw3LGLp3MfJ65fni4up75PHOy/KmDaAS6eme/nDmaOZr5sjI8W3nNDp3MfJ25mTmbOX0Yns6czdzMfD18po1AV/318GK12h+fHTv0YebmqXvXzYFvX71AeRkfZi6Xs/92echGe4F+npmZtz9/fDcrr9neyS/Xee/yYPf6RqCrH9bZzPeZu5+fO1efR9ne/VXgWTY4ZBcagV7N3C1n/7ibuVrO2NzJ2ufOxxwf5iLaCPTbzPtHGr2beb+csZXV3z6fZeMDt9AIdB4aXTwYXcy8m/n285AtbfyXuY0P3EIm0Jn5trLGdM+dfR82XrPb+MAtlAKFfxHo67Pxmt3GB25BoK/Pxs/0Gx+4hUagP/4H9PvyO+zes5boV2184BYagfKSbh9Z0VvvbuZ2OXsBjUDv/33p/osX8Ody8LQNDtmFRqC8sNtnrrpfHObyOQJ9va5+udGLQy5IC/QVu5o5Xfs8ejdzesg6R6Cv3e3Mu5nTmS8ry5w3M19mTmfeHezO/sNLbNzwNKtLh3V7sN+BnuQKSlrjCmp1iUe4gpImUNIEStrRvrfPg228mf3v37kc/W58Puvt9fNxiydNoKQJlDSBkiZQ0gRKmkBJEyhpAiVNoKQJlDSBkiZQ0gRKmkBJEyhpAiVNoKQJlDSBkiZQ0gRKmkBJEyhpAiVNoKQJlDSBkiZQ0gRKmv1BSfs/7A+67/f/u59/Odq1vb5/t3jSBEqaQEkTKGkCJU2gpAmUNIGSJlDSBEqaQEkTKGkCJU2gpAmUNIGSJlDSBEqaQEkTKGkCJU2gpAmUNIGSJlDSBEqaQEkTKGkCJU2gpNkflDT7gz7hBfbv3Pf5l6Nd2+v7d4snTaCkCZQ0gZImUNIESppASRMoaQIlTaCkCZQ0gZImUNIESppASRMoaQIlTaCkCZQ0gZImUNIESppASRMoaQIlTaCkCZQ0gZImUNIEStrfVZOaF1ZBIAYAAAAASUVORK5CYII=",
           "type": "image"
          }
         ],
         "layout": {
          "margin": {
           "t": 60
          }
         },
         "name": "5"
        },
        {
         "data": [
          {
           "name": "24",
           "source": "data:image/png;base64,iVBORw0KGgoAAAANSUhEUgAAAOAAAADgCAIAAACVT/22AAAEcUlEQVR4Xu3c3VEUaRiA0ZctwxDjAPNgIyAB2TiEBIxA8wDiEPNwLyjcsXcZZH6Yx+Wc4mLqle6iup7qr/mk+uj8/Hwga9+BOv96zr/eH8sBlAiUNIGSJlDSBEqaQEkTKGkCJU2gpAmUNIGSJlDSBEqaQEkTKGkCJU2gpAmUNIGSJlDSBEqaQEkTKGkCJU2gpAmUNIGSJlDSBEqaQEk72vfr82Ar+w7U+ddz/vUs8aQJlDSBkiZQ0gRKmkBJEyhpAiVNoKQJlDSBkiZQ0gRKmkBJEyhpAiVNoKQJlDSBkiZQ0gRKmkBJEyhpAiVNoKQJlDSBkiZQ0gRKmkBJ835Q2vYdqPOv5/zrWeJJEyhpAiVNoKQJlDSBkiZQ0gRKmkBJEyhpAiVNoKQJlDSBkiZQ0gRKmkBJEyhpAiVNoKQJlDSBkiZQ0gRKmkBJEyhpAiVNoKQJlDSBkub9oKS5g5ImUNIESppASRMoaQIlTaCkCZQ0gZImUNIESppASRMoaQIlTaCkCZQ0gZImUNIESppASRMoaQIlTaCkCZQ0gZImUNIESppASRMoaQIlTaCkCZS0N8vBHnz69Gk52p3z83PnX+MFzr8c7ZQ7KGmlQN/OfJz5/vD1debjzNvld/GqZAI9m7meuViZHM9czFxr9FVrBHp/7zxejmdmjmeulzNej0agHx6p897xzIfljF06mfk8c/3wcHU983nmZPldB9EIdHVlv5w5mjma+bIyPFv5zA6dzHyduZk5mzl9GJ7OnM3czHw9fKaNQFf99fBhtdof144d+jBz89TadXPg5asXKC/jw8zlcvbfLg/ZaC/QzzMz8/bny3ez8pntnfxynfcuD7bWNwJdvVhnM99n7n5+7lx9HmV793eBZ9ngkF1oBHo1c7ec/eNu5mo5Y3Mna587H3N8mJtoI9BvM+8fafRu5v1yxlZWf/t8lo0P3EIj0HlodPFgdDHzbubbz0O2tPH/zG184BYygc7Mt5U9pntW9n3YeM9u4wO3UAoU/kWgr8/Ge3YbH7gFgb4+Gz/Tb3zgFhqB/vgb0O/Lf2H3nrVFv2rjA7fQCJSXdPvIjt56dzO3y9kLaAR6/+dL91+8gD+Xg6dtcMguNALlhd0+c9f94jC3zxHo63X1y41eHHJDWqCv2NXM6drn0buZ00PWOQJ97W5n3s2cznxZ2ea8mfkyczrz7mAr+w8v8eKGp9ldOqzbg/0O9CR3UNIad1C7SzzCHZQ0gZImUNKO9v36PNjGm9n/+zuXo9+N67PeXq+PJZ40gZImUNIESppASRMoaQIlTaCkCZQ0gZImUNIESppASRMoaQIlTaCkCZQ0gZImUNIESppASRMoaQIlTaCkCZQ0gZImUNIESppASRMoad4PStr/4f2g+/75f/fzL0e7ttef3xJPmkBJEyhpAiVNoKQJlDSBkiZQ0gRKmkBJEyhpAiVNoKQJlDSBkiZQ0gRKmkBJEyhpAiVNoKQJlDSBkiZQ0gRKmkBJEyhpAiVNoKQJlLS/AfTVlHOKn+cSAAAAAElFTkSuQmCC",
           "type": "image"
          },
          {
           "name": "25",
           "source": "data:image/png;base64,iVBORw0KGgoAAAANSUhEUgAAAOAAAADgCAIAAACVT/22AAAEdUlEQVR4Xu3c4TEkWxzG4detDQNxsHm4EUiAG8eSgAjIA3EgD/fDFHd0XY1Z0+e1nqd8mPqv7lKzP33aoXrn+Pg4UGvbgTr/POef99d0AE0ESjWBUk2gVBMo1QRKNYFSTaBUEyjVBEo1gVJNoFQTKNUESjWBUk2gVBMo1QRKNYFSTaBUEyjVBEo1gVJNoFQTKNUESjWBUk2gVBMo1QRKtZ1tPz4Pfsu2A3X+ec4/zxJPNYFSTaBUEyjVBEo1gVJNoFQTKNUESjWBUk2gVBMo1QRKNYFSTaBUEyjVBEo1gVJNoFQTKNUESjWBUk2gVBMo1QRKNYFSTaBUEyjVBEo1gVLN80Hptu1AnX+e88+zxFNNoFQTKNUESjWBUk2gVBMo1QRKNYFSTaBUEyjVBEo1gVJNoFQTKNUESjWBUk2gVBMo1QRKNYFSTaBUEyjVBEo1gVJNoFQTKNUESjWBUk2gVPN8UKq5glJNoFQTKNUESjWBUk2gVBMo1QRKNYFSTaBUEyjVBEo1gVJNoFQTKNUESjWBUk2gVBMo1QRKNYFSTaBUEyjVBEo1gVJNoFQTKNUESjWBUk2gVBMo1QRKtR/TwRZcXFxMR5/n+PjY+WcscP7p6FO5glJNoDzZTX4lj08fd8mvZHf6WQsTKEmSo+Q6OV2b7CWnyfXgRgXK07VzbzpOkr3kejpbUkegB8llcv20uFwnl8nB9LPYlpNX6lzZS06ms8WMDvQguUtukqPk8Gl4mBwlN8mdTBexvrKfJTvJTnK1Njxae72soYGeJDdvfe/ejPz2/Y7+eXqxXu3ztWNx4wI9Sc6ms/93ptHva1CgB++uc+XMWr+UyyTJ7sv/oJu118saFOjqXfiQDQ7hndZbPEoek/uX953r96PLGhHowex952v2XES35jy5n87+c5+cT2eLGRHo+t33h2x8IPMekp+vNHqf/JzOljQi0I1/M7Hxgbxp1ejkB4PTZD95eDlc1ohAN96z2PhA3uNhbY9pZdzK/mxEoPBuIwLdeM9i4wP5skYEuvE9zcYH8mWNCPRDW/TrNj6Qec9/A/o4/ZfhRgR6+8qOxrz75HY64483ItAkf08Hb9vgEN5p9edLq48ygwK9/eCu+6nL5zc1KNAk5+9u9LRiQ44hxgWa5Dw5nL0fvU8O1fmtDQ00yW2ynxwmV2vbnDfJVXKY7FvZv7slHtzwtls/Aw3Vt7v0bPQVFGZ1XEEZq2936ZkrKNUESjWBUm1n24/Pg9/xI9t/fud09NV4f+Zt9f2xxFNNoFQTKNUESjWBUk2gVBMo1QRKNYFSTaBUEyjVBEo1gVJNoFQTKNUESjWBUk2gVBMo1QRKNYFSTaBUEyjVBEo1gVJNoFQTKNUESjWBUk2gVPN8UKr9Cc8H3fbX/9XPPx19tq1+/ZZ4qgmUagKlmkCpJlCqCZRqAqWaQKkmUKoJlGoCpZpAqSZQqgmUagKlmkCpJlCqCZRqAqWaQKkmUKoJlGoCpZpAqSZQqgmUagKlmkCpJlCqCZRq/wKda5Rzp/62cgAAAABJRU5ErkJggg==",
           "type": "image"
          },
          {
           "name": "26",
           "source": "data:image/png;base64,iVBORw0KGgoAAAANSUhEUgAAAOAAAADgCAIAAACVT/22AAAEdUlEQVR4Xu3c4TEkWxzG4detDQNxsHm4EUiAG8eSgAjIA3EgD/fDFHd0XY1Z0+e1nqd8mPqv7lKzP33aoXrn+Pg4UGvbgTr/POef99d0AE0ESjWBUk2gVBMo1QRKNYFSTaBUEyjVBEo1gVJNoFQTKNUESjWBUk2gVBMo1QRKNYFSTaBUEyjVBEo1gVJNoFQTKNUESjWBUk2gVBMo1QRKtZ1tPz4Pfsu2A3X+ec4/zxJPNYFSTaBUEyjVBEo1gVJNoFQTKNUESjWBUk2gVBMo1QRKNYFSTaBUEyjVBEo1gVJNoFQTKNUESjWBUk2gVBMo1QRKNYFSTaBUEyjVBEo1gVLN80Hptu1AnX+e88+zxFNNoFQTKNUESjWBUk2gVBMo1QRKNYFSTaBUEyjVBEo1gVJNoFQTKNUESjWBUk2gVBMo1QRKNYFSTaBUEyjVBEo1gVJNoFQTKNUESjWBUk2gVPN8UKq5glJNoFQTKNUESjWBUk2gVBMo1QRKNYFSTaBUEyjVBEo1gVJNoFQTKNUESjWBUk2gVBMo1QRKNYFSTaBUEyjVBEo1gVJNoFQTKNUESjWBUk2gVBMo1QRKtR/TwRZcXFxMR5/n+PjY+WcscP7p6FO5glJNoDzZTX4lj08fd8mvZHf6WQsTKEmSo+Q6OV2b7CWnyfXgRgXK07VzbzpOkr3kejpbUkegB8llcv20uFwnl8nB9LPYlpNX6lzZS06ms8WMDvQguUtukqPk8Gl4mBwlN8mdTBexvrKfJTvJTnK1Njxae72soYGeJDdvfe/ejPz2/Y7+eXqxXu3ztWNx4wI9Sc6ms/93ptHva1CgB++uc+XMWr+UyyTJ7sv/oJu118saFOjqXfiQDQ7hndZbPEoek/uX953r96PLGhHowex952v2XES35jy5n87+c5+cT2eLGRHo+t33h2x8IPMekp+vNHqf/JzOljQi0I1/M7Hxgbxp1ejkB4PTZD95eDlc1ohAN96z2PhA3uNhbY9pZdzK/mxEoPBuIwLdeM9i4wP5skYEuvE9zcYH8mWNCPRDW/TrNj6Qec9/A/o4/ZfhRgR6+8qOxrz75HY64483ItAkf08Hb9vgEN5p9edLq48ygwK9/eCu+6nL5zc1KNAk5+9u9LRiQ44hxgWa5Dw5nL0fvU8O1fmtDQ00yW2ynxwmV2vbnDfJVXKY7FvZv7slHtzwtls/Aw3Vt7v0bPQVFGZ1XEEZq2936ZkrKNUESjWBUm1n24/Pg9/xI9t/fud09NV4f+Zt9f2xxFNNoFQTKNUESjWBUk2gVBMo1QRKNYFSTaBUEyjVBEo1gVJNoFQTKNUESjWBUk2gVBMo1QRKNYFSTaBUEyjVBEo1gVJNoFQTKNUESjWBUk2gVPN8UKr9Cc8H3fbX/9XPPx19tq1+/ZZ4qgmUagKlmkCpJlCqCZRqAqWaQKkmUKoJlGoCpZpAqSZQqgmUagKlmkCpJlCqCZRqAqWaQKkmUKoJlGoCpZpAqSZQqgmUagKlmkCpJlCqCZRq/wKda5Rzp/62cgAAAABJRU5ErkJggg==",
           "type": "image"
          },
          {
           "name": "27",
           "source": "data:image/png;base64,iVBORw0KGgoAAAANSUhEUgAAAOAAAADgCAIAAACVT/22AAAEcUlEQVR4Xu3c3VEUaRiA0ZctwxDjAPNgIyAB2TiEBIxA8wDiEPNwLyjcsXcZZH6Yx+Wc4mLqle6iup7qr/mk+uj8/Hwga9+BOv96zr/eH8sBlAiUNIGSJlDSBEqaQEkTKGkCJU2gpAmUNIGSJlDSBEqaQEkTKGkCJU2gpAmUNIGSJlDSBEqaQEkTKGkCJU2gpAmUNIGSJlDSBEqaQEk72vfr82Ar+w7U+ddz/vUs8aQJlDSBkiZQ0gRKmkBJEyhpAiVNoKQJlDSBkiZQ0gRKmkBJEyhpAiVNoKQJlDSBkiZQ0gRKmkBJEyhpAiVNoKQJlDSBkiZQ0gRKmkBJ835Q2vYdqPOv5/zrWeJJEyhpAiVNoKQJlDSBkiZQ0gRKmkBJEyhpAiVNoKQJlDSBkiZQ0gRKmkBJEyhpAiVNoKQJlDSBkiZQ0gRKmkBJEyhpAiVNoKQJlDSBkub9oKS5g5ImUNIESppASRMoaQIlTaCkCZQ0gZImUNIESppASRMoaQIlTaCkCZQ0gZImUNIESppASRMoaQIlTaCkCZQ0gZImUNIESppASRMoaQIlTaCkCZS0N8vBHnz69Gk52p3z83PnX+MFzr8c7ZQ7KGmlQN/OfJz5/vD1debjzNvld/GqZAI9m7meuViZHM9czFxr9FVrBHp/7zxejmdmjmeulzNej0agHx6p897xzIfljF06mfk8c/3wcHU983nmZPldB9EIdHVlv5w5mjma+bIyPFv5zA6dzHyduZk5mzl9GJ7OnM3czHw9fKaNQFf99fBhtdof144d+jBz89TadXPg5asXKC/jw8zlcvbfLg/ZaC/QzzMz8/bny3ez8pntnfxynfcuD7bWNwJdvVhnM99n7n5+7lx9HmV793eBZ9ngkF1oBHo1c7ec/eNu5mo5Y3Mna587H3N8mJtoI9BvM+8fafRu5v1yxlZWf/t8lo0P3EIj0HlodPFgdDHzbubbz0O2tPH/zG184BYygc7Mt5U9pntW9n3YeM9u4wO3UAoU/kWgr8/Ge3YbH7gFgb4+Gz/Tb3zgFhqB/vgb0O/Lf2H3nrVFv2rjA7fQCJSXdPvIjt56dzO3y9kLaAR6/+dL91+8gD+Xg6dtcMguNALlhd0+c9f94jC3zxHo63X1y41eHHJDWqCv2NXM6drn0buZ00PWOQJ97W5n3s2cznxZ2ea8mfkyczrz7mAr+w8v8eKGp9ldOqzbg/0O9CR3UNIad1C7SzzCHZQ0gZImUNKO9v36PNjGm9n/+zuXo9+N67PeXq+PJZ40gZImUNIESppASRMoaQIlTaCkCZQ0gZImUNIESppASRMoaQIlTaCkCZQ0gZImUNIESppASRMoaQIlTaCkCZQ0gZImUNIESppASRMoad4PStr/4f2g+/75f/fzL0e7ttef3xJPmkBJEyhpAiVNoKQJlDSBkiZQ0gRKmkBJEyhpAiVNoKQJlDSBkiZQ0gRKmkBJEyhpAiVNoKQJlDSBkiZQ0gRKmkBJEyhpAiVNoKQJlLS/AfTVlHOKn+cSAAAAAElFTkSuQmCC",
           "type": "image"
          }
         ],
         "layout": {
          "margin": {
           "t": 60
          }
         },
         "name": "6"
        },
        {
         "data": [
          {
           "name": "28",
           "source": "data:image/png;base64,iVBORw0KGgoAAAANSUhEUgAAAOAAAADgCAIAAACVT/22AAAEZ0lEQVR4Xu3c3U0cSRhA0Y+VwzCOA5wHGwEJwMZhSMAR2HkAcRjn4X1AeMe9y2Dmh7krzhEPo4IuoeGqqilQH52fnw9k7TtQ869n/vX+WA5AiUBJEyhpAiVNoKQJlDSBkiZQ0gRKmkBJEyhpAiVNoKQJlDSBkiZQ0gRKmkBJEyhpAiVNoKQJlDSBkiZQ0gRKmkBJEyhpAiVNoKQJlLSjfT8+D7ay70DNv57517PFkyZQ0gRKmkBJEyhpAiVNoKQJlDSBkiZQ0gRKmkBJEyhpAiVNoKQJlDSBkiZQ0gRKmkBJEyhpAiVNoKQJlDSBkiZQ0gRKmkBJEyhpAiXN80Fp23eg5l/P/OvZ4kkTKGkCJU2gpAmUNIGSJlDSBEqaQEkTKGkCJU2gpAmUNIGSJlDSBEqaQEkTKGkCJU2gpAmUNIGSJlDSBEqaQEkTKGkCJU2gpAmUNIGS5vmgtO07UPOvZ/71bPGkCZQ0gZImUNIESppASRMoaQIlTaCkCZQ0gZImUNIESppASRMoaQIlTaCkCZQ0gZImUNIESppASRMoaQIlTaCkCZQ0gZImUNIESppASfN8UNKsoKQJlDSBkiZQ0gRKmkBJEyhpAiVNoKQJlDSBkiZQ0gRKmkBJEyhpAiVNoKQJlDSBkiZQ0gRKmkBJEyhpAiVNoKQJlDSBkiZQ0gRKmkBJEyhpAiXt3XJgDz5//rwc2p3z83Pzr/EK8y+HdsoKSlop0Pczn2Z+PH58m/k08375VbwpmUDPZm5mLldGjmcuZ240+qY1An1YO4+XwzMzxzM3yzHejkagF0/U+eB45mI5xi6dzHyZuXm8ubqZ+TJzsvyqg2gEurqzX80czRzNfF0ZPFt5zQ6dzHybuZ05mzl9HDydOZu5nfl2+Ewbga766/HFarU/3zt26GLm9rm96/bA21cvUF7HxczVcuy/XR2y0V6gX2Zm5v2vb9/tymu2d/LbdT64Othe3wh09c06m/kxc//rfefq/Sjbe1gFXmSDS3ahEej1zP1y7B/3M9fLMTZ3sva+8ynHh1lEG4F+n/n4RKP3Mx+XY2xl9bfPF9n4wi00Ap3HRhc3RpczH2a+/zrIljb+y9zGF24hE+jMfF85Y3pgZ9+Hjc/sNr5wC6VA4V8E+vZsfGa38YVbEOjbs/E9/cYXbqER6M//Af2x/Ay796Ij+lUbX7iFRqC8prsnTvTWu5+5W469gkagD/++9PDBK/hzOfC8DS7ZhUagvLK7F566Xx5m+RyBvl3Xv93o5SEPpAX6hl3PnK69H72fOT1knSPQt+5u5sPM6czXlWPO25mvM6czHw62s//0Gg9ueJ7TpcO6O9jvQM+ygpLWWEGdLvEEKyhpAiVNoKQd7fvxebCNd/P/f37ncmjXfP9r7Pvna4snTaCkCZQ0gZImUNIESppASRMoaQIlTaCkCZQ0gZImUNIESppASRMoaQIlTaCkCZQ0gZImUNIESppASRMoaQIlTaCkCZQ0gZImUNIEStrfkrKUz3Ns5eAAAAAASUVORK5CYII=",
           "type": "image"
          },
          {
           "name": "29",
           "source": "data:image/png;base64,iVBORw0KGgoAAAANSUhEUgAAAOAAAADgCAIAAACVT/22AAAEaklEQVR4Xu3c4TEtSQCG4c/WDQNxcPOwEUiAG8clARGQB+JAHvbHKfaYWoNznenPep7y41QzXYpX92hqdo6PjwO1th2o+eeZf95f0wFoIlCqCZRqAqWaQKkmUKoJlGoCpZpAqSZQqgmUagKlmkCpJlCqCZRqAqWaQKkmUKoJlGoCpZpAqSZQqgmUagKlmkCpJlCqCZRqAqWaQKkmUKrtbPvxefBHth2o+eeZf54tnmoCpZpAqSZQqgmUagKlmkCpJlCqCZRqAqWaQKkmUKoJlGoCpZpAqSZQqgmUagKlmkCpJlCqCZRqAqWaQKkmUKoJlGoCpZpAqSZQqgmUagKlmueD0m3bgZp/nvnn2eKpJlCqCZRqAqWaQKkmUKoJlGoCpZpAqSZQqgmUagKlmkCpJlCqCZRqAqWaQKkmUKoJlGoCpZpAqSZQqgmUagKlmkCpJlCqCZRqAqWaQKkmUKp5Pijdth2o+eeZf54tnmoCpZpAqSZQqgmUagKlmkCpJlCqCZRqAqWaQKkmUKoJlGoCpZpAqSZQqgmUagKlmkCpJlCqCZRqAqWaQKkmUKoJlGoCpZpAqSZQqgmUagKlmueDUs0KSjWBUk2gVBMo1QRKNYFSTaBUEyjVBEo1gVJNoFQTKNUESjWBUk2gVBMo1QRKNYFSTaBUEyjVBEo1gVJNoFQTKNUESjWBUk2gVBMo1QRKNYFSTaBUEyjVfkwHtuDi4mI69HmOj4/NP2OB+adDn8oKSjWB8mQ3+Z08Pr3dJb+T3elHLUygJEmOkuvkdG1kLzlNrgc3KlCe1s696XCS7CXX07EldQR6kFwm10+by3VymRxMP4ptOXmlzpW95GQ6tpjRgR4kd8lNcpQcPg0eJkfJTXIn00Ws7+xnyU6yk1ytDR6tvV7W0EBPkpu3fnZvRv74fke/nl6sV/u8dixuXKAnydl07L+dafT7GhTowbvrXDmz1y/lMkmy+/IbdLP2elmDAl19FT5kg0t4p/UWj5LH5P7lfef6/eiyRgR6MHvf+Zo9i+jWnCf307F/3Sfn07HFjAh0/e77Qza+kHkPyc9XGr1Pfk7HljQi0I3/MrHxhbxp1ejkF4PTZD95eDm4rBGBbnxmsfGFvMfD2hnTyrid/dmIQOHdRgS68ZnFxhfyZY0IdON7mo0v5MsaEeiHjujXbXwh857/B/Rx+p7hRgR6+8qJxrz75HY6xv/eiECT/D0deNsGl/BOq39fWr2VGRTo7QdP3U8tn9/UoECTnL+70dOKAzmGGBdokvPkcPZ+9D45VOe3NjTQJLfJfnKYXK0dc94kV8lhsm9n/+6WeHDD2279DjRU3+nSs9ErKMzqWEEZq+906ZkVlGoCpZpAqbaz7cfnwZ/4ka///M7p0Gfz+c/Y9vfXFk81gVJNoFQTKNUESjWBUk2gVBMo1QRKNYFSTaBUEyjVBEo1gVJNoFQTKNUESjWBUk2gVBMo1QRKNYFSTaBUEyjVBEo1gVJNoFQTKNUESjWBUu0fO0iUz44D2QoAAAAASUVORK5CYII=",
           "type": "image"
          },
          {
           "name": "30",
           "source": "data:image/png;base64,iVBORw0KGgoAAAANSUhEUgAAAOAAAADgCAIAAACVT/22AAAEaklEQVR4Xu3c4TEtSQCG4c/WDQNxcPOwEUiAG8clARGQB+JAHvbHKfaYWoNznenPep7y41QzXYpX92hqdo6PjwO1th2o+eeZf95f0wFoIlCqCZRqAqWaQKkmUKoJlGoCpZpAqSZQqgmUagKlmkCpJlCqCZRqAqWaQKkmUKoJlGoCpZpAqSZQqgmUagKlmkCpJlCqCZRqAqWaQKkmUKrtbPvxefBHth2o+eeZf54tnmoCpZpAqSZQqgmUagKlmkCpJlCqCZRqAqWaQKkmUKoJlGoCpZpAqSZQqgmUagKlmkCpJlCqCZRqAqWaQKkmUKoJlGoCpZpAqSZQqgmUagKlmueD0m3bgZp/nvnn2eKpJlCqCZRqAqWaQKkmUKoJlGoCpZpAqSZQqgmUagKlmkCpJlCqCZRqAqWaQKkmUKoJlGoCpZpAqSZQqgmUagKlmkCpJlCqCZRqAqWaQKkmUKp5Pijdth2o+eeZf54tnmoCpZpAqSZQqgmUagKlmkCpJlCqCZRqAqWaQKkmUKoJlGoCpZpAqSZQqgmUagKlmkCpJlCqCZRqAqWaQKkmUKoJlGoCpZpAqSZQqgmUagKlmueDUs0KSjWBUk2gVBMo1QRKNYFSTaBUEyjVBEo1gVJNoFQTKNUESjWBUk2gVBMo1QRKNYFSTaBUEyjVBEo1gVJNoFQTKNUESjWBUk2gVBMo1QRKNYFSTaBUEyjVfkwHtuDi4mI69HmOj4/NP2OB+adDn8oKSjWB8mQ3+Z08Pr3dJb+T3elHLUygJEmOkuvkdG1kLzlNrgc3KlCe1s696XCS7CXX07EldQR6kFwm10+by3VymRxMP4ptOXmlzpW95GQ6tpjRgR4kd8lNcpQcPg0eJkfJTXIn00Ws7+xnyU6yk1ytDR6tvV7W0EBPkpu3fnZvRv74fke/nl6sV/u8dixuXKAnydl07L+dafT7GhTowbvrXDmz1y/lMkmy+/IbdLP2elmDAl19FT5kg0t4p/UWj5LH5P7lfef6/eiyRgR6MHvf+Zo9i+jWnCf307F/3Sfn07HFjAh0/e77Qza+kHkPyc9XGr1Pfk7HljQi0I3/MrHxhbxp1ejkF4PTZD95eDm4rBGBbnxmsfGFvMfD2hnTyrid/dmIQOHdRgS68ZnFxhfyZY0IdON7mo0v5MsaEeiHjujXbXwh857/B/Rx+p7hRgR6+8qJxrz75HY6xv/eiECT/D0deNsGl/BOq39fWr2VGRTo7QdP3U8tn9/UoECTnL+70dOKAzmGGBdokvPkcPZ+9D45VOe3NjTQJLfJfnKYXK0dc94kV8lhsm9n/+6WeHDD2279DjRU3+nSs9ErKMzqWEEZq+906ZkVlGoCpZpAqbaz7cfnwZ/4ka///M7p0Gfz+c/Y9vfXFk81gVJNoFQTKNUESjWBUk2gVBMo1QRKNYFSTaBUEyjVBEo1gVJNoFQTKNUESjWBUk2gVBMo1QRKNYFSTaBUEyjVBEo1gVJNoFQTKNUESjWBUu0fO0iUz44D2QoAAAAASUVORK5CYII=",
           "type": "image"
          },
          {
           "name": "31",
           "source": "data:image/png;base64,iVBORw0KGgoAAAANSUhEUgAAAOAAAADgCAIAAACVT/22AAAEZ0lEQVR4Xu3c3U0cSRhA0Y+VwzCOA5wHGwEJwMZhSMAR2HkAcRjn4X1AeMe9y2Dmh7krzhEPo4IuoeGqqilQH52fnw9k7TtQ869n/vX+WA5AiUBJEyhpAiVNoKQJlDSBkiZQ0gRKmkBJEyhpAiVNoKQJlDSBkiZQ0gRKmkBJEyhpAiVNoKQJlDSBkiZQ0gRKmkBJEyhpAiVNoKQJlLSjfT8+D7ay70DNv57517PFkyZQ0gRKmkBJEyhpAiVNoKQJlDSBkiZQ0gRKmkBJEyhpAiVNoKQJlDSBkiZQ0gRKmkBJEyhpAiVNoKQJlDSBkiZQ0gRKmkBJEyhpAiXN80Fp23eg5l/P/OvZ4kkTKGkCJU2gpAmUNIGSJlDSBEqaQEkTKGkCJU2gpAmUNIGSJlDSBEqaQEkTKGkCJU2gpAmUNIGSJlDSBEqaQEkTKGkCJU2gpAmUNIGS5vmgtO07UPOvZ/71bPGkCZQ0gZImUNIESppASRMoaQIlTaCkCZQ0gZImUNIESppASRMoaQIlTaCkCZQ0gZImUNIESppASRMoaQIlTaCkCZQ0gZImUNIESppASfN8UNKsoKQJlDSBkiZQ0gRKmkBJEyhpAiVNoKQJlDSBkiZQ0gRKmkBJEyhpAiVNoKQJlDSBkiZQ0gRKmkBJEyhpAiVNoKQJlDSBkiZQ0gRKmkBJEyhpAiXt3XJgDz5//rwc2p3z83Pzr/EK8y+HdsoKSlop0Pczn2Z+PH58m/k08375VbwpmUDPZm5mLldGjmcuZ240+qY1An1YO4+XwzMzxzM3yzHejkagF0/U+eB45mI5xi6dzHyZuXm8ubqZ+TJzsvyqg2gEurqzX80czRzNfF0ZPFt5zQ6dzHybuZ05mzl9HDydOZu5nfl2+Ewbga766/HFarU/3zt26GLm9rm96/bA21cvUF7HxczVcuy/XR2y0V6gX2Zm5v2vb9/tymu2d/LbdT64Othe3wh09c06m/kxc//rfefq/Sjbe1gFXmSDS3ahEej1zP1y7B/3M9fLMTZ3sva+8ynHh1lEG4F+n/n4RKP3Mx+XY2xl9bfPF9n4wi00Ap3HRhc3RpczH2a+/zrIljb+y9zGF24hE+jMfF85Y3pgZ9+Hjc/sNr5wC6VA4V8E+vZsfGa38YVbEOjbs/E9/cYXbqER6M//Af2x/Ay796Ij+lUbX7iFRqC8prsnTvTWu5+5W469gkagD/++9PDBK/hzOfC8DS7ZhUagvLK7F566Xx5m+RyBvl3Xv93o5SEPpAX6hl3PnK69H72fOT1knSPQt+5u5sPM6czXlWPO25mvM6czHw62s//0Gg9ueJ7TpcO6O9jvQM+ygpLWWEGdLvEEKyhpAiVNoKQd7fvxebCNd/P/f37ncmjXfP9r7Pvna4snTaCkCZQ0gZImUNIESppASRMoaQIlTaCkCZQ0gZImUNIESppASRMoaQIlTaCkCZQ0gZImUNIESppASRMoaQIlTaCkCZQ0gZImUNIEStrfkrKUz3Ns5eAAAAAASUVORK5CYII=",
           "type": "image"
          }
         ],
         "layout": {
          "margin": {
           "t": 60
          }
         },
         "name": "7"
        },
        {
         "data": [
          {
           "name": "32",
           "source": "data:image/png;base64,iVBORw0KGgoAAAANSUhEUgAAAOAAAADgCAIAAACVT/22AAAEXUlEQVR4Xu3c3U1bSRiA4Y/VlhFSB6QPtgIaCFtHoIFUkPQB1BHSR/YCkXXOLib4B7+Sn0dcWIPPXFivZo4HdE4uLy8HsvYdqPnXM/96fywHoESgpAmUNIGSJlDSBEqaQEkTKGkCJU2gpAmUNIGSJlDSBEqaQEkTKGkCJU2gpAmUNIGSJlDSBEqaQEkTKGkCJU2gpAmUNIGSJlDSBErayb4fnwdb2Xeg5l/P/OvZ4kkTKGkCJU2gpAmUNIGSJlDSBEqaQEkTKGkCJU2gpAmUNIGSJlDSBEqaQEkTKGkCJU2gpAmUNIGSJlDSBEqaQEkTKGkCJU2gpAmUNIGS5vmgtO07UPOvZ/71bPGkCZQ0gZImUNIESppASRMoaQIlTaCkCZQ0gZImUNIESppASRMoaQIlTaCkCZQ0gZImUNIESppASRMoaQIlTaCkCZQ0gZImUNIESppASfN8UNr2Haj51zP/erZ40gRKmkBJEyhpAiVNoKQJlDSBkiZQ0gRKmkBJEyhpAiVNoKQJlDSBkiZQ0gRKmkBJEyhpAiVNoKQJlDSBkiZQ0gRKmkBJEyhpAiVNoKR5Piht+w7U/OuZfz1bPGkCJU2gpAmUNIGSJlDSBEqaQEkTKGkCJU2gpAmUNIGSJlDSBEqaQEkTKGkCJU2gpAmUNIGSJlDSBEqaQEkTKGkCJU2gpAmUNIGSJlDSPB+UNCsoaQIlTaCkCZQ0gZImUNIESppASRMoaQIlTaCkCZQ0gZImUNIESppASRMoaQIlTaCkCZQ0gZImUNIESppASRMoaQIlTaCkCZQ0gZImUNIESppASftzObAHnz9/Xg7tzuXlpfnXeIP5l0M7ZQUlrRTou5lPMz+efr7NfJp5t3wXRyUT6MXM7czVysjpzNXMrUaPWiPQx7XzdDk8M3M6c7sc43g0Av34TJ2PTmc+LsfYpbOZLzO3TzdXtzNfZs6W7zqIRqCrO/v1zMnMyczXlcGLldfs0NnMt5m7mYuZ86fB85mLmbuZb4fPtBHoqr+fXqxW+/OzY4c+zty9tHfdHXj76gXK2/g4c70c+3/Xh2y0F+iXmZl59+vHd7fymu2d/Xadj64Pttc3Al39sC5mfsw8/HrfuXo/yvYeV4FX2eCSXWgEejPzsBz718PMzXKMzZ2tve98zulhFtFGoN9nPjzT6MPMh+UYW1n99vkqG1+4hUag89To4sboaub9zPdfB9nSxn+Z2/jCLWQCnZnvK2dMj+zs+7Dxmd3GF26hFCj8h0CPz8ZndhtfuAWBHp+N7+k3vnALjUB//g/oj+Vv2L1XHdGv2vjCLTQC5S3dP3Oit97DzP1y7A00An3896XHH97AX8uBl21wyS40AuWN3b/y1P3qMMvnCPR43fx2o1eHPJAW6BG7mTlfez/6MHN+yDpHoMfufub9zPnM15VjzruZrzPnM+8PtrP/9BYPbniZ06XDuj/Yd6AXWUFJa6ygTpd4hhWUNIGSJlDS/gGVB48rdMwvRQAAAABJRU5ErkJggg==",
           "type": "image"
          },
          {
           "name": "33",
           "source": "data:image/png;base64,iVBORw0KGgoAAAANSUhEUgAAAOAAAADgCAIAAACVT/22AAAEYUlEQVR4Xu3c0VEjRwBF0YfLYcDGAZsHjoAEYONYSIAIIA9EHIg88IcKLKbMAPJq+q05p/hQNUx/wKV71FBzcHZ2Fqi170DNP8/88/6YDkATgVJNoFQTKNUESjWBUk2gVBMo1QRKNYFSTaBUEyjVBEo1gVJNoFQTKNUESjWBUk2gVBMo1QRKNYFSTaBUEyjVBEo1gVJNoFQTKNUESjWBUu1g34/Pg/9k34Gaf57559niqSZQqgmUagKlmkCpJlCqCZRqAqWaQKkmUKoJlGoCpZpAqSZQqgmUagKlmkCpJlCqCZRqAqWaQKkmUKoJlGoCpZpAqSZQqgmUagKlmkCpJlCqeT4o3fYdqPnnmX+eLZ5qAqWaQKkmUKoJlGoCpZpAqSZQqgmUagKlmkCpJlCqCZRqAqWaQKkmUKoJlGoCpZpAqSZQqgmUagKlmkCpJlCqCZRqAqWaQKkmUKoJlGoCpZrng9Jt34Gaf57559niqSZQqgmUagKlmkCpJlCqCZRqAqWaQKkmUKoJlGoCpZpAqSZQqgmUagKlmkCpJlCqCZRqAqWaQKkmUKoJlGoCpZpAqSZQqgmUagKlmkCpJlCqeT4o3fYdqPnnmX+eLZ5qAqWaQKkmUKoJlGoCpZpAqSZQqgmUagKlmkCpJlCqCZRqAqWaQKkmUKoJlGoCpZpAqSZQqgmUagKlmkCpJlCqCZRqAqWaQKkmUKoJlGoCpZrng1LNCko1gVJNoFQTKNUESjWBUk2gVBMo1QRKNYFSTaBUEyjVBEo1gVJNoFQTKNUESjWBUk2gVBMo1QRKNYFSTaBUEyjVBEo1gVJNoFQTKNUESjWBUk2gVBMo1f6cDuzB9fX1dOjXOTs7M/+MBeafDv1SVlCqCZRnh8nP5On54yH5mRxOv2phAiVJcprcJRdbI0fJRXI3uFGB8rx2Hk2Hk+QouZuOLakj0OPkJrl73lzukpvkePpV7Mv5G3VuHCXn07HFjA70OHlIVslpcvI8eJKcJqvkQaaL2N7ZL5OD5CC53Ro83Xq9rKGBnier9353VyN/fb+iH88vtqt9WTsWNy7Q8+RyOvbvLjX6dQ0K9PjDdW5c2uuXcpMkOXz9A1ptvV7WoEA334VP2eESPmi7xdPkKVm/vu/cvh9d1ohAj2fvO99yZBHdm6tkPR37xzq5mo4tZkSg23ffn7Lzhcx7TL6/0eg6+T4dW9KIQHf+y8TOF/KuTaOTNwYXybfk8fXgskYEuvOZxc4X8hGPW2dMG+N29hcjAoUPGxHozmcWO1/Ib2tEoDvf0+x8Ib+tEYF+6oh+284XMu/lf0Cfpp8ZbkSg92+caMxbJ/fTMf73RgSa5K/pwPt2uIQP2vz70uajzKBA7z956n5h+fyiBgWa5OrDjV5UHMgxxLhAk1wlJ7P3o+vkRJ1f2tBAk9wn35KT5HbrmHOV3CYnyTc7+1e3xIMb3nfvPdBQfadLL0avoDCrYwVlrL7TpRdWUKoJlGoCpdrfPZ2PKz3yg+4AAAAASUVORK5CYII=",
           "type": "image"
          },
          {
           "name": "34",
           "source": "data:image/png;base64,iVBORw0KGgoAAAANSUhEUgAAAOAAAADgCAIAAACVT/22AAAEYUlEQVR4Xu3c0VEjRwBF0YfLYcDGAZsHjoAEYONYSIAIIA9EHIg88IcKLKbMAPJq+q05p/hQNUx/wKV71FBzcHZ2Fqi170DNP8/88/6YDkATgVJNoFQTKNUESjWBUk2gVBMo1QRKNYFSTaBUEyjVBEo1gVJNoFQTKNUESjWBUk2gVBMo1QRKNYFSTaBUEyjVBEo1gVJNoFQTKNUESjWBUu1g34/Pg/9k34Gaf57559niqSZQqgmUagKlmkCpJlCqCZRqAqWaQKkmUKoJlGoCpZpAqSZQqgmUagKlmkCpJlCqCZRqAqWaQKkmUKoJlGoCpZpAqSZQqgmUagKlmkCpJlCqeT4o3fYdqPnnmX+eLZ5qAqWaQKkmUKoJlGoCpZpAqSZQqgmUagKlmkCpJlCqCZRqAqWaQKkmUKoJlGoCpZpAqSZQqgmUagKlmkCpJlCqCZRqAqWaQKkmUKoJlGoCpZrng9Jt34Gaf57559niqSZQqgmUagKlmkCpJlCqCZRqAqWaQKkmUKoJlGoCpZpAqSZQqgmUagKlmkCpJlCqCZRqAqWaQKkmUKoJlGoCpZpAqSZQqgmUagKlmkCpJlCqeT4o3fYdqPnnmX+eLZ5qAqWaQKkmUKoJlGoCpZpAqSZQqgmUagKlmkCpJlCqCZRqAqWaQKkmUKoJlGoCpZpAqSZQqgmUagKlmkCpJlCqCZRqAqWaQKkmUKoJlGoCpZrng1LNCko1gVJNoFQTKNUESjWBUk2gVBMo1QRKNYFSTaBUEyjVBEo1gVJNoFQTKNUESjWBUk2gVBMo1QRKNYFSTaBUEyjVBEo1gVJNoFQTKNUESjWBUk2gVBMo1f6cDuzB9fX1dOjXOTs7M/+MBeafDv1SVlCqCZRnh8nP5On54yH5mRxOv2phAiVJcprcJRdbI0fJRXI3uFGB8rx2Hk2Hk+QouZuOLakj0OPkJrl73lzukpvkePpV7Mv5G3VuHCXn07HFjA70OHlIVslpcvI8eJKcJqvkQaaL2N7ZL5OD5CC53Ro83Xq9rKGBnier9353VyN/fb+iH88vtqt9WTsWNy7Q8+RyOvbvLjX6dQ0K9PjDdW5c2uuXcpMkOXz9A1ptvV7WoEA334VP2eESPmi7xdPkKVm/vu/cvh9d1ohAj2fvO99yZBHdm6tkPR37xzq5mo4tZkSg23ffn7Lzhcx7TL6/0eg6+T4dW9KIQHf+y8TOF/KuTaOTNwYXybfk8fXgskYEuvOZxc4X8hGPW2dMG+N29hcjAoUPGxHozmcWO1/Ib2tEoDvf0+x8Ib+tEYF+6oh+284XMu/lf0Cfpp8ZbkSg92+caMxbJ/fTMf73RgSa5K/pwPt2uIQP2vz70uajzKBA7z956n5h+fyiBgWa5OrDjV5UHMgxxLhAk1wlJ7P3o+vkRJ1f2tBAk9wn35KT5HbrmHOV3CYnyTc7+1e3xIMb3nfvPdBQfadLL0avoDCrYwVlrL7TpRdWUKoJlGoCpdrfPZ2PKz3yg+4AAAAASUVORK5CYII=",
           "type": "image"
          },
          {
           "name": "35",
           "source": "data:image/png;base64,iVBORw0KGgoAAAANSUhEUgAAAOAAAADgCAIAAACVT/22AAAEXUlEQVR4Xu3c3U1bSRiA4Y/VlhFSB6QPtgIaCFtHoIFUkPQB1BHSR/YCkXXOLib4B7+Sn0dcWIPPXFivZo4HdE4uLy8HsvYdqPnXM/96fywHoESgpAmUNIGSJlDSBEqaQEkTKGkCJU2gpAmUNIGSJlDSBEqaQEkTKGkCJU2gpAmUNIGSJlDSBEqaQEkTKGkCJU2gpAmUNIGSJlDSBErayb4fnwdb2Xeg5l/P/OvZ4kkTKGkCJU2gpAmUNIGSJlDSBEqaQEkTKGkCJU2gpAmUNIGSJlDSBEqaQEkTKGkCJU2gpAmUNIGSJlDSBEqaQEkTKGkCJU2gpAmUNIGS5vmgtO07UPOvZ/71bPGkCZQ0gZImUNIESppASRMoaQIlTaCkCZQ0gZImUNIESppASRMoaQIlTaCkCZQ0gZImUNIESppASRMoaQIlTaCkCZQ0gZImUNIESppASfN8UNr2Haj51zP/erZ40gRKmkBJEyhpAiVNoKQJlDSBkiZQ0gRKmkBJEyhpAiVNoKQJlDSBkiZQ0gRKmkBJEyhpAiVNoKQJlDSBkiZQ0gRKmkBJEyhpAiVNoKR5Piht+w7U/OuZfz1bPGkCJU2gpAmUNIGSJlDSBEqaQEkTKGkCJU2gpAmUNIGSJlDSBEqaQEkTKGkCJU2gpAmUNIGSJlDSBEqaQEkTKGkCJU2gpAmUNIGSJlDSPB+UNCsoaQIlTaCkCZQ0gZImUNIESppASRMoaQIlTaCkCZQ0gZImUNIESppASRMoaQIlTaCkCZQ0gZImUNIESppASRMoaQIlTaCkCZQ0gZImUNIESppASftzObAHnz9/Xg7tzuXlpfnXeIP5l0M7ZQUlrRTou5lPMz+efr7NfJp5t3wXRyUT6MXM7czVysjpzNXMrUaPWiPQx7XzdDk8M3M6c7sc43g0Av34TJ2PTmc+LsfYpbOZLzO3TzdXtzNfZs6W7zqIRqCrO/v1zMnMyczXlcGLldfs0NnMt5m7mYuZ86fB85mLmbuZb4fPtBHoqr+fXqxW+/OzY4c+zty9tHfdHXj76gXK2/g4c70c+3/Xh2y0F+iXmZl59+vHd7fymu2d/Xadj64Pttc3Al39sC5mfsw8/HrfuXo/yvYeV4FX2eCSXWgEejPzsBz718PMzXKMzZ2tve98zulhFtFGoN9nPjzT6MPMh+UYW1n99vkqG1+4hUag89To4sboaub9zPdfB9nSxn+Z2/jCLWQCnZnvK2dMj+zs+7Dxmd3GF26hFCj8h0CPz8ZndhtfuAWBHp+N7+k3vnALjUB//g/oj+Vv2L1XHdGv2vjCLTQC5S3dP3Oit97DzP1y7A00An3896XHH97AX8uBl21wyS40AuWN3b/y1P3qMMvnCPR43fx2o1eHPJAW6BG7mTlfez/6MHN+yDpHoMfufub9zPnM15VjzruZrzPnM+8PtrP/9BYPbniZ06XDuj/Yd6AXWUFJa6ygTpd4hhWUNIGSJlDS/gGVB48rdMwvRQAAAABJRU5ErkJggg==",
           "type": "image"
          }
         ],
         "layout": {
          "margin": {
           "t": 60
          }
         },
         "name": "8"
        }
       ],
       "layout": {
        "annotations": [
         {
          "font": {},
          "showarrow": false,
          "text": "Key, Key-Ball",
          "x": 0.1175,
          "xanchor": "center",
          "xref": "paper",
          "y": 1,
          "yanchor": "bottom",
          "yref": "paper"
         },
         {
          "font": {},
          "showarrow": false,
          "text": "Key, Ball-Key",
          "x": 0.3725,
          "xanchor": "center",
          "xref": "paper",
          "y": 1,
          "yanchor": "bottom",
          "yref": "paper"
         },
         {
          "font": {},
          "showarrow": false,
          "text": "Ball, Ball-Key",
          "x": 0.6275,
          "xanchor": "center",
          "xref": "paper",
          "y": 1,
          "yanchor": "bottom",
          "yref": "paper"
         },
         {
          "font": {},
          "showarrow": false,
          "text": "Ball, Key-Ball",
          "x": 0.8824999999999998,
          "xanchor": "center",
          "xref": "paper",
          "y": 1,
          "yanchor": "bottom",
          "yref": "paper"
         }
        ],
        "font": {
         "size": 24
        },
        "margin": {
         "t": 60
        },
        "sliders": [
         {
          "active": 0,
          "currentvalue": {
           "prefix": "animation_frame="
          },
          "len": 0.9,
          "pad": {
           "b": 10,
           "t": 60
          },
          "steps": [
           {
            "args": [
             [
              "0"
             ],
             {
              "frame": {
               "duration": 0,
               "redraw": true
              },
              "fromcurrent": true,
              "mode": "immediate",
              "transition": {
               "duration": 0,
               "easing": "linear"
              }
             }
            ],
            "label": "0",
            "method": "animate"
           },
           {
            "args": [
             [
              "1"
             ],
             {
              "frame": {
               "duration": 0,
               "redraw": true
              },
              "fromcurrent": true,
              "mode": "immediate",
              "transition": {
               "duration": 0,
               "easing": "linear"
              }
             }
            ],
            "label": "1",
            "method": "animate"
           },
           {
            "args": [
             [
              "2"
             ],
             {
              "frame": {
               "duration": 0,
               "redraw": true
              },
              "fromcurrent": true,
              "mode": "immediate",
              "transition": {
               "duration": 0,
               "easing": "linear"
              }
             }
            ],
            "label": "2",
            "method": "animate"
           },
           {
            "args": [
             [
              "3"
             ],
             {
              "frame": {
               "duration": 0,
               "redraw": true
              },
              "fromcurrent": true,
              "mode": "immediate",
              "transition": {
               "duration": 0,
               "easing": "linear"
              }
             }
            ],
            "label": "3",
            "method": "animate"
           },
           {
            "args": [
             [
              "4"
             ],
             {
              "frame": {
               "duration": 0,
               "redraw": true
              },
              "fromcurrent": true,
              "mode": "immediate",
              "transition": {
               "duration": 0,
               "easing": "linear"
              }
             }
            ],
            "label": "4",
            "method": "animate"
           },
           {
            "args": [
             [
              "5"
             ],
             {
              "frame": {
               "duration": 0,
               "redraw": true
              },
              "fromcurrent": true,
              "mode": "immediate",
              "transition": {
               "duration": 0,
               "easing": "linear"
              }
             }
            ],
            "label": "5",
            "method": "animate"
           },
           {
            "args": [
             [
              "6"
             ],
             {
              "frame": {
               "duration": 0,
               "redraw": true
              },
              "fromcurrent": true,
              "mode": "immediate",
              "transition": {
               "duration": 0,
               "easing": "linear"
              }
             }
            ],
            "label": "6",
            "method": "animate"
           },
           {
            "args": [
             [
              "7"
             ],
             {
              "frame": {
               "duration": 0,
               "redraw": true
              },
              "fromcurrent": true,
              "mode": "immediate",
              "transition": {
               "duration": 0,
               "easing": "linear"
              }
             }
            ],
            "label": "7",
            "method": "animate"
           },
           {
            "args": [
             [
              "8"
             ],
             {
              "frame": {
               "duration": 0,
               "redraw": true
              },
              "fromcurrent": true,
              "mode": "immediate",
              "transition": {
               "duration": 0,
               "easing": "linear"
              }
             }
            ],
            "label": "8",
            "method": "animate"
           }
          ],
          "x": 0.1,
          "xanchor": "left",
          "y": 0,
          "yanchor": "top"
         }
        ],
        "template": {
         "data": {
          "candlestick": [
           {
            "decreasing": {
             "line": {
              "color": "#000033"
             }
            },
            "increasing": {
             "line": {
              "color": "#000032"
             }
            },
            "type": "candlestick"
           }
          ],
          "contour": [
           {
            "colorscale": [
             [
              0,
              "#000011"
             ],
             [
              0.1111111111111111,
              "#000012"
             ],
             [
              0.2222222222222222,
              "#000013"
             ],
             [
              0.3333333333333333,
              "#000014"
             ],
             [
              0.4444444444444444,
              "#000015"
             ],
             [
              0.5555555555555556,
              "#000016"
             ],
             [
              0.6666666666666666,
              "#000017"
             ],
             [
              0.7777777777777778,
              "#000018"
             ],
             [
              0.8888888888888888,
              "#000019"
             ],
             [
              1,
              "#000020"
             ]
            ],
            "type": "contour"
           }
          ],
          "contourcarpet": [
           {
            "colorscale": [
             [
              0,
              "#000011"
             ],
             [
              0.1111111111111111,
              "#000012"
             ],
             [
              0.2222222222222222,
              "#000013"
             ],
             [
              0.3333333333333333,
              "#000014"
             ],
             [
              0.4444444444444444,
              "#000015"
             ],
             [
              0.5555555555555556,
              "#000016"
             ],
             [
              0.6666666666666666,
              "#000017"
             ],
             [
              0.7777777777777778,
              "#000018"
             ],
             [
              0.8888888888888888,
              "#000019"
             ],
             [
              1,
              "#000020"
             ]
            ],
            "type": "contourcarpet"
           }
          ],
          "heatmap": [
           {
            "colorscale": [
             [
              0,
              "#000011"
             ],
             [
              0.1111111111111111,
              "#000012"
             ],
             [
              0.2222222222222222,
              "#000013"
             ],
             [
              0.3333333333333333,
              "#000014"
             ],
             [
              0.4444444444444444,
              "#000015"
             ],
             [
              0.5555555555555556,
              "#000016"
             ],
             [
              0.6666666666666666,
              "#000017"
             ],
             [
              0.7777777777777778,
              "#000018"
             ],
             [
              0.8888888888888888,
              "#000019"
             ],
             [
              1,
              "#000020"
             ]
            ],
            "type": "heatmap"
           }
          ],
          "histogram2d": [
           {
            "colorscale": [
             [
              0,
              "#000011"
             ],
             [
              0.1111111111111111,
              "#000012"
             ],
             [
              0.2222222222222222,
              "#000013"
             ],
             [
              0.3333333333333333,
              "#000014"
             ],
             [
              0.4444444444444444,
              "#000015"
             ],
             [
              0.5555555555555556,
              "#000016"
             ],
             [
              0.6666666666666666,
              "#000017"
             ],
             [
              0.7777777777777778,
              "#000018"
             ],
             [
              0.8888888888888888,
              "#000019"
             ],
             [
              1,
              "#000020"
             ]
            ],
            "type": "histogram2d"
           }
          ],
          "icicle": [
           {
            "textfont": {
             "color": "white"
            },
            "type": "icicle"
           }
          ],
          "sankey": [
           {
            "textfont": {
             "color": "#000036"
            },
            "type": "sankey"
           }
          ],
          "scatter": [
           {
            "marker": {
             "line": {
              "width": 0
             }
            },
            "type": "scatter"
           }
          ],
          "table": [
           {
            "cells": {
             "fill": {
              "color": "#000038"
             },
             "font": {
              "color": "#000037"
             },
             "line": {
              "color": "#000039"
             }
            },
            "header": {
             "fill": {
              "color": "#000040"
             },
             "font": {
              "color": "#000036"
             },
             "line": {
              "color": "#000039"
             }
            },
            "type": "table"
           }
          ],
          "waterfall": [
           {
            "connector": {
             "line": {
              "color": "#000036",
              "width": 2
             }
            },
            "decreasing": {
             "marker": {
              "color": "#000033"
             }
            },
            "increasing": {
             "marker": {
              "color": "#000032"
             }
            },
            "totals": {
             "marker": {
              "color": "#000034"
             }
            },
            "type": "waterfall"
           }
          ]
         },
         "layout": {
          "coloraxis": {
           "colorscale": [
            [
             0,
             "#000011"
            ],
            [
             0.1111111111111111,
             "#000012"
            ],
            [
             0.2222222222222222,
             "#000013"
            ],
            [
             0.3333333333333333,
             "#000014"
            ],
            [
             0.4444444444444444,
             "#000015"
            ],
            [
             0.5555555555555556,
             "#000016"
            ],
            [
             0.6666666666666666,
             "#000017"
            ],
            [
             0.7777777777777778,
             "#000018"
            ],
            [
             0.8888888888888888,
             "#000019"
            ],
            [
             1,
             "#000020"
            ]
           ]
          },
          "colorscale": {
           "diverging": [
            [
             0,
             "#000021"
            ],
            [
             0.1,
             "#000022"
            ],
            [
             0.2,
             "#000023"
            ],
            [
             0.3,
             "#000024"
            ],
            [
             0.4,
             "#000025"
            ],
            [
             0.5,
             "#000026"
            ],
            [
             0.6,
             "#000027"
            ],
            [
             0.7,
             "#000028"
            ],
            [
             0.8,
             "#000029"
            ],
            [
             0.9,
             "#000030"
            ],
            [
             1,
             "#000031"
            ]
           ],
           "sequential": [
            [
             0,
             "#000011"
            ],
            [
             0.1111111111111111,
             "#000012"
            ],
            [
             0.2222222222222222,
             "#000013"
            ],
            [
             0.3333333333333333,
             "#000014"
            ],
            [
             0.4444444444444444,
             "#000015"
            ],
            [
             0.5555555555555556,
             "#000016"
            ],
            [
             0.6666666666666666,
             "#000017"
            ],
            [
             0.7777777777777778,
             "#000018"
            ],
            [
             0.8888888888888888,
             "#000019"
            ],
            [
             1,
             "#000020"
            ]
           ],
           "sequentialminus": [
            [
             0,
             "#000011"
            ],
            [
             0.1111111111111111,
             "#000012"
            ],
            [
             0.2222222222222222,
             "#000013"
            ],
            [
             0.3333333333333333,
             "#000014"
            ],
            [
             0.4444444444444444,
             "#000015"
            ],
            [
             0.5555555555555556,
             "#000016"
            ],
            [
             0.6666666666666666,
             "#000017"
            ],
            [
             0.7777777777777778,
             "#000018"
            ],
            [
             0.8888888888888888,
             "#000019"
            ],
            [
             1,
             "#000020"
            ]
           ]
          },
          "colorway": [
           "#000001",
           "#000002",
           "#000003",
           "#000004",
           "#000005",
           "#000006",
           "#000007",
           "#000008",
           "#000009",
           "#000010"
          ]
         }
        },
        "updatemenus": [
         {
          "buttons": [
           {
            "args": [
             null,
             {
              "frame": {
               "duration": 500,
               "redraw": true
              },
              "fromcurrent": true,
              "mode": "immediate",
              "transition": {
               "duration": 500,
               "easing": "linear"
              }
             }
            ],
            "label": "&#9654;",
            "method": "animate"
           },
           {
            "args": [
             [
              null
             ],
             {
              "frame": {
               "duration": 0,
               "redraw": true
              },
              "fromcurrent": true,
              "mode": "immediate",
              "transition": {
               "duration": 0,
               "easing": "linear"
              }
             }
            ],
            "label": "&#9724;",
            "method": "animate"
           }
          ],
          "direction": "left",
          "pad": {
           "r": 10,
           "t": 70
          },
          "showactive": false,
          "type": "buttons",
          "x": 0.1,
          "xanchor": "right",
          "y": 0,
          "yanchor": "top"
         }
        ],
        "width": 1200,
        "xaxis": {
         "anchor": "y",
         "domain": [
          0,
          0.235
         ],
         "tickmode": "array",
         "ticktext": [
          "0",
          "1",
          "2",
          "3",
          "4",
          "5",
          "6"
         ],
         "tickvals": [
          16,
          48,
          80,
          112,
          144,
          176,
          208
         ]
        },
        "xaxis2": {
         "anchor": "y2",
         "domain": [
          0.255,
          0.49
         ],
         "matches": "x",
         "tickmode": "array",
         "ticktext": [
          "0",
          "1",
          "2",
          "3",
          "4",
          "5",
          "6"
         ],
         "tickvals": [
          16,
          48,
          80,
          112,
          144,
          176,
          208
         ]
        },
        "xaxis3": {
         "anchor": "y3",
         "domain": [
          0.51,
          0.745
         ],
         "matches": "x",
         "tickmode": "array",
         "ticktext": [
          "0",
          "1",
          "2",
          "3",
          "4",
          "5",
          "6"
         ],
         "tickvals": [
          16,
          48,
          80,
          112,
          144,
          176,
          208
         ]
        },
        "xaxis4": {
         "anchor": "y4",
         "domain": [
          0.7649999999999999,
          0.9999999999999999
         ],
         "matches": "x",
         "tickmode": "array",
         "ticktext": [
          "0",
          "1",
          "2",
          "3",
          "4",
          "5",
          "6"
         ],
         "tickvals": [
          16,
          48,
          80,
          112,
          144,
          176,
          208
         ]
        },
        "yaxis": {
         "anchor": "x",
         "domain": [
          0,
          1
         ],
         "tickmode": "array",
         "ticktext": [
          "0",
          "1",
          "2",
          "3",
          "4",
          "5",
          "6"
         ],
         "tickvals": [
          16,
          48,
          80,
          112,
          144,
          176,
          208
         ]
        },
        "yaxis2": {
         "anchor": "x2",
         "domain": [
          0,
          1
         ],
         "matches": "y",
         "showticklabels": false,
         "tickmode": "array",
         "ticktext": [
          "0",
          "1",
          "2",
          "3",
          "4",
          "5",
          "6"
         ],
         "tickvals": [
          16,
          48,
          80,
          112,
          144,
          176,
          208
         ]
        },
        "yaxis3": {
         "anchor": "x3",
         "domain": [
          0,
          1
         ],
         "matches": "y",
         "showticklabels": false,
         "tickmode": "array",
         "ticktext": [
          "0",
          "1",
          "2",
          "3",
          "4",
          "5",
          "6"
         ],
         "tickvals": [
          16,
          48,
          80,
          112,
          144,
          176,
          208
         ]
        },
        "yaxis4": {
         "anchor": "x4",
         "domain": [
          0,
          1
         ],
         "matches": "y",
         "showticklabels": false,
         "tickmode": "array",
         "ticktext": [
          "0",
          "1",
          "2",
          "3",
          "4",
          "5",
          "6"
         ],
         "tickvals": [
          16,
          48,
          80,
          112,
          144,
          176,
          208
         ]
        }
       }
      }
     },
     "metadata": {},
     "output_type": "display_data"
    }
   ],
   "source": [
    "#  Example usage of the \"update_observations\" function. \n",
    "frame_to_update = 4\n",
    "positions = [(4, 2)]\n",
    "channels = [6,6,5,5] # 6 is ball, 5 is key. # We edit all four base scenarios at once.\n",
    "\n",
    "new_obs = update_observations(obs, frame_to_update, positions, channels)\n",
    "updated_images = get_images_batched(env, new_obs)\n",
    "fig = get_trajectory_plotly_animation(updated_images)\n",
    "fig.show()\n"
   ]
  },
  {
   "cell_type": "markdown",
   "metadata": {},
   "source": [
    "## Library of Scenarios\n",
    "\n",
    "1. Original\n",
    "\n",
    "Flipping instructions/targets\n",
    "\n",
    "- Flipped instruction S5\n",
    "- Flipped targets S5\n",
    "- Flipped targets S9\n",
    "- Flipped targets S5 and S9\n",
    "\n",
    "Adding Objects/Adversarial\n",
    "\n",
    "- Adding Instruction Complement at 0,5 in S5\n",
    "- Adding Instruction Complement at 4,2 in S5\n",
    "- Adding Instruction Complement at 4,2 and 0,5 in S5\n",
    "- Adding Instruction Complement at 0,5 in S9\n",
    "- Adding Instruction Complement at 4,2 in S9\n",
    "- Adding Instruction Complement at 4,2 and 0,5 in S9"
   ]
  },
  {
   "cell_type": "code",
   "execution_count": null,
   "metadata": {},
   "outputs": [],
   "source": [
    "# Herefollows a library of alternative scenarios. \n",
    "\n",
    "original_obs = obs.clone()\n",
    "\n",
    "\n",
    "## Flipped Observations\n",
    "\n",
    "# flipped instruction\n",
    "instruction_complement_26_S5 = update_observations(\n",
    "    original_obs, \n",
    "    frame_to_update=4, \n",
    "    positions = [(2, 6)],\n",
    "    channels = [6,6,5,5]\n",
    ")\n",
    "\n",
    "# flipped targets S5 (half)\n",
    "flipped_targets_half_start = update_observations(\n",
    "    original_obs, \n",
    "    frame_to_update=4, \n",
    "    positions = [(1,2)],\n",
    "    channels = [6,5,5,6]\n",
    ")\n",
    "\n",
    "# flipped targets S5 (full)\n",
    "target_complement_S5 = update_observations(\n",
    "    flipped_targets_half_start.clone(), \n",
    "    frame_to_update=4, \n",
    "    positions = [(5,2)],\n",
    "    channels = [5,6,6,5]\n",
    ")\n",
    "\n",
    "# flipped targets S9 (half)\n",
    "flipped_targets_half_end = update_observations(\n",
    "    original_obs, \n",
    "    frame_to_update=8, \n",
    "    positions = [(1,6)],\n",
    "    channels = [6,5,5,6]\n",
    ")\n",
    "\n",
    "# flipped targets S9 (full)\n",
    "target_complement_S9 = update_observations(\n",
    "    flipped_targets_half_end, \n",
    "    frame_to_update=8, \n",
    "    positions = [(5,6)],\n",
    "    channels = [5,6,6,5]\n",
    ")\n",
    "\n",
    "# flipped targets at S5 and S9 (half)\n",
    "flipped_targets_half_start_and_end = update_observations(\n",
    "    target_complement_S5, \n",
    "    frame_to_update=8, \n",
    "    positions = [(1,6)],\n",
    "    channels = [6,5,5,6]\n",
    ")\n",
    "\n",
    "# flipped targets at S5 and S9 (full)\n",
    "target_complement_S5_S9 = update_observations(\n",
    "    flipped_targets_half_start_and_end, \n",
    "    frame_to_update=8, \n",
    "    positions = [(5,6)],\n",
    "    channels = [5,6,6,5]\n",
    ")\n",
    "\n",
    "##  Adversarial\n",
    "\n",
    "# Adding Instruction Complement at (0,5) in S5\n",
    "instruction_complement_05_S5 = update_observations(\n",
    "    original_obs, \n",
    "    frame_to_update=4, \n",
    "    positions = [(0, 5)],\n",
    "    channels = [6,6,5,5]\n",
    ")\n",
    "\n",
    "# Adding Instruction Complement at (4,2) in S5\n",
    "instruction_complement_42_S5 = update_observations(\n",
    "    original_obs, \n",
    "    frame_to_update=4, \n",
    "    positions = [(4,2)],\n",
    "    channels = [6,6,5,5]\n",
    ")\n",
    "\n",
    "# Adding Instruction Complement at (0,5), (4,2) in S5\n",
    "instruction_complement_05_42_S5 = update_observations(\n",
    "    original_obs, \n",
    "    frame_to_update=4, \n",
    "    positions = [(0,5),(4,2)],\n",
    "    channels = [6,6,5,5]\n",
    ")\n",
    "\n",
    "# Adding Instruction Complement at (0,5) in S9\n",
    "instruction_complement_05_S9 = update_observations(\n",
    "    original_obs, \n",
    "    frame_to_update=8, \n",
    "    positions = [(0, 5)],\n",
    "    channels = [6,6,5,5]\n",
    ")\n",
    "\n",
    "# Adding Instruction Complement at (4,2) in S9\n",
    "instruction_complement_42_S9 = update_observations(\n",
    "    original_obs, \n",
    "    frame_to_update=8, \n",
    "    positions = [(4,2)],\n",
    "    channels = [6,6,5,5]\n",
    ")\n",
    "\n",
    "# Adding Instruction Complement at (0,5), (4,2) in S9\n",
    "instruction_complement_05_42_S9 = update_observations(\n",
    "    original_obs, \n",
    "    frame_to_update=8, \n",
    "    positions = [(0,5),(4,2)],\n",
    "    channels = [6,6,5,5]\n",
    ")\n",
    "\n",
    "# create a dictionary of all the scenarios\n",
    "\n",
    "scenario_dict = {\n",
    "    \"original\": original_obs,\n",
    "    \"0_instruction_complement_26_S5\": instruction_complement_26_S5,\n",
    "    # S5\n",
    "    \"1_instruction_complement_05_S5\": instruction_complement_05_S5,\n",
    "    \"2_instruction_complement_42_S5\": instruction_complement_42_S5,\n",
    "    \"3_instruction_complement_05_42_S5\": instruction_complement_05_42_S5,\n",
    "    # S9\n",
    "    \"instruction_complement_05_S9\": instruction_complement_05_S9,\n",
    "    \"instruction_complement_42_S9\": instruction_complement_42_S9,\n",
    "    \"instruction_complement_05_42_S9\": instruction_complement_05_42_S9,\n",
    "\n",
    "    # Target changes\n",
    "    \"target_complement_S5\": target_complement_S5,\n",
    "    \"target_complement_S9\": target_complement_S9,\n",
    "    \"flipped_targets_full_start_and_end\": target_complement_S5_S9,\n",
    "}"
   ]
  },
  {
   "cell_type": "code",
   "execution_count": null,
   "metadata": {},
   "outputs": [
    {
     "data": {
      "text/plain": [
       "torch.Size([4, 9, 224, 224, 3])"
      ]
     },
     "execution_count": 428,
     "metadata": {},
     "output_type": "execute_result"
    }
   ],
   "source": [
    "all_obs = torch.cat([scenario_dict[scenario].clone() for scenario in scenario_dict.keys()], dim=0)\n",
    "updated_images = get_images_batched(env, all_obs)\n",
    "updated_images.shape\n",
    "\n",
    ".shape"
   ]
  },
  {
   "cell_type": "code",
   "execution_count": null,
   "metadata": {},
   "outputs": [
    {
     "data": {
      "application/vnd.plotly.v1+json": {
       "config": {
        "plotlyServerURL": "https://plotly.com"
       },
       "data": [
        {
         "hovertemplate": "x: %{x}<br>y: %{y}<br>color: %{z}<extra></extra>",
         "name": "0",
         "source": "data:image/png;base64,iVBORw0KGgoAAAANSUhEUgAAAOAAAADgCAIAAACVT/22AAAFMUlEQVR4Xu3c4W3iWBhG4ZdVyoDUEdIHWwENhKkj0MBUkPQBqSPQR/YHInNzZ4GJwXCYex7xw/oGWwgdXRtP5MF0Oo2E1XegHv8wj3/YP/VAIjFQoRmo0AxUaAYqNAMVmoEKzUCFZqBCM1ChGajQDFRoBio0AxWagQrNQIVmoEIzUKEZqNAMVGgGKjQDFZqBCs1AhWagQjNQoRmo0AxUaAYqNAMV2qDvx+dJp3AFFZqBCs1AhWagQjNQoRmo0AxUaAYqNAMVmoEKzUCFZqBCM1ChGajQDFRoBio0AxWagQrNQIVmoEIzUKEZqNAMVGgGKjQDFZqBCs1AhWagQjNQoRmo0AxUaAYqtLt60IOfP3/Wo/OZTqce/4ALHL8enZUrqNBIgQ6T5+Rj93pPnpNh/S41BRPoJFkms2IySmbJ0kabxgh0u3aO6nGSjJJlPVM7GIE+7alza5Q81TOd00Pykix3F1fL5CV5qN91FYxAyzP7PBkkg+S1GE6KbZ3RQ/KerJJJMt4Nx8kkWSXv18+UEWjpx26jrPbzu9MZPSWrY+eu1ZVPX7xAdRlPybye/b/5NRvlBfqSJBl+/fpWxbZO9/DHdW7Nr3auZwRaflmT5CNZf73uLK9HdbrtKvAtHXY5B0agi2Rdz35ZJ4t6pu4eDl537jO6ziLKCHSTPO5pdJ081jOdpPz1+S2ddzwBI9DsGq0ujGbJfbL5OtSJOv/PXOcdT4AJNMmmuMe05Zm9D53v2XXe8QSkQKXfGGh7Ot+z67zjCQy0PZ2v6TvveAJGoJ9/A/pR/4vO71u36EuddzwBI1Bd0tueO3qHrZO3enYBjEC3f760fekC/q0Hx3XY5RwYgerC3r551312neUzBtquxR83OrvmDWkDbdgiGR+8Hl0n42vWGQNt3Vtyn4yT1+I25yp5TcbJ/dXO7J8u8eCG47y7dF1vV/sNdJQrqNAYK6h3l7SHK6jQDFRoBiq0Qd+Pz5NOcZf+n99Zj26N389hvX4/nuKFZqBCM1ChGajQDFRoBio0AxWagQrNQIVmoEIzUKEZqNAMVGgGKjQDFZqBCs1AhWagQjNQoRmo0AxUaAYqNAMVmoEKzUCFZqBCM1ChGajQDFRoBio0nw8qtL/h+aB9f/5bP349OrdeP7+neKEZqNAMVGgGKjQDFZqBCs1AhWagQjNQoRmo0AxUaAYqNAMVmoEKzUCFZqBCM1ChGajQDFRoBio0AxWagQrNQIVmoEIzUKEZqNAMVGgGKjQDFZqBCs3ngwrN54MecYHnd/Z9/Hp0br1+fk/xQjNQoRmo0AxUaAYqNAMVmoEKzUCFZqBCM1ChGajQDFRoBio0AxWagQrNQIVmoEIzUKEZqNAMVGgGKjQDFZqBCs1AhWagQjNQoRmo0AxUaAYqNAMVms8HFZrPBz3iAs/v7Pv49ejcev38nuKF1lKgw+Q5+di93pPnZFi/SyjNBDpJlsmsmIySWbK0UbQ2At2unaN6nCSjZFnPxNFGoE976twaJU/1TBBtBFqe2efJIBkkr8VwUmyLpI1ASz92G2W142JbJO0FqpvSXqAvSZJhMi+Gq2JbJG0EWrY4ST6S9dfrzvJ6VCRtBLpI1vXsl3WyqGeCaCPQTfK4p9F18ljPxNFGoNk1Wp7rk8yS+2TzdSiSZgJNsinuMW15ZsdrKVDdIAMVmoEK7a4e/JU+6oFuhSuo0NpYQQfFtqvpTXEFFZqBCs1AhWagQmvjR5I/jG6WK6jQ2lhBy9tMuimuoEIzUKEZqND+Axb7wb5luWP8AAAAAElFTkSuQmCC",
         "type": "image",
         "xaxis": "x",
         "yaxis": "y"
        },
        {
         "hovertemplate": "x: %{x}<br>y: %{y}<br>color: %{z}<extra></extra>",
         "name": "1",
         "source": "data:image/png;base64,iVBORw0KGgoAAAANSUhEUgAAAOAAAADgCAIAAACVT/22AAAFWUlEQVR4Xu3c71HiahxH8a93LEOsA7YPrIAG4Nax0IAVYB9AHWIf3hcM3vjs8i8h5BjOZ3zh/PTJMMyZJD7L5mEymUTCajtQj3+cxz/un3IgkRio0AxUaAYqNAMVmoEKzUCFZqBCM1ChGajQDFRoBio0AxWagQrNQIVmoEIzUKEZqNAMVGgGKjQDFZqBCs1AhWagQjNQoRmo0AxUaAYqNAMVmoEK7aHtx+dJTXgGFZqBCs1AhWagQjNQoRmo0AxUaAYqNAMVmoEKzUCFZqBCM1ChGajQDFRoBio0AxWagQrNQIVmoEIzUKEZqNAMVGgGKjQDFZqBCs1AhWagQjNQoRmo0AxUaAYqtMdy0ILX19dydD2TycTjH3GD45ejq/IMKjRSoE/J7+Rz//We/E6eyt/SXcEEOk5WyawyGSSzZGWjd40R6O7cOSjHSTJIVuVM94MR6PRAnTuDZFrOdE3DZJms9jdXq2SZDMvf6gQj0OqVfZ48JA/JW2U4rnyvKxom78k6GSej/XCUjJN18t59poxAq/7df1Ot9uu90xVNk/Wpa9e648sXL1DdxjSZl7O/m3fZKC/QZZLk6fvbt658r+aGZ9e5M+/sWs8ItPpmjZPPZPv9vrN6P6rmdmeBi9RYcg2MQBfJtpz9b5ssypnqGx697zxk0M1JlBHoR/LrQKPb5Fc5UyPVvz4vUnthA4xAs2+0uDGaJc/Jx/ehGqr9L3O1FzaACTTJR2WPaccrextq79nVXtgAKVDpDwZ6f2rv2dVe2ICB3p/a9/S1FzbACPTrM6Cf5U90fRdt0VfVXtgAI1Dd0ubAjt5x22RTzm6AEeju40u7L93ASzk4rcaSa2AEqhvbXLjrPuvm9BkDvV+LsxuddbkhbaB3bJGMjt6PbpNRl3XGQO/dJnlORslbZZtznbwlo+S5syv7l1s8uOE0d5e6tensb6CTPIMKjXEGdXdJB3gGFZqBCs1AhfbQ9uPzpCYe0/7zO8vRT+P7c1yr74+XeKEZqNAMVGgGKjQDFZqBCs1AhWagQjNQoRmo0AxUaAYqNAMVmoEKzUCFZqBCM1ChGajQDFRoBio0AxWagQrNQIVmoEIzUKEZqNAMVGgGKjQDFZqBCs3ngwqtD88Hbfv1//Tjl6Nra/X1e4kXmoEKzUCFZqBCM1ChGajQDFRoBio0AxWagQrNQIVmoEIzUKEZqNAMVGgGKjQDFZqBCs1AhWagQjNQoRmo0AxUaAYqNAMVmoEKzUCFZqBCM1ChGajQfD6o0Hw+6Ak3eH5n28cvR9fW6uv3Ei80AxWagQrNQIVmoEIzUKEZqNAMVGgGKjQDFZqBCs1AhWagQjNQoRmo0AxUaAYqNAMVmoEKzUCFZqBCM1ChGajQDFRoBio0AxWagQrNQIVmoEIzUKH5fFCh+XzQE27w/M62j1+Orq3V1+8lXmgGKjQDFZqBCu0+Ah0my2SVfCafySpZJsPytwT0WA56Zpfm4PtwlCQZJ9vkJdl8/6lIen0GnSbrP+qsGiTrZFqOxdHfQKfJvJz93dxGuXoa6PDsOnfm3pJC9TTQZTk4rcYSta+PgQ6P3nceMvAkStTHQGfl4Fy1F6o1fQz0qRycq/ZCtaaPge62OWuovVCt6WOg6pE+BrouB+eqvVCt6WOgH+XgXLUXqjV9DPSiLfqq2gvVmj4Gukm25ey0rZ8aIepjoEleysFpNZaofT0NdHPhrvvM0ydUTwNNsji70VmyKGeC6G+gSRbJ6Oj96DYZWSdarwNNskmek1HyVtnmXCdvySh59spO1/f/8rGz8W+gn6rvZ1D9cAYqNAMVmoEKzUCF9h+QhMjbNytVWQAAAABJRU5ErkJggg==",
         "type": "image",
         "xaxis": "x2",
         "yaxis": "y2"
        },
        {
         "hovertemplate": "x: %{x}<br>y: %{y}<br>color: %{z}<extra></extra>",
         "name": "2",
         "source": "data:image/png;base64,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",
         "type": "image",
         "xaxis": "x3",
         "yaxis": "y3"
        },
        {
         "hovertemplate": "x: %{x}<br>y: %{y}<br>color: %{z}<extra></extra>",
         "name": "3",
         "source": "data:image/png;base64,iVBORw0KGgoAAAANSUhEUgAAAOAAAADgCAIAAACVT/22AAAFi0lEQVR4Xu3c3VEiWxhG4ZdTE4YYh5gHJwITkIlDTWAi0DzQOMQ8PBcUznZzwKZ/rIV7PeUF9U03bVFrdjc9Uz27ubmJhDV1oL7/cb7/cf/UA4nEQIVmoEIzUKEZqNAMVGgGKjQDFZqBCs1AhWagQjNQoRmo0AxUaAYqNAMVmoEKzUCFZqBCM1ChGajQDFRoBio0AxWagQrNQIVmoEIzUKEZqNAMVGizqR+fJw3hCio0AxWagQrNQIVmoEIzUKEZqNAMVGgGKjQDFZqBCs1AhWagQjNQoRmo0AxUaAYqNAMVmoEKzUCFZqBCM1ChGajQDFRoBio0AxWagQrNQIVmoEIzUKEZqNAMVGi/6sEE/vz5U4/Gc3Nz4/sf8Q3vX49G5QoqNFKgF8ld8r77eU3ukot6KzUFE+gyWSerYjJPVsnaRpvGCHS7ds7rcZLMk3U9UzsYgd4eqHNrntzWs6ZcJY/Jenfts04ek6t6qwEmP0B/jEDLM/t9MktmyVMxXBavW3KVvCbPyTJZ7IaLZJk8J6/DK5r8AEMxAi393r0oq/347Fpymzx/dWp5HnJ2mfwAI+AFqiTJbXJfz/7ffb+EJj/AOHiBPiZJLj5/fM/F6wZcdY5n6/7UU/HkBxgNI9Dyw1om78nm83VneT3agO1f0pOctstpWyfptcsYGIE+JJt69tcmeahnP9jV0cvCQ+bd17jJDzAmRqBvyfWBRjfJdT372covhyfpumPX7fb03nEARqDZNVpdGK2Sy+Tt8/Cn6/0PZ1137Lrdnt47DoAJNMlbcY9pq6Uz+4fet9S67th1uz29dxyAFKi0x0Bxet9S67pj1+329N5xAAPF6X3J3XXHrtvt6b3jAIxAP/4P6Hv9Jw066Q56qeuOXbfb03vHARiBqvBy4IbbcZvkpZ4dMPkBxsQIdPvfl7Y/Sv6tB187bZfTtk7Sa5cxMALVZy8n3hRfnbq6TX6A0Rgo1EPnhFb97hdPfoBxGCjXQ7I4erm4SRZD4pn8ACMwULSX5DJZJE/FXcjn5ClZJJfDT7yTH2Co73hww9e8u3TUy9RfUSY/QH+uoEJjrKDeXdIBrqBCM1ChGajQZlM/Pk8a4lemf35nPTo3fj7HTfr5eIoXmoEKzUCFZqBCM1ChGajQDFRoBio0AxWagQrNQIVmoEIzUKEZqNAMVGgGKjQDFZqBCs1AhWagQjNQoRmo0AxUaAYqNAMVmoEKzUCFZqBCM1ChGajQfD6o0H7C80Gn/v3P/f3r0dgm/f09xQvNQIVmoEIzUKEZqNAMVGgGKjQDFZqBCs1AhWagQjNQoRmo0AxUaAYqNAMVmoEKzUCFZqBCM1ChGajQDFRoBio0AxWagQrNQIVmoEIzUKEZqNAMVGg+H1RoPh/0C9/w/M6p378ejW3S399TvNAMVGgGKjQDFZqBCs1AhWagQjNQoRmo0AxUaAYqNAMVmoEKzUCFZqBCM1ChGajQDFRoBio0AxWagQrNQIVmoEIzUKEZqNAMVGgGKjQDFZqBCs1AhebzQYXm80G/8A3P75z6/evR2Cb9/T3FC62lQC+Su+R99/Oa3CUX9VZCaSbQZbJOVsVknqyStY2itRHodu2c1+MkmSfreiaONgK9PVDn1jy5rWeCaCPQ8sx+n8ySWfJUDJfFa5G0EWjp9+5FWe2ieC2S9gLVWWkv0MckyUVyXwyfi9ciaSPQssVl8p5sPl93ltejImkj0IdkU8/+2iQP9UwQbQT6llwfaHSTXNczcbQRaHaNluf6JKvkMnn7PBRJM4EmeSvuMW15ZsdrKVCdIQMVmoEK7Vc9+JHe64HOhSuo0NpYQWfFa1fTs+IKKjQDFZqBCs1AhdbGlyS/GJ0tV1ChtbGClreZdFZcQYVmoEIzUKH9B2Os7Cp6Ucy8AAAAAElFTkSuQmCC",
         "type": "image",
         "xaxis": "x4",
         "yaxis": "y4"
        },
        {
         "hovertemplate": "x: %{x}<br>y: %{y}<br>color: %{z}<extra></extra>",
         "name": "4",
         "source": "data:image/png;base64,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",
         "type": "image",
         "xaxis": "x5",
         "yaxis": "y5"
        }
       ],
       "layout": {
        "annotations": [
         {
          "font": {
           "size": 18
          },
          "showarrow": false,
          "text": "Original",
          "x": 0.09200000000000001,
          "xanchor": "center",
          "xref": "paper",
          "y": 1,
          "yanchor": "bottom",
          "yref": "paper"
         },
         {
          "font": {
           "size": 18
          },
          "showarrow": false,
          "text": "Instruction Flipped",
          "x": 0.29600000000000004,
          "xanchor": "center",
          "xref": "paper",
          "y": 1,
          "yanchor": "bottom",
          "yref": "paper"
         },
         {
          "font": {
           "size": 18
          },
          "showarrow": false,
          "text": "Complement (0,5)",
          "x": 0.5,
          "xanchor": "center",
          "xref": "paper",
          "y": 1,
          "yanchor": "bottom",
          "yref": "paper"
         },
         {
          "font": {
           "size": 18
          },
          "showarrow": false,
          "text": "Complement (4,2)",
          "x": 0.7040000000000002,
          "xanchor": "center",
          "xref": "paper",
          "y": 1,
          "yanchor": "bottom",
          "yref": "paper"
         },
         {
          "font": {
           "size": 18
          },
          "showarrow": false,
          "text": "Complement (0,5), (4,2)",
          "x": 0.908,
          "xanchor": "center",
          "xref": "paper",
          "y": 1,
          "yanchor": "bottom",
          "yref": "paper"
         }
        ],
        "font": {
         "size": 24
        },
        "margin": {
         "t": 60
        },
        "template": {
         "data": {
          "candlestick": [
           {
            "decreasing": {
             "line": {
              "color": "#000033"
             }
            },
            "increasing": {
             "line": {
              "color": "#000032"
             }
            },
            "type": "candlestick"
           }
          ],
          "contour": [
           {
            "colorscale": [
             [
              0,
              "#000011"
             ],
             [
              0.1111111111111111,
              "#000012"
             ],
             [
              0.2222222222222222,
              "#000013"
             ],
             [
              0.3333333333333333,
              "#000014"
             ],
             [
              0.4444444444444444,
              "#000015"
             ],
             [
              0.5555555555555556,
              "#000016"
             ],
             [
              0.6666666666666666,
              "#000017"
             ],
             [
              0.7777777777777778,
              "#000018"
             ],
             [
              0.8888888888888888,
              "#000019"
             ],
             [
              1,
              "#000020"
             ]
            ],
            "type": "contour"
           }
          ],
          "contourcarpet": [
           {
            "colorscale": [
             [
              0,
              "#000011"
             ],
             [
              0.1111111111111111,
              "#000012"
             ],
             [
              0.2222222222222222,
              "#000013"
             ],
             [
              0.3333333333333333,
              "#000014"
             ],
             [
              0.4444444444444444,
              "#000015"
             ],
             [
              0.5555555555555556,
              "#000016"
             ],
             [
              0.6666666666666666,
              "#000017"
             ],
             [
              0.7777777777777778,
              "#000018"
             ],
             [
              0.8888888888888888,
              "#000019"
             ],
             [
              1,
              "#000020"
             ]
            ],
            "type": "contourcarpet"
           }
          ],
          "heatmap": [
           {
            "colorscale": [
             [
              0,
              "#000011"
             ],
             [
              0.1111111111111111,
              "#000012"
             ],
             [
              0.2222222222222222,
              "#000013"
             ],
             [
              0.3333333333333333,
              "#000014"
             ],
             [
              0.4444444444444444,
              "#000015"
             ],
             [
              0.5555555555555556,
              "#000016"
             ],
             [
              0.6666666666666666,
              "#000017"
             ],
             [
              0.7777777777777778,
              "#000018"
             ],
             [
              0.8888888888888888,
              "#000019"
             ],
             [
              1,
              "#000020"
             ]
            ],
            "type": "heatmap"
           }
          ],
          "histogram2d": [
           {
            "colorscale": [
             [
              0,
              "#000011"
             ],
             [
              0.1111111111111111,
              "#000012"
             ],
             [
              0.2222222222222222,
              "#000013"
             ],
             [
              0.3333333333333333,
              "#000014"
             ],
             [
              0.4444444444444444,
              "#000015"
             ],
             [
              0.5555555555555556,
              "#000016"
             ],
             [
              0.6666666666666666,
              "#000017"
             ],
             [
              0.7777777777777778,
              "#000018"
             ],
             [
              0.8888888888888888,
              "#000019"
             ],
             [
              1,
              "#000020"
             ]
            ],
            "type": "histogram2d"
           }
          ],
          "icicle": [
           {
            "textfont": {
             "color": "white"
            },
            "type": "icicle"
           }
          ],
          "sankey": [
           {
            "textfont": {
             "color": "#000036"
            },
            "type": "sankey"
           }
          ],
          "scatter": [
           {
            "marker": {
             "line": {
              "width": 0
             }
            },
            "type": "scatter"
           }
          ],
          "table": [
           {
            "cells": {
             "fill": {
              "color": "#000038"
             },
             "font": {
              "color": "#000037"
             },
             "line": {
              "color": "#000039"
             }
            },
            "header": {
             "fill": {
              "color": "#000040"
             },
             "font": {
              "color": "#000036"
             },
             "line": {
              "color": "#000039"
             }
            },
            "type": "table"
           }
          ],
          "waterfall": [
           {
            "connector": {
             "line": {
              "color": "#000036",
              "width": 2
             }
            },
            "decreasing": {
             "marker": {
              "color": "#000033"
             }
            },
            "increasing": {
             "marker": {
              "color": "#000032"
             }
            },
            "totals": {
             "marker": {
              "color": "#000034"
             }
            },
            "type": "waterfall"
           }
          ]
         },
         "layout": {
          "coloraxis": {
           "colorscale": [
            [
             0,
             "#000011"
            ],
            [
             0.1111111111111111,
             "#000012"
            ],
            [
             0.2222222222222222,
             "#000013"
            ],
            [
             0.3333333333333333,
             "#000014"
            ],
            [
             0.4444444444444444,
             "#000015"
            ],
            [
             0.5555555555555556,
             "#000016"
            ],
            [
             0.6666666666666666,
             "#000017"
            ],
            [
             0.7777777777777778,
             "#000018"
            ],
            [
             0.8888888888888888,
             "#000019"
            ],
            [
             1,
             "#000020"
            ]
           ]
          },
          "colorscale": {
           "diverging": [
            [
             0,
             "#000021"
            ],
            [
             0.1,
             "#000022"
            ],
            [
             0.2,
             "#000023"
            ],
            [
             0.3,
             "#000024"
            ],
            [
             0.4,
             "#000025"
            ],
            [
             0.5,
             "#000026"
            ],
            [
             0.6,
             "#000027"
            ],
            [
             0.7,
             "#000028"
            ],
            [
             0.8,
             "#000029"
            ],
            [
             0.9,
             "#000030"
            ],
            [
             1,
             "#000031"
            ]
           ],
           "sequential": [
            [
             0,
             "#000011"
            ],
            [
             0.1111111111111111,
             "#000012"
            ],
            [
             0.2222222222222222,
             "#000013"
            ],
            [
             0.3333333333333333,
             "#000014"
            ],
            [
             0.4444444444444444,
             "#000015"
            ],
            [
             0.5555555555555556,
             "#000016"
            ],
            [
             0.6666666666666666,
             "#000017"
            ],
            [
             0.7777777777777778,
             "#000018"
            ],
            [
             0.8888888888888888,
             "#000019"
            ],
            [
             1,
             "#000020"
            ]
           ],
           "sequentialminus": [
            [
             0,
             "#000011"
            ],
            [
             0.1111111111111111,
             "#000012"
            ],
            [
             0.2222222222222222,
             "#000013"
            ],
            [
             0.3333333333333333,
             "#000014"
            ],
            [
             0.4444444444444444,
             "#000015"
            ],
            [
             0.5555555555555556,
             "#000016"
            ],
            [
             0.6666666666666666,
             "#000017"
            ],
            [
             0.7777777777777778,
             "#000018"
            ],
            [
             0.8888888888888888,
             "#000019"
            ],
            [
             1,
             "#000020"
            ]
           ]
          },
          "colorway": [
           "#000001",
           "#000002",
           "#000003",
           "#000004",
           "#000005",
           "#000006",
           "#000007",
           "#000008",
           "#000009",
           "#000010"
          ]
         }
        },
        "width": 1200,
        "xaxis": {
         "anchor": "y",
         "domain": [
          0,
          0.18400000000000002
         ],
         "tickmode": "array",
         "ticktext": [
          "0",
          "1",
          "2",
          "3",
          "4",
          "5",
          "6"
         ],
         "tickvals": [
          16,
          48,
          80,
          112,
          144,
          176,
          208
         ]
        },
        "xaxis2": {
         "anchor": "y2",
         "domain": [
          0.20400000000000001,
          0.388
         ],
         "matches": "x",
         "tickmode": "array",
         "ticktext": [
          "0",
          "1",
          "2",
          "3",
          "4",
          "5",
          "6"
         ],
         "tickvals": [
          16,
          48,
          80,
          112,
          144,
          176,
          208
         ]
        },
        "xaxis3": {
         "anchor": "y3",
         "domain": [
          0.40800000000000003,
          0.5920000000000001
         ],
         "matches": "x",
         "tickmode": "array",
         "ticktext": [
          "0",
          "1",
          "2",
          "3",
          "4",
          "5",
          "6"
         ],
         "tickvals": [
          16,
          48,
          80,
          112,
          144,
          176,
          208
         ]
        },
        "xaxis4": {
         "anchor": "y4",
         "domain": [
          0.6120000000000001,
          0.7960000000000002
         ],
         "matches": "x",
         "tickmode": "array",
         "ticktext": [
          "0",
          "1",
          "2",
          "3",
          "4",
          "5",
          "6"
         ],
         "tickvals": [
          16,
          48,
          80,
          112,
          144,
          176,
          208
         ]
        },
        "xaxis5": {
         "anchor": "y5",
         "domain": [
          0.8160000000000001,
          1
         ],
         "matches": "x",
         "tickmode": "array",
         "ticktext": [
          "0",
          "1",
          "2",
          "3",
          "4",
          "5",
          "6"
         ],
         "tickvals": [
          16,
          48,
          80,
          112,
          144,
          176,
          208
         ]
        },
        "yaxis": {
         "anchor": "x",
         "domain": [
          0,
          1
         ],
         "tickmode": "array",
         "ticktext": [
          "0",
          "1",
          "2",
          "3",
          "4",
          "5",
          "6"
         ],
         "tickvals": [
          16,
          48,
          80,
          112,
          144,
          176,
          208
         ]
        },
        "yaxis2": {
         "anchor": "x2",
         "domain": [
          0,
          1
         ],
         "matches": "y",
         "showticklabels": false,
         "tickmode": "array",
         "ticktext": [
          "0",
          "1",
          "2",
          "3",
          "4",
          "5",
          "6"
         ],
         "tickvals": [
          16,
          48,
          80,
          112,
          144,
          176,
          208
         ]
        },
        "yaxis3": {
         "anchor": "x3",
         "domain": [
          0,
          1
         ],
         "matches": "y",
         "showticklabels": false,
         "tickmode": "array",
         "ticktext": [
          "0",
          "1",
          "2",
          "3",
          "4",
          "5",
          "6"
         ],
         "tickvals": [
          16,
          48,
          80,
          112,
          144,
          176,
          208
         ]
        },
        "yaxis4": {
         "anchor": "x4",
         "domain": [
          0,
          1
         ],
         "matches": "y",
         "showticklabels": false,
         "tickmode": "array",
         "ticktext": [
          "0",
          "1",
          "2",
          "3",
          "4",
          "5",
          "6"
         ],
         "tickvals": [
          16,
          48,
          80,
          112,
          144,
          176,
          208
         ]
        },
        "yaxis5": {
         "anchor": "x5",
         "domain": [
          0,
          1
         ],
         "matches": "y",
         "showticklabels": false,
         "tickmode": "array",
         "ticktext": [
          "0",
          "1",
          "2",
          "3",
          "4",
          "5",
          "6"
         ],
         "tickvals": [
          16,
          48,
          80,
          112,
          144,
          176,
          208
         ]
        }
       }
      }
     },
     "metadata": {},
     "output_type": "display_data"
    }
   ],
   "source": [
    "\n",
    "fig = px.imshow(updated_images[:20:4,4],facet_col=0)\n",
    "# add 0 - 6 as xticks mdoe linear\n",
    "labels = [str(i) for i in list(range(0,7))]\n",
    "\n",
    "facet_labels = [\n",
    "    \"Original\",\n",
    "    \"Instruction Flipped\",\n",
    "    \"Complement (0,5)\",\n",
    "    \"Complement (4,2)\",\n",
    "    \"Complement (0,5), (4,2)\",\n",
    "]\n",
    "# compute tick positions assuming the width of the plot is normalized to 1\n",
    "tick_positions =  np.linspace(0,224,8)[1:] - 16\n",
    "# add xticks\n",
    "fig.update_xaxes(\n",
    "    tickmode = 'array',\n",
    "    tickvals = tick_positions,\n",
    "    ticktext = labels\n",
    ")\n",
    "    # add xticks\n",
    "fig.update_yaxes(\n",
    "    tickmode = 'array',\n",
    "    tickvals = tick_positions,\n",
    "    ticktext = labels\n",
    ")\n",
    "# update facet col names with scenario labels\n",
    "fig.for_each_annotation(lambda a: a.update(text=facet_labels[int(a.text.split(\"=\")[-1])]))\n",
    "# reduce facet col font size\n",
    "fig.for_each_annotation(lambda a: a.update(font=dict(size=18)))\n",
    "# increase font size\n",
    "fig.update_layout(font=dict(size=24))\n",
    "# make it much larger\n",
    "fig.update_layout(width=1200)"
   ]
  },
  {
   "cell_type": "markdown",
   "metadata": {},
   "source": [
    "## Generate Activation Cache and Plot Effectivess of Changes"
   ]
  },
  {
   "cell_type": "markdown",
   "metadata": {},
   "source": [
    "### Looking at instruction Patches"
   ]
  },
  {
   "cell_type": "code",
   "execution_count": null,
   "metadata": {},
   "outputs": [
    {
     "data": {
      "application/vnd.plotly.v1+json": {
       "config": {
        "plotlyServerURL": "https://plotly.com"
       },
       "data": [
        {
         "coloraxis": "coloraxis",
         "hovertemplate": "x: %{x}<br>y: %{y}<br>color: %{z}<extra></extra>",
         "name": "0",
         "texttemplate": "%{z}",
         "type": "heatmap",
         "x": [
          "Ball, Ball-Key_RTG_0.8920",
          "Ball, Key-Ball_RTG_0.8920",
          "Key, Ball-Key_RTG_0.8920",
          "Key, Key-Ball_RTG_0.8920",
          "Ball, Ball-Key_RTG_0.0",
          "Ball, Key-Ball_RTG_0.0",
          "Key, Ball-Key_RTG_0.0",
          "Key, Key-Ball_RTG_0.0"
         ],
         "xaxis": "x",
         "y": [
          "0_instruction_complement_26_S5",
          "1_instruction_complement_05_S5",
          "2_instruction_complement_42_S5",
          "3_instruction_complement_05_42_S5",
          "original"
         ],
         "yaxis": "y",
         "z": [
          [
           1,
           1,
           1,
           1,
           1,
           1,
           1,
           1
          ],
          [
           0.33790069818496704,
           0.2636144459247589,
           0.5005522966384888,
           0.44138309359550476,
           0.4870031476020813,
           0.5273597240447998,
           0.17443065345287323,
           0.3396834433078766
          ],
          [
           0.09557072073221207,
           0.17889201641082764,
           0.5539146661758423,
           0.5633398294448853,
           0.06507138162851334,
           0.3660943806171417,
           0.21861615777015686,
           0.3537185490131378
          ],
          [
           0.9214518666267395,
           0.7504144906997681,
           0.8424263000488281,
           0.8480239510536194,
           0.8284932971000671,
           0.9253354072570801,
           0.893025815486908,
           0.6609624028205872
          ],
          [
           0,
           0,
           0,
           0,
           0,
           0,
           0,
           0
          ]
         ]
        }
       ],
       "layout": {
        "coloraxis": {
         "cmid": 0,
         "colorscale": [
          [
           0,
           "rgb(103,0,31)"
          ],
          [
           0.1,
           "rgb(178,24,43)"
          ],
          [
           0.2,
           "rgb(214,96,77)"
          ],
          [
           0.3,
           "rgb(244,165,130)"
          ],
          [
           0.4,
           "rgb(253,219,199)"
          ],
          [
           0.5,
           "rgb(247,247,247)"
          ],
          [
           0.6,
           "rgb(209,229,240)"
          ],
          [
           0.7,
           "rgb(146,197,222)"
          ],
          [
           0.8,
           "rgb(67,147,195)"
          ],
          [
           0.9,
           "rgb(33,102,172)"
          ],
          [
           1,
           "rgb(5,48,97)"
          ]
         ]
        },
        "height": 600,
        "margin": {
         "b": 150,
         "r": 20,
         "t": 60
        },
        "template": {
         "data": {
          "candlestick": [
           {
            "decreasing": {
             "line": {
              "color": "#000033"
             }
            },
            "increasing": {
             "line": {
              "color": "#000032"
             }
            },
            "type": "candlestick"
           }
          ],
          "contour": [
           {
            "colorscale": [
             [
              0,
              "#000011"
             ],
             [
              0.1111111111111111,
              "#000012"
             ],
             [
              0.2222222222222222,
              "#000013"
             ],
             [
              0.3333333333333333,
              "#000014"
             ],
             [
              0.4444444444444444,
              "#000015"
             ],
             [
              0.5555555555555556,
              "#000016"
             ],
             [
              0.6666666666666666,
              "#000017"
             ],
             [
              0.7777777777777778,
              "#000018"
             ],
             [
              0.8888888888888888,
              "#000019"
             ],
             [
              1,
              "#000020"
             ]
            ],
            "type": "contour"
           }
          ],
          "contourcarpet": [
           {
            "colorscale": [
             [
              0,
              "#000011"
             ],
             [
              0.1111111111111111,
              "#000012"
             ],
             [
              0.2222222222222222,
              "#000013"
             ],
             [
              0.3333333333333333,
              "#000014"
             ],
             [
              0.4444444444444444,
              "#000015"
             ],
             [
              0.5555555555555556,
              "#000016"
             ],
             [
              0.6666666666666666,
              "#000017"
             ],
             [
              0.7777777777777778,
              "#000018"
             ],
             [
              0.8888888888888888,
              "#000019"
             ],
             [
              1,
              "#000020"
             ]
            ],
            "type": "contourcarpet"
           }
          ],
          "heatmap": [
           {
            "colorscale": [
             [
              0,
              "#000011"
             ],
             [
              0.1111111111111111,
              "#000012"
             ],
             [
              0.2222222222222222,
              "#000013"
             ],
             [
              0.3333333333333333,
              "#000014"
             ],
             [
              0.4444444444444444,
              "#000015"
             ],
             [
              0.5555555555555556,
              "#000016"
             ],
             [
              0.6666666666666666,
              "#000017"
             ],
             [
              0.7777777777777778,
              "#000018"
             ],
             [
              0.8888888888888888,
              "#000019"
             ],
             [
              1,
              "#000020"
             ]
            ],
            "type": "heatmap"
           }
          ],
          "histogram2d": [
           {
            "colorscale": [
             [
              0,
              "#000011"
             ],
             [
              0.1111111111111111,
              "#000012"
             ],
             [
              0.2222222222222222,
              "#000013"
             ],
             [
              0.3333333333333333,
              "#000014"
             ],
             [
              0.4444444444444444,
              "#000015"
             ],
             [
              0.5555555555555556,
              "#000016"
             ],
             [
              0.6666666666666666,
              "#000017"
             ],
             [
              0.7777777777777778,
              "#000018"
             ],
             [
              0.8888888888888888,
              "#000019"
             ],
             [
              1,
              "#000020"
             ]
            ],
            "type": "histogram2d"
           }
          ],
          "icicle": [
           {
            "textfont": {
             "color": "white"
            },
            "type": "icicle"
           }
          ],
          "sankey": [
           {
            "textfont": {
             "color": "#000036"
            },
            "type": "sankey"
           }
          ],
          "scatter": [
           {
            "marker": {
             "line": {
              "width": 0
             }
            },
            "type": "scatter"
           }
          ],
          "table": [
           {
            "cells": {
             "fill": {
              "color": "#000038"
             },
             "font": {
              "color": "#000037"
             },
             "line": {
              "color": "#000039"
             }
            },
            "header": {
             "fill": {
              "color": "#000040"
             },
             "font": {
              "color": "#000036"
             },
             "line": {
              "color": "#000039"
             }
            },
            "type": "table"
           }
          ],
          "waterfall": [
           {
            "connector": {
             "line": {
              "color": "#000036",
              "width": 2
             }
            },
            "decreasing": {
             "marker": {
              "color": "#000033"
             }
            },
            "increasing": {
             "marker": {
              "color": "#000032"
             }
            },
            "totals": {
             "marker": {
              "color": "#000034"
             }
            },
            "type": "waterfall"
           }
          ]
         },
         "layout": {
          "coloraxis": {
           "colorscale": [
            [
             0,
             "#000011"
            ],
            [
             0.1111111111111111,
             "#000012"
            ],
            [
             0.2222222222222222,
             "#000013"
            ],
            [
             0.3333333333333333,
             "#000014"
            ],
            [
             0.4444444444444444,
             "#000015"
            ],
            [
             0.5555555555555556,
             "#000016"
            ],
            [
             0.6666666666666666,
             "#000017"
            ],
            [
             0.7777777777777778,
             "#000018"
            ],
            [
             0.8888888888888888,
             "#000019"
            ],
            [
             1,
             "#000020"
            ]
           ]
          },
          "colorscale": {
           "diverging": [
            [
             0,
             "#000021"
            ],
            [
             0.1,
             "#000022"
            ],
            [
             0.2,
             "#000023"
            ],
            [
             0.3,
             "#000024"
            ],
            [
             0.4,
             "#000025"
            ],
            [
             0.5,
             "#000026"
            ],
            [
             0.6,
             "#000027"
            ],
            [
             0.7,
             "#000028"
            ],
            [
             0.8,
             "#000029"
            ],
            [
             0.9,
             "#000030"
            ],
            [
             1,
             "#000031"
            ]
           ],
           "sequential": [
            [
             0,
             "#000011"
            ],
            [
             0.1111111111111111,
             "#000012"
            ],
            [
             0.2222222222222222,
             "#000013"
            ],
            [
             0.3333333333333333,
             "#000014"
            ],
            [
             0.4444444444444444,
             "#000015"
            ],
            [
             0.5555555555555556,
             "#000016"
            ],
            [
             0.6666666666666666,
             "#000017"
            ],
            [
             0.7777777777777778,
             "#000018"
            ],
            [
             0.8888888888888888,
             "#000019"
            ],
            [
             1,
             "#000020"
            ]
           ],
           "sequentialminus": [
            [
             0,
             "#000011"
            ],
            [
             0.1111111111111111,
             "#000012"
            ],
            [
             0.2222222222222222,
             "#000013"
            ],
            [
             0.3333333333333333,
             "#000014"
            ],
            [
             0.4444444444444444,
             "#000015"
            ],
            [
             0.5555555555555556,
             "#000016"
            ],
            [
             0.6666666666666666,
             "#000017"
            ],
            [
             0.7777777777777778,
             "#000018"
            ],
            [
             0.8888888888888888,
             "#000019"
            ],
            [
             1,
             "#000020"
            ]
           ]
          },
          "colorway": [
           "#000001",
           "#000002",
           "#000003",
           "#000004",
           "#000005",
           "#000006",
           "#000007",
           "#000008",
           "#000009",
           "#000010"
          ]
         }
        },
        "width": 1200,
        "xaxis": {
         "anchor": "y",
         "constrain": "domain",
         "domain": [
          0,
          1
         ],
         "scaleanchor": "y"
        },
        "yaxis": {
         "anchor": "x",
         "autorange": "reversed",
         "constrain": "domain",
         "domain": [
          0,
          1
         ]
        }
       }
      }
     },
     "metadata": {},
     "output_type": "display_data"
    },
    {
     "data": {
      "application/vnd.plotly.v1+json": {
       "config": {
        "plotlyServerURL": "https://plotly.com"
       },
       "data": [
        {
         "alignmentgroup": "True",
         "hovertemplate": "edit=%{x}<br>target=Ball-Key<br>instruction=Ball<br>percent_change=%{y}<extra></extra>",
         "legendgroup": "0_instruction_complement_26_S5",
         "marker": {
          "color": "#636efa",
          "line": {
           "width": 0
          },
          "pattern": {
           "shape": ""
          }
         },
         "name": "0_instruction_complement_26_S5",
         "offsetgroup": "0_instruction_complement_26_S5",
         "orientation": "v",
         "showlegend": true,
         "textposition": "auto",
         "texttemplate": "%{y}",
         "type": "bar",
         "width": 0.8,
         "x": [
          "0_instruction_complement_26_S5"
         ],
         "xaxis": "x3",
         "y": [
          1
         ],
         "yaxis": "y3"
        },
        {
         "alignmentgroup": "True",
         "hovertemplate": "edit=%{x}<br>target=Ball-Key<br>instruction=Key<br>percent_change=%{y}<extra></extra>",
         "legendgroup": "0_instruction_complement_26_S5",
         "marker": {
          "color": "#636efa",
          "line": {
           "width": 0
          },
          "pattern": {
           "shape": ""
          }
         },
         "name": "0_instruction_complement_26_S5",
         "offsetgroup": "0_instruction_complement_26_S5",
         "orientation": "v",
         "showlegend": false,
         "textposition": "auto",
         "texttemplate": "%{y}",
         "type": "bar",
         "width": 0.8,
         "x": [
          "0_instruction_complement_26_S5"
         ],
         "xaxis": "x4",
         "y": [
          1
         ],
         "yaxis": "y4"
        },
        {
         "alignmentgroup": "True",
         "hovertemplate": "edit=%{x}<br>target=Key-Ball<br>instruction=Ball<br>percent_change=%{y}<extra></extra>",
         "legendgroup": "0_instruction_complement_26_S5",
         "marker": {
          "color": "#636efa",
          "line": {
           "width": 0
          },
          "pattern": {
           "shape": ""
          }
         },
         "name": "0_instruction_complement_26_S5",
         "offsetgroup": "0_instruction_complement_26_S5",
         "orientation": "v",
         "showlegend": false,
         "textposition": "auto",
         "texttemplate": "%{y}",
         "type": "bar",
         "width": 0.8,
         "x": [
          "0_instruction_complement_26_S5"
         ],
         "xaxis": "x",
         "y": [
          1
         ],
         "yaxis": "y"
        },
        {
         "alignmentgroup": "True",
         "hovertemplate": "edit=%{x}<br>target=Key-Ball<br>instruction=Key<br>percent_change=%{y}<extra></extra>",
         "legendgroup": "0_instruction_complement_26_S5",
         "marker": {
          "color": "#636efa",
          "line": {
           "width": 0
          },
          "pattern": {
           "shape": ""
          }
         },
         "name": "0_instruction_complement_26_S5",
         "offsetgroup": "0_instruction_complement_26_S5",
         "orientation": "v",
         "showlegend": false,
         "textposition": "auto",
         "texttemplate": "%{y}",
         "type": "bar",
         "width": 0.8,
         "x": [
          "0_instruction_complement_26_S5"
         ],
         "xaxis": "x2",
         "y": [
          1
         ],
         "yaxis": "y2"
        },
        {
         "alignmentgroup": "True",
         "hovertemplate": "edit=%{x}<br>target=Ball-Key<br>instruction=Ball<br>percent_change=%{y}<extra></extra>",
         "legendgroup": "1_instruction_complement_05_S5",
         "marker": {
          "color": "#EF553B",
          "line": {
           "width": 0
          },
          "pattern": {
           "shape": ""
          }
         },
         "name": "1_instruction_complement_05_S5",
         "offsetgroup": "1_instruction_complement_05_S5",
         "orientation": "v",
         "showlegend": true,
         "textposition": "auto",
         "texttemplate": "%{y}",
         "type": "bar",
         "width": 0.8,
         "x": [
          "1_instruction_complement_05_S5"
         ],
         "xaxis": "x3",
         "y": [
          0.33790069818496704
         ],
         "yaxis": "y3"
        },
        {
         "alignmentgroup": "True",
         "hovertemplate": "edit=%{x}<br>target=Ball-Key<br>instruction=Key<br>percent_change=%{y}<extra></extra>",
         "legendgroup": "1_instruction_complement_05_S5",
         "marker": {
          "color": "#EF553B",
          "line": {
           "width": 0
          },
          "pattern": {
           "shape": ""
          }
         },
         "name": "1_instruction_complement_05_S5",
         "offsetgroup": "1_instruction_complement_05_S5",
         "orientation": "v",
         "showlegend": false,
         "textposition": "auto",
         "texttemplate": "%{y}",
         "type": "bar",
         "width": 0.8,
         "x": [
          "1_instruction_complement_05_S5"
         ],
         "xaxis": "x4",
         "y": [
          0.5005522966384888
         ],
         "yaxis": "y4"
        },
        {
         "alignmentgroup": "True",
         "hovertemplate": "edit=%{x}<br>target=Key-Ball<br>instruction=Ball<br>percent_change=%{y}<extra></extra>",
         "legendgroup": "1_instruction_complement_05_S5",
         "marker": {
          "color": "#EF553B",
          "line": {
           "width": 0
          },
          "pattern": {
           "shape": ""
          }
         },
         "name": "1_instruction_complement_05_S5",
         "offsetgroup": "1_instruction_complement_05_S5",
         "orientation": "v",
         "showlegend": false,
         "textposition": "auto",
         "texttemplate": "%{y}",
         "type": "bar",
         "width": 0.8,
         "x": [
          "1_instruction_complement_05_S5"
         ],
         "xaxis": "x",
         "y": [
          0.2636144459247589
         ],
         "yaxis": "y"
        },
        {
         "alignmentgroup": "True",
         "hovertemplate": "edit=%{x}<br>target=Key-Ball<br>instruction=Key<br>percent_change=%{y}<extra></extra>",
         "legendgroup": "1_instruction_complement_05_S5",
         "marker": {
          "color": "#EF553B",
          "line": {
           "width": 0
          },
          "pattern": {
           "shape": ""
          }
         },
         "name": "1_instruction_complement_05_S5",
         "offsetgroup": "1_instruction_complement_05_S5",
         "orientation": "v",
         "showlegend": false,
         "textposition": "auto",
         "texttemplate": "%{y}",
         "type": "bar",
         "width": 0.8,
         "x": [
          "1_instruction_complement_05_S5"
         ],
         "xaxis": "x2",
         "y": [
          0.44138309359550476
         ],
         "yaxis": "y2"
        },
        {
         "alignmentgroup": "True",
         "hovertemplate": "edit=%{x}<br>target=Ball-Key<br>instruction=Ball<br>percent_change=%{y}<extra></extra>",
         "legendgroup": "2_instruction_complement_42_S5",
         "marker": {
          "color": "#00cc96",
          "line": {
           "width": 0
          },
          "pattern": {
           "shape": ""
          }
         },
         "name": "2_instruction_complement_42_S5",
         "offsetgroup": "2_instruction_complement_42_S5",
         "orientation": "v",
         "showlegend": true,
         "textposition": "auto",
         "texttemplate": "%{y}",
         "type": "bar",
         "width": 0.8,
         "x": [
          "2_instruction_complement_42_S5"
         ],
         "xaxis": "x3",
         "y": [
          0.09557072073221207
         ],
         "yaxis": "y3"
        },
        {
         "alignmentgroup": "True",
         "hovertemplate": "edit=%{x}<br>target=Ball-Key<br>instruction=Key<br>percent_change=%{y}<extra></extra>",
         "legendgroup": "2_instruction_complement_42_S5",
         "marker": {
          "color": "#00cc96",
          "line": {
           "width": 0
          },
          "pattern": {
           "shape": ""
          }
         },
         "name": "2_instruction_complement_42_S5",
         "offsetgroup": "2_instruction_complement_42_S5",
         "orientation": "v",
         "showlegend": false,
         "textposition": "auto",
         "texttemplate": "%{y}",
         "type": "bar",
         "width": 0.8,
         "x": [
          "2_instruction_complement_42_S5"
         ],
         "xaxis": "x4",
         "y": [
          0.5539146661758423
         ],
         "yaxis": "y4"
        },
        {
         "alignmentgroup": "True",
         "hovertemplate": "edit=%{x}<br>target=Key-Ball<br>instruction=Ball<br>percent_change=%{y}<extra></extra>",
         "legendgroup": "2_instruction_complement_42_S5",
         "marker": {
          "color": "#00cc96",
          "line": {
           "width": 0
          },
          "pattern": {
           "shape": ""
          }
         },
         "name": "2_instruction_complement_42_S5",
         "offsetgroup": "2_instruction_complement_42_S5",
         "orientation": "v",
         "showlegend": false,
         "textposition": "auto",
         "texttemplate": "%{y}",
         "type": "bar",
         "width": 0.8,
         "x": [
          "2_instruction_complement_42_S5"
         ],
         "xaxis": "x",
         "y": [
          0.17889201641082764
         ],
         "yaxis": "y"
        },
        {
         "alignmentgroup": "True",
         "hovertemplate": "edit=%{x}<br>target=Key-Ball<br>instruction=Key<br>percent_change=%{y}<extra></extra>",
         "legendgroup": "2_instruction_complement_42_S5",
         "marker": {
          "color": "#00cc96",
          "line": {
           "width": 0
          },
          "pattern": {
           "shape": ""
          }
         },
         "name": "2_instruction_complement_42_S5",
         "offsetgroup": "2_instruction_complement_42_S5",
         "orientation": "v",
         "showlegend": false,
         "textposition": "auto",
         "texttemplate": "%{y}",
         "type": "bar",
         "width": 0.8,
         "x": [
          "2_instruction_complement_42_S5"
         ],
         "xaxis": "x2",
         "y": [
          0.5633398294448853
         ],
         "yaxis": "y2"
        },
        {
         "alignmentgroup": "True",
         "hovertemplate": "edit=%{x}<br>target=Ball-Key<br>instruction=Ball<br>percent_change=%{y}<extra></extra>",
         "legendgroup": "3_instruction_complement_05_42_S5",
         "marker": {
          "color": "#ab63fa",
          "line": {
           "width": 0
          },
          "pattern": {
           "shape": ""
          }
         },
         "name": "3_instruction_complement_05_42_S5",
         "offsetgroup": "3_instruction_complement_05_42_S5",
         "orientation": "v",
         "showlegend": true,
         "textposition": "auto",
         "texttemplate": "%{y}",
         "type": "bar",
         "width": 0.8,
         "x": [
          "3_instruction_complement_05_42_S5"
         ],
         "xaxis": "x3",
         "y": [
          0.9214518666267395
         ],
         "yaxis": "y3"
        },
        {
         "alignmentgroup": "True",
         "hovertemplate": "edit=%{x}<br>target=Ball-Key<br>instruction=Key<br>percent_change=%{y}<extra></extra>",
         "legendgroup": "3_instruction_complement_05_42_S5",
         "marker": {
          "color": "#ab63fa",
          "line": {
           "width": 0
          },
          "pattern": {
           "shape": ""
          }
         },
         "name": "3_instruction_complement_05_42_S5",
         "offsetgroup": "3_instruction_complement_05_42_S5",
         "orientation": "v",
         "showlegend": false,
         "textposition": "auto",
         "texttemplate": "%{y}",
         "type": "bar",
         "width": 0.8,
         "x": [
          "3_instruction_complement_05_42_S5"
         ],
         "xaxis": "x4",
         "y": [
          0.8424263000488281
         ],
         "yaxis": "y4"
        },
        {
         "alignmentgroup": "True",
         "hovertemplate": "edit=%{x}<br>target=Key-Ball<br>instruction=Ball<br>percent_change=%{y}<extra></extra>",
         "legendgroup": "3_instruction_complement_05_42_S5",
         "marker": {
          "color": "#ab63fa",
          "line": {
           "width": 0
          },
          "pattern": {
           "shape": ""
          }
         },
         "name": "3_instruction_complement_05_42_S5",
         "offsetgroup": "3_instruction_complement_05_42_S5",
         "orientation": "v",
         "showlegend": false,
         "textposition": "auto",
         "texttemplate": "%{y}",
         "type": "bar",
         "width": 0.8,
         "x": [
          "3_instruction_complement_05_42_S5"
         ],
         "xaxis": "x",
         "y": [
          0.7504144906997681
         ],
         "yaxis": "y"
        },
        {
         "alignmentgroup": "True",
         "hovertemplate": "edit=%{x}<br>target=Key-Ball<br>instruction=Key<br>percent_change=%{y}<extra></extra>",
         "legendgroup": "3_instruction_complement_05_42_S5",
         "marker": {
          "color": "#ab63fa",
          "line": {
           "width": 0
          },
          "pattern": {
           "shape": ""
          }
         },
         "name": "3_instruction_complement_05_42_S5",
         "offsetgroup": "3_instruction_complement_05_42_S5",
         "orientation": "v",
         "showlegend": false,
         "textposition": "auto",
         "texttemplate": "%{y}",
         "type": "bar",
         "width": 0.8,
         "x": [
          "3_instruction_complement_05_42_S5"
         ],
         "xaxis": "x2",
         "y": [
          0.8480239510536194
         ],
         "yaxis": "y2"
        },
        {
         "alignmentgroup": "True",
         "hovertemplate": "edit=%{x}<br>target=Ball-Key<br>instruction=Ball<br>percent_change=%{y}<extra></extra>",
         "legendgroup": "original",
         "marker": {
          "color": "#FFA15A",
          "line": {
           "width": 0
          },
          "pattern": {
           "shape": ""
          }
         },
         "name": "original",
         "offsetgroup": "original",
         "orientation": "v",
         "showlegend": true,
         "textposition": "auto",
         "texttemplate": "%{y}",
         "type": "bar",
         "width": 0.8,
         "x": [
          "original"
         ],
         "xaxis": "x3",
         "y": [
          0
         ],
         "yaxis": "y3"
        },
        {
         "alignmentgroup": "True",
         "hovertemplate": "edit=%{x}<br>target=Ball-Key<br>instruction=Key<br>percent_change=%{y}<extra></extra>",
         "legendgroup": "original",
         "marker": {
          "color": "#FFA15A",
          "line": {
           "width": 0
          },
          "pattern": {
           "shape": ""
          }
         },
         "name": "original",
         "offsetgroup": "original",
         "orientation": "v",
         "showlegend": false,
         "textposition": "auto",
         "texttemplate": "%{y}",
         "type": "bar",
         "width": 0.8,
         "x": [
          "original"
         ],
         "xaxis": "x4",
         "y": [
          0
         ],
         "yaxis": "y4"
        },
        {
         "alignmentgroup": "True",
         "hovertemplate": "edit=%{x}<br>target=Key-Ball<br>instruction=Ball<br>percent_change=%{y}<extra></extra>",
         "legendgroup": "original",
         "marker": {
          "color": "#FFA15A",
          "line": {
           "width": 0
          },
          "pattern": {
           "shape": ""
          }
         },
         "name": "original",
         "offsetgroup": "original",
         "orientation": "v",
         "showlegend": false,
         "textposition": "auto",
         "texttemplate": "%{y}",
         "type": "bar",
         "width": 0.8,
         "x": [
          "original"
         ],
         "xaxis": "x",
         "y": [
          0
         ],
         "yaxis": "y"
        },
        {
         "alignmentgroup": "True",
         "hovertemplate": "edit=%{x}<br>target=Key-Ball<br>instruction=Key<br>percent_change=%{y}<extra></extra>",
         "legendgroup": "original",
         "marker": {
          "color": "#FFA15A",
          "line": {
           "width": 0
          },
          "pattern": {
           "shape": ""
          }
         },
         "name": "original",
         "offsetgroup": "original",
         "orientation": "v",
         "showlegend": false,
         "textposition": "auto",
         "texttemplate": "%{y}",
         "type": "bar",
         "width": 0.8,
         "x": [
          "original"
         ],
         "xaxis": "x2",
         "y": [
          0
         ],
         "yaxis": "y2"
        }
       ],
       "layout": {
        "annotations": [
         {
          "font": {},
          "showarrow": false,
          "text": "Ball",
          "x": 0.24,
          "xanchor": "center",
          "xref": "paper",
          "y": 1,
          "yanchor": "bottom",
          "yref": "paper"
         },
         {
          "font": {},
          "showarrow": false,
          "text": "Key",
          "x": 0.74,
          "xanchor": "center",
          "xref": "paper",
          "y": 1,
          "yanchor": "bottom",
          "yref": "paper"
         },
         {
          "font": {},
          "showarrow": false,
          "text": "Key-Ball",
          "textangle": 90,
          "x": 0.98,
          "xanchor": "left",
          "xref": "paper",
          "y": 0.2425,
          "yanchor": "middle",
          "yref": "paper"
         },
         {
          "font": {},
          "showarrow": false,
          "text": "Ball-Key",
          "textangle": 90,
          "x": 0.98,
          "xanchor": "left",
          "xref": "paper",
          "y": 0.7575000000000001,
          "yanchor": "middle",
          "yref": "paper"
         }
        ],
        "barmode": "group",
        "font": {
         "size": 24
        },
        "height": 800,
        "legend": {
         "title": {
          "text": "edit"
         },
         "tracegroupgap": 0
        },
        "margin": {
         "t": 60
        },
        "template": {
         "data": {
          "bar": [
           {
            "error_x": {
             "color": "#2a3f5f"
            },
            "error_y": {
             "color": "#2a3f5f"
            },
            "marker": {
             "line": {
              "color": "#E5ECF6",
              "width": 0.5
             },
             "pattern": {
              "fillmode": "overlay",
              "size": 10,
              "solidity": 0.2
             }
            },
            "type": "bar"
           }
          ],
          "barpolar": [
           {
            "marker": {
             "line": {
              "color": "#E5ECF6",
              "width": 0.5
             },
             "pattern": {
              "fillmode": "overlay",
              "size": 10,
              "solidity": 0.2
             }
            },
            "type": "barpolar"
           }
          ],
          "carpet": [
           {
            "aaxis": {
             "endlinecolor": "#2a3f5f",
             "gridcolor": "white",
             "linecolor": "white",
             "minorgridcolor": "white",
             "startlinecolor": "#2a3f5f"
            },
            "baxis": {
             "endlinecolor": "#2a3f5f",
             "gridcolor": "white",
             "linecolor": "white",
             "minorgridcolor": "white",
             "startlinecolor": "#2a3f5f"
            },
            "type": "carpet"
           }
          ],
          "choropleth": [
           {
            "colorbar": {
             "outlinewidth": 0,
             "ticks": ""
            },
            "type": "choropleth"
           }
          ],
          "contour": [
           {
            "colorbar": {
             "outlinewidth": 0,
             "ticks": ""
            },
            "colorscale": [
             [
              0,
              "#0d0887"
             ],
             [
              0.1111111111111111,
              "#46039f"
             ],
             [
              0.2222222222222222,
              "#7201a8"
             ],
             [
              0.3333333333333333,
              "#9c179e"
             ],
             [
              0.4444444444444444,
              "#bd3786"
             ],
             [
              0.5555555555555556,
              "#d8576b"
             ],
             [
              0.6666666666666666,
              "#ed7953"
             ],
             [
              0.7777777777777778,
              "#fb9f3a"
             ],
             [
              0.8888888888888888,
              "#fdca26"
             ],
             [
              1,
              "#f0f921"
             ]
            ],
            "type": "contour"
           }
          ],
          "contourcarpet": [
           {
            "colorbar": {
             "outlinewidth": 0,
             "ticks": ""
            },
            "type": "contourcarpet"
           }
          ],
          "heatmap": [
           {
            "colorbar": {
             "outlinewidth": 0,
             "ticks": ""
            },
            "colorscale": [
             [
              0,
              "#0d0887"
             ],
             [
              0.1111111111111111,
              "#46039f"
             ],
             [
              0.2222222222222222,
              "#7201a8"
             ],
             [
              0.3333333333333333,
              "#9c179e"
             ],
             [
              0.4444444444444444,
              "#bd3786"
             ],
             [
              0.5555555555555556,
              "#d8576b"
             ],
             [
              0.6666666666666666,
              "#ed7953"
             ],
             [
              0.7777777777777778,
              "#fb9f3a"
             ],
             [
              0.8888888888888888,
              "#fdca26"
             ],
             [
              1,
              "#f0f921"
             ]
            ],
            "type": "heatmap"
           }
          ],
          "heatmapgl": [
           {
            "colorbar": {
             "outlinewidth": 0,
             "ticks": ""
            },
            "colorscale": [
             [
              0,
              "#0d0887"
             ],
             [
              0.1111111111111111,
              "#46039f"
             ],
             [
              0.2222222222222222,
              "#7201a8"
             ],
             [
              0.3333333333333333,
              "#9c179e"
             ],
             [
              0.4444444444444444,
              "#bd3786"
             ],
             [
              0.5555555555555556,
              "#d8576b"
             ],
             [
              0.6666666666666666,
              "#ed7953"
             ],
             [
              0.7777777777777778,
              "#fb9f3a"
             ],
             [
              0.8888888888888888,
              "#fdca26"
             ],
             [
              1,
              "#f0f921"
             ]
            ],
            "type": "heatmapgl"
           }
          ],
          "histogram": [
           {
            "marker": {
             "pattern": {
              "fillmode": "overlay",
              "size": 10,
              "solidity": 0.2
             }
            },
            "type": "histogram"
           }
          ],
          "histogram2d": [
           {
            "colorbar": {
             "outlinewidth": 0,
             "ticks": ""
            },
            "colorscale": [
             [
              0,
              "#0d0887"
             ],
             [
              0.1111111111111111,
              "#46039f"
             ],
             [
              0.2222222222222222,
              "#7201a8"
             ],
             [
              0.3333333333333333,
              "#9c179e"
             ],
             [
              0.4444444444444444,
              "#bd3786"
             ],
             [
              0.5555555555555556,
              "#d8576b"
             ],
             [
              0.6666666666666666,
              "#ed7953"
             ],
             [
              0.7777777777777778,
              "#fb9f3a"
             ],
             [
              0.8888888888888888,
              "#fdca26"
             ],
             [
              1,
              "#f0f921"
             ]
            ],
            "type": "histogram2d"
           }
          ],
          "histogram2dcontour": [
           {
            "colorbar": {
             "outlinewidth": 0,
             "ticks": ""
            },
            "colorscale": [
             [
              0,
              "#0d0887"
             ],
             [
              0.1111111111111111,
              "#46039f"
             ],
             [
              0.2222222222222222,
              "#7201a8"
             ],
             [
              0.3333333333333333,
              "#9c179e"
             ],
             [
              0.4444444444444444,
              "#bd3786"
             ],
             [
              0.5555555555555556,
              "#d8576b"
             ],
             [
              0.6666666666666666,
              "#ed7953"
             ],
             [
              0.7777777777777778,
              "#fb9f3a"
             ],
             [
              0.8888888888888888,
              "#fdca26"
             ],
             [
              1,
              "#f0f921"
             ]
            ],
            "type": "histogram2dcontour"
           }
          ],
          "mesh3d": [
           {
            "colorbar": {
             "outlinewidth": 0,
             "ticks": ""
            },
            "type": "mesh3d"
           }
          ],
          "parcoords": [
           {
            "line": {
             "colorbar": {
              "outlinewidth": 0,
              "ticks": ""
             }
            },
            "type": "parcoords"
           }
          ],
          "pie": [
           {
            "automargin": true,
            "type": "pie"
           }
          ],
          "scatter": [
           {
            "fillpattern": {
             "fillmode": "overlay",
             "size": 10,
             "solidity": 0.2
            },
            "type": "scatter"
           }
          ],
          "scatter3d": [
           {
            "line": {
             "colorbar": {
              "outlinewidth": 0,
              "ticks": ""
             }
            },
            "marker": {
             "colorbar": {
              "outlinewidth": 0,
              "ticks": ""
             }
            },
            "type": "scatter3d"
           }
          ],
          "scattercarpet": [
           {
            "marker": {
             "colorbar": {
              "outlinewidth": 0,
              "ticks": ""
             }
            },
            "type": "scattercarpet"
           }
          ],
          "scattergeo": [
           {
            "marker": {
             "colorbar": {
              "outlinewidth": 0,
              "ticks": ""
             }
            },
            "type": "scattergeo"
           }
          ],
          "scattergl": [
           {
            "marker": {
             "colorbar": {
              "outlinewidth": 0,
              "ticks": ""
             }
            },
            "type": "scattergl"
           }
          ],
          "scattermapbox": [
           {
            "marker": {
             "colorbar": {
              "outlinewidth": 0,
              "ticks": ""
             }
            },
            "type": "scattermapbox"
           }
          ],
          "scatterpolar": [
           {
            "marker": {
             "colorbar": {
              "outlinewidth": 0,
              "ticks": ""
             }
            },
            "type": "scatterpolar"
           }
          ],
          "scatterpolargl": [
           {
            "marker": {
             "colorbar": {
              "outlinewidth": 0,
              "ticks": ""
             }
            },
            "type": "scatterpolargl"
           }
          ],
          "scatterternary": [
           {
            "marker": {
             "colorbar": {
              "outlinewidth": 0,
              "ticks": ""
             }
            },
            "type": "scatterternary"
           }
          ],
          "surface": [
           {
            "colorbar": {
             "outlinewidth": 0,
             "ticks": ""
            },
            "colorscale": [
             [
              0,
              "#0d0887"
             ],
             [
              0.1111111111111111,
              "#46039f"
             ],
             [
              0.2222222222222222,
              "#7201a8"
             ],
             [
              0.3333333333333333,
              "#9c179e"
             ],
             [
              0.4444444444444444,
              "#bd3786"
             ],
             [
              0.5555555555555556,
              "#d8576b"
             ],
             [
              0.6666666666666666,
              "#ed7953"
             ],
             [
              0.7777777777777778,
              "#fb9f3a"
             ],
             [
              0.8888888888888888,
              "#fdca26"
             ],
             [
              1,
              "#f0f921"
             ]
            ],
            "type": "surface"
           }
          ],
          "table": [
           {
            "cells": {
             "fill": {
              "color": "#EBF0F8"
             },
             "line": {
              "color": "white"
             }
            },
            "header": {
             "fill": {
              "color": "#C8D4E3"
             },
             "line": {
              "color": "white"
             }
            },
            "type": "table"
           }
          ]
         },
         "layout": {
          "annotationdefaults": {
           "arrowcolor": "#2a3f5f",
           "arrowhead": 0,
           "arrowwidth": 1
          },
          "autotypenumbers": "strict",
          "coloraxis": {
           "colorbar": {
            "outlinewidth": 0,
            "ticks": ""
           }
          },
          "colorscale": {
           "diverging": [
            [
             0,
             "#8e0152"
            ],
            [
             0.1,
             "#c51b7d"
            ],
            [
             0.2,
             "#de77ae"
            ],
            [
             0.3,
             "#f1b6da"
            ],
            [
             0.4,
             "#fde0ef"
            ],
            [
             0.5,
             "#f7f7f7"
            ],
            [
             0.6,
             "#e6f5d0"
            ],
            [
             0.7,
             "#b8e186"
            ],
            [
             0.8,
             "#7fbc41"
            ],
            [
             0.9,
             "#4d9221"
            ],
            [
             1,
             "#276419"
            ]
           ],
           "sequential": [
            [
             0,
             "#0d0887"
            ],
            [
             0.1111111111111111,
             "#46039f"
            ],
            [
             0.2222222222222222,
             "#7201a8"
            ],
            [
             0.3333333333333333,
             "#9c179e"
            ],
            [
             0.4444444444444444,
             "#bd3786"
            ],
            [
             0.5555555555555556,
             "#d8576b"
            ],
            [
             0.6666666666666666,
             "#ed7953"
            ],
            [
             0.7777777777777778,
             "#fb9f3a"
            ],
            [
             0.8888888888888888,
             "#fdca26"
            ],
            [
             1,
             "#f0f921"
            ]
           ],
           "sequentialminus": [
            [
             0,
             "#0d0887"
            ],
            [
             0.1111111111111111,
             "#46039f"
            ],
            [
             0.2222222222222222,
             "#7201a8"
            ],
            [
             0.3333333333333333,
             "#9c179e"
            ],
            [
             0.4444444444444444,
             "#bd3786"
            ],
            [
             0.5555555555555556,
             "#d8576b"
            ],
            [
             0.6666666666666666,
             "#ed7953"
            ],
            [
             0.7777777777777778,
             "#fb9f3a"
            ],
            [
             0.8888888888888888,
             "#fdca26"
            ],
            [
             1,
             "#f0f921"
            ]
           ]
          },
          "colorway": [
           "#636efa",
           "#EF553B",
           "#00cc96",
           "#ab63fa",
           "#FFA15A",
           "#19d3f3",
           "#FF6692",
           "#B6E880",
           "#FF97FF",
           "#FECB52"
          ],
          "font": {
           "color": "#2a3f5f"
          },
          "geo": {
           "bgcolor": "white",
           "lakecolor": "white",
           "landcolor": "#E5ECF6",
           "showlakes": true,
           "showland": true,
           "subunitcolor": "white"
          },
          "hoverlabel": {
           "align": "left"
          },
          "hovermode": "closest",
          "mapbox": {
           "style": "light"
          },
          "paper_bgcolor": "white",
          "plot_bgcolor": "#E5ECF6",
          "polar": {
           "angularaxis": {
            "gridcolor": "white",
            "linecolor": "white",
            "ticks": ""
           },
           "bgcolor": "#E5ECF6",
           "radialaxis": {
            "gridcolor": "white",
            "linecolor": "white",
            "ticks": ""
           }
          },
          "scene": {
           "xaxis": {
            "backgroundcolor": "#E5ECF6",
            "gridcolor": "white",
            "gridwidth": 2,
            "linecolor": "white",
            "showbackground": true,
            "ticks": "",
            "zerolinecolor": "white"
           },
           "yaxis": {
            "backgroundcolor": "#E5ECF6",
            "gridcolor": "white",
            "gridwidth": 2,
            "linecolor": "white",
            "showbackground": true,
            "ticks": "",
            "zerolinecolor": "white"
           },
           "zaxis": {
            "backgroundcolor": "#E5ECF6",
            "gridcolor": "white",
            "gridwidth": 2,
            "linecolor": "white",
            "showbackground": true,
            "ticks": "",
            "zerolinecolor": "white"
           }
          },
          "shapedefaults": {
           "line": {
            "color": "#2a3f5f"
           }
          },
          "ternary": {
           "aaxis": {
            "gridcolor": "white",
            "linecolor": "white",
            "ticks": ""
           },
           "baxis": {
            "gridcolor": "white",
            "linecolor": "white",
            "ticks": ""
           },
           "bgcolor": "#E5ECF6",
           "caxis": {
            "gridcolor": "white",
            "linecolor": "white",
            "ticks": ""
           }
          },
          "title": {
           "x": 0.05
          },
          "xaxis": {
           "automargin": true,
           "gridcolor": "white",
           "linecolor": "white",
           "ticks": "",
           "title": {
            "standoff": 15
           },
           "zerolinecolor": "white",
           "zerolinewidth": 2
          },
          "yaxis": {
           "automargin": true,
           "gridcolor": "white",
           "linecolor": "white",
           "ticks": "",
           "title": {
            "standoff": 15
           },
           "zerolinecolor": "white",
           "zerolinewidth": 2
          }
         }
        },
        "width": 1600,
        "xaxis": {
         "anchor": "y",
         "categoryarray": [
          "0_instruction_complement_26_S5",
          "1_instruction_complement_05_S5",
          "2_instruction_complement_42_S5",
          "3_instruction_complement_05_42_S5",
          "original"
         ],
         "categoryorder": "array",
         "domain": [
          0,
          0.48
         ],
         "showticklabels": false,
         "side": "left",
         "title": {
          "text": ""
         }
        },
        "xaxis2": {
         "anchor": "y2",
         "categoryarray": [
          "0_instruction_complement_26_S5",
          "1_instruction_complement_05_S5",
          "2_instruction_complement_42_S5",
          "3_instruction_complement_05_42_S5",
          "original"
         ],
         "categoryorder": "array",
         "domain": [
          0.5,
          0.98
         ],
         "matches": "x",
         "showticklabels": false,
         "side": "left",
         "title": {
          "text": ""
         }
        },
        "xaxis3": {
         "anchor": "y3",
         "domain": [
          0,
          0.48
         ],
         "matches": "x",
         "showticklabels": false,
         "side": "left",
         "title": {
          "text": ""
         }
        },
        "xaxis4": {
         "anchor": "y4",
         "domain": [
          0.5,
          0.98
         ],
         "matches": "x",
         "showticklabels": false,
         "side": "left",
         "title": {
          "text": ""
         }
        },
        "yaxis": {
         "anchor": "x",
         "domain": [
          0,
          0.485
         ],
         "showticklabels": false,
         "side": "left",
         "tickangle": 0,
         "title": {
          "text": ""
         }
        },
        "yaxis2": {
         "anchor": "x2",
         "domain": [
          0,
          0.485
         ],
         "matches": "y",
         "showticklabels": false,
         "side": "left",
         "tickangle": 0,
         "title": {
          "text": ""
         }
        },
        "yaxis3": {
         "anchor": "x3",
         "domain": [
          0.515,
          1
         ],
         "matches": "y",
         "showticklabels": false,
         "side": "left",
         "tickangle": 0,
         "title": {
          "text": ""
         }
        },
        "yaxis4": {
         "anchor": "x4",
         "domain": [
          0.515,
          1
         ],
         "matches": "y",
         "showticklabels": false,
         "side": "left",
         "tickangle": 0,
         "title": {
          "text": ""
         }
        }
       }
      }
     },
     "metadata": {},
     "output_type": "display_data"
    },
    {
     "data": {
      "application/vnd.plotly.v1+json": {
       "config": {
        "plotlyServerURL": "https://plotly.com"
       },
       "data": [
        {
         "alignmentgroup": "True",
         "hovertemplate": "edit=%{x}<br>target=Ball-Key<br>instruction=Ball<br>percent_change=%{y}<extra></extra>",
         "legendgroup": "0_instruction_complement_26_S5",
         "marker": {
          "color": "#636efa",
          "line": {
           "width": 0
          },
          "pattern": {
           "shape": ""
          }
         },
         "name": "0_instruction_complement_26_S5",
         "offsetgroup": "0_instruction_complement_26_S5",
         "orientation": "v",
         "showlegend": true,
         "textposition": "auto",
         "texttemplate": "%{y}",
         "type": "bar",
         "width": 0.8,
         "x": [
          "0_instruction_complement_26_S5"
         ],
         "xaxis": "x3",
         "y": [
          1
         ],
         "yaxis": "y3"
        },
        {
         "alignmentgroup": "True",
         "hovertemplate": "edit=%{x}<br>target=Ball-Key<br>instruction=Key<br>percent_change=%{y}<extra></extra>",
         "legendgroup": "0_instruction_complement_26_S5",
         "marker": {
          "color": "#636efa",
          "line": {
           "width": 0
          },
          "pattern": {
           "shape": ""
          }
         },
         "name": "0_instruction_complement_26_S5",
         "offsetgroup": "0_instruction_complement_26_S5",
         "orientation": "v",
         "showlegend": false,
         "textposition": "auto",
         "texttemplate": "%{y}",
         "type": "bar",
         "width": 0.8,
         "x": [
          "0_instruction_complement_26_S5"
         ],
         "xaxis": "x4",
         "y": [
          1
         ],
         "yaxis": "y4"
        },
        {
         "alignmentgroup": "True",
         "hovertemplate": "edit=%{x}<br>target=Key-Ball<br>instruction=Ball<br>percent_change=%{y}<extra></extra>",
         "legendgroup": "0_instruction_complement_26_S5",
         "marker": {
          "color": "#636efa",
          "line": {
           "width": 0
          },
          "pattern": {
           "shape": ""
          }
         },
         "name": "0_instruction_complement_26_S5",
         "offsetgroup": "0_instruction_complement_26_S5",
         "orientation": "v",
         "showlegend": false,
         "textposition": "auto",
         "texttemplate": "%{y}",
         "type": "bar",
         "width": 0.8,
         "x": [
          "0_instruction_complement_26_S5"
         ],
         "xaxis": "x",
         "y": [
          1
         ],
         "yaxis": "y"
        },
        {
         "alignmentgroup": "True",
         "hovertemplate": "edit=%{x}<br>target=Key-Ball<br>instruction=Key<br>percent_change=%{y}<extra></extra>",
         "legendgroup": "0_instruction_complement_26_S5",
         "marker": {
          "color": "#636efa",
          "line": {
           "width": 0
          },
          "pattern": {
           "shape": ""
          }
         },
         "name": "0_instruction_complement_26_S5",
         "offsetgroup": "0_instruction_complement_26_S5",
         "orientation": "v",
         "showlegend": false,
         "textposition": "auto",
         "texttemplate": "%{y}",
         "type": "bar",
         "width": 0.8,
         "x": [
          "0_instruction_complement_26_S5"
         ],
         "xaxis": "x2",
         "y": [
          1
         ],
         "yaxis": "y2"
        },
        {
         "alignmentgroup": "True",
         "hovertemplate": "edit=%{x}<br>target=Ball-Key<br>instruction=Ball<br>percent_change=%{y}<extra></extra>",
         "legendgroup": "1_instruction_complement_05_S5",
         "marker": {
          "color": "#EF553B",
          "line": {
           "width": 0
          },
          "pattern": {
           "shape": ""
          }
         },
         "name": "1_instruction_complement_05_S5",
         "offsetgroup": "1_instruction_complement_05_S5",
         "orientation": "v",
         "showlegend": true,
         "textposition": "auto",
         "texttemplate": "%{y}",
         "type": "bar",
         "width": 0.8,
         "x": [
          "1_instruction_complement_05_S5"
         ],
         "xaxis": "x3",
         "y": [
          0.4870031476020813
         ],
         "yaxis": "y3"
        },
        {
         "alignmentgroup": "True",
         "hovertemplate": "edit=%{x}<br>target=Ball-Key<br>instruction=Key<br>percent_change=%{y}<extra></extra>",
         "legendgroup": "1_instruction_complement_05_S5",
         "marker": {
          "color": "#EF553B",
          "line": {
           "width": 0
          },
          "pattern": {
           "shape": ""
          }
         },
         "name": "1_instruction_complement_05_S5",
         "offsetgroup": "1_instruction_complement_05_S5",
         "orientation": "v",
         "showlegend": false,
         "textposition": "auto",
         "texttemplate": "%{y}",
         "type": "bar",
         "width": 0.8,
         "x": [
          "1_instruction_complement_05_S5"
         ],
         "xaxis": "x4",
         "y": [
          0.17443065345287323
         ],
         "yaxis": "y4"
        },
        {
         "alignmentgroup": "True",
         "hovertemplate": "edit=%{x}<br>target=Key-Ball<br>instruction=Ball<br>percent_change=%{y}<extra></extra>",
         "legendgroup": "1_instruction_complement_05_S5",
         "marker": {
          "color": "#EF553B",
          "line": {
           "width": 0
          },
          "pattern": {
           "shape": ""
          }
         },
         "name": "1_instruction_complement_05_S5",
         "offsetgroup": "1_instruction_complement_05_S5",
         "orientation": "v",
         "showlegend": false,
         "textposition": "auto",
         "texttemplate": "%{y}",
         "type": "bar",
         "width": 0.8,
         "x": [
          "1_instruction_complement_05_S5"
         ],
         "xaxis": "x",
         "y": [
          0.5273597240447998
         ],
         "yaxis": "y"
        },
        {
         "alignmentgroup": "True",
         "hovertemplate": "edit=%{x}<br>target=Key-Ball<br>instruction=Key<br>percent_change=%{y}<extra></extra>",
         "legendgroup": "1_instruction_complement_05_S5",
         "marker": {
          "color": "#EF553B",
          "line": {
           "width": 0
          },
          "pattern": {
           "shape": ""
          }
         },
         "name": "1_instruction_complement_05_S5",
         "offsetgroup": "1_instruction_complement_05_S5",
         "orientation": "v",
         "showlegend": false,
         "textposition": "auto",
         "texttemplate": "%{y}",
         "type": "bar",
         "width": 0.8,
         "x": [
          "1_instruction_complement_05_S5"
         ],
         "xaxis": "x2",
         "y": [
          0.3396834433078766
         ],
         "yaxis": "y2"
        },
        {
         "alignmentgroup": "True",
         "hovertemplate": "edit=%{x}<br>target=Ball-Key<br>instruction=Ball<br>percent_change=%{y}<extra></extra>",
         "legendgroup": "2_instruction_complement_42_S5",
         "marker": {
          "color": "#00cc96",
          "line": {
           "width": 0
          },
          "pattern": {
           "shape": ""
          }
         },
         "name": "2_instruction_complement_42_S5",
         "offsetgroup": "2_instruction_complement_42_S5",
         "orientation": "v",
         "showlegend": true,
         "textposition": "auto",
         "texttemplate": "%{y}",
         "type": "bar",
         "width": 0.8,
         "x": [
          "2_instruction_complement_42_S5"
         ],
         "xaxis": "x3",
         "y": [
          0.06507138162851334
         ],
         "yaxis": "y3"
        },
        {
         "alignmentgroup": "True",
         "hovertemplate": "edit=%{x}<br>target=Ball-Key<br>instruction=Key<br>percent_change=%{y}<extra></extra>",
         "legendgroup": "2_instruction_complement_42_S5",
         "marker": {
          "color": "#00cc96",
          "line": {
           "width": 0
          },
          "pattern": {
           "shape": ""
          }
         },
         "name": "2_instruction_complement_42_S5",
         "offsetgroup": "2_instruction_complement_42_S5",
         "orientation": "v",
         "showlegend": false,
         "textposition": "auto",
         "texttemplate": "%{y}",
         "type": "bar",
         "width": 0.8,
         "x": [
          "2_instruction_complement_42_S5"
         ],
         "xaxis": "x4",
         "y": [
          0.21861615777015686
         ],
         "yaxis": "y4"
        },
        {
         "alignmentgroup": "True",
         "hovertemplate": "edit=%{x}<br>target=Key-Ball<br>instruction=Ball<br>percent_change=%{y}<extra></extra>",
         "legendgroup": "2_instruction_complement_42_S5",
         "marker": {
          "color": "#00cc96",
          "line": {
           "width": 0
          },
          "pattern": {
           "shape": ""
          }
         },
         "name": "2_instruction_complement_42_S5",
         "offsetgroup": "2_instruction_complement_42_S5",
         "orientation": "v",
         "showlegend": false,
         "textposition": "auto",
         "texttemplate": "%{y}",
         "type": "bar",
         "width": 0.8,
         "x": [
          "2_instruction_complement_42_S5"
         ],
         "xaxis": "x",
         "y": [
          0.3660943806171417
         ],
         "yaxis": "y"
        },
        {
         "alignmentgroup": "True",
         "hovertemplate": "edit=%{x}<br>target=Key-Ball<br>instruction=Key<br>percent_change=%{y}<extra></extra>",
         "legendgroup": "2_instruction_complement_42_S5",
         "marker": {
          "color": "#00cc96",
          "line": {
           "width": 0
          },
          "pattern": {
           "shape": ""
          }
         },
         "name": "2_instruction_complement_42_S5",
         "offsetgroup": "2_instruction_complement_42_S5",
         "orientation": "v",
         "showlegend": false,
         "textposition": "auto",
         "texttemplate": "%{y}",
         "type": "bar",
         "width": 0.8,
         "x": [
          "2_instruction_complement_42_S5"
         ],
         "xaxis": "x2",
         "y": [
          0.3537185490131378
         ],
         "yaxis": "y2"
        },
        {
         "alignmentgroup": "True",
         "hovertemplate": "edit=%{x}<br>target=Ball-Key<br>instruction=Ball<br>percent_change=%{y}<extra></extra>",
         "legendgroup": "3_instruction_complement_05_42_S5",
         "marker": {
          "color": "#ab63fa",
          "line": {
           "width": 0
          },
          "pattern": {
           "shape": ""
          }
         },
         "name": "3_instruction_complement_05_42_S5",
         "offsetgroup": "3_instruction_complement_05_42_S5",
         "orientation": "v",
         "showlegend": true,
         "textposition": "auto",
         "texttemplate": "%{y}",
         "type": "bar",
         "width": 0.8,
         "x": [
          "3_instruction_complement_05_42_S5"
         ],
         "xaxis": "x3",
         "y": [
          0.8284932971000671
         ],
         "yaxis": "y3"
        },
        {
         "alignmentgroup": "True",
         "hovertemplate": "edit=%{x}<br>target=Ball-Key<br>instruction=Key<br>percent_change=%{y}<extra></extra>",
         "legendgroup": "3_instruction_complement_05_42_S5",
         "marker": {
          "color": "#ab63fa",
          "line": {
           "width": 0
          },
          "pattern": {
           "shape": ""
          }
         },
         "name": "3_instruction_complement_05_42_S5",
         "offsetgroup": "3_instruction_complement_05_42_S5",
         "orientation": "v",
         "showlegend": false,
         "textposition": "auto",
         "texttemplate": "%{y}",
         "type": "bar",
         "width": 0.8,
         "x": [
          "3_instruction_complement_05_42_S5"
         ],
         "xaxis": "x4",
         "y": [
          0.893025815486908
         ],
         "yaxis": "y4"
        },
        {
         "alignmentgroup": "True",
         "hovertemplate": "edit=%{x}<br>target=Key-Ball<br>instruction=Ball<br>percent_change=%{y}<extra></extra>",
         "legendgroup": "3_instruction_complement_05_42_S5",
         "marker": {
          "color": "#ab63fa",
          "line": {
           "width": 0
          },
          "pattern": {
           "shape": ""
          }
         },
         "name": "3_instruction_complement_05_42_S5",
         "offsetgroup": "3_instruction_complement_05_42_S5",
         "orientation": "v",
         "showlegend": false,
         "textposition": "auto",
         "texttemplate": "%{y}",
         "type": "bar",
         "width": 0.8,
         "x": [
          "3_instruction_complement_05_42_S5"
         ],
         "xaxis": "x",
         "y": [
          0.9253354072570801
         ],
         "yaxis": "y"
        },
        {
         "alignmentgroup": "True",
         "hovertemplate": "edit=%{x}<br>target=Key-Ball<br>instruction=Key<br>percent_change=%{y}<extra></extra>",
         "legendgroup": "3_instruction_complement_05_42_S5",
         "marker": {
          "color": "#ab63fa",
          "line": {
           "width": 0
          },
          "pattern": {
           "shape": ""
          }
         },
         "name": "3_instruction_complement_05_42_S5",
         "offsetgroup": "3_instruction_complement_05_42_S5",
         "orientation": "v",
         "showlegend": false,
         "textposition": "auto",
         "texttemplate": "%{y}",
         "type": "bar",
         "width": 0.8,
         "x": [
          "3_instruction_complement_05_42_S5"
         ],
         "xaxis": "x2",
         "y": [
          0.6609624028205872
         ],
         "yaxis": "y2"
        },
        {
         "alignmentgroup": "True",
         "hovertemplate": "edit=%{x}<br>target=Ball-Key<br>instruction=Ball<br>percent_change=%{y}<extra></extra>",
         "legendgroup": "original",
         "marker": {
          "color": "#FFA15A",
          "line": {
           "width": 0
          },
          "pattern": {
           "shape": ""
          }
         },
         "name": "original",
         "offsetgroup": "original",
         "orientation": "v",
         "showlegend": true,
         "textposition": "auto",
         "texttemplate": "%{y}",
         "type": "bar",
         "width": 0.8,
         "x": [
          "original"
         ],
         "xaxis": "x3",
         "y": [
          0
         ],
         "yaxis": "y3"
        },
        {
         "alignmentgroup": "True",
         "hovertemplate": "edit=%{x}<br>target=Ball-Key<br>instruction=Key<br>percent_change=%{y}<extra></extra>",
         "legendgroup": "original",
         "marker": {
          "color": "#FFA15A",
          "line": {
           "width": 0
          },
          "pattern": {
           "shape": ""
          }
         },
         "name": "original",
         "offsetgroup": "original",
         "orientation": "v",
         "showlegend": false,
         "textposition": "auto",
         "texttemplate": "%{y}",
         "type": "bar",
         "width": 0.8,
         "x": [
          "original"
         ],
         "xaxis": "x4",
         "y": [
          0
         ],
         "yaxis": "y4"
        },
        {
         "alignmentgroup": "True",
         "hovertemplate": "edit=%{x}<br>target=Key-Ball<br>instruction=Ball<br>percent_change=%{y}<extra></extra>",
         "legendgroup": "original",
         "marker": {
          "color": "#FFA15A",
          "line": {
           "width": 0
          },
          "pattern": {
           "shape": ""
          }
         },
         "name": "original",
         "offsetgroup": "original",
         "orientation": "v",
         "showlegend": false,
         "textposition": "auto",
         "texttemplate": "%{y}",
         "type": "bar",
         "width": 0.8,
         "x": [
          "original"
         ],
         "xaxis": "x",
         "y": [
          0
         ],
         "yaxis": "y"
        },
        {
         "alignmentgroup": "True",
         "hovertemplate": "edit=%{x}<br>target=Key-Ball<br>instruction=Key<br>percent_change=%{y}<extra></extra>",
         "legendgroup": "original",
         "marker": {
          "color": "#FFA15A",
          "line": {
           "width": 0
          },
          "pattern": {
           "shape": ""
          }
         },
         "name": "original",
         "offsetgroup": "original",
         "orientation": "v",
         "showlegend": false,
         "textposition": "auto",
         "texttemplate": "%{y}",
         "type": "bar",
         "width": 0.8,
         "x": [
          "original"
         ],
         "xaxis": "x2",
         "y": [
          0
         ],
         "yaxis": "y2"
        }
       ],
       "layout": {
        "annotations": [
         {
          "font": {},
          "showarrow": false,
          "text": "Ball",
          "x": 0.24,
          "xanchor": "center",
          "xref": "paper",
          "y": 1,
          "yanchor": "bottom",
          "yref": "paper"
         },
         {
          "font": {},
          "showarrow": false,
          "text": "Key",
          "x": 0.74,
          "xanchor": "center",
          "xref": "paper",
          "y": 1,
          "yanchor": "bottom",
          "yref": "paper"
         },
         {
          "font": {},
          "showarrow": false,
          "text": "Key-Ball",
          "textangle": 90,
          "x": 0.98,
          "xanchor": "left",
          "xref": "paper",
          "y": 0.2425,
          "yanchor": "middle",
          "yref": "paper"
         },
         {
          "font": {},
          "showarrow": false,
          "text": "Ball-Key",
          "textangle": 90,
          "x": 0.98,
          "xanchor": "left",
          "xref": "paper",
          "y": 0.7575000000000001,
          "yanchor": "middle",
          "yref": "paper"
         }
        ],
        "barmode": "group",
        "font": {
         "size": 24
        },
        "height": 800,
        "legend": {
         "title": {
          "text": "edit"
         },
         "tracegroupgap": 0
        },
        "margin": {
         "t": 60
        },
        "template": {
         "data": {
          "bar": [
           {
            "error_x": {
             "color": "#2a3f5f"
            },
            "error_y": {
             "color": "#2a3f5f"
            },
            "marker": {
             "line": {
              "color": "#E5ECF6",
              "width": 0.5
             },
             "pattern": {
              "fillmode": "overlay",
              "size": 10,
              "solidity": 0.2
             }
            },
            "type": "bar"
           }
          ],
          "barpolar": [
           {
            "marker": {
             "line": {
              "color": "#E5ECF6",
              "width": 0.5
             },
             "pattern": {
              "fillmode": "overlay",
              "size": 10,
              "solidity": 0.2
             }
            },
            "type": "barpolar"
           }
          ],
          "carpet": [
           {
            "aaxis": {
             "endlinecolor": "#2a3f5f",
             "gridcolor": "white",
             "linecolor": "white",
             "minorgridcolor": "white",
             "startlinecolor": "#2a3f5f"
            },
            "baxis": {
             "endlinecolor": "#2a3f5f",
             "gridcolor": "white",
             "linecolor": "white",
             "minorgridcolor": "white",
             "startlinecolor": "#2a3f5f"
            },
            "type": "carpet"
           }
          ],
          "choropleth": [
           {
            "colorbar": {
             "outlinewidth": 0,
             "ticks": ""
            },
            "type": "choropleth"
           }
          ],
          "contour": [
           {
            "colorbar": {
             "outlinewidth": 0,
             "ticks": ""
            },
            "colorscale": [
             [
              0,
              "#0d0887"
             ],
             [
              0.1111111111111111,
              "#46039f"
             ],
             [
              0.2222222222222222,
              "#7201a8"
             ],
             [
              0.3333333333333333,
              "#9c179e"
             ],
             [
              0.4444444444444444,
              "#bd3786"
             ],
             [
              0.5555555555555556,
              "#d8576b"
             ],
             [
              0.6666666666666666,
              "#ed7953"
             ],
             [
              0.7777777777777778,
              "#fb9f3a"
             ],
             [
              0.8888888888888888,
              "#fdca26"
             ],
             [
              1,
              "#f0f921"
             ]
            ],
            "type": "contour"
           }
          ],
          "contourcarpet": [
           {
            "colorbar": {
             "outlinewidth": 0,
             "ticks": ""
            },
            "type": "contourcarpet"
           }
          ],
          "heatmap": [
           {
            "colorbar": {
             "outlinewidth": 0,
             "ticks": ""
            },
            "colorscale": [
             [
              0,
              "#0d0887"
             ],
             [
              0.1111111111111111,
              "#46039f"
             ],
             [
              0.2222222222222222,
              "#7201a8"
             ],
             [
              0.3333333333333333,
              "#9c179e"
             ],
             [
              0.4444444444444444,
              "#bd3786"
             ],
             [
              0.5555555555555556,
              "#d8576b"
             ],
             [
              0.6666666666666666,
              "#ed7953"
             ],
             [
              0.7777777777777778,
              "#fb9f3a"
             ],
             [
              0.8888888888888888,
              "#fdca26"
             ],
             [
              1,
              "#f0f921"
             ]
            ],
            "type": "heatmap"
           }
          ],
          "heatmapgl": [
           {
            "colorbar": {
             "outlinewidth": 0,
             "ticks": ""
            },
            "colorscale": [
             [
              0,
              "#0d0887"
             ],
             [
              0.1111111111111111,
              "#46039f"
             ],
             [
              0.2222222222222222,
              "#7201a8"
             ],
             [
              0.3333333333333333,
              "#9c179e"
             ],
             [
              0.4444444444444444,
              "#bd3786"
             ],
             [
              0.5555555555555556,
              "#d8576b"
             ],
             [
              0.6666666666666666,
              "#ed7953"
             ],
             [
              0.7777777777777778,
              "#fb9f3a"
             ],
             [
              0.8888888888888888,
              "#fdca26"
             ],
             [
              1,
              "#f0f921"
             ]
            ],
            "type": "heatmapgl"
           }
          ],
          "histogram": [
           {
            "marker": {
             "pattern": {
              "fillmode": "overlay",
              "size": 10,
              "solidity": 0.2
             }
            },
            "type": "histogram"
           }
          ],
          "histogram2d": [
           {
            "colorbar": {
             "outlinewidth": 0,
             "ticks": ""
            },
            "colorscale": [
             [
              0,
              "#0d0887"
             ],
             [
              0.1111111111111111,
              "#46039f"
             ],
             [
              0.2222222222222222,
              "#7201a8"
             ],
             [
              0.3333333333333333,
              "#9c179e"
             ],
             [
              0.4444444444444444,
              "#bd3786"
             ],
             [
              0.5555555555555556,
              "#d8576b"
             ],
             [
              0.6666666666666666,
              "#ed7953"
             ],
             [
              0.7777777777777778,
              "#fb9f3a"
             ],
             [
              0.8888888888888888,
              "#fdca26"
             ],
             [
              1,
              "#f0f921"
             ]
            ],
            "type": "histogram2d"
           }
          ],
          "histogram2dcontour": [
           {
            "colorbar": {
             "outlinewidth": 0,
             "ticks": ""
            },
            "colorscale": [
             [
              0,
              "#0d0887"
             ],
             [
              0.1111111111111111,
              "#46039f"
             ],
             [
              0.2222222222222222,
              "#7201a8"
             ],
             [
              0.3333333333333333,
              "#9c179e"
             ],
             [
              0.4444444444444444,
              "#bd3786"
             ],
             [
              0.5555555555555556,
              "#d8576b"
             ],
             [
              0.6666666666666666,
              "#ed7953"
             ],
             [
              0.7777777777777778,
              "#fb9f3a"
             ],
             [
              0.8888888888888888,
              "#fdca26"
             ],
             [
              1,
              "#f0f921"
             ]
            ],
            "type": "histogram2dcontour"
           }
          ],
          "mesh3d": [
           {
            "colorbar": {
             "outlinewidth": 0,
             "ticks": ""
            },
            "type": "mesh3d"
           }
          ],
          "parcoords": [
           {
            "line": {
             "colorbar": {
              "outlinewidth": 0,
              "ticks": ""
             }
            },
            "type": "parcoords"
           }
          ],
          "pie": [
           {
            "automargin": true,
            "type": "pie"
           }
          ],
          "scatter": [
           {
            "fillpattern": {
             "fillmode": "overlay",
             "size": 10,
             "solidity": 0.2
            },
            "type": "scatter"
           }
          ],
          "scatter3d": [
           {
            "line": {
             "colorbar": {
              "outlinewidth": 0,
              "ticks": ""
             }
            },
            "marker": {
             "colorbar": {
              "outlinewidth": 0,
              "ticks": ""
             }
            },
            "type": "scatter3d"
           }
          ],
          "scattercarpet": [
           {
            "marker": {
             "colorbar": {
              "outlinewidth": 0,
              "ticks": ""
             }
            },
            "type": "scattercarpet"
           }
          ],
          "scattergeo": [
           {
            "marker": {
             "colorbar": {
              "outlinewidth": 0,
              "ticks": ""
             }
            },
            "type": "scattergeo"
           }
          ],
          "scattergl": [
           {
            "marker": {
             "colorbar": {
              "outlinewidth": 0,
              "ticks": ""
             }
            },
            "type": "scattergl"
           }
          ],
          "scattermapbox": [
           {
            "marker": {
             "colorbar": {
              "outlinewidth": 0,
              "ticks": ""
             }
            },
            "type": "scattermapbox"
           }
          ],
          "scatterpolar": [
           {
            "marker": {
             "colorbar": {
              "outlinewidth": 0,
              "ticks": ""
             }
            },
            "type": "scatterpolar"
           }
          ],
          "scatterpolargl": [
           {
            "marker": {
             "colorbar": {
              "outlinewidth": 0,
              "ticks": ""
             }
            },
            "type": "scatterpolargl"
           }
          ],
          "scatterternary": [
           {
            "marker": {
             "colorbar": {
              "outlinewidth": 0,
              "ticks": ""
             }
            },
            "type": "scatterternary"
           }
          ],
          "surface": [
           {
            "colorbar": {
             "outlinewidth": 0,
             "ticks": ""
            },
            "colorscale": [
             [
              0,
              "#0d0887"
             ],
             [
              0.1111111111111111,
              "#46039f"
             ],
             [
              0.2222222222222222,
              "#7201a8"
             ],
             [
              0.3333333333333333,
              "#9c179e"
             ],
             [
              0.4444444444444444,
              "#bd3786"
             ],
             [
              0.5555555555555556,
              "#d8576b"
             ],
             [
              0.6666666666666666,
              "#ed7953"
             ],
             [
              0.7777777777777778,
              "#fb9f3a"
             ],
             [
              0.8888888888888888,
              "#fdca26"
             ],
             [
              1,
              "#f0f921"
             ]
            ],
            "type": "surface"
           }
          ],
          "table": [
           {
            "cells": {
             "fill": {
              "color": "#EBF0F8"
             },
             "line": {
              "color": "white"
             }
            },
            "header": {
             "fill": {
              "color": "#C8D4E3"
             },
             "line": {
              "color": "white"
             }
            },
            "type": "table"
           }
          ]
         },
         "layout": {
          "annotationdefaults": {
           "arrowcolor": "#2a3f5f",
           "arrowhead": 0,
           "arrowwidth": 1
          },
          "autotypenumbers": "strict",
          "coloraxis": {
           "colorbar": {
            "outlinewidth": 0,
            "ticks": ""
           }
          },
          "colorscale": {
           "diverging": [
            [
             0,
             "#8e0152"
            ],
            [
             0.1,
             "#c51b7d"
            ],
            [
             0.2,
             "#de77ae"
            ],
            [
             0.3,
             "#f1b6da"
            ],
            [
             0.4,
             "#fde0ef"
            ],
            [
             0.5,
             "#f7f7f7"
            ],
            [
             0.6,
             "#e6f5d0"
            ],
            [
             0.7,
             "#b8e186"
            ],
            [
             0.8,
             "#7fbc41"
            ],
            [
             0.9,
             "#4d9221"
            ],
            [
             1,
             "#276419"
            ]
           ],
           "sequential": [
            [
             0,
             "#0d0887"
            ],
            [
             0.1111111111111111,
             "#46039f"
            ],
            [
             0.2222222222222222,
             "#7201a8"
            ],
            [
             0.3333333333333333,
             "#9c179e"
            ],
            [
             0.4444444444444444,
             "#bd3786"
            ],
            [
             0.5555555555555556,
             "#d8576b"
            ],
            [
             0.6666666666666666,
             "#ed7953"
            ],
            [
             0.7777777777777778,
             "#fb9f3a"
            ],
            [
             0.8888888888888888,
             "#fdca26"
            ],
            [
             1,
             "#f0f921"
            ]
           ],
           "sequentialminus": [
            [
             0,
             "#0d0887"
            ],
            [
             0.1111111111111111,
             "#46039f"
            ],
            [
             0.2222222222222222,
             "#7201a8"
            ],
            [
             0.3333333333333333,
             "#9c179e"
            ],
            [
             0.4444444444444444,
             "#bd3786"
            ],
            [
             0.5555555555555556,
             "#d8576b"
            ],
            [
             0.6666666666666666,
             "#ed7953"
            ],
            [
             0.7777777777777778,
             "#fb9f3a"
            ],
            [
             0.8888888888888888,
             "#fdca26"
            ],
            [
             1,
             "#f0f921"
            ]
           ]
          },
          "colorway": [
           "#636efa",
           "#EF553B",
           "#00cc96",
           "#ab63fa",
           "#FFA15A",
           "#19d3f3",
           "#FF6692",
           "#B6E880",
           "#FF97FF",
           "#FECB52"
          ],
          "font": {
           "color": "#2a3f5f"
          },
          "geo": {
           "bgcolor": "white",
           "lakecolor": "white",
           "landcolor": "#E5ECF6",
           "showlakes": true,
           "showland": true,
           "subunitcolor": "white"
          },
          "hoverlabel": {
           "align": "left"
          },
          "hovermode": "closest",
          "mapbox": {
           "style": "light"
          },
          "paper_bgcolor": "white",
          "plot_bgcolor": "#E5ECF6",
          "polar": {
           "angularaxis": {
            "gridcolor": "white",
            "linecolor": "white",
            "ticks": ""
           },
           "bgcolor": "#E5ECF6",
           "radialaxis": {
            "gridcolor": "white",
            "linecolor": "white",
            "ticks": ""
           }
          },
          "scene": {
           "xaxis": {
            "backgroundcolor": "#E5ECF6",
            "gridcolor": "white",
            "gridwidth": 2,
            "linecolor": "white",
            "showbackground": true,
            "ticks": "",
            "zerolinecolor": "white"
           },
           "yaxis": {
            "backgroundcolor": "#E5ECF6",
            "gridcolor": "white",
            "gridwidth": 2,
            "linecolor": "white",
            "showbackground": true,
            "ticks": "",
            "zerolinecolor": "white"
           },
           "zaxis": {
            "backgroundcolor": "#E5ECF6",
            "gridcolor": "white",
            "gridwidth": 2,
            "linecolor": "white",
            "showbackground": true,
            "ticks": "",
            "zerolinecolor": "white"
           }
          },
          "shapedefaults": {
           "line": {
            "color": "#2a3f5f"
           }
          },
          "ternary": {
           "aaxis": {
            "gridcolor": "white",
            "linecolor": "white",
            "ticks": ""
           },
           "baxis": {
            "gridcolor": "white",
            "linecolor": "white",
            "ticks": ""
           },
           "bgcolor": "#E5ECF6",
           "caxis": {
            "gridcolor": "white",
            "linecolor": "white",
            "ticks": ""
           }
          },
          "title": {
           "x": 0.05
          },
          "xaxis": {
           "automargin": true,
           "gridcolor": "white",
           "linecolor": "white",
           "ticks": "",
           "title": {
            "standoff": 15
           },
           "zerolinecolor": "white",
           "zerolinewidth": 2
          },
          "yaxis": {
           "automargin": true,
           "gridcolor": "white",
           "linecolor": "white",
           "ticks": "",
           "title": {
            "standoff": 15
           },
           "zerolinecolor": "white",
           "zerolinewidth": 2
          }
         }
        },
        "width": 1600,
        "xaxis": {
         "anchor": "y",
         "categoryarray": [
          "0_instruction_complement_26_S5",
          "1_instruction_complement_05_S5",
          "2_instruction_complement_42_S5",
          "3_instruction_complement_05_42_S5",
          "original"
         ],
         "categoryorder": "array",
         "domain": [
          0,
          0.48
         ],
         "showticklabels": false,
         "side": "left",
         "title": {
          "text": ""
         }
        },
        "xaxis2": {
         "anchor": "y2",
         "categoryarray": [
          "0_instruction_complement_26_S5",
          "1_instruction_complement_05_S5",
          "2_instruction_complement_42_S5",
          "3_instruction_complement_05_42_S5",
          "original"
         ],
         "categoryorder": "array",
         "domain": [
          0.5,
          0.98
         ],
         "matches": "x",
         "showticklabels": false,
         "side": "left",
         "title": {
          "text": ""
         }
        },
        "xaxis3": {
         "anchor": "y3",
         "domain": [
          0,
          0.48
         ],
         "matches": "x",
         "showticklabels": false,
         "side": "left",
         "title": {
          "text": ""
         }
        },
        "xaxis4": {
         "anchor": "y4",
         "domain": [
          0.5,
          0.98
         ],
         "matches": "x",
         "showticklabels": false,
         "side": "left",
         "title": {
          "text": ""
         }
        },
        "yaxis": {
         "anchor": "x",
         "domain": [
          0,
          0.485
         ],
         "showticklabels": false,
         "side": "left",
         "tickangle": 0,
         "title": {
          "text": ""
         }
        },
        "yaxis2": {
         "anchor": "x2",
         "domain": [
          0,
          0.485
         ],
         "matches": "y",
         "showticklabels": false,
         "side": "left",
         "tickangle": 0,
         "title": {
          "text": ""
         }
        },
        "yaxis3": {
         "anchor": "x3",
         "domain": [
          0.515,
          1
         ],
         "matches": "y",
         "showticklabels": false,
         "side": "left",
         "tickangle": 0,
         "title": {
          "text": ""
         }
        },
        "yaxis4": {
         "anchor": "x4",
         "domain": [
          0.515,
          1
         ],
         "matches": "y",
         "showticklabels": false,
         "side": "left",
         "tickangle": 0,
         "title": {
          "text": ""
         }
        }
       }
      }
     },
     "metadata": {},
     "output_type": "display_data"
    }
   ],
   "source": [
    "import pandas as pd\n",
    "from src.streamlit_app.constants import IDX_TO_ACTION\n",
    "\n",
    "def get_predictions_for_scenariors(dt, scenario_dict, edit_descriptions, rtg = 0.8920):\n",
    "\n",
    "    # stack all the obs together\n",
    "    all_obs = torch.cat([scenario_dict[scenario].clone() for scenario in edit_descriptions], dim=0)\n",
    "\n",
    "    # set RTG\n",
    "    rtg = torch.ones(actions.shape[0], time.shape[1]).unsqueeze(-1) * rtg\n",
    "\n",
    "    # convert to tokens \n",
    "    num_edits = len(edit_descriptions)\n",
    "    tokens = dt.to_tokens(\n",
    "        all_obs, \n",
    "        actions.repeat(num_edits,1,1),\n",
    "        rtg.repeat(num_edits,1,1), \n",
    "        time.repeat(num_edits,1,1))\n",
    "\n",
    "    # run transfomer\n",
    "    x, cache = dt.transformer.run_with_cache(tokens, remove_batch_dim=False)\n",
    "\n",
    "    # get preds\n",
    "    _, action_preds, _ = dt.get_logits(\n",
    "        x, \n",
    "        batch_size=all_obs.shape[0], \n",
    "        seq_length=all_obs.shape[1],\n",
    "        no_actions=False,  # we always pad now.\n",
    "    ) # internal method that sometimes gets different args so we need to know them .\n",
    "\n",
    "    return action_preds\n",
    "\n",
    "def compile_action_preferences_df(\n",
    "        action_preds, \n",
    "        edit_descriptions, \n",
    "        scenario_labels,\n",
    "        reference_control=\"original\",\n",
    "        reference_test=\"instruction_complement_26_S5\"\n",
    "    ):\n",
    "\n",
    "    edit_descriptions_repeated = [item for item in edit_descriptions for i in range(len(scenario_labels))]\n",
    "    logits = pd.DataFrame(action_preds[:,-1,:].detach(), columns=IDX_TO_ACTION.values())\n",
    "    logits[\"edit\"] = edit_descriptions_repeated\n",
    "    logits[\"scenario\"] = scenario_labels * len(edit_descriptions)\n",
    "    logits[\"left_minus_right\"] = logits[\"left\"] - logits[\"right\"]\n",
    "    logits[\"instruction\"] = logits[\"scenario\"].apply(lambda x: x.split(\", \")[0])\n",
    "    logits[\"target\"] = logits[\"scenario\"].apply(lambda x: x.split(\", \")[1])\n",
    "    \n",
    "    # correct action is left if the instruction matches the left side of the target, right otherwise\n",
    "    logits[\"correct_action\"] = logits.apply(lambda x: \"left\" if x[\"instruction\"] == x[\"target\"].split(\"-\")[0] else \"right\", axis=1)\n",
    "\n",
    "\n",
    "\n",
    "    # get percent change from reference control\n",
    "    original_rows = logits[logits['edit'] == reference_control]\n",
    "    original_lmr = original_rows.groupby('scenario')['left_minus_right'].first().reset_index()\n",
    "    logits = pd.merge(logits, original_lmr, on='scenario', how='left', suffixes=('', '_control'))\n",
    "\n",
    "    # get percent change from reference test\n",
    "    original_rows = logits[logits['edit'] == reference_test]\n",
    "    original_lmr = original_rows.groupby('scenario')['left_minus_right'].first().reset_index()\n",
    "    logits = pd.merge(logits, original_lmr, on='scenario', how='left', suffixes=('', '_test'))\n",
    "\n",
    "    logits[\"percent_change\"] = (logits[\"left_minus_right\"] - logits[\"left_minus_right_control\"]) / \\\n",
    "         (logits[\"left_minus_right_test\"] - logits[\"left_minus_right_control\"])\n",
    "    \n",
    "    \n",
    "    keep_columns = [\"scenario\", \"edit\", \"instruction\", \"target\", \"correct_action\", \"left_minus_right\",\"percent_change\"]\n",
    "    logits = logits[keep_columns]\n",
    "    # sort by scenario\n",
    "    logits = logits.sort_values(by=[\"scenario\", \"edit\"])\n",
    "    return logits\n",
    "\n",
    "def plot_heatmap(logits_df):\n",
    "\n",
    "    num_scenarios = len(logits_df.scenario.unique())\n",
    "    num_edits = len(logits_df.edit.unique())\n",
    "    data = torch.tensor(logits_df.percent_change.values).reshape(num_scenarios, num_edits)\n",
    "    df = pd.DataFrame(data.numpy(), columns=logits_df.edit.unique(), index=logits_df.scenario.unique())\n",
    "\n",
    "    fig = px.imshow(df.T,\n",
    "            color_continuous_midpoint=0,\n",
    "            color_continuous_scale=\"RdBu\",\n",
    "            text_auto=True,\n",
    "    )\n",
    "\n",
    "    # set the widtth and height\n",
    "    fig.update_layout(width=1200, height=600)\n",
    "    # increase space below graph\n",
    "    fig.update_layout(margin=dict(b=150, r=20))\n",
    "    # move the colorbar much closer to the graph\n",
    "    \n",
    "    return fig \n",
    "\n",
    "def get_bar_chart(logits_df, scenario_labels):\n",
    "\n",
    "    fig = px.bar(\n",
    "        logits_df,\n",
    "        x = 'edit',\n",
    "        y=\"percent_change\", \n",
    "        color=\"edit\", \n",
    "        facet_col=\"instruction\",\n",
    "        facet_row=\"target\",\n",
    "        barmode=\"group\",\n",
    "        category_orders={\"scenario\": scenario_labels},\n",
    "        text_auto=True,\n",
    "        template=\"plotly\"\n",
    "    )\n",
    "    fig.update_layout(font=dict(size=24))\n",
    "    #update facet col label to be scenario\n",
    "    fig.for_each_annotation(lambda a: a.update(text=a.text.split(\"=\")[-1]))\n",
    "    # remove x and why labels\n",
    "    fig.update_xaxes(title_text=\"\", showticklabels=False)\n",
    "    # remove y labels\n",
    "    fig.update_yaxes(title_text=\"\", showticklabels=False)\n",
    "    # put facet row labels on left\n",
    "    fig.update_yaxes(tickangle=0, side=\"left\")\n",
    "    # increase the size of the bar \n",
    "    fig.update_traces(marker_line_width=0, width=0.8)\n",
    "\n",
    "\n",
    "    fig.update_xaxes(side=\"left\")\n",
    "    # make it taller and narrower\n",
    "    fig.update_layout(height=800, width=1600)\n",
    "\n",
    "    return fig \n",
    "\n",
    "# Select the scenarios to use\n",
    "edit_descriptions = [\n",
    "    \"original\",\n",
    "    \"0_instruction_complement_26_S5\",\n",
    "    \"1_instruction_complement_05_S5\",\n",
    "    \"2_instruction_complement_42_S5\",\n",
    "    \"3_instruction_complement_05_42_S5\",\n",
    "    # \"target_complement_S5\",\n",
    "    # \"target_complement_S9\",\n",
    "    # \"flipped_targets_full_start_and_end\",\n",
    "    # \"instruction_complement_05_S9\",\n",
    "    # \"instruction_complement_42_S9\",\n",
    "    # \"instruction_complement_05_42_S9\",\n",
    "]\n",
    "\n",
    "action_preds = get_predictions_for_scenariors(dt, scenario_dict, edit_descriptions, rtg = 0.8920)\n",
    "logits_df_rtg_high = compile_action_preferences_df(action_preds, edit_descriptions, scenario_labels,\n",
    "                                          reference_control = \"original\",\n",
    "                                          reference_test = \"0_instruction_complement_26_S5\")\n",
    "action_preds = get_predictions_for_scenariors(dt, scenario_dict, edit_descriptions, rtg = 0.000)\n",
    "logits_df_rtg_low = compile_action_preferences_df(action_preds, edit_descriptions, scenario_labels,\n",
    "                                          reference_control = \"original\",\n",
    "                                          reference_test = \"0_instruction_complement_26_S5\")\n",
    "\n",
    "# add _RTG to scenario labels\n",
    "logits_df_rtg_high[\"scenario\"] = logits_df_rtg_high[\"scenario\"].apply(lambda x: x + \"_RTG_0.8920\")\n",
    "logits_df_rtg_low[\"scenario\"] = logits_df_rtg_low[\"scenario\"].apply(lambda x: x + \"_RTG_0.0\")\n",
    "\n",
    "# combine the two dataframes\n",
    "logits_df = pd.concat([logits_df_rtg_high, logits_df_rtg_low])\n",
    "\n",
    "fig = plot_heatmap(logits_df)\n",
    "fig.show()\n",
    "\n",
    "fig = get_bar_chart(logits_df_rtg_high, scenario_labels)\n",
    "fig.show()\n",
    "\n",
    "fig = get_bar_chart(logits_df_rtg_low, scenario_labels)\n",
    "fig.show()"
   ]
  },
  {
   "cell_type": "code",
   "execution_count": null,
   "metadata": {},
   "outputs": [
    {
     "data": {
      "application/vnd.plotly.v1+json": {
       "config": {
        "plotlyServerURL": "https://plotly.com"
       },
       "data": [
        {
         "coloraxis": "coloraxis",
         "hovertemplate": "x: %{x}<br>y: %{y}<br>color: %{z}<extra></extra>",
         "name": "0",
         "texttemplate": "%{z}",
         "type": "heatmap",
         "x": [
          "Ball, Ball-Key_RTG_0.8920",
          "Ball, Key-Ball_RTG_0.8920",
          "Key, Ball-Key_RTG_0.8920",
          "Key, Key-Ball_RTG_0.8920",
          "Ball, Ball-Key_RTG_0.0",
          "Ball, Key-Ball_RTG_0.0",
          "Key, Ball-Key_RTG_0.0",
          "Key, Key-Ball_RTG_0.0"
         ],
         "xaxis": "x",
         "y": [
          "0_instruction_complement_26_S5",
          "1_instruction_complement_05_S5",
          "2_instruction_complement_42_S5",
          "3_instruction_complement_05_42_S5",
          "flipped_targets_full_start_and_end",
          "instruction_complement_05_42_S9",
          "instruction_complement_05_S9",
          "instruction_complement_42_S9",
          "original",
          "target_complement_S5",
          "target_complement_S9"
         ],
         "yaxis": "y",
         "z": [
          [
           1,
           1,
           1,
           1,
           1,
           1,
           1,
           1
          ],
          [
           0.33790069818496704,
           0.2636144459247589,
           0.5005522966384888,
           0.44138309359550476,
           0.4870031476020813,
           0.5273597240447998,
           0.17443065345287323,
           0.3396834433078766
          ],
          [
           0.09557072073221207,
           0.17889201641082764,
           0.5539146661758423,
           0.5633398294448853,
           0.06507138162851334,
           0.3660943806171417,
           0.21861615777015686,
           0.3537185490131378
          ],
          [
           0.9214518666267395,
           0.7504144906997681,
           0.8424263000488281,
           0.8480239510536194,
           0.8284932971000671,
           0.9253354072570801,
           0.893025815486908,
           0.6609624028205872
          ],
          [
           0.999074399471283,
           1.958769679069519,
           0.4645636975765228,
           0.9720022082328796,
           0.7386878132820129,
           0.6031556129455566,
           1.444779396057129,
           1.247767686843872
          ],
          [
           -0.022363174706697464,
           0.06401007622480392,
           0.43869879841804504,
           0.3983338177204132,
           -0.07884430885314941,
           0.014570011757314205,
           -0.03163071349263191,
           0.10466772317886353
          ],
          [
           -0.02208123914897442,
           0.02538282796740532,
           0.04486238211393356,
           0.27930086851119995,
           -0.02619919925928116,
           -0.04411449655890465,
           -0.026173558086156845,
           0.042832113802433014
          ],
          [
           0.006443107966333628,
           0.029149260371923447,
           0.13553442060947418,
           0.06822075694799423,
           -0.024865269660949707,
           0.04097053036093712,
           -0.030268341302871704,
           0.04174550250172615
          ],
          [
           0,
           0,
           0,
           0,
           0,
           0,
           0,
           0
          ],
          [
           0.0680435448884964,
           -0.032110102474689484,
           0.007996742613613605,
           0.5113109350204468,
           0.05502183735370636,
           -0.12253076583147049,
           0.19762644171714783,
           0.017537100240588188
          ],
          [
           1.018986701965332,
           1.8109058141708374,
           0.23199528455734253,
           0.952260434627533,
           0.9049951434135437,
           0.5574399828910828,
           1.4622355699539185,
           1.0841364860534668
          ]
         ]
        }
       ],
       "layout": {
        "coloraxis": {
         "cmid": 0,
         "colorscale": [
          [
           0,
           "rgb(103,0,31)"
          ],
          [
           0.1,
           "rgb(178,24,43)"
          ],
          [
           0.2,
           "rgb(214,96,77)"
          ],
          [
           0.3,
           "rgb(244,165,130)"
          ],
          [
           0.4,
           "rgb(253,219,199)"
          ],
          [
           0.5,
           "rgb(247,247,247)"
          ],
          [
           0.6,
           "rgb(209,229,240)"
          ],
          [
           0.7,
           "rgb(146,197,222)"
          ],
          [
           0.8,
           "rgb(67,147,195)"
          ],
          [
           0.9,
           "rgb(33,102,172)"
          ],
          [
           1,
           "rgb(5,48,97)"
          ]
         ]
        },
        "height": 600,
        "margin": {
         "b": 150,
         "r": 20,
         "t": 60
        },
        "template": {
         "data": {
          "candlestick": [
           {
            "decreasing": {
             "line": {
              "color": "#000033"
             }
            },
            "increasing": {
             "line": {
              "color": "#000032"
             }
            },
            "type": "candlestick"
           }
          ],
          "contour": [
           {
            "colorscale": [
             [
              0,
              "#000011"
             ],
             [
              0.1111111111111111,
              "#000012"
             ],
             [
              0.2222222222222222,
              "#000013"
             ],
             [
              0.3333333333333333,
              "#000014"
             ],
             [
              0.4444444444444444,
              "#000015"
             ],
             [
              0.5555555555555556,
              "#000016"
             ],
             [
              0.6666666666666666,
              "#000017"
             ],
             [
              0.7777777777777778,
              "#000018"
             ],
             [
              0.8888888888888888,
              "#000019"
             ],
             [
              1,
              "#000020"
             ]
            ],
            "type": "contour"
           }
          ],
          "contourcarpet": [
           {
            "colorscale": [
             [
              0,
              "#000011"
             ],
             [
              0.1111111111111111,
              "#000012"
             ],
             [
              0.2222222222222222,
              "#000013"
             ],
             [
              0.3333333333333333,
              "#000014"
             ],
             [
              0.4444444444444444,
              "#000015"
             ],
             [
              0.5555555555555556,
              "#000016"
             ],
             [
              0.6666666666666666,
              "#000017"
             ],
             [
              0.7777777777777778,
              "#000018"
             ],
             [
              0.8888888888888888,
              "#000019"
             ],
             [
              1,
              "#000020"
             ]
            ],
            "type": "contourcarpet"
           }
          ],
          "heatmap": [
           {
            "colorscale": [
             [
              0,
              "#000011"
             ],
             [
              0.1111111111111111,
              "#000012"
             ],
             [
              0.2222222222222222,
              "#000013"
             ],
             [
              0.3333333333333333,
              "#000014"
             ],
             [
              0.4444444444444444,
              "#000015"
             ],
             [
              0.5555555555555556,
              "#000016"
             ],
             [
              0.6666666666666666,
              "#000017"
             ],
             [
              0.7777777777777778,
              "#000018"
             ],
             [
              0.8888888888888888,
              "#000019"
             ],
             [
              1,
              "#000020"
             ]
            ],
            "type": "heatmap"
           }
          ],
          "histogram2d": [
           {
            "colorscale": [
             [
              0,
              "#000011"
             ],
             [
              0.1111111111111111,
              "#000012"
             ],
             [
              0.2222222222222222,
              "#000013"
             ],
             [
              0.3333333333333333,
              "#000014"
             ],
             [
              0.4444444444444444,
              "#000015"
             ],
             [
              0.5555555555555556,
              "#000016"
             ],
             [
              0.6666666666666666,
              "#000017"
             ],
             [
              0.7777777777777778,
              "#000018"
             ],
             [
              0.8888888888888888,
              "#000019"
             ],
             [
              1,
              "#000020"
             ]
            ],
            "type": "histogram2d"
           }
          ],
          "icicle": [
           {
            "textfont": {
             "color": "white"
            },
            "type": "icicle"
           }
          ],
          "sankey": [
           {
            "textfont": {
             "color": "#000036"
            },
            "type": "sankey"
           }
          ],
          "scatter": [
           {
            "marker": {
             "line": {
              "width": 0
             }
            },
            "type": "scatter"
           }
          ],
          "table": [
           {
            "cells": {
             "fill": {
              "color": "#000038"
             },
             "font": {
              "color": "#000037"
             },
             "line": {
              "color": "#000039"
             }
            },
            "header": {
             "fill": {
              "color": "#000040"
             },
             "font": {
              "color": "#000036"
             },
             "line": {
              "color": "#000039"
             }
            },
            "type": "table"
           }
          ],
          "waterfall": [
           {
            "connector": {
             "line": {
              "color": "#000036",
              "width": 2
             }
            },
            "decreasing": {
             "marker": {
              "color": "#000033"
             }
            },
            "increasing": {
             "marker": {
              "color": "#000032"
             }
            },
            "totals": {
             "marker": {
              "color": "#000034"
             }
            },
            "type": "waterfall"
           }
          ]
         },
         "layout": {
          "coloraxis": {
           "colorscale": [
            [
             0,
             "#000011"
            ],
            [
             0.1111111111111111,
             "#000012"
            ],
            [
             0.2222222222222222,
             "#000013"
            ],
            [
             0.3333333333333333,
             "#000014"
            ],
            [
             0.4444444444444444,
             "#000015"
            ],
            [
             0.5555555555555556,
             "#000016"
            ],
            [
             0.6666666666666666,
             "#000017"
            ],
            [
             0.7777777777777778,
             "#000018"
            ],
            [
             0.8888888888888888,
             "#000019"
            ],
            [
             1,
             "#000020"
            ]
           ]
          },
          "colorscale": {
           "diverging": [
            [
             0,
             "#000021"
            ],
            [
             0.1,
             "#000022"
            ],
            [
             0.2,
             "#000023"
            ],
            [
             0.3,
             "#000024"
            ],
            [
             0.4,
             "#000025"
            ],
            [
             0.5,
             "#000026"
            ],
            [
             0.6,
             "#000027"
            ],
            [
             0.7,
             "#000028"
            ],
            [
             0.8,
             "#000029"
            ],
            [
             0.9,
             "#000030"
            ],
            [
             1,
             "#000031"
            ]
           ],
           "sequential": [
            [
             0,
             "#000011"
            ],
            [
             0.1111111111111111,
             "#000012"
            ],
            [
             0.2222222222222222,
             "#000013"
            ],
            [
             0.3333333333333333,
             "#000014"
            ],
            [
             0.4444444444444444,
             "#000015"
            ],
            [
             0.5555555555555556,
             "#000016"
            ],
            [
             0.6666666666666666,
             "#000017"
            ],
            [
             0.7777777777777778,
             "#000018"
            ],
            [
             0.8888888888888888,
             "#000019"
            ],
            [
             1,
             "#000020"
            ]
           ],
           "sequentialminus": [
            [
             0,
             "#000011"
            ],
            [
             0.1111111111111111,
             "#000012"
            ],
            [
             0.2222222222222222,
             "#000013"
            ],
            [
             0.3333333333333333,
             "#000014"
            ],
            [
             0.4444444444444444,
             "#000015"
            ],
            [
             0.5555555555555556,
             "#000016"
            ],
            [
             0.6666666666666666,
             "#000017"
            ],
            [
             0.7777777777777778,
             "#000018"
            ],
            [
             0.8888888888888888,
             "#000019"
            ],
            [
             1,
             "#000020"
            ]
           ]
          },
          "colorway": [
           "#000001",
           "#000002",
           "#000003",
           "#000004",
           "#000005",
           "#000006",
           "#000007",
           "#000008",
           "#000009",
           "#000010"
          ]
         }
        },
        "width": 1200,
        "xaxis": {
         "anchor": "y",
         "constrain": "domain",
         "domain": [
          0,
          1
         ],
         "scaleanchor": "y"
        },
        "yaxis": {
         "anchor": "x",
         "autorange": "reversed",
         "constrain": "domain",
         "domain": [
          0,
          1
         ]
        }
       }
      }
     },
     "metadata": {},
     "output_type": "display_data"
    },
    {
     "data": {
      "application/vnd.plotly.v1+json": {
       "config": {
        "plotlyServerURL": "https://plotly.com"
       },
       "data": [
        {
         "alignmentgroup": "True",
         "hovertemplate": "edit=%{x}<br>target=Ball-Key<br>instruction=Ball<br>percent_change=%{y}<extra></extra>",
         "legendgroup": "0_instruction_complement_26_S5",
         "marker": {
          "color": "#636efa",
          "line": {
           "width": 0
          },
          "pattern": {
           "shape": ""
          }
         },
         "name": "0_instruction_complement_26_S5",
         "offsetgroup": "0_instruction_complement_26_S5",
         "orientation": "v",
         "showlegend": true,
         "textposition": "auto",
         "texttemplate": "%{y}",
         "type": "bar",
         "width": 0.8,
         "x": [
          "0_instruction_complement_26_S5"
         ],
         "xaxis": "x3",
         "y": [
          1
         ],
         "yaxis": "y3"
        },
        {
         "alignmentgroup": "True",
         "hovertemplate": "edit=%{x}<br>target=Ball-Key<br>instruction=Key<br>percent_change=%{y}<extra></extra>",
         "legendgroup": "0_instruction_complement_26_S5",
         "marker": {
          "color": "#636efa",
          "line": {
           "width": 0
          },
          "pattern": {
           "shape": ""
          }
         },
         "name": "0_instruction_complement_26_S5",
         "offsetgroup": "0_instruction_complement_26_S5",
         "orientation": "v",
         "showlegend": false,
         "textposition": "auto",
         "texttemplate": "%{y}",
         "type": "bar",
         "width": 0.8,
         "x": [
          "0_instruction_complement_26_S5"
         ],
         "xaxis": "x4",
         "y": [
          1
         ],
         "yaxis": "y4"
        },
        {
         "alignmentgroup": "True",
         "hovertemplate": "edit=%{x}<br>target=Key-Ball<br>instruction=Ball<br>percent_change=%{y}<extra></extra>",
         "legendgroup": "0_instruction_complement_26_S5",
         "marker": {
          "color": "#636efa",
          "line": {
           "width": 0
          },
          "pattern": {
           "shape": ""
          }
         },
         "name": "0_instruction_complement_26_S5",
         "offsetgroup": "0_instruction_complement_26_S5",
         "orientation": "v",
         "showlegend": false,
         "textposition": "auto",
         "texttemplate": "%{y}",
         "type": "bar",
         "width": 0.8,
         "x": [
          "0_instruction_complement_26_S5"
         ],
         "xaxis": "x",
         "y": [
          1
         ],
         "yaxis": "y"
        },
        {
         "alignmentgroup": "True",
         "hovertemplate": "edit=%{x}<br>target=Key-Ball<br>instruction=Key<br>percent_change=%{y}<extra></extra>",
         "legendgroup": "0_instruction_complement_26_S5",
         "marker": {
          "color": "#636efa",
          "line": {
           "width": 0
          },
          "pattern": {
           "shape": ""
          }
         },
         "name": "0_instruction_complement_26_S5",
         "offsetgroup": "0_instruction_complement_26_S5",
         "orientation": "v",
         "showlegend": false,
         "textposition": "auto",
         "texttemplate": "%{y}",
         "type": "bar",
         "width": 0.8,
         "x": [
          "0_instruction_complement_26_S5"
         ],
         "xaxis": "x2",
         "y": [
          1
         ],
         "yaxis": "y2"
        },
        {
         "alignmentgroup": "True",
         "hovertemplate": "edit=%{x}<br>target=Ball-Key<br>instruction=Ball<br>percent_change=%{y}<extra></extra>",
         "legendgroup": "1_instruction_complement_05_S5",
         "marker": {
          "color": "#EF553B",
          "line": {
           "width": 0
          },
          "pattern": {
           "shape": ""
          }
         },
         "name": "1_instruction_complement_05_S5",
         "offsetgroup": "1_instruction_complement_05_S5",
         "orientation": "v",
         "showlegend": true,
         "textposition": "auto",
         "texttemplate": "%{y}",
         "type": "bar",
         "width": 0.8,
         "x": [
          "1_instruction_complement_05_S5"
         ],
         "xaxis": "x3",
         "y": [
          0.33790069818496704
         ],
         "yaxis": "y3"
        },
        {
         "alignmentgroup": "True",
         "hovertemplate": "edit=%{x}<br>target=Ball-Key<br>instruction=Key<br>percent_change=%{y}<extra></extra>",
         "legendgroup": "1_instruction_complement_05_S5",
         "marker": {
          "color": "#EF553B",
          "line": {
           "width": 0
          },
          "pattern": {
           "shape": ""
          }
         },
         "name": "1_instruction_complement_05_S5",
         "offsetgroup": "1_instruction_complement_05_S5",
         "orientation": "v",
         "showlegend": false,
         "textposition": "auto",
         "texttemplate": "%{y}",
         "type": "bar",
         "width": 0.8,
         "x": [
          "1_instruction_complement_05_S5"
         ],
         "xaxis": "x4",
         "y": [
          0.5005522966384888
         ],
         "yaxis": "y4"
        },
        {
         "alignmentgroup": "True",
         "hovertemplate": "edit=%{x}<br>target=Key-Ball<br>instruction=Ball<br>percent_change=%{y}<extra></extra>",
         "legendgroup": "1_instruction_complement_05_S5",
         "marker": {
          "color": "#EF553B",
          "line": {
           "width": 0
          },
          "pattern": {
           "shape": ""
          }
         },
         "name": "1_instruction_complement_05_S5",
         "offsetgroup": "1_instruction_complement_05_S5",
         "orientation": "v",
         "showlegend": false,
         "textposition": "auto",
         "texttemplate": "%{y}",
         "type": "bar",
         "width": 0.8,
         "x": [
          "1_instruction_complement_05_S5"
         ],
         "xaxis": "x",
         "y": [
          0.2636144459247589
         ],
         "yaxis": "y"
        },
        {
         "alignmentgroup": "True",
         "hovertemplate": "edit=%{x}<br>target=Key-Ball<br>instruction=Key<br>percent_change=%{y}<extra></extra>",
         "legendgroup": "1_instruction_complement_05_S5",
         "marker": {
          "color": "#EF553B",
          "line": {
           "width": 0
          },
          "pattern": {
           "shape": ""
          }
         },
         "name": "1_instruction_complement_05_S5",
         "offsetgroup": "1_instruction_complement_05_S5",
         "orientation": "v",
         "showlegend": false,
         "textposition": "auto",
         "texttemplate": "%{y}",
         "type": "bar",
         "width": 0.8,
         "x": [
          "1_instruction_complement_05_S5"
         ],
         "xaxis": "x2",
         "y": [
          0.44138309359550476
         ],
         "yaxis": "y2"
        },
        {
         "alignmentgroup": "True",
         "hovertemplate": "edit=%{x}<br>target=Ball-Key<br>instruction=Ball<br>percent_change=%{y}<extra></extra>",
         "legendgroup": "2_instruction_complement_42_S5",
         "marker": {
          "color": "#00cc96",
          "line": {
           "width": 0
          },
          "pattern": {
           "shape": ""
          }
         },
         "name": "2_instruction_complement_42_S5",
         "offsetgroup": "2_instruction_complement_42_S5",
         "orientation": "v",
         "showlegend": true,
         "textposition": "auto",
         "texttemplate": "%{y}",
         "type": "bar",
         "width": 0.8,
         "x": [
          "2_instruction_complement_42_S5"
         ],
         "xaxis": "x3",
         "y": [
          0.09557072073221207
         ],
         "yaxis": "y3"
        },
        {
         "alignmentgroup": "True",
         "hovertemplate": "edit=%{x}<br>target=Ball-Key<br>instruction=Key<br>percent_change=%{y}<extra></extra>",
         "legendgroup": "2_instruction_complement_42_S5",
         "marker": {
          "color": "#00cc96",
          "line": {
           "width": 0
          },
          "pattern": {
           "shape": ""
          }
         },
         "name": "2_instruction_complement_42_S5",
         "offsetgroup": "2_instruction_complement_42_S5",
         "orientation": "v",
         "showlegend": false,
         "textposition": "auto",
         "texttemplate": "%{y}",
         "type": "bar",
         "width": 0.8,
         "x": [
          "2_instruction_complement_42_S5"
         ],
         "xaxis": "x4",
         "y": [
          0.5539146661758423
         ],
         "yaxis": "y4"
        },
        {
         "alignmentgroup": "True",
         "hovertemplate": "edit=%{x}<br>target=Key-Ball<br>instruction=Ball<br>percent_change=%{y}<extra></extra>",
         "legendgroup": "2_instruction_complement_42_S5",
         "marker": {
          "color": "#00cc96",
          "line": {
           "width": 0
          },
          "pattern": {
           "shape": ""
          }
         },
         "name": "2_instruction_complement_42_S5",
         "offsetgroup": "2_instruction_complement_42_S5",
         "orientation": "v",
         "showlegend": false,
         "textposition": "auto",
         "texttemplate": "%{y}",
         "type": "bar",
         "width": 0.8,
         "x": [
          "2_instruction_complement_42_S5"
         ],
         "xaxis": "x",
         "y": [
          0.17889201641082764
         ],
         "yaxis": "y"
        },
        {
         "alignmentgroup": "True",
         "hovertemplate": "edit=%{x}<br>target=Key-Ball<br>instruction=Key<br>percent_change=%{y}<extra></extra>",
         "legendgroup": "2_instruction_complement_42_S5",
         "marker": {
          "color": "#00cc96",
          "line": {
           "width": 0
          },
          "pattern": {
           "shape": ""
          }
         },
         "name": "2_instruction_complement_42_S5",
         "offsetgroup": "2_instruction_complement_42_S5",
         "orientation": "v",
         "showlegend": false,
         "textposition": "auto",
         "texttemplate": "%{y}",
         "type": "bar",
         "width": 0.8,
         "x": [
          "2_instruction_complement_42_S5"
         ],
         "xaxis": "x2",
         "y": [
          0.5633398294448853
         ],
         "yaxis": "y2"
        },
        {
         "alignmentgroup": "True",
         "hovertemplate": "edit=%{x}<br>target=Ball-Key<br>instruction=Ball<br>percent_change=%{y}<extra></extra>",
         "legendgroup": "3_instruction_complement_05_42_S5",
         "marker": {
          "color": "#ab63fa",
          "line": {
           "width": 0
          },
          "pattern": {
           "shape": ""
          }
         },
         "name": "3_instruction_complement_05_42_S5",
         "offsetgroup": "3_instruction_complement_05_42_S5",
         "orientation": "v",
         "showlegend": true,
         "textposition": "auto",
         "texttemplate": "%{y}",
         "type": "bar",
         "width": 0.8,
         "x": [
          "3_instruction_complement_05_42_S5"
         ],
         "xaxis": "x3",
         "y": [
          0.9214518666267395
         ],
         "yaxis": "y3"
        },
        {
         "alignmentgroup": "True",
         "hovertemplate": "edit=%{x}<br>target=Ball-Key<br>instruction=Key<br>percent_change=%{y}<extra></extra>",
         "legendgroup": "3_instruction_complement_05_42_S5",
         "marker": {
          "color": "#ab63fa",
          "line": {
           "width": 0
          },
          "pattern": {
           "shape": ""
          }
         },
         "name": "3_instruction_complement_05_42_S5",
         "offsetgroup": "3_instruction_complement_05_42_S5",
         "orientation": "v",
         "showlegend": false,
         "textposition": "auto",
         "texttemplate": "%{y}",
         "type": "bar",
         "width": 0.8,
         "x": [
          "3_instruction_complement_05_42_S5"
         ],
         "xaxis": "x4",
         "y": [
          0.8424263000488281
         ],
         "yaxis": "y4"
        },
        {
         "alignmentgroup": "True",
         "hovertemplate": "edit=%{x}<br>target=Key-Ball<br>instruction=Ball<br>percent_change=%{y}<extra></extra>",
         "legendgroup": "3_instruction_complement_05_42_S5",
         "marker": {
          "color": "#ab63fa",
          "line": {
           "width": 0
          },
          "pattern": {
           "shape": ""
          }
         },
         "name": "3_instruction_complement_05_42_S5",
         "offsetgroup": "3_instruction_complement_05_42_S5",
         "orientation": "v",
         "showlegend": false,
         "textposition": "auto",
         "texttemplate": "%{y}",
         "type": "bar",
         "width": 0.8,
         "x": [
          "3_instruction_complement_05_42_S5"
         ],
         "xaxis": "x",
         "y": [
          0.7504144906997681
         ],
         "yaxis": "y"
        },
        {
         "alignmentgroup": "True",
         "hovertemplate": "edit=%{x}<br>target=Key-Ball<br>instruction=Key<br>percent_change=%{y}<extra></extra>",
         "legendgroup": "3_instruction_complement_05_42_S5",
         "marker": {
          "color": "#ab63fa",
          "line": {
           "width": 0
          },
          "pattern": {
           "shape": ""
          }
         },
         "name": "3_instruction_complement_05_42_S5",
         "offsetgroup": "3_instruction_complement_05_42_S5",
         "orientation": "v",
         "showlegend": false,
         "textposition": "auto",
         "texttemplate": "%{y}",
         "type": "bar",
         "width": 0.8,
         "x": [
          "3_instruction_complement_05_42_S5"
         ],
         "xaxis": "x2",
         "y": [
          0.8480239510536194
         ],
         "yaxis": "y2"
        },
        {
         "alignmentgroup": "True",
         "hovertemplate": "edit=%{x}<br>target=Ball-Key<br>instruction=Ball<br>percent_change=%{y}<extra></extra>",
         "legendgroup": "flipped_targets_full_start_and_end",
         "marker": {
          "color": "#FFA15A",
          "line": {
           "width": 0
          },
          "pattern": {
           "shape": ""
          }
         },
         "name": "flipped_targets_full_start_and_end",
         "offsetgroup": "flipped_targets_full_start_and_end",
         "orientation": "v",
         "showlegend": true,
         "textposition": "auto",
         "texttemplate": "%{y}",
         "type": "bar",
         "width": 0.8,
         "x": [
          "flipped_targets_full_start_and_end"
         ],
         "xaxis": "x3",
         "y": [
          0.999074399471283
         ],
         "yaxis": "y3"
        },
        {
         "alignmentgroup": "True",
         "hovertemplate": "edit=%{x}<br>target=Ball-Key<br>instruction=Key<br>percent_change=%{y}<extra></extra>",
         "legendgroup": "flipped_targets_full_start_and_end",
         "marker": {
          "color": "#FFA15A",
          "line": {
           "width": 0
          },
          "pattern": {
           "shape": ""
          }
         },
         "name": "flipped_targets_full_start_and_end",
         "offsetgroup": "flipped_targets_full_start_and_end",
         "orientation": "v",
         "showlegend": false,
         "textposition": "auto",
         "texttemplate": "%{y}",
         "type": "bar",
         "width": 0.8,
         "x": [
          "flipped_targets_full_start_and_end"
         ],
         "xaxis": "x4",
         "y": [
          0.4645636975765228
         ],
         "yaxis": "y4"
        },
        {
         "alignmentgroup": "True",
         "hovertemplate": "edit=%{x}<br>target=Key-Ball<br>instruction=Ball<br>percent_change=%{y}<extra></extra>",
         "legendgroup": "flipped_targets_full_start_and_end",
         "marker": {
          "color": "#FFA15A",
          "line": {
           "width": 0
          },
          "pattern": {
           "shape": ""
          }
         },
         "name": "flipped_targets_full_start_and_end",
         "offsetgroup": "flipped_targets_full_start_and_end",
         "orientation": "v",
         "showlegend": false,
         "textposition": "auto",
         "texttemplate": "%{y}",
         "type": "bar",
         "width": 0.8,
         "x": [
          "flipped_targets_full_start_and_end"
         ],
         "xaxis": "x",
         "y": [
          1.958769679069519
         ],
         "yaxis": "y"
        },
        {
         "alignmentgroup": "True",
         "hovertemplate": "edit=%{x}<br>target=Key-Ball<br>instruction=Key<br>percent_change=%{y}<extra></extra>",
         "legendgroup": "flipped_targets_full_start_and_end",
         "marker": {
          "color": "#FFA15A",
          "line": {
           "width": 0
          },
          "pattern": {
           "shape": ""
          }
         },
         "name": "flipped_targets_full_start_and_end",
         "offsetgroup": "flipped_targets_full_start_and_end",
         "orientation": "v",
         "showlegend": false,
         "textposition": "auto",
         "texttemplate": "%{y}",
         "type": "bar",
         "width": 0.8,
         "x": [
          "flipped_targets_full_start_and_end"
         ],
         "xaxis": "x2",
         "y": [
          0.9720022082328796
         ],
         "yaxis": "y2"
        },
        {
         "alignmentgroup": "True",
         "hovertemplate": "edit=%{x}<br>target=Ball-Key<br>instruction=Ball<br>percent_change=%{y}<extra></extra>",
         "legendgroup": "instruction_complement_05_42_S9",
         "marker": {
          "color": "#19d3f3",
          "line": {
           "width": 0
          },
          "pattern": {
           "shape": ""
          }
         },
         "name": "instruction_complement_05_42_S9",
         "offsetgroup": "instruction_complement_05_42_S9",
         "orientation": "v",
         "showlegend": true,
         "textposition": "auto",
         "texttemplate": "%{y}",
         "type": "bar",
         "width": 0.8,
         "x": [
          "instruction_complement_05_42_S9"
         ],
         "xaxis": "x3",
         "y": [
          -0.022363174706697464
         ],
         "yaxis": "y3"
        },
        {
         "alignmentgroup": "True",
         "hovertemplate": "edit=%{x}<br>target=Ball-Key<br>instruction=Key<br>percent_change=%{y}<extra></extra>",
         "legendgroup": "instruction_complement_05_42_S9",
         "marker": {
          "color": "#19d3f3",
          "line": {
           "width": 0
          },
          "pattern": {
           "shape": ""
          }
         },
         "name": "instruction_complement_05_42_S9",
         "offsetgroup": "instruction_complement_05_42_S9",
         "orientation": "v",
         "showlegend": false,
         "textposition": "auto",
         "texttemplate": "%{y}",
         "type": "bar",
         "width": 0.8,
         "x": [
          "instruction_complement_05_42_S9"
         ],
         "xaxis": "x4",
         "y": [
          0.43869879841804504
         ],
         "yaxis": "y4"
        },
        {
         "alignmentgroup": "True",
         "hovertemplate": "edit=%{x}<br>target=Key-Ball<br>instruction=Ball<br>percent_change=%{y}<extra></extra>",
         "legendgroup": "instruction_complement_05_42_S9",
         "marker": {
          "color": "#19d3f3",
          "line": {
           "width": 0
          },
          "pattern": {
           "shape": ""
          }
         },
         "name": "instruction_complement_05_42_S9",
         "offsetgroup": "instruction_complement_05_42_S9",
         "orientation": "v",
         "showlegend": false,
         "textposition": "auto",
         "texttemplate": "%{y}",
         "type": "bar",
         "width": 0.8,
         "x": [
          "instruction_complement_05_42_S9"
         ],
         "xaxis": "x",
         "y": [
          0.06401007622480392
         ],
         "yaxis": "y"
        },
        {
         "alignmentgroup": "True",
         "hovertemplate": "edit=%{x}<br>target=Key-Ball<br>instruction=Key<br>percent_change=%{y}<extra></extra>",
         "legendgroup": "instruction_complement_05_42_S9",
         "marker": {
          "color": "#19d3f3",
          "line": {
           "width": 0
          },
          "pattern": {
           "shape": ""
          }
         },
         "name": "instruction_complement_05_42_S9",
         "offsetgroup": "instruction_complement_05_42_S9",
         "orientation": "v",
         "showlegend": false,
         "textposition": "auto",
         "texttemplate": "%{y}",
         "type": "bar",
         "width": 0.8,
         "x": [
          "instruction_complement_05_42_S9"
         ],
         "xaxis": "x2",
         "y": [
          0.3983338177204132
         ],
         "yaxis": "y2"
        },
        {
         "alignmentgroup": "True",
         "hovertemplate": "edit=%{x}<br>target=Ball-Key<br>instruction=Ball<br>percent_change=%{y}<extra></extra>",
         "legendgroup": "instruction_complement_05_S9",
         "marker": {
          "color": "#FF6692",
          "line": {
           "width": 0
          },
          "pattern": {
           "shape": ""
          }
         },
         "name": "instruction_complement_05_S9",
         "offsetgroup": "instruction_complement_05_S9",
         "orientation": "v",
         "showlegend": true,
         "textposition": "auto",
         "texttemplate": "%{y}",
         "type": "bar",
         "width": 0.8,
         "x": [
          "instruction_complement_05_S9"
         ],
         "xaxis": "x3",
         "y": [
          -0.02208123914897442
         ],
         "yaxis": "y3"
        },
        {
         "alignmentgroup": "True",
         "hovertemplate": "edit=%{x}<br>target=Ball-Key<br>instruction=Key<br>percent_change=%{y}<extra></extra>",
         "legendgroup": "instruction_complement_05_S9",
         "marker": {
          "color": "#FF6692",
          "line": {
           "width": 0
          },
          "pattern": {
           "shape": ""
          }
         },
         "name": "instruction_complement_05_S9",
         "offsetgroup": "instruction_complement_05_S9",
         "orientation": "v",
         "showlegend": false,
         "textposition": "auto",
         "texttemplate": "%{y}",
         "type": "bar",
         "width": 0.8,
         "x": [
          "instruction_complement_05_S9"
         ],
         "xaxis": "x4",
         "y": [
          0.04486238211393356
         ],
         "yaxis": "y4"
        },
        {
         "alignmentgroup": "True",
         "hovertemplate": "edit=%{x}<br>target=Key-Ball<br>instruction=Ball<br>percent_change=%{y}<extra></extra>",
         "legendgroup": "instruction_complement_05_S9",
         "marker": {
          "color": "#FF6692",
          "line": {
           "width": 0
          },
          "pattern": {
           "shape": ""
          }
         },
         "name": "instruction_complement_05_S9",
         "offsetgroup": "instruction_complement_05_S9",
         "orientation": "v",
         "showlegend": false,
         "textposition": "auto",
         "texttemplate": "%{y}",
         "type": "bar",
         "width": 0.8,
         "x": [
          "instruction_complement_05_S9"
         ],
         "xaxis": "x",
         "y": [
          0.02538282796740532
         ],
         "yaxis": "y"
        },
        {
         "alignmentgroup": "True",
         "hovertemplate": "edit=%{x}<br>target=Key-Ball<br>instruction=Key<br>percent_change=%{y}<extra></extra>",
         "legendgroup": "instruction_complement_05_S9",
         "marker": {
          "color": "#FF6692",
          "line": {
           "width": 0
          },
          "pattern": {
           "shape": ""
          }
         },
         "name": "instruction_complement_05_S9",
         "offsetgroup": "instruction_complement_05_S9",
         "orientation": "v",
         "showlegend": false,
         "textposition": "auto",
         "texttemplate": "%{y}",
         "type": "bar",
         "width": 0.8,
         "x": [
          "instruction_complement_05_S9"
         ],
         "xaxis": "x2",
         "y": [
          0.27930086851119995
         ],
         "yaxis": "y2"
        },
        {
         "alignmentgroup": "True",
         "hovertemplate": "edit=%{x}<br>target=Ball-Key<br>instruction=Ball<br>percent_change=%{y}<extra></extra>",
         "legendgroup": "instruction_complement_42_S9",
         "marker": {
          "color": "#B6E880",
          "line": {
           "width": 0
          },
          "pattern": {
           "shape": ""
          }
         },
         "name": "instruction_complement_42_S9",
         "offsetgroup": "instruction_complement_42_S9",
         "orientation": "v",
         "showlegend": true,
         "textposition": "auto",
         "texttemplate": "%{y}",
         "type": "bar",
         "width": 0.8,
         "x": [
          "instruction_complement_42_S9"
         ],
         "xaxis": "x3",
         "y": [
          0.006443107966333628
         ],
         "yaxis": "y3"
        },
        {
         "alignmentgroup": "True",
         "hovertemplate": "edit=%{x}<br>target=Ball-Key<br>instruction=Key<br>percent_change=%{y}<extra></extra>",
         "legendgroup": "instruction_complement_42_S9",
         "marker": {
          "color": "#B6E880",
          "line": {
           "width": 0
          },
          "pattern": {
           "shape": ""
          }
         },
         "name": "instruction_complement_42_S9",
         "offsetgroup": "instruction_complement_42_S9",
         "orientation": "v",
         "showlegend": false,
         "textposition": "auto",
         "texttemplate": "%{y}",
         "type": "bar",
         "width": 0.8,
         "x": [
          "instruction_complement_42_S9"
         ],
         "xaxis": "x4",
         "y": [
          0.13553442060947418
         ],
         "yaxis": "y4"
        },
        {
         "alignmentgroup": "True",
         "hovertemplate": "edit=%{x}<br>target=Key-Ball<br>instruction=Ball<br>percent_change=%{y}<extra></extra>",
         "legendgroup": "instruction_complement_42_S9",
         "marker": {
          "color": "#B6E880",
          "line": {
           "width": 0
          },
          "pattern": {
           "shape": ""
          }
         },
         "name": "instruction_complement_42_S9",
         "offsetgroup": "instruction_complement_42_S9",
         "orientation": "v",
         "showlegend": false,
         "textposition": "auto",
         "texttemplate": "%{y}",
         "type": "bar",
         "width": 0.8,
         "x": [
          "instruction_complement_42_S9"
         ],
         "xaxis": "x",
         "y": [
          0.029149260371923447
         ],
         "yaxis": "y"
        },
        {
         "alignmentgroup": "True",
         "hovertemplate": "edit=%{x}<br>target=Key-Ball<br>instruction=Key<br>percent_change=%{y}<extra></extra>",
         "legendgroup": "instruction_complement_42_S9",
         "marker": {
          "color": "#B6E880",
          "line": {
           "width": 0
          },
          "pattern": {
           "shape": ""
          }
         },
         "name": "instruction_complement_42_S9",
         "offsetgroup": "instruction_complement_42_S9",
         "orientation": "v",
         "showlegend": false,
         "textposition": "auto",
         "texttemplate": "%{y}",
         "type": "bar",
         "width": 0.8,
         "x": [
          "instruction_complement_42_S9"
         ],
         "xaxis": "x2",
         "y": [
          0.06822075694799423
         ],
         "yaxis": "y2"
        },
        {
         "alignmentgroup": "True",
         "hovertemplate": "edit=%{x}<br>target=Ball-Key<br>instruction=Ball<br>percent_change=%{y}<extra></extra>",
         "legendgroup": "original",
         "marker": {
          "color": "#FF97FF",
          "line": {
           "width": 0
          },
          "pattern": {
           "shape": ""
          }
         },
         "name": "original",
         "offsetgroup": "original",
         "orientation": "v",
         "showlegend": true,
         "textposition": "auto",
         "texttemplate": "%{y}",
         "type": "bar",
         "width": 0.8,
         "x": [
          "original"
         ],
         "xaxis": "x3",
         "y": [
          0
         ],
         "yaxis": "y3"
        },
        {
         "alignmentgroup": "True",
         "hovertemplate": "edit=%{x}<br>target=Ball-Key<br>instruction=Key<br>percent_change=%{y}<extra></extra>",
         "legendgroup": "original",
         "marker": {
          "color": "#FF97FF",
          "line": {
           "width": 0
          },
          "pattern": {
           "shape": ""
          }
         },
         "name": "original",
         "offsetgroup": "original",
         "orientation": "v",
         "showlegend": false,
         "textposition": "auto",
         "texttemplate": "%{y}",
         "type": "bar",
         "width": 0.8,
         "x": [
          "original"
         ],
         "xaxis": "x4",
         "y": [
          0
         ],
         "yaxis": "y4"
        },
        {
         "alignmentgroup": "True",
         "hovertemplate": "edit=%{x}<br>target=Key-Ball<br>instruction=Ball<br>percent_change=%{y}<extra></extra>",
         "legendgroup": "original",
         "marker": {
          "color": "#FF97FF",
          "line": {
           "width": 0
          },
          "pattern": {
           "shape": ""
          }
         },
         "name": "original",
         "offsetgroup": "original",
         "orientation": "v",
         "showlegend": false,
         "textposition": "auto",
         "texttemplate": "%{y}",
         "type": "bar",
         "width": 0.8,
         "x": [
          "original"
         ],
         "xaxis": "x",
         "y": [
          0
         ],
         "yaxis": "y"
        },
        {
         "alignmentgroup": "True",
         "hovertemplate": "edit=%{x}<br>target=Key-Ball<br>instruction=Key<br>percent_change=%{y}<extra></extra>",
         "legendgroup": "original",
         "marker": {
          "color": "#FF97FF",
          "line": {
           "width": 0
          },
          "pattern": {
           "shape": ""
          }
         },
         "name": "original",
         "offsetgroup": "original",
         "orientation": "v",
         "showlegend": false,
         "textposition": "auto",
         "texttemplate": "%{y}",
         "type": "bar",
         "width": 0.8,
         "x": [
          "original"
         ],
         "xaxis": "x2",
         "y": [
          0
         ],
         "yaxis": "y2"
        },
        {
         "alignmentgroup": "True",
         "hovertemplate": "edit=%{x}<br>target=Ball-Key<br>instruction=Ball<br>percent_change=%{y}<extra></extra>",
         "legendgroup": "target_complement_S5",
         "marker": {
          "color": "#FECB52",
          "line": {
           "width": 0
          },
          "pattern": {
           "shape": ""
          }
         },
         "name": "target_complement_S5",
         "offsetgroup": "target_complement_S5",
         "orientation": "v",
         "showlegend": true,
         "textposition": "auto",
         "texttemplate": "%{y}",
         "type": "bar",
         "width": 0.8,
         "x": [
          "target_complement_S5"
         ],
         "xaxis": "x3",
         "y": [
          0.0680435448884964
         ],
         "yaxis": "y3"
        },
        {
         "alignmentgroup": "True",
         "hovertemplate": "edit=%{x}<br>target=Ball-Key<br>instruction=Key<br>percent_change=%{y}<extra></extra>",
         "legendgroup": "target_complement_S5",
         "marker": {
          "color": "#FECB52",
          "line": {
           "width": 0
          },
          "pattern": {
           "shape": ""
          }
         },
         "name": "target_complement_S5",
         "offsetgroup": "target_complement_S5",
         "orientation": "v",
         "showlegend": false,
         "textposition": "auto",
         "texttemplate": "%{y}",
         "type": "bar",
         "width": 0.8,
         "x": [
          "target_complement_S5"
         ],
         "xaxis": "x4",
         "y": [
          0.007996742613613605
         ],
         "yaxis": "y4"
        },
        {
         "alignmentgroup": "True",
         "hovertemplate": "edit=%{x}<br>target=Key-Ball<br>instruction=Ball<br>percent_change=%{y}<extra></extra>",
         "legendgroup": "target_complement_S5",
         "marker": {
          "color": "#FECB52",
          "line": {
           "width": 0
          },
          "pattern": {
           "shape": ""
          }
         },
         "name": "target_complement_S5",
         "offsetgroup": "target_complement_S5",
         "orientation": "v",
         "showlegend": false,
         "textposition": "auto",
         "texttemplate": "%{y}",
         "type": "bar",
         "width": 0.8,
         "x": [
          "target_complement_S5"
         ],
         "xaxis": "x",
         "y": [
          -0.032110102474689484
         ],
         "yaxis": "y"
        },
        {
         "alignmentgroup": "True",
         "hovertemplate": "edit=%{x}<br>target=Key-Ball<br>instruction=Key<br>percent_change=%{y}<extra></extra>",
         "legendgroup": "target_complement_S5",
         "marker": {
          "color": "#FECB52",
          "line": {
           "width": 0
          },
          "pattern": {
           "shape": ""
          }
         },
         "name": "target_complement_S5",
         "offsetgroup": "target_complement_S5",
         "orientation": "v",
         "showlegend": false,
         "textposition": "auto",
         "texttemplate": "%{y}",
         "type": "bar",
         "width": 0.8,
         "x": [
          "target_complement_S5"
         ],
         "xaxis": "x2",
         "y": [
          0.5113109350204468
         ],
         "yaxis": "y2"
        },
        {
         "alignmentgroup": "True",
         "hovertemplate": "edit=%{x}<br>target=Ball-Key<br>instruction=Ball<br>percent_change=%{y}<extra></extra>",
         "legendgroup": "target_complement_S9",
         "marker": {
          "color": "#636efa",
          "line": {
           "width": 0
          },
          "pattern": {
           "shape": ""
          }
         },
         "name": "target_complement_S9",
         "offsetgroup": "target_complement_S9",
         "orientation": "v",
         "showlegend": true,
         "textposition": "auto",
         "texttemplate": "%{y}",
         "type": "bar",
         "width": 0.8,
         "x": [
          "target_complement_S9"
         ],
         "xaxis": "x3",
         "y": [
          1.018986701965332
         ],
         "yaxis": "y3"
        },
        {
         "alignmentgroup": "True",
         "hovertemplate": "edit=%{x}<br>target=Ball-Key<br>instruction=Key<br>percent_change=%{y}<extra></extra>",
         "legendgroup": "target_complement_S9",
         "marker": {
          "color": "#636efa",
          "line": {
           "width": 0
          },
          "pattern": {
           "shape": ""
          }
         },
         "name": "target_complement_S9",
         "offsetgroup": "target_complement_S9",
         "orientation": "v",
         "showlegend": false,
         "textposition": "auto",
         "texttemplate": "%{y}",
         "type": "bar",
         "width": 0.8,
         "x": [
          "target_complement_S9"
         ],
         "xaxis": "x4",
         "y": [
          0.23199528455734253
         ],
         "yaxis": "y4"
        },
        {
         "alignmentgroup": "True",
         "hovertemplate": "edit=%{x}<br>target=Key-Ball<br>instruction=Ball<br>percent_change=%{y}<extra></extra>",
         "legendgroup": "target_complement_S9",
         "marker": {
          "color": "#636efa",
          "line": {
           "width": 0
          },
          "pattern": {
           "shape": ""
          }
         },
         "name": "target_complement_S9",
         "offsetgroup": "target_complement_S9",
         "orientation": "v",
         "showlegend": false,
         "textposition": "auto",
         "texttemplate": "%{y}",
         "type": "bar",
         "width": 0.8,
         "x": [
          "target_complement_S9"
         ],
         "xaxis": "x",
         "y": [
          1.8109058141708374
         ],
         "yaxis": "y"
        },
        {
         "alignmentgroup": "True",
         "hovertemplate": "edit=%{x}<br>target=Key-Ball<br>instruction=Key<br>percent_change=%{y}<extra></extra>",
         "legendgroup": "target_complement_S9",
         "marker": {
          "color": "#636efa",
          "line": {
           "width": 0
          },
          "pattern": {
           "shape": ""
          }
         },
         "name": "target_complement_S9",
         "offsetgroup": "target_complement_S9",
         "orientation": "v",
         "showlegend": false,
         "textposition": "auto",
         "texttemplate": "%{y}",
         "type": "bar",
         "width": 0.8,
         "x": [
          "target_complement_S9"
         ],
         "xaxis": "x2",
         "y": [
          0.952260434627533
         ],
         "yaxis": "y2"
        }
       ],
       "layout": {
        "annotations": [
         {
          "font": {},
          "showarrow": false,
          "text": "Ball",
          "x": 0.24,
          "xanchor": "center",
          "xref": "paper",
          "y": 1,
          "yanchor": "bottom",
          "yref": "paper"
         },
         {
          "font": {},
          "showarrow": false,
          "text": "Key",
          "x": 0.74,
          "xanchor": "center",
          "xref": "paper",
          "y": 1,
          "yanchor": "bottom",
          "yref": "paper"
         },
         {
          "font": {},
          "showarrow": false,
          "text": "Key-Ball",
          "textangle": 90,
          "x": 0.98,
          "xanchor": "left",
          "xref": "paper",
          "y": 0.2425,
          "yanchor": "middle",
          "yref": "paper"
         },
         {
          "font": {},
          "showarrow": false,
          "text": "Ball-Key",
          "textangle": 90,
          "x": 0.98,
          "xanchor": "left",
          "xref": "paper",
          "y": 0.7575000000000001,
          "yanchor": "middle",
          "yref": "paper"
         }
        ],
        "barmode": "group",
        "font": {
         "size": 24
        },
        "height": 800,
        "legend": {
         "title": {
          "text": "edit"
         },
         "tracegroupgap": 0
        },
        "margin": {
         "t": 60
        },
        "template": {
         "data": {
          "bar": [
           {
            "error_x": {
             "color": "#2a3f5f"
            },
            "error_y": {
             "color": "#2a3f5f"
            },
            "marker": {
             "line": {
              "color": "#E5ECF6",
              "width": 0.5
             },
             "pattern": {
              "fillmode": "overlay",
              "size": 10,
              "solidity": 0.2
             }
            },
            "type": "bar"
           }
          ],
          "barpolar": [
           {
            "marker": {
             "line": {
              "color": "#E5ECF6",
              "width": 0.5
             },
             "pattern": {
              "fillmode": "overlay",
              "size": 10,
              "solidity": 0.2
             }
            },
            "type": "barpolar"
           }
          ],
          "carpet": [
           {
            "aaxis": {
             "endlinecolor": "#2a3f5f",
             "gridcolor": "white",
             "linecolor": "white",
             "minorgridcolor": "white",
             "startlinecolor": "#2a3f5f"
            },
            "baxis": {
             "endlinecolor": "#2a3f5f",
             "gridcolor": "white",
             "linecolor": "white",
             "minorgridcolor": "white",
             "startlinecolor": "#2a3f5f"
            },
            "type": "carpet"
           }
          ],
          "choropleth": [
           {
            "colorbar": {
             "outlinewidth": 0,
             "ticks": ""
            },
            "type": "choropleth"
           }
          ],
          "contour": [
           {
            "colorbar": {
             "outlinewidth": 0,
             "ticks": ""
            },
            "colorscale": [
             [
              0,
              "#0d0887"
             ],
             [
              0.1111111111111111,
              "#46039f"
             ],
             [
              0.2222222222222222,
              "#7201a8"
             ],
             [
              0.3333333333333333,
              "#9c179e"
             ],
             [
              0.4444444444444444,
              "#bd3786"
             ],
             [
              0.5555555555555556,
              "#d8576b"
             ],
             [
              0.6666666666666666,
              "#ed7953"
             ],
             [
              0.7777777777777778,
              "#fb9f3a"
             ],
             [
              0.8888888888888888,
              "#fdca26"
             ],
             [
              1,
              "#f0f921"
             ]
            ],
            "type": "contour"
           }
          ],
          "contourcarpet": [
           {
            "colorbar": {
             "outlinewidth": 0,
             "ticks": ""
            },
            "type": "contourcarpet"
           }
          ],
          "heatmap": [
           {
            "colorbar": {
             "outlinewidth": 0,
             "ticks": ""
            },
            "colorscale": [
             [
              0,
              "#0d0887"
             ],
             [
              0.1111111111111111,
              "#46039f"
             ],
             [
              0.2222222222222222,
              "#7201a8"
             ],
             [
              0.3333333333333333,
              "#9c179e"
             ],
             [
              0.4444444444444444,
              "#bd3786"
             ],
             [
              0.5555555555555556,
              "#d8576b"
             ],
             [
              0.6666666666666666,
              "#ed7953"
             ],
             [
              0.7777777777777778,
              "#fb9f3a"
             ],
             [
              0.8888888888888888,
              "#fdca26"
             ],
             [
              1,
              "#f0f921"
             ]
            ],
            "type": "heatmap"
           }
          ],
          "heatmapgl": [
           {
            "colorbar": {
             "outlinewidth": 0,
             "ticks": ""
            },
            "colorscale": [
             [
              0,
              "#0d0887"
             ],
             [
              0.1111111111111111,
              "#46039f"
             ],
             [
              0.2222222222222222,
              "#7201a8"
             ],
             [
              0.3333333333333333,
              "#9c179e"
             ],
             [
              0.4444444444444444,
              "#bd3786"
             ],
             [
              0.5555555555555556,
              "#d8576b"
             ],
             [
              0.6666666666666666,
              "#ed7953"
             ],
             [
              0.7777777777777778,
              "#fb9f3a"
             ],
             [
              0.8888888888888888,
              "#fdca26"
             ],
             [
              1,
              "#f0f921"
             ]
            ],
            "type": "heatmapgl"
           }
          ],
          "histogram": [
           {
            "marker": {
             "pattern": {
              "fillmode": "overlay",
              "size": 10,
              "solidity": 0.2
             }
            },
            "type": "histogram"
           }
          ],
          "histogram2d": [
           {
            "colorbar": {
             "outlinewidth": 0,
             "ticks": ""
            },
            "colorscale": [
             [
              0,
              "#0d0887"
             ],
             [
              0.1111111111111111,
              "#46039f"
             ],
             [
              0.2222222222222222,
              "#7201a8"
             ],
             [
              0.3333333333333333,
              "#9c179e"
             ],
             [
              0.4444444444444444,
              "#bd3786"
             ],
             [
              0.5555555555555556,
              "#d8576b"
             ],
             [
              0.6666666666666666,
              "#ed7953"
             ],
             [
              0.7777777777777778,
              "#fb9f3a"
             ],
             [
              0.8888888888888888,
              "#fdca26"
             ],
             [
              1,
              "#f0f921"
             ]
            ],
            "type": "histogram2d"
           }
          ],
          "histogram2dcontour": [
           {
            "colorbar": {
             "outlinewidth": 0,
             "ticks": ""
            },
            "colorscale": [
             [
              0,
              "#0d0887"
             ],
             [
              0.1111111111111111,
              "#46039f"
             ],
             [
              0.2222222222222222,
              "#7201a8"
             ],
             [
              0.3333333333333333,
              "#9c179e"
             ],
             [
              0.4444444444444444,
              "#bd3786"
             ],
             [
              0.5555555555555556,
              "#d8576b"
             ],
             [
              0.6666666666666666,
              "#ed7953"
             ],
             [
              0.7777777777777778,
              "#fb9f3a"
             ],
             [
              0.8888888888888888,
              "#fdca26"
             ],
             [
              1,
              "#f0f921"
             ]
            ],
            "type": "histogram2dcontour"
           }
          ],
          "mesh3d": [
           {
            "colorbar": {
             "outlinewidth": 0,
             "ticks": ""
            },
            "type": "mesh3d"
           }
          ],
          "parcoords": [
           {
            "line": {
             "colorbar": {
              "outlinewidth": 0,
              "ticks": ""
             }
            },
            "type": "parcoords"
           }
          ],
          "pie": [
           {
            "automargin": true,
            "type": "pie"
           }
          ],
          "scatter": [
           {
            "fillpattern": {
             "fillmode": "overlay",
             "size": 10,
             "solidity": 0.2
            },
            "type": "scatter"
           }
          ],
          "scatter3d": [
           {
            "line": {
             "colorbar": {
              "outlinewidth": 0,
              "ticks": ""
             }
            },
            "marker": {
             "colorbar": {
              "outlinewidth": 0,
              "ticks": ""
             }
            },
            "type": "scatter3d"
           }
          ],
          "scattercarpet": [
           {
            "marker": {
             "colorbar": {
              "outlinewidth": 0,
              "ticks": ""
             }
            },
            "type": "scattercarpet"
           }
          ],
          "scattergeo": [
           {
            "marker": {
             "colorbar": {
              "outlinewidth": 0,
              "ticks": ""
             }
            },
            "type": "scattergeo"
           }
          ],
          "scattergl": [
           {
            "marker": {
             "colorbar": {
              "outlinewidth": 0,
              "ticks": ""
             }
            },
            "type": "scattergl"
           }
          ],
          "scattermapbox": [
           {
            "marker": {
             "colorbar": {
              "outlinewidth": 0,
              "ticks": ""
             }
            },
            "type": "scattermapbox"
           }
          ],
          "scatterpolar": [
           {
            "marker": {
             "colorbar": {
              "outlinewidth": 0,
              "ticks": ""
             }
            },
            "type": "scatterpolar"
           }
          ],
          "scatterpolargl": [
           {
            "marker": {
             "colorbar": {
              "outlinewidth": 0,
              "ticks": ""
             }
            },
            "type": "scatterpolargl"
           }
          ],
          "scatterternary": [
           {
            "marker": {
             "colorbar": {
              "outlinewidth": 0,
              "ticks": ""
             }
            },
            "type": "scatterternary"
           }
          ],
          "surface": [
           {
            "colorbar": {
             "outlinewidth": 0,
             "ticks": ""
            },
            "colorscale": [
             [
              0,
              "#0d0887"
             ],
             [
              0.1111111111111111,
              "#46039f"
             ],
             [
              0.2222222222222222,
              "#7201a8"
             ],
             [
              0.3333333333333333,
              "#9c179e"
             ],
             [
              0.4444444444444444,
              "#bd3786"
             ],
             [
              0.5555555555555556,
              "#d8576b"
             ],
             [
              0.6666666666666666,
              "#ed7953"
             ],
             [
              0.7777777777777778,
              "#fb9f3a"
             ],
             [
              0.8888888888888888,
              "#fdca26"
             ],
             [
              1,
              "#f0f921"
             ]
            ],
            "type": "surface"
           }
          ],
          "table": [
           {
            "cells": {
             "fill": {
              "color": "#EBF0F8"
             },
             "line": {
              "color": "white"
             }
            },
            "header": {
             "fill": {
              "color": "#C8D4E3"
             },
             "line": {
              "color": "white"
             }
            },
            "type": "table"
           }
          ]
         },
         "layout": {
          "annotationdefaults": {
           "arrowcolor": "#2a3f5f",
           "arrowhead": 0,
           "arrowwidth": 1
          },
          "autotypenumbers": "strict",
          "coloraxis": {
           "colorbar": {
            "outlinewidth": 0,
            "ticks": ""
           }
          },
          "colorscale": {
           "diverging": [
            [
             0,
             "#8e0152"
            ],
            [
             0.1,
             "#c51b7d"
            ],
            [
             0.2,
             "#de77ae"
            ],
            [
             0.3,
             "#f1b6da"
            ],
            [
             0.4,
             "#fde0ef"
            ],
            [
             0.5,
             "#f7f7f7"
            ],
            [
             0.6,
             "#e6f5d0"
            ],
            [
             0.7,
             "#b8e186"
            ],
            [
             0.8,
             "#7fbc41"
            ],
            [
             0.9,
             "#4d9221"
            ],
            [
             1,
             "#276419"
            ]
           ],
           "sequential": [
            [
             0,
             "#0d0887"
            ],
            [
             0.1111111111111111,
             "#46039f"
            ],
            [
             0.2222222222222222,
             "#7201a8"
            ],
            [
             0.3333333333333333,
             "#9c179e"
            ],
            [
             0.4444444444444444,
             "#bd3786"
            ],
            [
             0.5555555555555556,
             "#d8576b"
            ],
            [
             0.6666666666666666,
             "#ed7953"
            ],
            [
             0.7777777777777778,
             "#fb9f3a"
            ],
            [
             0.8888888888888888,
             "#fdca26"
            ],
            [
             1,
             "#f0f921"
            ]
           ],
           "sequentialminus": [
            [
             0,
             "#0d0887"
            ],
            [
             0.1111111111111111,
             "#46039f"
            ],
            [
             0.2222222222222222,
             "#7201a8"
            ],
            [
             0.3333333333333333,
             "#9c179e"
            ],
            [
             0.4444444444444444,
             "#bd3786"
            ],
            [
             0.5555555555555556,
             "#d8576b"
            ],
            [
             0.6666666666666666,
             "#ed7953"
            ],
            [
             0.7777777777777778,
             "#fb9f3a"
            ],
            [
             0.8888888888888888,
             "#fdca26"
            ],
            [
             1,
             "#f0f921"
            ]
           ]
          },
          "colorway": [
           "#636efa",
           "#EF553B",
           "#00cc96",
           "#ab63fa",
           "#FFA15A",
           "#19d3f3",
           "#FF6692",
           "#B6E880",
           "#FF97FF",
           "#FECB52"
          ],
          "font": {
           "color": "#2a3f5f"
          },
          "geo": {
           "bgcolor": "white",
           "lakecolor": "white",
           "landcolor": "#E5ECF6",
           "showlakes": true,
           "showland": true,
           "subunitcolor": "white"
          },
          "hoverlabel": {
           "align": "left"
          },
          "hovermode": "closest",
          "mapbox": {
           "style": "light"
          },
          "paper_bgcolor": "white",
          "plot_bgcolor": "#E5ECF6",
          "polar": {
           "angularaxis": {
            "gridcolor": "white",
            "linecolor": "white",
            "ticks": ""
           },
           "bgcolor": "#E5ECF6",
           "radialaxis": {
            "gridcolor": "white",
            "linecolor": "white",
            "ticks": ""
           }
          },
          "scene": {
           "xaxis": {
            "backgroundcolor": "#E5ECF6",
            "gridcolor": "white",
            "gridwidth": 2,
            "linecolor": "white",
            "showbackground": true,
            "ticks": "",
            "zerolinecolor": "white"
           },
           "yaxis": {
            "backgroundcolor": "#E5ECF6",
            "gridcolor": "white",
            "gridwidth": 2,
            "linecolor": "white",
            "showbackground": true,
            "ticks": "",
            "zerolinecolor": "white"
           },
           "zaxis": {
            "backgroundcolor": "#E5ECF6",
            "gridcolor": "white",
            "gridwidth": 2,
            "linecolor": "white",
            "showbackground": true,
            "ticks": "",
            "zerolinecolor": "white"
           }
          },
          "shapedefaults": {
           "line": {
            "color": "#2a3f5f"
           }
          },
          "ternary": {
           "aaxis": {
            "gridcolor": "white",
            "linecolor": "white",
            "ticks": ""
           },
           "baxis": {
            "gridcolor": "white",
            "linecolor": "white",
            "ticks": ""
           },
           "bgcolor": "#E5ECF6",
           "caxis": {
            "gridcolor": "white",
            "linecolor": "white",
            "ticks": ""
           }
          },
          "title": {
           "x": 0.05
          },
          "xaxis": {
           "automargin": true,
           "gridcolor": "white",
           "linecolor": "white",
           "ticks": "",
           "title": {
            "standoff": 15
           },
           "zerolinecolor": "white",
           "zerolinewidth": 2
          },
          "yaxis": {
           "automargin": true,
           "gridcolor": "white",
           "linecolor": "white",
           "ticks": "",
           "title": {
            "standoff": 15
           },
           "zerolinecolor": "white",
           "zerolinewidth": 2
          }
         }
        },
        "width": 1600,
        "xaxis": {
         "anchor": "y",
         "categoryarray": [
          "0_instruction_complement_26_S5",
          "1_instruction_complement_05_S5",
          "2_instruction_complement_42_S5",
          "3_instruction_complement_05_42_S5",
          "flipped_targets_full_start_and_end",
          "instruction_complement_05_42_S9",
          "instruction_complement_05_S9",
          "instruction_complement_42_S9",
          "original",
          "target_complement_S5",
          "target_complement_S9"
         ],
         "categoryorder": "array",
         "domain": [
          0,
          0.48
         ],
         "showticklabels": false,
         "side": "left",
         "title": {
          "text": ""
         }
        },
        "xaxis2": {
         "anchor": "y2",
         "categoryarray": [
          "0_instruction_complement_26_S5",
          "1_instruction_complement_05_S5",
          "2_instruction_complement_42_S5",
          "3_instruction_complement_05_42_S5",
          "flipped_targets_full_start_and_end",
          "instruction_complement_05_42_S9",
          "instruction_complement_05_S9",
          "instruction_complement_42_S9",
          "original",
          "target_complement_S5",
          "target_complement_S9"
         ],
         "categoryorder": "array",
         "domain": [
          0.5,
          0.98
         ],
         "matches": "x",
         "showticklabels": false,
         "side": "left",
         "title": {
          "text": ""
         }
        },
        "xaxis3": {
         "anchor": "y3",
         "domain": [
          0,
          0.48
         ],
         "matches": "x",
         "showticklabels": false,
         "side": "left",
         "title": {
          "text": ""
         }
        },
        "xaxis4": {
         "anchor": "y4",
         "domain": [
          0.5,
          0.98
         ],
         "matches": "x",
         "showticklabels": false,
         "side": "left",
         "title": {
          "text": ""
         }
        },
        "yaxis": {
         "anchor": "x",
         "domain": [
          0,
          0.485
         ],
         "showticklabels": false,
         "side": "left",
         "tickangle": 0,
         "title": {
          "text": ""
         }
        },
        "yaxis2": {
         "anchor": "x2",
         "domain": [
          0,
          0.485
         ],
         "matches": "y",
         "showticklabels": false,
         "side": "left",
         "tickangle": 0,
         "title": {
          "text": ""
         }
        },
        "yaxis3": {
         "anchor": "x3",
         "domain": [
          0.515,
          1
         ],
         "matches": "y",
         "showticklabels": false,
         "side": "left",
         "tickangle": 0,
         "title": {
          "text": ""
         }
        },
        "yaxis4": {
         "anchor": "x4",
         "domain": [
          0.515,
          1
         ],
         "matches": "y",
         "showticklabels": false,
         "side": "left",
         "tickangle": 0,
         "title": {
          "text": ""
         }
        }
       }
      }
     },
     "metadata": {},
     "output_type": "display_data"
    },
    {
     "data": {
      "application/vnd.plotly.v1+json": {
       "config": {
        "plotlyServerURL": "https://plotly.com"
       },
       "data": [
        {
         "alignmentgroup": "True",
         "hovertemplate": "edit=%{x}<br>target=Ball-Key<br>instruction=Ball<br>percent_change=%{y}<extra></extra>",
         "legendgroup": "0_instruction_complement_26_S5",
         "marker": {
          "color": "#636efa",
          "line": {
           "width": 0
          },
          "pattern": {
           "shape": ""
          }
         },
         "name": "0_instruction_complement_26_S5",
         "offsetgroup": "0_instruction_complement_26_S5",
         "orientation": "v",
         "showlegend": true,
         "textposition": "auto",
         "texttemplate": "%{y}",
         "type": "bar",
         "width": 0.8,
         "x": [
          "0_instruction_complement_26_S5"
         ],
         "xaxis": "x3",
         "y": [
          1
         ],
         "yaxis": "y3"
        },
        {
         "alignmentgroup": "True",
         "hovertemplate": "edit=%{x}<br>target=Ball-Key<br>instruction=Key<br>percent_change=%{y}<extra></extra>",
         "legendgroup": "0_instruction_complement_26_S5",
         "marker": {
          "color": "#636efa",
          "line": {
           "width": 0
          },
          "pattern": {
           "shape": ""
          }
         },
         "name": "0_instruction_complement_26_S5",
         "offsetgroup": "0_instruction_complement_26_S5",
         "orientation": "v",
         "showlegend": false,
         "textposition": "auto",
         "texttemplate": "%{y}",
         "type": "bar",
         "width": 0.8,
         "x": [
          "0_instruction_complement_26_S5"
         ],
         "xaxis": "x4",
         "y": [
          1
         ],
         "yaxis": "y4"
        },
        {
         "alignmentgroup": "True",
         "hovertemplate": "edit=%{x}<br>target=Key-Ball<br>instruction=Ball<br>percent_change=%{y}<extra></extra>",
         "legendgroup": "0_instruction_complement_26_S5",
         "marker": {
          "color": "#636efa",
          "line": {
           "width": 0
          },
          "pattern": {
           "shape": ""
          }
         },
         "name": "0_instruction_complement_26_S5",
         "offsetgroup": "0_instruction_complement_26_S5",
         "orientation": "v",
         "showlegend": false,
         "textposition": "auto",
         "texttemplate": "%{y}",
         "type": "bar",
         "width": 0.8,
         "x": [
          "0_instruction_complement_26_S5"
         ],
         "xaxis": "x",
         "y": [
          1
         ],
         "yaxis": "y"
        },
        {
         "alignmentgroup": "True",
         "hovertemplate": "edit=%{x}<br>target=Key-Ball<br>instruction=Key<br>percent_change=%{y}<extra></extra>",
         "legendgroup": "0_instruction_complement_26_S5",
         "marker": {
          "color": "#636efa",
          "line": {
           "width": 0
          },
          "pattern": {
           "shape": ""
          }
         },
         "name": "0_instruction_complement_26_S5",
         "offsetgroup": "0_instruction_complement_26_S5",
         "orientation": "v",
         "showlegend": false,
         "textposition": "auto",
         "texttemplate": "%{y}",
         "type": "bar",
         "width": 0.8,
         "x": [
          "0_instruction_complement_26_S5"
         ],
         "xaxis": "x2",
         "y": [
          1
         ],
         "yaxis": "y2"
        },
        {
         "alignmentgroup": "True",
         "hovertemplate": "edit=%{x}<br>target=Ball-Key<br>instruction=Ball<br>percent_change=%{y}<extra></extra>",
         "legendgroup": "1_instruction_complement_05_S5",
         "marker": {
          "color": "#EF553B",
          "line": {
           "width": 0
          },
          "pattern": {
           "shape": ""
          }
         },
         "name": "1_instruction_complement_05_S5",
         "offsetgroup": "1_instruction_complement_05_S5",
         "orientation": "v",
         "showlegend": true,
         "textposition": "auto",
         "texttemplate": "%{y}",
         "type": "bar",
         "width": 0.8,
         "x": [
          "1_instruction_complement_05_S5"
         ],
         "xaxis": "x3",
         "y": [
          0.4870031476020813
         ],
         "yaxis": "y3"
        },
        {
         "alignmentgroup": "True",
         "hovertemplate": "edit=%{x}<br>target=Ball-Key<br>instruction=Key<br>percent_change=%{y}<extra></extra>",
         "legendgroup": "1_instruction_complement_05_S5",
         "marker": {
          "color": "#EF553B",
          "line": {
           "width": 0
          },
          "pattern": {
           "shape": ""
          }
         },
         "name": "1_instruction_complement_05_S5",
         "offsetgroup": "1_instruction_complement_05_S5",
         "orientation": "v",
         "showlegend": false,
         "textposition": "auto",
         "texttemplate": "%{y}",
         "type": "bar",
         "width": 0.8,
         "x": [
          "1_instruction_complement_05_S5"
         ],
         "xaxis": "x4",
         "y": [
          0.17443065345287323
         ],
         "yaxis": "y4"
        },
        {
         "alignmentgroup": "True",
         "hovertemplate": "edit=%{x}<br>target=Key-Ball<br>instruction=Ball<br>percent_change=%{y}<extra></extra>",
         "legendgroup": "1_instruction_complement_05_S5",
         "marker": {
          "color": "#EF553B",
          "line": {
           "width": 0
          },
          "pattern": {
           "shape": ""
          }
         },
         "name": "1_instruction_complement_05_S5",
         "offsetgroup": "1_instruction_complement_05_S5",
         "orientation": "v",
         "showlegend": false,
         "textposition": "auto",
         "texttemplate": "%{y}",
         "type": "bar",
         "width": 0.8,
         "x": [
          "1_instruction_complement_05_S5"
         ],
         "xaxis": "x",
         "y": [
          0.5273597240447998
         ],
         "yaxis": "y"
        },
        {
         "alignmentgroup": "True",
         "hovertemplate": "edit=%{x}<br>target=Key-Ball<br>instruction=Key<br>percent_change=%{y}<extra></extra>",
         "legendgroup": "1_instruction_complement_05_S5",
         "marker": {
          "color": "#EF553B",
          "line": {
           "width": 0
          },
          "pattern": {
           "shape": ""
          }
         },
         "name": "1_instruction_complement_05_S5",
         "offsetgroup": "1_instruction_complement_05_S5",
         "orientation": "v",
         "showlegend": false,
         "textposition": "auto",
         "texttemplate": "%{y}",
         "type": "bar",
         "width": 0.8,
         "x": [
          "1_instruction_complement_05_S5"
         ],
         "xaxis": "x2",
         "y": [
          0.3396834433078766
         ],
         "yaxis": "y2"
        },
        {
         "alignmentgroup": "True",
         "hovertemplate": "edit=%{x}<br>target=Ball-Key<br>instruction=Ball<br>percent_change=%{y}<extra></extra>",
         "legendgroup": "2_instruction_complement_42_S5",
         "marker": {
          "color": "#00cc96",
          "line": {
           "width": 0
          },
          "pattern": {
           "shape": ""
          }
         },
         "name": "2_instruction_complement_42_S5",
         "offsetgroup": "2_instruction_complement_42_S5",
         "orientation": "v",
         "showlegend": true,
         "textposition": "auto",
         "texttemplate": "%{y}",
         "type": "bar",
         "width": 0.8,
         "x": [
          "2_instruction_complement_42_S5"
         ],
         "xaxis": "x3",
         "y": [
          0.06507138162851334
         ],
         "yaxis": "y3"
        },
        {
         "alignmentgroup": "True",
         "hovertemplate": "edit=%{x}<br>target=Ball-Key<br>instruction=Key<br>percent_change=%{y}<extra></extra>",
         "legendgroup": "2_instruction_complement_42_S5",
         "marker": {
          "color": "#00cc96",
          "line": {
           "width": 0
          },
          "pattern": {
           "shape": ""
          }
         },
         "name": "2_instruction_complement_42_S5",
         "offsetgroup": "2_instruction_complement_42_S5",
         "orientation": "v",
         "showlegend": false,
         "textposition": "auto",
         "texttemplate": "%{y}",
         "type": "bar",
         "width": 0.8,
         "x": [
          "2_instruction_complement_42_S5"
         ],
         "xaxis": "x4",
         "y": [
          0.21861615777015686
         ],
         "yaxis": "y4"
        },
        {
         "alignmentgroup": "True",
         "hovertemplate": "edit=%{x}<br>target=Key-Ball<br>instruction=Ball<br>percent_change=%{y}<extra></extra>",
         "legendgroup": "2_instruction_complement_42_S5",
         "marker": {
          "color": "#00cc96",
          "line": {
           "width": 0
          },
          "pattern": {
           "shape": ""
          }
         },
         "name": "2_instruction_complement_42_S5",
         "offsetgroup": "2_instruction_complement_42_S5",
         "orientation": "v",
         "showlegend": false,
         "textposition": "auto",
         "texttemplate": "%{y}",
         "type": "bar",
         "width": 0.8,
         "x": [
          "2_instruction_complement_42_S5"
         ],
         "xaxis": "x",
         "y": [
          0.3660943806171417
         ],
         "yaxis": "y"
        },
        {
         "alignmentgroup": "True",
         "hovertemplate": "edit=%{x}<br>target=Key-Ball<br>instruction=Key<br>percent_change=%{y}<extra></extra>",
         "legendgroup": "2_instruction_complement_42_S5",
         "marker": {
          "color": "#00cc96",
          "line": {
           "width": 0
          },
          "pattern": {
           "shape": ""
          }
         },
         "name": "2_instruction_complement_42_S5",
         "offsetgroup": "2_instruction_complement_42_S5",
         "orientation": "v",
         "showlegend": false,
         "textposition": "auto",
         "texttemplate": "%{y}",
         "type": "bar",
         "width": 0.8,
         "x": [
          "2_instruction_complement_42_S5"
         ],
         "xaxis": "x2",
         "y": [
          0.3537185490131378
         ],
         "yaxis": "y2"
        },
        {
         "alignmentgroup": "True",
         "hovertemplate": "edit=%{x}<br>target=Ball-Key<br>instruction=Ball<br>percent_change=%{y}<extra></extra>",
         "legendgroup": "3_instruction_complement_05_42_S5",
         "marker": {
          "color": "#ab63fa",
          "line": {
           "width": 0
          },
          "pattern": {
           "shape": ""
          }
         },
         "name": "3_instruction_complement_05_42_S5",
         "offsetgroup": "3_instruction_complement_05_42_S5",
         "orientation": "v",
         "showlegend": true,
         "textposition": "auto",
         "texttemplate": "%{y}",
         "type": "bar",
         "width": 0.8,
         "x": [
          "3_instruction_complement_05_42_S5"
         ],
         "xaxis": "x3",
         "y": [
          0.8284932971000671
         ],
         "yaxis": "y3"
        },
        {
         "alignmentgroup": "True",
         "hovertemplate": "edit=%{x}<br>target=Ball-Key<br>instruction=Key<br>percent_change=%{y}<extra></extra>",
         "legendgroup": "3_instruction_complement_05_42_S5",
         "marker": {
          "color": "#ab63fa",
          "line": {
           "width": 0
          },
          "pattern": {
           "shape": ""
          }
         },
         "name": "3_instruction_complement_05_42_S5",
         "offsetgroup": "3_instruction_complement_05_42_S5",
         "orientation": "v",
         "showlegend": false,
         "textposition": "auto",
         "texttemplate": "%{y}",
         "type": "bar",
         "width": 0.8,
         "x": [
          "3_instruction_complement_05_42_S5"
         ],
         "xaxis": "x4",
         "y": [
          0.893025815486908
         ],
         "yaxis": "y4"
        },
        {
         "alignmentgroup": "True",
         "hovertemplate": "edit=%{x}<br>target=Key-Ball<br>instruction=Ball<br>percent_change=%{y}<extra></extra>",
         "legendgroup": "3_instruction_complement_05_42_S5",
         "marker": {
          "color": "#ab63fa",
          "line": {
           "width": 0
          },
          "pattern": {
           "shape": ""
          }
         },
         "name": "3_instruction_complement_05_42_S5",
         "offsetgroup": "3_instruction_complement_05_42_S5",
         "orientation": "v",
         "showlegend": false,
         "textposition": "auto",
         "texttemplate": "%{y}",
         "type": "bar",
         "width": 0.8,
         "x": [
          "3_instruction_complement_05_42_S5"
         ],
         "xaxis": "x",
         "y": [
          0.9253354072570801
         ],
         "yaxis": "y"
        },
        {
         "alignmentgroup": "True",
         "hovertemplate": "edit=%{x}<br>target=Key-Ball<br>instruction=Key<br>percent_change=%{y}<extra></extra>",
         "legendgroup": "3_instruction_complement_05_42_S5",
         "marker": {
          "color": "#ab63fa",
          "line": {
           "width": 0
          },
          "pattern": {
           "shape": ""
          }
         },
         "name": "3_instruction_complement_05_42_S5",
         "offsetgroup": "3_instruction_complement_05_42_S5",
         "orientation": "v",
         "showlegend": false,
         "textposition": "auto",
         "texttemplate": "%{y}",
         "type": "bar",
         "width": 0.8,
         "x": [
          "3_instruction_complement_05_42_S5"
         ],
         "xaxis": "x2",
         "y": [
          0.6609624028205872
         ],
         "yaxis": "y2"
        },
        {
         "alignmentgroup": "True",
         "hovertemplate": "edit=%{x}<br>target=Ball-Key<br>instruction=Ball<br>percent_change=%{y}<extra></extra>",
         "legendgroup": "flipped_targets_full_start_and_end",
         "marker": {
          "color": "#FFA15A",
          "line": {
           "width": 0
          },
          "pattern": {
           "shape": ""
          }
         },
         "name": "flipped_targets_full_start_and_end",
         "offsetgroup": "flipped_targets_full_start_and_end",
         "orientation": "v",
         "showlegend": true,
         "textposition": "auto",
         "texttemplate": "%{y}",
         "type": "bar",
         "width": 0.8,
         "x": [
          "flipped_targets_full_start_and_end"
         ],
         "xaxis": "x3",
         "y": [
          0.7386878132820129
         ],
         "yaxis": "y3"
        },
        {
         "alignmentgroup": "True",
         "hovertemplate": "edit=%{x}<br>target=Ball-Key<br>instruction=Key<br>percent_change=%{y}<extra></extra>",
         "legendgroup": "flipped_targets_full_start_and_end",
         "marker": {
          "color": "#FFA15A",
          "line": {
           "width": 0
          },
          "pattern": {
           "shape": ""
          }
         },
         "name": "flipped_targets_full_start_and_end",
         "offsetgroup": "flipped_targets_full_start_and_end",
         "orientation": "v",
         "showlegend": false,
         "textposition": "auto",
         "texttemplate": "%{y}",
         "type": "bar",
         "width": 0.8,
         "x": [
          "flipped_targets_full_start_and_end"
         ],
         "xaxis": "x4",
         "y": [
          1.444779396057129
         ],
         "yaxis": "y4"
        },
        {
         "alignmentgroup": "True",
         "hovertemplate": "edit=%{x}<br>target=Key-Ball<br>instruction=Ball<br>percent_change=%{y}<extra></extra>",
         "legendgroup": "flipped_targets_full_start_and_end",
         "marker": {
          "color": "#FFA15A",
          "line": {
           "width": 0
          },
          "pattern": {
           "shape": ""
          }
         },
         "name": "flipped_targets_full_start_and_end",
         "offsetgroup": "flipped_targets_full_start_and_end",
         "orientation": "v",
         "showlegend": false,
         "textposition": "auto",
         "texttemplate": "%{y}",
         "type": "bar",
         "width": 0.8,
         "x": [
          "flipped_targets_full_start_and_end"
         ],
         "xaxis": "x",
         "y": [
          0.6031556129455566
         ],
         "yaxis": "y"
        },
        {
         "alignmentgroup": "True",
         "hovertemplate": "edit=%{x}<br>target=Key-Ball<br>instruction=Key<br>percent_change=%{y}<extra></extra>",
         "legendgroup": "flipped_targets_full_start_and_end",
         "marker": {
          "color": "#FFA15A",
          "line": {
           "width": 0
          },
          "pattern": {
           "shape": ""
          }
         },
         "name": "flipped_targets_full_start_and_end",
         "offsetgroup": "flipped_targets_full_start_and_end",
         "orientation": "v",
         "showlegend": false,
         "textposition": "auto",
         "texttemplate": "%{y}",
         "type": "bar",
         "width": 0.8,
         "x": [
          "flipped_targets_full_start_and_end"
         ],
         "xaxis": "x2",
         "y": [
          1.247767686843872
         ],
         "yaxis": "y2"
        },
        {
         "alignmentgroup": "True",
         "hovertemplate": "edit=%{x}<br>target=Ball-Key<br>instruction=Ball<br>percent_change=%{y}<extra></extra>",
         "legendgroup": "instruction_complement_05_42_S9",
         "marker": {
          "color": "#19d3f3",
          "line": {
           "width": 0
          },
          "pattern": {
           "shape": ""
          }
         },
         "name": "instruction_complement_05_42_S9",
         "offsetgroup": "instruction_complement_05_42_S9",
         "orientation": "v",
         "showlegend": true,
         "textposition": "auto",
         "texttemplate": "%{y}",
         "type": "bar",
         "width": 0.8,
         "x": [
          "instruction_complement_05_42_S9"
         ],
         "xaxis": "x3",
         "y": [
          -0.07884430885314941
         ],
         "yaxis": "y3"
        },
        {
         "alignmentgroup": "True",
         "hovertemplate": "edit=%{x}<br>target=Ball-Key<br>instruction=Key<br>percent_change=%{y}<extra></extra>",
         "legendgroup": "instruction_complement_05_42_S9",
         "marker": {
          "color": "#19d3f3",
          "line": {
           "width": 0
          },
          "pattern": {
           "shape": ""
          }
         },
         "name": "instruction_complement_05_42_S9",
         "offsetgroup": "instruction_complement_05_42_S9",
         "orientation": "v",
         "showlegend": false,
         "textposition": "auto",
         "texttemplate": "%{y}",
         "type": "bar",
         "width": 0.8,
         "x": [
          "instruction_complement_05_42_S9"
         ],
         "xaxis": "x4",
         "y": [
          -0.03163071349263191
         ],
         "yaxis": "y4"
        },
        {
         "alignmentgroup": "True",
         "hovertemplate": "edit=%{x}<br>target=Key-Ball<br>instruction=Ball<br>percent_change=%{y}<extra></extra>",
         "legendgroup": "instruction_complement_05_42_S9",
         "marker": {
          "color": "#19d3f3",
          "line": {
           "width": 0
          },
          "pattern": {
           "shape": ""
          }
         },
         "name": "instruction_complement_05_42_S9",
         "offsetgroup": "instruction_complement_05_42_S9",
         "orientation": "v",
         "showlegend": false,
         "textposition": "auto",
         "texttemplate": "%{y}",
         "type": "bar",
         "width": 0.8,
         "x": [
          "instruction_complement_05_42_S9"
         ],
         "xaxis": "x",
         "y": [
          0.014570011757314205
         ],
         "yaxis": "y"
        },
        {
         "alignmentgroup": "True",
         "hovertemplate": "edit=%{x}<br>target=Key-Ball<br>instruction=Key<br>percent_change=%{y}<extra></extra>",
         "legendgroup": "instruction_complement_05_42_S9",
         "marker": {
          "color": "#19d3f3",
          "line": {
           "width": 0
          },
          "pattern": {
           "shape": ""
          }
         },
         "name": "instruction_complement_05_42_S9",
         "offsetgroup": "instruction_complement_05_42_S9",
         "orientation": "v",
         "showlegend": false,
         "textposition": "auto",
         "texttemplate": "%{y}",
         "type": "bar",
         "width": 0.8,
         "x": [
          "instruction_complement_05_42_S9"
         ],
         "xaxis": "x2",
         "y": [
          0.10466772317886353
         ],
         "yaxis": "y2"
        },
        {
         "alignmentgroup": "True",
         "hovertemplate": "edit=%{x}<br>target=Ball-Key<br>instruction=Ball<br>percent_change=%{y}<extra></extra>",
         "legendgroup": "instruction_complement_05_S9",
         "marker": {
          "color": "#FF6692",
          "line": {
           "width": 0
          },
          "pattern": {
           "shape": ""
          }
         },
         "name": "instruction_complement_05_S9",
         "offsetgroup": "instruction_complement_05_S9",
         "orientation": "v",
         "showlegend": true,
         "textposition": "auto",
         "texttemplate": "%{y}",
         "type": "bar",
         "width": 0.8,
         "x": [
          "instruction_complement_05_S9"
         ],
         "xaxis": "x3",
         "y": [
          -0.02619919925928116
         ],
         "yaxis": "y3"
        },
        {
         "alignmentgroup": "True",
         "hovertemplate": "edit=%{x}<br>target=Ball-Key<br>instruction=Key<br>percent_change=%{y}<extra></extra>",
         "legendgroup": "instruction_complement_05_S9",
         "marker": {
          "color": "#FF6692",
          "line": {
           "width": 0
          },
          "pattern": {
           "shape": ""
          }
         },
         "name": "instruction_complement_05_S9",
         "offsetgroup": "instruction_complement_05_S9",
         "orientation": "v",
         "showlegend": false,
         "textposition": "auto",
         "texttemplate": "%{y}",
         "type": "bar",
         "width": 0.8,
         "x": [
          "instruction_complement_05_S9"
         ],
         "xaxis": "x4",
         "y": [
          -0.026173558086156845
         ],
         "yaxis": "y4"
        },
        {
         "alignmentgroup": "True",
         "hovertemplate": "edit=%{x}<br>target=Key-Ball<br>instruction=Ball<br>percent_change=%{y}<extra></extra>",
         "legendgroup": "instruction_complement_05_S9",
         "marker": {
          "color": "#FF6692",
          "line": {
           "width": 0
          },
          "pattern": {
           "shape": ""
          }
         },
         "name": "instruction_complement_05_S9",
         "offsetgroup": "instruction_complement_05_S9",
         "orientation": "v",
         "showlegend": false,
         "textposition": "auto",
         "texttemplate": "%{y}",
         "type": "bar",
         "width": 0.8,
         "x": [
          "instruction_complement_05_S9"
         ],
         "xaxis": "x",
         "y": [
          -0.04411449655890465
         ],
         "yaxis": "y"
        },
        {
         "alignmentgroup": "True",
         "hovertemplate": "edit=%{x}<br>target=Key-Ball<br>instruction=Key<br>percent_change=%{y}<extra></extra>",
         "legendgroup": "instruction_complement_05_S9",
         "marker": {
          "color": "#FF6692",
          "line": {
           "width": 0
          },
          "pattern": {
           "shape": ""
          }
         },
         "name": "instruction_complement_05_S9",
         "offsetgroup": "instruction_complement_05_S9",
         "orientation": "v",
         "showlegend": false,
         "textposition": "auto",
         "texttemplate": "%{y}",
         "type": "bar",
         "width": 0.8,
         "x": [
          "instruction_complement_05_S9"
         ],
         "xaxis": "x2",
         "y": [
          0.042832113802433014
         ],
         "yaxis": "y2"
        },
        {
         "alignmentgroup": "True",
         "hovertemplate": "edit=%{x}<br>target=Ball-Key<br>instruction=Ball<br>percent_change=%{y}<extra></extra>",
         "legendgroup": "instruction_complement_42_S9",
         "marker": {
          "color": "#B6E880",
          "line": {
           "width": 0
          },
          "pattern": {
           "shape": ""
          }
         },
         "name": "instruction_complement_42_S9",
         "offsetgroup": "instruction_complement_42_S9",
         "orientation": "v",
         "showlegend": true,
         "textposition": "auto",
         "texttemplate": "%{y}",
         "type": "bar",
         "width": 0.8,
         "x": [
          "instruction_complement_42_S9"
         ],
         "xaxis": "x3",
         "y": [
          -0.024865269660949707
         ],
         "yaxis": "y3"
        },
        {
         "alignmentgroup": "True",
         "hovertemplate": "edit=%{x}<br>target=Ball-Key<br>instruction=Key<br>percent_change=%{y}<extra></extra>",
         "legendgroup": "instruction_complement_42_S9",
         "marker": {
          "color": "#B6E880",
          "line": {
           "width": 0
          },
          "pattern": {
           "shape": ""
          }
         },
         "name": "instruction_complement_42_S9",
         "offsetgroup": "instruction_complement_42_S9",
         "orientation": "v",
         "showlegend": false,
         "textposition": "auto",
         "texttemplate": "%{y}",
         "type": "bar",
         "width": 0.8,
         "x": [
          "instruction_complement_42_S9"
         ],
         "xaxis": "x4",
         "y": [
          -0.030268341302871704
         ],
         "yaxis": "y4"
        },
        {
         "alignmentgroup": "True",
         "hovertemplate": "edit=%{x}<br>target=Key-Ball<br>instruction=Ball<br>percent_change=%{y}<extra></extra>",
         "legendgroup": "instruction_complement_42_S9",
         "marker": {
          "color": "#B6E880",
          "line": {
           "width": 0
          },
          "pattern": {
           "shape": ""
          }
         },
         "name": "instruction_complement_42_S9",
         "offsetgroup": "instruction_complement_42_S9",
         "orientation": "v",
         "showlegend": false,
         "textposition": "auto",
         "texttemplate": "%{y}",
         "type": "bar",
         "width": 0.8,
         "x": [
          "instruction_complement_42_S9"
         ],
         "xaxis": "x",
         "y": [
          0.04097053036093712
         ],
         "yaxis": "y"
        },
        {
         "alignmentgroup": "True",
         "hovertemplate": "edit=%{x}<br>target=Key-Ball<br>instruction=Key<br>percent_change=%{y}<extra></extra>",
         "legendgroup": "instruction_complement_42_S9",
         "marker": {
          "color": "#B6E880",
          "line": {
           "width": 0
          },
          "pattern": {
           "shape": ""
          }
         },
         "name": "instruction_complement_42_S9",
         "offsetgroup": "instruction_complement_42_S9",
         "orientation": "v",
         "showlegend": false,
         "textposition": "auto",
         "texttemplate": "%{y}",
         "type": "bar",
         "width": 0.8,
         "x": [
          "instruction_complement_42_S9"
         ],
         "xaxis": "x2",
         "y": [
          0.04174550250172615
         ],
         "yaxis": "y2"
        },
        {
         "alignmentgroup": "True",
         "hovertemplate": "edit=%{x}<br>target=Ball-Key<br>instruction=Ball<br>percent_change=%{y}<extra></extra>",
         "legendgroup": "original",
         "marker": {
          "color": "#FF97FF",
          "line": {
           "width": 0
          },
          "pattern": {
           "shape": ""
          }
         },
         "name": "original",
         "offsetgroup": "original",
         "orientation": "v",
         "showlegend": true,
         "textposition": "auto",
         "texttemplate": "%{y}",
         "type": "bar",
         "width": 0.8,
         "x": [
          "original"
         ],
         "xaxis": "x3",
         "y": [
          0
         ],
         "yaxis": "y3"
        },
        {
         "alignmentgroup": "True",
         "hovertemplate": "edit=%{x}<br>target=Ball-Key<br>instruction=Key<br>percent_change=%{y}<extra></extra>",
         "legendgroup": "original",
         "marker": {
          "color": "#FF97FF",
          "line": {
           "width": 0
          },
          "pattern": {
           "shape": ""
          }
         },
         "name": "original",
         "offsetgroup": "original",
         "orientation": "v",
         "showlegend": false,
         "textposition": "auto",
         "texttemplate": "%{y}",
         "type": "bar",
         "width": 0.8,
         "x": [
          "original"
         ],
         "xaxis": "x4",
         "y": [
          0
         ],
         "yaxis": "y4"
        },
        {
         "alignmentgroup": "True",
         "hovertemplate": "edit=%{x}<br>target=Key-Ball<br>instruction=Ball<br>percent_change=%{y}<extra></extra>",
         "legendgroup": "original",
         "marker": {
          "color": "#FF97FF",
          "line": {
           "width": 0
          },
          "pattern": {
           "shape": ""
          }
         },
         "name": "original",
         "offsetgroup": "original",
         "orientation": "v",
         "showlegend": false,
         "textposition": "auto",
         "texttemplate": "%{y}",
         "type": "bar",
         "width": 0.8,
         "x": [
          "original"
         ],
         "xaxis": "x",
         "y": [
          0
         ],
         "yaxis": "y"
        },
        {
         "alignmentgroup": "True",
         "hovertemplate": "edit=%{x}<br>target=Key-Ball<br>instruction=Key<br>percent_change=%{y}<extra></extra>",
         "legendgroup": "original",
         "marker": {
          "color": "#FF97FF",
          "line": {
           "width": 0
          },
          "pattern": {
           "shape": ""
          }
         },
         "name": "original",
         "offsetgroup": "original",
         "orientation": "v",
         "showlegend": false,
         "textposition": "auto",
         "texttemplate": "%{y}",
         "type": "bar",
         "width": 0.8,
         "x": [
          "original"
         ],
         "xaxis": "x2",
         "y": [
          0
         ],
         "yaxis": "y2"
        },
        {
         "alignmentgroup": "True",
         "hovertemplate": "edit=%{x}<br>target=Ball-Key<br>instruction=Ball<br>percent_change=%{y}<extra></extra>",
         "legendgroup": "target_complement_S5",
         "marker": {
          "color": "#FECB52",
          "line": {
           "width": 0
          },
          "pattern": {
           "shape": ""
          }
         },
         "name": "target_complement_S5",
         "offsetgroup": "target_complement_S5",
         "orientation": "v",
         "showlegend": true,
         "textposition": "auto",
         "texttemplate": "%{y}",
         "type": "bar",
         "width": 0.8,
         "x": [
          "target_complement_S5"
         ],
         "xaxis": "x3",
         "y": [
          0.05502183735370636
         ],
         "yaxis": "y3"
        },
        {
         "alignmentgroup": "True",
         "hovertemplate": "edit=%{x}<br>target=Ball-Key<br>instruction=Key<br>percent_change=%{y}<extra></extra>",
         "legendgroup": "target_complement_S5",
         "marker": {
          "color": "#FECB52",
          "line": {
           "width": 0
          },
          "pattern": {
           "shape": ""
          }
         },
         "name": "target_complement_S5",
         "offsetgroup": "target_complement_S5",
         "orientation": "v",
         "showlegend": false,
         "textposition": "auto",
         "texttemplate": "%{y}",
         "type": "bar",
         "width": 0.8,
         "x": [
          "target_complement_S5"
         ],
         "xaxis": "x4",
         "y": [
          0.19762644171714783
         ],
         "yaxis": "y4"
        },
        {
         "alignmentgroup": "True",
         "hovertemplate": "edit=%{x}<br>target=Key-Ball<br>instruction=Ball<br>percent_change=%{y}<extra></extra>",
         "legendgroup": "target_complement_S5",
         "marker": {
          "color": "#FECB52",
          "line": {
           "width": 0
          },
          "pattern": {
           "shape": ""
          }
         },
         "name": "target_complement_S5",
         "offsetgroup": "target_complement_S5",
         "orientation": "v",
         "showlegend": false,
         "textposition": "auto",
         "texttemplate": "%{y}",
         "type": "bar",
         "width": 0.8,
         "x": [
          "target_complement_S5"
         ],
         "xaxis": "x",
         "y": [
          -0.12253076583147049
         ],
         "yaxis": "y"
        },
        {
         "alignmentgroup": "True",
         "hovertemplate": "edit=%{x}<br>target=Key-Ball<br>instruction=Key<br>percent_change=%{y}<extra></extra>",
         "legendgroup": "target_complement_S5",
         "marker": {
          "color": "#FECB52",
          "line": {
           "width": 0
          },
          "pattern": {
           "shape": ""
          }
         },
         "name": "target_complement_S5",
         "offsetgroup": "target_complement_S5",
         "orientation": "v",
         "showlegend": false,
         "textposition": "auto",
         "texttemplate": "%{y}",
         "type": "bar",
         "width": 0.8,
         "x": [
          "target_complement_S5"
         ],
         "xaxis": "x2",
         "y": [
          0.017537100240588188
         ],
         "yaxis": "y2"
        },
        {
         "alignmentgroup": "True",
         "hovertemplate": "edit=%{x}<br>target=Ball-Key<br>instruction=Ball<br>percent_change=%{y}<extra></extra>",
         "legendgroup": "target_complement_S9",
         "marker": {
          "color": "#636efa",
          "line": {
           "width": 0
          },
          "pattern": {
           "shape": ""
          }
         },
         "name": "target_complement_S9",
         "offsetgroup": "target_complement_S9",
         "orientation": "v",
         "showlegend": true,
         "textposition": "auto",
         "texttemplate": "%{y}",
         "type": "bar",
         "width": 0.8,
         "x": [
          "target_complement_S9"
         ],
         "xaxis": "x3",
         "y": [
          0.9049951434135437
         ],
         "yaxis": "y3"
        },
        {
         "alignmentgroup": "True",
         "hovertemplate": "edit=%{x}<br>target=Ball-Key<br>instruction=Key<br>percent_change=%{y}<extra></extra>",
         "legendgroup": "target_complement_S9",
         "marker": {
          "color": "#636efa",
          "line": {
           "width": 0
          },
          "pattern": {
           "shape": ""
          }
         },
         "name": "target_complement_S9",
         "offsetgroup": "target_complement_S9",
         "orientation": "v",
         "showlegend": false,
         "textposition": "auto",
         "texttemplate": "%{y}",
         "type": "bar",
         "width": 0.8,
         "x": [
          "target_complement_S9"
         ],
         "xaxis": "x4",
         "y": [
          1.4622355699539185
         ],
         "yaxis": "y4"
        },
        {
         "alignmentgroup": "True",
         "hovertemplate": "edit=%{x}<br>target=Key-Ball<br>instruction=Ball<br>percent_change=%{y}<extra></extra>",
         "legendgroup": "target_complement_S9",
         "marker": {
          "color": "#636efa",
          "line": {
           "width": 0
          },
          "pattern": {
           "shape": ""
          }
         },
         "name": "target_complement_S9",
         "offsetgroup": "target_complement_S9",
         "orientation": "v",
         "showlegend": false,
         "textposition": "auto",
         "texttemplate": "%{y}",
         "type": "bar",
         "width": 0.8,
         "x": [
          "target_complement_S9"
         ],
         "xaxis": "x",
         "y": [
          0.5574399828910828
         ],
         "yaxis": "y"
        },
        {
         "alignmentgroup": "True",
         "hovertemplate": "edit=%{x}<br>target=Key-Ball<br>instruction=Key<br>percent_change=%{y}<extra></extra>",
         "legendgroup": "target_complement_S9",
         "marker": {
          "color": "#636efa",
          "line": {
           "width": 0
          },
          "pattern": {
           "shape": ""
          }
         },
         "name": "target_complement_S9",
         "offsetgroup": "target_complement_S9",
         "orientation": "v",
         "showlegend": false,
         "textposition": "auto",
         "texttemplate": "%{y}",
         "type": "bar",
         "width": 0.8,
         "x": [
          "target_complement_S9"
         ],
         "xaxis": "x2",
         "y": [
          1.0841364860534668
         ],
         "yaxis": "y2"
        }
       ],
       "layout": {
        "annotations": [
         {
          "font": {},
          "showarrow": false,
          "text": "Ball",
          "x": 0.24,
          "xanchor": "center",
          "xref": "paper",
          "y": 1,
          "yanchor": "bottom",
          "yref": "paper"
         },
         {
          "font": {},
          "showarrow": false,
          "text": "Key",
          "x": 0.74,
          "xanchor": "center",
          "xref": "paper",
          "y": 1,
          "yanchor": "bottom",
          "yref": "paper"
         },
         {
          "font": {},
          "showarrow": false,
          "text": "Key-Ball",
          "textangle": 90,
          "x": 0.98,
          "xanchor": "left",
          "xref": "paper",
          "y": 0.2425,
          "yanchor": "middle",
          "yref": "paper"
         },
         {
          "font": {},
          "showarrow": false,
          "text": "Ball-Key",
          "textangle": 90,
          "x": 0.98,
          "xanchor": "left",
          "xref": "paper",
          "y": 0.7575000000000001,
          "yanchor": "middle",
          "yref": "paper"
         }
        ],
        "barmode": "group",
        "font": {
         "size": 24
        },
        "height": 800,
        "legend": {
         "title": {
          "text": "edit"
         },
         "tracegroupgap": 0
        },
        "margin": {
         "t": 60
        },
        "template": {
         "data": {
          "bar": [
           {
            "error_x": {
             "color": "#2a3f5f"
            },
            "error_y": {
             "color": "#2a3f5f"
            },
            "marker": {
             "line": {
              "color": "#E5ECF6",
              "width": 0.5
             },
             "pattern": {
              "fillmode": "overlay",
              "size": 10,
              "solidity": 0.2
             }
            },
            "type": "bar"
           }
          ],
          "barpolar": [
           {
            "marker": {
             "line": {
              "color": "#E5ECF6",
              "width": 0.5
             },
             "pattern": {
              "fillmode": "overlay",
              "size": 10,
              "solidity": 0.2
             }
            },
            "type": "barpolar"
           }
          ],
          "carpet": [
           {
            "aaxis": {
             "endlinecolor": "#2a3f5f",
             "gridcolor": "white",
             "linecolor": "white",
             "minorgridcolor": "white",
             "startlinecolor": "#2a3f5f"
            },
            "baxis": {
             "endlinecolor": "#2a3f5f",
             "gridcolor": "white",
             "linecolor": "white",
             "minorgridcolor": "white",
             "startlinecolor": "#2a3f5f"
            },
            "type": "carpet"
           }
          ],
          "choropleth": [
           {
            "colorbar": {
             "outlinewidth": 0,
             "ticks": ""
            },
            "type": "choropleth"
           }
          ],
          "contour": [
           {
            "colorbar": {
             "outlinewidth": 0,
             "ticks": ""
            },
            "colorscale": [
             [
              0,
              "#0d0887"
             ],
             [
              0.1111111111111111,
              "#46039f"
             ],
             [
              0.2222222222222222,
              "#7201a8"
             ],
             [
              0.3333333333333333,
              "#9c179e"
             ],
             [
              0.4444444444444444,
              "#bd3786"
             ],
             [
              0.5555555555555556,
              "#d8576b"
             ],
             [
              0.6666666666666666,
              "#ed7953"
             ],
             [
              0.7777777777777778,
              "#fb9f3a"
             ],
             [
              0.8888888888888888,
              "#fdca26"
             ],
             [
              1,
              "#f0f921"
             ]
            ],
            "type": "contour"
           }
          ],
          "contourcarpet": [
           {
            "colorbar": {
             "outlinewidth": 0,
             "ticks": ""
            },
            "type": "contourcarpet"
           }
          ],
          "heatmap": [
           {
            "colorbar": {
             "outlinewidth": 0,
             "ticks": ""
            },
            "colorscale": [
             [
              0,
              "#0d0887"
             ],
             [
              0.1111111111111111,
              "#46039f"
             ],
             [
              0.2222222222222222,
              "#7201a8"
             ],
             [
              0.3333333333333333,
              "#9c179e"
             ],
             [
              0.4444444444444444,
              "#bd3786"
             ],
             [
              0.5555555555555556,
              "#d8576b"
             ],
             [
              0.6666666666666666,
              "#ed7953"
             ],
             [
              0.7777777777777778,
              "#fb9f3a"
             ],
             [
              0.8888888888888888,
              "#fdca26"
             ],
             [
              1,
              "#f0f921"
             ]
            ],
            "type": "heatmap"
           }
          ],
          "heatmapgl": [
           {
            "colorbar": {
             "outlinewidth": 0,
             "ticks": ""
            },
            "colorscale": [
             [
              0,
              "#0d0887"
             ],
             [
              0.1111111111111111,
              "#46039f"
             ],
             [
              0.2222222222222222,
              "#7201a8"
             ],
             [
              0.3333333333333333,
              "#9c179e"
             ],
             [
              0.4444444444444444,
              "#bd3786"
             ],
             [
              0.5555555555555556,
              "#d8576b"
             ],
             [
              0.6666666666666666,
              "#ed7953"
             ],
             [
              0.7777777777777778,
              "#fb9f3a"
             ],
             [
              0.8888888888888888,
              "#fdca26"
             ],
             [
              1,
              "#f0f921"
             ]
            ],
            "type": "heatmapgl"
           }
          ],
          "histogram": [
           {
            "marker": {
             "pattern": {
              "fillmode": "overlay",
              "size": 10,
              "solidity": 0.2
             }
            },
            "type": "histogram"
           }
          ],
          "histogram2d": [
           {
            "colorbar": {
             "outlinewidth": 0,
             "ticks": ""
            },
            "colorscale": [
             [
              0,
              "#0d0887"
             ],
             [
              0.1111111111111111,
              "#46039f"
             ],
             [
              0.2222222222222222,
              "#7201a8"
             ],
             [
              0.3333333333333333,
              "#9c179e"
             ],
             [
              0.4444444444444444,
              "#bd3786"
             ],
             [
              0.5555555555555556,
              "#d8576b"
             ],
             [
              0.6666666666666666,
              "#ed7953"
             ],
             [
              0.7777777777777778,
              "#fb9f3a"
             ],
             [
              0.8888888888888888,
              "#fdca26"
             ],
             [
              1,
              "#f0f921"
             ]
            ],
            "type": "histogram2d"
           }
          ],
          "histogram2dcontour": [
           {
            "colorbar": {
             "outlinewidth": 0,
             "ticks": ""
            },
            "colorscale": [
             [
              0,
              "#0d0887"
             ],
             [
              0.1111111111111111,
              "#46039f"
             ],
             [
              0.2222222222222222,
              "#7201a8"
             ],
             [
              0.3333333333333333,
              "#9c179e"
             ],
             [
              0.4444444444444444,
              "#bd3786"
             ],
             [
              0.5555555555555556,
              "#d8576b"
             ],
             [
              0.6666666666666666,
              "#ed7953"
             ],
             [
              0.7777777777777778,
              "#fb9f3a"
             ],
             [
              0.8888888888888888,
              "#fdca26"
             ],
             [
              1,
              "#f0f921"
             ]
            ],
            "type": "histogram2dcontour"
           }
          ],
          "mesh3d": [
           {
            "colorbar": {
             "outlinewidth": 0,
             "ticks": ""
            },
            "type": "mesh3d"
           }
          ],
          "parcoords": [
           {
            "line": {
             "colorbar": {
              "outlinewidth": 0,
              "ticks": ""
             }
            },
            "type": "parcoords"
           }
          ],
          "pie": [
           {
            "automargin": true,
            "type": "pie"
           }
          ],
          "scatter": [
           {
            "fillpattern": {
             "fillmode": "overlay",
             "size": 10,
             "solidity": 0.2
            },
            "type": "scatter"
           }
          ],
          "scatter3d": [
           {
            "line": {
             "colorbar": {
              "outlinewidth": 0,
              "ticks": ""
             }
            },
            "marker": {
             "colorbar": {
              "outlinewidth": 0,
              "ticks": ""
             }
            },
            "type": "scatter3d"
           }
          ],
          "scattercarpet": [
           {
            "marker": {
             "colorbar": {
              "outlinewidth": 0,
              "ticks": ""
             }
            },
            "type": "scattercarpet"
           }
          ],
          "scattergeo": [
           {
            "marker": {
             "colorbar": {
              "outlinewidth": 0,
              "ticks": ""
             }
            },
            "type": "scattergeo"
           }
          ],
          "scattergl": [
           {
            "marker": {
             "colorbar": {
              "outlinewidth": 0,
              "ticks": ""
             }
            },
            "type": "scattergl"
           }
          ],
          "scattermapbox": [
           {
            "marker": {
             "colorbar": {
              "outlinewidth": 0,
              "ticks": ""
             }
            },
            "type": "scattermapbox"
           }
          ],
          "scatterpolar": [
           {
            "marker": {
             "colorbar": {
              "outlinewidth": 0,
              "ticks": ""
             }
            },
            "type": "scatterpolar"
           }
          ],
          "scatterpolargl": [
           {
            "marker": {
             "colorbar": {
              "outlinewidth": 0,
              "ticks": ""
             }
            },
            "type": "scatterpolargl"
           }
          ],
          "scatterternary": [
           {
            "marker": {
             "colorbar": {
              "outlinewidth": 0,
              "ticks": ""
             }
            },
            "type": "scatterternary"
           }
          ],
          "surface": [
           {
            "colorbar": {
             "outlinewidth": 0,
             "ticks": ""
            },
            "colorscale": [
             [
              0,
              "#0d0887"
             ],
             [
              0.1111111111111111,
              "#46039f"
             ],
             [
              0.2222222222222222,
              "#7201a8"
             ],
             [
              0.3333333333333333,
              "#9c179e"
             ],
             [
              0.4444444444444444,
              "#bd3786"
             ],
             [
              0.5555555555555556,
              "#d8576b"
             ],
             [
              0.6666666666666666,
              "#ed7953"
             ],
             [
              0.7777777777777778,
              "#fb9f3a"
             ],
             [
              0.8888888888888888,
              "#fdca26"
             ],
             [
              1,
              "#f0f921"
             ]
            ],
            "type": "surface"
           }
          ],
          "table": [
           {
            "cells": {
             "fill": {
              "color": "#EBF0F8"
             },
             "line": {
              "color": "white"
             }
            },
            "header": {
             "fill": {
              "color": "#C8D4E3"
             },
             "line": {
              "color": "white"
             }
            },
            "type": "table"
           }
          ]
         },
         "layout": {
          "annotationdefaults": {
           "arrowcolor": "#2a3f5f",
           "arrowhead": 0,
           "arrowwidth": 1
          },
          "autotypenumbers": "strict",
          "coloraxis": {
           "colorbar": {
            "outlinewidth": 0,
            "ticks": ""
           }
          },
          "colorscale": {
           "diverging": [
            [
             0,
             "#8e0152"
            ],
            [
             0.1,
             "#c51b7d"
            ],
            [
             0.2,
             "#de77ae"
            ],
            [
             0.3,
             "#f1b6da"
            ],
            [
             0.4,
             "#fde0ef"
            ],
            [
             0.5,
             "#f7f7f7"
            ],
            [
             0.6,
             "#e6f5d0"
            ],
            [
             0.7,
             "#b8e186"
            ],
            [
             0.8,
             "#7fbc41"
            ],
            [
             0.9,
             "#4d9221"
            ],
            [
             1,
             "#276419"
            ]
           ],
           "sequential": [
            [
             0,
             "#0d0887"
            ],
            [
             0.1111111111111111,
             "#46039f"
            ],
            [
             0.2222222222222222,
             "#7201a8"
            ],
            [
             0.3333333333333333,
             "#9c179e"
            ],
            [
             0.4444444444444444,
             "#bd3786"
            ],
            [
             0.5555555555555556,
             "#d8576b"
            ],
            [
             0.6666666666666666,
             "#ed7953"
            ],
            [
             0.7777777777777778,
             "#fb9f3a"
            ],
            [
             0.8888888888888888,
             "#fdca26"
            ],
            [
             1,
             "#f0f921"
            ]
           ],
           "sequentialminus": [
            [
             0,
             "#0d0887"
            ],
            [
             0.1111111111111111,
             "#46039f"
            ],
            [
             0.2222222222222222,
             "#7201a8"
            ],
            [
             0.3333333333333333,
             "#9c179e"
            ],
            [
             0.4444444444444444,
             "#bd3786"
            ],
            [
             0.5555555555555556,
             "#d8576b"
            ],
            [
             0.6666666666666666,
             "#ed7953"
            ],
            [
             0.7777777777777778,
             "#fb9f3a"
            ],
            [
             0.8888888888888888,
             "#fdca26"
            ],
            [
             1,
             "#f0f921"
            ]
           ]
          },
          "colorway": [
           "#636efa",
           "#EF553B",
           "#00cc96",
           "#ab63fa",
           "#FFA15A",
           "#19d3f3",
           "#FF6692",
           "#B6E880",
           "#FF97FF",
           "#FECB52"
          ],
          "font": {
           "color": "#2a3f5f"
          },
          "geo": {
           "bgcolor": "white",
           "lakecolor": "white",
           "landcolor": "#E5ECF6",
           "showlakes": true,
           "showland": true,
           "subunitcolor": "white"
          },
          "hoverlabel": {
           "align": "left"
          },
          "hovermode": "closest",
          "mapbox": {
           "style": "light"
          },
          "paper_bgcolor": "white",
          "plot_bgcolor": "#E5ECF6",
          "polar": {
           "angularaxis": {
            "gridcolor": "white",
            "linecolor": "white",
            "ticks": ""
           },
           "bgcolor": "#E5ECF6",
           "radialaxis": {
            "gridcolor": "white",
            "linecolor": "white",
            "ticks": ""
           }
          },
          "scene": {
           "xaxis": {
            "backgroundcolor": "#E5ECF6",
            "gridcolor": "white",
            "gridwidth": 2,
            "linecolor": "white",
            "showbackground": true,
            "ticks": "",
            "zerolinecolor": "white"
           },
           "yaxis": {
            "backgroundcolor": "#E5ECF6",
            "gridcolor": "white",
            "gridwidth": 2,
            "linecolor": "white",
            "showbackground": true,
            "ticks": "",
            "zerolinecolor": "white"
           },
           "zaxis": {
            "backgroundcolor": "#E5ECF6",
            "gridcolor": "white",
            "gridwidth": 2,
            "linecolor": "white",
            "showbackground": true,
            "ticks": "",
            "zerolinecolor": "white"
           }
          },
          "shapedefaults": {
           "line": {
            "color": "#2a3f5f"
           }
          },
          "ternary": {
           "aaxis": {
            "gridcolor": "white",
            "linecolor": "white",
            "ticks": ""
           },
           "baxis": {
            "gridcolor": "white",
            "linecolor": "white",
            "ticks": ""
           },
           "bgcolor": "#E5ECF6",
           "caxis": {
            "gridcolor": "white",
            "linecolor": "white",
            "ticks": ""
           }
          },
          "title": {
           "x": 0.05
          },
          "xaxis": {
           "automargin": true,
           "gridcolor": "white",
           "linecolor": "white",
           "ticks": "",
           "title": {
            "standoff": 15
           },
           "zerolinecolor": "white",
           "zerolinewidth": 2
          },
          "yaxis": {
           "automargin": true,
           "gridcolor": "white",
           "linecolor": "white",
           "ticks": "",
           "title": {
            "standoff": 15
           },
           "zerolinecolor": "white",
           "zerolinewidth": 2
          }
         }
        },
        "width": 1600,
        "xaxis": {
         "anchor": "y",
         "categoryarray": [
          "0_instruction_complement_26_S5",
          "1_instruction_complement_05_S5",
          "2_instruction_complement_42_S5",
          "3_instruction_complement_05_42_S5",
          "flipped_targets_full_start_and_end",
          "instruction_complement_05_42_S9",
          "instruction_complement_05_S9",
          "instruction_complement_42_S9",
          "original",
          "target_complement_S5",
          "target_complement_S9"
         ],
         "categoryorder": "array",
         "domain": [
          0,
          0.48
         ],
         "showticklabels": false,
         "side": "left",
         "title": {
          "text": ""
         }
        },
        "xaxis2": {
         "anchor": "y2",
         "categoryarray": [
          "0_instruction_complement_26_S5",
          "1_instruction_complement_05_S5",
          "2_instruction_complement_42_S5",
          "3_instruction_complement_05_42_S5",
          "flipped_targets_full_start_and_end",
          "instruction_complement_05_42_S9",
          "instruction_complement_05_S9",
          "instruction_complement_42_S9",
          "original",
          "target_complement_S5",
          "target_complement_S9"
         ],
         "categoryorder": "array",
         "domain": [
          0.5,
          0.98
         ],
         "matches": "x",
         "showticklabels": false,
         "side": "left",
         "title": {
          "text": ""
         }
        },
        "xaxis3": {
         "anchor": "y3",
         "domain": [
          0,
          0.48
         ],
         "matches": "x",
         "showticklabels": false,
         "side": "left",
         "title": {
          "text": ""
         }
        },
        "xaxis4": {
         "anchor": "y4",
         "domain": [
          0.5,
          0.98
         ],
         "matches": "x",
         "showticklabels": false,
         "side": "left",
         "title": {
          "text": ""
         }
        },
        "yaxis": {
         "anchor": "x",
         "domain": [
          0,
          0.485
         ],
         "showticklabels": false,
         "side": "left",
         "tickangle": 0,
         "title": {
          "text": ""
         }
        },
        "yaxis2": {
         "anchor": "x2",
         "domain": [
          0,
          0.485
         ],
         "matches": "y",
         "showticklabels": false,
         "side": "left",
         "tickangle": 0,
         "title": {
          "text": ""
         }
        },
        "yaxis3": {
         "anchor": "x3",
         "domain": [
          0.515,
          1
         ],
         "matches": "y",
         "showticklabels": false,
         "side": "left",
         "tickangle": 0,
         "title": {
          "text": ""
         }
        },
        "yaxis4": {
         "anchor": "x4",
         "domain": [
          0.515,
          1
         ],
         "matches": "y",
         "showticklabels": false,
         "side": "left",
         "tickangle": 0,
         "title": {
          "text": ""
         }
        }
       }
      }
     },
     "metadata": {},
     "output_type": "display_data"
    }
   ],
   "source": [
    "# Select the scenarios to use\n",
    "edit_descriptions = [\n",
    "    \"original\",\n",
    "    \"0_instruction_complement_26_S5\",\n",
    "    \"1_instruction_complement_05_S5\",\n",
    "    \"2_instruction_complement_42_S5\",\n",
    "    \"3_instruction_complement_05_42_S5\",\n",
    "    \"target_complement_S5\",\n",
    "    \"target_complement_S9\",\n",
    "    \"flipped_targets_full_start_and_end\",\n",
    "    \"instruction_complement_05_S9\",\n",
    "    \"instruction_complement_42_S9\",\n",
    "    \"instruction_complement_05_42_S9\",\n",
    "]\n",
    "\n",
    "action_preds = get_predictions_for_scenariors(scenario_dict, edit_descriptions, rtg = 0.8920)\n",
    "logits_df_rtg_high = compile_action_preferences_df(action_preds, edit_descriptions, scenario_labels,\n",
    "                                          reference_control = \"original\",\n",
    "                                          reference_test = \"0_instruction_complement_26_S5\")\n",
    "action_preds = get_predictions_for_scenariors(scenario_dict, edit_descriptions, rtg = 0.000)\n",
    "logits_df_rtg_low = compile_action_preferences_df(action_preds, edit_descriptions, scenario_labels,\n",
    "                                          reference_control = \"original\",\n",
    "                                          reference_test = \"0_instruction_complement_26_S5\")\n",
    "\n",
    "# add _RTG to scenario labels\n",
    "logits_df_rtg_high[\"scenario\"] = logits_df_rtg_high[\"scenario\"].apply(lambda x: x + \"_RTG_0.8920\")\n",
    "logits_df_rtg_low[\"scenario\"] = logits_df_rtg_low[\"scenario\"].apply(lambda x: x + \"_RTG_0.0\")\n",
    "\n",
    "# combine the two dataframes\n",
    "logits_df = pd.concat([logits_df_rtg_high, logits_df_rtg_low])\n",
    "\n",
    "fig = plot_heatmap(logits_df)\n",
    "fig.show()\n",
    "\n",
    "fig = get_bar_chart(logits_df_rtg_high, scenario_labels)\n",
    "fig.show()\n",
    "\n",
    "fig = get_bar_chart(logits_df_rtg_low, scenario_labels)\n",
    "fig.show()"
   ]
  },
  {
   "cell_type": "code",
   "execution_count": null,
   "metadata": {},
   "outputs": [
    {
     "data": {
      "text/plain": [
       "torch.Size([20, 9, 7, 7, 20])"
      ]
     },
     "execution_count": 425,
     "metadata": {},
     "output_type": "execute_result"
    }
   ],
   "source": [
    "all_obs.shape"
   ]
  },
  {
   "cell_type": "markdown",
   "metadata": {},
   "source": [
    "## Same Experiments with MemoryDT GatedMLP"
   ]
  },
  {
   "cell_type": "code",
   "execution_count": null,
   "metadata": {},
   "outputs": [
    {
     "data": {
      "application/vnd.plotly.v1+json": {
       "config": {
        "plotlyServerURL": "https://plotly.com"
       },
       "data": [
        {
         "coloraxis": "coloraxis",
         "hovertemplate": "x: %{x}<br>y: %{y}<br>color: %{z}<extra></extra>",
         "name": "0",
         "texttemplate": "%{z}",
         "type": "heatmap",
         "x": [
          "Ball, Ball-Key_RTG_0.8920",
          "Ball, Key-Ball_RTG_0.8920",
          "Key, Ball-Key_RTG_0.8920",
          "Key, Key-Ball_RTG_0.8920",
          "Ball, Ball-Key_RTG_0.0",
          "Ball, Key-Ball_RTG_0.0",
          "Key, Ball-Key_RTG_0.0",
          "Key, Key-Ball_RTG_0.0"
         ],
         "xaxis": "x",
         "y": [
          "0_instruction_complement_26_S5",
          "1_instruction_complement_05_S5",
          "2_instruction_complement_42_S5",
          "3_instruction_complement_05_42_S5",
          "original"
         ],
         "yaxis": "y",
         "z": [
          [
           1,
           1,
           1,
           1,
           1,
           1,
           1,
           1
          ],
          [
           0.3516905903816223,
           0.5337895750999451,
           0.5417952537536621,
           0.3840539753437042,
           0.7587868571281433,
           0.6440908312797546,
           0.2208084762096405,
           0.16714276373386383
          ],
          [
           0.11091640591621399,
           0.1587081104516983,
           0.6592409610748291,
           0.554755449295044,
           0.41944506764411926,
           0.4802071154117584,
           0.22169868648052216,
           0.2640349864959717
          ],
          [
           0.9548393487930298,
           1.0399502515792847,
           0.9753538370132446,
           1.0315144062042236,
           1.0438960790634155,
           0.8957367539405823,
           0.9854328632354736,
           0.8892185688018799
          ],
          [
           0,
           0,
           0,
           0,
           0,
           0,
           0,
           0
          ]
         ]
        }
       ],
       "layout": {
        "coloraxis": {
         "cmid": 0,
         "colorscale": [
          [
           0,
           "rgb(103,0,31)"
          ],
          [
           0.1,
           "rgb(178,24,43)"
          ],
          [
           0.2,
           "rgb(214,96,77)"
          ],
          [
           0.3,
           "rgb(244,165,130)"
          ],
          [
           0.4,
           "rgb(253,219,199)"
          ],
          [
           0.5,
           "rgb(247,247,247)"
          ],
          [
           0.6,
           "rgb(209,229,240)"
          ],
          [
           0.7,
           "rgb(146,197,222)"
          ],
          [
           0.8,
           "rgb(67,147,195)"
          ],
          [
           0.9,
           "rgb(33,102,172)"
          ],
          [
           1,
           "rgb(5,48,97)"
          ]
         ]
        },
        "height": 600,
        "margin": {
         "b": 150,
         "r": 20,
         "t": 60
        },
        "template": {
         "data": {
          "candlestick": [
           {
            "decreasing": {
             "line": {
              "color": "#000033"
             }
            },
            "increasing": {
             "line": {
              "color": "#000032"
             }
            },
            "type": "candlestick"
           }
          ],
          "contour": [
           {
            "colorscale": [
             [
              0,
              "#000011"
             ],
             [
              0.1111111111111111,
              "#000012"
             ],
             [
              0.2222222222222222,
              "#000013"
             ],
             [
              0.3333333333333333,
              "#000014"
             ],
             [
              0.4444444444444444,
              "#000015"
             ],
             [
              0.5555555555555556,
              "#000016"
             ],
             [
              0.6666666666666666,
              "#000017"
             ],
             [
              0.7777777777777778,
              "#000018"
             ],
             [
              0.8888888888888888,
              "#000019"
             ],
             [
              1,
              "#000020"
             ]
            ],
            "type": "contour"
           }
          ],
          "contourcarpet": [
           {
            "colorscale": [
             [
              0,
              "#000011"
             ],
             [
              0.1111111111111111,
              "#000012"
             ],
             [
              0.2222222222222222,
              "#000013"
             ],
             [
              0.3333333333333333,
              "#000014"
             ],
             [
              0.4444444444444444,
              "#000015"
             ],
             [
              0.5555555555555556,
              "#000016"
             ],
             [
              0.6666666666666666,
              "#000017"
             ],
             [
              0.7777777777777778,
              "#000018"
             ],
             [
              0.8888888888888888,
              "#000019"
             ],
             [
              1,
              "#000020"
             ]
            ],
            "type": "contourcarpet"
           }
          ],
          "heatmap": [
           {
            "colorscale": [
             [
              0,
              "#000011"
             ],
             [
              0.1111111111111111,
              "#000012"
             ],
             [
              0.2222222222222222,
              "#000013"
             ],
             [
              0.3333333333333333,
              "#000014"
             ],
             [
              0.4444444444444444,
              "#000015"
             ],
             [
              0.5555555555555556,
              "#000016"
             ],
             [
              0.6666666666666666,
              "#000017"
             ],
             [
              0.7777777777777778,
              "#000018"
             ],
             [
              0.8888888888888888,
              "#000019"
             ],
             [
              1,
              "#000020"
             ]
            ],
            "type": "heatmap"
           }
          ],
          "histogram2d": [
           {
            "colorscale": [
             [
              0,
              "#000011"
             ],
             [
              0.1111111111111111,
              "#000012"
             ],
             [
              0.2222222222222222,
              "#000013"
             ],
             [
              0.3333333333333333,
              "#000014"
             ],
             [
              0.4444444444444444,
              "#000015"
             ],
             [
              0.5555555555555556,
              "#000016"
             ],
             [
              0.6666666666666666,
              "#000017"
             ],
             [
              0.7777777777777778,
              "#000018"
             ],
             [
              0.8888888888888888,
              "#000019"
             ],
             [
              1,
              "#000020"
             ]
            ],
            "type": "histogram2d"
           }
          ],
          "icicle": [
           {
            "textfont": {
             "color": "white"
            },
            "type": "icicle"
           }
          ],
          "sankey": [
           {
            "textfont": {
             "color": "#000036"
            },
            "type": "sankey"
           }
          ],
          "scatter": [
           {
            "marker": {
             "line": {
              "width": 0
             }
            },
            "type": "scatter"
           }
          ],
          "table": [
           {
            "cells": {
             "fill": {
              "color": "#000038"
             },
             "font": {
              "color": "#000037"
             },
             "line": {
              "color": "#000039"
             }
            },
            "header": {
             "fill": {
              "color": "#000040"
             },
             "font": {
              "color": "#000036"
             },
             "line": {
              "color": "#000039"
             }
            },
            "type": "table"
           }
          ],
          "waterfall": [
           {
            "connector": {
             "line": {
              "color": "#000036",
              "width": 2
             }
            },
            "decreasing": {
             "marker": {
              "color": "#000033"
             }
            },
            "increasing": {
             "marker": {
              "color": "#000032"
             }
            },
            "totals": {
             "marker": {
              "color": "#000034"
             }
            },
            "type": "waterfall"
           }
          ]
         },
         "layout": {
          "coloraxis": {
           "colorscale": [
            [
             0,
             "#000011"
            ],
            [
             0.1111111111111111,
             "#000012"
            ],
            [
             0.2222222222222222,
             "#000013"
            ],
            [
             0.3333333333333333,
             "#000014"
            ],
            [
             0.4444444444444444,
             "#000015"
            ],
            [
             0.5555555555555556,
             "#000016"
            ],
            [
             0.6666666666666666,
             "#000017"
            ],
            [
             0.7777777777777778,
             "#000018"
            ],
            [
             0.8888888888888888,
             "#000019"
            ],
            [
             1,
             "#000020"
            ]
           ]
          },
          "colorscale": {
           "diverging": [
            [
             0,
             "#000021"
            ],
            [
             0.1,
             "#000022"
            ],
            [
             0.2,
             "#000023"
            ],
            [
             0.3,
             "#000024"
            ],
            [
             0.4,
             "#000025"
            ],
            [
             0.5,
             "#000026"
            ],
            [
             0.6,
             "#000027"
            ],
            [
             0.7,
             "#000028"
            ],
            [
             0.8,
             "#000029"
            ],
            [
             0.9,
             "#000030"
            ],
            [
             1,
             "#000031"
            ]
           ],
           "sequential": [
            [
             0,
             "#000011"
            ],
            [
             0.1111111111111111,
             "#000012"
            ],
            [
             0.2222222222222222,
             "#000013"
            ],
            [
             0.3333333333333333,
             "#000014"
            ],
            [
             0.4444444444444444,
             "#000015"
            ],
            [
             0.5555555555555556,
             "#000016"
            ],
            [
             0.6666666666666666,
             "#000017"
            ],
            [
             0.7777777777777778,
             "#000018"
            ],
            [
             0.8888888888888888,
             "#000019"
            ],
            [
             1,
             "#000020"
            ]
           ],
           "sequentialminus": [
            [
             0,
             "#000011"
            ],
            [
             0.1111111111111111,
             "#000012"
            ],
            [
             0.2222222222222222,
             "#000013"
            ],
            [
             0.3333333333333333,
             "#000014"
            ],
            [
             0.4444444444444444,
             "#000015"
            ],
            [
             0.5555555555555556,
             "#000016"
            ],
            [
             0.6666666666666666,
             "#000017"
            ],
            [
             0.7777777777777778,
             "#000018"
            ],
            [
             0.8888888888888888,
             "#000019"
            ],
            [
             1,
             "#000020"
            ]
           ]
          },
          "colorway": [
           "#000001",
           "#000002",
           "#000003",
           "#000004",
           "#000005",
           "#000006",
           "#000007",
           "#000008",
           "#000009",
           "#000010"
          ]
         }
        },
        "width": 1200,
        "xaxis": {
         "anchor": "y",
         "constrain": "domain",
         "domain": [
          0,
          1
         ],
         "scaleanchor": "y"
        },
        "yaxis": {
         "anchor": "x",
         "autorange": "reversed",
         "constrain": "domain",
         "domain": [
          0,
          1
         ]
        }
       }
      }
     },
     "metadata": {},
     "output_type": "display_data"
    },
    {
     "data": {
      "application/vnd.plotly.v1+json": {
       "config": {
        "plotlyServerURL": "https://plotly.com"
       },
       "data": [
        {
         "alignmentgroup": "True",
         "hovertemplate": "edit=%{x}<br>target=Ball-Key<br>instruction=Ball<br>percent_change=%{y}<extra></extra>",
         "legendgroup": "0_instruction_complement_26_S5",
         "marker": {
          "color": "#636efa",
          "line": {
           "width": 0
          },
          "pattern": {
           "shape": ""
          }
         },
         "name": "0_instruction_complement_26_S5",
         "offsetgroup": "0_instruction_complement_26_S5",
         "orientation": "v",
         "showlegend": true,
         "textposition": "auto",
         "texttemplate": "%{y}",
         "type": "bar",
         "width": 0.8,
         "x": [
          "0_instruction_complement_26_S5"
         ],
         "xaxis": "x3",
         "y": [
          1
         ],
         "yaxis": "y3"
        },
        {
         "alignmentgroup": "True",
         "hovertemplate": "edit=%{x}<br>target=Ball-Key<br>instruction=Key<br>percent_change=%{y}<extra></extra>",
         "legendgroup": "0_instruction_complement_26_S5",
         "marker": {
          "color": "#636efa",
          "line": {
           "width": 0
          },
          "pattern": {
           "shape": ""
          }
         },
         "name": "0_instruction_complement_26_S5",
         "offsetgroup": "0_instruction_complement_26_S5",
         "orientation": "v",
         "showlegend": false,
         "textposition": "auto",
         "texttemplate": "%{y}",
         "type": "bar",
         "width": 0.8,
         "x": [
          "0_instruction_complement_26_S5"
         ],
         "xaxis": "x4",
         "y": [
          1
         ],
         "yaxis": "y4"
        },
        {
         "alignmentgroup": "True",
         "hovertemplate": "edit=%{x}<br>target=Key-Ball<br>instruction=Ball<br>percent_change=%{y}<extra></extra>",
         "legendgroup": "0_instruction_complement_26_S5",
         "marker": {
          "color": "#636efa",
          "line": {
           "width": 0
          },
          "pattern": {
           "shape": ""
          }
         },
         "name": "0_instruction_complement_26_S5",
         "offsetgroup": "0_instruction_complement_26_S5",
         "orientation": "v",
         "showlegend": false,
         "textposition": "auto",
         "texttemplate": "%{y}",
         "type": "bar",
         "width": 0.8,
         "x": [
          "0_instruction_complement_26_S5"
         ],
         "xaxis": "x",
         "y": [
          1
         ],
         "yaxis": "y"
        },
        {
         "alignmentgroup": "True",
         "hovertemplate": "edit=%{x}<br>target=Key-Ball<br>instruction=Key<br>percent_change=%{y}<extra></extra>",
         "legendgroup": "0_instruction_complement_26_S5",
         "marker": {
          "color": "#636efa",
          "line": {
           "width": 0
          },
          "pattern": {
           "shape": ""
          }
         },
         "name": "0_instruction_complement_26_S5",
         "offsetgroup": "0_instruction_complement_26_S5",
         "orientation": "v",
         "showlegend": false,
         "textposition": "auto",
         "texttemplate": "%{y}",
         "type": "bar",
         "width": 0.8,
         "x": [
          "0_instruction_complement_26_S5"
         ],
         "xaxis": "x2",
         "y": [
          1
         ],
         "yaxis": "y2"
        },
        {
         "alignmentgroup": "True",
         "hovertemplate": "edit=%{x}<br>target=Ball-Key<br>instruction=Ball<br>percent_change=%{y}<extra></extra>",
         "legendgroup": "1_instruction_complement_05_S5",
         "marker": {
          "color": "#EF553B",
          "line": {
           "width": 0
          },
          "pattern": {
           "shape": ""
          }
         },
         "name": "1_instruction_complement_05_S5",
         "offsetgroup": "1_instruction_complement_05_S5",
         "orientation": "v",
         "showlegend": true,
         "textposition": "auto",
         "texttemplate": "%{y}",
         "type": "bar",
         "width": 0.8,
         "x": [
          "1_instruction_complement_05_S5"
         ],
         "xaxis": "x3",
         "y": [
          0.3516905903816223
         ],
         "yaxis": "y3"
        },
        {
         "alignmentgroup": "True",
         "hovertemplate": "edit=%{x}<br>target=Ball-Key<br>instruction=Key<br>percent_change=%{y}<extra></extra>",
         "legendgroup": "1_instruction_complement_05_S5",
         "marker": {
          "color": "#EF553B",
          "line": {
           "width": 0
          },
          "pattern": {
           "shape": ""
          }
         },
         "name": "1_instruction_complement_05_S5",
         "offsetgroup": "1_instruction_complement_05_S5",
         "orientation": "v",
         "showlegend": false,
         "textposition": "auto",
         "texttemplate": "%{y}",
         "type": "bar",
         "width": 0.8,
         "x": [
          "1_instruction_complement_05_S5"
         ],
         "xaxis": "x4",
         "y": [
          0.5417952537536621
         ],
         "yaxis": "y4"
        },
        {
         "alignmentgroup": "True",
         "hovertemplate": "edit=%{x}<br>target=Key-Ball<br>instruction=Ball<br>percent_change=%{y}<extra></extra>",
         "legendgroup": "1_instruction_complement_05_S5",
         "marker": {
          "color": "#EF553B",
          "line": {
           "width": 0
          },
          "pattern": {
           "shape": ""
          }
         },
         "name": "1_instruction_complement_05_S5",
         "offsetgroup": "1_instruction_complement_05_S5",
         "orientation": "v",
         "showlegend": false,
         "textposition": "auto",
         "texttemplate": "%{y}",
         "type": "bar",
         "width": 0.8,
         "x": [
          "1_instruction_complement_05_S5"
         ],
         "xaxis": "x",
         "y": [
          0.5337895750999451
         ],
         "yaxis": "y"
        },
        {
         "alignmentgroup": "True",
         "hovertemplate": "edit=%{x}<br>target=Key-Ball<br>instruction=Key<br>percent_change=%{y}<extra></extra>",
         "legendgroup": "1_instruction_complement_05_S5",
         "marker": {
          "color": "#EF553B",
          "line": {
           "width": 0
          },
          "pattern": {
           "shape": ""
          }
         },
         "name": "1_instruction_complement_05_S5",
         "offsetgroup": "1_instruction_complement_05_S5",
         "orientation": "v",
         "showlegend": false,
         "textposition": "auto",
         "texttemplate": "%{y}",
         "type": "bar",
         "width": 0.8,
         "x": [
          "1_instruction_complement_05_S5"
         ],
         "xaxis": "x2",
         "y": [
          0.3840539753437042
         ],
         "yaxis": "y2"
        },
        {
         "alignmentgroup": "True",
         "hovertemplate": "edit=%{x}<br>target=Ball-Key<br>instruction=Ball<br>percent_change=%{y}<extra></extra>",
         "legendgroup": "2_instruction_complement_42_S5",
         "marker": {
          "color": "#00cc96",
          "line": {
           "width": 0
          },
          "pattern": {
           "shape": ""
          }
         },
         "name": "2_instruction_complement_42_S5",
         "offsetgroup": "2_instruction_complement_42_S5",
         "orientation": "v",
         "showlegend": true,
         "textposition": "auto",
         "texttemplate": "%{y}",
         "type": "bar",
         "width": 0.8,
         "x": [
          "2_instruction_complement_42_S5"
         ],
         "xaxis": "x3",
         "y": [
          0.11091640591621399
         ],
         "yaxis": "y3"
        },
        {
         "alignmentgroup": "True",
         "hovertemplate": "edit=%{x}<br>target=Ball-Key<br>instruction=Key<br>percent_change=%{y}<extra></extra>",
         "legendgroup": "2_instruction_complement_42_S5",
         "marker": {
          "color": "#00cc96",
          "line": {
           "width": 0
          },
          "pattern": {
           "shape": ""
          }
         },
         "name": "2_instruction_complement_42_S5",
         "offsetgroup": "2_instruction_complement_42_S5",
         "orientation": "v",
         "showlegend": false,
         "textposition": "auto",
         "texttemplate": "%{y}",
         "type": "bar",
         "width": 0.8,
         "x": [
          "2_instruction_complement_42_S5"
         ],
         "xaxis": "x4",
         "y": [
          0.6592409610748291
         ],
         "yaxis": "y4"
        },
        {
         "alignmentgroup": "True",
         "hovertemplate": "edit=%{x}<br>target=Key-Ball<br>instruction=Ball<br>percent_change=%{y}<extra></extra>",
         "legendgroup": "2_instruction_complement_42_S5",
         "marker": {
          "color": "#00cc96",
          "line": {
           "width": 0
          },
          "pattern": {
           "shape": ""
          }
         },
         "name": "2_instruction_complement_42_S5",
         "offsetgroup": "2_instruction_complement_42_S5",
         "orientation": "v",
         "showlegend": false,
         "textposition": "auto",
         "texttemplate": "%{y}",
         "type": "bar",
         "width": 0.8,
         "x": [
          "2_instruction_complement_42_S5"
         ],
         "xaxis": "x",
         "y": [
          0.1587081104516983
         ],
         "yaxis": "y"
        },
        {
         "alignmentgroup": "True",
         "hovertemplate": "edit=%{x}<br>target=Key-Ball<br>instruction=Key<br>percent_change=%{y}<extra></extra>",
         "legendgroup": "2_instruction_complement_42_S5",
         "marker": {
          "color": "#00cc96",
          "line": {
           "width": 0
          },
          "pattern": {
           "shape": ""
          }
         },
         "name": "2_instruction_complement_42_S5",
         "offsetgroup": "2_instruction_complement_42_S5",
         "orientation": "v",
         "showlegend": false,
         "textposition": "auto",
         "texttemplate": "%{y}",
         "type": "bar",
         "width": 0.8,
         "x": [
          "2_instruction_complement_42_S5"
         ],
         "xaxis": "x2",
         "y": [
          0.554755449295044
         ],
         "yaxis": "y2"
        },
        {
         "alignmentgroup": "True",
         "hovertemplate": "edit=%{x}<br>target=Ball-Key<br>instruction=Ball<br>percent_change=%{y}<extra></extra>",
         "legendgroup": "3_instruction_complement_05_42_S5",
         "marker": {
          "color": "#ab63fa",
          "line": {
           "width": 0
          },
          "pattern": {
           "shape": ""
          }
         },
         "name": "3_instruction_complement_05_42_S5",
         "offsetgroup": "3_instruction_complement_05_42_S5",
         "orientation": "v",
         "showlegend": true,
         "textposition": "auto",
         "texttemplate": "%{y}",
         "type": "bar",
         "width": 0.8,
         "x": [
          "3_instruction_complement_05_42_S5"
         ],
         "xaxis": "x3",
         "y": [
          0.9548393487930298
         ],
         "yaxis": "y3"
        },
        {
         "alignmentgroup": "True",
         "hovertemplate": "edit=%{x}<br>target=Ball-Key<br>instruction=Key<br>percent_change=%{y}<extra></extra>",
         "legendgroup": "3_instruction_complement_05_42_S5",
         "marker": {
          "color": "#ab63fa",
          "line": {
           "width": 0
          },
          "pattern": {
           "shape": ""
          }
         },
         "name": "3_instruction_complement_05_42_S5",
         "offsetgroup": "3_instruction_complement_05_42_S5",
         "orientation": "v",
         "showlegend": false,
         "textposition": "auto",
         "texttemplate": "%{y}",
         "type": "bar",
         "width": 0.8,
         "x": [
          "3_instruction_complement_05_42_S5"
         ],
         "xaxis": "x4",
         "y": [
          0.9753538370132446
         ],
         "yaxis": "y4"
        },
        {
         "alignmentgroup": "True",
         "hovertemplate": "edit=%{x}<br>target=Key-Ball<br>instruction=Ball<br>percent_change=%{y}<extra></extra>",
         "legendgroup": "3_instruction_complement_05_42_S5",
         "marker": {
          "color": "#ab63fa",
          "line": {
           "width": 0
          },
          "pattern": {
           "shape": ""
          }
         },
         "name": "3_instruction_complement_05_42_S5",
         "offsetgroup": "3_instruction_complement_05_42_S5",
         "orientation": "v",
         "showlegend": false,
         "textposition": "auto",
         "texttemplate": "%{y}",
         "type": "bar",
         "width": 0.8,
         "x": [
          "3_instruction_complement_05_42_S5"
         ],
         "xaxis": "x",
         "y": [
          1.0399502515792847
         ],
         "yaxis": "y"
        },
        {
         "alignmentgroup": "True",
         "hovertemplate": "edit=%{x}<br>target=Key-Ball<br>instruction=Key<br>percent_change=%{y}<extra></extra>",
         "legendgroup": "3_instruction_complement_05_42_S5",
         "marker": {
          "color": "#ab63fa",
          "line": {
           "width": 0
          },
          "pattern": {
           "shape": ""
          }
         },
         "name": "3_instruction_complement_05_42_S5",
         "offsetgroup": "3_instruction_complement_05_42_S5",
         "orientation": "v",
         "showlegend": false,
         "textposition": "auto",
         "texttemplate": "%{y}",
         "type": "bar",
         "width": 0.8,
         "x": [
          "3_instruction_complement_05_42_S5"
         ],
         "xaxis": "x2",
         "y": [
          1.0315144062042236
         ],
         "yaxis": "y2"
        },
        {
         "alignmentgroup": "True",
         "hovertemplate": "edit=%{x}<br>target=Ball-Key<br>instruction=Ball<br>percent_change=%{y}<extra></extra>",
         "legendgroup": "original",
         "marker": {
          "color": "#FFA15A",
          "line": {
           "width": 0
          },
          "pattern": {
           "shape": ""
          }
         },
         "name": "original",
         "offsetgroup": "original",
         "orientation": "v",
         "showlegend": true,
         "textposition": "auto",
         "texttemplate": "%{y}",
         "type": "bar",
         "width": 0.8,
         "x": [
          "original"
         ],
         "xaxis": "x3",
         "y": [
          0
         ],
         "yaxis": "y3"
        },
        {
         "alignmentgroup": "True",
         "hovertemplate": "edit=%{x}<br>target=Ball-Key<br>instruction=Key<br>percent_change=%{y}<extra></extra>",
         "legendgroup": "original",
         "marker": {
          "color": "#FFA15A",
          "line": {
           "width": 0
          },
          "pattern": {
           "shape": ""
          }
         },
         "name": "original",
         "offsetgroup": "original",
         "orientation": "v",
         "showlegend": false,
         "textposition": "auto",
         "texttemplate": "%{y}",
         "type": "bar",
         "width": 0.8,
         "x": [
          "original"
         ],
         "xaxis": "x4",
         "y": [
          0
         ],
         "yaxis": "y4"
        },
        {
         "alignmentgroup": "True",
         "hovertemplate": "edit=%{x}<br>target=Key-Ball<br>instruction=Ball<br>percent_change=%{y}<extra></extra>",
         "legendgroup": "original",
         "marker": {
          "color": "#FFA15A",
          "line": {
           "width": 0
          },
          "pattern": {
           "shape": ""
          }
         },
         "name": "original",
         "offsetgroup": "original",
         "orientation": "v",
         "showlegend": false,
         "textposition": "auto",
         "texttemplate": "%{y}",
         "type": "bar",
         "width": 0.8,
         "x": [
          "original"
         ],
         "xaxis": "x",
         "y": [
          0
         ],
         "yaxis": "y"
        },
        {
         "alignmentgroup": "True",
         "hovertemplate": "edit=%{x}<br>target=Key-Ball<br>instruction=Key<br>percent_change=%{y}<extra></extra>",
         "legendgroup": "original",
         "marker": {
          "color": "#FFA15A",
          "line": {
           "width": 0
          },
          "pattern": {
           "shape": ""
          }
         },
         "name": "original",
         "offsetgroup": "original",
         "orientation": "v",
         "showlegend": false,
         "textposition": "auto",
         "texttemplate": "%{y}",
         "type": "bar",
         "width": 0.8,
         "x": [
          "original"
         ],
         "xaxis": "x2",
         "y": [
          0
         ],
         "yaxis": "y2"
        }
       ],
       "layout": {
        "annotations": [
         {
          "font": {},
          "showarrow": false,
          "text": "Ball",
          "x": 0.24,
          "xanchor": "center",
          "xref": "paper",
          "y": 1,
          "yanchor": "bottom",
          "yref": "paper"
         },
         {
          "font": {},
          "showarrow": false,
          "text": "Key",
          "x": 0.74,
          "xanchor": "center",
          "xref": "paper",
          "y": 1,
          "yanchor": "bottom",
          "yref": "paper"
         },
         {
          "font": {},
          "showarrow": false,
          "text": "Key-Ball",
          "textangle": 90,
          "x": 0.98,
          "xanchor": "left",
          "xref": "paper",
          "y": 0.2425,
          "yanchor": "middle",
          "yref": "paper"
         },
         {
          "font": {},
          "showarrow": false,
          "text": "Ball-Key",
          "textangle": 90,
          "x": 0.98,
          "xanchor": "left",
          "xref": "paper",
          "y": 0.7575000000000001,
          "yanchor": "middle",
          "yref": "paper"
         }
        ],
        "barmode": "group",
        "font": {
         "size": 24
        },
        "height": 800,
        "legend": {
         "title": {
          "text": "edit"
         },
         "tracegroupgap": 0
        },
        "margin": {
         "t": 60
        },
        "template": {
         "data": {
          "bar": [
           {
            "error_x": {
             "color": "#2a3f5f"
            },
            "error_y": {
             "color": "#2a3f5f"
            },
            "marker": {
             "line": {
              "color": "#E5ECF6",
              "width": 0.5
             },
             "pattern": {
              "fillmode": "overlay",
              "size": 10,
              "solidity": 0.2
             }
            },
            "type": "bar"
           }
          ],
          "barpolar": [
           {
            "marker": {
             "line": {
              "color": "#E5ECF6",
              "width": 0.5
             },
             "pattern": {
              "fillmode": "overlay",
              "size": 10,
              "solidity": 0.2
             }
            },
            "type": "barpolar"
           }
          ],
          "carpet": [
           {
            "aaxis": {
             "endlinecolor": "#2a3f5f",
             "gridcolor": "white",
             "linecolor": "white",
             "minorgridcolor": "white",
             "startlinecolor": "#2a3f5f"
            },
            "baxis": {
             "endlinecolor": "#2a3f5f",
             "gridcolor": "white",
             "linecolor": "white",
             "minorgridcolor": "white",
             "startlinecolor": "#2a3f5f"
            },
            "type": "carpet"
           }
          ],
          "choropleth": [
           {
            "colorbar": {
             "outlinewidth": 0,
             "ticks": ""
            },
            "type": "choropleth"
           }
          ],
          "contour": [
           {
            "colorbar": {
             "outlinewidth": 0,
             "ticks": ""
            },
            "colorscale": [
             [
              0,
              "#0d0887"
             ],
             [
              0.1111111111111111,
              "#46039f"
             ],
             [
              0.2222222222222222,
              "#7201a8"
             ],
             [
              0.3333333333333333,
              "#9c179e"
             ],
             [
              0.4444444444444444,
              "#bd3786"
             ],
             [
              0.5555555555555556,
              "#d8576b"
             ],
             [
              0.6666666666666666,
              "#ed7953"
             ],
             [
              0.7777777777777778,
              "#fb9f3a"
             ],
             [
              0.8888888888888888,
              "#fdca26"
             ],
             [
              1,
              "#f0f921"
             ]
            ],
            "type": "contour"
           }
          ],
          "contourcarpet": [
           {
            "colorbar": {
             "outlinewidth": 0,
             "ticks": ""
            },
            "type": "contourcarpet"
           }
          ],
          "heatmap": [
           {
            "colorbar": {
             "outlinewidth": 0,
             "ticks": ""
            },
            "colorscale": [
             [
              0,
              "#0d0887"
             ],
             [
              0.1111111111111111,
              "#46039f"
             ],
             [
              0.2222222222222222,
              "#7201a8"
             ],
             [
              0.3333333333333333,
              "#9c179e"
             ],
             [
              0.4444444444444444,
              "#bd3786"
             ],
             [
              0.5555555555555556,
              "#d8576b"
             ],
             [
              0.6666666666666666,
              "#ed7953"
             ],
             [
              0.7777777777777778,
              "#fb9f3a"
             ],
             [
              0.8888888888888888,
              "#fdca26"
             ],
             [
              1,
              "#f0f921"
             ]
            ],
            "type": "heatmap"
           }
          ],
          "heatmapgl": [
           {
            "colorbar": {
             "outlinewidth": 0,
             "ticks": ""
            },
            "colorscale": [
             [
              0,
              "#0d0887"
             ],
             [
              0.1111111111111111,
              "#46039f"
             ],
             [
              0.2222222222222222,
              "#7201a8"
             ],
             [
              0.3333333333333333,
              "#9c179e"
             ],
             [
              0.4444444444444444,
              "#bd3786"
             ],
             [
              0.5555555555555556,
              "#d8576b"
             ],
             [
              0.6666666666666666,
              "#ed7953"
             ],
             [
              0.7777777777777778,
              "#fb9f3a"
             ],
             [
              0.8888888888888888,
              "#fdca26"
             ],
             [
              1,
              "#f0f921"
             ]
            ],
            "type": "heatmapgl"
           }
          ],
          "histogram": [
           {
            "marker": {
             "pattern": {
              "fillmode": "overlay",
              "size": 10,
              "solidity": 0.2
             }
            },
            "type": "histogram"
           }
          ],
          "histogram2d": [
           {
            "colorbar": {
             "outlinewidth": 0,
             "ticks": ""
            },
            "colorscale": [
             [
              0,
              "#0d0887"
             ],
             [
              0.1111111111111111,
              "#46039f"
             ],
             [
              0.2222222222222222,
              "#7201a8"
             ],
             [
              0.3333333333333333,
              "#9c179e"
             ],
             [
              0.4444444444444444,
              "#bd3786"
             ],
             [
              0.5555555555555556,
              "#d8576b"
             ],
             [
              0.6666666666666666,
              "#ed7953"
             ],
             [
              0.7777777777777778,
              "#fb9f3a"
             ],
             [
              0.8888888888888888,
              "#fdca26"
             ],
             [
              1,
              "#f0f921"
             ]
            ],
            "type": "histogram2d"
           }
          ],
          "histogram2dcontour": [
           {
            "colorbar": {
             "outlinewidth": 0,
             "ticks": ""
            },
            "colorscale": [
             [
              0,
              "#0d0887"
             ],
             [
              0.1111111111111111,
              "#46039f"
             ],
             [
              0.2222222222222222,
              "#7201a8"
             ],
             [
              0.3333333333333333,
              "#9c179e"
             ],
             [
              0.4444444444444444,
              "#bd3786"
             ],
             [
              0.5555555555555556,
              "#d8576b"
             ],
             [
              0.6666666666666666,
              "#ed7953"
             ],
             [
              0.7777777777777778,
              "#fb9f3a"
             ],
             [
              0.8888888888888888,
              "#fdca26"
             ],
             [
              1,
              "#f0f921"
             ]
            ],
            "type": "histogram2dcontour"
           }
          ],
          "mesh3d": [
           {
            "colorbar": {
             "outlinewidth": 0,
             "ticks": ""
            },
            "type": "mesh3d"
           }
          ],
          "parcoords": [
           {
            "line": {
             "colorbar": {
              "outlinewidth": 0,
              "ticks": ""
             }
            },
            "type": "parcoords"
           }
          ],
          "pie": [
           {
            "automargin": true,
            "type": "pie"
           }
          ],
          "scatter": [
           {
            "fillpattern": {
             "fillmode": "overlay",
             "size": 10,
             "solidity": 0.2
            },
            "type": "scatter"
           }
          ],
          "scatter3d": [
           {
            "line": {
             "colorbar": {
              "outlinewidth": 0,
              "ticks": ""
             }
            },
            "marker": {
             "colorbar": {
              "outlinewidth": 0,
              "ticks": ""
             }
            },
            "type": "scatter3d"
           }
          ],
          "scattercarpet": [
           {
            "marker": {
             "colorbar": {
              "outlinewidth": 0,
              "ticks": ""
             }
            },
            "type": "scattercarpet"
           }
          ],
          "scattergeo": [
           {
            "marker": {
             "colorbar": {
              "outlinewidth": 0,
              "ticks": ""
             }
            },
            "type": "scattergeo"
           }
          ],
          "scattergl": [
           {
            "marker": {
             "colorbar": {
              "outlinewidth": 0,
              "ticks": ""
             }
            },
            "type": "scattergl"
           }
          ],
          "scattermapbox": [
           {
            "marker": {
             "colorbar": {
              "outlinewidth": 0,
              "ticks": ""
             }
            },
            "type": "scattermapbox"
           }
          ],
          "scatterpolar": [
           {
            "marker": {
             "colorbar": {
              "outlinewidth": 0,
              "ticks": ""
             }
            },
            "type": "scatterpolar"
           }
          ],
          "scatterpolargl": [
           {
            "marker": {
             "colorbar": {
              "outlinewidth": 0,
              "ticks": ""
             }
            },
            "type": "scatterpolargl"
           }
          ],
          "scatterternary": [
           {
            "marker": {
             "colorbar": {
              "outlinewidth": 0,
              "ticks": ""
             }
            },
            "type": "scatterternary"
           }
          ],
          "surface": [
           {
            "colorbar": {
             "outlinewidth": 0,
             "ticks": ""
            },
            "colorscale": [
             [
              0,
              "#0d0887"
             ],
             [
              0.1111111111111111,
              "#46039f"
             ],
             [
              0.2222222222222222,
              "#7201a8"
             ],
             [
              0.3333333333333333,
              "#9c179e"
             ],
             [
              0.4444444444444444,
              "#bd3786"
             ],
             [
              0.5555555555555556,
              "#d8576b"
             ],
             [
              0.6666666666666666,
              "#ed7953"
             ],
             [
              0.7777777777777778,
              "#fb9f3a"
             ],
             [
              0.8888888888888888,
              "#fdca26"
             ],
             [
              1,
              "#f0f921"
             ]
            ],
            "type": "surface"
           }
          ],
          "table": [
           {
            "cells": {
             "fill": {
              "color": "#EBF0F8"
             },
             "line": {
              "color": "white"
             }
            },
            "header": {
             "fill": {
              "color": "#C8D4E3"
             },
             "line": {
              "color": "white"
             }
            },
            "type": "table"
           }
          ]
         },
         "layout": {
          "annotationdefaults": {
           "arrowcolor": "#2a3f5f",
           "arrowhead": 0,
           "arrowwidth": 1
          },
          "autotypenumbers": "strict",
          "coloraxis": {
           "colorbar": {
            "outlinewidth": 0,
            "ticks": ""
           }
          },
          "colorscale": {
           "diverging": [
            [
             0,
             "#8e0152"
            ],
            [
             0.1,
             "#c51b7d"
            ],
            [
             0.2,
             "#de77ae"
            ],
            [
             0.3,
             "#f1b6da"
            ],
            [
             0.4,
             "#fde0ef"
            ],
            [
             0.5,
             "#f7f7f7"
            ],
            [
             0.6,
             "#e6f5d0"
            ],
            [
             0.7,
             "#b8e186"
            ],
            [
             0.8,
             "#7fbc41"
            ],
            [
             0.9,
             "#4d9221"
            ],
            [
             1,
             "#276419"
            ]
           ],
           "sequential": [
            [
             0,
             "#0d0887"
            ],
            [
             0.1111111111111111,
             "#46039f"
            ],
            [
             0.2222222222222222,
             "#7201a8"
            ],
            [
             0.3333333333333333,
             "#9c179e"
            ],
            [
             0.4444444444444444,
             "#bd3786"
            ],
            [
             0.5555555555555556,
             "#d8576b"
            ],
            [
             0.6666666666666666,
             "#ed7953"
            ],
            [
             0.7777777777777778,
             "#fb9f3a"
            ],
            [
             0.8888888888888888,
             "#fdca26"
            ],
            [
             1,
             "#f0f921"
            ]
           ],
           "sequentialminus": [
            [
             0,
             "#0d0887"
            ],
            [
             0.1111111111111111,
             "#46039f"
            ],
            [
             0.2222222222222222,
             "#7201a8"
            ],
            [
             0.3333333333333333,
             "#9c179e"
            ],
            [
             0.4444444444444444,
             "#bd3786"
            ],
            [
             0.5555555555555556,
             "#d8576b"
            ],
            [
             0.6666666666666666,
             "#ed7953"
            ],
            [
             0.7777777777777778,
             "#fb9f3a"
            ],
            [
             0.8888888888888888,
             "#fdca26"
            ],
            [
             1,
             "#f0f921"
            ]
           ]
          },
          "colorway": [
           "#636efa",
           "#EF553B",
           "#00cc96",
           "#ab63fa",
           "#FFA15A",
           "#19d3f3",
           "#FF6692",
           "#B6E880",
           "#FF97FF",
           "#FECB52"
          ],
          "font": {
           "color": "#2a3f5f"
          },
          "geo": {
           "bgcolor": "white",
           "lakecolor": "white",
           "landcolor": "#E5ECF6",
           "showlakes": true,
           "showland": true,
           "subunitcolor": "white"
          },
          "hoverlabel": {
           "align": "left"
          },
          "hovermode": "closest",
          "mapbox": {
           "style": "light"
          },
          "paper_bgcolor": "white",
          "plot_bgcolor": "#E5ECF6",
          "polar": {
           "angularaxis": {
            "gridcolor": "white",
            "linecolor": "white",
            "ticks": ""
           },
           "bgcolor": "#E5ECF6",
           "radialaxis": {
            "gridcolor": "white",
            "linecolor": "white",
            "ticks": ""
           }
          },
          "scene": {
           "xaxis": {
            "backgroundcolor": "#E5ECF6",
            "gridcolor": "white",
            "gridwidth": 2,
            "linecolor": "white",
            "showbackground": true,
            "ticks": "",
            "zerolinecolor": "white"
           },
           "yaxis": {
            "backgroundcolor": "#E5ECF6",
            "gridcolor": "white",
            "gridwidth": 2,
            "linecolor": "white",
            "showbackground": true,
            "ticks": "",
            "zerolinecolor": "white"
           },
           "zaxis": {
            "backgroundcolor": "#E5ECF6",
            "gridcolor": "white",
            "gridwidth": 2,
            "linecolor": "white",
            "showbackground": true,
            "ticks": "",
            "zerolinecolor": "white"
           }
          },
          "shapedefaults": {
           "line": {
            "color": "#2a3f5f"
           }
          },
          "ternary": {
           "aaxis": {
            "gridcolor": "white",
            "linecolor": "white",
            "ticks": ""
           },
           "baxis": {
            "gridcolor": "white",
            "linecolor": "white",
            "ticks": ""
           },
           "bgcolor": "#E5ECF6",
           "caxis": {
            "gridcolor": "white",
            "linecolor": "white",
            "ticks": ""
           }
          },
          "title": {
           "x": 0.05
          },
          "xaxis": {
           "automargin": true,
           "gridcolor": "white",
           "linecolor": "white",
           "ticks": "",
           "title": {
            "standoff": 15
           },
           "zerolinecolor": "white",
           "zerolinewidth": 2
          },
          "yaxis": {
           "automargin": true,
           "gridcolor": "white",
           "linecolor": "white",
           "ticks": "",
           "title": {
            "standoff": 15
           },
           "zerolinecolor": "white",
           "zerolinewidth": 2
          }
         }
        },
        "width": 1600,
        "xaxis": {
         "anchor": "y",
         "categoryarray": [
          "0_instruction_complement_26_S5",
          "1_instruction_complement_05_S5",
          "2_instruction_complement_42_S5",
          "3_instruction_complement_05_42_S5",
          "original"
         ],
         "categoryorder": "array",
         "domain": [
          0,
          0.48
         ],
         "showticklabels": false,
         "side": "left",
         "title": {
          "text": ""
         }
        },
        "xaxis2": {
         "anchor": "y2",
         "categoryarray": [
          "0_instruction_complement_26_S5",
          "1_instruction_complement_05_S5",
          "2_instruction_complement_42_S5",
          "3_instruction_complement_05_42_S5",
          "original"
         ],
         "categoryorder": "array",
         "domain": [
          0.5,
          0.98
         ],
         "matches": "x",
         "showticklabels": false,
         "side": "left",
         "title": {
          "text": ""
         }
        },
        "xaxis3": {
         "anchor": "y3",
         "domain": [
          0,
          0.48
         ],
         "matches": "x",
         "showticklabels": false,
         "side": "left",
         "title": {
          "text": ""
         }
        },
        "xaxis4": {
         "anchor": "y4",
         "domain": [
          0.5,
          0.98
         ],
         "matches": "x",
         "showticklabels": false,
         "side": "left",
         "title": {
          "text": ""
         }
        },
        "yaxis": {
         "anchor": "x",
         "domain": [
          0,
          0.485
         ],
         "showticklabels": false,
         "side": "left",
         "tickangle": 0,
         "title": {
          "text": ""
         }
        },
        "yaxis2": {
         "anchor": "x2",
         "domain": [
          0,
          0.485
         ],
         "matches": "y",
         "showticklabels": false,
         "side": "left",
         "tickangle": 0,
         "title": {
          "text": ""
         }
        },
        "yaxis3": {
         "anchor": "x3",
         "domain": [
          0.515,
          1
         ],
         "matches": "y",
         "showticklabels": false,
         "side": "left",
         "tickangle": 0,
         "title": {
          "text": ""
         }
        },
        "yaxis4": {
         "anchor": "x4",
         "domain": [
          0.515,
          1
         ],
         "matches": "y",
         "showticklabels": false,
         "side": "left",
         "tickangle": 0,
         "title": {
          "text": ""
         }
        }
       }
      }
     },
     "metadata": {},
     "output_type": "display_data"
    },
    {
     "data": {
      "application/vnd.plotly.v1+json": {
       "config": {
        "plotlyServerURL": "https://plotly.com"
       },
       "data": [
        {
         "alignmentgroup": "True",
         "hovertemplate": "edit=%{x}<br>target=Ball-Key<br>instruction=Ball<br>percent_change=%{y}<extra></extra>",
         "legendgroup": "0_instruction_complement_26_S5",
         "marker": {
          "color": "#636efa",
          "line": {
           "width": 0
          },
          "pattern": {
           "shape": ""
          }
         },
         "name": "0_instruction_complement_26_S5",
         "offsetgroup": "0_instruction_complement_26_S5",
         "orientation": "v",
         "showlegend": true,
         "textposition": "auto",
         "texttemplate": "%{y}",
         "type": "bar",
         "width": 0.8,
         "x": [
          "0_instruction_complement_26_S5"
         ],
         "xaxis": "x3",
         "y": [
          1
         ],
         "yaxis": "y3"
        },
        {
         "alignmentgroup": "True",
         "hovertemplate": "edit=%{x}<br>target=Ball-Key<br>instruction=Key<br>percent_change=%{y}<extra></extra>",
         "legendgroup": "0_instruction_complement_26_S5",
         "marker": {
          "color": "#636efa",
          "line": {
           "width": 0
          },
          "pattern": {
           "shape": ""
          }
         },
         "name": "0_instruction_complement_26_S5",
         "offsetgroup": "0_instruction_complement_26_S5",
         "orientation": "v",
         "showlegend": false,
         "textposition": "auto",
         "texttemplate": "%{y}",
         "type": "bar",
         "width": 0.8,
         "x": [
          "0_instruction_complement_26_S5"
         ],
         "xaxis": "x4",
         "y": [
          1
         ],
         "yaxis": "y4"
        },
        {
         "alignmentgroup": "True",
         "hovertemplate": "edit=%{x}<br>target=Key-Ball<br>instruction=Ball<br>percent_change=%{y}<extra></extra>",
         "legendgroup": "0_instruction_complement_26_S5",
         "marker": {
          "color": "#636efa",
          "line": {
           "width": 0
          },
          "pattern": {
           "shape": ""
          }
         },
         "name": "0_instruction_complement_26_S5",
         "offsetgroup": "0_instruction_complement_26_S5",
         "orientation": "v",
         "showlegend": false,
         "textposition": "auto",
         "texttemplate": "%{y}",
         "type": "bar",
         "width": 0.8,
         "x": [
          "0_instruction_complement_26_S5"
         ],
         "xaxis": "x",
         "y": [
          1
         ],
         "yaxis": "y"
        },
        {
         "alignmentgroup": "True",
         "hovertemplate": "edit=%{x}<br>target=Key-Ball<br>instruction=Key<br>percent_change=%{y}<extra></extra>",
         "legendgroup": "0_instruction_complement_26_S5",
         "marker": {
          "color": "#636efa",
          "line": {
           "width": 0
          },
          "pattern": {
           "shape": ""
          }
         },
         "name": "0_instruction_complement_26_S5",
         "offsetgroup": "0_instruction_complement_26_S5",
         "orientation": "v",
         "showlegend": false,
         "textposition": "auto",
         "texttemplate": "%{y}",
         "type": "bar",
         "width": 0.8,
         "x": [
          "0_instruction_complement_26_S5"
         ],
         "xaxis": "x2",
         "y": [
          1
         ],
         "yaxis": "y2"
        },
        {
         "alignmentgroup": "True",
         "hovertemplate": "edit=%{x}<br>target=Ball-Key<br>instruction=Ball<br>percent_change=%{y}<extra></extra>",
         "legendgroup": "1_instruction_complement_05_S5",
         "marker": {
          "color": "#EF553B",
          "line": {
           "width": 0
          },
          "pattern": {
           "shape": ""
          }
         },
         "name": "1_instruction_complement_05_S5",
         "offsetgroup": "1_instruction_complement_05_S5",
         "orientation": "v",
         "showlegend": true,
         "textposition": "auto",
         "texttemplate": "%{y}",
         "type": "bar",
         "width": 0.8,
         "x": [
          "1_instruction_complement_05_S5"
         ],
         "xaxis": "x3",
         "y": [
          0.7587868571281433
         ],
         "yaxis": "y3"
        },
        {
         "alignmentgroup": "True",
         "hovertemplate": "edit=%{x}<br>target=Ball-Key<br>instruction=Key<br>percent_change=%{y}<extra></extra>",
         "legendgroup": "1_instruction_complement_05_S5",
         "marker": {
          "color": "#EF553B",
          "line": {
           "width": 0
          },
          "pattern": {
           "shape": ""
          }
         },
         "name": "1_instruction_complement_05_S5",
         "offsetgroup": "1_instruction_complement_05_S5",
         "orientation": "v",
         "showlegend": false,
         "textposition": "auto",
         "texttemplate": "%{y}",
         "type": "bar",
         "width": 0.8,
         "x": [
          "1_instruction_complement_05_S5"
         ],
         "xaxis": "x4",
         "y": [
          0.2208084762096405
         ],
         "yaxis": "y4"
        },
        {
         "alignmentgroup": "True",
         "hovertemplate": "edit=%{x}<br>target=Key-Ball<br>instruction=Ball<br>percent_change=%{y}<extra></extra>",
         "legendgroup": "1_instruction_complement_05_S5",
         "marker": {
          "color": "#EF553B",
          "line": {
           "width": 0
          },
          "pattern": {
           "shape": ""
          }
         },
         "name": "1_instruction_complement_05_S5",
         "offsetgroup": "1_instruction_complement_05_S5",
         "orientation": "v",
         "showlegend": false,
         "textposition": "auto",
         "texttemplate": "%{y}",
         "type": "bar",
         "width": 0.8,
         "x": [
          "1_instruction_complement_05_S5"
         ],
         "xaxis": "x",
         "y": [
          0.6440908312797546
         ],
         "yaxis": "y"
        },
        {
         "alignmentgroup": "True",
         "hovertemplate": "edit=%{x}<br>target=Key-Ball<br>instruction=Key<br>percent_change=%{y}<extra></extra>",
         "legendgroup": "1_instruction_complement_05_S5",
         "marker": {
          "color": "#EF553B",
          "line": {
           "width": 0
          },
          "pattern": {
           "shape": ""
          }
         },
         "name": "1_instruction_complement_05_S5",
         "offsetgroup": "1_instruction_complement_05_S5",
         "orientation": "v",
         "showlegend": false,
         "textposition": "auto",
         "texttemplate": "%{y}",
         "type": "bar",
         "width": 0.8,
         "x": [
          "1_instruction_complement_05_S5"
         ],
         "xaxis": "x2",
         "y": [
          0.16714276373386383
         ],
         "yaxis": "y2"
        },
        {
         "alignmentgroup": "True",
         "hovertemplate": "edit=%{x}<br>target=Ball-Key<br>instruction=Ball<br>percent_change=%{y}<extra></extra>",
         "legendgroup": "2_instruction_complement_42_S5",
         "marker": {
          "color": "#00cc96",
          "line": {
           "width": 0
          },
          "pattern": {
           "shape": ""
          }
         },
         "name": "2_instruction_complement_42_S5",
         "offsetgroup": "2_instruction_complement_42_S5",
         "orientation": "v",
         "showlegend": true,
         "textposition": "auto",
         "texttemplate": "%{y}",
         "type": "bar",
         "width": 0.8,
         "x": [
          "2_instruction_complement_42_S5"
         ],
         "xaxis": "x3",
         "y": [
          0.41944506764411926
         ],
         "yaxis": "y3"
        },
        {
         "alignmentgroup": "True",
         "hovertemplate": "edit=%{x}<br>target=Ball-Key<br>instruction=Key<br>percent_change=%{y}<extra></extra>",
         "legendgroup": "2_instruction_complement_42_S5",
         "marker": {
          "color": "#00cc96",
          "line": {
           "width": 0
          },
          "pattern": {
           "shape": ""
          }
         },
         "name": "2_instruction_complement_42_S5",
         "offsetgroup": "2_instruction_complement_42_S5",
         "orientation": "v",
         "showlegend": false,
         "textposition": "auto",
         "texttemplate": "%{y}",
         "type": "bar",
         "width": 0.8,
         "x": [
          "2_instruction_complement_42_S5"
         ],
         "xaxis": "x4",
         "y": [
          0.22169868648052216
         ],
         "yaxis": "y4"
        },
        {
         "alignmentgroup": "True",
         "hovertemplate": "edit=%{x}<br>target=Key-Ball<br>instruction=Ball<br>percent_change=%{y}<extra></extra>",
         "legendgroup": "2_instruction_complement_42_S5",
         "marker": {
          "color": "#00cc96",
          "line": {
           "width": 0
          },
          "pattern": {
           "shape": ""
          }
         },
         "name": "2_instruction_complement_42_S5",
         "offsetgroup": "2_instruction_complement_42_S5",
         "orientation": "v",
         "showlegend": false,
         "textposition": "auto",
         "texttemplate": "%{y}",
         "type": "bar",
         "width": 0.8,
         "x": [
          "2_instruction_complement_42_S5"
         ],
         "xaxis": "x",
         "y": [
          0.4802071154117584
         ],
         "yaxis": "y"
        },
        {
         "alignmentgroup": "True",
         "hovertemplate": "edit=%{x}<br>target=Key-Ball<br>instruction=Key<br>percent_change=%{y}<extra></extra>",
         "legendgroup": "2_instruction_complement_42_S5",
         "marker": {
          "color": "#00cc96",
          "line": {
           "width": 0
          },
          "pattern": {
           "shape": ""
          }
         },
         "name": "2_instruction_complement_42_S5",
         "offsetgroup": "2_instruction_complement_42_S5",
         "orientation": "v",
         "showlegend": false,
         "textposition": "auto",
         "texttemplate": "%{y}",
         "type": "bar",
         "width": 0.8,
         "x": [
          "2_instruction_complement_42_S5"
         ],
         "xaxis": "x2",
         "y": [
          0.2640349864959717
         ],
         "yaxis": "y2"
        },
        {
         "alignmentgroup": "True",
         "hovertemplate": "edit=%{x}<br>target=Ball-Key<br>instruction=Ball<br>percent_change=%{y}<extra></extra>",
         "legendgroup": "3_instruction_complement_05_42_S5",
         "marker": {
          "color": "#ab63fa",
          "line": {
           "width": 0
          },
          "pattern": {
           "shape": ""
          }
         },
         "name": "3_instruction_complement_05_42_S5",
         "offsetgroup": "3_instruction_complement_05_42_S5",
         "orientation": "v",
         "showlegend": true,
         "textposition": "auto",
         "texttemplate": "%{y}",
         "type": "bar",
         "width": 0.8,
         "x": [
          "3_instruction_complement_05_42_S5"
         ],
         "xaxis": "x3",
         "y": [
          1.0438960790634155
         ],
         "yaxis": "y3"
        },
        {
         "alignmentgroup": "True",
         "hovertemplate": "edit=%{x}<br>target=Ball-Key<br>instruction=Key<br>percent_change=%{y}<extra></extra>",
         "legendgroup": "3_instruction_complement_05_42_S5",
         "marker": {
          "color": "#ab63fa",
          "line": {
           "width": 0
          },
          "pattern": {
           "shape": ""
          }
         },
         "name": "3_instruction_complement_05_42_S5",
         "offsetgroup": "3_instruction_complement_05_42_S5",
         "orientation": "v",
         "showlegend": false,
         "textposition": "auto",
         "texttemplate": "%{y}",
         "type": "bar",
         "width": 0.8,
         "x": [
          "3_instruction_complement_05_42_S5"
         ],
         "xaxis": "x4",
         "y": [
          0.9854328632354736
         ],
         "yaxis": "y4"
        },
        {
         "alignmentgroup": "True",
         "hovertemplate": "edit=%{x}<br>target=Key-Ball<br>instruction=Ball<br>percent_change=%{y}<extra></extra>",
         "legendgroup": "3_instruction_complement_05_42_S5",
         "marker": {
          "color": "#ab63fa",
          "line": {
           "width": 0
          },
          "pattern": {
           "shape": ""
          }
         },
         "name": "3_instruction_complement_05_42_S5",
         "offsetgroup": "3_instruction_complement_05_42_S5",
         "orientation": "v",
         "showlegend": false,
         "textposition": "auto",
         "texttemplate": "%{y}",
         "type": "bar",
         "width": 0.8,
         "x": [
          "3_instruction_complement_05_42_S5"
         ],
         "xaxis": "x",
         "y": [
          0.8957367539405823
         ],
         "yaxis": "y"
        },
        {
         "alignmentgroup": "True",
         "hovertemplate": "edit=%{x}<br>target=Key-Ball<br>instruction=Key<br>percent_change=%{y}<extra></extra>",
         "legendgroup": "3_instruction_complement_05_42_S5",
         "marker": {
          "color": "#ab63fa",
          "line": {
           "width": 0
          },
          "pattern": {
           "shape": ""
          }
         },
         "name": "3_instruction_complement_05_42_S5",
         "offsetgroup": "3_instruction_complement_05_42_S5",
         "orientation": "v",
         "showlegend": false,
         "textposition": "auto",
         "texttemplate": "%{y}",
         "type": "bar",
         "width": 0.8,
         "x": [
          "3_instruction_complement_05_42_S5"
         ],
         "xaxis": "x2",
         "y": [
          0.8892185688018799
         ],
         "yaxis": "y2"
        },
        {
         "alignmentgroup": "True",
         "hovertemplate": "edit=%{x}<br>target=Ball-Key<br>instruction=Ball<br>percent_change=%{y}<extra></extra>",
         "legendgroup": "original",
         "marker": {
          "color": "#FFA15A",
          "line": {
           "width": 0
          },
          "pattern": {
           "shape": ""
          }
         },
         "name": "original",
         "offsetgroup": "original",
         "orientation": "v",
         "showlegend": true,
         "textposition": "auto",
         "texttemplate": "%{y}",
         "type": "bar",
         "width": 0.8,
         "x": [
          "original"
         ],
         "xaxis": "x3",
         "y": [
          0
         ],
         "yaxis": "y3"
        },
        {
         "alignmentgroup": "True",
         "hovertemplate": "edit=%{x}<br>target=Ball-Key<br>instruction=Key<br>percent_change=%{y}<extra></extra>",
         "legendgroup": "original",
         "marker": {
          "color": "#FFA15A",
          "line": {
           "width": 0
          },
          "pattern": {
           "shape": ""
          }
         },
         "name": "original",
         "offsetgroup": "original",
         "orientation": "v",
         "showlegend": false,
         "textposition": "auto",
         "texttemplate": "%{y}",
         "type": "bar",
         "width": 0.8,
         "x": [
          "original"
         ],
         "xaxis": "x4",
         "y": [
          0
         ],
         "yaxis": "y4"
        },
        {
         "alignmentgroup": "True",
         "hovertemplate": "edit=%{x}<br>target=Key-Ball<br>instruction=Ball<br>percent_change=%{y}<extra></extra>",
         "legendgroup": "original",
         "marker": {
          "color": "#FFA15A",
          "line": {
           "width": 0
          },
          "pattern": {
           "shape": ""
          }
         },
         "name": "original",
         "offsetgroup": "original",
         "orientation": "v",
         "showlegend": false,
         "textposition": "auto",
         "texttemplate": "%{y}",
         "type": "bar",
         "width": 0.8,
         "x": [
          "original"
         ],
         "xaxis": "x",
         "y": [
          0
         ],
         "yaxis": "y"
        },
        {
         "alignmentgroup": "True",
         "hovertemplate": "edit=%{x}<br>target=Key-Ball<br>instruction=Key<br>percent_change=%{y}<extra></extra>",
         "legendgroup": "original",
         "marker": {
          "color": "#FFA15A",
          "line": {
           "width": 0
          },
          "pattern": {
           "shape": ""
          }
         },
         "name": "original",
         "offsetgroup": "original",
         "orientation": "v",
         "showlegend": false,
         "textposition": "auto",
         "texttemplate": "%{y}",
         "type": "bar",
         "width": 0.8,
         "x": [
          "original"
         ],
         "xaxis": "x2",
         "y": [
          0
         ],
         "yaxis": "y2"
        }
       ],
       "layout": {
        "annotations": [
         {
          "font": {},
          "showarrow": false,
          "text": "Ball",
          "x": 0.24,
          "xanchor": "center",
          "xref": "paper",
          "y": 1,
          "yanchor": "bottom",
          "yref": "paper"
         },
         {
          "font": {},
          "showarrow": false,
          "text": "Key",
          "x": 0.74,
          "xanchor": "center",
          "xref": "paper",
          "y": 1,
          "yanchor": "bottom",
          "yref": "paper"
         },
         {
          "font": {},
          "showarrow": false,
          "text": "Key-Ball",
          "textangle": 90,
          "x": 0.98,
          "xanchor": "left",
          "xref": "paper",
          "y": 0.2425,
          "yanchor": "middle",
          "yref": "paper"
         },
         {
          "font": {},
          "showarrow": false,
          "text": "Ball-Key",
          "textangle": 90,
          "x": 0.98,
          "xanchor": "left",
          "xref": "paper",
          "y": 0.7575000000000001,
          "yanchor": "middle",
          "yref": "paper"
         }
        ],
        "barmode": "group",
        "font": {
         "size": 24
        },
        "height": 800,
        "legend": {
         "title": {
          "text": "edit"
         },
         "tracegroupgap": 0
        },
        "margin": {
         "t": 60
        },
        "template": {
         "data": {
          "bar": [
           {
            "error_x": {
             "color": "#2a3f5f"
            },
            "error_y": {
             "color": "#2a3f5f"
            },
            "marker": {
             "line": {
              "color": "#E5ECF6",
              "width": 0.5
             },
             "pattern": {
              "fillmode": "overlay",
              "size": 10,
              "solidity": 0.2
             }
            },
            "type": "bar"
           }
          ],
          "barpolar": [
           {
            "marker": {
             "line": {
              "color": "#E5ECF6",
              "width": 0.5
             },
             "pattern": {
              "fillmode": "overlay",
              "size": 10,
              "solidity": 0.2
             }
            },
            "type": "barpolar"
           }
          ],
          "carpet": [
           {
            "aaxis": {
             "endlinecolor": "#2a3f5f",
             "gridcolor": "white",
             "linecolor": "white",
             "minorgridcolor": "white",
             "startlinecolor": "#2a3f5f"
            },
            "baxis": {
             "endlinecolor": "#2a3f5f",
             "gridcolor": "white",
             "linecolor": "white",
             "minorgridcolor": "white",
             "startlinecolor": "#2a3f5f"
            },
            "type": "carpet"
           }
          ],
          "choropleth": [
           {
            "colorbar": {
             "outlinewidth": 0,
             "ticks": ""
            },
            "type": "choropleth"
           }
          ],
          "contour": [
           {
            "colorbar": {
             "outlinewidth": 0,
             "ticks": ""
            },
            "colorscale": [
             [
              0,
              "#0d0887"
             ],
             [
              0.1111111111111111,
              "#46039f"
             ],
             [
              0.2222222222222222,
              "#7201a8"
             ],
             [
              0.3333333333333333,
              "#9c179e"
             ],
             [
              0.4444444444444444,
              "#bd3786"
             ],
             [
              0.5555555555555556,
              "#d8576b"
             ],
             [
              0.6666666666666666,
              "#ed7953"
             ],
             [
              0.7777777777777778,
              "#fb9f3a"
             ],
             [
              0.8888888888888888,
              "#fdca26"
             ],
             [
              1,
              "#f0f921"
             ]
            ],
            "type": "contour"
           }
          ],
          "contourcarpet": [
           {
            "colorbar": {
             "outlinewidth": 0,
             "ticks": ""
            },
            "type": "contourcarpet"
           }
          ],
          "heatmap": [
           {
            "colorbar": {
             "outlinewidth": 0,
             "ticks": ""
            },
            "colorscale": [
             [
              0,
              "#0d0887"
             ],
             [
              0.1111111111111111,
              "#46039f"
             ],
             [
              0.2222222222222222,
              "#7201a8"
             ],
             [
              0.3333333333333333,
              "#9c179e"
             ],
             [
              0.4444444444444444,
              "#bd3786"
             ],
             [
              0.5555555555555556,
              "#d8576b"
             ],
             [
              0.6666666666666666,
              "#ed7953"
             ],
             [
              0.7777777777777778,
              "#fb9f3a"
             ],
             [
              0.8888888888888888,
              "#fdca26"
             ],
             [
              1,
              "#f0f921"
             ]
            ],
            "type": "heatmap"
           }
          ],
          "heatmapgl": [
           {
            "colorbar": {
             "outlinewidth": 0,
             "ticks": ""
            },
            "colorscale": [
             [
              0,
              "#0d0887"
             ],
             [
              0.1111111111111111,
              "#46039f"
             ],
             [
              0.2222222222222222,
              "#7201a8"
             ],
             [
              0.3333333333333333,
              "#9c179e"
             ],
             [
              0.4444444444444444,
              "#bd3786"
             ],
             [
              0.5555555555555556,
              "#d8576b"
             ],
             [
              0.6666666666666666,
              "#ed7953"
             ],
             [
              0.7777777777777778,
              "#fb9f3a"
             ],
             [
              0.8888888888888888,
              "#fdca26"
             ],
             [
              1,
              "#f0f921"
             ]
            ],
            "type": "heatmapgl"
           }
          ],
          "histogram": [
           {
            "marker": {
             "pattern": {
              "fillmode": "overlay",
              "size": 10,
              "solidity": 0.2
             }
            },
            "type": "histogram"
           }
          ],
          "histogram2d": [
           {
            "colorbar": {
             "outlinewidth": 0,
             "ticks": ""
            },
            "colorscale": [
             [
              0,
              "#0d0887"
             ],
             [
              0.1111111111111111,
              "#46039f"
             ],
             [
              0.2222222222222222,
              "#7201a8"
             ],
             [
              0.3333333333333333,
              "#9c179e"
             ],
             [
              0.4444444444444444,
              "#bd3786"
             ],
             [
              0.5555555555555556,
              "#d8576b"
             ],
             [
              0.6666666666666666,
              "#ed7953"
             ],
             [
              0.7777777777777778,
              "#fb9f3a"
             ],
             [
              0.8888888888888888,
              "#fdca26"
             ],
             [
              1,
              "#f0f921"
             ]
            ],
            "type": "histogram2d"
           }
          ],
          "histogram2dcontour": [
           {
            "colorbar": {
             "outlinewidth": 0,
             "ticks": ""
            },
            "colorscale": [
             [
              0,
              "#0d0887"
             ],
             [
              0.1111111111111111,
              "#46039f"
             ],
             [
              0.2222222222222222,
              "#7201a8"
             ],
             [
              0.3333333333333333,
              "#9c179e"
             ],
             [
              0.4444444444444444,
              "#bd3786"
             ],
             [
              0.5555555555555556,
              "#d8576b"
             ],
             [
              0.6666666666666666,
              "#ed7953"
             ],
             [
              0.7777777777777778,
              "#fb9f3a"
             ],
             [
              0.8888888888888888,
              "#fdca26"
             ],
             [
              1,
              "#f0f921"
             ]
            ],
            "type": "histogram2dcontour"
           }
          ],
          "mesh3d": [
           {
            "colorbar": {
             "outlinewidth": 0,
             "ticks": ""
            },
            "type": "mesh3d"
           }
          ],
          "parcoords": [
           {
            "line": {
             "colorbar": {
              "outlinewidth": 0,
              "ticks": ""
             }
            },
            "type": "parcoords"
           }
          ],
          "pie": [
           {
            "automargin": true,
            "type": "pie"
           }
          ],
          "scatter": [
           {
            "fillpattern": {
             "fillmode": "overlay",
             "size": 10,
             "solidity": 0.2
            },
            "type": "scatter"
           }
          ],
          "scatter3d": [
           {
            "line": {
             "colorbar": {
              "outlinewidth": 0,
              "ticks": ""
             }
            },
            "marker": {
             "colorbar": {
              "outlinewidth": 0,
              "ticks": ""
             }
            },
            "type": "scatter3d"
           }
          ],
          "scattercarpet": [
           {
            "marker": {
             "colorbar": {
              "outlinewidth": 0,
              "ticks": ""
             }
            },
            "type": "scattercarpet"
           }
          ],
          "scattergeo": [
           {
            "marker": {
             "colorbar": {
              "outlinewidth": 0,
              "ticks": ""
             }
            },
            "type": "scattergeo"
           }
          ],
          "scattergl": [
           {
            "marker": {
             "colorbar": {
              "outlinewidth": 0,
              "ticks": ""
             }
            },
            "type": "scattergl"
           }
          ],
          "scattermapbox": [
           {
            "marker": {
             "colorbar": {
              "outlinewidth": 0,
              "ticks": ""
             }
            },
            "type": "scattermapbox"
           }
          ],
          "scatterpolar": [
           {
            "marker": {
             "colorbar": {
              "outlinewidth": 0,
              "ticks": ""
             }
            },
            "type": "scatterpolar"
           }
          ],
          "scatterpolargl": [
           {
            "marker": {
             "colorbar": {
              "outlinewidth": 0,
              "ticks": ""
             }
            },
            "type": "scatterpolargl"
           }
          ],
          "scatterternary": [
           {
            "marker": {
             "colorbar": {
              "outlinewidth": 0,
              "ticks": ""
             }
            },
            "type": "scatterternary"
           }
          ],
          "surface": [
           {
            "colorbar": {
             "outlinewidth": 0,
             "ticks": ""
            },
            "colorscale": [
             [
              0,
              "#0d0887"
             ],
             [
              0.1111111111111111,
              "#46039f"
             ],
             [
              0.2222222222222222,
              "#7201a8"
             ],
             [
              0.3333333333333333,
              "#9c179e"
             ],
             [
              0.4444444444444444,
              "#bd3786"
             ],
             [
              0.5555555555555556,
              "#d8576b"
             ],
             [
              0.6666666666666666,
              "#ed7953"
             ],
             [
              0.7777777777777778,
              "#fb9f3a"
             ],
             [
              0.8888888888888888,
              "#fdca26"
             ],
             [
              1,
              "#f0f921"
             ]
            ],
            "type": "surface"
           }
          ],
          "table": [
           {
            "cells": {
             "fill": {
              "color": "#EBF0F8"
             },
             "line": {
              "color": "white"
             }
            },
            "header": {
             "fill": {
              "color": "#C8D4E3"
             },
             "line": {
              "color": "white"
             }
            },
            "type": "table"
           }
          ]
         },
         "layout": {
          "annotationdefaults": {
           "arrowcolor": "#2a3f5f",
           "arrowhead": 0,
           "arrowwidth": 1
          },
          "autotypenumbers": "strict",
          "coloraxis": {
           "colorbar": {
            "outlinewidth": 0,
            "ticks": ""
           }
          },
          "colorscale": {
           "diverging": [
            [
             0,
             "#8e0152"
            ],
            [
             0.1,
             "#c51b7d"
            ],
            [
             0.2,
             "#de77ae"
            ],
            [
             0.3,
             "#f1b6da"
            ],
            [
             0.4,
             "#fde0ef"
            ],
            [
             0.5,
             "#f7f7f7"
            ],
            [
             0.6,
             "#e6f5d0"
            ],
            [
             0.7,
             "#b8e186"
            ],
            [
             0.8,
             "#7fbc41"
            ],
            [
             0.9,
             "#4d9221"
            ],
            [
             1,
             "#276419"
            ]
           ],
           "sequential": [
            [
             0,
             "#0d0887"
            ],
            [
             0.1111111111111111,
             "#46039f"
            ],
            [
             0.2222222222222222,
             "#7201a8"
            ],
            [
             0.3333333333333333,
             "#9c179e"
            ],
            [
             0.4444444444444444,
             "#bd3786"
            ],
            [
             0.5555555555555556,
             "#d8576b"
            ],
            [
             0.6666666666666666,
             "#ed7953"
            ],
            [
             0.7777777777777778,
             "#fb9f3a"
            ],
            [
             0.8888888888888888,
             "#fdca26"
            ],
            [
             1,
             "#f0f921"
            ]
           ],
           "sequentialminus": [
            [
             0,
             "#0d0887"
            ],
            [
             0.1111111111111111,
             "#46039f"
            ],
            [
             0.2222222222222222,
             "#7201a8"
            ],
            [
             0.3333333333333333,
             "#9c179e"
            ],
            [
             0.4444444444444444,
             "#bd3786"
            ],
            [
             0.5555555555555556,
             "#d8576b"
            ],
            [
             0.6666666666666666,
             "#ed7953"
            ],
            [
             0.7777777777777778,
             "#fb9f3a"
            ],
            [
             0.8888888888888888,
             "#fdca26"
            ],
            [
             1,
             "#f0f921"
            ]
           ]
          },
          "colorway": [
           "#636efa",
           "#EF553B",
           "#00cc96",
           "#ab63fa",
           "#FFA15A",
           "#19d3f3",
           "#FF6692",
           "#B6E880",
           "#FF97FF",
           "#FECB52"
          ],
          "font": {
           "color": "#2a3f5f"
          },
          "geo": {
           "bgcolor": "white",
           "lakecolor": "white",
           "landcolor": "#E5ECF6",
           "showlakes": true,
           "showland": true,
           "subunitcolor": "white"
          },
          "hoverlabel": {
           "align": "left"
          },
          "hovermode": "closest",
          "mapbox": {
           "style": "light"
          },
          "paper_bgcolor": "white",
          "plot_bgcolor": "#E5ECF6",
          "polar": {
           "angularaxis": {
            "gridcolor": "white",
            "linecolor": "white",
            "ticks": ""
           },
           "bgcolor": "#E5ECF6",
           "radialaxis": {
            "gridcolor": "white",
            "linecolor": "white",
            "ticks": ""
           }
          },
          "scene": {
           "xaxis": {
            "backgroundcolor": "#E5ECF6",
            "gridcolor": "white",
            "gridwidth": 2,
            "linecolor": "white",
            "showbackground": true,
            "ticks": "",
            "zerolinecolor": "white"
           },
           "yaxis": {
            "backgroundcolor": "#E5ECF6",
            "gridcolor": "white",
            "gridwidth": 2,
            "linecolor": "white",
            "showbackground": true,
            "ticks": "",
            "zerolinecolor": "white"
           },
           "zaxis": {
            "backgroundcolor": "#E5ECF6",
            "gridcolor": "white",
            "gridwidth": 2,
            "linecolor": "white",
            "showbackground": true,
            "ticks": "",
            "zerolinecolor": "white"
           }
          },
          "shapedefaults": {
           "line": {
            "color": "#2a3f5f"
           }
          },
          "ternary": {
           "aaxis": {
            "gridcolor": "white",
            "linecolor": "white",
            "ticks": ""
           },
           "baxis": {
            "gridcolor": "white",
            "linecolor": "white",
            "ticks": ""
           },
           "bgcolor": "#E5ECF6",
           "caxis": {
            "gridcolor": "white",
            "linecolor": "white",
            "ticks": ""
           }
          },
          "title": {
           "x": 0.05
          },
          "xaxis": {
           "automargin": true,
           "gridcolor": "white",
           "linecolor": "white",
           "ticks": "",
           "title": {
            "standoff": 15
           },
           "zerolinecolor": "white",
           "zerolinewidth": 2
          },
          "yaxis": {
           "automargin": true,
           "gridcolor": "white",
           "linecolor": "white",
           "ticks": "",
           "title": {
            "standoff": 15
           },
           "zerolinecolor": "white",
           "zerolinewidth": 2
          }
         }
        },
        "width": 1600,
        "xaxis": {
         "anchor": "y",
         "categoryarray": [
          "0_instruction_complement_26_S5",
          "1_instruction_complement_05_S5",
          "2_instruction_complement_42_S5",
          "3_instruction_complement_05_42_S5",
          "original"
         ],
         "categoryorder": "array",
         "domain": [
          0,
          0.48
         ],
         "showticklabels": false,
         "side": "left",
         "title": {
          "text": ""
         }
        },
        "xaxis2": {
         "anchor": "y2",
         "categoryarray": [
          "0_instruction_complement_26_S5",
          "1_instruction_complement_05_S5",
          "2_instruction_complement_42_S5",
          "3_instruction_complement_05_42_S5",
          "original"
         ],
         "categoryorder": "array",
         "domain": [
          0.5,
          0.98
         ],
         "matches": "x",
         "showticklabels": false,
         "side": "left",
         "title": {
          "text": ""
         }
        },
        "xaxis3": {
         "anchor": "y3",
         "domain": [
          0,
          0.48
         ],
         "matches": "x",
         "showticklabels": false,
         "side": "left",
         "title": {
          "text": ""
         }
        },
        "xaxis4": {
         "anchor": "y4",
         "domain": [
          0.5,
          0.98
         ],
         "matches": "x",
         "showticklabels": false,
         "side": "left",
         "title": {
          "text": ""
         }
        },
        "yaxis": {
         "anchor": "x",
         "domain": [
          0,
          0.485
         ],
         "showticklabels": false,
         "side": "left",
         "tickangle": 0,
         "title": {
          "text": ""
         }
        },
        "yaxis2": {
         "anchor": "x2",
         "domain": [
          0,
          0.485
         ],
         "matches": "y",
         "showticklabels": false,
         "side": "left",
         "tickangle": 0,
         "title": {
          "text": ""
         }
        },
        "yaxis3": {
         "anchor": "x3",
         "domain": [
          0.515,
          1
         ],
         "matches": "y",
         "showticklabels": false,
         "side": "left",
         "tickangle": 0,
         "title": {
          "text": ""
         }
        },
        "yaxis4": {
         "anchor": "x4",
         "domain": [
          0.515,
          1
         ],
         "matches": "y",
         "showticklabels": false,
         "side": "left",
         "tickangle": 0,
         "title": {
          "text": ""
         }
        }
       }
      }
     },
     "metadata": {},
     "output_type": "display_data"
    }
   ],
   "source": [
    "# Select the scenarios to use\n",
    "edit_descriptions = [\n",
    "    \"original\",\n",
    "    \"0_instruction_complement_26_S5\",\n",
    "    \"1_instruction_complement_05_S5\",\n",
    "    \"2_instruction_complement_42_S5\",\n",
    "    \"3_instruction_complement_05_42_S5\",\n",
    "    # \"target_complement_S5\",\n",
    "    # \"target_complement_S9\",\n",
    "    # \"flipped_targets_full_start_and_end\",\n",
    "    # \"instruction_complement_05_S9\",\n",
    "    # \"instruction_complement_42_S9\",\n",
    "    # \"instruction_complement_05_42_S9\",\n",
    "]\n",
    "\n",
    "action_preds = get_predictions_for_scenariors(dt_gated_mlp, scenario_dict, edit_descriptions, rtg = 0.8920)\n",
    "logits_df_rtg_high = compile_action_preferences_df(action_preds, edit_descriptions, scenario_labels,\n",
    "                                          reference_control = \"original\",\n",
    "                                          reference_test = \"0_instruction_complement_26_S5\")\n",
    "action_preds = get_predictions_for_scenariors(dt_gated_mlp, scenario_dict, edit_descriptions, rtg = 0.000)\n",
    "logits_df_rtg_low = compile_action_preferences_df(action_preds, edit_descriptions, scenario_labels,\n",
    "                                          reference_control = \"original\",\n",
    "                                          reference_test = \"0_instruction_complement_26_S5\")\n",
    "\n",
    "# add _RTG to scenario labels\n",
    "logits_df_rtg_high[\"scenario\"] = logits_df_rtg_high[\"scenario\"].apply(lambda x: x + \"_RTG_0.8920\")\n",
    "logits_df_rtg_low[\"scenario\"] = logits_df_rtg_low[\"scenario\"].apply(lambda x: x + \"_RTG_0.0\")\n",
    "\n",
    "# combine the two dataframes\n",
    "logits_df = pd.concat([logits_df_rtg_high, logits_df_rtg_low])\n",
    "\n",
    "fig = plot_heatmap(logits_df)\n",
    "fig.show()\n",
    "\n",
    "fig = get_bar_chart(logits_df_rtg_high, scenario_labels)\n",
    "fig.show()\n",
    "\n",
    "fig = get_bar_chart(logits_df_rtg_low, scenario_labels)\n",
    "fig.show()"
   ]
  },
  {
   "cell_type": "code",
   "execution_count": null,
   "metadata": {},
   "outputs": [],
   "source": []
  }
 ],
 "metadata": {
  "kernelspec": {
   "display_name": "decision_transformer_interpretability",
   "language": "python",
   "name": "python3"
  },
  "language_info": {
   "codemirror_mode": {
    "name": "ipython",
    "version": 3
   },
   "file_extension": ".py",
   "mimetype": "text/x-python",
   "name": "python",
   "nbconvert_exporter": "python",
   "pygments_lexer": "ipython3",
   "version": "3.9.15"
  }
 },
 "nbformat": 4,
 "nbformat_minor": 2
}
