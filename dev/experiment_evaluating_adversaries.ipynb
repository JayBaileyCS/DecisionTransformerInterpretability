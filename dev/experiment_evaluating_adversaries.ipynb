{
 "cells": [
  {
   "cell_type": "markdown",
   "metadata": {},
   "source": [
    "# Experiment Testing Adversaries\n",
    "\n",
    "To do:\n",
    "\n",
    "Option 1:\n",
    "1. Find the training data\n",
    "2. Load the training data\n",
    "3. Select trajectories which contain scenario 1. \n",
    "\n",
    "The training data is very light on the optimal trajectories! My stupid sampling thing was almost certainly part of the problem. I think we should try removing it and seeing if the model will train. \n",
    "\n",
    "Option 2:\n",
    "1. Synthesize scenario 1 forward passes somehow. \n",
    "\n",
    "Fixed Result:\n",
    "\n",
    "4. Visualize a few. \n",
    "5. Write code to add adversaries. \n",
    "6. Plot left-right preference before/after. "
   ]
  },
  {
   "cell_type": "markdown",
   "metadata": {},
   "source": [
    "## Try to Load the Training Data and use that "
   ]
  },
  {
   "cell_type": "code",
   "execution_count": 2,
   "metadata": {},
   "outputs": [
    {
     "name": "stdout",
     "output_type": "stream",
     "text": [
      "Registering DynamicObstaclesMultiEnv-v0\n",
      "Registering CrossingMultiEnv-v0\n",
      "Registering Probe Envs\n"
     ]
    },
    {
     "name": "stderr",
     "output_type": "stream",
     "text": [
      "2023-10-01 17:50:13.934 \n",
      "  \u001b[33m\u001b[1mWarning:\u001b[0m to view this Streamlit app on a browser, run it with the following\n",
      "  command:\n",
      "\n",
      "    streamlit run /Users/josephbloom/miniforge3/envs/decision_transformer_interpretability/lib/python3.10/site-packages/ipykernel_launcher.py [ARGUMENTS]\n"
     ]
    },
    {
     "name": "stdout",
     "output_type": "stream",
     "text": [
      "WARNING: no unembed.b_U in state_dict, deleting ln_final.b\n",
      "WARNING: no unembed.b_U in state_dict, deleting ln_final.w. You should be folding these weight into subsequent layers before calling this func.\n",
      "Ignore T-Lens warnings about folding layer norm into unembed, we just did it manually\n",
      "torch.Size([9, 7, 7, 20])\n"
     ]
    }
   ],
   "source": [
    "import sys \n",
    "import os \n",
    "\n",
    "sys.path.append(\"..\")\n",
    "\n",
    "from src.streamlit_app.environment import get_env_and_dt, preprocess_inputs\n",
    "from src.environments.registration import register_envs\n",
    "from src.decision_transformer.offline_dataset import TrajectoryDataset, one_hot_encode_observation\n",
    "from torch.utils.data import DataLoader\n",
    "\n",
    "register_envs()\n",
    "\n",
    "# GET MODEL AND ENVIRONMENT\n",
    "model_index = {\n",
    "    # The original post, reproduced with 1/10th of the total training epochs\n",
    "    \"models/MiniGrid-MemoryS7FixedStart-v0/WorkingModel.pt\": \"MemoryDT\",\n",
    "    \"models/MiniGrid-MemoryS7FixedStart-v0/MemoryGatedMLP.pt\": \"MemoryDTGatedMLP\",\n",
    "    \"models/MiniGrid-Dynamic-Obstacles-8x8-v0/ReproduceOriginalPostShort.pt\": \"DynamicObstaclesDT_reproduction\",\n",
    "}\n",
    "\n",
    "env, dt = get_env_and_dt(\"../models/MiniGrid-MemoryS7FixedStart-v0/WorkingModel.pt\")\n",
    "\n",
    "# GET TRAINING DATA \n",
    "training_trajectories = \"../trajectories/MiniGrid-MemoryS7FixedStart-v0-Checkpoint11-VariedSamplingStrategies_T1_10k_T5_20k.gz\"\n",
    "dataset = TrajectoryDataset(\n",
    "    training_trajectories, \n",
    "    max_len=9, \n",
    "    prob_go_from_end=1,\n",
    "    preprocess_observations=one_hot_encode_observation)\n",
    "s, a, r, d, rtg, ti, m = dataset[0]\n",
    "print(s.shape)"
   ]
  },
  {
   "cell_type": "code",
   "execution_count": 18,
   "metadata": {},
   "outputs": [
    {
     "data": {
      "text/plain": [
       "torch.Size([7, 7, 20])"
      ]
     },
     "execution_count": 18,
     "metadata": {},
     "output_type": "execute_result"
    }
   ],
   "source": [
    "s.shape\n",
    "s[0].shape"
   ]
  },
  {
   "cell_type": "code",
   "execution_count": null,
   "metadata": {},
   "outputs": [],
   "source": [
    "import torch\n",
    "from torch.utils.data import DataLoader\n",
    "# Assuming necessary imports for your dataset and env\n",
    "\n",
    "dataloader = DataLoader(dataset, batch_size=2048, shuffle=True)\n",
    "\n",
    "# Create lists to collect batches\n",
    "obs_list, actions_list, rtg_list, ti_list = [], [], [], []\n",
    "\n",
    "# Iterate through the dataloader\n",
    "for i, batch in enumerate(dataloader):\n",
    "    s, a, r, d, rtg, ti, m = batch\n",
    "    a[a == -10] = env.action_space.n\n",
    "    obs, actions, rtg, ti = preprocess_inputs(dt, s, rtg, a, ti)\n",
    "    \n",
    "    # Append to lists\n",
    "    obs_list.append(obs)\n",
    "    actions_list.append(actions)\n",
    "    rtg_list.append(rtg)\n",
    "    ti_list.append(ti)\n",
    "    \n",
    "    # Break after collecting 10 batches\n",
    "    if i == 9:\n",
    "        break\n",
    "\n",
    "# Concatenate along the batch dimension (assuming it's the 0-th dimension)\n",
    "obs_stacked = torch.cat(obs_list, dim=0)\n",
    "actions_stacked = torch.cat(actions_list, dim=0)\n",
    "rtg_stacked = torch.cat(rtg_list, dim=0)\n",
    "ti_stacked = torch.cat(ti_list, dim=0)\n",
    "\n",
    "# Print shapes\n",
    "print(obs_stacked.shape)\n",
    "print(actions_stacked.shape)\n",
    "print(rtg_stacked.shape)\n",
    "print(ti_stacked.shape)\n"
   ]
  },
  {
   "cell_type": "code",
   "execution_count": null,
   "metadata": {},
   "outputs": [],
   "source": [
    "import torch \n",
    "\n",
    "starts_with_padding_mask = (actions_stacked[:,:4] == torch.tensor([7,7,7,7])).sum(dim=1) == 4\n",
    "ends_with_forwards = (actions_stacked[:,-4:] == torch.tensor([2,2,2,2])).sum(dim=1) == 4\n",
    "print(ends_with_forwards.sum())\n"
   ]
  },
  {
   "cell_type": "code",
   "execution_count": null,
   "metadata": {},
   "outputs": [],
   "source": [
    "from src.visualization import render_minigrid_observation, render_minigrid_observations\n",
    "from src.environments.utils import reverse_one_hot\n",
    "import plotly.express as px\n",
    "import numpy as np \n",
    "import random\n",
    "\n",
    "# get a random batch index\n",
    "batch_index = random.randint(0, obs_stacked.shape[0] - 1)\n",
    "batch_index \n",
    "\n",
    "one_hot_s = obs_stacked[batch_index]\n",
    "original_obs = torch.from_numpy(np.stack([reverse_one_hot(one_hot_s[i]) for i in range(one_hot_s.shape[0])]))\n",
    "images = render_minigrid_observations(env, original_obs)\n",
    "px.imshow(images, animation_frame=0).show()"
   ]
  },
  {
   "cell_type": "code",
   "execution_count": null,
   "metadata": {},
   "outputs": [],
   "source": [
    "import plotly.express as px \n",
    "px.histogram(dataset.traj_lens)\n"
   ]
  },
  {
   "cell_type": "code",
   "execution_count": null,
   "metadata": {},
   "outputs": [],
   "source": [
    "obs, actions, rtg, ti = preprocess_inputs(dt, s, rtg, a, ti)\n"
   ]
  },
  {
   "cell_type": "code",
   "execution_count": null,
   "metadata": {},
   "outputs": [],
   "source": [
    "\n",
    "tokens = dt.to_tokens(obs, actions.unsqueeze(-1), rtg, ti.unsqueeze(-1))\n",
    "tokens.shape # now we have the tokens, we can run the model \n",
    "x, cache = dt.transformer.run_with_cache(tokens, remove_batch_dim=False)\n",
    "\n",
    "state_preds, action_preds, reward_preds = dt.get_logits(\n",
    "    x,\n",
    "    batch_size=128,\n",
    "    seq_length=9,\n",
    "    no_actions=False,  # we always pad now.\n",
    ")\n",
    "\n",
    "action_preds"
   ]
  },
  {
   "cell_type": "markdown",
   "metadata": {},
   "source": [
    "## Generate the Trajectories Manually"
   ]
  },
  {
   "cell_type": "code",
   "execution_count": 66,
   "metadata": {},
   "outputs": [
    {
     "data": {
      "text/plain": [
       "torch.Size([4, 5, 7, 7, 3])"
      ]
     },
     "execution_count": 66,
     "metadata": {},
     "output_type": "execute_result"
    }
   ],
   "source": [
    "from src.environments.memory import MemoryEnv\n",
    "from src.decision_transformer.offline_dataset import one_hot_encode_observation\n",
    "import torch\n",
    "import numpy as np\n",
    "import plotly.express as px\n",
    "\n",
    "env = MemoryEnv(\n",
    "    size=7, \n",
    "    random_direction=False, \n",
    "    random_start_pos=False, \n",
    "    random_length=False, \n",
    "    render_mode=\"rgb_array\")\n",
    "\n",
    "env.reset()\n",
    "\n",
    "all_observations = []\n",
    "all_actions = []\n",
    "\n",
    "for target_obj in [\"key\", \"ball\"]:\n",
    "    for target_pos in [\"top\", \"bottom\"]:\n",
    "        observations = [] \n",
    "        actions= []\n",
    "\n",
    "        # generate the new environment \n",
    "        env._gen_grid(7,7,target_obj=target_obj, target_pos=target_pos)\n",
    "        obs = env.gen_obs()['image']\n",
    "        observations.append(obs)\n",
    "        for _ in range(4):\n",
    "            action = 2\n",
    "            next_obs, reward, next_done, next_truncated, info  = env.step(action)\n",
    "            observations.append(next_obs['image'])\n",
    "            actions.append(action)\n",
    "\n",
    "        all_observations.append(observations)\n",
    "        all_actions.append(actions)\n",
    "        \n",
    "\n",
    "\n",
    "all_observations = torch.from_numpy(np.stack(all_observations))\n",
    "all_observations.shape"
   ]
  },
  {
   "cell_type": "code",
   "execution_count": 67,
   "metadata": {},
   "outputs": [
    {
     "data": {
      "application/vnd.plotly.v1+json": {
       "config": {
        "plotlyServerURL": "https://plotly.com"
       },
       "data": [
        {
         "hovertemplate": "x: %{x}<br>y: %{y}<br>color: %{z}<extra></extra>",
         "name": "0",
         "source": "data:image/png;base64,iVBORw0KGgoAAAANSUhEUgAAAOAAAADgCAIAAACVT/22AAAFMUlEQVR4Xu3c4W3iWBhG4ZdVyoDUEdIHWwENhKkj0MBUkPQBqSPQR/YHInNzZ4GJwXCYex7xw/oGWwgdXRtP5MF0Oo2E1XegHv8wj3/YP/VAIjFQoRmo0AxUaAYqNAMVmoEKzUCFZqBCM1ChGajQDFRoBio0AxWagQrNQIVmoEIzUKEZqNAMVGgGKjQDFZqBCs1AhWagQjNQoRmo0AxUaAYqNAMV2qDvx+dJp3AFFZqBCs1AhWagQjNQoRmo0AxUaAYqNAMVmoEKzUCFZqBCM1ChGajQDFRoBio0AxWagQrNQIVmoEIzUKEZqNAMVGgGKjQDFZqBCs1AhWagQjNQoRmo0AxUaAYqtLt60IOfP3/Wo/OZTqce/4ALHL8enZUrqNBIgQ6T5+Rj93pPnpNh/S41BRPoJFkms2IySmbJ0kabxgh0u3aO6nGSjJJlPVM7GIE+7alza5Q81TOd00Pykix3F1fL5CV5qN91FYxAyzP7PBkkg+S1GE6KbZ3RQ/KerJJJMt4Nx8kkWSXv18+UEWjpx26jrPbzu9MZPSWrY+eu1ZVPX7xAdRlPybye/b/5NRvlBfqSJBl+/fpWxbZO9/DHdW7Nr3auZwRaflmT5CNZf73uLK9HdbrtKvAtHXY5B0agi2Rdz35ZJ4t6pu4eDl537jO6ziLKCHSTPO5pdJ081jOdpPz1+S2ddzwBI9DsGq0ujGbJfbL5OtSJOv/PXOcdT4AJNMmmuMe05Zm9D53v2XXe8QSkQKXfGGh7Ot+z67zjCQy0PZ2v6TvveAJGoJ9/A/pR/4vO71u36EuddzwBI1Bd0tueO3qHrZO3enYBjEC3f760fekC/q0Hx3XY5RwYgerC3r551312neUzBtquxR83OrvmDWkDbdgiGR+8Hl0n42vWGQNt3Vtyn4yT1+I25yp5TcbJ/dXO7J8u8eCG47y7dF1vV/sNdJQrqNAYK6h3l7SHK6jQDFRoBiq0Qd+Pz5NOcZf+n99Zj26N389hvX4/nuKFZqBCM1ChGajQDFRoBio0AxWagQrNQIVmoEIzUKEZqNAMVGgGKjQDFZqBCs1AhWagQjNQoRmo0AxUaAYqNAMVmoEKzUCFZqBCM1ChGajQDFRoBio0nw8qtL/h+aB9f/5bP349OrdeP7+neKEZqNAMVGgGKjQDFZqBCs1AhWagQjNQoRmo0AxUaAYqNAMVmoEKzUCFZqBCM1ChGajQDFRoBio0AxWagQrNQIVmoEIzUKEZqNAMVGgGKjQDFZqBCs3ngwrN54MecYHnd/Z9/Hp0br1+fk/xQjNQoRmo0AxUaAYqNAMVmoEKzUCFZqBCM1ChGajQDFRoBio0AxWagQrNQIVmoEIzUKEZqNAMVGgGKjQDFZqBCs1AhWagQjNQoRmo0AxUaAYqNAMVms8HFZrPBz3iAs/v7Pv49ejcev38nuKF1lKgw+Q5+di93pPnZFi/SyjNBDpJlsmsmIySWbK0UbQ2At2unaN6nCSjZFnPxNFGoE976twaJU/1TBBtBFqe2efJIBkkr8VwUmyLpI1ASz92G2W142JbJO0FqpvSXqAvSZJhMi+Gq2JbJG0EWrY4ST6S9dfrzvJ6VCRtBLpI1vXsl3WyqGeCaCPQTfK4p9F18ljPxNFGoNk1Wp7rk8yS+2TzdSiSZgJNsinuMW15ZsdrKVDdIAMVmoEK7a4e/JU+6oFuhSuo0NpYQQfFtqvpTXEFFZqBCs1AhWagQmvjR5I/jG6WK6jQ2lhBy9tMuimuoEIzUKEZqND+Axb7wb5luWP8AAAAAElFTkSuQmCC",
         "type": "image",
         "xaxis": "x",
         "yaxis": "y"
        },
        {
         "hovertemplate": "x: %{x}<br>y: %{y}<br>color: %{z}<extra></extra>",
         "name": "1",
         "source": "data:image/png;base64,iVBORw0KGgoAAAANSUhEUgAAAOAAAADgCAIAAACVT/22AAAFOUlEQVR4Xu3c71HiWhyH8S93LAOsQ+yDWwENyNYhNGAF2gdYh9iH9wWDezxz+SNrch42z2d8kfmtyTDs40mITkbz+TwSVteBevzjPP5x/9QDicRAhWagQjNQoRmo0AxUaAYqNAMVmoEKzUCFZqBCM1ChGajQDFRoBio0AxWagQrNQIVmoEIzUKEZqNAMVGgGKjQDFZqBCs1AhWagQjNQoRmo0AxUaKOuH58n/QlXUKEZqNAMVGgGKjQDFZqBCs1AhWagQjNQoRmo0AxUaAYqNAMVmoEKzUCFZqBCM1ChGajQDFRoBio0AxWagQrNQIVmoEIzUKEZqNAMVGgGKjQDFZqBCs1AhWagQrupBx14enqqRz9nPp97/CN6OH49+lGuoEIzUO2Nk8fkY//1ljwm4/q7emagSpLMknWyKCaTZJGsGzdqoNqvnZN6nCSTZF3P+sQI9C55Ttb7k8s6eU7u6u9SVx4O1LkzSR7qWW9aB3qXvCWbZJZM98NpMks2yZuZ9qI8sy+TUTJKXorhrNjuV9NAH5LNqZ/dTcsf3yH6td8oq/1cO3rXLtCHZFnP/t/SRoerUaB3Z9e5s/Rc35fnJMn463/QptjuV6NAd+/Ct1ywi85UtjhLPpLt1+vO8nq0Xy0CvTt63XnIxEW0M6tkW89+2yaretabFoGWV9/fcvGOOu49uT/Q6Da5r2d9ahHoxb+ZuHhHnbRrtPpgsEhuk/evw361CPTiexYX76hzvBf3mHbandk/tQhUOluLQC++Z3HxjrpaLQK9+Jrm4h11tVoE+q1b9KWLd9Rxn38D+lH/S3MtAn09cEfjuG3yWs/012sRaJJ/68FpF+yiM+3+fGn3BdMo0Ndv3nVfuHwOVKNAk6zObnSBuCGnJtoFmmSVTI9ej26TqXUOWtNAk7wmt8k0eSluc26Sl2Sa3HpmH7o+Htxw2qufgZri3V361HoFlY5irKBqi3d36ZMrqNAMVGgGKrRR14/Pk/7ETbp/fmc9uja+P8d1+v54iheagQrNQIVmoEIzUKEZqNAMVGgGKjQDFZqBCs1AhWagQjNQoRmo0AxUaAYqNAMVmoEKzUCFZqBCM1ChGajQDFRoBio0AxWagQrNQIVmoEIzUKEZqNB8PqjQ/obng3b9+q/9+PXop3X6+j3FC81AhWagQjNQoRmo0AxUaAYqNAMVmoEKzUCFZqBCM1ChGajQDFRoBio0AxWagQrNQIVmoEIzUKEZqNAMVGgGKjQDFZqBCs1AhWagQjNQoRmo0AxUaD4fVGg+H/SEHp7f2fXx69FP6/T1e4oXmoEKzUCFZqBCM1ChGajQDFRoBio0AxWagQrNQIVmoEIzUKEZqNAMVGgGKjQDFZqBCs1AhWagQjNQoRmo0AxUaAYqNAMVmoEKzUCFZqBCM1ChGajQfD6o0Hw+6Ak9PL+z6+PXo5/W6ev3FC+0IQU6Th6Tj/3XW/KYjOvvEspgAp0l62RRTCbJIlnbKNowAt2tnZN6nCSTZF3PxDGMQB8O1LkzSR7qmSCGEWh5Zl8mo2SUvBTDWbEtkmEEWvq13yirnRbbIhleoLoqwwv0OUkyTpbFcFNsi2QYgZYtzpKPZPv1urO8HhXJMAJdJdt69ts2WdUzQQwj0Pfk/kCj2+S+noljGIFm32h5rk+ySG6T969DkQwm0CTvxT2mHc/seEMKVFfIQIVmoEK7qQd/pY96oGvhCiq0Yaygo2Lb1fSquIIKzUCFZqBCM1ChDeNDkh+MrpYrqNCGsYKWt5l0VVxBhWagQjNQof0Hv4LBvuJ54cIAAAAASUVORK5CYII=",
         "type": "image",
         "xaxis": "x2",
         "yaxis": "y2"
        },
        {
         "hovertemplate": "x: %{x}<br>y: %{y}<br>color: %{z}<extra></extra>",
         "name": "2",
         "source": "data:image/png;base64,iVBORw0KGgoAAAANSUhEUgAAAOAAAADgCAIAAACVT/22AAAFYElEQVR4Xu3c71HiWhyH8a93LEOsA7YPrIAGYOtYaMAKsA+gjsU+vC8YvPHclT9Zk/MQn8/4wvnpyTDuYxKPbu5ms1kkrK4D9finefzT/ikHEomBCs1AhWagQjNQoRmo0AxUaAYqNAMVmoEKzUCFZqBCM1ChGajQDFRoBio0AxWagQrNQIVmoEIzUKEZqNAMVGgGKjQDFZqBCs1AhWagQjNQoRmo0O66fnye9Dc8gwrNQIVmoEIzUKEZqNAMVGgGKjQDFZqBCs1AhWagQjNQoRmo0AxUaAYqNAMVmoEKzUCFZqBCM1ChGajQDFRoBio0AxWagQrNQIVmoEIzUKEZqNAMVGgGKjQDFdp9OejA8/NzOfo6s9nM45/Qw/HL0ZfyDCo0A9XRQ/IreTu+/U5+JQ/lZ/XMQJUkmSabZNGYjJJFsqncqIHqeO4cleMkGSWbctYnRqDjZJ1sjheXTbJOxuVnqSvzT+o8GCXzctab2oGOk9/JNpkmk+NwkkyTbfLbTHvRvLIvk7vkLnlpDKeN9/tVNdB5sj33vbut+e37Hf08vtOs9v3c0bt6gc6TZTn7s6WNfl+VAh1fXOfB0mt9X9ZJkoeP/0Dbxvv9qhTo4atwlRZLdKFmi9PkLdl/vO9s3o/2q0ag45P3nZ8ZeRLtzCrZl7P/7JNVOetNjUCbd99Xab1Qp70mPz5pdJ/8KGd9qhFo699MtF6osw6NFj8YLJLH5PXjsF81Am29Z9F6oS7x2thjOqh3ZX9XI1DpYjUCbb1n0XqhblaNQFvf07ReqJtVI9CrtuibWi/Uae9/A/pWfqS6GoHuPtnROG2f7MqZBq9GoEmeysF5LZboQoc/Xzq8wVQKdHflrvvC0+c3VSnQJKuLG10gNuRURb1Ak6ySycn70X0ysc5vrWqgSXbJYzJJXhrbnNvkJZkkj17Zv7s+Htxw3s6fgari7S69q30GlU5inEFVF2936Z1nUKEZqNAMVGh3XT8+T/ob9+n++Z3l6Nb49Tmt06+Pl3ihGajQDFRoBio0AxWagQrNQIVmoEIzUKEZqNAMVGgGKjQDFZqBCs1AhWagQjNQoRmo0AxUaAYqNAMVmoEKzUCFZqBCM1ChGajQDFRoBio0AxWagQrN54MKbQjPB+369d/68cvRV+v09XuJF5qBCs1AhWagQjNQoRmo0AxUaAYqNAMVmoEKzUCFZqBCM1ChGajQDFRoBio0AxWagQrNQIVmoEIzUKEZqNAMVGgGKjQDFZqBCs1AhWagQjNQoRmo0Hw+qNB8PugZPTy/s+vjl6Ov1unr9xIvNAMVmoEKzUCFZqBCM1ChGajQDFRoBio0AxWagQrNQIVmoEIzUKEZqNAMVGgGKjQDFZqBCs1AhWagQjNQoRmo0AxUaAYqNAMVmoEKzUCFZqBCM1Ch+XxQofl80DN6eH5n18cvR1+t09fvJV5oBio0AxWagQrtewQ6TtbJJnlL3pJNsk7G5WcJ6L4cDMwhzdHH4SRJMk32yVOy+/hRkQz6DDpPtv+rs2mUbJN5ORbHcAOdJ8ty9mdLG+UaaKDji+s8WHpLCjXQQNfl4LwWS9S9IQY6Pnnf+ZmRJ1GiIQa6KAeXar1QnRlioA/l4FKtF6ozQwz0sM3ZQuuF6swQA9WADDHQbTm4VOuF6swQA30tB5dqvVCdGWKgV23RN7VeqM4MMdBdsi9n5+39qxGiIQaa5KkcnNdiibo30EB3V+66Lzx9Qg000CSrixtdJKtyJojhBppklUxO3o/uk4l1og060CS75DGZJC+Nbc5t8pJMkkev7HRD/y8fBzt/BrpVQz+D6sYZqNAMVGgGKjQDFdq/ORrI24OGp80AAAAASUVORK5CYII=",
         "type": "image",
         "xaxis": "x3",
         "yaxis": "y3"
        },
        {
         "hovertemplate": "x: %{x}<br>y: %{y}<br>color: %{z}<extra></extra>",
         "name": "3",
         "source": "data:image/png;base64,iVBORw0KGgoAAAANSUhEUgAAAOAAAADgCAIAAACVT/22AAAFWUlEQVR4Xu3c71HiahxH8a93LEOsA7YPrIAG4Nax0IAVYB9AHWIf3hcM3vjs8i8h5BjOZ3zh/PTJMMyZJD7L5mEymUTCajtQj3+cxz/un3IgkRio0AxUaAYqNAMVmoEKzUCFZqBCM1ChGajQDFRoBio0AxWagQrNQIVmoEIzUKEZqNAMVGgGKjQDFZqBCs1AhWagQjNQoRmo0AxUaAYqNAMVmoEK7aHtx+dJTXgGFZqBCs1AhWagQjNQoRmo0AxUaAYqNAMVmoEKzUCFZqBCM1ChGajQDFRoBio0AxWagQrNQIVmoEIzUKEZqNAMVGgGKjQDFZqBCs1AhWagQjNQoRmo0AxUaAYqtMdy0ILX19dydD2TycTjH3GD45ejq/IMKjRSoE/J7+Rz//We/E6eyt/SXcEEOk5WyawyGSSzZGWjd40R6O7cOSjHSTJIVuVM94MR6PRAnTuDZFrOdE3DZJms9jdXq2SZDMvf6gQj0OqVfZ48JA/JW2U4rnyvKxom78k6GSej/XCUjJN18t59poxAq/7df1Ot9uu90xVNk/Wpa9e648sXL1DdxjSZl7O/m3fZKC/QZZLk6fvbt658r+aGZ9e5M+/sWs8ItPpmjZPPZPv9vrN6P6rmdmeBi9RYcg2MQBfJtpz9b5ssypnqGx697zxk0M1JlBHoR/LrQKPb5Fc5UyPVvz4vUnthA4xAs2+0uDGaJc/Jx/ehGqr9L3O1FzaACTTJR2WPaccrextq79nVXtgAKVDpDwZ6f2rv2dVe2ICB3p/a9/S1FzbACPTrM6Cf5U90fRdt0VfVXtgAI1Dd0ubAjt5x22RTzm6AEeju40u7L93ASzk4rcaSa2AEqhvbXLjrPuvm9BkDvV+LsxuddbkhbaB3bJGMjt6PbpNRl3XGQO/dJnlORslbZZtznbwlo+S5syv7l1s8uOE0d5e6tensb6CTPIMKjXEGdXdJB3gGFZqBCs1AhfbQ9uPzpCYe0/7zO8vRT+P7c1yr74+XeKEZqNAMVGgGKjQDFZqBCs1AhWagQjNQoRmo0AxUaAYqNAMVmoEKzUCFZqBCM1ChGajQDFRoBio0AxWagQrNQIVmoEIzUKEZqNAMVGgGKjQDFZqBCs3ngwqtD88Hbfv1//Tjl6Nra/X1e4kXmoEKzUCFZqBCM1ChGajQDFRoBio0AxWagQrNQIVmoEIzUKEZqNAMVGgGKjQDFZqBCs1AhWagQjNQoRmo0AxUaAYqNAMVmoEKzUCFZqBCM1ChGajQfD6o0Hw+6Ak3eH5n28cvR9fW6uv3Ei80AxWagQrNQIVmoEIzUKEZqNAMVGgGKjQDFZqBCs1AhWagQjNQoRmo0AxUaAYqNAMVmoEKzUCFZqBCM1ChGajQDFRoBio0AxWagQrNQIVmoEIzUKH5fFCh+XzQE27w/M62j1+Orq3V1+8lXmgGKjQDFZqBCu0+Ah0my2SVfCafySpZJsPytwT0WA56Zpfm4PtwlCQZJ9vkJdl8/6lIen0GnSbrP+qsGiTrZFqOxdHfQKfJvJz93dxGuXoa6PDsOnfm3pJC9TTQZTk4rcYSta+PgQ6P3nceMvAkStTHQGfl4Fy1F6o1fQz0qRycq/ZCtaaPge62OWuovVCt6WOg6pE+BrouB+eqvVCt6WOgH+XgXLUXqjV9DPSiLfqq2gvVmj4Gukm25ey0rZ8aIepjoEleysFpNZaofT0NdHPhrvvM0ydUTwNNsji70VmyKGeC6G+gSRbJ6Oj96DYZWSdarwNNskmek1HyVtnmXCdvySh59spO1/f/8rGz8W+gn6rvZ1D9cAYqNAMVmoEKzUCF9h+QhMjbNytVWQAAAABJRU5ErkJggg==",
         "type": "image",
         "xaxis": "x4",
         "yaxis": "y4"
        }
       ],
       "frames": [
        {
         "data": [
          {
           "name": "0",
           "source": "data:image/png;base64,iVBORw0KGgoAAAANSUhEUgAAAOAAAADgCAIAAACVT/22AAAFMUlEQVR4Xu3c4W3iWBhG4ZdVyoDUEdIHWwENhKkj0MBUkPQBqSPQR/YHInNzZ4GJwXCYex7xw/oGWwgdXRtP5MF0Oo2E1XegHv8wj3/YP/VAIjFQoRmo0AxUaAYqNAMVmoEKzUCFZqBCM1ChGajQDFRoBio0AxWagQrNQIVmoEIzUKEZqNAMVGgGKjQDFZqBCs1AhWagQjNQoRmo0AxUaAYqNAMV2qDvx+dJp3AFFZqBCs1AhWagQjNQoRmo0AxUaAYqNAMVmoEKzUCFZqBCM1ChGajQDFRoBio0AxWagQrNQIVmoEIzUKEZqNAMVGgGKjQDFZqBCs1AhWagQjNQoRmo0AxUaAYqtLt60IOfP3/Wo/OZTqce/4ALHL8enZUrqNBIgQ6T5+Rj93pPnpNh/S41BRPoJFkms2IySmbJ0kabxgh0u3aO6nGSjJJlPVM7GIE+7alza5Q81TOd00Pykix3F1fL5CV5qN91FYxAyzP7PBkkg+S1GE6KbZ3RQ/KerJJJMt4Nx8kkWSXv18+UEWjpx26jrPbzu9MZPSWrY+eu1ZVPX7xAdRlPybye/b/5NRvlBfqSJBl+/fpWxbZO9/DHdW7Nr3auZwRaflmT5CNZf73uLK9HdbrtKvAtHXY5B0agi2Rdz35ZJ4t6pu4eDl537jO6ziLKCHSTPO5pdJ081jOdpPz1+S2ddzwBI9DsGq0ujGbJfbL5OtSJOv/PXOcdT4AJNMmmuMe05Zm9D53v2XXe8QSkQKXfGGh7Ot+z67zjCQy0PZ2v6TvveAJGoJ9/A/pR/4vO71u36EuddzwBI1Bd0tueO3qHrZO3enYBjEC3f760fekC/q0Hx3XY5RwYgerC3r551312neUzBtquxR83OrvmDWkDbdgiGR+8Hl0n42vWGQNt3Vtyn4yT1+I25yp5TcbJ/dXO7J8u8eCG47y7dF1vV/sNdJQrqNAYK6h3l7SHK6jQDFRoBiq0Qd+Pz5NOcZf+n99Zj26N389hvX4/nuKFZqBCM1ChGajQDFRoBio0AxWagQrNQIVmoEIzUKEZqNAMVGgGKjQDFZqBCs1AhWagQjNQoRmo0AxUaAYqNAMVmoEKzUCFZqBCM1ChGajQDFRoBio0nw8qtL/h+aB9f/5bP349OrdeP7+neKEZqNAMVGgGKjQDFZqBCs1AhWagQjNQoRmo0AxUaAYqNAMVmoEKzUCFZqBCM1ChGajQDFRoBio0AxWagQrNQIVmoEIzUKEZqNAMVGgGKjQDFZqBCs3ngwrN54MecYHnd/Z9/Hp0br1+fk/xQjNQoRmo0AxUaAYqNAMVmoEKzUCFZqBCM1ChGajQDFRoBio0AxWagQrNQIVmoEIzUKEZqNAMVGgGKjQDFZqBCs1AhWagQjNQoRmo0AxUaAYqNAMVms8HFZrPBz3iAs/v7Pv49ejcev38nuKF1lKgw+Q5+di93pPnZFi/SyjNBDpJlsmsmIySWbK0UbQ2At2unaN6nCSjZFnPxNFGoE976twaJU/1TBBtBFqe2efJIBkkr8VwUmyLpI1ASz92G2W142JbJO0FqpvSXqAvSZJhMi+Gq2JbJG0EWrY4ST6S9dfrzvJ6VCRtBLpI1vXsl3WyqGeCaCPQTfK4p9F18ljPxNFGoNk1Wp7rk8yS+2TzdSiSZgJNsinuMW15ZsdrKVDdIAMVmoEK7a4e/JU+6oFuhSuo0NpYQQfFtqvpTXEFFZqBCs1AhWagQmvjR5I/jG6WK6jQ2lhBy9tMuimuoEIzUKEZqND+Axb7wb5luWP8AAAAAElFTkSuQmCC",
           "type": "image"
          },
          {
           "name": "1",
           "source": "data:image/png;base64,iVBORw0KGgoAAAANSUhEUgAAAOAAAADgCAIAAACVT/22AAAFOUlEQVR4Xu3c71HiWhyH8S93LAOsQ+yDWwENyNYhNGAF2gdYh9iH9wWDezxz+SNrch42z2d8kfmtyTDs40mITkbz+TwSVteBevzjPP5x/9QDicRAhWagQjNQoRmo0AxUaAYqNAMVmoEKzUCFZqBCM1ChGajQDFRoBio0AxWagQrNQIVmoEIzUKEZqNAMVGgGKjQDFZqBCs1AhWagQjNQoRmo0AxUaKOuH58n/QlXUKEZqNAMVGgGKjQDFZqBCs1AhWagQjNQoRmo0AxUaAYqNAMVmoEKzUCFZqBCM1ChGajQDFRoBio0AxWagQrNQIVmoEIzUKEZqNAMVGgGKjQDFZqBCs1AhWagQrupBx14enqqRz9nPp97/CN6OH49+lGuoEIzUO2Nk8fkY//1ljwm4/q7emagSpLMknWyKCaTZJGsGzdqoNqvnZN6nCSTZF3P+sQI9C55Ttb7k8s6eU7u6u9SVx4O1LkzSR7qWW9aB3qXvCWbZJZM98NpMks2yZuZ9qI8sy+TUTJKXorhrNjuV9NAH5LNqZ/dTcsf3yH6td8oq/1cO3rXLtCHZFnP/t/SRoerUaB3Z9e5s/Rc35fnJMn463/QptjuV6NAd+/Ct1ywi85UtjhLPpLt1+vO8nq0Xy0CvTt63XnIxEW0M6tkW89+2yaretabFoGWV9/fcvGOOu49uT/Q6Da5r2d9ahHoxb+ZuHhHnbRrtPpgsEhuk/evw361CPTiexYX76hzvBf3mHbandk/tQhUOluLQC++Z3HxjrpaLQK9+Jrm4h11tVoE+q1b9KWLd9Rxn38D+lH/S3MtAn09cEfjuG3yWs/012sRaJJ/68FpF+yiM+3+fGn3BdMo0Ndv3nVfuHwOVKNAk6zObnSBuCGnJtoFmmSVTI9ej26TqXUOWtNAk7wmt8k0eSluc26Sl2Sa3HpmH7o+Htxw2qufgZri3V361HoFlY5irKBqi3d36ZMrqNAMVGgGKrRR14/Pk/7ETbp/fmc9uja+P8d1+v54iheagQrNQIVmoEIzUKEZqNAMVGgGKjQDFZqBCs1AhWagQjNQoRmo0AxUaAYqNAMVmoEKzUCFZqBCM1ChGajQDFRoBio0AxWagQrNQIVmoEIzUKEZqNB8PqjQ/obng3b9+q/9+PXop3X6+j3FC81AhWagQjNQoRmo0AxUaAYqNAMVmoEKzUCFZqBCM1ChGajQDFRoBio0AxWagQrNQIVmoEIzUKEZqNAMVGgGKjQDFZqBCs1AhWagQjNQoRmo0AxUaD4fVGg+H/SEHp7f2fXx69FP6/T1e4oXmoEKzUCFZqBCM1ChGajQDFRoBio0AxWagQrNQIVmoEIzUKEZqNAMVGgGKjQDFZqBCs1AhWagQjNQoRmo0AxUaAYqNAMVmoEKzUCFZqBCM1ChGajQfD6o0Hw+6Ak9PL+z6+PXo5/W6ev3FC+0IQU6Th6Tj/3XW/KYjOvvEspgAp0l62RRTCbJIlnbKNowAt2tnZN6nCSTZF3PxDGMQB8O1LkzSR7qmSCGEWh5Zl8mo2SUvBTDWbEtkmEEWvq13yirnRbbIhleoLoqwwv0OUkyTpbFcFNsi2QYgZYtzpKPZPv1urO8HhXJMAJdJdt69ts2WdUzQQwj0Pfk/kCj2+S+noljGIFm32h5rk+ySG6T969DkQwm0CTvxT2mHc/seEMKVFfIQIVmoEK7qQd/pY96oGvhCiq0Yaygo2Lb1fSquIIKzUCFZqBCM1ChDeNDkh+MrpYrqNCGsYKWt5l0VVxBhWagQjNQof0Hv4LBvuJ54cIAAAAASUVORK5CYII=",
           "type": "image"
          },
          {
           "name": "2",
           "source": "data:image/png;base64,iVBORw0KGgoAAAANSUhEUgAAAOAAAADgCAIAAACVT/22AAAFYElEQVR4Xu3c71HiWhyH8a93LEOsA7YPrIAGYOtYaMAKsA+gjsU+vC8YvPHclT9Zk/MQn8/4wvnpyTDuYxKPbu5ms1kkrK4D9finefzT/ikHEomBCs1AhWagQjNQoRmo0AxUaAYqNAMVmoEKzUCFZqBCM1ChGajQDFRoBio0AxWagQrNQIVmoEIzUKEZqNAMVGgGKjQDFZqBCs1AhWagQjNQoRmo0O66fnye9Dc8gwrNQIVmoEIzUKEZqNAMVGgGKjQDFZqBCs1AhWagQjNQoRmo0AxUaAYqNAMVmoEKzUCFZqBCM1ChGajQDFRoBio0AxWagQrNQIVmoEIzUKEZqNAMVGgGKjQDFdp9OejA8/NzOfo6s9nM45/Qw/HL0ZfyDCo0A9XRQ/IreTu+/U5+JQ/lZ/XMQJUkmSabZNGYjJJFsqncqIHqeO4cleMkGSWbctYnRqDjZJ1sjheXTbJOxuVnqSvzT+o8GCXzctab2oGOk9/JNpkmk+NwkkyTbfLbTHvRvLIvk7vkLnlpDKeN9/tVNdB5sj33vbut+e37Hf08vtOs9v3c0bt6gc6TZTn7s6WNfl+VAh1fXOfB0mt9X9ZJkoeP/0Dbxvv9qhTo4atwlRZLdKFmi9PkLdl/vO9s3o/2q0ag45P3nZ8ZeRLtzCrZl7P/7JNVOetNjUCbd99Xab1Qp70mPz5pdJ/8KGd9qhFo699MtF6osw6NFj8YLJLH5PXjsF81Am29Z9F6oS7x2thjOqh3ZX9XI1DpYjUCbb1n0XqhblaNQFvf07ReqJtVI9CrtuibWi/Uae9/A/pWfqS6GoHuPtnROG2f7MqZBq9GoEmeysF5LZboQoc/Xzq8wVQKdHflrvvC0+c3VSnQJKuLG10gNuRURb1Ak6ySycn70X0ysc5vrWqgSXbJYzJJXhrbnNvkJZkkj17Zv7s+Htxw3s6fgari7S69q30GlU5inEFVF2936Z1nUKEZqNAMVGh3XT8+T/ob9+n++Z3l6Nb49Tmt06+Pl3ihGajQDFRoBio0AxWagQrNQIVmoEIzUKEZqNAMVGgGKjQDFZqBCs1AhWagQjNQoRmo0AxUaAYqNAMVmoEKzUCFZqBCM1ChGajQDFRoBio0AxWagQrN54MKbQjPB+369d/68cvRV+v09XuJF5qBCs1AhWagQjNQoRmo0AxUaAYqNAMVmoEKzUCFZqBCM1ChGajQDFRoBio0AxWagQrNQIVmoEIzUKEZqNAMVGgGKjQDFZqBCs1AhWagQjNQoRmo0Hw+qNB8PugZPTy/s+vjl6Ov1unr9xIvNAMVmoEKzUCFZqBCM1ChGajQDFRoBio0AxWagQrNQIVmoEIzUKEZqNAMVGgGKjQDFZqBCs1AhWagQjNQoRmo0AxUaAYqNAMVmoEKzUCFZqBCM1Ch+XxQofl80DN6eH5n18cvR1+t09fvJV5oBio0AxWagQrtewQ6TtbJJnlL3pJNsk7G5WcJ6L4cDMwhzdHH4SRJMk32yVOy+/hRkQz6DDpPtv+rs2mUbJN5ORbHcAOdJ8ty9mdLG+UaaKDji+s8WHpLCjXQQNfl4LwWS9S9IQY6Pnnf+ZmRJ1GiIQa6KAeXar1QnRlioA/l4FKtF6ozQwz0sM3ZQuuF6swQA9WADDHQbTm4VOuF6swQA30tB5dqvVCdGWKgV23RN7VeqM4MMdBdsi9n5+39qxGiIQaa5KkcnNdiibo30EB3V+66Lzx9Qg000CSrixtdJKtyJojhBppklUxO3o/uk4l1og060CS75DGZJC+Nbc5t8pJMkkev7HRD/y8fBzt/BrpVQz+D6sYZqNAMVGgGKjQDFdq/ORrI24OGp80AAAAASUVORK5CYII=",
           "type": "image"
          },
          {
           "name": "3",
           "source": "data:image/png;base64,iVBORw0KGgoAAAANSUhEUgAAAOAAAADgCAIAAACVT/22AAAFWUlEQVR4Xu3c71HiahxH8a93LEOsA7YPrIAG4Nax0IAVYB9AHWIf3hcM3vjs8i8h5BjOZ3zh/PTJMMyZJD7L5mEymUTCajtQj3+cxz/un3IgkRio0AxUaAYqNAMVmoEKzUCFZqBCM1ChGajQDFRoBio0AxWagQrNQIVmoEIzUKEZqNAMVGgGKjQDFZqBCs1AhWagQjNQoRmo0AxUaAYqNAMVmoEK7aHtx+dJTXgGFZqBCs1AhWagQjNQoRmo0AxUaAYqNAMVmoEKzUCFZqBCM1ChGajQDFRoBio0AxWagQrNQIVmoEIzUKEZqNAMVGgGKjQDFZqBCs1AhWagQjNQoRmo0AxUaAYqtMdy0ILX19dydD2TycTjH3GD45ejq/IMKjRSoE/J7+Rz//We/E6eyt/SXcEEOk5WyawyGSSzZGWjd40R6O7cOSjHSTJIVuVM94MR6PRAnTuDZFrOdE3DZJms9jdXq2SZDMvf6gQj0OqVfZ48JA/JW2U4rnyvKxom78k6GSej/XCUjJN18t59poxAq/7df1Ot9uu90xVNk/Wpa9e648sXL1DdxjSZl7O/m3fZKC/QZZLk6fvbt658r+aGZ9e5M+/sWs8ItPpmjZPPZPv9vrN6P6rmdmeBi9RYcg2MQBfJtpz9b5ssypnqGx697zxk0M1JlBHoR/LrQKPb5Fc5UyPVvz4vUnthA4xAs2+0uDGaJc/Jx/ehGqr9L3O1FzaACTTJR2WPaccrextq79nVXtgAKVDpDwZ6f2rv2dVe2ICB3p/a9/S1FzbACPTrM6Cf5U90fRdt0VfVXtgAI1Dd0ubAjt5x22RTzm6AEeju40u7L93ASzk4rcaSa2AEqhvbXLjrPuvm9BkDvV+LsxuddbkhbaB3bJGMjt6PbpNRl3XGQO/dJnlORslbZZtznbwlo+S5syv7l1s8uOE0d5e6tensb6CTPIMKjXEGdXdJB3gGFZqBCs1AhfbQ9uPzpCYe0/7zO8vRT+P7c1yr74+XeKEZqNAMVGgGKjQDFZqBCs1AhWagQjNQoRmo0AxUaAYqNAMVmoEKzUCFZqBCM1ChGajQDFRoBio0AxWagQrNQIVmoEIzUKEZqNAMVGgGKjQDFZqBCs3ngwqtD88Hbfv1//Tjl6Nra/X1e4kXmoEKzUCFZqBCM1ChGajQDFRoBio0AxWagQrNQIVmoEIzUKEZqNAMVGgGKjQDFZqBCs1AhWagQjNQoRmo0AxUaAYqNAMVmoEKzUCFZqBCM1ChGajQfD6o0Hw+6Ak3eH5n28cvR9fW6uv3Ei80AxWagQrNQIVmoEIzUKEZqNAMVGgGKjQDFZqBCs1AhWagQjNQoRmo0AxUaAYqNAMVmoEKzUCFZqBCM1ChGajQDFRoBio0AxWagQrNQIVmoEIzUKH5fFCh+XzQE27w/M62j1+Orq3V1+8lXmgGKjQDFZqBCu0+Ah0my2SVfCafySpZJsPytwT0WA56Zpfm4PtwlCQZJ9vkJdl8/6lIen0GnSbrP+qsGiTrZFqOxdHfQKfJvJz93dxGuXoa6PDsOnfm3pJC9TTQZTk4rcYSta+PgQ6P3nceMvAkStTHQGfl4Fy1F6o1fQz0qRycq/ZCtaaPge62OWuovVCt6WOg6pE+BrouB+eqvVCt6WOgH+XgXLUXqjV9DPSiLfqq2gvVmj4Gukm25ey0rZ8aIepjoEleysFpNZaofT0NdHPhrvvM0ydUTwNNsji70VmyKGeC6G+gSRbJ6Oj96DYZWSdarwNNskmek1HyVtnmXCdvySh59spO1/f/8rGz8W+gn6rvZ1D9cAYqNAMVmoEKzUCF9h+QhMjbNytVWQAAAABJRU5ErkJggg==",
           "type": "image"
          }
         ],
         "layout": {
          "margin": {
           "t": 60
          }
         },
         "name": "0"
        },
        {
         "data": [
          {
           "name": "4",
           "source": "data:image/png;base64,iVBORw0KGgoAAAANSUhEUgAAAOAAAADgCAIAAACVT/22AAAEeUlEQVR4Xu3c3U0cZxiA0ZfIZRjXAe6DVEADJnUYGnAFdh9AHcZ9OBcIZz0Ji9kf9nE4R1ysXpjRavVoZvhA39H5+flA1r4Ddf71nH+9P5YDKBEoaQIlTaCkCZQ0gZImUNIESppASRMoaQIlTaCkCZQ0gZImUNIESppASRMoaQIlTaCkCZQ0gZImUNIESppASRMoaQIlTaCkCZQ0gZJ2tO/t82Ar+w7U+ddz/vXc4kkTKGkCJU2gpAmUNIGSJlDSBEqaQEkTKGkCJU2gpAmUNIGSJlDSBEqaQEkTKGkCJU2gpAmUNIGSJlDSBEqaQEkTKGkCJU2gpAmUNIGSZn9Q0lxBSRMoaQIlTaCkCZQ0gZImUNIESppASRMoaQIlTaCkCZQ0gZImUNIESppASRMoaQIlTaCkCZQ0gZImUNIESppASRMoaQIlTaCkCZQ0gZImUNIEStqb5WAPPn36tBztzvn5ufOv8QLnX452yhWUtFKgb2c+znx/+Po683Hm7fKneFUygZ7NXM9crEyOZy5mrjX6qjUCvb92Hi/HMzPHM9fLGa9HI9APj9R573jmw3LGLp3MfJ65fni4up75PHOy/KmDaAS6eme/nDmaOZr5sjI8W3nNDp3MfJ25mTmbOX0Yns6czdzMfD18po1AV/318GK12h+fHTv0YebmqXvXzYFvX71AeRkfZi6Xs/92echGe4F+npmZtz9/fDcrr9neyS/Xee/yYPf6RqCrH9bZzPeZu5+fO1efR9ne/VXgWTY4ZBcagV7N3C1n/7ibuVrO2NzJ2ufOxxwf5iLaCPTbzPtHGr2beb+csZXV3z6fZeMDt9AIdB4aXTwYXcy8m/n285AtbfyXuY0P3EIm0Jn5trLGdM+dfR82XrPb+MAtlAKFfxHo67Pxmt3GB25BoK/Pxs/0Gx+4hUagP/4H9PvyO+zes5boV2184BYagfKSbh9Z0VvvbuZ2OXsBjUDv/33p/osX8Ody8LQNDtmFRqC8sNtnrrpfHObyOQJ9va5+udGLQy5IC/QVu5o5Xfs8ejdzesg6R6Cv3e3Mu5nTmS8ry5w3M19mTmfeHezO/sNLbNzwNKtLh3V7sN+BnuQKSlrjCmp1iUe4gpImUNIEStrRvrfPg228mf3v37kc/W58Puvt9fNxiydNoKQJlDSBkiZQ0gRKmkBJEyhpAiVNoKQJlDSBkiZQ0gRKmkBJEyhpAiVNoKQJlDSBkiZQ0gRKmkBJEyhpAiVNoKQJlDSBkiZQ0gRKmv1BSfs/7A+67/f/u59/Odq1vb5/t3jSBEqaQEkTKGkCJU2gpAmUNIGSJlDSBEqaQEkTKGkCJU2gpAmUNIGSJlDSBEqaQEkTKGkCJU2gpAmUNIGSJlDSBEqaQEkTKGkCJU2gpNkflDT7gz7hBfbv3Pf5l6Nd2+v7d4snTaCkCZQ0gZImUNIESppASRMoaQIlTaCkCZQ0gZImUNIESppASRMoaQIlTaCkCZQ0gZImUNIESppASRMoaQIlTaCkCZQ0gZImUNIEStrfVZOaF1ZBIAYAAAAASUVORK5CYII=",
           "type": "image"
          },
          {
           "name": "5",
           "source": "data:image/png;base64,iVBORw0KGgoAAAANSUhEUgAAAOAAAADgCAIAAACVT/22AAAEfUlEQVR4Xu3c4TEkWxzG4detDQNxsHm4EUiAG8eSgAjIA3EgD/fDFHd0XYNZ3ee1nqd8mPqv7pqyP93tUGfn+Pg4UGvuQJ1/M+ff7K/pAJoIlGoCpZpAqSZQqgmUagKlmkCpJlCqCZRqAqWaQKkmUKoJlGoCpZpAqSZQqgmUagKlmkCpJlCqCZRqAqWaQKkmUKoJlGoCpZpAqSZQqgmUajtzb58Hv2XuQJ1/M+ffzC2eagKlmkCpJlCqCZRqAqWaQKkmUKoJlGoCpZpAqSZQqgmUagKlmkCpJlCqCZRqAqWaQKkmUKoJlGoCpZpAqSZQqgmUagKlmkCpJlCqCZRqAqWa/UGp5gpKNYFSTaBUEyjVBEo1gVJNoFQTKNUESjWBUk2gVBMo1QRKNYFSTaBUEyjVBEo1gVJNoFQTKNUESjWBUk2gVBMo1QRKNYFSTaBUEyjVBEo1gVJNoFQTKNV+TAczuLi4mI4+z/HxsfNvsMD5p6NP5QpKNYHyZDf5lTw+fdwlv5Ld6WctTKAkSY6S6+R0bbKXnCbXgxsVKE/Xzr3pOEn2kuvpbEkdgR4kl8n1083lOrlMDqafxVxOXqlzZS85mc4WMzrQg+QuuUmOksOn4WFylNwkdzJdxPqd/SzZSXaSq7Xh0drrZQ0N9CS5eet792bkt+939M/Ti/Vqn68dixsX6ElyNp39vzONfl+DAj14d50rZ+71S7lMkuy+/A+6WXu9rEGBrr4KH7LFIbzTeotHyWNy//K5c/15dFkjAj3Y+Nz5mj0X0dmcJ/fT2X/uk/PpbDEjAl1/+v6QrQ9ks4fk5yuN3ic/p7MljQh0699MbH0gb1o1OvnB4DTZTx5eDpc1ItCt1yy2PpD3eFhbY1oZd2d/NiJQeLcRgW69ZrH1gXxZIwLd+plm6wP5skYE+qEl+nVbH8hmz38D+jj9l+FGBHr7yorGZvfJ7XTGH29EoEn+ng7etsUhvNPqz5dWH2UGBXr7wVX3U5fPb2pQoEnO393oacWCHEOMCzTJeXK48Xn0PjlU57c2NNAkt8l+cphcrS1z3iRXyWGy787+3S2xccPbbv0MNFTf6tKz0VdQ2KjjCspYfatLz1xBqSZQqgmUajtzb58Hv+NH5t+/czr6anx9Npv16+MWTzWBUk2gVBMo1QRKNYFSTaBUEyjVBEo1gVJNoFQTKNUESjWBUk2gVBMo1QRKNYFSTaBUEyjVBEo1gVJNoFQTKNUESjWBUk2gVBMo1QRKNYFSzf6gVPsT9ged+/1/9fNPR59t1vfvFk81gVJNoFQTKNUESjWBUk2gVBMo1QRKNYFSTaBUEyjVBEo1gVJNoFQTKNUESjWBUk2gVBMo1QRKNYFSTaBUEyjVBEo1gVJNoFQTKNUESjWBUs3+oFSzP+gbFti/c+7zT0efbdb37xZPNYFSTaBUEyjVBEo1gVJNoFQTKNUESjWBUk2gVBMo1QRKNYFSTaBUEyjVBEo1gVJNoFQTKNUESjWBUk2gVBMo1QRKNYFSTaBUEyjVBEo1gVLtX/4amhfJiDMyAAAAAElFTkSuQmCC",
           "type": "image"
          },
          {
           "name": "6",
           "source": "data:image/png;base64,iVBORw0KGgoAAAANSUhEUgAAAOAAAADgCAIAAACVT/22AAAEfUlEQVR4Xu3c4TEkWxzG4detDQNxsHm4EUiAG8eSgAjIA3EgD/fDFHd0XYNZ3ee1nqd8mPqv7pqyP93tUGfn+Pg4UGvuQJ1/M+ff7K/pAJoIlGoCpZpAqSZQqgmUagKlmkCpJlCqCZRqAqWaQKkmUKoJlGoCpZpAqSZQqgmUagKlmkCpJlCqCZRqAqWaQKkmUKoJlGoCpZpAqSZQqgmUajtzb58Hv2XuQJ1/M+ffzC2eagKlmkCpJlCqCZRqAqWaQKkmUKoJlGoCpZpAqSZQqgmUagKlmkCpJlCqCZRqAqWaQKkmUKoJlGoCpZpAqSZQqgmUagKlmkCpJlCqCZRqAqWa/UGp5gpKNYFSTaBUEyjVBEo1gVJNoFQTKNUESjWBUk2gVBMo1QRKNYFSTaBUEyjVBEo1gVJNoFQTKNUESjWBUk2gVBMo1QRKNYFSTaBUEyjVBEo1gVJNoFQTKNV+TAczuLi4mI4+z/HxsfNvsMD5p6NP5QpKNYHyZDf5lTw+fdwlv5Ld6WctTKAkSY6S6+R0bbKXnCbXgxsVKE/Xzr3pOEn2kuvpbEkdgR4kl8n1083lOrlMDqafxVxOXqlzZS85mc4WMzrQg+QuuUmOksOn4WFylNwkdzJdxPqd/SzZSXaSq7Xh0drrZQ0N9CS5eet792bkt+939M/Ti/Vqn68dixsX6ElyNp39vzONfl+DAj14d50rZ+71S7lMkuy+/A+6WXu9rEGBrr4KH7LFIbzTeotHyWNy//K5c/15dFkjAj3Y+Nz5mj0X0dmcJ/fT2X/uk/PpbDEjAl1/+v6QrQ9ks4fk5yuN3ic/p7MljQh0699MbH0gb1o1OvnB4DTZTx5eDpc1ItCt1yy2PpD3eFhbY1oZd2d/NiJQeLcRgW69ZrH1gXxZIwLd+plm6wP5skYE+qEl+nVbH8hmz38D+jj9l+FGBHr7yorGZvfJ7XTGH29EoEn+ng7etsUhvNPqz5dWH2UGBXr7wVX3U5fPb2pQoEnO393oacWCHEOMCzTJeXK48Xn0PjlU57c2NNAkt8l+cphcrS1z3iRXyWGy787+3S2xccPbbv0MNFTf6tKz0VdQ2KjjCspYfatLz1xBqSZQqgmUajtzb58Hv+NH5t+/czr6anx9Npv16+MWTzWBUk2gVBMo1QRKNYFSTaBUEyjVBEo1gVJNoFQTKNUESjWBUk2gVBMo1QRKNYFSTaBUEyjVBEo1gVJNoFQTKNUESjWBUk2gVBMo1QRKNYFSzf6gVPsT9ged+/1/9fNPR59t1vfvFk81gVJNoFQTKNUESjWBUk2gVBMo1QRKNYFSTaBUEyjVBEo1gVJNoFQTKNUESjWBUk2gVBMo1QRKNYFSTaBUEyjVBEo1gVJNoFQTKNUESjWBUs3+oFSzP+gbFti/c+7zT0efbdb37xZPNYFSTaBUEyjVBEo1gVJNoFQTKNUESjWBUk2gVBMo1QRKNYFSTaBUEyjVBEo1gVJNoFQTKNUESjWBUk2gVBMo1QRKNYFSTaBUEyjVBEo1gVLtX/4amhfJiDMyAAAAAElFTkSuQmCC",
           "type": "image"
          },
          {
           "name": "7",
           "source": "data:image/png;base64,iVBORw0KGgoAAAANSUhEUgAAAOAAAADgCAIAAACVT/22AAAEeUlEQVR4Xu3c3U0cZxiA0ZfIZRjXAe6DVEADJnUYGnAFdh9AHcZ9OBcIZz0Ji9kf9nE4R1ysXpjRavVoZvhA39H5+flA1r4Ddf71nH+9P5YDKBEoaQIlTaCkCZQ0gZImUNIESppASRMoaQIlTaCkCZQ0gZImUNIESppASRMoaQIlTaCkCZQ0gZImUNIESppASRMoaQIlTaCkCZQ0gZJ2tO/t82Ar+w7U+ddz/vXc4kkTKGkCJU2gpAmUNIGSJlDSBEqaQEkTKGkCJU2gpAmUNIGSJlDSBEqaQEkTKGkCJU2gpAmUNIGSJlDSBEqaQEkTKGkCJU2gpAmUNIGSZn9Q0lxBSRMoaQIlTaCkCZQ0gZImUNIESppASRMoaQIlTaCkCZQ0gZImUNIESppASRMoaQIlTaCkCZQ0gZImUNIESppASRMoaQIlTaCkCZQ0gZImUNIEStqb5WAPPn36tBztzvn5ufOv8QLnX452yhWUtFKgb2c+znx/+Po683Hm7fKneFUygZ7NXM9crEyOZy5mrjX6qjUCvb92Hi/HMzPHM9fLGa9HI9APj9R573jmw3LGLp3MfJ65fni4up75PHOy/KmDaAS6eme/nDmaOZr5sjI8W3nNDp3MfJ25mTmbOX0Yns6czdzMfD18po1AV/318GK12h+fHTv0YebmqXvXzYFvX71AeRkfZi6Xs/92echGe4F+npmZtz9/fDcrr9neyS/Xee/yYPf6RqCrH9bZzPeZu5+fO1efR9ne/VXgWTY4ZBcagV7N3C1n/7ibuVrO2NzJ2ufOxxwf5iLaCPTbzPtHGr2beb+csZXV3z6fZeMDt9AIdB4aXTwYXcy8m/n285AtbfyXuY0P3EIm0Jn5trLGdM+dfR82XrPb+MAtlAKFfxHo67Pxmt3GB25BoK/Pxs/0Gx+4hUagP/4H9PvyO+zes5boV2184BYagfKSbh9Z0VvvbuZ2OXsBjUDv/33p/osX8Ody8LQNDtmFRqC8sNtnrrpfHObyOQJ9va5+udGLQy5IC/QVu5o5Xfs8ejdzesg6R6Cv3e3Mu5nTmS8ry5w3M19mTmfeHezO/sNLbNzwNKtLh3V7sN+BnuQKSlrjCmp1iUe4gpImUNIEStrRvrfPg228mf3v37kc/W58Puvt9fNxiydNoKQJlDSBkiZQ0gRKmkBJEyhpAiVNoKQJlDSBkiZQ0gRKmkBJEyhpAiVNoKQJlDSBkiZQ0gRKmkBJEyhpAiVNoKQJlDSBkiZQ0gRKmv1BSfs/7A+67/f/u59/Odq1vb5/t3jSBEqaQEkTKGkCJU2gpAmUNIGSJlDSBEqaQEkTKGkCJU2gpAmUNIGSJlDSBEqaQEkTKGkCJU2gpAmUNIGSJlDSBEqaQEkTKGkCJU2gpNkflDT7gz7hBfbv3Pf5l6Nd2+v7d4snTaCkCZQ0gZImUNIESppASRMoaQIlTaCkCZQ0gZImUNIESppASRMoaQIlTaCkCZQ0gZImUNIESppASRMoaQIlTaCkCZQ0gZImUNIEStrfVZOaF1ZBIAYAAAAASUVORK5CYII=",
           "type": "image"
          }
         ],
         "layout": {
          "margin": {
           "t": 60
          }
         },
         "name": "1"
        },
        {
         "data": [
          {
           "name": "8",
           "source": "data:image/png;base64,iVBORw0KGgoAAAANSUhEUgAAAOAAAADgCAIAAACVT/22AAAEcUlEQVR4Xu3c3VEUaRiA0ZctwxDjAPNgIyAB2TiEBIxA8wDiEPNwLyjcsXcZZH6Yx+Wc4mLqle6iup7qr/mk+uj8/Hwga9+BOv96zr/eH8sBlAiUNIGSJlDSBEqaQEkTKGkCJU2gpAmUNIGSJlDSBEqaQEkTKGkCJU2gpAmUNIGSJlDSBEqaQEkTKGkCJU2gpAmUNIGSJlDSBEqaQEk72vfr82Ar+w7U+ddz/vUs8aQJlDSBkiZQ0gRKmkBJEyhpAiVNoKQJlDSBkiZQ0gRKmkBJEyhpAiVNoKQJlDSBkiZQ0gRKmkBJEyhpAiVNoKQJlDSBkiZQ0gRKmkBJ835Q2vYdqPOv5/zrWeJJEyhpAiVNoKQJlDSBkiZQ0gRKmkBJEyhpAiVNoKQJlDSBkiZQ0gRKmkBJEyhpAiVNoKQJlDSBkiZQ0gRKmkBJEyhpAiVNoKQJlDSBkub9oKS5g5ImUNIESppASRMoaQIlTaCkCZQ0gZImUNIESppASRMoaQIlTaCkCZQ0gZImUNIESppASRMoaQIlTaCkCZQ0gZImUNIESppASRMoaQIlTaCkCZS0N8vBHnz69Gk52p3z83PnX+MFzr8c7ZQ7KGmlQN/OfJz5/vD1debjzNvld/GqZAI9m7meuViZHM9czFxr9FVrBHp/7zxejmdmjmeulzNej0agHx6p897xzIfljF06mfk8c/3wcHU983nmZPldB9EIdHVlv5w5mjma+bIyPFv5zA6dzHyduZk5mzl9GJ7OnM3czHw9fKaNQFf99fBhtdof144d+jBz89TadXPg5asXKC/jw8zlcvbfLg/ZaC/QzzMz8/bny3ez8pntnfxynfcuD7bWNwJdvVhnM99n7n5+7lx9HmV793eBZ9ngkF1oBHo1c7ec/eNu5mo5Y3Mna587H3N8mJtoI9BvM+8fafRu5v1yxlZWf/t8lo0P3EIj0HlodPFgdDHzbubbz0O2tPH/zG184BYygc7Mt5U9pntW9n3YeM9u4wO3UAoU/kWgr8/Ge3YbH7gFgb4+Gz/Tb3zgFhqB/vgb0O/Lf2H3nrVFv2rjA7fQCJSXdPvIjt56dzO3y9kLaAR6/+dL91+8gD+Xg6dtcMguNALlhd0+c9f94jC3zxHo63X1y41eHHJDWqCv2NXM6drn0buZ00PWOQJ97W5n3s2cznxZ2ea8mfkyczrz7mAr+w8v8eKGp9ldOqzbg/0O9CR3UNIad1C7SzzCHZQ0gZImUNKO9v36PNjGm9n/+zuXo9+N67PeXq+PJZ40gZImUNIESppASRMoaQIlTaCkCZQ0gZImUNIESppASRMoaQIlTaCkCZQ0gZImUNIESppASRMoaQIlTaCkCZQ0gZImUNIESppASRMoad4PStr/4f2g+/75f/fzL0e7ttef3xJPmkBJEyhpAiVNoKQJlDSBkiZQ0gRKmkBJEyhpAiVNoKQJlDSBkiZQ0gRKmkBJEyhpAiVNoKQJlDSBkiZQ0gRKmkBJEyhpAiVNoKQJlLS/AfTVlHOKn+cSAAAAAElFTkSuQmCC",
           "type": "image"
          },
          {
           "name": "9",
           "source": "data:image/png;base64,iVBORw0KGgoAAAANSUhEUgAAAOAAAADgCAIAAACVT/22AAAEdUlEQVR4Xu3c4TEkWxzG4detDQNxsHm4EUiAG8eSgAjIA3EgD/fDFHd0XY1Z0+e1nqd8mPqv7lKzP33aoXrn+Pg4UGvbgTr/POef99d0AE0ESjWBUk2gVBMo1QRKNYFSTaBUEyjVBEo1gVJNoFQTKNUESjWBUk2gVBMo1QRKNYFSTaBUEyjVBEo1gVJNoFQTKNUESjWBUk2gVBMo1QRKtZ1tPz4Pfsu2A3X+ec4/zxJPNYFSTaBUEyjVBEo1gVJNoFQTKNUESjWBUk2gVBMo1QRKNYFSTaBUEyjVBEo1gVJNoFQTKNUESjWBUk2gVBMo1QRKNYFSTaBUEyjVBEo1gVLN80Hptu1AnX+e88+zxFNNoFQTKNUESjWBUk2gVBMo1QRKNYFSTaBUEyjVBEo1gVJNoFQTKNUESjWBUk2gVBMo1QRKNYFSTaBUEyjVBEo1gVJNoFQTKNUESjWBUk2gVPN8UKq5glJNoFQTKNUESjWBUk2gVBMo1QRKNYFSTaBUEyjVBEo1gVJNoFQTKNUESjWBUk2gVBMo1QRKNYFSTaBUEyjVBEo1gVJNoFQTKNUESjWBUk2gVBMo1QRKtR/TwRZcXFxMR5/n+PjY+WcscP7p6FO5glJNoDzZTX4lj08fd8mvZHf6WQsTKEmSo+Q6OV2b7CWnyfXgRgXK07VzbzpOkr3kejpbUkegB8llcv20uFwnl8nB9LPYlpNX6lzZS06ms8WMDvQguUtukqPk8Gl4mBwlN8mdTBexvrKfJTvJTnK1Njxae72soYGeJDdvfe/ejPz2/Y7+eXqxXu3ztWNx4wI9Sc6ms/93ptHva1CgB++uc+XMWr+UyyTJ7sv/oJu118saFOjqXfiQDQ7hndZbPEoek/uX953r96PLGhHowex952v2XES35jy5n87+c5+cT2eLGRHo+t33h2x8IPMekp+vNHqf/JzOljQi0I1/M7Hxgbxp1ejkB4PTZD95eDlc1ohAN96z2PhA3uNhbY9pZdzK/mxEoPBuIwLdeM9i4wP5skYEuvE9zcYH8mWNCPRDW/TrNj6Qec9/A/o4/ZfhRgR6+8qOxrz75HY64483ItAkf08Hb9vgEN5p9edLq48ygwK9/eCu+6nL5zc1KNAk5+9u9LRiQ44hxgWa5Dw5nL0fvU8O1fmtDQ00yW2ynxwmV2vbnDfJVXKY7FvZv7slHtzwtls/Aw3Vt7v0bPQVFGZ1XEEZq2936ZkrKNUESjWBUm1n24/Pg9/xI9t/fud09NV4f+Zt9f2xxFNNoFQTKNUESjWBUk2gVBMo1QRKNYFSTaBUEyjVBEo1gVJNoFQTKNUESjWBUk2gVBMo1QRKNYFSTaBUEyjVBEo1gVJNoFQTKNUESjWBUk2gVPN8UKr9Cc8H3fbX/9XPPx19tq1+/ZZ4qgmUagKlmkCpJlCqCZRqAqWaQKkmUKoJlGoCpZpAqSZQqgmUagKlmkCpJlCqCZRqAqWaQKkmUKoJlGoCpZpAqSZQqgmUagKlmkCpJlCqCZRq/wKda5Rzp/62cgAAAABJRU5ErkJggg==",
           "type": "image"
          },
          {
           "name": "10",
           "source": "data:image/png;base64,iVBORw0KGgoAAAANSUhEUgAAAOAAAADgCAIAAACVT/22AAAEdUlEQVR4Xu3c4TEkWxzG4detDQNxsHm4EUiAG8eSgAjIA3EgD/fDFHd0XY1Z0+e1nqd8mPqv7lKzP33aoXrn+Pg4UGvbgTr/POef99d0AE0ESjWBUk2gVBMo1QRKNYFSTaBUEyjVBEo1gVJNoFQTKNUESjWBUk2gVBMo1QRKNYFSTaBUEyjVBEo1gVJNoFQTKNUESjWBUk2gVBMo1QRKtZ1tPz4Pfsu2A3X+ec4/zxJPNYFSTaBUEyjVBEo1gVJNoFQTKNUESjWBUk2gVBMo1QRKNYFSTaBUEyjVBEo1gVJNoFQTKNUESjWBUk2gVBMo1QRKNYFSTaBUEyjVBEo1gVLN80Hptu1AnX+e88+zxFNNoFQTKNUESjWBUk2gVBMo1QRKNYFSTaBUEyjVBEo1gVJNoFQTKNUESjWBUk2gVBMo1QRKNYFSTaBUEyjVBEo1gVJNoFQTKNUESjWBUk2gVPN8UKq5glJNoFQTKNUESjWBUk2gVBMo1QRKNYFSTaBUEyjVBEo1gVJNoFQTKNUESjWBUk2gVBMo1QRKNYFSTaBUEyjVBEo1gVJNoFQTKNUESjWBUk2gVBMo1QRKtR/TwRZcXFxMR5/n+PjY+WcscP7p6FO5glJNoDzZTX4lj08fd8mvZHf6WQsTKEmSo+Q6OV2b7CWnyfXgRgXK07VzbzpOkr3kejpbUkegB8llcv20uFwnl8nB9LPYlpNX6lzZS06ms8WMDvQguUtukqPk8Gl4mBwlN8mdTBexvrKfJTvJTnK1Njxae72soYGeJDdvfe/ejPz2/Y7+eXqxXu3ztWNx4wI9Sc6ms/93ptHva1CgB++uc+XMWr+UyyTJ7sv/oJu118saFOjqXfiQDQ7hndZbPEoek/uX953r96PLGhHowex952v2XES35jy5n87+c5+cT2eLGRHo+t33h2x8IPMekp+vNHqf/JzOljQi0I1/M7Hxgbxp1ejkB4PTZD95eDlc1ohAN96z2PhA3uNhbY9pZdzK/mxEoPBuIwLdeM9i4wP5skYEuvE9zcYH8mWNCPRDW/TrNj6Qec9/A/o4/ZfhRgR6+8qOxrz75HY64483ItAkf08Hb9vgEN5p9edLq48ygwK9/eCu+6nL5zc1KNAk5+9u9LRiQ44hxgWa5Dw5nL0fvU8O1fmtDQ00yW2ynxwmV2vbnDfJVXKY7FvZv7slHtzwtls/Aw3Vt7v0bPQVFGZ1XEEZq2936ZkrKNUESjWBUm1n24/Pg9/xI9t/fud09NV4f+Zt9f2xxFNNoFQTKNUESjWBUk2gVBMo1QRKNYFSTaBUEyjVBEo1gVJNoFQTKNUESjWBUk2gVBMo1QRKNYFSTaBUEyjVBEo1gVJNoFQTKNUESjWBUk2gVPN8UKr9Cc8H3fbX/9XPPx19tq1+/ZZ4qgmUagKlmkCpJlCqCZRqAqWaQKkmUKoJlGoCpZpAqSZQqgmUagKlmkCpJlCqCZRqAqWaQKkmUKoJlGoCpZpAqSZQqgmUagKlmkCpJlCqCZRq/wKda5Rzp/62cgAAAABJRU5ErkJggg==",
           "type": "image"
          },
          {
           "name": "11",
           "source": "data:image/png;base64,iVBORw0KGgoAAAANSUhEUgAAAOAAAADgCAIAAACVT/22AAAEcUlEQVR4Xu3c3VEUaRiA0ZctwxDjAPNgIyAB2TiEBIxA8wDiEPNwLyjcsXcZZH6Yx+Wc4mLqle6iup7qr/mk+uj8/Hwga9+BOv96zr/eH8sBlAiUNIGSJlDSBEqaQEkTKGkCJU2gpAmUNIGSJlDSBEqaQEkTKGkCJU2gpAmUNIGSJlDSBEqaQEkTKGkCJU2gpAmUNIGSJlDSBEqaQEk72vfr82Ar+w7U+ddz/vUs8aQJlDSBkiZQ0gRKmkBJEyhpAiVNoKQJlDSBkiZQ0gRKmkBJEyhpAiVNoKQJlDSBkiZQ0gRKmkBJEyhpAiVNoKQJlDSBkiZQ0gRKmkBJ835Q2vYdqPOv5/zrWeJJEyhpAiVNoKQJlDSBkiZQ0gRKmkBJEyhpAiVNoKQJlDSBkiZQ0gRKmkBJEyhpAiVNoKQJlDSBkiZQ0gRKmkBJEyhpAiVNoKQJlDSBkub9oKS5g5ImUNIESppASRMoaQIlTaCkCZQ0gZImUNIESppASRMoaQIlTaCkCZQ0gZImUNIESppASRMoaQIlTaCkCZQ0gZImUNIESppASRMoaQIlTaCkCZS0N8vBHnz69Gk52p3z83PnX+MFzr8c7ZQ7KGmlQN/OfJz5/vD1debjzNvld/GqZAI9m7meuViZHM9czFxr9FVrBHp/7zxejmdmjmeulzNej0agHx6p897xzIfljF06mfk8c/3wcHU983nmZPldB9EIdHVlv5w5mjma+bIyPFv5zA6dzHyduZk5mzl9GJ7OnM3czHw9fKaNQFf99fBhtdof144d+jBz89TadXPg5asXKC/jw8zlcvbfLg/ZaC/QzzMz8/bny3ez8pntnfxynfcuD7bWNwJdvVhnM99n7n5+7lx9HmV793eBZ9ngkF1oBHo1c7ec/eNu5mo5Y3Mna587H3N8mJtoI9BvM+8fafRu5v1yxlZWf/t8lo0P3EIj0HlodPFgdDHzbubbz0O2tPH/zG184BYygc7Mt5U9pntW9n3YeM9u4wO3UAoU/kWgr8/Ge3YbH7gFgb4+Gz/Tb3zgFhqB/vgb0O/Lf2H3nrVFv2rjA7fQCJSXdPvIjt56dzO3y9kLaAR6/+dL91+8gD+Xg6dtcMguNALlhd0+c9f94jC3zxHo63X1y41eHHJDWqCv2NXM6drn0buZ00PWOQJ97W5n3s2cznxZ2ea8mfkyczrz7mAr+w8v8eKGp9ldOqzbg/0O9CR3UNIad1C7SzzCHZQ0gZImUNKO9v36PNjGm9n/+zuXo9+N67PeXq+PJZ40gZImUNIESppASRMoaQIlTaCkCZQ0gZImUNIESppASRMoaQIlTaCkCZQ0gZImUNIESppASRMoaQIlTaCkCZQ0gZImUNIESppASRMoad4PStr/4f2g+/75f/fzL0e7ttef3xJPmkBJEyhpAiVNoKQJlDSBkiZQ0gRKmkBJEyhpAiVNoKQJlDSBkiZQ0gRKmkBJEyhpAiVNoKQJlDSBkiZQ0gRKmkBJEyhpAiVNoKQJlLS/AfTVlHOKn+cSAAAAAElFTkSuQmCC",
           "type": "image"
          }
         ],
         "layout": {
          "margin": {
           "t": 60
          }
         },
         "name": "2"
        },
        {
         "data": [
          {
           "name": "12",
           "source": "data:image/png;base64,iVBORw0KGgoAAAANSUhEUgAAAOAAAADgCAIAAACVT/22AAAEZ0lEQVR4Xu3c3U0cSRhA0Y+VwzCOA5wHGwEJwMZhSMAR2HkAcRjn4X1AeMe9y2Dmh7krzhEPo4IuoeGqqilQH52fnw9k7TtQ869n/vX+WA5AiUBJEyhpAiVNoKQJlDSBkiZQ0gRKmkBJEyhpAiVNoKQJlDSBkiZQ0gRKmkBJEyhpAiVNoKQJlDSBkiZQ0gRKmkBJEyhpAiVNoKQJlLSjfT8+D7ay70DNv57517PFkyZQ0gRKmkBJEyhpAiVNoKQJlDSBkiZQ0gRKmkBJEyhpAiVNoKQJlDSBkiZQ0gRKmkBJEyhpAiVNoKQJlDSBkiZQ0gRKmkBJEyhpAiXN80Fp23eg5l/P/OvZ4kkTKGkCJU2gpAmUNIGSJlDSBEqaQEkTKGkCJU2gpAmUNIGSJlDSBEqaQEkTKGkCJU2gpAmUNIGSJlDSBEqaQEkTKGkCJU2gpAmUNIGS5vmgtO07UPOvZ/71bPGkCZQ0gZImUNIESppASRMoaQIlTaCkCZQ0gZImUNIESppASRMoaQIlTaCkCZQ0gZImUNIESppASRMoaQIlTaCkCZQ0gZImUNIESppASfN8UNKsoKQJlDSBkiZQ0gRKmkBJEyhpAiVNoKQJlDSBkiZQ0gRKmkBJEyhpAiVNoKQJlDSBkiZQ0gRKmkBJEyhpAiVNoKQJlDSBkiZQ0gRKmkBJEyhpAiXt3XJgDz5//rwc2p3z83Pzr/EK8y+HdsoKSlop0Pczn2Z+PH58m/k08375VbwpmUDPZm5mLldGjmcuZ240+qY1An1YO4+XwzMzxzM3yzHejkagF0/U+eB45mI5xi6dzHyZuXm8ubqZ+TJzsvyqg2gEurqzX80czRzNfF0ZPFt5zQ6dzHybuZ05mzl9HDydOZu5nfl2+Ewbga766/HFarU/3zt26GLm9rm96/bA21cvUF7HxczVcuy/XR2y0V6gX2Zm5v2vb9/tymu2d/LbdT64Othe3wh09c06m/kxc//rfefq/Sjbe1gFXmSDS3ahEej1zP1y7B/3M9fLMTZ3sva+8ynHh1lEG4F+n/n4RKP3Mx+XY2xl9bfPF9n4wi00Ap3HRhc3RpczH2a+/zrIljb+y9zGF24hE+jMfF85Y3pgZ9+Hjc/sNr5wC6VA4V8E+vZsfGa38YVbEOjbs/E9/cYXbqER6M//Af2x/Ay796Ij+lUbX7iFRqC8prsnTvTWu5+5W469gkagD/++9PDBK/hzOfC8DS7ZhUagvLK7F566Xx5m+RyBvl3Xv93o5SEPpAX6hl3PnK69H72fOT1knSPQt+5u5sPM6czXlWPO25mvM6czHw62s//0Gg9ueJ7TpcO6O9jvQM+ygpLWWEGdLvEEKyhpAiVNoKQd7fvxebCNd/P/f37ncmjXfP9r7Pvna4snTaCkCZQ0gZImUNIESppASRMoaQIlTaCkCZQ0gZImUNIESppASRMoaQIlTaCkCZQ0gZImUNIESppASRMoaQIlTaCkCZQ0gZImUNIEStrfkrKUz3Ns5eAAAAAASUVORK5CYII=",
           "type": "image"
          },
          {
           "name": "13",
           "source": "data:image/png;base64,iVBORw0KGgoAAAANSUhEUgAAAOAAAADgCAIAAACVT/22AAAEaklEQVR4Xu3c4TEtSQCG4c/WDQNxcPOwEUiAG8clARGQB+JAHvbHKfaYWoNznenPep7y41QzXYpX92hqdo6PjwO1th2o+eeZf95f0wFoIlCqCZRqAqWaQKkmUKoJlGoCpZpAqSZQqgmUagKlmkCpJlCqCZRqAqWaQKkmUKoJlGoCpZpAqSZQqgmUagKlmkCpJlCqCZRqAqWaQKkmUKrtbPvxefBHth2o+eeZf54tnmoCpZpAqSZQqgmUagKlmkCpJlCqCZRqAqWaQKkmUKoJlGoCpZpAqSZQqgmUagKlmkCpJlCqCZRqAqWaQKkmUKoJlGoCpZpAqSZQqgmUagKlmueD0m3bgZp/nvnn2eKpJlCqCZRqAqWaQKkmUKoJlGoCpZpAqSZQqgmUagKlmkCpJlCqCZRqAqWaQKkmUKoJlGoCpZpAqSZQqgmUagKlmkCpJlCqCZRqAqWaQKkmUKp5Pijdth2o+eeZf54tnmoCpZpAqSZQqgmUagKlmkCpJlCqCZRqAqWaQKkmUKoJlGoCpZpAqSZQqgmUagKlmkCpJlCqCZRqAqWaQKkmUKoJlGoCpZpAqSZQqgmUagKlmueDUs0KSjWBUk2gVBMo1QRKNYFSTaBUEyjVBEo1gVJNoFQTKNUESjWBUk2gVBMo1QRKNYFSTaBUEyjVBEo1gVJNoFQTKNUESjWBUk2gVBMo1QRKNYFSTaBUEyjVfkwHtuDi4mI69HmOj4/NP2OB+adDn8oKSjWB8mQ3+Z08Pr3dJb+T3elHLUygJEmOkuvkdG1kLzlNrgc3KlCe1s696XCS7CXX07EldQR6kFwm10+by3VymRxMP4ptOXmlzpW95GQ6tpjRgR4kd8lNcpQcPg0eJkfJTXIn00Ws7+xnyU6yk1ytDR6tvV7W0EBPkpu3fnZvRv74fke/nl6sV/u8dixuXKAnydl07L+dafT7GhTowbvrXDmz1y/lMkmy+/IbdLP2elmDAl19FT5kg0t4p/UWj5LH5P7lfef6/eiyRgR6MHvf+Zo9i+jWnCf307F/3Sfn07HFjAh0/e77Qza+kHkPyc9XGr1Pfk7HljQi0I3/MrHxhbxp1ejkF4PTZD95eDm4rBGBbnxmsfGFvMfD2hnTyrid/dmIQOHdRgS68ZnFxhfyZY0IdON7mo0v5MsaEeiHjujXbXwh857/B/Rx+p7hRgR6+8qJxrz75HY6xv/eiECT/D0deNsGl/BOq39fWr2VGRTo7QdP3U8tn9/UoECTnL+70dOKAzmGGBdokvPkcPZ+9D45VOe3NjTQJLfJfnKYXK0dc94kV8lhsm9n/+6WeHDD2279DjRU3+nSs9ErKMzqWEEZq+906ZkVlGoCpZpAqbaz7cfnwZ/4ka///M7p0Gfz+c/Y9vfXFk81gVJNoFQTKNUESjWBUk2gVBMo1QRKNYFSTaBUEyjVBEo1gVJNoFQTKNUESjWBUk2gVBMo1QRKNYFSTaBUEyjVBEo1gVJNoFQTKNUESjWBUu0fO0iUz44D2QoAAAAASUVORK5CYII=",
           "type": "image"
          },
          {
           "name": "14",
           "source": "data:image/png;base64,iVBORw0KGgoAAAANSUhEUgAAAOAAAADgCAIAAACVT/22AAAEaklEQVR4Xu3c4TEtSQCG4c/WDQNxcPOwEUiAG8clARGQB+JAHvbHKfaYWoNznenPep7y41QzXYpX92hqdo6PjwO1th2o+eeZf95f0wFoIlCqCZRqAqWaQKkmUKoJlGoCpZpAqSZQqgmUagKlmkCpJlCqCZRqAqWaQKkmUKoJlGoCpZpAqSZQqgmUagKlmkCpJlCqCZRqAqWaQKkmUKrtbPvxefBHth2o+eeZf54tnmoCpZpAqSZQqgmUagKlmkCpJlCqCZRqAqWaQKkmUKoJlGoCpZpAqSZQqgmUagKlmkCpJlCqCZRqAqWaQKkmUKoJlGoCpZpAqSZQqgmUagKlmueD0m3bgZp/nvnn2eKpJlCqCZRqAqWaQKkmUKoJlGoCpZpAqSZQqgmUagKlmkCpJlCqCZRqAqWaQKkmUKoJlGoCpZpAqSZQqgmUagKlmkCpJlCqCZRqAqWaQKkmUKp5Pijdth2o+eeZf54tnmoCpZpAqSZQqgmUagKlmkCpJlCqCZRqAqWaQKkmUKoJlGoCpZpAqSZQqgmUagKlmkCpJlCqCZRqAqWaQKkmUKoJlGoCpZpAqSZQqgmUagKlmueDUs0KSjWBUk2gVBMo1QRKNYFSTaBUEyjVBEo1gVJNoFQTKNUESjWBUk2gVBMo1QRKNYFSTaBUEyjVBEo1gVJNoFQTKNUESjWBUk2gVBMo1QRKNYFSTaBUEyjVfkwHtuDi4mI69HmOj4/NP2OB+adDn8oKSjWB8mQ3+Z08Pr3dJb+T3elHLUygJEmOkuvkdG1kLzlNrgc3KlCe1s696XCS7CXX07EldQR6kFwm10+by3VymRxMP4ptOXmlzpW95GQ6tpjRgR4kd8lNcpQcPg0eJkfJTXIn00Ws7+xnyU6yk1ytDR6tvV7W0EBPkpu3fnZvRv74fke/nl6sV/u8dixuXKAnydl07L+dafT7GhTowbvrXDmz1y/lMkmy+/IbdLP2elmDAl19FT5kg0t4p/UWj5LH5P7lfef6/eiyRgR6MHvf+Zo9i+jWnCf307F/3Sfn07HFjAh0/e77Qza+kHkPyc9XGr1Pfk7HljQi0I3/MrHxhbxp1ejkF4PTZD95eDm4rBGBbnxmsfGFvMfD2hnTyrid/dmIQOHdRgS68ZnFxhfyZY0IdON7mo0v5MsaEeiHjujXbXwh857/B/Rx+p7hRgR6+8qJxrz75HY6xv/eiECT/D0deNsGl/BOq39fWr2VGRTo7QdP3U8tn9/UoECTnL+70dOKAzmGGBdokvPkcPZ+9D45VOe3NjTQJLfJfnKYXK0dc94kV8lhsm9n/+6WeHDD2279DjRU3+nSs9ErKMzqWEEZq+906ZkVlGoCpZpAqbaz7cfnwZ/4ka///M7p0Gfz+c/Y9vfXFk81gVJNoFQTKNUESjWBUk2gVBMo1QRKNYFSTaBUEyjVBEo1gVJNoFQTKNUESjWBUk2gVBMo1QRKNYFSTaBUEyjVBEo1gVJNoFQTKNUESjWBUu0fO0iUz44D2QoAAAAASUVORK5CYII=",
           "type": "image"
          },
          {
           "name": "15",
           "source": "data:image/png;base64,iVBORw0KGgoAAAANSUhEUgAAAOAAAADgCAIAAACVT/22AAAEZ0lEQVR4Xu3c3U0cSRhA0Y+VwzCOA5wHGwEJwMZhSMAR2HkAcRjn4X1AeMe9y2Dmh7krzhEPo4IuoeGqqilQH52fnw9k7TtQ869n/vX+WA5AiUBJEyhpAiVNoKQJlDSBkiZQ0gRKmkBJEyhpAiVNoKQJlDSBkiZQ0gRKmkBJEyhpAiVNoKQJlDSBkiZQ0gRKmkBJEyhpAiVNoKQJlLSjfT8+D7ay70DNv57517PFkyZQ0gRKmkBJEyhpAiVNoKQJlDSBkiZQ0gRKmkBJEyhpAiVNoKQJlDSBkiZQ0gRKmkBJEyhpAiVNoKQJlDSBkiZQ0gRKmkBJEyhpAiXN80Fp23eg5l/P/OvZ4kkTKGkCJU2gpAmUNIGSJlDSBEqaQEkTKGkCJU2gpAmUNIGSJlDSBEqaQEkTKGkCJU2gpAmUNIGSJlDSBEqaQEkTKGkCJU2gpAmUNIGS5vmgtO07UPOvZ/71bPGkCZQ0gZImUNIESppASRMoaQIlTaCkCZQ0gZImUNIESppASRMoaQIlTaCkCZQ0gZImUNIESppASRMoaQIlTaCkCZQ0gZImUNIESppASfN8UNKsoKQJlDSBkiZQ0gRKmkBJEyhpAiVNoKQJlDSBkiZQ0gRKmkBJEyhpAiVNoKQJlDSBkiZQ0gRKmkBJEyhpAiVNoKQJlDSBkiZQ0gRKmkBJEyhpAiXt3XJgDz5//rwc2p3z83Pzr/EK8y+HdsoKSlop0Pczn2Z+PH58m/k08375VbwpmUDPZm5mLldGjmcuZ240+qY1An1YO4+XwzMzxzM3yzHejkagF0/U+eB45mI5xi6dzHyZuXm8ubqZ+TJzsvyqg2gEurqzX80czRzNfF0ZPFt5zQ6dzHybuZ05mzl9HDydOZu5nfl2+Ewbga766/HFarU/3zt26GLm9rm96/bA21cvUF7HxczVcuy/XR2y0V6gX2Zm5v2vb9/tymu2d/LbdT64Othe3wh09c06m/kxc//rfefq/Sjbe1gFXmSDS3ahEej1zP1y7B/3M9fLMTZ3sva+8ynHh1lEG4F+n/n4RKP3Mx+XY2xl9bfPF9n4wi00Ap3HRhc3RpczH2a+/zrIljb+y9zGF24hE+jMfF85Y3pgZ9+Hjc/sNr5wC6VA4V8E+vZsfGa38YVbEOjbs/E9/cYXbqER6M//Af2x/Ay796Ij+lUbX7iFRqC8prsnTvTWu5+5W469gkagD/++9PDBK/hzOfC8DS7ZhUagvLK7F566Xx5m+RyBvl3Xv93o5SEPpAX6hl3PnK69H72fOT1knSPQt+5u5sPM6czXlWPO25mvM6czHw62s//0Gg9ueJ7TpcO6O9jvQM+ygpLWWEGdLvEEKyhpAiVNoKQd7fvxebCNd/P/f37ncmjXfP9r7Pvna4snTaCkCZQ0gZImUNIESppASRMoaQIlTaCkCZQ0gZImUNIESppASRMoaQIlTaCkCZQ0gZImUNIESppASRMoaQIlTaCkCZQ0gZImUNIEStrfkrKUz3Ns5eAAAAAASUVORK5CYII=",
           "type": "image"
          }
         ],
         "layout": {
          "margin": {
           "t": 60
          }
         },
         "name": "3"
        },
        {
         "data": [
          {
           "name": "16",
           "source": "data:image/png;base64,iVBORw0KGgoAAAANSUhEUgAAAOAAAADgCAIAAACVT/22AAAEXUlEQVR4Xu3c3U1bSRiA4Y/VlhFSB6QPtgIaCFtHoIFUkPQB1BHSR/YCkXXOLib4B7+Sn0dcWIPPXFivZo4HdE4uLy8HsvYdqPnXM/96fywHoESgpAmUNIGSJlDSBEqaQEkTKGkCJU2gpAmUNIGSJlDSBEqaQEkTKGkCJU2gpAmUNIGSJlDSBEqaQEkTKGkCJU2gpAmUNIGSJlDSBErayb4fnwdb2Xeg5l/P/OvZ4kkTKGkCJU2gpAmUNIGSJlDSBEqaQEkTKGkCJU2gpAmUNIGSJlDSBEqaQEkTKGkCJU2gpAmUNIGSJlDSBEqaQEkTKGkCJU2gpAmUNIGS5vmgtO07UPOvZ/71bPGkCZQ0gZImUNIESppASRMoaQIlTaCkCZQ0gZImUNIESppASRMoaQIlTaCkCZQ0gZImUNIESppASRMoaQIlTaCkCZQ0gZImUNIESppASfN8UNr2Haj51zP/erZ40gRKmkBJEyhpAiVNoKQJlDSBkiZQ0gRKmkBJEyhpAiVNoKQJlDSBkiZQ0gRKmkBJEyhpAiVNoKQJlDSBkiZQ0gRKmkBJEyhpAiVNoKR5Piht+w7U/OuZfz1bPGkCJU2gpAmUNIGSJlDSBEqaQEkTKGkCJU2gpAmUNIGSJlDSBEqaQEkTKGkCJU2gpAmUNIGSJlDSBEqaQEkTKGkCJU2gpAmUNIGSJlDSPB+UNCsoaQIlTaCkCZQ0gZImUNIESppASRMoaQIlTaCkCZQ0gZImUNIESppASRMoaQIlTaCkCZQ0gZImUNIESppASRMoaQIlTaCkCZQ0gZImUNIESppASftzObAHnz9/Xg7tzuXlpfnXeIP5l0M7ZQUlrRTou5lPMz+efr7NfJp5t3wXRyUT6MXM7czVysjpzNXMrUaPWiPQx7XzdDk8M3M6c7sc43g0Av34TJ2PTmc+LsfYpbOZLzO3TzdXtzNfZs6W7zqIRqCrO/v1zMnMyczXlcGLldfs0NnMt5m7mYuZ86fB85mLmbuZb4fPtBHoqr+fXqxW+/OzY4c+zty9tHfdHXj76gXK2/g4c70c+3/Xh2y0F+iXmZl59+vHd7fymu2d/Xadj64Pttc3Al39sC5mfsw8/HrfuXo/yvYeV4FX2eCSXWgEejPzsBz718PMzXKMzZ2tve98zulhFtFGoN9nPjzT6MPMh+UYW1n99vkqG1+4hUag89To4sboaub9zPdfB9nSxn+Z2/jCLWQCnZnvK2dMj+zs+7Dxmd3GF26hFCj8h0CPz8ZndhtfuAWBHp+N7+k3vnALjUB//g/oj+Vv2L1XHdGv2vjCLTQC5S3dP3Oit97DzP1y7A00An3896XHH97AX8uBl21wyS40AuWN3b/y1P3qMMvnCPR43fx2o1eHPJAW6BG7mTlfez/6MHN+yDpHoMfufub9zPnM15VjzruZrzPnM+8PtrP/9BYPbniZ06XDuj/Yd6AXWUFJa6ygTpd4hhWUNIGSJlDS/gGVB48rdMwvRQAAAABJRU5ErkJggg==",
           "type": "image"
          },
          {
           "name": "17",
           "source": "data:image/png;base64,iVBORw0KGgoAAAANSUhEUgAAAOAAAADgCAIAAACVT/22AAAEYUlEQVR4Xu3c0VEjRwBF0YfLYcDGAZsHjoAEYONYSIAIIA9EHIg88IcKLKbMAPJq+q05p/hQNUx/wKV71FBzcHZ2Fqi170DNP8/88/6YDkATgVJNoFQTKNUESjWBUk2gVBMo1QRKNYFSTaBUEyjVBEo1gVJNoFQTKNUESjWBUk2gVBMo1QRKNYFSTaBUEyjVBEo1gVJNoFQTKNUESjWBUu1g34/Pg/9k34Gaf57559niqSZQqgmUagKlmkCpJlCqCZRqAqWaQKkmUKoJlGoCpZpAqSZQqgmUagKlmkCpJlCqCZRqAqWaQKkmUKoJlGoCpZpAqSZQqgmUagKlmkCpJlCqeT4o3fYdqPnnmX+eLZ5qAqWaQKkmUKoJlGoCpZpAqSZQqgmUagKlmkCpJlCqCZRqAqWaQKkmUKoJlGoCpZpAqSZQqgmUagKlmkCpJlCqCZRqAqWaQKkmUKoJlGoCpZrng9Jt34Gaf57559niqSZQqgmUagKlmkCpJlCqCZRqAqWaQKkmUKoJlGoCpZpAqSZQqgmUagKlmkCpJlCqCZRqAqWaQKkmUKoJlGoCpZpAqSZQqgmUagKlmkCpJlCqeT4o3fYdqPnnmX+eLZ5qAqWaQKkmUKoJlGoCpZpAqSZQqgmUagKlmkCpJlCqCZRqAqWaQKkmUKoJlGoCpZpAqSZQqgmUagKlmkCpJlCqCZRqAqWaQKkmUKoJlGoCpZrng1LNCko1gVJNoFQTKNUESjWBUk2gVBMo1QRKNYFSTaBUEyjVBEo1gVJNoFQTKNUESjWBUk2gVBMo1QRKNYFSTaBUEyjVBEo1gVJNoFQTKNUESjWBUk2gVBMo1f6cDuzB9fX1dOjXOTs7M/+MBeafDv1SVlCqCZRnh8nP5On54yH5mRxOv2phAiVJcprcJRdbI0fJRXI3uFGB8rx2Hk2Hk+QouZuOLakj0OPkJrl73lzukpvkePpV7Mv5G3VuHCXn07HFjA70OHlIVslpcvI8eJKcJqvkQaaL2N7ZL5OD5CC53Ro83Xq9rKGBnier9353VyN/fb+iH88vtqt9WTsWNy7Q8+RyOvbvLjX6dQ0K9PjDdW5c2uuXcpMkOXz9A1ptvV7WoEA334VP2eESPmi7xdPkKVm/vu/cvh9d1ohAj2fvO99yZBHdm6tkPR37xzq5mo4tZkSg23ffn7Lzhcx7TL6/0eg6+T4dW9KIQHf+y8TOF/KuTaOTNwYXybfk8fXgskYEuvOZxc4X8hGPW2dMG+N29hcjAoUPGxHozmcWO1/Ib2tEoDvf0+x8Ib+tEYF+6oh+284XMu/lf0Cfpp8ZbkSg92+caMxbJ/fTMf73RgSa5K/pwPt2uIQP2vz70uajzKBA7z956n5h+fyiBgWa5OrDjV5UHMgxxLhAk1wlJ7P3o+vkRJ1f2tBAk9wn35KT5HbrmHOV3CYnyTc7+1e3xIMb3nfvPdBQfadLL0avoDCrYwVlrL7TpRdWUKoJlGoCpdrfPZ2PKz3yg+4AAAAASUVORK5CYII=",
           "type": "image"
          },
          {
           "name": "18",
           "source": "data:image/png;base64,iVBORw0KGgoAAAANSUhEUgAAAOAAAADgCAIAAACVT/22AAAEYUlEQVR4Xu3c0VEjRwBF0YfLYcDGAZsHjoAEYONYSIAIIA9EHIg88IcKLKbMAPJq+q05p/hQNUx/wKV71FBzcHZ2Fqi170DNP8/88/6YDkATgVJNoFQTKNUESjWBUk2gVBMo1QRKNYFSTaBUEyjVBEo1gVJNoFQTKNUESjWBUk2gVBMo1QRKNYFSTaBUEyjVBEo1gVJNoFQTKNUESjWBUu1g34/Pg/9k34Gaf57559niqSZQqgmUagKlmkCpJlCqCZRqAqWaQKkmUKoJlGoCpZpAqSZQqgmUagKlmkCpJlCqCZRqAqWaQKkmUKoJlGoCpZpAqSZQqgmUagKlmkCpJlCqeT4o3fYdqPnnmX+eLZ5qAqWaQKkmUKoJlGoCpZpAqSZQqgmUagKlmkCpJlCqCZRqAqWaQKkmUKoJlGoCpZpAqSZQqgmUagKlmkCpJlCqCZRqAqWaQKkmUKoJlGoCpZrng9Jt34Gaf57559niqSZQqgmUagKlmkCpJlCqCZRqAqWaQKkmUKoJlGoCpZpAqSZQqgmUagKlmkCpJlCqCZRqAqWaQKkmUKoJlGoCpZpAqSZQqgmUagKlmkCpJlCqeT4o3fYdqPnnmX+eLZ5qAqWaQKkmUKoJlGoCpZpAqSZQqgmUagKlmkCpJlCqCZRqAqWaQKkmUKoJlGoCpZpAqSZQqgmUagKlmkCpJlCqCZRqAqWaQKkmUKoJlGoCpZrng1LNCko1gVJNoFQTKNUESjWBUk2gVBMo1QRKNYFSTaBUEyjVBEo1gVJNoFQTKNUESjWBUk2gVBMo1QRKNYFSTaBUEyjVBEo1gVJNoFQTKNUESjWBUk2gVBMo1f6cDuzB9fX1dOjXOTs7M/+MBeafDv1SVlCqCZRnh8nP5On54yH5mRxOv2phAiVJcprcJRdbI0fJRXI3uFGB8rx2Hk2Hk+QouZuOLakj0OPkJrl73lzukpvkePpV7Mv5G3VuHCXn07HFjA70OHlIVslpcvI8eJKcJqvkQaaL2N7ZL5OD5CC53Ro83Xq9rKGBnier9353VyN/fb+iH88vtqt9WTsWNy7Q8+RyOvbvLjX6dQ0K9PjDdW5c2uuXcpMkOXz9A1ptvV7WoEA334VP2eESPmi7xdPkKVm/vu/cvh9d1ohAj2fvO99yZBHdm6tkPR37xzq5mo4tZkSg23ffn7Lzhcx7TL6/0eg6+T4dW9KIQHf+y8TOF/KuTaOTNwYXybfk8fXgskYEuvOZxc4X8hGPW2dMG+N29hcjAoUPGxHozmcWO1/Ib2tEoDvf0+x8Ib+tEYF+6oh+284XMu/lf0Cfpp8ZbkSg92+caMxbJ/fTMf73RgSa5K/pwPt2uIQP2vz70uajzKBA7z956n5h+fyiBgWa5OrDjV5UHMgxxLhAk1wlJ7P3o+vkRJ1f2tBAk9wn35KT5HbrmHOV3CYnyTc7+1e3xIMb3nfvPdBQfadLL0avoDCrYwVlrL7TpRdWUKoJlGoCpdrfPZ2PKz3yg+4AAAAASUVORK5CYII=",
           "type": "image"
          },
          {
           "name": "19",
           "source": "data:image/png;base64,iVBORw0KGgoAAAANSUhEUgAAAOAAAADgCAIAAACVT/22AAAEXUlEQVR4Xu3c3U1bSRiA4Y/VlhFSB6QPtgIaCFtHoIFUkPQB1BHSR/YCkXXOLib4B7+Sn0dcWIPPXFivZo4HdE4uLy8HsvYdqPnXM/96fywHoESgpAmUNIGSJlDSBEqaQEkTKGkCJU2gpAmUNIGSJlDSBEqaQEkTKGkCJU2gpAmUNIGSJlDSBEqaQEkTKGkCJU2gpAmUNIGSJlDSBErayb4fnwdb2Xeg5l/P/OvZ4kkTKGkCJU2gpAmUNIGSJlDSBEqaQEkTKGkCJU2gpAmUNIGSJlDSBEqaQEkTKGkCJU2gpAmUNIGSJlDSBEqaQEkTKGkCJU2gpAmUNIGS5vmgtO07UPOvZ/71bPGkCZQ0gZImUNIESppASRMoaQIlTaCkCZQ0gZImUNIESppASRMoaQIlTaCkCZQ0gZImUNIESppASRMoaQIlTaCkCZQ0gZImUNIESppASfN8UNr2Haj51zP/erZ40gRKmkBJEyhpAiVNoKQJlDSBkiZQ0gRKmkBJEyhpAiVNoKQJlDSBkiZQ0gRKmkBJEyhpAiVNoKQJlDSBkiZQ0gRKmkBJEyhpAiVNoKR5Piht+w7U/OuZfz1bPGkCJU2gpAmUNIGSJlDSBEqaQEkTKGkCJU2gpAmUNIGSJlDSBEqaQEkTKGkCJU2gpAmUNIGSJlDSBEqaQEkTKGkCJU2gpAmUNIGSJlDSPB+UNCsoaQIlTaCkCZQ0gZImUNIESppASRMoaQIlTaCkCZQ0gZImUNIESppASRMoaQIlTaCkCZQ0gZImUNIESppASRMoaQIlTaCkCZQ0gZImUNIESppASftzObAHnz9/Xg7tzuXlpfnXeIP5l0M7ZQUlrRTou5lPMz+efr7NfJp5t3wXRyUT6MXM7czVysjpzNXMrUaPWiPQx7XzdDk8M3M6c7sc43g0Av34TJ2PTmc+LsfYpbOZLzO3TzdXtzNfZs6W7zqIRqCrO/v1zMnMyczXlcGLldfs0NnMt5m7mYuZ86fB85mLmbuZb4fPtBHoqr+fXqxW+/OzY4c+zty9tHfdHXj76gXK2/g4c70c+3/Xh2y0F+iXmZl59+vHd7fymu2d/Xadj64Pttc3Al39sC5mfsw8/HrfuXo/yvYeV4FX2eCSXWgEejPzsBz718PMzXKMzZ2tve98zulhFtFGoN9nPjzT6MPMh+UYW1n99vkqG1+4hUag89To4sboaub9zPdfB9nSxn+Z2/jCLWQCnZnvK2dMj+zs+7Dxmd3GF26hFCj8h0CPz8ZndhtfuAWBHp+N7+k3vnALjUB//g/oj+Vv2L1XHdGv2vjCLTQC5S3dP3Oit97DzP1y7A00An3896XHH97AX8uBl21wyS40AuWN3b/y1P3qMMvnCPR43fx2o1eHPJAW6BG7mTlfez/6MHN+yDpHoMfufub9zPnM15VjzruZrzPnM+8PtrP/9BYPbniZ06XDuj/Yd6AXWUFJa6ygTpd4hhWUNIGSJlDS/gGVB48rdMwvRQAAAABJRU5ErkJggg==",
           "type": "image"
          }
         ],
         "layout": {
          "margin": {
           "t": 60
          }
         },
         "name": "4"
        }
       ],
       "layout": {
        "annotations": [
         {
          "font": {},
          "showarrow": false,
          "text": "facet_col=0",
          "x": 0.1175,
          "xanchor": "center",
          "xref": "paper",
          "y": 1,
          "yanchor": "bottom",
          "yref": "paper"
         },
         {
          "font": {},
          "showarrow": false,
          "text": "facet_col=1",
          "x": 0.3725,
          "xanchor": "center",
          "xref": "paper",
          "y": 1,
          "yanchor": "bottom",
          "yref": "paper"
         },
         {
          "font": {},
          "showarrow": false,
          "text": "facet_col=2",
          "x": 0.6275,
          "xanchor": "center",
          "xref": "paper",
          "y": 1,
          "yanchor": "bottom",
          "yref": "paper"
         },
         {
          "font": {},
          "showarrow": false,
          "text": "facet_col=3",
          "x": 0.8824999999999998,
          "xanchor": "center",
          "xref": "paper",
          "y": 1,
          "yanchor": "bottom",
          "yref": "paper"
         }
        ],
        "margin": {
         "t": 60
        },
        "sliders": [
         {
          "active": 0,
          "currentvalue": {
           "prefix": "animation_frame="
          },
          "len": 0.9,
          "pad": {
           "b": 10,
           "t": 60
          },
          "steps": [
           {
            "args": [
             [
              "0"
             ],
             {
              "frame": {
               "duration": 0,
               "redraw": true
              },
              "fromcurrent": true,
              "mode": "immediate",
              "transition": {
               "duration": 0,
               "easing": "linear"
              }
             }
            ],
            "label": "0",
            "method": "animate"
           },
           {
            "args": [
             [
              "1"
             ],
             {
              "frame": {
               "duration": 0,
               "redraw": true
              },
              "fromcurrent": true,
              "mode": "immediate",
              "transition": {
               "duration": 0,
               "easing": "linear"
              }
             }
            ],
            "label": "1",
            "method": "animate"
           },
           {
            "args": [
             [
              "2"
             ],
             {
              "frame": {
               "duration": 0,
               "redraw": true
              },
              "fromcurrent": true,
              "mode": "immediate",
              "transition": {
               "duration": 0,
               "easing": "linear"
              }
             }
            ],
            "label": "2",
            "method": "animate"
           },
           {
            "args": [
             [
              "3"
             ],
             {
              "frame": {
               "duration": 0,
               "redraw": true
              },
              "fromcurrent": true,
              "mode": "immediate",
              "transition": {
               "duration": 0,
               "easing": "linear"
              }
             }
            ],
            "label": "3",
            "method": "animate"
           },
           {
            "args": [
             [
              "4"
             ],
             {
              "frame": {
               "duration": 0,
               "redraw": true
              },
              "fromcurrent": true,
              "mode": "immediate",
              "transition": {
               "duration": 0,
               "easing": "linear"
              }
             }
            ],
            "label": "4",
            "method": "animate"
           }
          ],
          "x": 0.1,
          "xanchor": "left",
          "y": 0,
          "yanchor": "top"
         }
        ],
        "template": {
         "data": {
          "candlestick": [
           {
            "decreasing": {
             "line": {
              "color": "#000033"
             }
            },
            "increasing": {
             "line": {
              "color": "#000032"
             }
            },
            "type": "candlestick"
           }
          ],
          "contour": [
           {
            "colorscale": [
             [
              0,
              "#000011"
             ],
             [
              0.1111111111111111,
              "#000012"
             ],
             [
              0.2222222222222222,
              "#000013"
             ],
             [
              0.3333333333333333,
              "#000014"
             ],
             [
              0.4444444444444444,
              "#000015"
             ],
             [
              0.5555555555555556,
              "#000016"
             ],
             [
              0.6666666666666666,
              "#000017"
             ],
             [
              0.7777777777777778,
              "#000018"
             ],
             [
              0.8888888888888888,
              "#000019"
             ],
             [
              1,
              "#000020"
             ]
            ],
            "type": "contour"
           }
          ],
          "contourcarpet": [
           {
            "colorscale": [
             [
              0,
              "#000011"
             ],
             [
              0.1111111111111111,
              "#000012"
             ],
             [
              0.2222222222222222,
              "#000013"
             ],
             [
              0.3333333333333333,
              "#000014"
             ],
             [
              0.4444444444444444,
              "#000015"
             ],
             [
              0.5555555555555556,
              "#000016"
             ],
             [
              0.6666666666666666,
              "#000017"
             ],
             [
              0.7777777777777778,
              "#000018"
             ],
             [
              0.8888888888888888,
              "#000019"
             ],
             [
              1,
              "#000020"
             ]
            ],
            "type": "contourcarpet"
           }
          ],
          "heatmap": [
           {
            "colorscale": [
             [
              0,
              "#000011"
             ],
             [
              0.1111111111111111,
              "#000012"
             ],
             [
              0.2222222222222222,
              "#000013"
             ],
             [
              0.3333333333333333,
              "#000014"
             ],
             [
              0.4444444444444444,
              "#000015"
             ],
             [
              0.5555555555555556,
              "#000016"
             ],
             [
              0.6666666666666666,
              "#000017"
             ],
             [
              0.7777777777777778,
              "#000018"
             ],
             [
              0.8888888888888888,
              "#000019"
             ],
             [
              1,
              "#000020"
             ]
            ],
            "type": "heatmap"
           }
          ],
          "histogram2d": [
           {
            "colorscale": [
             [
              0,
              "#000011"
             ],
             [
              0.1111111111111111,
              "#000012"
             ],
             [
              0.2222222222222222,
              "#000013"
             ],
             [
              0.3333333333333333,
              "#000014"
             ],
             [
              0.4444444444444444,
              "#000015"
             ],
             [
              0.5555555555555556,
              "#000016"
             ],
             [
              0.6666666666666666,
              "#000017"
             ],
             [
              0.7777777777777778,
              "#000018"
             ],
             [
              0.8888888888888888,
              "#000019"
             ],
             [
              1,
              "#000020"
             ]
            ],
            "type": "histogram2d"
           }
          ],
          "icicle": [
           {
            "textfont": {
             "color": "white"
            },
            "type": "icicle"
           }
          ],
          "sankey": [
           {
            "textfont": {
             "color": "#000036"
            },
            "type": "sankey"
           }
          ],
          "scatter": [
           {
            "marker": {
             "line": {
              "width": 0
             }
            },
            "type": "scatter"
           }
          ],
          "table": [
           {
            "cells": {
             "fill": {
              "color": "#000038"
             },
             "font": {
              "color": "#000037"
             },
             "line": {
              "color": "#000039"
             }
            },
            "header": {
             "fill": {
              "color": "#000040"
             },
             "font": {
              "color": "#000036"
             },
             "line": {
              "color": "#000039"
             }
            },
            "type": "table"
           }
          ],
          "waterfall": [
           {
            "connector": {
             "line": {
              "color": "#000036",
              "width": 2
             }
            },
            "decreasing": {
             "marker": {
              "color": "#000033"
             }
            },
            "increasing": {
             "marker": {
              "color": "#000032"
             }
            },
            "totals": {
             "marker": {
              "color": "#000034"
             }
            },
            "type": "waterfall"
           }
          ]
         },
         "layout": {
          "coloraxis": {
           "colorscale": [
            [
             0,
             "#000011"
            ],
            [
             0.1111111111111111,
             "#000012"
            ],
            [
             0.2222222222222222,
             "#000013"
            ],
            [
             0.3333333333333333,
             "#000014"
            ],
            [
             0.4444444444444444,
             "#000015"
            ],
            [
             0.5555555555555556,
             "#000016"
            ],
            [
             0.6666666666666666,
             "#000017"
            ],
            [
             0.7777777777777778,
             "#000018"
            ],
            [
             0.8888888888888888,
             "#000019"
            ],
            [
             1,
             "#000020"
            ]
           ]
          },
          "colorscale": {
           "diverging": [
            [
             0,
             "#000021"
            ],
            [
             0.1,
             "#000022"
            ],
            [
             0.2,
             "#000023"
            ],
            [
             0.3,
             "#000024"
            ],
            [
             0.4,
             "#000025"
            ],
            [
             0.5,
             "#000026"
            ],
            [
             0.6,
             "#000027"
            ],
            [
             0.7,
             "#000028"
            ],
            [
             0.8,
             "#000029"
            ],
            [
             0.9,
             "#000030"
            ],
            [
             1,
             "#000031"
            ]
           ],
           "sequential": [
            [
             0,
             "#000011"
            ],
            [
             0.1111111111111111,
             "#000012"
            ],
            [
             0.2222222222222222,
             "#000013"
            ],
            [
             0.3333333333333333,
             "#000014"
            ],
            [
             0.4444444444444444,
             "#000015"
            ],
            [
             0.5555555555555556,
             "#000016"
            ],
            [
             0.6666666666666666,
             "#000017"
            ],
            [
             0.7777777777777778,
             "#000018"
            ],
            [
             0.8888888888888888,
             "#000019"
            ],
            [
             1,
             "#000020"
            ]
           ],
           "sequentialminus": [
            [
             0,
             "#000011"
            ],
            [
             0.1111111111111111,
             "#000012"
            ],
            [
             0.2222222222222222,
             "#000013"
            ],
            [
             0.3333333333333333,
             "#000014"
            ],
            [
             0.4444444444444444,
             "#000015"
            ],
            [
             0.5555555555555556,
             "#000016"
            ],
            [
             0.6666666666666666,
             "#000017"
            ],
            [
             0.7777777777777778,
             "#000018"
            ],
            [
             0.8888888888888888,
             "#000019"
            ],
            [
             1,
             "#000020"
            ]
           ]
          },
          "colorway": [
           "#000001",
           "#000002",
           "#000003",
           "#000004",
           "#000005",
           "#000006",
           "#000007",
           "#000008",
           "#000009",
           "#000010"
          ]
         }
        },
        "updatemenus": [
         {
          "buttons": [
           {
            "args": [
             null,
             {
              "frame": {
               "duration": 500,
               "redraw": true
              },
              "fromcurrent": true,
              "mode": "immediate",
              "transition": {
               "duration": 500,
               "easing": "linear"
              }
             }
            ],
            "label": "&#9654;",
            "method": "animate"
           },
           {
            "args": [
             [
              null
             ],
             {
              "frame": {
               "duration": 0,
               "redraw": true
              },
              "fromcurrent": true,
              "mode": "immediate",
              "transition": {
               "duration": 0,
               "easing": "linear"
              }
             }
            ],
            "label": "&#9724;",
            "method": "animate"
           }
          ],
          "direction": "left",
          "pad": {
           "r": 10,
           "t": 70
          },
          "showactive": false,
          "type": "buttons",
          "x": 0.1,
          "xanchor": "right",
          "y": 0,
          "yanchor": "top"
         }
        ],
        "xaxis": {
         "anchor": "y",
         "domain": [
          0,
          0.235
         ]
        },
        "xaxis2": {
         "anchor": "y2",
         "domain": [
          0.255,
          0.49
         ],
         "matches": "x"
        },
        "xaxis3": {
         "anchor": "y3",
         "domain": [
          0.51,
          0.745
         ],
         "matches": "x"
        },
        "xaxis4": {
         "anchor": "y4",
         "domain": [
          0.7649999999999999,
          0.9999999999999999
         ],
         "matches": "x"
        },
        "yaxis": {
         "anchor": "x",
         "domain": [
          0,
          1
         ]
        },
        "yaxis2": {
         "anchor": "x2",
         "domain": [
          0,
          1
         ],
         "matches": "y",
         "showticklabels": false
        },
        "yaxis3": {
         "anchor": "x3",
         "domain": [
          0,
          1
         ],
         "matches": "y",
         "showticklabels": false
        },
        "yaxis4": {
         "anchor": "x4",
         "domain": [
          0,
          1
         ],
         "matches": "y",
         "showticklabels": false
        }
       }
      }
     },
     "metadata": {},
     "output_type": "display_data"
    }
   ],
   "source": [
    "# to view them we can use \n",
    "from src.visualization import render_minigrid_observations\n",
    "import plotly.express as px\n",
    "\n",
    "images = torch.stack([torch.from_numpy(render_minigrid_observations(env, s)) for s in all_observations])\n",
    "images.shape\n",
    "\n",
    "px.imshow(images, animation_frame=1, facet_col=0).show()"
   ]
  },
  {
   "cell_type": "code",
   "execution_count": null,
   "metadata": {},
   "outputs": [],
   "source": []
  }
 ],
 "metadata": {
  "kernelspec": {
   "display_name": "decision_transformer_interpretability",
   "language": "python",
   "name": "python3"
  },
  "language_info": {
   "codemirror_mode": {
    "name": "ipython",
    "version": 3
   },
   "file_extension": ".py",
   "mimetype": "text/x-python",
   "name": "python",
   "nbconvert_exporter": "python",
   "pygments_lexer": "ipython3",
   "version": "3.10.9"
  }
 },
 "nbformat": 4,
 "nbformat_minor": 2
}
